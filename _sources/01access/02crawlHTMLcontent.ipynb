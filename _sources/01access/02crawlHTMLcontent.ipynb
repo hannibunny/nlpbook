{
 "cells": [
  {
   "cell_type": "markdown",
   "metadata": {
    "slideshow": {
     "slide_type": "slide"
    }
   },
   "source": [
    "# Access Contents of HTML Page\n",
    "\n",
    "- Author:      Johannes Maucher\n",
    "- Last update: 2018-10-21\n",
    "\n",
    "This notebook demonstrates how to parse a HTML document and access dedicated elements of the parse tree.\n",
    "[Beautiful Soup](http://www.crummy.com/software/BeautifulSoup/bs4/doc/#) is a python package for parsing HTML. Download and install version 4 by typing:\n",
    "\n",
    "> `pip install beautifulsoup4`\n",
    "\n",
    "into the command shell. Once it is installed it can be imported by"
   ]
  },
  {
   "cell_type": "code",
   "execution_count": 1,
   "metadata": {
    "ExecuteTime": {
     "end_time": "2017-10-20T12:50:00.898000Z",
     "start_time": "2017-10-20T12:50:00.893000Z"
    },
    "slideshow": {
     "slide_type": "fragment"
    }
   },
   "outputs": [],
   "source": [
    "from bs4 import BeautifulSoup"
   ]
  },
  {
   "cell_type": "markdown",
   "metadata": {
    "slideshow": {
     "slide_type": "slide"
    }
   },
   "source": [
    "For accessing arbitrary resources by URL the python modul [urllib](https://docs.python.org/2/library/urllib.html) must also be installed. Import the method _urlopen()_ from this module:  "
   ]
  },
  {
   "cell_type": "code",
   "execution_count": 2,
   "metadata": {
    "ExecuteTime": {
     "end_time": "2017-10-20T12:50:02.246000Z",
     "start_time": "2017-10-20T12:50:02.242000Z"
    },
    "slideshow": {
     "slide_type": "fragment"
    }
   },
   "outputs": [],
   "source": [
    "from urllib.request import urlopen"
   ]
  },
  {
   "cell_type": "markdown",
   "metadata": {
    "slideshow": {
     "slide_type": "fragment"
    }
   },
   "source": [
    "If these two modules are available the HTML parse tree of the specified URL can easily be generated as follows."
   ]
  },
  {
   "cell_type": "code",
   "execution_count": 3,
   "metadata": {
    "ExecuteTime": {
     "end_time": "2017-10-20T12:50:04.344000Z",
     "start_time": "2017-10-20T12:50:03.569000Z"
    },
    "slideshow": {
     "slide_type": "fragment"
    }
   },
   "outputs": [],
   "source": [
    "#url=\"http://www.zeit.de\"\n",
    "url=\"http://www.spiegel.de\"\n",
    "#url=\"http://www.sueddeutsche.de\"\n",
    "html=urlopen(url).read()\n",
    "soup=BeautifulSoup(html,\"html.parser\")"
   ]
  },
  {
   "cell_type": "markdown",
   "metadata": {
    "slideshow": {
     "slide_type": "slide"
    }
   },
   "source": [
    "Now e.g. the title of the URL can be accessed by:"
   ]
  },
  {
   "cell_type": "code",
   "execution_count": 4,
   "metadata": {
    "ExecuteTime": {
     "end_time": "2017-10-20T12:50:06.092000Z",
     "start_time": "2017-10-20T12:50:06.086000Z"
    },
    "slideshow": {
     "slide_type": "fragment"
    }
   },
   "outputs": [
    {
     "name": "stdout",
     "output_type": "stream",
     "text": [
      "Title of page:   DER SPIEGEL | Online-Nachrichten\n"
     ]
    }
   ],
   "source": [
    "titleTag = soup.html.head.title\n",
    "print(\"Title of page:  \",titleTag.string)"
   ]
  },
  {
   "cell_type": "markdown",
   "metadata": {
    "slideshow": {
     "slide_type": "slide"
    }
   },
   "source": [
    "## Get all links in the page\n",
    "All links in the page can be retrieven by the following code (only the first 20 links are printed)"
   ]
  },
  {
   "cell_type": "code",
   "execution_count": 5,
   "metadata": {
    "ExecuteTime": {
     "end_time": "2017-10-20T12:50:07.973000Z",
     "start_time": "2017-10-20T12:50:07.951000Z"
    },
    "slideshow": {
     "slide_type": "fragment"
    }
   },
   "outputs": [
    {
     "name": "stdout",
     "output_type": "stream",
     "text": [
      "Number of links in this page:  601\n",
      "#Inhalt\n",
      "https://www.spiegel.de/\n",
      "https://abo.spiegel.de/?b=SPOHNAVABO&requestAccessToken=true&sara_icid=disp_upd_9h6L5hu8K1AAnttzYATx3hvk7taDkP&targetUrl=https%3A%2F%2Fwww.spiegel.de%2Ffuermich%2F\n",
      "https://gruppenkonto.spiegel.de/authenticate?requestAccessToken=true&targetUrl=https%3A%2F%2Fwww.spiegel.de%2Ffuermich%2F\n",
      "https://www.spiegel.de/fuermich/\n",
      "https://www.spiegel.de/\n",
      "https://www.spiegel.de/schlagzeilen/\n",
      "https://www.spiegel.de/spiegel/\n",
      "https://www.spiegel.de/audio/\n",
      "https://www.spiegel.de/fuermich/\n",
      "https://www.spiegel.de/schlagzeilen/\n",
      "https://www.spiegel.de/plus/\n",
      "https://www.spiegel.de/magazine\n",
      "https://www.spiegel.de/thema/coronavirus/\n",
      "https://www.spiegel.de/thema/klimawandel/\n",
      "https://www.spiegel.de/politik/deutschland/\n",
      "https://www.spiegel.de/ausland/\n",
      "https://www.spiegel.de/panorama/\n",
      "https://www.spiegel.de/sport/\n",
      "https://www.spiegel.de/wirtschaft/\n"
     ]
    }
   ],
   "source": [
    "hreflinks=[]\n",
    "Alllinks=soup.findAll('a') #The <a> tag defines a hyperlink, which is used to link from one page to another.\n",
    "for l in Alllinks:\n",
    "    if l.has_attr('href'):\n",
    "        hreflinks.append(l)\n",
    "print(\"Number of links in this page: \",len(hreflinks))\n",
    "for l in hreflinks[:20]:\n",
    "    print(l['href'])"
   ]
  },
  {
   "cell_type": "markdown",
   "metadata": {
    "slideshow": {
     "slide_type": "slide"
    }
   },
   "source": [
    "## Get all news titles\n",
    "Get title of all news, which are currently listed on [www.zeit.de](http://www.zeit.de):"
   ]
  },
  {
   "cell_type": "code",
   "execution_count": 8,
   "metadata": {
    "ExecuteTime": {
     "end_time": "2017-10-20T12:50:10.208000Z",
     "start_time": "2017-10-20T12:50:10.124000Z"
    },
    "slideshow": {
     "slide_type": "fragment"
    }
   },
   "outputs": [
    {
     "name": "stdout",
     "output_type": "stream",
     "text": [
      "----------------------------------------\n",
      "Poliertuch für 25 Euro: Apple präsentiert den iLappen\n",
      "https://www.spiegel.de/netzwelt/gadgets/apples-poliertuch-der-ilappen-fuer-25-euro-a-7a4328f7-af09-4c63-9ed7-50f9f6d631c7\n",
      "----------------------------------------\n",
      "Top Ten anlässlich der Frankfurter Buchmesse: Kanadas versteckte Schätze\n",
      "https://www.spiegel.de/reise/fernweh/von-yellowknife-bis-conche-die-10-schoensten-versteckten-kanada-spots-a-4399dc25-6712-480a-af3f-6733fd5b75e6\n",
      "----------------------------------------\n",
      "Ungewöhnliche Anreise in Indien: Paar schwimmt im Kochtopf in den Hafen der Ehe\n",
      "https://www.spiegel.de/panorama/gesellschaft/indien-paar-schwimmt-im-kochtopf-in-den-hafen-der-ehe-a-485080f6-916d-4dd5-a79e-7f565df4a5f9\n",
      "----------------------------------------\n",
      "Preissprünge am Energiemarkt: Weiterer Stromanbieter rutscht in die Pleite\n",
      "https://www.spiegel.de/wirtschaft/service/smiling-green-energy-und-die-energiepreise-weiterer-stromanbieter-rutscht-in-die-pleite-a-d57be1eb-026a-4418-b9ad-a12da563aed9\n",
      "----------------------------------------\n",
      "Folgen der Klimakrise in Afrika: Millionen Menschen werden fliehen müssen\n",
      "https://www.spiegel.de/wissenschaft/mensch/klimakrise-in-afrika-vor-flut-hitze-und-duerre-werden-millionen-menschen-fliehen-muessen-a-6ec72de6-a25e-451c-9497-f545e5bcf45f\n",
      "----------------------------------------\n",
      "Große Mehrheit gegen Wählen ab 16\n",
      "https://www.spiegel.de/politik/deutschland/spiegel-umfrage-grosse-mehrheit-gegen-absenkung-des-wahlalters-auf-16-a-b94a5793-c76a-4673-8aa6-bbdab613d746\n",
      "----------------------------------------\n",
      "Kretschmann hat mit Scheitern der Grünen beim Tempolimit gerechnet\n",
      "https://www.spiegel.de/politik/deutschland/winfried-kretschmann-nicht-ueberrascht-vom-scheitern-der-gruenen-beim-tempolimit-a-d408109b-6eb7-4cf5-9f79-7339decdaefd\n",
      "----------------------------------------\n",
      "Polens Regierung wirft EU »Erpressung« vor\n",
      "https://www.spiegel.de/ausland/polen-wirf-eu-erpressung-vor-a-bbbdc3f6-5010-4f7f-a4a7-fe93edf60d4b\n",
      "----------------------------------------\n",
      "»Ich erhoffe mir deutlichere Worte von der neuen Bundesregierung«\n",
      "https://www.spiegel.de/politik/deutschland/katarina-barley-zum-eu-streit-mit-polen-ich-erhoffe-mir-deutlichere-worte-von-der-neuen-bundesregierung-a-86ec4817-18d5-487e-87b0-50ba71930592\n",
      "----------------------------------------\n",
      "Warum Julian Reichelt gehen musste\n",
      "https://www.spiegel.de/wirtschaft/unternehmen/bild-chef-julian-reichelt-warum-er-gehen-musste-a-3a205fa3-9967-4803-8a32-c47e8a0ad227\n",
      "----------------------------------------\n",
      "Mehr als 10.000 Kinder verwundet oder getötet\n",
      "https://www.spiegel.de/ausland/jemen-laut-unicef-bisher-10-000-kinder-verwundet-oder-getoetet-a-6717d5d6-d3ae-423c-8247-7cd8bf55c170\n",
      "----------------------------------------\n",
      "»Lassen Sie mich nicht in diesem Wald sterben«\n",
      "https://www.spiegel.de/ausland/polnische-grenze-zu-belarus-gefluechtete-werden-mit-aller-haerte-zurueckgewiesen-a-ba8e043e-b43d-4f4a-8601-da99d79b5870\n",
      "----------------------------------------\n",
      "Elternvertreter fordern Impfpflicht für Schulpersonal\n",
      "https://www.spiegel.de/panorama/bildung/corona-impfpflicht-elternvertreter-wollen-dass-sich-lehrkraefte-impfen-lassen-muessen-a-d2064a16-a7b8-4cd7-998c-8a848c0c33ad\n",
      "----------------------------------------\n",
      "Djoković hadert mit Australiens strikter Coronapolitik\n",
      "https://www.spiegel.de/sport/tennis/tennis-start-von-novak-djokovic-bei-australian-open-gefaehrdet-wohl-keine-visa-fuer-ungeimpfte-a-2256cb6a-83e2-47cd-9fa0-cb352019104c\n",
      "----------------------------------------\n",
      "Airbnb auf Rädern\n",
      "https://www.spiegel.de/wirtschaft/unternehmen/airbnb-auf-raedern-so-funktioniert-private-autovermietung-in-den-usa-a-35091228-1bab-44f7-9464-913011aa399f\n",
      "----------------------------------------\n",
      "Das Ende des »Köpi«\n",
      "https://www.spiegel.de/panorama/gesellschaft/koepi-in-berlin-spiegel-tv-film-ueber-die-raeumung-des-linken-bauwagencamps-a-ad66471a-3e7f-4880-b48e-d5b814ef1ed4\n",
      "----------------------------------------\n",
      "Spritpreise befeuern Tanktourismus – auch wenn er sich gar nicht lohnt\n",
      "https://www.spiegel.de/wirtschaft/service/diesel-und-benzin-spritpreise-befeuern-tanktourismus-auch-wenn-er-sich-nicht-lohnt-a-ecbe8344-304c-4237-8c59-9a60eeb5750d\n",
      "----------------------------------------\n",
      "Weiterer Stromanbieter rutscht in die Pleite\n",
      "https://www.spiegel.de/wirtschaft/service/smiling-green-energy-und-die-energiepreise-weiterer-stromanbieter-rutscht-in-die-pleite-a-d57be1eb-026a-4418-b9ad-a12da563aed9\n",
      "----------------------------------------\n",
      "Millionen Menschen werden fliehen müssen\n",
      "https://www.spiegel.de/wissenschaft/mensch/klimakrise-in-afrika-vor-flut-hitze-und-duerre-werden-millionen-menschen-fliehen-muessen-a-6ec72de6-a25e-451c-9497-f545e5bcf45f\n",
      "----------------------------------------\n",
      "19-Jähriger findet 50.000 US-Dollar – und gibt das Geld zurück\n",
      "https://www.spiegel.de/panorama/liberia-19-jaehriger-findet-50-000-us-dollar-und-gibt-das-geld-zurueck-a-d45cdd07-939e-464a-bb3d-7dc155ba869a\n",
      "----------------------------------------\n",
      "Apple präsentiert den iLappen\n",
      "https://www.spiegel.de/netzwelt/gadgets/apples-poliertuch-der-ilappen-fuer-25-euro-a-7a4328f7-af09-4c63-9ed7-50f9f6d631c7\n",
      "----------------------------------------\n",
      "»Alle haben gehupt. Das gefiel mir sehr gut.«\n",
      "https://www.spiegel.de/kultur/wladimir-kaminer-alle-haben-gehupt-das-gefiel-mir-sehr-gut-a-d8da310c-2520-478a-b757-0b5f2d39c651\n",
      "----------------------------------------\n",
      "Dringend gesucht: Ein Erschüttertsein\n",
      "https://www.spiegel.de/kultur/literatur/bodo-kirchhoff-ueber-seine-utopie-in-der-krise-ein-erschuettertsein-a-2147dad4-0680-46d1-8f30-80e5401efbf3\n",
      "----------------------------------------\n",
      "Warum müssen wir unser Denken ändern, Herr Welzer?\n",
      "https://www.spiegel.de/wissenschaft/klimawandel-warum-muessen-wir-unser-denken-aendern-herr-welzer-a-eb51ec57-5518-450e-9bed-68bdda70a57f\n",
      "----------------------------------------\n",
      "Wie schnell muss ich auf E-Mails antworten?\n",
      "https://www.spiegel.de/karriere/e-mails-im-job-wie-schnell-muss-ich-antworten-a-47b267d4-622a-4f12-9868-b825b911c18c\n",
      "----------------------------------------\n",
      "Paar schwimmt im Kochtopf in den Hafen der Ehe\n",
      "https://www.spiegel.de/panorama/gesellschaft/indien-paar-schwimmt-im-kochtopf-in-den-hafen-der-ehe-a-485080f6-916d-4dd5-a79e-7f565df4a5f9\n",
      "----------------------------------------\n",
      "Kanadas versteckte Schätze\n",
      "https://www.spiegel.de/reise/fernweh/von-yellowknife-bis-conche-die-10-schoensten-versteckten-kanada-spots-a-4399dc25-6712-480a-af3f-6733fd5b75e6\n",
      "----------------------------------------\n",
      "Das Beste von SPIEGEL+\n",
      "https://www.spiegel.de/plus/\n",
      "----------------------------------------\n",
      "Dieser Mann soll Viktor Orbán besiegen\n",
      "https://www.spiegel.de/ausland/ungarn-kleinstadt-buergermeister-peter-marki-zay-fordert-premier-viktor-orban-heraus-a-345dac35-6757-48c4-a13f-e01fbc7bb7f9\n",
      "----------------------------------------\n",
      "Käse, Koks und Killer\n",
      "https://www.spiegel.de/panorama/justiz/wie-die-niederlande-mit-naiver-drogenpolitik-die-mafia-gross-machten-kaese-koks-und-killer-a-f124c1ca-f177-482c-a7e5-1ab165a98b04\n",
      "----------------------------------------\n",
      "Wie Trump seine Gegner ausspielen will\n",
      "https://www.spiegel.de/ausland/donald-trump-und-steve-bannon-sonderausschuss-zum-kapitol-sturm-macht-ernst-a-b9546c7e-f04b-4fb7-8465-24b7aa1f8413\n",
      "----------------------------------------\n",
      "Drei Szenarien für den Corona-Winter\n",
      "https://www.spiegel.de/wissenschaft/coronavirus-drei-szenarien-wie-deutschland-durch-den-winter-kommt-a-23f1caaf-37cf-4cac-880d-11aa1a77a032\n",
      "----------------------------------------\n",
      "Videos\n",
      "https://www.spiegel.de/video/\n",
      "----------------------------------------\n",
      "Kommentare und Kolumnen\n",
      "https://www.spiegel.de/thema/meinung/\n",
      "----------------------------------------\n",
      "Brüssels gefährlicher Bürokraten-Plan fürs Klima\n",
      "https://www.spiegel.de/wirtschaft/bruessels-gefaehrlicher-buerokraten-plan-fuers-klima-a-990aec16-f4ec-45ab-a3a6-428b9624e13f\n",
      "----------------------------------------\n",
      "Ein Handyverbot ist nicht konservativ\n",
      "https://www.spiegel.de/politik/deutschland/cdu-auf-sinnsuche-ein-handyverbot-ist-nicht-konservativ-a-acf61767-b69e-444c-8441-27314efc8d2d\n",
      "----------------------------------------\n",
      "Es braucht eine Frau als Bundestagspräsidentin!\n",
      "https://www.spiegel.de/politik/jutta-allmendinger-und-peter-dabrock-offener-brief-an-die-spd-bundestagfraktion-es-braucht-eine-frau-als-bundestagspraesidentin-a-2d968090-e11f-451f-88cc-de954cb2c067\n",
      "----------------------------------------\n",
      "Die Grünen wollen Crashtest-Dummys gendern? Ja, bitte!\n",
      "https://www.spiegel.de/auto/katharina-fegebank-die-gruenen-wollen-crashtest-dummys-gendern-ja-bitte-kommentar-a-9d86f9a8-48ce-4df0-b189-0006c55479fd\n",
      "----------------------------------------\n",
      "Klimakrise\n",
      "https://www.spiegel.de/thema/klimawandel/\n",
      "----------------------------------------\n",
      "Wir brauchen die Grüne Null\n",
      "https://www.spiegel.de/wissenschaft/klimakrise-und-die-neue-bundesregierung-wir-brauchen-die-gruene-null-kommentar-a-3ad0f1c7-284f-41e2-b692-2387d739b6e2\n",
      "----------------------------------------\n",
      "Klimaexperten fordern Ausweisung neuer Meeresschutzgebiete\n",
      "https://www.spiegel.de/wissenschaft/natur/antarktis-klimaexperten-fordern-ausweisung-neuer-meeresschutzgebiete-a-a3e7ed55-b0a1-4c44-ac73-9d846358523b\n",
      "----------------------------------------\n",
      "Weißes Haus schwächt offenbar seine Klimaschutzpläne ab\n",
      "https://www.spiegel.de/ausland/klimakrise-weisses-haus-schwaecht-offenbar-seine-klimaschutzplaene-ab-a-ba42d9ef-a4f9-4ead-81a8-b8a33b805449\n",
      "----------------------------------------\n",
      "Königsweg zum Klimaschutz\n",
      "https://www.spiegel.de/wissenschaft/mensch/klimabericht-was-die-royals-fuers-klima-tun-und-was-die-g20-verpassen-a-0524a058-81c4-4d6b-9f93-a384af25c6c0\n",
      "----------------------------------------\n",
      "Politik\n",
      "https://www.spiegel.de/politik/deutschland/\n",
      "----------------------------------------\n",
      "Migration über Belarus: Brandenburg lehnt Grenzschließung zu Polen ab\n",
      "https://www.spiegel.de/politik/deutschland/brandenburgs-innenminister-michael-stuebgen-lehnt-grenzschliessung-zu-polen-ab-a-d4d6f393-3a54-4bf0-854e-bd92f48d5a49\n",
      "----------------------------------------\n",
      "Regierungsbildung: Koalitionsverhandlungen über Ampel könnten noch in dieser Woche beginnen\n",
      "https://www.spiegel.de/politik/deutschland/ampel-koalitionsverhandlungen-koennten-noch-in-dieser-woche-beginnen-a-95b16546-d07e-41a7-8e08-4111bea0393f\n",
      "----------------------------------------\n",
      "Weg von der AfD: Linke unterstützt FDP bei neuer Sitzordnung im Bundestag\n",
      "https://www.spiegel.de/politik/deutschland/bundestag-linke-unterstuetzt-fdp-bei-neuer-sitzordnung-im-bundestag-weg-von-der-afd-a-6ffbaff9-e69c-40b4-989c-1181feef9c51\n",
      "----------------------------------------\n",
      "Ausland\n",
      "https://www.spiegel.de/ausland/\n",
      "----------------------------------------\n",
      "Angst vor Terror und Kriminalität: Dänemark verlängert Grenzkontrollen um sechs Monate\n",
      "https://www.spiegel.de/ausland/daenemark-verlaengert-grenzkontrollen-um-sechs-monate-a-2de725ab-b7e6-40b6-b397-d42083664648\n",
      "----------------------------------------\n",
      "Kampf gegen Drogenhändler: Ecuadors Staatschef ruft Ausnahmezustand aus\n",
      "https://www.spiegel.de/ausland/ecuadors-staatschef-ruft-ausnahmezustand-aus-kampf-gegen-drogenhaendler-a-8237e4b8-f005-457c-a5e4-af8d426b589c\n",
      "----------------------------------------\n",
      "Streit über EU-Recht: Von der Leyen droht Polen mit neuen Verfahren\n",
      "https://www.spiegel.de/ausland/polen-ursula-von-der-leyen-droht-mit-neuen-verfahren-a-8386dbc4-7918-4faf-a55e-f5faf216284f\n",
      "----------------------------------------\n",
      "Panorama\n",
      "https://www.spiegel.de/panorama/\n",
      "----------------------------------------\n",
      "Jamie Foxx über Heiratsverzicht: »Aber dann sind viele dieser Ehen in die Brüche gegangen«\n",
      "https://www.spiegel.de/panorama/leute/jamie-foxx-warum-der-schauspieler-gluecklich-mit-seinem-ehelosen-familienleben-ist-a-8749b6f6-e277-453a-9393-aa73d82dcc26\n",
      "----------------------------------------\n",
      "Südschwarzwald: Mann soll Schülerin unter Vorwand von Coronatest missbraucht haben\n",
      "https://www.spiegel.de/panorama/justiz/klettgau-griessen-mann-soll-schuelerin-unter-vorwand-von-coronatest-missbraucht-haben-a-1cabd813-cc3f-4448-af2f-d78efea5d102\n",
      "----------------------------------------\n",
      "Mord vor Berliner Shishabar: Polizei nimmt Verdächtigen in Bayern fest\n",
      "https://www.spiegel.de/panorama/justiz/berlin-verdaechtiger-nach-mord-vor-shisha-bar-gefasst-a-55293e6c-cfe2-4266-a7cc-b710294e00b1\n",
      "----------------------------------------\n",
      "Sport\n",
      "https://www.spiegel.de/sport/\n",
      "----------------------------------------\n",
      "Umstrittene Vereinsübernahme in der Premier League: In Newcastle ist die Saudi-Arabien-Flagge jetzt ein Fanartikel\n",
      "https://www.spiegel.de/sport/fussball/in-newcastle-ist-die-saudi-arabien-flagge-jetzt-ein-fanartikel-a-e049e09c-da53-4350-a140-54d514be2a32\n",
      "----------------------------------------\n",
      "Fansturm beim EM-Finale: England muss wegen Wembley-Ausschreitungen 100.000 Euro Strafe zahlen\n",
      "https://www.spiegel.de/sport/fussball/fussball-em-2021-england-muss-wegen-ausschreitungen-100-000-euro-strafe-zahlen-a-00a95f03-5424-4db5-b90e-ff7035eb9f27\n",
      "----------------------------------------\n",
      "FC Bayern München: Hernández bekommt Haftstrafen-Bescheid – hofft aber noch auf Berufung\n",
      "https://www.spiegel.de/sport/fussball/fc-bayern-muenchen-lucas-hernandez-bekommt-haftstrafen-bescheid-a-aa71c1aa-5cca-44f2-9ccb-53a2c9c6a06d\n",
      "----------------------------------------\n",
      "Wirtschaft\n",
      "https://www.spiegel.de/wirtschaft/\n",
      "----------------------------------------\n",
      "Dieselskandal: Opel zahlt Millionenbußgeld – und entgeht Prozess\n",
      "https://www.spiegel.de/wirtschaft/unternehmen/opel-kein-diesel-prozess-dafuer-millionenbussgeld-a-63265fc4-fb61-4bd7-ba11-bd25de3b1c08\n",
      "----------------------------------------\n",
      "Unerledigte Aufträge: Rekordstau bei den deutschen Unternehmen\n",
      "https://www.spiegel.de/wirtschaft/unternehmen/industrie-unerledigte-auftraege-auf-rekordhoch-a-9724a6a1-c6d4-42e0-9d01-26ee00faba31\n",
      "----------------------------------------\n",
      "Fachkräftemangel: Lkw-Fahrer werden unterdurchschnittlich bezahlt\n",
      "https://www.spiegel.de/wirtschaft/lkw-fahrer-fachkraefte-werden-unterdurchschnittlich-bezahlt-a-c97f37ee-082e-4bef-8440-e588f485e25a\n",
      "----------------------------------------\n",
      "Was US-Investor KKR mit dem \"Bild\"-Verlag vorhat: \"Springer ist ein Juwel\"\n",
      "https://www.manager-magazin.de/unternehmen/kkr-partner-philipp-freise-und-henry-mcvey-ueber-ihre-plaene-mit-axel-springer-springer-ist-ein-juwel-a-67a53f12-0002-0001-0000-000179661399\n",
      "----------------------------------------\n",
      "Führungskräfte: Lassen Sie sich nicht von Ihrer Macht verführen\n",
      "https://www.manager-magazin.de/harvard/selbstmanagement/fuehrungskraefte-wie-macht-veraendert-a-18f1e9ef-0002-0001-0000-000179536104\n",
      "----------------------------------------\n",
      "\"Höhle der Löwen\"-Juroren: Georg Kofler kauft Konsumgüter-Imperium von Ralf Dümmel\n",
      "https://www.manager-magazin.de/unternehmen/handel/hoehle-der-loewen-juroren-georg-kofler-kauft-konsumgueter-imperium-von-ralf-duemmel-a-431e100f-97f4-421f-b1c8-e3717e5fccc6\n",
      "----------------------------------------\n",
      "Börsenkurse manager magazin\n",
      "https://boersen.manager-magazin.de\n",
      "----------------------------------------\n",
      "Wissenschaft\n",
      "https://www.spiegel.de/wissenschaft/\n",
      "----------------------------------------\n",
      "EU-Vergleich: Deutschland liegt beim Anteil erneuerbarer Energien weit zurück\n",
      "https://www.spiegel.de/wissenschaft/technik/eu-vergleich-anteil-erneuerbarer-energien-in-deutschland-unterdurchschnittlich-a-8a6e0f96-299a-4cdd-9c2e-9c10e69eb0c0\n",
      "----------------------------------------\n",
      "Coronavirus in Deutschland: RKI meldet 6771 Neuinfektionen\n",
      "https://www.spiegel.de/wissenschaft/corona-virus-in-deutschland-rki-meldet-6771-neuinfektionen-sieben-tage-inzidenz-bei-75-1-a-738c24a5-d6bf-43a0-b999-c3181f17acb8\n",
      "----------------------------------------\n",
      "Fehlende wissenschaftliche Belege: Bayerische Ärztekammer streicht Homöopathie-Weiterbildung\n",
      "https://www.spiegel.de/wissenschaft/mensch/homoeopathie-bayerische-aerztekammer-streicht-weiterbildungsangebote-a-0c8ec566-83ad-4173-8629-f37858bbee73\n",
      "----------------------------------------\n",
      "Netzwelt\n",
      "https://www.spiegel.de/netzwelt/\n",
      "----------------------------------------\n",
      "Alltag von Internetstars: »Und auf einmal filmen zehn 15-Jährige in mein Auto«\n",
      "https://www.spiegel.de/netzwelt/web/varion-unsympathischtv-und-trymacs-und-auf-einmal-filmen-zehn-15-jaehrige-in-mein-auto-a-e49f28b0-6515-4575-b6d8-babb81c631f0\n",
      "----------------------------------------\n",
      "Neue MacBooks und AirPods: Apple stellt Highspeed-Notebooks vor\n",
      "https://www.spiegel.de/netzwelt/gadgets/neue-macbooks-und-airpods-apple-stellt-highspeed-notebooks-vor-a-c8aa9903-fec2-4fb9-9026-ee590e06b24b\n",
      "----------------------------------------\n",
      "Künstliche Intelligenz: Facebooks Forscher zweifeln an Fähigkeiten der Hass-Erkennung\n",
      "https://www.spiegel.de/netzwelt/web/kuenstliche-intelligenz-facebook-zweifelt-an-faehigkeiten-der-hass-erkennung-a-c322d904-da87-4e3b-80b8-ba427186c64d\n",
      "----------------------------------------\n",
      "Kultur\n",
      "https://www.spiegel.de/kultur/\n",
      "----------------------------------------\n",
      "Verzögerung in der Produktion: Disney verschiebt »Indiana Jones 5« auf 2023\n",
      "https://www.spiegel.de/kultur/kino/indiana-jones-5-disney-verschiebt-kinostart-auf-2023-a-d12b734a-c1a0-46c5-b35e-b87ff553a283\n",
      "----------------------------------------\n",
      "Neuer Name für Rapper Kanye West: Ye he can\n",
      "https://www.spiegel.de/kultur/musik/neuer-name-fuer-rapper-kanye-west-ye-he-can-a-4f91f9e0-2092-4c13-93ea-c1a93d4209ac\n",
      "----------------------------------------\n",
      "Starsopranistin: Edita Gruberová ist tot\n",
      "https://www.spiegel.de/kultur/musik/sopranistin-edita-gruberova-ist-tot-a-1b06dad6-603d-4a14-8069-b2ef18902a3c\n",
      "----------------------------------------\n",
      "Job & Karriere\n",
      "https://www.spiegel.de/karriere/\n",
      "----------------------------------------\n",
      "Tipps von der Karriereberaterin: Hilfe, Präsentationen sind der pure Stress für mich!\n",
      "https://www.spiegel.de/karriere/stress-durch-und-bei-praesentationen-so-kann-man-das-problem-in-den-griff-bekommen-a-1401136f-7e41-4cbb-8b9b-898ee73547b3\n",
      "----------------------------------------\n",
      "Rätsel der Woche: Wie groß ist der Kreisring?\n",
      "https://www.spiegel.de/karriere/wie-gross-ist-der-kreisring-raetsel-der-woche-a-8a1a6eed-d0c0-4dc0-aa0a-6224c9344561\n",
      "----------------------------------------\n",
      "Hessischer Schuhmacher in Sydney: »In jungen Jahren wenig Geld zu haben, hat auch was Gutes«\n",
      "https://www.spiegel.de/karriere/sydney-wie-ein-deutscher-schuhmacher-in-australien-karriere-machte-a-6535a306-5bea-46d3-b748-e9fe00fb8e5a\n",
      "----------------------------------------\n",
      "Start\n",
      "https://www.spiegel.de/start/\n",
      "----------------------------------------\n",
      "Unterstützung für Studierende: Wie man ein Stipendium der Friedrich-Naumann-Stiftung bekommt – und was es bringt\n",
      "https://www.spiegel.de/start/stipendium-der-friedrich-naumann-stiftung-voraussetzungen-bewerbung-foerderung-a-2c56c2ee-c446-4fcf-8418-2395a053a9fd\n",
      "----------------------------------------\n",
      "Streitthema Sauberkeit: Die vier Voraussetzungen für den perfekten Putzplan\n",
      "https://www.spiegel.de/start/putzplan-wg-so-erstellt-man-einen-plan-der-wirklich-funktioniert-a-6d16ddf2-84f8-463d-a219-fb7a6c994557\n",
      "----------------------------------------\n",
      "Berufseinstieg als Tätowiererin: »Erst übte ich an einer Grapefruit. Dann kamen Bekannte«\n",
      "https://www.spiegel.de/start/taetowiererin-werden-mein-erstes-tattoo-ist-nicht-vorzeigbar-a-026991c6-d575-4a93-b303-c33b21294d49\n",
      "----------------------------------------\n",
      "Geschichte\n",
      "https://www.spiegel.de/geschichte/\n",
      "----------------------------------------\n",
      "Streit um das Vermögen der Hohenzollern: »Die Fürsten haben mehr als genug«\n",
      "https://www.spiegel.de/geschichte/vermoegen-der-hohenzollern-warum-die-fuerstenenteignung-1926-scheiterte-a-8110855b-cc06-4cef-a343-d72a545b8f4d\n",
      "----------------------------------------\n",
      "Ein Kriegskind in Berlin: »Ich wischte das Neugeborene mit Heu ab«\n",
      "https://www.spiegel.de/geschichte/kriegskind-in-berlin-ich-wischte-das-neugeborene-mit-heu-ab-a-8ff4f413-dd44-4d59-9830-ebd88463b58e\n",
      "----------------------------------------\n",
      "Hexenmeister: Reißende Werwölfe – jede vierte Hexe war ein Mann\n",
      "https://www.spiegel.de/geschichte/hexenmeister-etwa-ein-viertel-der-hingerichteten-waren-maenner-a-6229c8c0-0002-0001-0000-000179121578\n",
      "----------------------------------------\n",
      "Tests\n",
      "https://www.spiegel.de/tests/\n",
      "----------------------------------------\n",
      "Grillzubehör im Test: BBQ für Fortgeschrittene\n",
      "https://www.spiegel.de/tests/kueche/grillzubehoer-im-test-grillgrates-fleischstempel-grillmachete-a-617f2ddd-0bab-4844-9d06-d27bf4135756\n",
      "----------------------------------------\n",
      "Bestseller Link\n",
      "https://www.spiegel.de/kultur/bestseller-buecher-belletristik-sachbuch-auf-spiegel-liste-a-458623.html\n",
      "----------------------------------------\n",
      "Mobilität\n",
      "https://www.spiegel.de/auto/\n",
      "----------------------------------------\n",
      "Spritpreise auf Rekordhoch: VW-Chef rät indirekt vom Kauf von Autos mit Verbrennungsmotor ab\n",
      "https://www.spiegel.de/auto/herbert-diess-vw-chef-raet-indirekt-vom-verbrenner-kauf-ab-a-0d93ac3e-174e-4e97-9147-07131a7abca4\n",
      "----------------------------------------\n",
      "Prototypen: Apple-Zulieferer Foxconn stellt drei Elektroautos vor\n",
      "https://www.spiegel.de/auto/foxconn-praesentiert-drei-elektroauto-prototypen-a-548341d8-53ac-447c-b1a4-5fd38366429c\n",
      "----------------------------------------\n",
      "Bußgeldkatalog: Rasen und Falschparken werden ab dem 10. November teurer\n",
      "https://www.spiegel.de/auto/bussgeld-erhoehung-ab-dem-10-november-kosten-rasen-und-falschparken-mehr-a-fbd16e95-4cdd-4d94-88b1-cdeb4545f041\n",
      "----------------------------------------\n",
      "SPIEGEL-Bestseller: Sachbuch Hardcover\n",
      "https://www.spiegel.de/kultur/literatur/spiegel-bestseller-hardcover-a-1025428.html\n",
      "----------------------------------------\n",
      "Leben\n",
      "https://www.spiegel.de/thema/leben/\n",
      "----------------------------------------\n",
      "Wie schwierig es sein kann, als Zwilling aufzuwachsen\n",
      "https://www.spiegel.de/familie/zwillinge-und-ihre-beziehung-wer-bin-ich-wenn-ein-anderes-ich-neben-mir-steht-a-34b51233-0bd5-486e-8c0e-bf2ff69f8100\n",
      "----------------------------------------\n",
      "Wo der Traum von der Gartenkunst wahr wird\n",
      "https://www.spiegel.de/stil/koenigliche-garten-akademie-englische-gartenkultur-in-berlin-a-100b7cb5-e033-40c2-81dd-00d6b2a48fc3\n",
      "----------------------------------------\n",
      "Was hat die alte Dame verwundet?\n",
      "https://www.spiegel.de/gesundheit/diagnose/eine-raetselhafte-patientin-was-hat-die-alte-dame-verwundet-a-aab90f62-0190-49c5-b872-f3eb90e09df7\n",
      "----------------------------------------\n",
      "Das Monster und ich\n",
      "https://www.spiegel.de/reise/camping-mit-dem-wohnmobil-buero-unter-baeumen-a-8e3323c8-f2c3-4612-9322-f4e57505ce12\n",
      "----------------------------------------\n",
      "»Ich muss kein plastikfreies Bad haben, um mich fürs Klima einzusetzen«\n",
      "https://www.spiegel.de/familie/nachhaltiger-konsum-worauf-es-wirklich-ankommt-podcast-mit-thekla-wilkening-a-5223829e-d117-44c6-8717-741486fdfcd3?d=1634387922\n",
      "----------------------------------------\n",
      "»Wir sind zu weit damit gegangen, Kinder immer nur Kinder sein zu lassen«\n",
      "https://www.spiegel.de/familie/eltern-und-erziehung-wir-sind-zu-weit-damit-gegangen-kinder-immer-nur-kinder-sein-zu-lassen-a-f66cce59-cf4f-4483-9f05-47ea0f7077b5\n",
      "----------------------------------------\n",
      "Marmor, Stein und Tageslicht\n",
      "https://www.spiegel.de/stil/best-of-interior-awards-penthouse-in-berlin-ausgezeichnet-marmor-stein-und-tageslicht-a-2d72281a-d566-4cda-850f-b26a06cce2bf\n",
      "----------------------------------------\n",
      "Produkte im Test\n",
      "https://www.spiegel.de/tests/\n",
      "----------------------------------------\n",
      "Sicher und bequem am Fahrrad arbeiten\n",
      "https://www.spiegel.de/tests/fahrrad-zubehoer/montagestaender-im-test-sicher-und-bequem-am-fahrrad-arbeiten-a-db27278f-1dd7-4665-ae79-970b0bd85c90\n",
      "----------------------------------------\n",
      "Diese Standluftpumpen machen ordentlich Druck\n",
      "https://www.spiegel.de/tests/fahrrad-zubehoer/standluftpumpen-im-test-druck-machen-a-68667955-c342-4a80-9721-f350f746c663\n",
      "----------------------------------------\n",
      "Gepäcktransporter für Radreisende\n",
      "https://www.spiegel.de/tests/fahrrad-zubehoer/fahrradanhaenger-im-test-gepaecktransporter-fuer-radreisende-a-567ddf06-cc7a-461e-9d1d-cb0ef0c0cb55\n",
      "----------------------------------------\n",
      "Viel Sicherheit für 30 Euro\n",
      "https://www.spiegel.de/auto/fahrradschloss-vergleich-der-stiftung-warentest-sicherheit-fuer-30-euro-a-10683a93-53c5-4828-9e7d-1b2bd9d7fcd7\n",
      "----------------------------------------\n",
      "Dein SPIEGEL\n",
      "https://www.spiegel.de/deinspiegel/\n",
      "----------------------------------------\n",
      "So verdienen Streamer auf Twitch ihr Geld\n",
      "https://www.spiegel.de/deinspiegel/einfach-erklaert-wie-streamer-auf-twitch-geld-verdienen-a-e98e0c4a-1fb3-4f31-9653-41b0d09c6443\n",
      "----------------------------------------\n",
      "Wie die Bundestagswahl abläuft – und warum sie so wichtig ist\n",
      "https://www.spiegel.de/deinspiegel/wie-die-bundestagswahl-ablaeuft-und-warum-sie-so-wichtig-ist-einfach-erklaert-a-50a60e16-0bf6-474a-bf33-392696a396f0\n",
      "----------------------------------------\n",
      "Bild des Tages\n",
      "https://www.spiegel.de/fotostrecke/bilder-des-tages-fotos-aus-deutschland-und-der-welt-fotostrecke-122824.html\n"
     ]
    }
   ],
   "source": [
    "#print soup.get_text()hreflinks=[]\n",
    "AllTitles=soup.findAll('h2')\n",
    "alltitles=[]\n",
    "alltitleLinks=[]\n",
    "for l in AllTitles:\n",
    "    #print(l)\n",
    "    try:\n",
    "        title = l.find('a')['title']\n",
    "        link = l.find('a')['href']\n",
    "        print('-'*40)\n",
    "        print(title)\n",
    "        print(link)\n",
    "        alltitles.append(title)\n",
    "        alltitleLinks.append(link)\n",
    "    except:\n",
    "        pass"
   ]
  },
  {
   "cell_type": "markdown",
   "metadata": {
    "slideshow": {
     "slide_type": "slide"
    }
   },
   "source": [
    "## Get all images of the page\n",
    "\n",
    "Get url of all images, which are currently displayed on [www.zeit.de](http://www.zeit.de):"
   ]
  },
  {
   "cell_type": "code",
   "execution_count": 8,
   "metadata": {
    "ExecuteTime": {
     "end_time": "2017-10-20T12:50:12.456000Z",
     "start_time": "2017-10-20T12:50:12.440000Z"
    },
    "slideshow": {
     "slide_type": "fragment"
    }
   },
   "outputs": [
    {
     "name": "stdout",
     "output_type": "stream",
     "text": [
      "data:image/gif;base64,R0lGODlhAQABAAAAACH5BAEKAAEALAAAAAABAAEAAAICTAEAOw==\n",
      "https://cdn.prod.www.spiegel.de/images/d77355bc-66e9-4014-b516-8a91a7c55108_w56_r1_fpx47.24_fpy44.9.png\n",
      "https://cdn.prod.www.spiegel.de/images/d77355bc-66e9-4014-b516-8a91a7c55108_w56_r1_fpx47.24_fpy44.9.png\n",
      "https://cdn.prod.www.spiegel.de/images/808c40a0-09ec-4381-b43c-267c6f8358a3_w872_r1.77_fpx74_fpy43.jpg\n",
      "https://cdn.prod.www.spiegel.de/images/65a18d00-44f6-4556-a53e-723602d99963_w117_r1.33_fpx52_fpy90.jpg\n",
      "https://cdn.prod.www.spiegel.de/images/65a18d00-44f6-4556-a53e-723602d99963_w488_r1.77_fpx52_fpy90.jpg\n",
      "https://cdn.prod.www.spiegel.de/images/e757f4da-cd30-41af-997b-95b68c04a166_w488_r1.77_fpx56.63_fpy55.jpg\n",
      "https://cdn.prod.www.spiegel.de/images/6cd87c9c-d135-4a4b-9a23-5232be787c22_w117_r1.33_fpx50.17_fpy45.jpg\n",
      "https://cdn.prod.www.spiegel.de/images/6cd87c9c-d135-4a4b-9a23-5232be787c22_w488_r1.77_fpx50.17_fpy45.jpg\n",
      "https://cdn.prod.www.spiegel.de/images/8e62e78d-b493-4ec4-a4c1-86aac43c3704_w56_r1_fpx49.57_fpy44.9.png\n"
     ]
    }
   ],
   "source": [
    "imglinks=[]\n",
    "AllImgs=soup.findAll('img')\n",
    "for l in AllImgs:\n",
    "    if l.has_attr('src'):\n",
    "       imglinks.append(l)\n",
    "\n",
    "for l in imglinks[:10]:\n",
    "    print(l['src'])"
   ]
  },
  {
   "cell_type": "markdown",
   "metadata": {
    "slideshow": {
     "slide_type": "slide"
    }
   },
   "source": [
    "## Get entire text of a news-article"
   ]
  },
  {
   "cell_type": "code",
   "execution_count": 9,
   "metadata": {
    "ExecuteTime": {
     "end_time": "2017-10-20T13:09:24.145000Z",
     "start_time": "2017-10-20T13:09:23.833000Z"
    },
    "slideshow": {
     "slide_type": "fragment"
    }
   },
   "outputs": [
    {
     "name": "stdout",
     "output_type": "stream",
     "text": [
      "\n",
      "SPIEGEL+-Zugang wird gerade auf einem anderen Gerät genutzt\n",
      "\n",
      "SPIEGEL+ kann nur auf einem Gerät zur selben Zeit genutzt werden.\n",
      "\n",
      "Klicken Sie auf den Button, spielen wir den Hinweis auf dem anderen Gerät aus und Sie können SPIEGEL+ weiter nutzen.\n",
      "\n",
      "\n",
      "Passagiere am Flughafen Mallorca\n",
      "Die Bundesregierung verlängert ihre weltweite Reisewarnung für Drittstaaten außerhalb der Europäischen Union bis zum 30. September. Das weltweite Infektionsgeschehen mache dies erforderlich, sagt eine Sprecherin des Auswärtigem Amtes in Berlin. Vom 1. Oktober an soll es nach einem Beschluss des Bundeskabinetts dann auf die Lage in den einzelnen Staaten zugeschnittene Bewertungen geben, wie die Deutsche Presse-Agentur am Mittwoch aus Regierungskreisen erfuhr. Der Beschluss des Kabinetts wurde auf der Bundespressekonferenz mitgeteilt.\n",
      "An der Möglichkeit zu reisen werde sich damit praktisch wohl wenig ändern, sagte eine Sprecherin des Auswärtigen Amtes. Allerdings werde zu einem differenzierten System übergegangen. Es werde wohl so sein, dass für Länder, die als Risikogebiete gelten, weiter eine Reisewarnung gelten könne.\n",
      "Die pauschale Verlängerung war zuletzt vor allem von der Reisebranche kritisiert worden. Der Reiseverband DRV hatte nach früheren Entscheidungen von einem \"falschen Signal\" gesprochen. Hauptkritikpunkt war, dass die Reisewarnung bislang pauschal für mehr als 80 Prozent der Länder dieser Welt gilt. Die Reisewarnung erfolgt unabhängig von der Einstufung von Ländern als Risikogebiet. Nur in Europa wird die Lage bislang differenziert betrachtet.\n",
      "Eine Reisewarnung ist kein Verbot, soll aber eine erhebliche abschreckende Wirkung haben. Allerdings hat sie auch eine positive Seite für Verbraucher: Sie ermöglicht es Reisenden, Buchungen kostenlos zu stornieren.\n",
      "Am 17. März hatte Bundesaußenminister Heiko Maas (SPD) wegen der steigenden Corona-Infektionszahlen eine beispiellose Maßnahme verkündet: Eine Warnung vor touristischen Reisen in alle rund 200 Länder der Welt. Erst im Juni - unmittelbar vor Beginn der Haupturlaubszeit - wurden die Länder der Europäischen Union, des grenzkontrollfreien Schengen-Raums sowie Großbritannien, Andorra, Monaco, San Marino und der Vatikanstaat ausgenommen.\n",
      "Passagiere am Flughafen Mallorca\n",
      "Melden Sie sich an und diskutieren Sie mit\n"
     ]
    }
   ],
   "source": [
    "IDX=0\n",
    "suburl=alltitleLinks[IDX]\n",
    "try:\n",
    "    html=urlopen(suburl).read() #works if subdomains are referenced by absolute path\n",
    "except:\n",
    "    html=urlopen(url+suburl).read() #works if subdomains are referenced by relative path\n",
    "soup=BeautifulSoup(html,\"html.parser\")\n",
    "AllP=soup.findAll('p')\n",
    "for p in AllP:\n",
    "    print(p.get_text())"
   ]
  },
  {
   "cell_type": "markdown",
   "metadata": {
    "collapsed": true,
    "slideshow": {
     "slide_type": "skip"
    }
   },
   "source": [
    "## Questions and Remarks\n",
    "1. This notebook demonstrates how raw-text can be crawled from news-sites. But what is the drawback of this method?\n",
    "2. Execute the entire notebook also for `www.spiegel.de` and `www.sueddeutsche.de`.\n",
    "3. What do you observe? How to solve the problem?"
   ]
  },
  {
   "cell_type": "code",
   "execution_count": null,
   "metadata": {
    "collapsed": true
   },
   "outputs": [],
   "source": []
  }
 ],
 "metadata": {
  "celltoolbar": "Slideshow",
  "kernelspec": {
   "display_name": "Python 3",
   "language": "python",
   "name": "python3"
  },
  "language_info": {
   "codemirror_mode": {
    "name": "ipython",
    "version": 3
   },
   "file_extension": ".py",
   "mimetype": "text/x-python",
   "name": "python",
   "nbconvert_exporter": "python",
   "pygments_lexer": "ipython3",
   "version": "3.8.0"
  },
  "nav_menu": {},
  "toc": {
   "base_numbering": 1,
   "nav_menu": {},
   "number_sections": true,
   "sideBar": true,
   "skip_h1_title": false,
   "title_cell": "Table of Contents",
   "title_sidebar": "Contents",
   "toc_cell": false,
   "toc_position": {},
   "toc_section_display": "block",
   "toc_window_display": false
  },
  "varInspector": {
   "cols": {
    "lenName": 16,
    "lenType": 16,
    "lenVar": 40
   },
   "kernels_config": {
    "python": {
     "delete_cmd_postfix": "",
     "delete_cmd_prefix": "del ",
     "library": "var_list.py",
     "varRefreshCmd": "print(var_dic_list())"
    },
    "r": {
     "delete_cmd_postfix": ") ",
     "delete_cmd_prefix": "rm(",
     "library": "var_list.r",
     "varRefreshCmd": "cat(var_dic_list()) "
    }
   },
   "types_to_exclude": [
    "module",
    "function",
    "builtin_function_or_method",
    "instance",
    "_Feature"
   ],
   "window_display": false
  }
 },
 "nbformat": 4,
 "nbformat_minor": 1
}
