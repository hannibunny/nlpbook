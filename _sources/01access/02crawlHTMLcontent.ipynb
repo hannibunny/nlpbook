{
 "cells": [
  {
   "cell_type": "markdown",
   "metadata": {
    "slideshow": {
     "slide_type": "slide"
    }
   },
   "source": [
    "# Access Contents of HTML Page\n",
    "\n",
    "- Author:      Johannes Maucher\n",
    "- Last update: 2018-10-21\n",
    "\n",
    "This notebook demonstrates how to parse a HTML document and access dedicated elements of the parse tree.\n",
    "[Beautiful Soup](http://www.crummy.com/software/BeautifulSoup/bs4/doc/#) is a python package for parsing HTML. Download and install version 4 by typing:\n",
    "\n",
    "> `pip install beautifulsoup4`\n",
    "\n",
    "into the command shell. Once it is installed it can be imported by"
   ]
  },
  {
   "cell_type": "code",
   "execution_count": 1,
   "metadata": {
    "ExecuteTime": {
     "end_time": "2017-10-20T12:50:00.898000Z",
     "start_time": "2017-10-20T12:50:00.893000Z"
    },
    "slideshow": {
     "slide_type": "fragment"
    }
   },
   "outputs": [],
   "source": [
    "from bs4 import BeautifulSoup"
   ]
  },
  {
   "cell_type": "markdown",
   "metadata": {
    "slideshow": {
     "slide_type": "slide"
    }
   },
   "source": [
    "For accessing arbitrary resources by URL the python modul [urllib](https://docs.python.org/2/library/urllib.html) must also be installed. Import the method _urlopen()_ from this module:  "
   ]
  },
  {
   "cell_type": "code",
   "execution_count": 2,
   "metadata": {
    "ExecuteTime": {
     "end_time": "2017-10-20T12:50:02.246000Z",
     "start_time": "2017-10-20T12:50:02.242000Z"
    },
    "slideshow": {
     "slide_type": "fragment"
    }
   },
   "outputs": [],
   "source": [
    "from urllib.request import urlopen"
   ]
  },
  {
   "cell_type": "markdown",
   "metadata": {
    "slideshow": {
     "slide_type": "fragment"
    }
   },
   "source": [
    "If these two modules are available the HTML parse tree of the specified URL can easily be generated as follows."
   ]
  },
  {
   "cell_type": "code",
   "execution_count": 3,
   "metadata": {
    "ExecuteTime": {
     "end_time": "2017-10-20T12:50:04.344000Z",
     "start_time": "2017-10-20T12:50:03.569000Z"
    },
    "slideshow": {
     "slide_type": "fragment"
    }
   },
   "outputs": [],
   "source": [
    "#url=\"http://www.zeit.de\"\n",
    "url=\"http://www.spiegel.de\"\n",
    "#url=\"http://www.sueddeutsche.de\"\n",
    "html=urlopen(url).read()\n",
    "soup=BeautifulSoup(html,\"html.parser\")"
   ]
  },
  {
   "cell_type": "markdown",
   "metadata": {
    "slideshow": {
     "slide_type": "slide"
    }
   },
   "source": [
    "Now e.g. the title of the URL can be accessed by:"
   ]
  },
  {
   "cell_type": "code",
   "execution_count": 4,
   "metadata": {
    "ExecuteTime": {
     "end_time": "2017-10-20T12:50:06.092000Z",
     "start_time": "2017-10-20T12:50:06.086000Z"
    },
    "slideshow": {
     "slide_type": "fragment"
    }
   },
   "outputs": [
    {
     "name": "stdout",
     "output_type": "stream",
     "text": [
      "Title of page:   DER SPIEGEL | Online-Nachrichten\n"
     ]
    }
   ],
   "source": [
    "titleTag = soup.html.head.title\n",
    "print(\"Title of page:  \",titleTag.string)"
   ]
  },
  {
   "cell_type": "markdown",
   "metadata": {
    "slideshow": {
     "slide_type": "slide"
    }
   },
   "source": [
    "## Get all links in the page\n",
    "All links in the page can be retrieven by the following code (only the first 20 links are printed)"
   ]
  },
  {
   "cell_type": "code",
   "execution_count": 5,
   "metadata": {
    "ExecuteTime": {
     "end_time": "2017-10-20T12:50:07.973000Z",
     "start_time": "2017-10-20T12:50:07.951000Z"
    },
    "slideshow": {
     "slide_type": "fragment"
    }
   },
   "outputs": [
    {
     "name": "stdout",
     "output_type": "stream",
     "text": [
      "Number of links in this page:  562\n",
      "#Inhalt\n",
      "https://www.spiegel.de/nutzungsbedingungen\n",
      "https://www.spiegel.de/\n",
      "https://abo.spiegel.de/?b=SPOHNAVABO&requestAccessToken=true&sara_icid=disp_upd_9h6L5hu8K1AAnttzYATx3hvk7taDkP&targetUrl=https%3A%2F%2Fwww.spiegel.de%2Ffuermich%2F\n",
      "https://gruppenkonto.spiegel.de/authenticate?requestAccessToken=true&targetUrl=https%3A%2F%2Fwww.spiegel.de%2Ffuermich%2F\n",
      "https://www.spiegel.de/fuermich/\n",
      "https://www.spiegel.de/\n",
      "https://www.spiegel.de/schlagzeilen/\n",
      "https://www.spiegel.de/plus/\n",
      "https://www.spiegel.de/audio/\n",
      "https://www.spiegel.de/fuermich/\n",
      "https://www.spiegel.de/schlagzeilen/\n",
      "https://www.spiegel.de/plus/\n",
      "https://www.spiegel.de/thema/coronavirus/\n",
      "https://www.spiegel.de/politik/deutschland/\n",
      "https://www.spiegel.de/politik/ausland/\n",
      "https://www.spiegel.de/panorama/\n",
      "https://www.spiegel.de/sport/\n",
      "https://www.spiegel.de/wirtschaft/\n",
      "https://www.spiegel.de/netzwelt/\n"
     ]
    }
   ],
   "source": [
    "hreflinks=[]\n",
    "Alllinks=soup.findAll('a') #The <a> tag defines a hyperlink, which is used to link from one page to another.\n",
    "for l in Alllinks:\n",
    "    if l.has_attr('href'):\n",
    "        hreflinks.append(l)\n",
    "print(\"Number of links in this page: \",len(hreflinks))\n",
    "for l in hreflinks[:20]:\n",
    "    print(l['href'])"
   ]
  },
  {
   "cell_type": "markdown",
   "metadata": {
    "slideshow": {
     "slide_type": "slide"
    }
   },
   "source": [
    "## Get all news titles\n",
    "Get title of all news, which are currently listed on [www.zeit.de](http://www.zeit.de):"
   ]
  },
  {
   "cell_type": "code",
   "execution_count": 6,
   "metadata": {
    "ExecuteTime": {
     "end_time": "2017-10-20T12:50:10.208000Z",
     "start_time": "2017-10-20T12:50:10.124000Z"
    },
    "slideshow": {
     "slide_type": "fragment"
    }
   },
   "outputs": [
    {
     "name": "stdout",
     "output_type": "stream",
     "text": [
      "----------------------------------------\n",
      "Corona-Pandemie: Pauschale Reisewarnung für rund 160 Länder bis Ende September verlängert\n",
      "https://www.spiegel.de/politik/deutschland/pauschale-reisewarnung-fuer-rund-160-laender-noch-bis-ende-september-a-73e7cee5-f55e-4eb1-9757-d7014ddfaaa9\n",
      "----------------------------------------\n",
      "Nach Unfall auf A5: Gerettetes Löwenbaby kommt in Reptilienzoo unter\n",
      "https://www.spiegel.de/panorama/landau-nach-unfall-auf-a5-gerettetes-loewenbaby-kommt-in-reptilienzoo-unter-a-3828c2aa-732f-4fde-b776-03285acd8751\n",
      "----------------------------------------\n",
      "Pironkowa im Viertelfinale der US Open: Die Erfolgsmütter\n",
      "https://www.spiegel.de/sport/tennis/zwetana-pironkova-bei-den-us-open-viertelfinale-nach-drei-jahren-tennis-pause-a-a26fb60a-ff3b-4735-ac74-cdd9aab2cc7b\n",
      "----------------------------------------\n",
      "Oppositionsführerin in Belarus: Vater bestätigt Verhaftung von Marija Kolesnikowa\n",
      "https://www.spiegel.de/politik/ausland/belarus-vater-bestaetigt-verhaftung-von-oppositionsfuehrerin-marija-kolesnikowa-a-615ffcf2-51af-4a55-aa98-8d4750a2d2e3\n",
      "----------------------------------------\n",
      "Smartphone-Betriebssystem: Google veröffentlicht Android 11\n",
      "https://www.spiegel.de/netzwelt/gadgets/android-11-google-veroeffentlicht-neues-smartphone-betriebssystem-a-726d0fa1-2a33-43d4-a088-c75f7779f082\n",
      "----------------------------------------\n",
      "Das Fanal für Europa\n",
      "https://www.spiegel.de/politik/ausland/die-eu-ist-fuer-die-katastrophe-in-moria-verantwortlich-a-7b895ddb-c1d7-4e19-bc6e-2ed006dfd369\n",
      "----------------------------------------\n",
      "\"Symbol für das Versagen europäischer Flüchtlingspolitik\"\n",
      "https://www.spiegel.de/politik/deutschland/feuer-im-fluechtlingscamp-moria-symbol-fuer-das-versagen-europaeischer-fluechtlingspolitik-a-7f1c32e7-d022-4a45-ae5d-92245bc53b6f\n",
      "----------------------------------------\n",
      "Feuer vernichtet Flüchtlingslager Moria\n",
      "https://www.spiegel.de/politik/ausland/lesbos-feuer-im-fluechtlingslager-moria-a-5a02484d-3f85-4515-9ee8-93328cc1d9b2\n",
      "----------------------------------------\n",
      "Trumps unbeirrbare 40 Prozent\n",
      "https://www.spiegel.de/wirtschaft/usa-wahlen-die-furcht-vor-donald-trumps-40-prozent-a-18589437-1af5-4baa-9899-975c9c4abb82\n",
      "----------------------------------------\n",
      "Der US-Präsident braucht frisches Geld\n",
      "https://www.spiegel.de/politik/ausland/donald-trump-braucht-geld-fuer-seinen-wahlkampf-a-cb114b56-5729-4f22-808a-c8a90cbfb02c\n",
      "----------------------------------------\n",
      "Enver Şimşek, das erste Opfer des Wahnsinns\n",
      "https://www.spiegel.de/panorama/justiz/nsu-opfer-enver-simsek-das-erste-opfer-des-wahnsinns-a-ff65c6f6-2938-411d-a18b-fd8085ad86de\n",
      "----------------------------------------\n",
      "\"Boris Johnson versucht immer wieder, auf den Tisch zu hauen\"\n",
      "https://www.spiegel.de/politik/ausland/brexit-boris-johnson-versucht-immer-wieder-auf-den-tisch-zu-hauen-a-596338f7-744b-4ef9-b160-8d2eaa4fd384\n",
      "----------------------------------------\n",
      "Vater bestätigt Verhaftung von Marija Kolesnikowa\n",
      "https://www.spiegel.de/politik/ausland/belarus-vater-bestaetigt-verhaftung-von-oppositionsfuehrerin-marija-kolesnikowa-a-615ffcf2-51af-4a55-aa98-8d4750a2d2e3\n",
      "----------------------------------------\n",
      "Oppositioneller Maxim Znak in Minsk festgenommen\n",
      "https://www.spiegel.de/politik/ausland/belarus-oppositioneller-maxim-znak-offenbar-festgenommen-a-93d233bd-2d7b-418a-b4a2-5caa3ad0abce\n",
      "----------------------------------------\n",
      "Linksextreme verschickten Patronen an Seehofer und Kretschmann\n",
      "https://www.spiegel.de/politik/deutschland/horst-seehofer-und-winfried-kretschmann-erhielten-drohschreiben-von-linksextremen-a-4b770e2b-a863-4bbd-a3dc-2017eca87dda\n",
      "----------------------------------------\n",
      "Covid-19-Pandemie\n",
      "https://www.spiegel.de/thema/coronavirus/\n",
      "----------------------------------------\n",
      "Pauschale Reisewarnung für rund 160 Länder bis Ende September verlängert\n",
      "https://www.spiegel.de/politik/deutschland/pauschale-reisewarnung-fuer-rund-160-laender-noch-bis-ende-september-a-73e7cee5-f55e-4eb1-9757-d7014ddfaaa9\n",
      "----------------------------------------\n",
      "Pharmakonzern muss Studie zu Corona-Impfstoff stoppen\n",
      "https://www.spiegel.de/wissenschaft/medizin/pharmakonzern-muss-studie-fuer-corona-impfstoff-stoppen-a-cb54ddbc-a2eb-48da-8653-cb99f81623cb\n",
      "----------------------------------------\n",
      "EU bestellt 200 Millionen Dosen Impfstoff\n",
      "https://www.spiegel.de/wissenschaft/medizin/corona-news-am-mittwoch-england-untersagt-treffen-von-mehr-als-sechs-personen-a-d20df6f8-490a-44eb-8e13-3b4829a9804e\n",
      "----------------------------------------\n",
      "Züge sind offenbar keine Virenschleudern\n",
      "https://www.spiegel.de/wirtschaft/unternehmen/corona-studie-zuege-sind-laut-charite-keine-virenschleudern-a-1dae278e-fa38-431d-a919-b57857d06790\n",
      "----------------------------------------\n",
      "Müdigkeit und Kopfschmerzen - die häufigsten Corona-Anzeichen bei Kindern\n",
      "https://www.spiegel.de/wissenschaft/mensch/corona-bei-kindern-muedigkeit-und-kopfschmerzen-die-haeufigsten-covid-19-symptome-a-fa08dc22-93b1-4ca6-9ce7-0cbf21fd6aad\n",
      "----------------------------------------\n",
      "Berlusconi spricht von Kampf gegen die \"höllische Krankheit\"\n",
      "https://www.spiegel.de/politik/ausland/silvio-berlusconi-und-das-coronavirus-kampf-gegen-die-hoellische-krankheit-a-72b485ca-bad8-4665-a3f2-4f1402cfe523\n",
      "----------------------------------------\n",
      "Hauptsache, es funktioniert für mich\n",
      "https://www.spiegel.de/netzwelt/netzpolitik/digitalisierungsdrama-in-deutschland-hauptsache-es-funktioniert-fuer-mich-kolumne-a-679a1db0-d295-46ab-ad7f-fd7191d4efa9\n",
      "----------------------------------------\n",
      "Das Ende des Neoliberalismus, wie wir ihn kannten\n",
      "https://www.spiegel.de/wirtschaft/soziales/politik-und-wirtschaft-das-ende-des-neoliberalismus-kolumne-a-3a438cf5-82a3-4e56-a3c7-ecd8fcb57fe6\n",
      "----------------------------------------\n",
      "Viele öffentliche Betriebe fast ohne Frauen im Vorstand\n",
      "https://www.spiegel.de/karriere/frauen-in-oeffentlichen-betrieben-wo-bleiben-die-managerinnen-a-44f0fc27-be23-46d1-a36d-d82dff262d2e\n",
      "----------------------------------------\n",
      "\"Wenn du zu weit gehst, kommst du nicht mehr zurück\"\n",
      "https://www.spiegel.de/karriere/extrembergsteiger-thomas-huber-wenn-du-zu-weit-gehst-kommst-du-nicht-mehr-zurueck-a-466bb5fb-d7d2-49a3-a56d-f42cd17fa902\n",
      "----------------------------------------\n",
      "Google veröffentlicht Android 11\n",
      "https://www.spiegel.de/netzwelt/gadgets/android-11-google-veroeffentlicht-neues-smartphone-betriebssystem-a-726d0fa1-2a33-43d4-a088-c75f7779f082\n",
      "----------------------------------------\n",
      "Wie eine Facebook-Gruppe die Jagd auf Migranten organisiert\n",
      "https://www.bento.de/politik/eu-aussengrenze-wie-eine-facebook-gruppe-die-jagd-auf-migranten-organisiert-a-f830fedf-51ee-412e-9526-c0f41b2d80f2#refsponi\n",
      "----------------------------------------\n",
      "Die Oscars sollen diverser werden\n",
      "https://www.spiegel.de/kultur/kino/oscars-sollen-diverser-werden-quote-fuer-den-filmpreis-a-aa92b931-3c5c-4925-8f28-b574e86e7909\n",
      "----------------------------------------\n",
      "\"Ich habe immer ein Stück Brot in der Handtasche, wenn ich das Haus verlasse\"\n",
      "https://www.spiegel.de/kultur/literatur/doris-doerrie-ueber-genuss-in-krisenzeiten-der-schweinsbraten-siegt-a-00000000-0002-0001-0000-000172863274\n",
      "----------------------------------------\n",
      "Die Erfolgsmütter\n",
      "https://www.spiegel.de/sport/tennis/zwetana-pironkova-bei-den-us-open-viertelfinale-nach-drei-jahren-tennis-pause-a-a26fb60a-ff3b-4735-ac74-cdd9aab2cc7b\n",
      "----------------------------------------\n",
      "\"Ich bin nicht neidisch auf Hansi. Ich habe ihn ins Boot geholt\"\n",
      "https://www.spiegel.de/sport/fussball/niko-kovac-ueber-hansi-flick-ich-bin-nicht-neidisch-auf-hansi-a-06b5b6ea-aec9-4312-8eba-a74936ec0057\n",
      "----------------------------------------\n",
      "\"Also, der Thorsten war ja eine ganz schwierige Geburt\"\n",
      "https://www.spiegel.de/familie/junge-hebamme-ueber-ihren-beruf-ich-liebe-ihn-ja-aber-a-c9058dff-f62d-4719-b90d-f091dcb878e4\n",
      "----------------------------------------\n",
      "Aus der Ferne mögen Bienen putzig wirken\n",
      "https://www.spiegel.de/panorama/gesellschaft/bienen-als-hobby-mein-leben-als-imker-a-00000000-0002-0001-0000-000172863233\n",
      "----------------------------------------\n",
      "Die vier wichtigsten Corona-Fragen, bevor der Herbst beginnt\n",
      "https://www.spiegel.de/gesundheit/corona-faktencheck-gibt-es-nur-deshalb-mehr-faelle-weil-jetzt-so-viel-getestet-wird-a-00000000-0002-0001-0000-000172863262\n",
      "----------------------------------------\n",
      "\"Es gibt bessere Ideen, als Nord Stream 2 zu beenden\"\n",
      "https://www.spiegel.de/wirtschaft/unternehmen/gabriel-felbermayr-es-gibt-bessere-ideen-als-nord-stream-2-zu-beenden-a-21acaf75-467f-450e-9af4-7f018f85c993\n",
      "----------------------------------------\n",
      "Mit welcher Heizung Sie am meisten Geld sparen\n",
      "https://www.spiegel.de/wirtschaft/service/holzpellets-bis-waermepumpe-mit-welcher-heizung-sie-am-meisten-geld-sparen-a-82c3464c-ecda-40df-93b6-dad5f76e6410\n",
      "----------------------------------------\n",
      "\"Wichtigste Botschaft: Trennen Sie sich nicht vorschnell\"\n",
      "https://www.spiegel.de/panorama/paarberaterin-eva-maria-zurhorst-wichtigste-botschaft-trennen-sie-sich-nicht-vorschnell-a-c71f0b40-458a-45fb-806e-7a1f50aad7ab\n",
      "----------------------------------------\n",
      "Kommentare und Kolumnen\n",
      "https://www.spiegel.de/thema/meinung/\n",
      "----------------------------------------\n",
      "Queere Weltmacht, na klar\n",
      "https://www.spiegel.de/kultur/queere-weltmacht-na-klar-kolumne-a-74763faf-17be-48e1-8840-710c032cd11a\n",
      "----------------------------------------\n",
      "Alter weißer Schröder\n",
      "https://www.spiegel.de/politik/deutschland/gerhard-schroeder-schweigt-zu-anschlag-auf-alexej-nawalny-und-nord-stream-2-a-dc08d4d9-83d2-4c57-9b5f-b65df602c438\n",
      "----------------------------------------\n",
      "Das Unbehagen der deutschen Nazis\n",
      "https://www.spiegel.de/wissenschaft/mensch/corona-und-qanon-das-unbehagen-der-deutschen-nazis-a-98a0f18b-cb82-4543-aeda-1d455152c2ea\n",
      "----------------------------------------\n",
      "Der Triumph des Aluhuts\n",
      "https://www.spiegel.de/wirtschaft/usa-frankreich-deutschland-demokratie-in-gefahr-der-triumph-des-aluhuts-a-721de6da-8606-4cfb-8d30-d354c2d98013\n",
      "----------------------------------------\n",
      "Politik\n",
      "https://www.spiegel.de/politik/deutschland/\n",
      "----------------------------------------\n",
      "Die Lage am Morgen: Stresstest für den Kanzlerkandidaten\n",
      "https://www.spiegel.de/politik/deutschland/news-olaf-scholz-spd-kanzlerkandidat-corona-krise-csu-a-e01418de-8fac-418e-8f61-856ad3bda7ee\n",
      "----------------------------------------\n",
      "Sachsen-Anhalt: AfD-Landesvorstand verwarnt Schiedsgerichtspräsident der Partei\n",
      "https://www.spiegel.de/politik/deutschland/afd-in-sachsen-anhalt-landesvorstand-verwarnt-schiedsgerichtspraesident-peter-guenther-a-015c3864-eabd-4f9d-a153-6e4f2330aea5\n",
      "----------------------------------------\n",
      "Recherche- und Informationsstelle Antisemitismus: Antisemitische Vorfälle bei mindestens 123 Corona-Demos registriert\n",
      "https://www.spiegel.de/politik/deutschland/corona-demos-antisemitismus-vorfaelle-bei-123-veranstaltungen-gezaehlt-a-c607b6ee-a5df-48c4-bc97-62054e647ccb\n",
      "----------------------------------------\n",
      "Ausland\n",
      "https://www.spiegel.de/politik/ausland/\n",
      "----------------------------------------\n",
      "Großbrand in Flüchtlingslager: Das Inferno von Moria\n",
      "https://www.spiegel.de/politik/ausland/lesbos-feuerkatastrophe-in-morias-fluechtlingslager-a-f74e5207-9503-4adc-8c7e-ce227c38a5e0\n",
      "----------------------------------------\n",
      "Amrullah Saleh: Afghanistans Vizepräsident überlebt Bombenattentat\n",
      "https://www.spiegel.de/politik/ausland/afghanistan-vizepraesident-amrullah-saleh-ueberlebt-bombenattentat-a-1c01b4d6-98a5-48ce-a44e-77cbfa2de004\n",
      "----------------------------------------\n",
      "Insel Lesbos: Flüchtlingslager Moria steht in Flammen\n",
      "https://www.spiegel.de/politik/ausland/fluechtlingslager-moria-steht-fast-vollstaendig-in-flammen-a-91139977-69c6-47bc-9401-41d079e4beee\n",
      "----------------------------------------\n",
      "Panorama\n",
      "https://www.spiegel.de/panorama/\n",
      "----------------------------------------\n",
      "Nach Unfall auf A5: Gerettetes Löwenbaby kommt in Reptilienzoo unter\n",
      "https://www.spiegel.de/panorama/landau-nach-unfall-auf-a5-gerettetes-loewenbaby-kommt-in-reptilienzoo-unter-a-3828c2aa-732f-4fde-b776-03285acd8751\n",
      "----------------------------------------\n",
      "Bayern: Mann zündelt in Regionalbahn und verletzt sich schwer\n",
      "https://www.spiegel.de/panorama/grafing-mann-zuendelt-in-regionalbahn-und-verletzt-sich-schwer-a-88fd0273-bcd5-4716-8006-b11c0a6ef6fa\n",
      "----------------------------------------\n",
      "Polizeigewalt in den USA: Model Chrissy Teigen warnt ihre Kinder vor Rassismus\n",
      "https://www.spiegel.de/panorama/chrissy-teigen-warnt-ihre-kinder-vor-rassismus-a-ff7d228e-86c5-487f-b8b6-b28e3b1a60e2\n",
      "----------------------------------------\n",
      "Sport\n",
      "https://www.spiegel.de/sport/\n",
      "----------------------------------------\n",
      "NBA: LeBron James ist erfolgreichster Spieler der Playoffs\n",
      "https://www.spiegel.de/sport/basketball/nba-lebron-james-ist-erfolgreichster-spieler-der-playoffs-a-a445f601-ec2f-40bf-9380-7a32ed18b4d5\n",
      "----------------------------------------\n",
      "US Open: Alexander Zverev zieht erstmals ins Halbfinale ein\n",
      "https://www.spiegel.de/sport/tennis/us-open-alexander-zverev-zieht-ins-halbfinale-ein-a-a7e43236-fb36-4cdf-91af-682cc2825e2f\n",
      "----------------------------------------\n",
      "Nations League: Ronaldo trifft zum 100. Mal - Frankreich macht's noch mal\n",
      "https://www.spiegel.de/sport/fussball/nations-league-cristiano-ronaldo-trifft-zum-100-mal-fuer-portugal-a-1764bbf0-c27f-42ec-9d11-46d1cf99c766\n",
      "----------------------------------------\n",
      "Wirtschaft\n",
      "https://www.spiegel.de/wirtschaft/\n",
      "----------------------------------------\n",
      "Coronakrise und Amazonas-Schutz: Deutschland kauft weniger Fleisch aus Brasilien\n",
      "https://www.spiegel.de/wirtschaft/corona-krise-und-amazonas-deutschland-kauft-weniger-fleisch-aus-brasilien-a-de3532ad-7a92-43d1-ab66-64af703fccb2\n",
      "----------------------------------------\n",
      "Ifo-Institut: Viele Industriefirmen wollen nach Corona Messen weniger nutzen\n",
      "https://www.spiegel.de/wirtschaft/unternehmen/ifo-institut-viele-industriefirmen-wollen-auf-messen-auch-nach-corona-verzichten-a-34c115cc-a66b-47cb-8276-523574f9e512\n",
      "----------------------------------------\n",
      "Autogipfel: Vorerst keine Kaufprämien für Autos mit Verbrennungsmotoren\n",
      "https://www.spiegel.de/wirtschaft/unternehmen/autogipfel-offenbar-keine-kaufpraemien-fuer-autos-mit-verbrennungsmotoren-a-b6a1f701-711c-4cca-8e88-5c31bc908b8f\n",
      "----------------------------------------\n",
      "Roboterhersteller UiPath: Dieser Rumäne führt Europas wertvollstes Start-up\n",
      "https://www.manager-magazin.de/unternehmen/tech/uipath-aus-rumaenien-das-ist-europas-wertvollstes-start-up-a-00000000-0002-0001-0000-000172590406\n",
      "----------------------------------------\n",
      "Elektronik und Verarbeitung: VWs Hoffnungsträger ID.3 enttäuscht im Test\n",
      "https://www.manager-magazin.de/unternehmen/autoindustrie/volkswagen-ag-elektroauto-id-3-enttaeuscht-im-test-a-01dbee74-c740-43f5-bdf7-f5aecda14f96\n",
      "----------------------------------------\n",
      "Jim Farleys digitale Pläne: Neuer Ford-Chef will Datengeschäft um den F-150 aufbauen\n",
      "https://www.manager-magazin.de/unternehmen/autoindustrie/ford-jim-farley-will-rund-um-den-f-150-digitale-dienste-anbieten-a-64997019-5010-4bb1-ad8d-e7c05a6e1cbb\n",
      "----------------------------------------\n",
      "Börsenkurse manager magazin\n",
      "https://boersen.manager-magazin.de\n",
      "----------------------------------------\n",
      "Wissenschaft\n",
      "https://www.spiegel.de/wissenschaft/\n",
      "----------------------------------------\n",
      "Lebensmitteluntersuchung: Hepatitis-E-Viren in Schweinefleisch nachgewiesen\n",
      "https://www.spiegel.de/wissenschaft/mensch/schweinefleisch-hepatitis-e-viren-nachgewiesen-a-c14b2cd0-2b0b-4a13-b338-d88b8bc0d719\n",
      "----------------------------------------\n",
      "Atlantikstürme 2020: Hurrikan \"Rene\" bricht Rekord\n",
      "https://www.spiegel.de/wissenschaft/natur/rene-im-atlantik-hurrikan-bricht-rekord-a-23701279-4e78-4ea3-9dbb-523b24d8eacb\n",
      "----------------------------------------\n",
      "Historischer Zusammenschluss: Pharmakonzerne versprechen sichere Impfstoffentwicklung\n",
      "https://www.spiegel.de/wissenschaft/medizin/coronavirus-pharmakonzerne-versprechen-sichere-impfstoffentwicklung-a-2a742f0f-d040-44b7-9da0-c8168345ff0d\n",
      "----------------------------------------\n",
      "Netzwelt\n",
      "https://www.spiegel.de/netzwelt/\n",
      "----------------------------------------\n",
      "Spielkonsole: Xbox Series S wird 300 Euro kosten\n",
      "https://www.spiegel.de/netzwelt/games/xbox-series-s-wird-300-euro-kosten-a-50946ec8-6345-4526-9631-6bce8e53d3cd\n",
      "----------------------------------------\n",
      "EU-Kommission gegen Kindesmissbrauch: Verschlüsselung bitte nur für gute Menschen\n",
      "https://www.spiegel.de/netzwelt/netzpolitik/eu-kommission-gegen-kindesmissbrauch-verschluesselung-bitte-nur-fuer-gute-menschen-a-8db88bf2-29c8-495c-83e9-818bf05d7d85\n",
      "----------------------------------------\n",
      "\"Die Zeit verfliegt\": Apple kündigt Event an\n",
      "https://www.spiegel.de/netzwelt/gadgets/apple-kuendigt-event-an-die-zeit-verfliegt-a-0b8d34b7-cbc7-4206-b52b-5b4b7c902845\n",
      "----------------------------------------\n",
      "Kultur\n",
      "https://www.spiegel.de/kultur/\n",
      "----------------------------------------\n",
      "Realityshow endet nach 14 Jahren: \"Keeping Up with the Kardashians\" wird eingestellt\n",
      "https://www.spiegel.de/kultur/tv/kim-kardashian-verkuendet-aus-keeping-up-with-the-kardashians-wird-eingestellt-a-2300d195-74c8-44e7-ba97-ef0fcb1f84a6\n",
      "----------------------------------------\n",
      "Ausstellung im Berghain: Aufblasbarer Penis und Syphilis-Skulpturen\n",
      "https://www.spiegel.de/kultur/berghain-in-berlin-zeigt-kunst-ausstellung-aufblasbarer-penis-a-5994dd55-6be6-45a0-a6b3-6a02c7e50bd0\n",
      "----------------------------------------\n",
      "ARD-Serie \"Oktoberfest 1900\": Bier her, Bier her, oder I fall um, fallera\n",
      "https://www.spiegel.de/kultur/tv/ard-serie-oktoberfest-1900-bier-und-blut-kritik-a-97650ecb-d1d7-40e9-abe0-18c4e4b411b1\n",
      "----------------------------------------\n",
      "Warum Gleichberechtigung beim Orgasmus anfängt\n",
      "https://www.bento.de/gefuehle/warum-frauen-angeblich-laenger-fuer-den-orgasmus-brauchen-und-das-falsch-ist-a-00000000-0003-0001-0000-000002427083\n",
      "----------------------------------------\n",
      "Günstiger als AirPods, aber trotzdem gut: Welcher True-Wireless-Kopfhörer für dich der richtige ist\n",
      "https://www.bento.de/gadgets/wireless-kopfhoerer-guenstige-alternativen-zu-apple-airpods-sennheiser-und-co-in-guter-qualitaet-a-b88cd1f0-1cd3-4f0c-9482-6fdeb7844e1a\n",
      "----------------------------------------\n",
      "Rapperin Nura über Erfolg trotz Sexismus: \"Ich habe hardcore rasiert!\"\n",
      "https://www.bento.de/musik/rapperin-nura-ueber-erfolg-trotz-sexismus-ich-habe-hardcore-rasiert-a-a7c2274f-3ac4-44ba-a9c3-624ef2fbc875\n",
      "----------------------------------------\n",
      "Tests\n",
      "https://www.spiegel.de/tests/\n",
      "----------------------------------------\n",
      "Automatische Schlauchrollen im Test: Schläuche, die sich selbst aufrollen\n",
      "https://www.spiegel.de/tests/garten/automatische-schlauchrollen-im-test-schlaeuche-die-sich-selbst-aufrollen-a-860bfb3f-56df-491e-92bf-43e2b43f19d9\n",
      "----------------------------------------\n",
      "Bestseller Link\n",
      "https://www.spiegel.de/kultur/bestseller-buecher-belletristik-sachbuch-auf-spiegel-liste-a-458623.html\n",
      "----------------------------------------\n",
      "Geschichte\n",
      "https://www.spiegel.de/geschichte/\n",
      "----------------------------------------\n",
      "Mario Adorf wird 90: \"Ist das mein letztes Mal?\"\n",
      "https://www.spiegel.de/geschichte/mario-adorf-wird-90-ist-das-mein-letztes-mal-a-37b8f7b4-a162-493f-8ba0-132d09ebd353\n",
      "----------------------------------------\n",
      "Hinrichtung von Marinesoldaten 1945: Sie wollten nicht mehr mitspielen, der Krieg war ja aus\n",
      "https://www.spiegel.de/geschichte/zweiter-weltkrieg-hinrichtung-von-marinesoldaten-1945-in-daenemark-a-2a604517-c979-451a-92f3-a41348903371\n",
      "----------------------------------------\n",
      "Archäologen erforschen Säuglingsgräber: Das Rätsel der Traufkinder\n",
      "https://www.spiegel.de/geschichte/archaeologen-erforschen-saeuglingsgraeber-das-raetsel-der-traufkinder-a-00000000-0002-0001-0000-000172863264\n",
      "----------------------------------------\n",
      "Job & Karriere\n",
      "https://www.spiegel.de/karriere/\n",
      "----------------------------------------\n",
      "Tipps von den Karriereberaterinnen: Hoch qualifiziert und arbeitslos - wie finde ich trotz Krise einen guten Job?\n",
      "https://www.spiegel.de/karriere/hoch-qualifiziert-auslandserfahrung-jetzt-arbeitslos-was-tun-tipps-a-e971a2ef-630a-4f10-a0ce-8af4f654bd6d\n",
      "----------------------------------------\n",
      "Start-up statt Burn-out: \"Ich bin jetzt entspannter und ausgeglichener\"\n",
      "https://www.spiegel.de/karriere/firmen-gruender-zieht-fazit-ich-bin-jetzt-entspannter-und-ausgeglichener-a-acb21ee1-9901-461c-8e12-b65b3f4c2843\n",
      "----------------------------------------\n",
      "TK-Auswertung der Corona-Zeit: Krankmeldungen steigen nur leicht\n",
      "https://www.spiegel.de/karriere/krankenkasse-kaum-mehr-krankmeldungen-als-im-vorjahr-a-429e3c7c-25ef-4337-b479-924fc39e264a\n",
      "----------------------------------------\n",
      "Mobilität\n",
      "https://www.spiegel.de/auto/\n",
      "----------------------------------------\n",
      "Autogramm Citroën Ami: Gesundgeschrumpft\n",
      "https://www.spiegel.de/auto/fahrberichte/citroen-ami-im-test-gesundgeschrumpft-a-3886bc2a-a8e9-4830-9f89-5a51561368f9\n",
      "----------------------------------------\n",
      "Streit um StVO-Novellen: Vermutlich gilt jetzt die Straßenverkehrsordnung von 2007\n",
      "https://www.spiegel.de/auto/strassenverkehrsordnung-auch-die-novelle-von-2013-koennte-nichtig-sein-a-2338ab56-a99c-4a78-8842-856c334b48fc\n",
      "----------------------------------------\n",
      "E-Citybike Muto im Test: Das neue Hollandrad\n",
      "https://www.spiegel.de/auto/fahrberichte/muto-im-test-das-multifunktionale-stadtfahrzeug-a-6e950a02-ffed-4036-bb05-47cc583e5cd9\n",
      "----------------------------------------\n",
      "Alle Podcasts\n",
      "https://www.spiegel.de/thema/podcasts_vom_spiegel/\n",
      "----------------------------------------\n",
      "Leben\n",
      "https://www.spiegel.de/thema/leben/\n",
      "----------------------------------------\n",
      "Natürliches und gesundes Essen - was ist das eigentlich?\n",
      "https://www.spiegel.de/gesundheit/ernaehrung/natuerliche-ernaehrung-zurueck-zu-den-wurzeln-a-00000000-0002-0001-0000-000172248250\n",
      "----------------------------------------\n",
      "Ein Mixtape gegen das Fernweh\n",
      "https://www.spiegel.de/familie/midlife-krise-und-corona-frust-ein-mixtape-gegen-das-fernweh-kolumne-a-51fbd45e-0582-4319-827f-776fc4ed39c7\n",
      "----------------------------------------\n",
      "\"Menschen werfen uns offenbar vor, wir hätten die Krankheit ins Dorf gebracht\"\n",
      "https://www.spiegel.de/psychologie/stigma-coronavirus-wie-covid-19-die-beziehung-zu-freunden-und-kollegen-veraendern-kann-a-d76839ad-d25b-4063-8f55-884bc86824cf\n",
      "----------------------------------------\n",
      "Die \"Peking\" kommt heim\n",
      "https://www.spiegel.de/reise/peking-kommt-heim-historischer-hamburger-viermaster-kehrt-aus-new-york-zurueck-a-bfaa5e0e-fe4d-4e98-be04-656faa1c195c\n",
      "----------------------------------------\n",
      "Körper, hör die Signale!\n",
      "https://www.spiegel.de/gesundheit/ernaehrung/koerper-hoer-die-signale-a-d8bca75b-6ebf-4376-88f7-cbd97d10feb3\n",
      "----------------------------------------\n",
      "Das Null-Zucker-Experiment\n",
      "https://www.spiegel.de/gesundheit/ernaehrung/ernaehrung-ohne-zucker-im-selbstversuch-zum-gesunden-darm-a-c9d63fe2-5333-4295-9721-68b7b6555196\n",
      "----------------------------------------\n",
      "Auf den Spuren der Schuhgeschichte\n",
      "https://www.spiegel.de/stil/step-by-step-im-deutschen-schuhmuseum-vier-jahrtausende-schuhgeschichte-a-9df6ca47-235f-4203-9e26-67ce1d28129d\n",
      "----------------------------------------\n",
      "Neue Produkte im Test\n",
      "https://www.spiegel.de/thema/test_und_produkte/\n",
      "----------------------------------------\n",
      "Mit dieser Ausrüstung wird Camping komfortabel\n",
      "https://www.spiegel.de/tests/camping/camping-ausruestung-im-test-mit-diesem-zubehoer-wird-es-komfortabel-a-c2b15a80-9a65-4715-b4d0-84dc6bbc59a7\n",
      "----------------------------------------\n",
      "Regenmacher\n",
      "https://www.spiegel.de/tests/garten/rasensprenger-im-test-regenmacher-a-4b6c967d-e341-4bf9-9ad1-7445acfc1a95\n",
      "----------------------------------------\n",
      "Ausgewogen\n",
      "https://www.spiegel.de/tests/kueche/digitale-kuechenwaagen-im-test-ausgewogen-a-01fd48a5-80ca-46ef-8206-d652e1974a0c\n",
      "----------------------------------------\n",
      "Akku-Handstaubsauger im Test\n",
      "https://www.spiegel.de/tests/haushalt/akku-handstaubsauger-im-test-sauberkeit-unplugged-a-0a35e479-4077-41bb-8a69-88c11ca15021\n",
      "----------------------------------------\n",
      "Pfannenhilfe für Hobbyköche\n",
      "https://www.spiegel.de/stil/pfanne-welche-ist-die-richtige-fuer-braten-schmoren-roesten-a-b0ed89c1-6ded-4303-830f-b36bec0ef35a\n",
      "----------------------------------------\n",
      "Dein SPIEGEL\n",
      "https://www.spiegel.de/deinspiegel/\n",
      "----------------------------------------\n",
      "\"Als ob ich fliegen könnte\"\n",
      "https://www.spiegel.de/deinspiegel/skateboard-profi-tony-hawk-im-kinder-interview-als-ob-ich-fliegen-koennte-a-00000000-0002-0001-0000-000171724301\n",
      "----------------------------------------\n",
      "So gewinnst du bei \"Schere, Stein, Papier\"\n",
      "https://www.spiegel.de/deinspiegel/schere-stein-papier-oder-schnick-schnack-schnuck-so-gewinnst-du-das-spiel-a-ac234a20-886a-4504-94cb-21f4113af681\n",
      "----------------------------------------\n",
      "Bild des Tages\n",
      "https://www.spiegel.de/fotostrecke/bilder-des-tages-fotos-aus-deutschland-und-der-welt-fotostrecke-122824.html\n"
     ]
    }
   ],
   "source": [
    "#print soup.get_text()hreflinks=[]\n",
    "AllTitles=soup.findAll('h2')\n",
    "alltitles=[]\n",
    "alltitleLinks=[]\n",
    "for l in AllTitles:\n",
    "    #print l\n",
    "    try:\n",
    "        title = l.find('a')['title']\n",
    "        link = l.find('a')['href']\n",
    "        print('-'*40)\n",
    "        print(title)\n",
    "        print(link)\n",
    "        alltitles.append(title)\n",
    "        alltitleLinks.append(link)\n",
    "    except:\n",
    "        pass"
   ]
  },
  {
   "cell_type": "markdown",
   "metadata": {
    "slideshow": {
     "slide_type": "slide"
    }
   },
   "source": [
    "## Get all images of the page\n",
    "\n",
    "Get url of all images, which are currently displayed on [www.zeit.de](http://www.zeit.de):"
   ]
  },
  {
   "cell_type": "code",
   "execution_count": 8,
   "metadata": {
    "ExecuteTime": {
     "end_time": "2017-10-20T12:50:12.456000Z",
     "start_time": "2017-10-20T12:50:12.440000Z"
    },
    "slideshow": {
     "slide_type": "fragment"
    }
   },
   "outputs": [
    {
     "name": "stdout",
     "output_type": "stream",
     "text": [
      "data:image/gif;base64,R0lGODlhAQABAAAAACH5BAEKAAEALAAAAAABAAEAAAICTAEAOw==\n",
      "https://cdn.prod.www.spiegel.de/images/d77355bc-66e9-4014-b516-8a91a7c55108_w56_r1_fpx47.24_fpy44.9.png\n",
      "https://cdn.prod.www.spiegel.de/images/d77355bc-66e9-4014-b516-8a91a7c55108_w56_r1_fpx47.24_fpy44.9.png\n",
      "https://cdn.prod.www.spiegel.de/images/808c40a0-09ec-4381-b43c-267c6f8358a3_w872_r1.77_fpx74_fpy43.jpg\n",
      "https://cdn.prod.www.spiegel.de/images/65a18d00-44f6-4556-a53e-723602d99963_w117_r1.33_fpx52_fpy90.jpg\n",
      "https://cdn.prod.www.spiegel.de/images/65a18d00-44f6-4556-a53e-723602d99963_w488_r1.77_fpx52_fpy90.jpg\n",
      "https://cdn.prod.www.spiegel.de/images/e757f4da-cd30-41af-997b-95b68c04a166_w488_r1.77_fpx56.63_fpy55.jpg\n",
      "https://cdn.prod.www.spiegel.de/images/6cd87c9c-d135-4a4b-9a23-5232be787c22_w117_r1.33_fpx50.17_fpy45.jpg\n",
      "https://cdn.prod.www.spiegel.de/images/6cd87c9c-d135-4a4b-9a23-5232be787c22_w488_r1.77_fpx50.17_fpy45.jpg\n",
      "https://cdn.prod.www.spiegel.de/images/8e62e78d-b493-4ec4-a4c1-86aac43c3704_w56_r1_fpx49.57_fpy44.9.png\n"
     ]
    }
   ],
   "source": [
    "imglinks=[]\n",
    "AllImgs=soup.findAll('img')\n",
    "for l in AllImgs:\n",
    "    if l.has_attr('src'):\n",
    "       imglinks.append(l)\n",
    "\n",
    "for l in imglinks[:10]:\n",
    "    print(l['src'])"
   ]
  },
  {
   "cell_type": "markdown",
   "metadata": {
    "slideshow": {
     "slide_type": "slide"
    }
   },
   "source": [
    "## Get entire text of a news-article"
   ]
  },
  {
   "cell_type": "code",
   "execution_count": 9,
   "metadata": {
    "ExecuteTime": {
     "end_time": "2017-10-20T13:09:24.145000Z",
     "start_time": "2017-10-20T13:09:23.833000Z"
    },
    "slideshow": {
     "slide_type": "fragment"
    }
   },
   "outputs": [
    {
     "name": "stdout",
     "output_type": "stream",
     "text": [
      "\n",
      "SPIEGEL+-Zugang wird gerade auf einem anderen Gerät genutzt\n",
      "\n",
      "SPIEGEL+ kann nur auf einem Gerät zur selben Zeit genutzt werden.\n",
      "\n",
      "Klicken Sie auf den Button, spielen wir den Hinweis auf dem anderen Gerät aus und Sie können SPIEGEL+ weiter nutzen.\n",
      "\n",
      "\n",
      "Passagiere am Flughafen Mallorca\n",
      "Die Bundesregierung verlängert ihre weltweite Reisewarnung für Drittstaaten außerhalb der Europäischen Union bis zum 30. September. Das weltweite Infektionsgeschehen mache dies erforderlich, sagt eine Sprecherin des Auswärtigem Amtes in Berlin. Vom 1. Oktober an soll es nach einem Beschluss des Bundeskabinetts dann auf die Lage in den einzelnen Staaten zugeschnittene Bewertungen geben, wie die Deutsche Presse-Agentur am Mittwoch aus Regierungskreisen erfuhr. Der Beschluss des Kabinetts wurde auf der Bundespressekonferenz mitgeteilt.\n",
      "An der Möglichkeit zu reisen werde sich damit praktisch wohl wenig ändern, sagte eine Sprecherin des Auswärtigen Amtes. Allerdings werde zu einem differenzierten System übergegangen. Es werde wohl so sein, dass für Länder, die als Risikogebiete gelten, weiter eine Reisewarnung gelten könne.\n",
      "Die pauschale Verlängerung war zuletzt vor allem von der Reisebranche kritisiert worden. Der Reiseverband DRV hatte nach früheren Entscheidungen von einem \"falschen Signal\" gesprochen. Hauptkritikpunkt war, dass die Reisewarnung bislang pauschal für mehr als 80 Prozent der Länder dieser Welt gilt. Die Reisewarnung erfolgt unabhängig von der Einstufung von Ländern als Risikogebiet. Nur in Europa wird die Lage bislang differenziert betrachtet.\n",
      "Eine Reisewarnung ist kein Verbot, soll aber eine erhebliche abschreckende Wirkung haben. Allerdings hat sie auch eine positive Seite für Verbraucher: Sie ermöglicht es Reisenden, Buchungen kostenlos zu stornieren.\n",
      "Am 17. März hatte Bundesaußenminister Heiko Maas (SPD) wegen der steigenden Corona-Infektionszahlen eine beispiellose Maßnahme verkündet: Eine Warnung vor touristischen Reisen in alle rund 200 Länder der Welt. Erst im Juni - unmittelbar vor Beginn der Haupturlaubszeit - wurden die Länder der Europäischen Union, des grenzkontrollfreien Schengen-Raums sowie Großbritannien, Andorra, Monaco, San Marino und der Vatikanstaat ausgenommen.\n",
      "Passagiere am Flughafen Mallorca\n",
      "Melden Sie sich an und diskutieren Sie mit\n"
     ]
    }
   ],
   "source": [
    "IDX=0\n",
    "suburl=alltitleLinks[IDX]\n",
    "try:\n",
    "    html=urlopen(suburl).read() #works if subdomains are referenced by absolute path\n",
    "except:\n",
    "    html=urlopen(url+suburl).read() #works if subdomains are referenced by relative path\n",
    "soup=BeautifulSoup(html,\"html.parser\")\n",
    "AllP=soup.findAll('p')\n",
    "for p in AllP:\n",
    "    print(p.get_text())"
   ]
  },
  {
   "cell_type": "markdown",
   "metadata": {
    "collapsed": true,
    "slideshow": {
     "slide_type": "skip"
    }
   },
   "source": [
    "## Questions and Remarks\n",
    "1. This notebook demonstrates how raw-text can be crawled from news-sites. But what is the drawback of this method?\n",
    "2. Execute the entire notebook also for `www.spiegel.de` and `www.sueddeutsche.de`.\n",
    "3. What do you observe? How to solve the problem?"
   ]
  },
  {
   "cell_type": "code",
   "execution_count": null,
   "metadata": {
    "collapsed": true
   },
   "outputs": [],
   "source": []
  }
 ],
 "metadata": {
  "celltoolbar": "Slideshow",
  "kernelspec": {
   "display_name": "Python 3",
   "language": "python",
   "name": "python3"
  },
  "language_info": {
   "codemirror_mode": {
    "name": "ipython",
    "version": 3
   },
   "file_extension": ".py",
   "mimetype": "text/x-python",
   "name": "python",
   "nbconvert_exporter": "python",
   "pygments_lexer": "ipython3",
   "version": "3.7.5"
  },
  "nav_menu": {},
  "toc": {
   "base_numbering": 1,
   "nav_menu": {},
   "number_sections": true,
   "sideBar": true,
   "skip_h1_title": false,
   "title_cell": "Table of Contents",
   "title_sidebar": "Contents",
   "toc_cell": false,
   "toc_position": {},
   "toc_section_display": "block",
   "toc_window_display": false
  },
  "varInspector": {
   "cols": {
    "lenName": 16,
    "lenType": 16,
    "lenVar": 40
   },
   "kernels_config": {
    "python": {
     "delete_cmd_postfix": "",
     "delete_cmd_prefix": "del ",
     "library": "var_list.py",
     "varRefreshCmd": "print(var_dic_list())"
    },
    "r": {
     "delete_cmd_postfix": ") ",
     "delete_cmd_prefix": "rm(",
     "library": "var_list.r",
     "varRefreshCmd": "cat(var_dic_list()) "
    }
   },
   "types_to_exclude": [
    "module",
    "function",
    "builtin_function_or_method",
    "instance",
    "_Feature"
   ],
   "window_display": false
  }
 },
 "nbformat": 4,
 "nbformat_minor": 1
}
