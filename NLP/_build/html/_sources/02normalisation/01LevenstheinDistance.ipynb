{
 "cells": [
  {
   "cell_type": "markdown",
   "metadata": {},
   "source": [
    "# Correction of Spelling Errors\n",
    "\n",
    "* Author: Johannes Maucher\n",
    "* Last Update: 2020-09-09"
   ]
  },
  {
   "cell_type": "markdown",
   "metadata": {},
   "source": [
    "## Overall Process\n",
    "\n",
    "Correction of misspelled words requires\n",
    "* the detection of an error\n",
    "* the determination of likely candidates for the correct word\n",
    "* the determination of the nearest correct word, given the erroneous word\n",
    "\n",
    "The detection of an erroneous word can be done by just checking if the given word is contained in the underlying vocabulary. If the word is not contained in the vocabulary a **statistical language model** (see chapter xxx) is applied in order to determine the most probable words at the given position for the given context - the context is typically given by the neighbouring words. For the set of most probable valid words at the position of the erroneous words the nearest one is determined. For this a method to determine `distance` (or `similarity`) is required. In the following section the most common method to measure distance between two character-sequences, the Levensthein-Distance, is described."
   ]
  },
  {
   "cell_type": "markdown",
   "metadata": {},
   "source": [
    "## Levensthein Distance\n",
    "\n",
    "The `Minimum Edit Distance` (MED) between two character-sequences $\\overrightarrow{s_1}$ and $\\overrightarrow{s_2}$ is defined to be the minimum number of edit-operations to transform  $\\overrightarrow{s_1}$ into $\\overrightarrow{s_2}$. The set of edit operations is *Insert (I), Delete (D) and Replace (R)* a single character. Since *R* can be considered to be a combination of D and R, it may make sense to define the costs of *R* to be 2, whereas the costs of *I* and *D* are 1 each. In this case (where *R* has double costs), the distance-measure is called `Levensthein Distance`.  "
   ]
  },
  {
   "cell_type": "markdown",
   "metadata": {},
   "source": [
    "```{admonition} Example\n",
    ":class: dropdown\n",
    "The Levensthein Distance between *aply* and *apply* is 1, because one *Insert (I)* is required to transform the first into the second character-sequence. The Levensthein Distance between *aply* and *apple* is 3, because one *Insert (I)* and one *Replace (R)* is required.  \n",
    "```"
   ]
  },
  {
   "cell_type": "markdown",
   "metadata": {},
   "source": [
    "### Define function for Levensthein distance:"
   ]
  },
  {
   "cell_type": "markdown",
   "metadata": {},
   "source": [
    "**Initialising:**\n",
    "$$\n",
    "D[i,0]=i \\quad \\forall i \\in [0,n] \n",
    "$$\n",
    "$$\n",
    "D[0,j]=j \\quad \\forall j \\in [0,m] \n",
    "$$\n",
    "\n",
    "**Rekursion**\n",
    "\n",
    "For all $i \\in [1,n]$:\n",
    "       For all $j \\in [1,m]$:\n",
    "$$\n",
    "D[i,j]=\\min \\left\\{\n",
    "\\begin{array}{l}\n",
    "D[i-1,j]+1 \\\\\n",
    "D[i,j-1]+1 \\\\\n",
    "D[i-1,j-1] + \\left\\{ \n",
    "\\begin{array}{lll} \n",
    "2 & if & \\underline{a}_i \\neq \\underline{b}_j \\\\    \n",
    "0 & if & \\underline{a}_i = \\underline{b}_j \n",
    "\\end{array}\n",
    "\\right.\n",
    "\\end{array}\n",
    "\\right.\n",
    "$$\n",
    "**Termination**\n",
    "\n",
    "$$MED(\\underline{a},\\underline{b})=D[n,m]$$"
   ]
  },
  {
   "cell_type": "markdown",
   "metadata": {},
   "source": [
    "<figure align=\"center\">\n",
    "<img width=\"700\" src=\"https://maucher.home.hdm-stuttgart.de/Pics/medTableEmpty.png\">\n",
    "<figcaption>NLP Processing Chain</figcaption>\n",
    "</figure>\n"
   ]
  },
  {
   "cell_type": "markdown",
   "metadata": {},
   "source": [
    "<figure align=\"center\">\n",
    "<img width=\"670\" src=\"https://maucher.home.hdm-stuttgart.de/Pics/medTableFull.png\">\n",
    "<figcaption>NLP Processing Chain</figcaption>\n",
    "</figure>"
   ]
  },
  {
   "cell_type": "code",
   "execution_count": 1,
   "metadata": {
    "ExecuteTime": {
     "end_time": "2017-09-27T06:02:02.234000Z",
     "start_time": "2017-09-27T06:02:02.203000Z"
    }
   },
   "outputs": [],
   "source": [
    "def levdist(first, second):\n",
    "    if len(first) > len(second):\n",
    "        first, second = second, first\n",
    "    if len(second) == 0:\n",
    "        return len(first)\n",
    "    first_length = len(first) + 1\n",
    "    second_length = len(second) + 1\n",
    "    distance_matrix = [[0] * second_length for x in range(first_length)]\n",
    "    for i in range(first_length):\n",
    "       distance_matrix[i][0] = i\n",
    "    for j in range(second_length):\n",
    "       distance_matrix[0][j]=j\n",
    "    for i in range(1, first_length):\n",
    "        for j in range(1, second_length):\n",
    "            deletion = distance_matrix[i-1][j] + 1\n",
    "            insertion = distance_matrix[i][j-1] + 1\n",
    "            substitution = distance_matrix[i-1][j-1]\n",
    "            if first[i-1] != second[j-1]:\n",
    "                substitution += 2 #Use +=1 for Minimum Edit Distance\n",
    "            distance_matrix[i][j] = min(insertion, deletion, substitution)\n",
    "    return distance_matrix[first_length-1][second_length-1]"
   ]
  },
  {
   "cell_type": "markdown",
   "metadata": {},
   "source": [
    "Apply the function defined above for calculation of Levensthein distance between two words:"
   ]
  },
  {
   "cell_type": "code",
   "execution_count": 2,
   "metadata": {
    "ExecuteTime": {
     "end_time": "2017-09-27T06:02:05.107000Z",
     "start_time": "2017-09-27T06:02:05.091000Z"
    }
   },
   "outputs": [
    {
     "name": "stdout",
     "output_type": "stream",
     "text": [
      "2\n"
     ]
    }
   ],
   "source": [
    "print(levdist(\"rakete\",\"rokete\"))"
   ]
  },
  {
   "cell_type": "code",
   "execution_count": null,
   "metadata": {},
   "outputs": [],
   "source": []
  },
  {
   "cell_type": "code",
   "execution_count": null,
   "metadata": {},
   "outputs": [],
   "source": []
  }
 ],
 "metadata": {
  "kernelspec": {
   "display_name": "Python 3",
   "language": "python",
   "name": "python3"
  },
  "language_info": {
   "codemirror_mode": {
    "name": "ipython",
    "version": 3
   },
   "file_extension": ".py",
   "mimetype": "text/x-python",
   "name": "python",
   "nbconvert_exporter": "python",
   "pygments_lexer": "ipython3",
   "version": "3.7.5"
  },
  "nav_menu": {},
  "toc": {
   "base_numbering": 1,
   "nav_menu": {},
   "number_sections": true,
   "sideBar": true,
   "skip_h1_title": false,
   "title_cell": "Table of Contents",
   "title_sidebar": "Contents",
   "toc_cell": false,
   "toc_position": {},
   "toc_section_display": "block",
   "toc_window_display": false
  },
  "varInspector": {
   "cols": {
    "lenName": 16,
    "lenType": 16,
    "lenVar": 40
   },
   "kernels_config": {
    "python": {
     "delete_cmd_postfix": "",
     "delete_cmd_prefix": "del ",
     "library": "var_list.py",
     "varRefreshCmd": "print(var_dic_list())"
    },
    "r": {
     "delete_cmd_postfix": ") ",
     "delete_cmd_prefix": "rm(",
     "library": "var_list.r",
     "varRefreshCmd": "cat(var_dic_list()) "
    }
   },
   "types_to_exclude": [
    "module",
    "function",
    "builtin_function_or_method",
    "instance",
    "_Feature"
   ],
   "window_display": false
  }
 },
 "nbformat": 4,
 "nbformat_minor": 2
}
