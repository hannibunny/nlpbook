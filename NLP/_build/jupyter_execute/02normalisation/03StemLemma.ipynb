{
 "cells": [
  {
   "cell_type": "markdown",
   "metadata": {},
   "source": [
    "TextBlob Stemming and Lemmatization\n",
    "=====================================\n",
    "\n",
    "- Author:      Johannes Maucher\n",
    "- Last update: 2020-09-15\n",
    "\n",
    "In this notebook the application of stemming and lemmatization shall be demonstrated. For this we apply the correponding modules provided by the NLP package [**TextBlob**](https://textblob.readthedocs.io/en/dev/). Since stemming and lemmatization both require the segmentation of texts into lists of words, segmentation and other preprocessing-functions of TextBlob are also shown. In notebook [Regular Expressions](../01access/05RegularExpressions.ipynb) it has already been demonstrated how to implement segementation in python without additional packages. If you like to go directly to [Word Normalisation click here](#word_normalisation). \n",
    "\n",
    "[**TextBlob**](https://textblob.readthedocs.io/en/dev/) is a Python library for Natural Language Processing. It provides a simple API for, e.g.\n",
    "* Noun phrase extraction\n",
    "* Part-of-speech tagging\n",
    "* Sentiment analysis\n",
    "* Classification\n",
    "* Language translation and detection powered by Google Translate\n",
    "* Tokenization (splitting text into words and sentences)\n",
    "* Word and phrase frequencies\n",
    "* Parsing\n",
    "* n-grams\n",
    "* Word inflection (pluralization and singularization) and lemmatization\n",
    "* Spelling correction\n",
    "* WordNet integration"
   ]
  },
  {
   "cell_type": "code",
   "execution_count": 1,
   "metadata": {
    "execution": {
     "iopub.execute_input": "2020-09-18T05:36:24.411071Z",
     "iopub.status.busy": "2020-09-18T05:36:24.409912Z",
     "iopub.status.idle": "2020-09-18T05:36:24.415211Z",
     "shell.execute_reply": "2020-09-18T05:36:24.412997Z"
    }
   },
   "outputs": [],
   "source": [
    "#!pip install textblob"
   ]
  },
  {
   "cell_type": "code",
   "execution_count": 2,
   "metadata": {
    "execution": {
     "iopub.execute_input": "2020-09-18T05:36:24.427197Z",
     "iopub.status.busy": "2020-09-18T05:36:24.426018Z",
     "iopub.status.idle": "2020-09-18T05:36:25.767878Z",
     "shell.execute_reply": "2020-09-18T05:36:25.769929Z"
    }
   },
   "outputs": [
    {
     "name": "stdout",
     "output_type": "stream",
     "text": [
      "0.15.3\n"
     ]
    }
   ],
   "source": [
    "import textblob\n",
    "print(textblob.__version__)"
   ]
  },
  {
   "cell_type": "code",
   "execution_count": 3,
   "metadata": {
    "ExecuteTime": {
     "end_time": "2017-10-24T13:39:31.517000Z",
     "start_time": "2017-10-24T13:39:30.314000Z"
    },
    "execution": {
     "iopub.execute_input": "2020-09-18T05:36:25.779969Z",
     "iopub.status.busy": "2020-09-18T05:36:25.778814Z",
     "iopub.status.idle": "2020-09-18T05:36:25.781553Z",
     "shell.execute_reply": "2020-09-18T05:36:25.782566Z"
    }
   },
   "outputs": [],
   "source": [
    "from textblob import TextBlob"
   ]
  },
  {
   "cell_type": "markdown",
   "metadata": {},
   "source": [
    "## TextBlob objects\n",
    "TextBlob objects are like Python strings, which have enhanced with typical NLP processing methods. They are generared as follows:"
   ]
  },
  {
   "cell_type": "code",
   "execution_count": 4,
   "metadata": {
    "ExecuteTime": {
     "end_time": "2017-10-24T13:39:31.517000Z",
     "start_time": "2017-10-24T13:39:31.517000Z"
    },
    "execution": {
     "iopub.execute_input": "2020-09-18T05:36:25.794807Z",
     "iopub.status.busy": "2020-09-18T05:36:25.793897Z",
     "iopub.status.idle": "2020-09-18T05:36:25.796924Z",
     "shell.execute_reply": "2020-09-18T05:36:25.797511Z"
    }
   },
   "outputs": [],
   "source": [
    "myBlob1=TextBlob(\"\"\"TextBlob is a Python (2 and 3) library for processing textual data. \n",
    "It provides a simple API for diving into common natural language processing (NLP) tasks \n",
    "such as part-of-speech tagging, noun phrase extraction, sentiment analysis, classification, \n",
    "translation, and more. New York is a nice city.\"\"\")\n",
    "myBlob2=TextBlob(u\"Das Haus steht im Tal auf der anderen Seite des Berges. Es gehört Dr. med. Brinkmann und wird von der Immo GmbH aus verwaltet. Im Haus befindet sich u.a. eine Physio-Praxis.\")"
   ]
  },
  {
   "cell_type": "markdown",
   "metadata": {},
   "source": [
    "## Language Detection"
   ]
  },
  {
   "cell_type": "code",
   "execution_count": 5,
   "metadata": {
    "ExecuteTime": {
     "end_time": "2017-10-24T13:39:31.971000Z",
     "start_time": "2017-10-24T13:39:31.532000Z"
    },
    "execution": {
     "iopub.execute_input": "2020-09-18T05:36:25.811843Z",
     "iopub.status.busy": "2020-09-18T05:36:25.810806Z",
     "iopub.status.idle": "2020-09-18T05:36:26.012839Z",
     "shell.execute_reply": "2020-09-18T05:36:26.013694Z"
    }
   },
   "outputs": [
    {
     "name": "stdout",
     "output_type": "stream",
     "text": [
      "Blob1 text language is  en\n"
     ]
    },
    {
     "name": "stdout",
     "output_type": "stream",
     "text": [
      "Blob2 text language is  de\n"
     ]
    }
   ],
   "source": [
    "print(\"Blob1 text language is \",myBlob1.detect_language())\n",
    "print(\"Blob2 text language is \",myBlob2.detect_language())"
   ]
  },
  {
   "cell_type": "markdown",
   "metadata": {},
   "source": [
    "## Sentences and Words\n",
    "The TextBlob class also integrates methods for tokenisation. The corresponding segmentation of the given text into sentences and words can be obtained as follows:\n",
    "\n",
    "**English text:**"
   ]
  },
  {
   "cell_type": "code",
   "execution_count": 6,
   "metadata": {
    "ExecuteTime": {
     "end_time": "2017-10-24T13:39:32.049000Z",
     "start_time": "2017-10-24T13:39:31.971000Z"
    },
    "execution": {
     "iopub.execute_input": "2020-09-18T05:36:26.028713Z",
     "iopub.status.busy": "2020-09-18T05:36:26.024740Z",
     "iopub.status.idle": "2020-09-18T05:36:26.051384Z",
     "shell.execute_reply": "2020-09-18T05:36:26.053608Z"
    }
   },
   "outputs": [
    {
     "name": "stdout",
     "output_type": "stream",
     "text": [
      "--------------------\n",
      "TextBlob is a Python (2 and 3) library for processing textual data.\n",
      "--------------------\n",
      "It provides a simple API for diving into common natural language processing (NLP) tasks \n",
      "such as part-of-speech tagging, noun phrase extraction, sentiment analysis, classification, \n",
      "translation, and more.\n",
      "--------------------\n",
      "New York is a nice city.\n"
     ]
    }
   ],
   "source": [
    "for s in myBlob1.sentences:\n",
    "    print(\"-\"*20)\n",
    "    print(s)"
   ]
  },
  {
   "cell_type": "code",
   "execution_count": 7,
   "metadata": {
    "ExecuteTime": {
     "end_time": "2017-10-24T13:39:32.071000Z",
     "start_time": "2017-10-24T13:39:32.065000Z"
    },
    "execution": {
     "iopub.execute_input": "2020-09-18T05:36:26.078108Z",
     "iopub.status.busy": "2020-09-18T05:36:26.076653Z",
     "iopub.status.idle": "2020-09-18T05:36:26.080523Z",
     "shell.execute_reply": "2020-09-18T05:36:26.081225Z"
    }
   },
   "outputs": [
    {
     "data": {
      "text/plain": [
       "WordList(['New', 'York', 'is', 'a', 'nice', 'city'])"
      ]
     },
     "execution_count": 7,
     "metadata": {},
     "output_type": "execute_result"
    }
   ],
   "source": [
    "myBlob1.sentences[2].words"
   ]
  },
  {
   "cell_type": "markdown",
   "metadata": {},
   "source": [
    "As can be seen in the example above multi-word expressions, like *New York* are not detected."
   ]
  },
  {
   "cell_type": "markdown",
   "metadata": {},
   "source": [
    "**German text:**"
   ]
  },
  {
   "cell_type": "code",
   "execution_count": 8,
   "metadata": {
    "execution": {
     "iopub.execute_input": "2020-09-18T05:36:26.093882Z",
     "iopub.status.busy": "2020-09-18T05:36:26.092771Z",
     "iopub.status.idle": "2020-09-18T05:36:26.098084Z",
     "shell.execute_reply": "2020-09-18T05:36:26.098962Z"
    },
    "scrolled": true
   },
   "outputs": [
    {
     "name": "stdout",
     "output_type": "stream",
     "text": [
      "--------------------\n",
      "Das Haus steht im Tal auf der anderen Seite des Berges.\n",
      "--------------------\n",
      "Es gehört Dr. med.\n",
      "--------------------\n",
      "Brinkmann und wird von der Immo GmbH aus verwaltet.\n",
      "--------------------\n",
      "Im Haus befindet sich u.a.\n",
      "--------------------\n",
      "eine Physio-Praxis.\n"
     ]
    }
   ],
   "source": [
    "for s in myBlob2.sentences:\n",
    "    print(\"-\"*20)\n",
    "    print(s)"
   ]
  },
  {
   "cell_type": "markdown",
   "metadata": {},
   "source": [
    "As can be seen in the example above, segmentation works fine for English texts, but fails for German texts, in particular if the text contains abbreviations, which are not used in English. However, the [**TextBlob-DE package**](https://pypi.python.org/pypi/textblob-de) provides German language support for *TextBlob*."
   ]
  },
  {
   "cell_type": "markdown",
   "metadata": {},
   "source": [
    "## Part-of-Speech Tagging"
   ]
  },
  {
   "cell_type": "markdown",
   "metadata": {},
   "source": [
    "[Meaning of POS Tags according to Penn Treebank II tagset](https://www.clips.uantwerpen.be/pages/mbsp-tags)."
   ]
  },
  {
   "cell_type": "code",
   "execution_count": 9,
   "metadata": {
    "ExecuteTime": {
     "end_time": "2017-10-24T13:39:40.447000Z",
     "start_time": "2017-10-24T13:39:40.060000Z"
    },
    "execution": {
     "iopub.execute_input": "2020-09-18T05:36:26.111603Z",
     "iopub.status.busy": "2020-09-18T05:36:26.110505Z",
     "iopub.status.idle": "2020-09-18T05:36:26.360148Z",
     "shell.execute_reply": "2020-09-18T05:36:26.360912Z"
    }
   },
   "outputs": [
    {
     "name": "stdout",
     "output_type": "stream",
     "text": [
      "TextBlob NNP\n",
      "is VBZ\n",
      "a DT\n",
      "Python NNP\n",
      "2 CD\n",
      "and CC\n",
      "3 CD\n",
      "library NN\n",
      "for IN\n",
      "processing VBG\n",
      "textual JJ\n",
      "data NNS\n"
     ]
    }
   ],
   "source": [
    "for word,pos in myBlob1.sentences[0].tags:\n",
    "    print(word, pos)"
   ]
  },
  {
   "cell_type": "markdown",
   "metadata": {},
   "source": [
    "Doesn't work for German:"
   ]
  },
  {
   "cell_type": "code",
   "execution_count": 10,
   "metadata": {
    "ExecuteTime": {
     "end_time": "2017-10-24T13:39:40.469000Z",
     "start_time": "2017-10-24T13:39:40.447000Z"
    },
    "execution": {
     "iopub.execute_input": "2020-09-18T05:36:26.367609Z",
     "iopub.status.busy": "2020-09-18T05:36:26.364738Z",
     "iopub.status.idle": "2020-09-18T05:36:26.372843Z",
     "shell.execute_reply": "2020-09-18T05:36:26.374365Z"
    }
   },
   "outputs": [
    {
     "name": "stdout",
     "output_type": "stream",
     "text": [
      "Das NNP\n",
      "Haus NNP\n",
      "steht VBD\n",
      "im JJ\n",
      "Tal NNP\n",
      "auf NN\n",
      "der NN\n",
      "anderen NNS\n",
      "Seite NNP\n",
      "des NNS\n",
      "Berges NNP\n"
     ]
    }
   ],
   "source": [
    "for word,pos in myBlob2.sentences[0].tags:\n",
    "    print(word, pos)"
   ]
  },
  {
   "cell_type": "markdown",
   "metadata": {},
   "source": [
    "<a id='word_normalisation'></a>\n",
    "## Word Normalization\n",
    "In NLP the term *word normalization* comprises methods to map different word forms to a unique form. Word normalization reduces complexity and often improves the NLP task. E.g. in document-classification it usually does not matter in which temporal form a verb is written. The mapping of all temporal forms to the base form reduces the number of words in the vocabulary and likely increases the accuracy of the classifier.\n",
    "\n",
    "### Singularization\n",
    "One form of word normalization is to map all words in plural into the corresponding singular form. With *textblob* this can be realized as follows:"
   ]
  },
  {
   "cell_type": "code",
   "execution_count": 11,
   "metadata": {
    "execution": {
     "iopub.execute_input": "2020-09-18T05:36:26.380448Z",
     "iopub.status.busy": "2020-09-18T05:36:26.379758Z",
     "iopub.status.idle": "2020-09-18T05:36:26.382900Z",
     "shell.execute_reply": "2020-09-18T05:36:26.383758Z"
    }
   },
   "outputs": [
    {
     "name": "stdout",
     "output_type": "stream",
     "text": [
      "The The\n",
      "cars car\n",
      "in in\n",
      "the the\n",
      "streets street\n",
      "around around\n",
      "Main Main\n",
      "Square Square\n",
      "have have\n",
      "been been\n",
      "observed observed\n",
      "by by\n",
      "policemen policeman\n"
     ]
    }
   ],
   "source": [
    "myBlob6=TextBlob(\"The cars in the streets around Main Square have been observed by policemen\")\n",
    "for word in myBlob6.words:\n",
    "    print(word, word.singularize())"
   ]
  },
  {
   "cell_type": "markdown",
   "metadata": {},
   "source": [
    "### Lemmatization\n",
    "Lemmatization maps all distinct forms of a word to the baseform. E.g. the wordforms `went, gone, going` are all mapped to the baseform `go`:"
   ]
  },
  {
   "cell_type": "code",
   "execution_count": 12,
   "metadata": {
    "execution": {
     "iopub.execute_input": "2020-09-18T05:36:26.393678Z",
     "iopub.status.busy": "2020-09-18T05:36:26.392990Z",
     "iopub.status.idle": "2020-09-18T05:36:29.149340Z",
     "shell.execute_reply": "2020-09-18T05:36:29.150045Z"
    }
   },
   "outputs": [
    {
     "name": "stdout",
     "output_type": "stream",
     "text": [
      "go\n",
      "go\n",
      "go\n"
     ]
    }
   ],
   "source": [
    "print(TextBlob(\"went\").words[0].lemmatize(\"v\")) # mode \"v\" for verb\n",
    "print(TextBlob(\"gone\").words[0].lemmatize(\"v\"))\n",
    "print(TextBlob(\"going\").words[0].lemmatize(\"v\"))"
   ]
  },
  {
   "cell_type": "markdown",
   "metadata": {},
   "source": [
    "Lemmatization of adverbs and adjectives:"
   ]
  },
  {
   "cell_type": "code",
   "execution_count": 13,
   "metadata": {
    "execution": {
     "iopub.execute_input": "2020-09-18T05:36:29.159215Z",
     "iopub.status.busy": "2020-09-18T05:36:29.157797Z",
     "iopub.status.idle": "2020-09-18T05:36:29.162749Z",
     "shell.execute_reply": "2020-09-18T05:36:29.163785Z"
    }
   },
   "outputs": [
    {
     "name": "stdout",
     "output_type": "stream",
     "text": [
      "late\n",
      "pretty\n",
      "bad\n"
     ]
    }
   ],
   "source": [
    "print(TextBlob(\"later\").words[0].lemmatize(\"a\")) # mode \"a\" for adverb/adjective\n",
    "print(TextBlob(\"prettier\").words[0].lemmatize(\"a\"))\n",
    "print(TextBlob(\"worse\").words[0].lemmatize(\"a\"))"
   ]
  },
  {
   "cell_type": "markdown",
   "metadata": {},
   "source": [
    "Lemmatizsation of nouns: "
   ]
  },
  {
   "cell_type": "code",
   "execution_count": 14,
   "metadata": {
    "execution": {
     "iopub.execute_input": "2020-09-18T05:36:29.170815Z",
     "iopub.status.busy": "2020-09-18T05:36:29.169459Z",
     "iopub.status.idle": "2020-09-18T05:36:29.173422Z",
     "shell.execute_reply": "2020-09-18T05:36:29.174139Z"
    }
   },
   "outputs": [
    {
     "name": "stdout",
     "output_type": "stream",
     "text": [
      "woman\n"
     ]
    }
   ],
   "source": [
    "print(TextBlob(\"women\").words[0].lemmatize(\"n\")) # mode \"n\" for noun"
   ]
  },
  {
   "cell_type": "code",
   "execution_count": 15,
   "metadata": {
    "ExecuteTime": {
     "end_time": "2017-10-24T13:39:40.469000Z",
     "start_time": "2017-10-24T13:39:40.469000Z"
    },
    "execution": {
     "iopub.execute_input": "2020-09-18T05:36:29.180211Z",
     "iopub.status.busy": "2020-09-18T05:36:29.178883Z",
     "iopub.status.idle": "2020-09-18T05:36:29.181828Z",
     "shell.execute_reply": "2020-09-18T05:36:29.182354Z"
    }
   },
   "outputs": [],
   "source": [
    "myBlob3=TextBlob(\"The engineer went into the garden and found the cats lying beneath the trees\")"
   ]
  },
  {
   "cell_type": "code",
   "execution_count": 16,
   "metadata": {
    "ExecuteTime": {
     "end_time": "2017-10-24T13:39:43.763000Z",
     "start_time": "2017-10-24T13:39:40.469000Z"
    },
    "execution": {
     "iopub.execute_input": "2020-09-18T05:36:29.188200Z",
     "iopub.status.busy": "2020-09-18T05:36:29.187302Z",
     "iopub.status.idle": "2020-09-18T05:36:29.192674Z",
     "shell.execute_reply": "2020-09-18T05:36:29.193504Z"
    }
   },
   "outputs": [
    {
     "name": "stdout",
     "output_type": "stream",
     "text": [
      "The The\n",
      "engineer engineer\n",
      "went go\n",
      "into into\n",
      "the the\n",
      "garden garden\n",
      "and and\n",
      "found find\n",
      "the the\n",
      "cats cat\n",
      "lying lie\n",
      "beneath beneath\n",
      "the the\n",
      "trees tree\n"
     ]
    }
   ],
   "source": [
    "for word in myBlob3.words:\n",
    "    print(word, word.lemmatize(\"v\"))"
   ]
  },
  {
   "cell_type": "markdown",
   "metadata": {},
   "source": [
    "### Stemming\n",
    "The drawback of lemmatization is its complexity. Some languages have a quite regular structure. This means that the different word-forms can be derived from the baseform by a well defined set of rules. In this case the inverse application of these rules can be applied for determining the baseform. However, languages such as German, have many irregular cases. Lemmatization then requires a *dictionary*, which lists all different word-forms an their corresponding baseform.\n",
    "\n",
    "Stemming is simple and less complex alternative to lemmatization. Stemmers map each word to their stem. In contrast to lemmatization the result of stemming need not be a lexical entry (valid word). Stemmers, e.g. the *Porter Stemmer* apply heuristics for word-suffixes and strip-off found suffixes from the word. E.g. in the word `engineer` a stemmer finds `er` as a frequnet suffix. It strips-off this suffix and outputs the found stem `engin`.  "
   ]
  },
  {
   "cell_type": "code",
   "execution_count": 17,
   "metadata": {
    "execution": {
     "iopub.execute_input": "2020-09-18T05:36:29.199706Z",
     "iopub.status.busy": "2020-09-18T05:36:29.198897Z",
     "iopub.status.idle": "2020-09-18T05:36:29.202322Z",
     "shell.execute_reply": "2020-09-18T05:36:29.203049Z"
    }
   },
   "outputs": [
    {
     "name": "stdout",
     "output_type": "stream",
     "text": [
      "The the\n",
      "engineer engin\n",
      "went went\n",
      "into into\n",
      "the the\n",
      "garden garden\n",
      "and and\n",
      "found found\n",
      "the the\n",
      "cats cat\n",
      "lying lie\n",
      "beneath beneath\n",
      "the the\n",
      "trees tree\n"
     ]
    }
   ],
   "source": [
    "for word in myBlob3.words:\n",
    "    print(word, word.stem())"
   ]
  },
  {
   "cell_type": "markdown",
   "metadata": {},
   "source": [
    "### Word correction\n",
    "Word correction can also be considered as type of normalization. It maps misspelled words to likely correct form. "
   ]
  },
  {
   "cell_type": "code",
   "execution_count": 18,
   "metadata": {
    "execution": {
     "iopub.execute_input": "2020-09-18T05:36:29.208839Z",
     "iopub.status.busy": "2020-09-18T05:36:29.207783Z",
     "iopub.status.idle": "2020-09-18T05:36:29.282582Z",
     "shell.execute_reply": "2020-09-18T05:36:29.283949Z"
    }
   },
   "outputs": [
    {
     "data": {
      "text/plain": [
       "TextBlob(\"sentence is not true\")"
      ]
     },
     "execution_count": 18,
     "metadata": {},
     "output_type": "execute_result"
    }
   ],
   "source": [
    "w=TextBlob(\"sentense is not tru\")\n",
    "wcorr=w.correct()\n",
    "wcorr"
   ]
  },
  {
   "cell_type": "markdown",
   "metadata": {},
   "source": [
    "## TextBlob-DE for German Language"
   ]
  },
  {
   "cell_type": "code",
   "execution_count": 19,
   "metadata": {
    "execution": {
     "iopub.execute_input": "2020-09-18T05:36:29.291399Z",
     "iopub.status.busy": "2020-09-18T05:36:29.290083Z",
     "iopub.status.idle": "2020-09-18T05:36:29.293133Z",
     "shell.execute_reply": "2020-09-18T05:36:29.293832Z"
    }
   },
   "outputs": [],
   "source": [
    "#!pip install textblob-de"
   ]
  },
  {
   "cell_type": "code",
   "execution_count": 20,
   "metadata": {
    "ExecuteTime": {
     "end_time": "2017-10-24T13:40:47.713000Z",
     "start_time": "2017-10-24T13:40:47.344000Z"
    },
    "execution": {
     "iopub.execute_input": "2020-09-18T05:36:29.298704Z",
     "iopub.status.busy": "2020-09-18T05:36:29.297714Z",
     "iopub.status.idle": "2020-09-18T05:36:29.333466Z",
     "shell.execute_reply": "2020-09-18T05:36:29.334196Z"
    }
   },
   "outputs": [],
   "source": [
    "import textblob_de"
   ]
  },
  {
   "cell_type": "code",
   "execution_count": 21,
   "metadata": {
    "ExecuteTime": {
     "end_time": "2017-10-24T13:41:56.077000Z",
     "start_time": "2017-10-24T13:41:56.074000Z"
    },
    "execution": {
     "iopub.execute_input": "2020-09-18T05:36:29.339142Z",
     "iopub.status.busy": "2020-09-18T05:36:29.338234Z",
     "iopub.status.idle": "2020-09-18T05:36:29.365708Z",
     "shell.execute_reply": "2020-09-18T05:36:29.366229Z"
    }
   },
   "outputs": [],
   "source": [
    "myBlob4=textblob_de.TextBlobDE(u\"Das Haus steht im Tal auf der anderen Seite des Berges. Es gehört Dr. med. Brinkmann und wird von der Immo GmbH verwaltet. Im Haus befindet sich u.a. eine Physio-Praxis.\")"
   ]
  },
  {
   "cell_type": "markdown",
   "metadata": {},
   "source": [
    "### Sentences and Words"
   ]
  },
  {
   "cell_type": "code",
   "execution_count": 22,
   "metadata": {
    "ExecuteTime": {
     "end_time": "2017-10-24T13:42:04.246000Z",
     "start_time": "2017-10-24T13:42:04.246000Z"
    },
    "execution": {
     "iopub.execute_input": "2020-09-18T05:36:29.372727Z",
     "iopub.status.busy": "2020-09-18T05:36:29.371346Z",
     "iopub.status.idle": "2020-09-18T05:36:29.376172Z",
     "shell.execute_reply": "2020-09-18T05:36:29.376635Z"
    }
   },
   "outputs": [
    {
     "name": "stdout",
     "output_type": "stream",
     "text": [
      "--------------------"
     ]
    },
    {
     "name": "stdout",
     "output_type": "stream",
     "text": [
      "\n",
      "Das Haus steht im Tal auf der anderen Seite des Berges.\n",
      "--------------------\n",
      "Es gehört Dr. med. Brinkmann und wird von der Immo GmbH verwaltet.\n",
      "--------------------\n",
      "Im Haus befindet sich u.a. eine Physio-Praxis.\n"
     ]
    }
   ],
   "source": [
    "for s in myBlob4.sentences:\n",
    "    print(\"-\"*20)\n",
    "    print(s)"
   ]
  },
  {
   "cell_type": "code",
   "execution_count": 23,
   "metadata": {
    "execution": {
     "iopub.execute_input": "2020-09-18T05:36:29.383760Z",
     "iopub.status.busy": "2020-09-18T05:36:29.382781Z",
     "iopub.status.idle": "2020-09-18T05:36:29.386153Z",
     "shell.execute_reply": "2020-09-18T05:36:29.386670Z"
    }
   },
   "outputs": [
    {
     "data": {
      "text/plain": [
       "WordList(['Es', 'gehört', 'Dr', 'med', 'Brinkmann', 'und', 'wird', 'von', 'der', 'Immo', 'GmbH', 'verwaltet'])"
      ]
     },
     "execution_count": 23,
     "metadata": {},
     "output_type": "execute_result"
    }
   ],
   "source": [
    "myBlob4.sentences[1].words"
   ]
  },
  {
   "cell_type": "code",
   "execution_count": 24,
   "metadata": {
    "execution": {
     "iopub.execute_input": "2020-09-18T05:36:29.392240Z",
     "iopub.status.busy": "2020-09-18T05:36:29.391640Z",
     "iopub.status.idle": "2020-09-18T05:36:29.857340Z",
     "shell.execute_reply": "2020-09-18T05:36:29.863223Z"
    }
   },
   "outputs": [
    {
     "data": {
      "text/plain": [
       "WordList(['Dr. med. Brinkmann', 'Immo GmbH'])"
      ]
     },
     "execution_count": 24,
     "metadata": {},
     "output_type": "execute_result"
    }
   ],
   "source": [
    "myBlob4.sentences[1].noun_phrases"
   ]
  },
  {
   "cell_type": "markdown",
   "metadata": {},
   "source": [
    "### Part-of-Speech Tagging"
   ]
  },
  {
   "cell_type": "code",
   "execution_count": 25,
   "metadata": {
    "execution": {
     "iopub.execute_input": "2020-09-18T05:36:29.870294Z",
     "iopub.status.busy": "2020-09-18T05:36:29.869146Z",
     "iopub.status.idle": "2020-09-18T05:36:29.874509Z",
     "shell.execute_reply": "2020-09-18T05:36:29.875759Z"
    }
   },
   "outputs": [],
   "source": [
    "myBlob5=textblob_de.TextBlobDE(\"Er ist mit seinen Katzen über drei Tische gesprungen\")"
   ]
  },
  {
   "cell_type": "code",
   "execution_count": 26,
   "metadata": {
    "ExecuteTime": {
     "end_time": "2017-10-24T13:42:34.301000Z",
     "start_time": "2017-10-24T13:42:33.978000Z"
    },
    "execution": {
     "iopub.execute_input": "2020-09-18T05:36:29.887411Z",
     "iopub.status.busy": "2020-09-18T05:36:29.886099Z",
     "iopub.status.idle": "2020-09-18T05:36:29.891230Z",
     "shell.execute_reply": "2020-09-18T05:36:29.892229Z"
    }
   },
   "outputs": [
    {
     "name": "stdout",
     "output_type": "stream",
     "text": [
      "Er PRP\n",
      "ist VBN\n",
      "mit IN\n",
      "seinen PRP$\n",
      "Katzen NNS\n",
      "über IN\n",
      "drei CD\n",
      "Tische JJ\n",
      "gesprungen VBN\n"
     ]
    }
   ],
   "source": [
    "for word,tag in myBlob5.tags:\n",
    "    print(word, tag)"
   ]
  },
  {
   "cell_type": "markdown",
   "metadata": {},
   "source": [
    "### Lemmatization"
   ]
  },
  {
   "cell_type": "code",
   "execution_count": 27,
   "metadata": {
    "ExecuteTime": {
     "end_time": "2017-10-24T13:43:57.683000Z",
     "start_time": "2017-10-24T13:43:57.602000Z"
    },
    "execution": {
     "iopub.execute_input": "2020-09-18T05:36:29.901915Z",
     "iopub.status.busy": "2020-09-18T05:36:29.900796Z",
     "iopub.status.idle": "2020-09-18T05:36:29.906196Z",
     "shell.execute_reply": "2020-09-18T05:36:29.904894Z"
    }
   },
   "outputs": [
    {
     "name": "stdout",
     "output_type": "stream",
     "text": [
      "er\n",
      "sein\n",
      "mit\n",
      "seinen\n",
      "Katze\n",
      "über\n",
      "drei\n",
      "Tisch\n",
      "gesprungen\n"
     ]
    }
   ],
   "source": [
    "for word in myBlob5.words.lemmatize():\n",
    "    print(word)"
   ]
  },
  {
   "cell_type": "code",
   "execution_count": null,
   "metadata": {},
   "outputs": [],
   "source": []
  }
 ],
 "metadata": {
  "kernelspec": {
   "display_name": "Python 3",
   "language": "python",
   "name": "python3"
  },
  "language_info": {
   "codemirror_mode": {
    "name": "ipython",
    "version": 3
   },
   "file_extension": ".py",
   "mimetype": "text/x-python",
   "name": "python",
   "nbconvert_exporter": "python",
   "pygments_lexer": "ipython3",
   "version": "3.7.7"
  },
  "nav_menu": {},
  "toc": {
   "base_numbering": 1,
   "nav_menu": {},
   "number_sections": true,
   "sideBar": true,
   "skip_h1_title": false,
   "title_cell": "Table of Contents",
   "title_sidebar": "Contents",
   "toc_cell": false,
   "toc_position": {},
   "toc_section_display": "block",
   "toc_window_display": false
  },
  "toc_position": {
   "height": "664px",
   "left": "0px",
   "right": "1350.67px",
   "top": "125.333px",
   "width": "251px"
  },
  "varInspector": {
   "cols": {
    "lenName": 16,
    "lenType": 16,
    "lenVar": 40
   },
   "kernels_config": {
    "python": {
     "delete_cmd_postfix": "",
     "delete_cmd_prefix": "del ",
     "library": "var_list.py",
     "varRefreshCmd": "print(var_dic_list())"
    },
    "r": {
     "delete_cmd_postfix": ") ",
     "delete_cmd_prefix": "rm(",
     "library": "var_list.r",
     "varRefreshCmd": "cat(var_dic_list()) "
    }
   },
   "types_to_exclude": [
    "module",
    "function",
    "builtin_function_or_method",
    "instance",
    "_Feature"
   ],
   "window_display": false
  }
 },
 "nbformat": 4,
 "nbformat_minor": 2
}