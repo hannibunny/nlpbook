{
 "cells": [
  {
   "cell_type": "markdown",
   "metadata": {
    "slideshow": {
     "slide_type": "slide"
    }
   },
   "source": [
    "# Access and Analyse Contents of Textfiles\n",
    "\n",
    "- Author:      Johannes Maucher\n",
    "- Last update: 2020-09-09\n",
    "\n",
    "In this notebook some important Python string methods are applied. This [Python string method docu](https://www.programiz.com/python-programming/methods/string/encode) provides a compact overview. "
   ]
  },
  {
   "cell_type": "markdown",
   "metadata": {
    "slideshow": {
     "slide_type": "slide"
    }
   },
   "source": [
    "## Character Encoding\n",
    "![encoding](https://maucher.home.hdm-stuttgart.de/Pics/encodings.png)"
   ]
  },
  {
   "cell_type": "markdown",
   "metadata": {
    "slideshow": {
     "slide_type": "slide"
    }
   },
   "source": [
    "In contrast to Python 2.x in Python 3.y strings are stored as unicode, i.e. each string is a sequence of unicode code points. Unicode supports more than 1 million characters. Each character is represented by a *code point*.\n",
    "\n",
    "For the efficient storage of strings they are encoded. \n",
    "* A ``str`` can be encoded into ``bytes`` using the ``encode()`` method.\n",
    "* ``bytes`` can be decoded to ``str`` using the ``decode()`` method.\n",
    "\n",
    "Both methods accept a parameter, which is the encoding used to encode or decode. The default for both is *UTF-8*."
   ]
  },
  {
   "cell_type": "markdown",
   "metadata": {
    "slideshow": {
     "slide_type": "slide"
    }
   },
   "source": [
    "The following code cells demonstrate the difference between strings and bytes:"
   ]
  },
  {
   "cell_type": "code",
   "execution_count": 1,
   "metadata": {},
   "outputs": [
    {
     "name": "stdout",
     "output_type": "stream",
     "text": [
      "die tür ist offen\n",
      "<class 'str'>\n",
      "After utf-8 encoding:  b'die t\\xc3\\xbcr ist offen'\n",
      "<class 'bytes'>\n",
      "After latin-1 encoding:  b'die t\\xfcr ist offen'\n",
      "<class 'bytes'>\n"
     ]
    }
   ],
   "source": [
    "s1=\"die tür ist offen\"\n",
    "print(s1) #print string\n",
    "print(type(s1))\n",
    "b1=s1.encode('utf-8')\n",
    "print(\"After utf-8 encoding: \",b1)\n",
    "print(type(b1))\n",
    "b2=s1.encode('latin-1')\n",
    "print(\"After latin-1 encoding: \",b2)\n",
    "print(type(b2))"
   ]
  },
  {
   "cell_type": "code",
   "execution_count": 2,
   "metadata": {
    "slideshow": {
     "slide_type": "slide"
    }
   },
   "outputs": [
    {
     "name": "stdout",
     "output_type": "stream",
     "text": [
      "Wrong decoding:  die tÃ¼r ist offen\n",
      "die tür ist offen\n",
      "die tür ist offen\n"
     ]
    }
   ],
   "source": [
    "print(\"Wrong decoding: \",b1.decode(\"latin-1\"))\n",
    "print(b2.decode(\"latin-1\"))\n",
    "print(b1.decode(\"utf-8\"))\n",
    "#print(b2.decode(\"utf-8\"))"
   ]
  },
  {
   "cell_type": "markdown",
   "metadata": {
    "slideshow": {
     "slide_type": "slide"
    }
   },
   "source": [
    "## Textfile from local machine \n",
    "### Read in row by row\n",
    "The following code snippet demonstrates how to import text from a file, which is specified by its path and filename. The example text file is [ZeitOnlineLandkartenA.txt](../Data/ZeitOnlineLandkartenA.txt). \n",
    "In this first snippet the text in the file is read line by line. Each line is stored into a single string variable. The string variables of all lines are stored in a Python list. "
   ]
  },
  {
   "cell_type": "code",
   "execution_count": 3,
   "metadata": {
    "ExecuteTime": {
     "end_time": "2017-10-12T13:35:19.578000Z",
     "start_time": "2017-10-12T13:35:19.563000Z"
    },
    "slideshow": {
     "slide_type": "slide"
    }
   },
   "outputs": [
    {
     "name": "stdout",
     "output_type": "stream",
     "text": [
      "Landkarten mit Mehrwert\n",
      "Ob als Reiseführer, Nachrichtenkanal oder Bürgerinitiative: Digitale Landkarten lassen sich vielseitig nutzen.\n",
      "ZEIT ONLINE stellt einige der interessantesten Dienste vor.\n",
      "\n",
      "Die Zeit, in der Landkarten im Netz bloß der Routenplanung dienten, ist längst vorbei. Denn mit den digitalen Karten von Google Maps und der Open-Source-Alternative OpenStreetMap kann man sich spannendere Dinge als den Weg von A nach B anzeigen lassen. Über offene Programmschnittstellen (API) lassen sich Daten von anderen Websites mit dem Kartenmaterial verknüpfen oder eigene Informationen eintragen. Das Ergebnis nennt sich Mashup  ein Mischmasch aus Karten und Daten sozusagen. Die Bewertungscommunity Qype nutzt diese Möglichkeit schon lange, um Adressen und Bewertungen miteinander zu verknüpfen und mithilfe von Google Maps darzustellen. Auch Immobilienbörsen, Branchenbücher und Fotodienste kommen kaum noch ohne eigene Kartenfunktion aus. Dank der Integration von Geodaten in Smartphones werden soziale\n",
      "Kartendienste immer beliebter. Auch sie nutzen die offenen Schnittstellen. Neben kommerziellen Diensten profitieren aber auch Privatpersonen und unabhängige\n",
      "Projekte von den Möglichkeiten des frei zugänglichen Kartenmaterials. Das Open-Data-Netzwerk versucht, öffentlich zugängliche Daten zu sammeln und neue\n",
      "Möglichkeiten für Bürger herauszuarbeiten. So können Anwohner in England schon länger über FixMyStreet Reparaturaufträge direkt an die Behörden übermitteln.\n",
      "Unter dem Titel Frankfurt-Gestalten gibt es seit Frühjahr ein ähnliches Pilotprojekt für Frankfurt am Main. Hier geht es um weit mehr als Reparaturen. Die Seite soll\n",
      "einen aktiven Dialog zwischen Bürgern und ihrer Stadt ermöglichen  partizipative Lokalpolitik ist das Stichwort. Tausende dieser Mashups und Initiativen gibt es inzwischen. Sie bewegen sich zwischen bizarr und faszinierend, unterhaltsam und informierend. ZEIT ONLINE stellt einige der interessantesten vor. Sie zeigen, was man mit öffentlichen Datensammlungen alles machen kann.\n",
      "Number of Lines:   10\n"
     ]
    }
   ],
   "source": [
    "filename=\"../Data/ZeitOnlineLandkartenA.txt\"\n",
    "listOfLines=[]\n",
    "with open(filename,\"r\",encoding=\"latin-1\") as fin:\n",
    "    for line in fin:\n",
    "        line = line.strip()\n",
    "        print(line)\n",
    "        listOfLines.append(line)\n",
    "print(\"Number of Lines:  \",len(listOfLines))"
   ]
  },
  {
   "cell_type": "markdown",
   "metadata": {
    "slideshow": {
     "slide_type": "notes"
    }
   },
   "source": [
    "#### Questions\n",
    "Run the cell above without setting the `encoding`-parameter in the `open()`-method. What happens? \n",
    "A list of codecs supported by python can be found [here](https://docs.python.org/2/library/codecs.html#standard-encodings)."
   ]
  },
  {
   "cell_type": "markdown",
   "metadata": {
    "slideshow": {
     "slide_type": "slide"
    }
   },
   "source": [
    "### Read in text as a whole\n",
    "The entire contents of the file can also be read as a whole and stored in a single string variable:"
   ]
  },
  {
   "cell_type": "code",
   "execution_count": 4,
   "metadata": {
    "ExecuteTime": {
     "end_time": "2017-10-12T13:35:45.625000Z",
     "start_time": "2017-10-12T13:35:45.610000Z"
    },
    "slideshow": {
     "slide_type": "fragment"
    }
   },
   "outputs": [
    {
     "name": "stdout",
     "output_type": "stream",
     "text": [
      "Landkarten mit Mehrwert\n",
      "Ob als Reiseführer, Nachrichtenkanal oder Bürgerinitiative: Digitale Landkarten lassen sich vielseitig nutzen. \n",
      "ZEIT ONLINE stellt einige der interessantesten Dienste vor.\n",
      " \n",
      "Die Zeit, in der Landkarten im Netz bloß der Routenplanung dienten, ist längst vorbei. Denn mit den di\n",
      "\n",
      "Number of Characters in Text:   2027\n"
     ]
    }
   ],
   "source": [
    "with open(filename,\"r\",encoding=\"latin-1\") as fin:\n",
    "    text=fin.read()\n",
    "print(text[:300])\n",
    "print(\"\\nNumber of Characters in Text:  \",len(text))"
   ]
  },
  {
   "cell_type": "markdown",
   "metadata": {
    "slideshow": {
     "slide_type": "slide"
    }
   },
   "source": [
    "## Segmentation of text-string into words\n",
    "The entire text, which is now stored in the single variable _text_ can be split into it's words by applying the `split()`-method. The words are stored in a list of strings (`wordlist`). The words in the wordlist may end with punctuation marks. These marks are removed by applying the python string-method `strip()`."
   ]
  },
  {
   "cell_type": "code",
   "execution_count": 5,
   "metadata": {
    "ExecuteTime": {
     "end_time": "2017-10-12T13:36:06.457000Z",
     "start_time": "2017-10-12T13:36:06.394000Z"
    },
    "slideshow": {
     "slide_type": "fragment"
    }
   },
   "outputs": [
    {
     "name": "stdout",
     "output_type": "stream",
     "text": [
      "First 12 words of the list:\n",
      " ['Landkarten', 'mit', 'Mehrwert', 'Ob', 'als', 'Reiseführer,', 'Nachrichtenkanal', 'oder', 'Bürgerinitiative:', 'Digitale', 'Landkarten', 'lassen']\n",
      "First 12 cleaned words of the list:\n",
      " ['landkarten', 'mit', 'mehrwert', 'ob', 'als', 'reiseführer', 'nachrichtenkanal', 'oder', 'bürgerinitiative', 'digitale', 'landkarten', 'lassen']\n",
      "Number of tokens:                    267\n",
      "Number of different tokens (=size of vocabulary):   187\n"
     ]
    }
   ],
   "source": [
    "wordlist=text.split()\n",
    "print(\"First 12 words of the list:\\n\",wordlist[:12])\n",
    "cleanwordlist=[w.strip('().,:;!?-\"').lower() for w in wordlist]\n",
    "print(\"First 12 cleaned words of the list:\\n\",cleanwordlist[:12])\n",
    "print(\"Number of tokens:                   \",len(cleanwordlist))\n",
    "print(\"Number of different tokens (=size of vocabulary):  \",len(set(cleanwordlist)))"
   ]
  },
  {
   "cell_type": "markdown",
   "metadata": {
    "slideshow": {
     "slide_type": "slide"
    }
   },
   "source": [
    "## Textfile from Web"
   ]
  },
  {
   "cell_type": "code",
   "execution_count": 6,
   "metadata": {
    "ExecuteTime": {
     "end_time": "2017-10-12T13:36:28.644000Z",
     "start_time": "2017-10-12T13:36:17.866000Z"
    },
    "slideshow": {
     "slide_type": "fragment"
    }
   },
   "outputs": [],
   "source": [
    "from urllib.request import urlopen\n",
    "import nltk\n",
    "import re"
   ]
  },
  {
   "cell_type": "markdown",
   "metadata": {
    "slideshow": {
     "slide_type": "slide"
    }
   },
   "source": [
    "Download **Alice in Wonderland (Lewis Carol)** from [http://textfiles.com/etext](http://textfiles.com/etext):"
   ]
  },
  {
   "cell_type": "code",
   "execution_count": 7,
   "metadata": {
    "ExecuteTime": {
     "end_time": "2017-10-12T13:36:32.694000Z",
     "start_time": "2017-10-12T13:36:31.729000Z"
    },
    "slideshow": {
     "slide_type": "fragment"
    }
   },
   "outputs": [
    {
     "name": "stdout",
     "output_type": "stream",
     "text": [
      "----------------------------------------------------------------------------------------------------\n",
      "------------------------------1. Download Alice in Wonderland--------------------\n"
     ]
    }
   ],
   "source": [
    "print(\"-\"*100)\n",
    "print(\"-\"*30+\"1. Download Alice in Wonderland\"+\"-\"*20)\n",
    "urlAlice=\"http://textfiles.com/etext/FICTION/alice.txt\"\n",
    "#urlAlice=\"https://archive.org/stream/alicewonderlanda00carr/alicewonderlanda00carr_djvu.txt\"\n",
    "rawAlice=urlopen(urlAlice).read().decode(\"latin-1\")"
   ]
  },
  {
   "cell_type": "code",
   "execution_count": 8,
   "metadata": {
    "slideshow": {
     "slide_type": "fragment"
    }
   },
   "outputs": [
    {
     "name": "stdout",
     "output_type": "stream",
     "text": [
      "First 4000 characters of downloaded text:\n",
      "           PROJECT GUTENBERG AND DUNCAN RESEARCH SHAREWARE\n",
      "\n",
      "                             (c)1991\n",
      "\n",
      "Project Gutenberg has made arrangements with Duncan Research for\n",
      "the distribution of Duncan Research Electronic Library text.  No\n",
      "money is solicited by Project Gutenberg.  All donations go to:\n",
      "\n",
      "Barbara  Duncan\n",
      "Duncan Research\n",
      "P.O.  Box  2782\n",
      "Champaign,   IL\n",
      "61825 - 2782\n",
      "\n",
      "Please, if you send in a request for information, donate enough,\n",
      "or more than enough to cover the cost of writing, printing, etc.\n",
      "as well as the cost of postage.\n",
      "\n",
      "This is Shareware, you may post it intact anywhere, as long as a\n",
      "profit is not incurred.\n",
      "\n",
      "As Shareware, no legal obligation is assumed by you to donate in\n",
      "manners monetary or assistance in the creations or distributions\n",
      "of electronic texts.  These files are claimed under copyright to\n",
      "protect their integrity, therefore you are required to pass them\n",
      "on intact, but you may make changes to your own copies.  We want\n",
      "to know if any mistakes you find, so we can correct them in text\n",
      "editions to come.  We hope you will want to donate texts of your\n",
      "own for distribution in this manner.  If you would like payments\n",
      "in the same manner as above, just include a similar statement.\n",
      "\n",
      "Neither Prof. Hart nor Project Gutenberg nor Duncan Research has\n",
      "any official connection with the University of Illinois.\n",
      "\n",
      "*****************************************************************\n",
      "\n",
      "      Project Gutenberg Release 2.7a of Alice in Wonderland\n",
      "\n",
      "These electronic texts of the classics are released in the CopyLeft\n",
      "traditions of the Free Software Foundation and Richard M. Stallman.\n",
      "This means the document is to be considered under copyright, and an\n",
      "individual may make as may copies for self and/or friends, etc. and\n",
      "will be under no obligation as long as this is not commercial.  Not\n",
      "for profit corporations and all other corporate entities are not to\n",
      "distribute this file for any more cost to the user than $2 and only\n",
      "if a disk is provided for that fee, including all shipping-handling\n",
      "and/or other fees associated with that disk.  If this file is to be\n",
      "included with any other hardware, software or other material no fee\n",
      "may be charged for this file.  If anyone finds an error, and we are\n",
      "sure you will, please email location of the errors to hart@uiucvmd,\n",
      "(BITNET) or hart@vmd.cso.uiuc.edu (INTERNET), or to Duncan Research\n",
      "via U.S. Mail at the address below.\n",
      "\n",
      "\n",
      "Please mail corrections to the above address, or via email to:\n",
      "\n",
      "hart@uiucvmd.bitnet\n",
      "or\n",
      "hart@vmd.uiuc.cso.edu\n",
      "\n",
      "Neither Prof. Hart nor Project Gutenberg nor Duncan Research has\n",
      "any official connection with the University of Illinois.\n",
      "\n",
      "\n",
      "                ALICE'S ADVENTURES IN WONDERLAND\n",
      "\n",
      "                          Lewis Carroll\n",
      "\n",
      "               THE MILLENNIUM FULCRUM EDITION 2.7a\n",
      "                     (C)1991 Duncan Research\n",
      "\n",
      "\n",
      "\n",
      "                            CHAPTER I\n",
      "\n",
      "                      Down the Rabbit-Hole\n",
      "\n",
      "\n",
      "  Alice was beginning to get very tired of sitting by her sister\n",
      "on the bank, and of having nothing to do:  once or twice she had\n",
      "peeped into the book her sister was reading, but it had no\n",
      "pictures or conversations in it, `and what is the use of a book,'\n",
      "thought Alice `without pictures or conversation?'\n",
      "\n",
      "  So she was considering in her own mind (as well as she could,\n",
      "for the hot day made her feel very sleepy and stupid), whether\n",
      "the pleasure of making a daisy-chain would be worth the trouble\n",
      "of getting up and picking the daisies, when suddenly a White\n",
      "Rabbit with pink eyes ran close by her.\n",
      "\n",
      "  There was nothing so VERY remarkable in that; nor did Alice\n",
      "think it so VERY much out of the way to hear the Rabbit say to\n",
      "itself, `Oh dear!  Oh dear!  I shall be late!'  (when she thought\n",
      "it over afterwards, it occurred to her that she ought to have\n",
      "wondered at this, but at the time it all seemed quite natural);\n",
      "but when the Rabbit actually TOOK A WATCH OUT OF ITS WAISTCOAT-\n",
      "POCKET, and looked at it, and then hurried on, Alice started to\n",
      "her feet, for it flashed across her mind that she had never\n",
      "before se\n"
     ]
    }
   ],
   "source": [
    "print(\"First 4000 characters of downloaded text:\\n\",rawAlice[:4000])"
   ]
  },
  {
   "cell_type": "markdown",
   "metadata": {
    "slideshow": {
     "slide_type": "slide"
    }
   },
   "source": [
    "Save textfile in local directory:"
   ]
  },
  {
   "cell_type": "code",
   "execution_count": 9,
   "metadata": {
    "ExecuteTime": {
     "end_time": "2017-10-12T13:36:41.199000Z",
     "start_time": "2017-10-12T13:36:41.183000Z"
    },
    "slideshow": {
     "slide_type": "fragment"
    }
   },
   "outputs": [],
   "source": [
    "fout=open(\"../Data/AliceEnglish.txt\",\"w\")\n",
    "fout.write(rawAlice)\n",
    "fout.close()"
   ]
  },
  {
   "cell_type": "markdown",
   "metadata": {
    "slideshow": {
     "slide_type": "slide"
    }
   },
   "source": [
    "Read textfile from local directory:"
   ]
  },
  {
   "cell_type": "code",
   "execution_count": 10,
   "metadata": {
    "ExecuteTime": {
     "end_time": "2017-10-12T13:36:41.199000Z",
     "start_time": "2017-10-12T13:36:41.183000Z"
    },
    "slideshow": {
     "slide_type": "fragment"
    }
   },
   "outputs": [],
   "source": [
    "with open(\"../Data/AliceEnglish.txt\",\"r\") as fin:\n",
    "    rawAliceIn=fin.read()"
   ]
  },
  {
   "cell_type": "code",
   "execution_count": 11,
   "metadata": {
    "ExecuteTime": {
     "end_time": "2017-10-12T13:36:45.600000Z",
     "start_time": "2017-10-12T13:36:45.600000Z"
    },
    "slideshow": {
     "slide_type": "fragment"
    }
   },
   "outputs": [
    {
     "name": "stdout",
     "output_type": "stream",
     "text": [
      "Type of variable:  <class 'str'>\n",
      "Number of characters in the book:  150886\n"
     ]
    }
   ],
   "source": [
    "print(\"Type of variable: \", type(rawAlice))\n",
    "print(\"Number of characters in the book: \",len(rawAlice))"
   ]
  },
  {
   "cell_type": "markdown",
   "metadata": {},
   "source": [
    "## Simple Methods to get a first impresson on text content"
   ]
  },
  {
   "cell_type": "markdown",
   "metadata": {
    "slideshow": {
     "slide_type": "slide"
    }
   },
   "source": [
    "In a first analysis, we want to determine the most frequent words. This shall provide us a first impression on the text content. \n",
    "### Questions:\n",
    "Before some simple text statistics methods (word-frequency) are implemented inspect the downloaded text. **What should be done in advance?** \n",
    "\n",
    "### Remove Meta-Text\n",
    "The downloaded file does not only contain the story of *Alice in Wonderland*, but also some meta-information at the start and the end of the file. This meta-information can be excluded, by determining the true start and end of the story. The true start is at the phrase `CHAPTER I` and the true end is before the phrase `THE END`."
   ]
  },
  {
   "cell_type": "code",
   "execution_count": 12,
   "metadata": {
    "ExecuteTime": {
     "end_time": "2017-10-12T13:37:09.131000Z",
     "start_time": "2017-10-12T13:37:09.098000Z"
    },
    "slideshow": {
     "slide_type": "slide"
    }
   },
   "outputs": [
    {
     "name": "stdout",
     "output_type": "stream",
     "text": [
      "2831\n",
      "150878\n"
     ]
    }
   ],
   "source": [
    "startText=rawAlice.find(\"CHAPTER I\")\n",
    "endText=rawAlice.find(\"THE END\")\n",
    "print(startText)\n",
    "print(endText)\n",
    "rawAlice=rawAlice[startText:endText]"
   ]
  },
  {
   "cell_type": "markdown",
   "metadata": {
    "slideshow": {
     "slide_type": "slide"
    }
   },
   "source": [
    "### Tokenisation\n",
    "Split the relevant text into a list of words:"
   ]
  },
  {
   "cell_type": "code",
   "execution_count": 13,
   "metadata": {
    "ExecuteTime": {
     "end_time": "2017-10-12T13:37:31.465000Z",
     "start_time": "2017-10-12T13:37:31.450000Z"
    },
    "slideshow": {
     "slide_type": "fragment"
    }
   },
   "outputs": [],
   "source": [
    "aliceWords = [word.strip(u'?!.:\",<>-»«') for word in rawAlice.lower().split()]"
   ]
  },
  {
   "cell_type": "markdown",
   "metadata": {
    "slideshow": {
     "slide_type": "slide"
    }
   },
   "source": [
    "### Generate Vocabulary and determine number of words"
   ]
  },
  {
   "cell_type": "code",
   "execution_count": 14,
   "metadata": {
    "ExecuteTime": {
     "end_time": "2017-10-12T13:37:34.050000Z",
     "start_time": "2017-10-12T13:37:34.049000Z"
    },
    "slideshow": {
     "slide_type": "fragment"
    }
   },
   "outputs": [
    {
     "name": "stdout",
     "output_type": "stream",
     "text": [
      "Number of words in the book:  26406\n",
      "Number of different words in the book:  3815\n",
      "In the average each word is used 6.92 times\n"
     ]
    }
   ],
   "source": [
    "numWordsAll=len(aliceWords)\n",
    "print(\"Number of words in the book: \",numWordsAll)\n",
    "aliceVocab = set(aliceWords)\n",
    "numWordsVocab=len(aliceVocab)\n",
    "print(\"Number of different words in the book: \",numWordsVocab)\n",
    "print(\"In the average each word is used %2.2f times\"%(float(numWordsAll)/numWordsVocab))"
   ]
  },
  {
   "cell_type": "markdown",
   "metadata": {
    "slideshow": {
     "slide_type": "slide"
    }
   },
   "source": [
    "### Determine Frequency of each word"
   ]
  },
  {
   "cell_type": "code",
   "execution_count": 15,
   "metadata": {
    "ExecuteTime": {
     "end_time": "2017-10-12T13:37:48.212000Z",
     "start_time": "2017-10-12T13:37:43.567000Z"
    },
    "slideshow": {
     "slide_type": "fragment"
    }
   },
   "outputs": [],
   "source": [
    "wordFrequencies={}\n",
    "for word in aliceVocab:\n",
    "    wordFrequencies[word]=aliceWords.count(word)"
   ]
  },
  {
   "cell_type": "markdown",
   "metadata": {
    "slideshow": {
     "slide_type": "slide"
    }
   },
   "source": [
    "Sort the word-frequency dictionary according to decreasing word-frequency."
   ]
  },
  {
   "cell_type": "code",
   "execution_count": 16,
   "metadata": {
    "ExecuteTime": {
     "end_time": "2017-09-27T07:57:34.031000Z",
     "start_time": "2017-09-27T07:57:34.016000Z"
    },
    "slideshow": {
     "slide_type": "skip"
    }
   },
   "outputs": [
    {
     "name": "stdout",
     "output_type": "stream",
     "text": [
      "opened 10\n",
      "fanning 1\n",
      "about; 1\n",
      "lonely 2\n",
      "want 9\n",
      "alone 3\n",
      "forgetting 3\n",
      "shoes!' 1\n",
      "stay 4\n",
      "shall 22\n"
     ]
    }
   ],
   "source": [
    "for word in list(wordFrequencies.keys())[:10]:\n",
    "    print(word, wordFrequencies[word])"
   ]
  },
  {
   "cell_type": "code",
   "execution_count": 17,
   "metadata": {
    "slideshow": {
     "slide_type": "fragment"
    }
   },
   "outputs": [
    {
     "name": "stdout",
     "output_type": "stream",
     "text": [
      "40 most frequent words:\n",
      "\n",
      "the 1597\n",
      "and 786\n",
      "to 711\n",
      "a 612\n",
      "she 522\n",
      "of 492\n",
      "said 453\n",
      "it 427\n",
      "alice 361\n",
      "in 350\n",
      "was 349\n",
      "you 300\n",
      "i 272\n",
      "as 251\n",
      "her 242\n",
      "that 233\n",
      "at 206\n",
      "on 182\n",
      "had 176\n",
      "with 170\n",
      "all 166\n",
      "very 139\n",
      "be 139\n",
      "for 138\n",
      "so 135\n",
      "but 126\n",
      "little 126\n",
      "this 124\n",
      "not 120\n",
      "`i 120\n",
      "they 119\n",
      "out 114\n",
      "he 112\n",
      "down 97\n",
      "his 95\n",
      "what 95\n",
      "up 92\n",
      "about 90\n",
      "is 88\n",
      "one 87\n"
     ]
    }
   ],
   "source": [
    "print(\"40 most frequent words:\\n\")\n",
    "for w in sorted(wordFrequencies, key=wordFrequencies.get, reverse=True)[:40]:\n",
    "    print(w, wordFrequencies[w])"
   ]
  },
  {
   "cell_type": "markdown",
   "metadata": {
    "slideshow": {
     "slide_type": "slide"
    }
   },
   "source": [
    "### Optimization by stop-word removal\n",
    "Stopwords are words, with low information content, such as determiners (*the, a,* ...), conjunctions (*and, or,* ...), prepositions (*in, on, over,* ...) and so on. For typical information retrieval tasks stopwords are usually ignored. In the code snippet below, a stopword-list from [NLTK](http://www.nltk.org/) is applied in order to remove these non-relevant words from the document-word lists. NLTK provides stopwordlists for many different languages. Since our text is written in English, we apply the English stopwordlist:"
   ]
  },
  {
   "cell_type": "code",
   "execution_count": 18,
   "metadata": {
    "ExecuteTime": {
     "end_time": "2017-10-12T13:37:56.849000Z",
     "start_time": "2017-10-12T13:37:56.680000Z"
    },
    "slideshow": {
     "slide_type": "fragment"
    }
   },
   "outputs": [],
   "source": [
    "from nltk.corpus import stopwords\n",
    "stopwordlist=stopwords.words('english')\n",
    "aliceWords = [word.strip(u'?!.:\",<>-»« ') for word in rawAlice.lower().split() \n",
    "              if word.strip(u'?!.:\",<>-»« ') not in stopwordlist] "
   ]
  },
  {
   "cell_type": "code",
   "execution_count": 19,
   "metadata": {
    "ExecuteTime": {
     "end_time": "2017-10-12T13:38:05.540000Z",
     "start_time": "2017-10-12T13:38:05.525000Z"
    },
    "slideshow": {
     "slide_type": "slide"
    }
   },
   "outputs": [
    {
     "name": "stdout",
     "output_type": "stream",
     "text": [
      "Number of words in the book:  13599\n",
      "Number of different words in the book:  3667\n"
     ]
    }
   ],
   "source": [
    "numWordsAll=len(aliceWords)\n",
    "print(\"Number of words in the book: \",numWordsAll)\n",
    "aliceVocab = set(aliceWords)\n",
    "numWordsVocab=len(aliceVocab)\n",
    "print(\"Number of different words in the book: \",numWordsVocab)\n",
    "#print(\"In the average each word is used %2.2f times\"%(float(numWordsAll)/numWordsVocab))"
   ]
  },
  {
   "cell_type": "markdown",
   "metadata": {
    "slideshow": {
     "slide_type": "slide"
    }
   },
   "source": [
    "Generate the dictionary for the cleaned text and display it in an ordered form: "
   ]
  },
  {
   "cell_type": "code",
   "execution_count": 20,
   "metadata": {
    "slideshow": {
     "slide_type": "fragment"
    }
   },
   "outputs": [],
   "source": [
    "wordFrequencies={}\n",
    "for word in aliceVocab:\n",
    "    wordFrequencies[word]=aliceWords.count(word)"
   ]
  },
  {
   "cell_type": "code",
   "execution_count": 21,
   "metadata": {
    "slideshow": {
     "slide_type": "fragment"
    }
   },
   "outputs": [
    {
     "name": "stdout",
     "output_type": "stream",
     "text": [
      "40 most frequent words:\n",
      "\n",
      "said 453\n",
      "alice 361\n",
      "little 126\n",
      "`i 120\n",
      "one 87\n",
      "went 82\n",
      "like 78\n",
      "could 77\n",
      "would 77\n",
      "thought 72\n",
      "queen 65\n",
      "see 63\n",
      "know 61\n",
      "* 60\n",
      "began 58\n",
      "time 58\n",
      "king 57\n",
      "mock 55\n",
      "quite 55\n",
      "`and 54\n",
      "gryphon 53\n",
      "turtle 53\n",
      "hatter 53\n",
      "way 51\n",
      "go 46\n",
      "got 45\n",
      "voice 45\n",
      "looked 45\n",
      "get 44\n",
      "much 43\n",
      "must 43\n",
      "first 42\n",
      "think 42\n",
      "say 42\n",
      "rabbit 41\n",
      "never 41\n",
      "thing 40\n",
      "round 40\n",
      "head 40\n",
      "came 40\n"
     ]
    }
   ],
   "source": [
    "print(\"40 most frequent words:\\n\")\n",
    "for w in sorted(wordFrequencies, key=wordFrequencies.get, reverse=True)[:40]:\n",
    "    print(w, wordFrequencies[w])"
   ]
  },
  {
   "cell_type": "markdown",
   "metadata": {
    "slideshow": {
     "slide_type": "slide"
    }
   },
   "source": [
    "Another option to calculate the word frequencies in an ordered manner is to apply the `nltk`-class [FreqDist](http://www.nltk.org/api/nltk.html#nltk.probability.FreqDist). "
   ]
  },
  {
   "cell_type": "code",
   "execution_count": 22,
   "metadata": {
    "slideshow": {
     "slide_type": "fragment"
    }
   },
   "outputs": [
    {
     "name": "stdout",
     "output_type": "stream",
     "text": [
      "[('said', 453), ('alice', 361), ('little', 126), ('`i', 120), ('one', 87), ('went', 82), ('like', 78), ('could', 77), ('would', 77), ('thought', 72), ('queen', 65), ('see', 63), ('know', 61), ('*', 60), ('time', 58), ('began', 58), ('king', 57), ('quite', 55), ('mock', 55), ('`and', 54)]\n"
     ]
    },
    {
     "data": {
      "image/png": "[encoded data removed]",
      "text/plain": [
       "<Figure size 432x288 with 1 Axes>"
      ]
     },
     "metadata": {
      "filenames": {
       "image/png": "/Users/johannes/gitprojects/nlpbook/NLP/_build/jupyter_execute/01access/01AccessTextFromFile_42_1.png"
      },
      "needs_background": "light"
     },
     "output_type": "display_data"
    },
    {
     "data": {
      "text/plain": [
       "<AxesSubplot:xlabel='Samples', ylabel='Counts'>"
      ]
     },
     "execution_count": 22,
     "metadata": {},
     "output_type": "execute_result"
    }
   ],
   "source": [
    "%matplotlib inline\n",
    "fd=nltk.FreqDist(aliceWords)\n",
    "print(fd.most_common(20))\n",
    "fd.plot(20)"
   ]
  },
  {
   "cell_type": "code",
   "execution_count": null,
   "metadata": {},
   "outputs": [],
   "source": []
  }
 ],
 "metadata": {
  "celltoolbar": "Slideshow",
  "kernelspec": {
   "display_name": "Python 3",
   "language": "python",
   "name": "python3"
  },
  "language_info": {
   "codemirror_mode": {
    "name": "ipython",
    "version": 3
   },
   "file_extension": ".py",
   "mimetype": "text/x-python",
   "name": "python",
   "nbconvert_exporter": "python",
   "pygments_lexer": "ipython3",
   "version": "3.8.0"
  },
  "nav_menu": {},
  "toc": {
   "base_numbering": 1,
   "nav_menu": {},
   "number_sections": true,
   "sideBar": true,
   "skip_h1_title": false,
   "title_cell": "Table of Contents",
   "title_sidebar": "Contents",
   "toc_cell": false,
   "toc_position": {},
   "toc_section_display": "block",
   "toc_window_display": false
  },
  "toc_position": {
   "height": "454px",
   "left": "0px",
   "right": "970px",
   "top": "125px",
   "width": "310px"
  },
  "varInspector": {
   "cols": {
    "lenName": 16,
    "lenType": 16,
    "lenVar": 40
   },
   "kernels_config": {
    "python": {
     "delete_cmd_postfix": "",
     "delete_cmd_prefix": "del ",
     "library": "var_list.py",
     "varRefreshCmd": "print(var_dic_list())"
    },
    "r": {
     "delete_cmd_postfix": ") ",
     "delete_cmd_prefix": "rm(",
     "library": "var_list.r",
     "varRefreshCmd": "cat(var_dic_list()) "
    }
   },
   "types_to_exclude": [
    "module",
    "function",
    "builtin_function_or_method",
    "instance",
    "_Feature"
   ],
   "window_display": false
  }
 },
 "nbformat": 4,
 "nbformat_minor": 1
}