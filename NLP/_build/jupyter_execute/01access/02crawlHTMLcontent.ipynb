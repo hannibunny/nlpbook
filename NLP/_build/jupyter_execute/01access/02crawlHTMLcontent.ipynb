{
 "cells": [
  {
   "cell_type": "markdown",
   "metadata": {
    "slideshow": {
     "slide_type": "slide"
    }
   },
   "source": [
    "# Access Contents of HTML Page\n",
    "\n",
    "- Author:      Johannes Maucher\n",
    "- Last update: 2018-10-21\n",
    "\n",
    "This notebook demonstrates how to parse a HTML document and access dedicated elements of the parse tree.\n",
    "[Beautiful Soup](http://www.crummy.com/software/BeautifulSoup/bs4/doc/#) is a python package for parsing HTML. Download and install version 4 by typing:\n",
    "\n",
    "> `pip install beautifulsoup4`\n",
    "\n",
    "into the command shell. Once it is installed it can be imported by"
   ]
  },
  {
   "cell_type": "code",
   "execution_count": 1,
   "metadata": {
    "ExecuteTime": {
     "end_time": "2017-10-20T12:50:00.898000Z",
     "start_time": "2017-10-20T12:50:00.893000Z"
    },
    "slideshow": {
     "slide_type": "fragment"
    }
   },
   "outputs": [],
   "source": [
    "from bs4 import BeautifulSoup"
   ]
  },
  {
   "cell_type": "markdown",
   "metadata": {
    "slideshow": {
     "slide_type": "slide"
    }
   },
   "source": [
    "For accessing arbitrary resources by URL the python modul [urllib](https://docs.python.org/2/library/urllib.html) must also be installed. Import the method _urlopen()_ from this module:  "
   ]
  },
  {
   "cell_type": "code",
   "execution_count": 2,
   "metadata": {
    "ExecuteTime": {
     "end_time": "2017-10-20T12:50:02.246000Z",
     "start_time": "2017-10-20T12:50:02.242000Z"
    },
    "slideshow": {
     "slide_type": "fragment"
    }
   },
   "outputs": [],
   "source": [
    "from urllib.request import urlopen"
   ]
  },
  {
   "cell_type": "markdown",
   "metadata": {
    "slideshow": {
     "slide_type": "fragment"
    }
   },
   "source": [
    "If these two modules are available the HTML parse tree of the specified URL can easily be generated as follows."
   ]
  },
  {
   "cell_type": "code",
   "execution_count": 3,
   "metadata": {
    "ExecuteTime": {
     "end_time": "2017-10-20T12:50:04.344000Z",
     "start_time": "2017-10-20T12:50:03.569000Z"
    },
    "slideshow": {
     "slide_type": "fragment"
    }
   },
   "outputs": [],
   "source": [
    "#url=\"http://www.zeit.de\"\n",
    "url=\"http://www.spiegel.de\"\n",
    "#url=\"http://www.sueddeutsche.de\"\n",
    "html=urlopen(url).read()\n",
    "soup=BeautifulSoup(html,\"html.parser\")"
   ]
  },
  {
   "cell_type": "markdown",
   "metadata": {
    "slideshow": {
     "slide_type": "slide"
    }
   },
   "source": [
    "Now e.g. the title of the URL can be accessed by:"
   ]
  },
  {
   "cell_type": "code",
   "execution_count": 4,
   "metadata": {
    "ExecuteTime": {
     "end_time": "2017-10-20T12:50:06.092000Z",
     "start_time": "2017-10-20T12:50:06.086000Z"
    },
    "slideshow": {
     "slide_type": "fragment"
    }
   },
   "outputs": [
    {
     "name": "stdout",
     "output_type": "stream",
     "text": [
      "Title of page:   DER SPIEGEL | Online-Nachrichten\n"
     ]
    }
   ],
   "source": [
    "titleTag = soup.html.head.title\n",
    "print(\"Title of page:  \",titleTag.string)"
   ]
  },
  {
   "cell_type": "markdown",
   "metadata": {
    "slideshow": {
     "slide_type": "slide"
    }
   },
   "source": [
    "## Get all links in the page\n",
    "All links in the page can be retrieven by the following code (only the first 20 links are printed)"
   ]
  },
  {
   "cell_type": "code",
   "execution_count": 5,
   "metadata": {
    "ExecuteTime": {
     "end_time": "2017-10-20T12:50:07.973000Z",
     "start_time": "2017-10-20T12:50:07.951000Z"
    },
    "slideshow": {
     "slide_type": "fragment"
    }
   },
   "outputs": [
    {
     "name": "stdout",
     "output_type": "stream",
     "text": [
      "Number of links in this page:  561\n",
      "#Inhalt\n",
      "https://www.spiegel.de/nutzungsbedingungen\n",
      "https://www.spiegel.de/\n",
      "https://abo.spiegel.de/?b=SPOHNAVABO&requestAccessToken=true&sara_icid=disp_upd_9h6L5hu8K1AAnttzYATx3hvk7taDkP&targetUrl=https%3A%2F%2Fwww.spiegel.de%2Ffuermich%2F\n",
      "https://gruppenkonto.spiegel.de/authenticate?requestAccessToken=true&targetUrl=https%3A%2F%2Fwww.spiegel.de%2Ffuermich%2F\n",
      "https://www.spiegel.de/fuermich/\n",
      "https://www.spiegel.de/\n",
      "https://www.spiegel.de/schlagzeilen/\n",
      "https://www.spiegel.de/plus/\n",
      "https://www.spiegel.de/audio/\n",
      "https://www.spiegel.de/fuermich/\n",
      "https://www.spiegel.de/schlagzeilen/\n",
      "https://www.spiegel.de/plus/\n",
      "https://www.spiegel.de/thema/coronavirus/\n",
      "https://www.spiegel.de/politik/deutschland/\n",
      "https://www.spiegel.de/politik/ausland/\n",
      "https://www.spiegel.de/panorama/\n",
      "https://www.spiegel.de/sport/\n",
      "https://www.spiegel.de/wirtschaft/\n",
      "https://www.spiegel.de/netzwelt/\n"
     ]
    }
   ],
   "source": [
    "hreflinks=[]\n",
    "Alllinks=soup.findAll('a') #The <a> tag defines a hyperlink, which is used to link from one page to another.\n",
    "for l in Alllinks:\n",
    "    if l.has_attr('href'):\n",
    "        hreflinks.append(l)\n",
    "print(\"Number of links in this page: \",len(hreflinks))\n",
    "for l in hreflinks[:20]:\n",
    "    print(l['href'])"
   ]
  },
  {
   "cell_type": "markdown",
   "metadata": {
    "slideshow": {
     "slide_type": "slide"
    }
   },
   "source": [
    "## Get all news titles\n",
    "Get title of all news, which are currently listed on [www.zeit.de](http://www.zeit.de):"
   ]
  },
  {
   "cell_type": "code",
   "execution_count": 6,
   "metadata": {
    "ExecuteTime": {
     "end_time": "2017-10-20T12:50:10.208000Z",
     "start_time": "2017-10-20T12:50:10.124000Z"
    },
    "slideshow": {
     "slide_type": "fragment"
    }
   },
   "outputs": [
    {
     "name": "stdout",
     "output_type": "stream",
     "text": [
      "----------------------------------------\n",
      "Childbirth in the Pandemic: How COVID-19 Is Indirectly Killing Mothers and Babies\n",
      "https://www.spiegel.de/international/tomorrow/childbirth-in-the-pandemic-how-covid-19-is-indirectly-killing-mothers-and-babies-a-adf7c1f1-441b-4aa3-87bd-86e9f3345b0b\n",
      "----------------------------------------\n",
      "Trotz harter Vorwürfe: Staatsbank verlängerte Wirecard noch im Herbst 2019 die Kreditlinie\n",
      "https://www.spiegel.de/wirtschaft/unternehmen/wirecard-staatsbank-verlaengerte-wirecard-noch-im-herbst-2019-die-kreditlinie-a-b8971bfc-7f45-4787-922b-3b649cb1cdba\n",
      "----------------------------------------\n",
      "Energiekonzern: BP rechnet mit Ende des Ölzeitalters\n",
      "https://www.spiegel.de/wirtschaft/unternehmen/bp-oelfoerderung-steht-laut-energiekonzern-vor-dem-ende-a-655257b8-7e33-4a29-8c3e-ed37569219fa\n",
      "----------------------------------------\n",
      "Stolberg in Nordrhein-Westfalen: Ermittler prüfen Zusammenhang von Messerangriff mit Kommunalwahl\n",
      "https://www.spiegel.de/politik/deutschland/stolberg-in-nrw-ermittler-pruefen-zusammenhang-von-messerattacke-mit-kommunalwahl-a-24ff6ba2-1e03-4dad-8828-2be6aa564261\n",
      "----------------------------------------\n",
      "Prozess gegen Sven Liebich: Rechtsextremer Netzaktivist zu Bewährungsstrafe verurteilt\n",
      "https://www.spiegel.de/panorama/justiz/halle-rechtsextremer-netzaktivist-sven-liebich-zu-bewaehrungsstrafe-verurteilt-a-47c7901c-b984-4663-add3-a0fa494bf7d1\n",
      "----------------------------------------\n",
      "Boris Johnsons neue Widersacher\n",
      "https://www.spiegel.de/politik/ausland/grossbritannien-aufruhr-gegen-boris-johnsons-aenderungen-am-brexit-vertrag-a-e0e55b87-fa08-4137-8ed0-c1526174b52e\n",
      "----------------------------------------\n",
      "Verlässlich wie eine lange, schlechte Ehe\n",
      "https://www.spiegel.de/politik/ausland/wladimir-putin-und-alexander-lukaschenko-treffen-in-sotschi-wie-eine-lange-schlechte-ehe-a-10e138fe-8931-4e90-b902-ac6c26c5cd95\n",
      "----------------------------------------\n",
      "Internationale Labors bestätigen Vergiftung Nawalnys\n",
      "https://www.spiegel.de/politik/ausland/alexej-nawalny-weitere-labore-bestaetigen-vergiftung-a-28b14fd2-a36b-43b9-ac03-267d1eaed8fc\n",
      "----------------------------------------\n",
      "GroKo will bis Mittwoch über Geflüchtete aus Moria entscheiden\n",
      "https://www.spiegel.de/politik/deutschland/angela-merkel-zu-moria-grosse-koalition-soll-bis-mittwoch-ueber-aufnahme-von-gefluechteten-entscheiden-a-8436363b-eda8-4aef-a082-c14fa9ba0a96\n",
      "----------------------------------------\n",
      "Refugees welcome?\n",
      "https://www.spiegel.de/politik/deutschland/fluechtlingspolitik-refugees-welcome-kolumne-a-b8de9ebe-85ad-4043-bd3b-368a7c73dd8a\n",
      "----------------------------------------\n",
      "Staatsbank verlängerte Wirecard noch im Herbst 2019 die Kreditlinie\n",
      "https://www.spiegel.de/wirtschaft/unternehmen/wirecard-staatsbank-verlaengerte-wirecard-noch-im-herbst-2019-die-kreditlinie-a-b8971bfc-7f45-4787-922b-3b649cb1cdba\n",
      "----------------------------------------\n",
      "Das Klima gewinnt die Wahl\n",
      "https://www.spiegel.de/wissenschaft/mensch/nrw-kommunalwahl-das-klima-gewinnt-a-9710a957-ca26-4412-b68a-089ac93bc70f\n",
      "----------------------------------------\n",
      "Ermittler prüfen Zusammenhang von Messerangriff mit Kommunalwahl\n",
      "https://www.spiegel.de/politik/deutschland/stolberg-in-nrw-ermittler-pruefen-zusammenhang-von-messerattacke-mit-kommunalwahl-a-24ff6ba2-1e03-4dad-8828-2be6aa564261\n",
      "----------------------------------------\n",
      "SPD redet sich NRW-Debakel schön\n",
      "https://www.spiegel.de/politik/deutschland/nordrhein-westfalen-so-reagieren-die-parteien-auf-das-kommunalwahlergebnis-a-973d31bb-9eaa-4be5-92fd-89ee0bc5fa57\n",
      "----------------------------------------\n",
      "BP rechnet mit Ende des Ölzeitalters\n",
      "https://www.spiegel.de/wirtschaft/unternehmen/bp-oelfoerderung-steht-laut-energiekonzern-vor-dem-ende-a-655257b8-7e33-4a29-8c3e-ed37569219fa\n",
      "----------------------------------------\n",
      "Neue Härte\n",
      "https://www.spiegel.de/politik/deutschland/eu-china-gipfel-merkel-xi-von-der-leyen-michel-beraten-per-video-a-a006deb1-bc73-4fb5-91e1-c77f95bef7a9\n",
      "----------------------------------------\n",
      "Der Macron-Flüsterer\n",
      "https://www.spiegel.de/politik/ausland/frankreich-staatssekretaer-clement-beaune-der-macron-fluesterer-a-00000000-0002-0001-0000-000172993231\n",
      "----------------------------------------\n",
      "Terrorverdacht gegen Soldat der Bundeswehr\n",
      "https://www.spiegel.de/politik/deutschland/bundeswehr-terrorverdacht-gegen-soldat-razzia-in-neubrandenburg-a-71c6a3be-b0c5-4611-9f44-76de337b09bd\n",
      "----------------------------------------\n",
      "Corona-Pandemie\n",
      "https://www.spiegel.de/thema/coronavirus/\n",
      "----------------------------------------\n",
      "Gegen jede Corona-Regel\n",
      "https://www.spiegel.de/politik/ausland/donald-trump-auftritt-in-nevada-gegen-jede-corona-regel-a-2a5d4be4-d672-4b0f-9a33-6d0e5d740581\n",
      "----------------------------------------\n",
      "Dann geht's in Handschellen aufs Revier\n",
      "https://www.spiegel.de/panorama/justiz/corona-kontrollen-kommunen-greifen-durch-in-handschellen-aufs-revier-a-00000000-0002-0001-0000-000172993201\n",
      "----------------------------------------\n",
      "Eltern bewerten Digitalisierung der Schulen mit \"mangelhaft\"\n",
      "https://www.spiegel.de/wissenschaft/medizin/coronavirus-news-am-14-september-oesterreich-verschaerft-maskenpflicht-a-298d7d65-912a-40a1-8fce-80da4b696b36\n",
      "----------------------------------------\n",
      "Japans letzte Krieger\n",
      "https://www.spiegel.de/geschichte/teruo-nakamura-und-co-japans-letzte-weltkriegssoldaten-versteckt-im-dschungel-a-99a09f95-5c89-482c-a3f1-73f6c7cb631f\n",
      "----------------------------------------\n",
      "Waldbrände in Kalifornien\n",
      "https://www.spiegel.de/thema/waldbraende_in_kalifornien/\n",
      "----------------------------------------\n",
      "Amerikanischer Albtraum\n",
      "https://www.spiegel.de/panorama/gesellschaft/usa-waldbraende-an-der-westkueste-kalifornischer-albtraum-a-7cf64967-cebe-4e29-a96e-702e81f3ea99\n",
      "----------------------------------------\n",
      "Der Arzt, das Gericht und die Wahrheit\n",
      "https://www.spiegel.de/panorama/justiz/berlin-aids-mediziner-soll-sich-an-patienten-vergangen-haben-der-arzt-das-gericht-und-die-wahrheit-a-00000000-0002-0001-0000-000172993203\n",
      "----------------------------------------\n",
      "\"Gott\" kommt ins Fernsehen\n",
      "https://www.spiegel.de/kultur/tv/ferdinand-von-schirachs-neues-theaterstueck-gott-kommt-ins-fernsehen-a-10b9ba31-e336-4022-bdcc-d08c6774ca0c\n",
      "----------------------------------------\n",
      "\"Brauche ich dieses Essen, diese Hose, diesen Menschen?\"\n",
      "https://www.spiegel.de/kultur/tv/anke-engelke-ueber-das-letzte-wort-brauche-ich-dieses-essen-diese-hose-diesen-menschen-a-00000000-0002-0001-0000-000172993254\n",
      "----------------------------------------\n",
      "Warum sehen wir alle gleich aus?\n",
      "http://www.bento.de/style/wieso-sehen-alle-menschen-gleich-aus-a-728a8a4b-2816-483b-a3a9-f31b078862f5#refsponi\n",
      "----------------------------------------\n",
      "US Open\n",
      "https://www.spiegel.de/thema/alexander_zverev/\n",
      "----------------------------------------\n",
      "\"Es war das beste und das schlechteste Finale\"\n",
      "https://www.spiegel.de/sport/tennis/us-open-pressestimmen-der-mutigere-und-kaltbluetigere-spieler-wurde-belohnt-a-0d893714-bc71-4a96-9eac-5d9c4fa55c55\n",
      "----------------------------------------\n",
      "Mein Experiment mit der DNA-Diät\n",
      "https://www.spiegel.de/gesundheit/ernaehrung/personalisierte-ernaehrung-mein-experiment-mit-der-dna-diaet-a-00000000-0002-0001-0000-000172248241\n",
      "----------------------------------------\n",
      "Wenn es an ihm liegt, dass sie nicht schwanger wird\n",
      "https://www.spiegel.de/gesundheit/schwangerschaft/der-unfruchtbare-mann-a-00000000-0002-0001-0000-000172993242\n",
      "----------------------------------------\n",
      "Was tun bei Wasserschaden?\n",
      "https://www.spiegel.de/wirtschaft/service/wasserschaden-meine-persoenliche-sintflut-a-cc904cc1-18fc-4e13-acf3-2c32f59ae036\n",
      "----------------------------------------\n",
      "So können Sie ohne Abschläge früher in Rente gehen\n",
      "https://www.spiegel.de/wirtschaft/service/rente-so-koennen-sie-sich-im-alter-mehr-leisten-a-2b4c05e0-c8b6-4b41-ab68-5362b5ecb97a\n",
      "----------------------------------------\n",
      "Esra will doch nur zur Schule gehen\n",
      "https://www.spiegel.de/panorama/bildung/kinder-mit-behinderung-in-der-corona-krise-doppelt-gehandicapt-a-85d63be6-0110-46ac-ba9f-991052789219\n",
      "----------------------------------------\n",
      "Kommentare und Kolumnen\n",
      "https://www.spiegel.de/thema/meinung/\n",
      "----------------------------------------\n",
      "Welt brennt, Regierung hofft auf Wunder\n",
      "https://www.spiegel.de/wissenschaft/mensch/klimapolitik-welt-brennt-regierung-hofft-auf-wunder-a-2f9d37f6-f11d-4191-a0d3-7aee6fe210eb\n",
      "----------------------------------------\n",
      "Die Japan-Falle\n",
      "https://www.spiegel.de/wirtschaft/soziales/regierungswechsel-in-tokio-die-japan-falle-a-f85e102a-3bb9-442d-8781-9f98de0e0547\n",
      "----------------------------------------\n",
      "Sie merken, ich bin richtig sauer\n",
      "https://www.spiegel.de/kultur/ausbeutung-und-ungerechtigkeit-sie-merken-ich-bin-richtig-sauer-kolumne-a-269e1390-33cb-4b1d-aed6-1fc79ce47a8f\n",
      "----------------------------------------\n",
      "Nie wieder Moria!\n",
      "https://www.spiegel.de/politik/ausland/fluechtlingslager-aus-lesbos-moria-muss-weg-jetzt-kommentar-a-00000000-0002-0001-0000-000172993178\n",
      "----------------------------------------\n",
      "Politik\n",
      "https://www.spiegel.de/politik/deutschland/\n",
      "----------------------------------------\n",
      "Migration: Koalitionsstreit über Moria-Flüchtlinge - SPD droht der Union\n",
      "https://www.spiegel.de/politik/deutschland/moria-koalitionsstreit-ueber-fluechtlinge-spd-erhoeht-druck-auf-union-a-d1310966-9e4e-4675-8cc8-7c41ebf4f168\n",
      "----------------------------------------\n",
      "Vorläufiges Ergebnis der NRW-Kommunalwahlen: CDU gewinnt mit 34,3 Prozent\n",
      "https://www.spiegel.de/politik/deutschland/cdu-gewinnt-nrw-kommunalwahlen-mit-34-3-prozent-vorlaeufiges-ergebnis-a-ef9420ea-7300-47d1-9b20-4342bf0c1e68\n",
      "----------------------------------------\n",
      "Die Lage am Morgen: Willkür und Weltordnung\n",
      "https://www.spiegel.de/politik/deutschland/news-eu-china-wladimir-putin-alexander-lukaschenko-boris-johnson-brexit-a-f6a81d66-865e-47ae-8f1f-0ffcda73b73a\n",
      "----------------------------------------\n",
      "Ausland\n",
      "https://www.spiegel.de/politik/ausland/\n",
      "----------------------------------------\n",
      "Brexit-Streit in Großbritannien: Auch Ex-Premier Cameron stellt sich gegen Johnson\n",
      "https://www.spiegel.de/politik/ausland/brexit-david-cameron-stellt-sich-gegen-boris-johnson-a-6aac399d-13a9-4431-8185-cb7bae14ad4f\n",
      "----------------------------------------\n",
      "Massenproteste in Belarus: Putin empfängt Lukaschenko\n",
      "https://www.spiegel.de/politik/ausland/belarus-wladimir-putin-empfaengt-alexander-lukaschenko-a-a27a7aca-3cd0-4654-af8f-9123a88b8e72\n",
      "----------------------------------------\n",
      "Verstoß gegen Corona-Auflagen: Trump hält erste Massenkundgebung in einer Halle seit Ende Juni ab\n",
      "https://www.spiegel.de/politik/ausland/donald-trump-haelt-erste-massenkundgebung-in-einer-halle-seit-ende-juni-a-fd7f11d2-beec-40f7-bddf-4c2429b323f8\n",
      "----------------------------------------\n",
      "Panorama\n",
      "https://www.spiegel.de/panorama/\n",
      "----------------------------------------\n",
      "Kelly Clarkson über Ehe-Aus: \"Mein Leben war ein bisschen wie ein Müllcontainer\"\n",
      "https://www.spiegel.de/panorama/leute/kelly-clarkson-ueber-ehe-aus-mein-leben-war-ein-bisschen-wie-ein-muellcontainer-a-e4ca65fb-b7e4-4ea1-a904-fb438b143776\n",
      "----------------------------------------\n",
      "Baden-Württemberg: Mann wird unter Bagger begraben und stirbt\n",
      "https://www.spiegel.de/panorama/baden-wuerttemberg-mann-wird-unter-bagger-begraben-und-stirbt-a-2b633835-727b-4acd-b6e4-cab7a37be310\n",
      "----------------------------------------\n",
      "Oliver Masucci nahm für Rolle zu: \"Am Ende habe ich nichts verdient, weil alles in den Bauch geflossen ist\"\n",
      "https://www.spiegel.de/panorama/leute/oliver-masucci-am-ende-habe-ich-nichts-verdient-weil-alles-in-den-bauch-geflossen-ist-a-9bb17326-df83-476a-b7e6-1e727890a143\n",
      "----------------------------------------\n",
      "Sport\n",
      "https://www.spiegel.de/sport/\n",
      "----------------------------------------\n",
      "Pressestimmen zur Formel 1: \"Crash, Boom, Bang\"\n",
      "https://www.spiegel.de/sport/formel1/formel-1-unfall-boom-knall-pressestimmen-zum-chaos-rennen-in-mugello-a-ff28db03-50ab-4fa9-bbb2-fcaf77d3cd81\n",
      "----------------------------------------\n",
      "Superstar Brady mit Niederlage bei NFL-Start: \"Ich habe zu viele Fehler gemacht\"\n",
      "https://www.spiegel.de/sport/nfl-tom-brady-verliert-mit-bucs-vs-saints-ich-habe-viele-fehler-gemacht-a-aeea527a-1be0-4259-b0b2-2165ecdfeaea\n",
      "----------------------------------------\n",
      "Tennis: Dominic Thiem gewinnt US-Open-Finale gegen Alexander Zverev\n",
      "https://www.spiegel.de/sport/tennis/dominic-thiem-gewinnt-us-open-finale-gegen-alexander-zverev-a-9593245d-478b-49d0-a1dc-2a49ed5e16ec\n",
      "----------------------------------------\n",
      "Wirtschaft\n",
      "https://www.spiegel.de/wirtschaft/\n",
      "----------------------------------------\n",
      "Übernahmeangebot: Metro-Großaktionär greift erneut nach der Macht\n",
      "https://www.spiegel.de/wirtschaft/unternehmen/metro-grossaktionaer-daniel-kretinsky-mach-uebernahmeangebot-a-ca16f2b5-4b42-42ff-be07-7584de1d7fab\n",
      "----------------------------------------\n",
      "Großbritannien: DIHK warnt vor milliardenschweren Folgen des Brexit-Streits\n",
      "https://www.spiegel.de/wirtschaft/unternehmen/brexit-dihk-warnt-vor-milliardenschweren-folgen-des-streits-a-6a484fa4-be4b-462d-a96f-65cf009665ee\n",
      "----------------------------------------\n",
      "Finanzbedarf bis 2040: Bahn-Ausbau kostet im Schnitt 3,7 Milliarden Euro pro Jahr\n",
      "https://www.spiegel.de/wirtschaft/unternehmen/bahn-ausbau-kosten-von-im-schnitt-3-7-milliarden-euro-pro-jahr-a-69301dcf-9e1d-47a3-b13d-d7e5e0b571f9\n",
      "----------------------------------------\n",
      "Übernahmeangebot von Daniel Křetínský: Chef weg, Kurs am Boden: Investor greift nach Handelskonzern Metro\n",
      "https://www.manager-magazin.de/unternehmen/handel/grosshandelskonzern-metro-investor-kretinsky-stellt-erneut-uebernahmeangebot-a-d583db49-b405-47c2-b1ed-866208eceef4\n",
      "----------------------------------------\n",
      "Studie: Preise für Wohnimmobilien steigen bis 2030 weiter an\n",
      "https://www.manager-magazin.de/finanzen/immobilien/immobilien-preise-fuer-wohnimmobilien-steigen-bis-2030-weiter-an-a-b8a22db9-596f-4035-a943-f4f4bbb64d95\n",
      "----------------------------------------\n",
      "SoftBank verkauft Arm: Herr Son besiegelt 40-Milliarden-Dollar-Deal mit Nvidia\n",
      "https://www.manager-magazin.de/unternehmen/tech/nvidia-kauft-arm-40-milliarden-dollar-fuer-softbank-a-60bea75a-d994-4f00-8af3-29cd94974514\n",
      "----------------------------------------\n",
      "Börsenkurse manager magazin\n",
      "https://boersen.manager-magazin.de\n",
      "----------------------------------------\n",
      "Wissenschaft\n",
      "https://www.spiegel.de/wissenschaft/\n",
      "----------------------------------------\n",
      "Pandemie: WHO meldet Rekord an neuen Corona-Infektionen\n",
      "https://www.spiegel.de/wissenschaft/coronavirus-who-meldet-rekord-an-neuen-corona-infektionen-a-3e47f13a-b46f-4cf4-82df-ea048538461d\n",
      "----------------------------------------\n",
      "Satellitenbild der Woche: Kalifornisches Inferno\n",
      "https://www.spiegel.de/wissenschaft/mensch/waldbraende-an-der-westkueste-der-usa-das-inferno-aus-satelliten-sicht-a-27ef930b-3637-4fb6-9321-15dbc44d8357\n",
      "----------------------------------------\n",
      "Neue Corona-Studien: Die dreifache Bürde der Jüngeren\n",
      "https://www.spiegel.de/wissenschaft/medizin/corona-wie-gefaehrlich-ist-covid-19-fuer-juengere-menschen-a-9881f85b-8b96-4690-a7f1-46c198ad0151\n",
      "----------------------------------------\n",
      "Netzwelt\n",
      "https://www.spiegel.de/netzwelt/\n",
      "----------------------------------------\n",
      "Smartphone-Prozessoren: Nvidia will Chipdesigner Arm für 40 Milliarden Dollar kaufen\n",
      "https://www.spiegel.de/netzwelt/gadgets/nvidia-will-chip-designer-arm-fuer-40-milliarden-dollar-kaufen-a-5cd33daa-b05e-468b-a888-e2e01be0de97\n",
      "----------------------------------------\n",
      "Videoplattform: Microsoft aus dem Rennen um TikTok - Oracle neuer Favorit\n",
      "https://www.spiegel.de/netzwelt/microsoft-erklaert-uebernahme-von-tiktok-fuer-geplatzt-a-a5644111-0227-4758-b1ec-87ea7afac310\n",
      "----------------------------------------\n",
      "Sascha Lobo - Der Debatten-Podcast: Der fatale Funktionierfetisch der Deutschen\n",
      "https://www.spiegel.de/netzwelt/netzpolitik/digitalisierung-der-fatale-funktionierfetisch-der-deutschen-podcast-a-0a457a3b-e8b4-4664-9354-8cf075d3aa40\n",
      "----------------------------------------\n",
      "Kultur\n",
      "https://www.spiegel.de/kultur/\n",
      "----------------------------------------\n",
      "Finanzskandal: Sky plant großes Doku-und-Fiktion-Projekt zu Wirecard\n",
      "https://www.spiegel.de/kultur/tv/sky-plant-grosses-doku-und-fiktion-projekt-zu-wirecard-a-287a61b4-5140-47c9-aeb5-97d58c00afe5\n",
      "----------------------------------------\n",
      "Krimi-Vote: Wie gefiel Ihnen der Spionage-\"Tatort\"?\n",
      "https://www.spiegel.de/kultur/tv/tatort-vote-wie-gefiel-ihnen-funkstille-mit-janneke-und-brix-a-07ebab06-fad7-423f-9531-8da0e4a6e9b9\n",
      "----------------------------------------\n",
      "Chronist Geert Mak: Der banale Moment, in dem Europa mutiert\n",
      "https://www.spiegel.de/kultur/literatur/grosse-erwartungen-von-geert-mak-der-banale-moment-in-dem-europa-mutiert-rezension-a-3de9a5bc-8958-47a2-97ec-f83bce88cb32\n",
      "----------------------------------------\n",
      "Asexualität kann revolutionieren, wie wir über Liebe und Sex reden\n",
      "https://www.bento.de/gefuehle/asexualitaet-kann-revolutionieren-wie-wir-ueber-liebe-und-sex-reden-a-8c85a51d-e1ea-4001-8d76-9d4713df636d\n",
      "----------------------------------------\n",
      "Lea wurde als Mädchen von einem Mann aus einem Chatroom verführt\n",
      "https://www.bento.de/gefuehle/cybergrooming-lea-wurde-als-maedchen-von-einem-mann-aus-einem-chatroom-verfuehrt-a-549b5493-b930-4688-a918-8e04dbdf865b\n",
      "----------------------------------------\n",
      "Günstiger als AirPods, aber trotzdem gut: Welcher True-Wireless-Kopfhörer für dich der richtige ist\n",
      "https://www.bento.de/gadgets/wireless-kopfhoerer-guenstige-alternativen-zu-apple-airpods-sennheiser-und-co-in-guter-qualitaet-a-b88cd1f0-1cd3-4f0c-9482-6fdeb7844e1a\n",
      "----------------------------------------\n",
      "Tests\n",
      "https://www.spiegel.de/tests/\n",
      "----------------------------------------\n",
      "Rasensprenger im Test: Regenmacher\n",
      "https://www.spiegel.de/tests/garten/rasensprenger-im-test-regenmacher-a-4b6c967d-e341-4bf9-9ad1-7445acfc1a95\n",
      "----------------------------------------\n",
      "Bestseller Link\n",
      "https://www.spiegel.de/kultur/bestseller-buecher-belletristik-sachbuch-auf-spiegel-liste-a-458623.html\n",
      "----------------------------------------\n",
      "Geschichte\n",
      "https://www.spiegel.de/geschichte/\n",
      "----------------------------------------\n",
      "Rechter Terror in Deutschland: Hundert Jahre Mord\n",
      "https://www.spiegel.de/geschichte/rechtsterrorismus-in-deutschland-hundert-jahre-mord-a-0be6cb6b-19ee-4f98-90c5-afc5e59381e6\n",
      "----------------------------------------\n",
      "Olympiagold für Barfußläufer Bikila: Triumph auf blanken Sohlen\n",
      "https://www.spiegel.de/geschichte/barfuss-zum-olympiasieg-wie-abebe-bikila-1960-marathon-gold-gewann-a-bb4dc351-3478-41f8-88e0-902d364123dd\n",
      "----------------------------------------\n",
      "Kriegsfotograf Robert Capa: Berlin in der Stunde null\n",
      "https://www.spiegel.de/geschichte/kriegsfotograf-robert-capa-berlin-in-der-stunde-null-a-b086849b-3d5c-4c9d-bbb6-fd53be455736\n",
      "----------------------------------------\n",
      "Job & Karriere\n",
      "https://www.spiegel.de/karriere/\n",
      "----------------------------------------\n",
      "Recht auf Lohnfortzahlung: Krank im Job - wer zahlt wann?\n",
      "https://www.spiegel.de/karriere/lohnfortzahlung-im-krankheitsfall-ansprueche-und-pflichten-a-2b61469e-03a9-4b62-8224-9bddc56fe3d5\n",
      "----------------------------------------\n",
      "Rätsel der Woche: Die Kneipen-Rochade\n",
      "https://www.spiegel.de/karriere/die-kneipen-rochade-raetsel-der-woche-a-e1211fe6-3d0b-41fe-a8ff-b99c90346415\n",
      "----------------------------------------\n",
      "Bilderbuch für Erwachsene: \"Wow, 17 Cent Trinkgeld, die lege ich gleich an\"\n",
      "https://www.spiegel.de/karriere/berufe-im-bilderbuch-wow-17-cent-trinkgeld-die-lege-ich-gleich-an-a-72f0db1b-c164-48bc-bb10-11599afb6d99\n",
      "----------------------------------------\n",
      "Mobilität\n",
      "https://www.spiegel.de/auto/\n",
      "----------------------------------------\n",
      "Günstiger Oldtimer Pontiac Firebird: Die Muckibude\n",
      "https://www.spiegel.de/auto/fahrberichte/pontiac-firebird-das-auto-aus-knight-rider-als-guenstiger-oldtimer-a-6ced3fcd-8bf7-49fb-9d2a-b5bfa386a0f2\n",
      "----------------------------------------\n",
      "Benzinbuch: R Gruppe: Das luftgekühlte Manifest\n",
      "https://www.spiegel.de/auto/fahrkultur/porsche-r-gruppe-das-luftgekuehlte-manifest-a-915b451b-4952-402d-99b3-57836f1db19f\n",
      "----------------------------------------\n",
      "Trend auf dem Caravan Salon: Elektrisch über den Campingplatz\n",
      "https://www.spiegel.de/auto/fahrkultur/neues-caming-equipment-innovative-e-scooter-a-f6e84366-84d1-4227-858e-c3289f062815\n",
      "----------------------------------------\n",
      "Alle Podcasts\n",
      "https://www.spiegel.de/thema/podcasts_vom_spiegel/\n",
      "----------------------------------------\n",
      "Leben\n",
      "https://www.spiegel.de/thema/leben/\n",
      "----------------------------------------\n",
      "Manche verzichten auf Urlaub, andere auf ihre Familie\n",
      "https://www.spiegel.de/familie/coronavirus-wie-die-pandemie-familien-trennt-und-wie-ich-damit-umgehe-a-8a2669e6-4078-47e9-a9cd-8f1700dae4af\n",
      "----------------------------------------\n",
      "Jede dritte Blutvergiftung endet in Deutschland tödlich\n",
      "https://www.spiegel.de/gesundheit/diagnose/blutvergiftung-jede-dritte-endet-in-deutschland-toedlich-a-11b2ba26-3aa7-414f-8dff-e4e0fa5dc59c\n",
      "----------------------------------------\n",
      "Gut gemeinte Tipps wie \"Lass dir Zeit\" können Sie sich sparen\n",
      "https://www.spiegel.de/gesundheit/sprachtherapie-was-gegen-stottern-hilft-und-was-eltern-tun-koennen-a-6cb8d106-fd84-43ee-a721-d6f1550d65c4\n",
      "----------------------------------------\n",
      "Hype um Discounter-Mode\n",
      "https://www.spiegel.de/stil/lidl-kollektion-hype-um-discounter-mode-a-b104183f-13a9-4cf7-a14e-cf555834f2c3\n",
      "----------------------------------------\n",
      "Das Null-Zucker-Experiment geht weiter\n",
      "https://www.spiegel.de/gesundheit/ernaehrung/im-selbstversuch-zum-gesunden-darm-was-die-heilpraktikerin-sagt-a-fc5fcfab-03c8-4279-952f-0a30cac5ad1f\n",
      "----------------------------------------\n",
      "Im Frischeparadies\n",
      "https://www.spiegel.de/stil/tomaten-zuechten-im-frischeparadies-a-61230a71-1b1e-443b-b18c-c70b934c950c\n",
      "----------------------------------------\n",
      "Berge für Zwerge\n",
      "https://www.spiegel.de/reise/reka-dorf-im-appenzeller-land-berge-fuer-zwerge-a-d12b9a6c-a098-468a-bda9-f13cb474c9f8\n",
      "----------------------------------------\n",
      "Tipps fürs Campen\n",
      "https://www.spiegel.de/thema/test_und_produkte/\n",
      "----------------------------------------\n",
      "Mit dieser Ausrüstung wird Camping komfortabel\n",
      "https://www.spiegel.de/tests/camping/camping-ausruestung-im-test-mit-diesem-zubehoer-wird-es-komfortabel-a-c2b15a80-9a65-4715-b4d0-84dc6bbc59a7\n",
      "----------------------------------------\n",
      "Outdoor-Gadgets - So rocken Sie den Camping-Urlaub\n",
      "https://www.spiegel.de/tests/camping/soundbox-stirnlampe-und-navigationsgeraet-fuer-camper-und-camping-a-18270b88-787b-4857-b60e-864f4861a151\n",
      "----------------------------------------\n",
      "Camp dich glücklich\n",
      "https://www.spiegel.de/reise/fernweh/camping-gadgets-thermobecher-werkzeugkoffer-campingdusche-a-1299874.html\n",
      "----------------------------------------\n",
      "Dein SPIEGEL\n",
      "https://www.spiegel.de/deinspiegel/\n",
      "----------------------------------------\n",
      "Die Nominierungen für den deutschen Kindersoftwarepreis TOMMI\n",
      "https://www.spiegel.de/deinspiegel/die-nominierungen-fuer-den-deutschen-kindersoftwarepreis-tommi-2020-a-8cb5f2c6-4384-4835-bb41-0aadd87a5699\n",
      "----------------------------------------\n",
      "Wie haben sich Freundschaften durch Corona verändert?\n",
      "https://www.spiegel.de/deinspiegel/trotz-corona-freunde-bleiben-kinder-erzaehlen-a-00000000-0002-0001-0000-000172431236\n",
      "----------------------------------------\n",
      "Bild des Tages\n",
      "https://www.spiegel.de/fotostrecke/bilder-des-tages-fotos-aus-deutschland-und-der-welt-fotostrecke-122824.html\n"
     ]
    }
   ],
   "source": [
    "#print soup.get_text()hreflinks=[]\n",
    "AllTitles=soup.findAll('h2')\n",
    "alltitles=[]\n",
    "alltitleLinks=[]\n",
    "for l in AllTitles:\n",
    "    #print l\n",
    "    try:\n",
    "        title = l.find('a')['title']\n",
    "        link = l.find('a')['href']\n",
    "        print('-'*40)\n",
    "        print(title)\n",
    "        print(link)\n",
    "        alltitles.append(title)\n",
    "        alltitleLinks.append(link)\n",
    "    except:\n",
    "        pass"
   ]
  },
  {
   "cell_type": "markdown",
   "metadata": {
    "slideshow": {
     "slide_type": "slide"
    }
   },
   "source": [
    "## Get all images of the page\n",
    "\n",
    "Get url of all images, which are currently displayed on [www.zeit.de](http://www.zeit.de):"
   ]
  },
  {
   "cell_type": "code",
   "execution_count": 7,
   "metadata": {
    "ExecuteTime": {
     "end_time": "2017-10-20T12:50:12.456000Z",
     "start_time": "2017-10-20T12:50:12.440000Z"
    },
    "slideshow": {
     "slide_type": "fragment"
    }
   },
   "outputs": [
    {
     "name": "stdout",
     "output_type": "stream",
     "text": [
      "data:image/gif;base64,R0lGODlhAQABAAAAACH5BAEKAAEALAAAAAABAAEAAAICTAEAOw==\n",
      "https://cdn.prod.www.spiegel.de/images/f0706c1e-c6fc-4a27-b5b6-dca6f542114a_w948_r2.11_fpx52_fpy65.jpg\n",
      "https://cdn.prod.www.spiegel.de/images/f0706c1e-c6fc-4a27-b5b6-dca6f542114a_w920_r1.77_fpx52_fpy65.jpg\n",
      "https://cdn.prod.www.spiegel.de/images/883748c5-c973-4882-aa5f-c9504b4f783d_w117_r1.33_fpx66.54_fpy49.98.jpg\n",
      "https://cdn.prod.www.spiegel.de/images/883748c5-c973-4882-aa5f-c9504b4f783d_w488_r1.77_fpx66.54_fpy49.98.jpg\n",
      "https://cdn.prod.www.spiegel.de/images/e809de3e-525b-494a-8199-8640f2b1648d_w56_r1_fpx55.01_fpy45.png\n",
      "https://cdn.prod.www.spiegel.de/images/e809de3e-525b-494a-8199-8640f2b1648d_w56_r1_fpx55.01_fpy45.png\n",
      "https://cdn.prod.www.spiegel.de/images/c2e5f84a-1b35-4b13-aca8-8e7fc29e002f_w488_r1.77_fpx49.54_fpy50.jpg\n",
      "https://cdn.prod.www.spiegel.de/images/c2e5f84a-1b35-4b13-aca8-8e7fc29e002f_w488_r1.77_fpx49.54_fpy50.jpg\n",
      "https://cdn.prod.www.spiegel.de/images/35ea4af8-9b3e-4055-8e41-cfe808b8c767_w117_r1.33_fpx42.97_fpy50.jpg\n"
     ]
    }
   ],
   "source": [
    "imglinks=[]\n",
    "AllImgs=soup.findAll('img')\n",
    "for l in AllImgs:\n",
    "    if l.has_attr('src'):\n",
    "       imglinks.append(l)\n",
    "\n",
    "for l in imglinks[:10]:\n",
    "    print(l['src'])"
   ]
  },
  {
   "cell_type": "markdown",
   "metadata": {
    "slideshow": {
     "slide_type": "slide"
    }
   },
   "source": [
    "## Get entire text of a news-article"
   ]
  },
  {
   "cell_type": "code",
   "execution_count": 8,
   "metadata": {
    "ExecuteTime": {
     "end_time": "2017-10-20T13:09:24.145000Z",
     "start_time": "2017-10-20T13:09:23.833000Z"
    },
    "slideshow": {
     "slide_type": "fragment"
    }
   },
   "outputs": [
    {
     "name": "stdout",
     "output_type": "stream",
     "text": [
      "\n",
      "SPIEGEL+-Zugang wird gerade auf einem anderen Gerät genutzt\n",
      "\n",
      "SPIEGEL+ kann nur auf einem Gerät zur selben Zeit genutzt werden.\n",
      "\n",
      "Klicken Sie auf den Button, spielen wir den Hinweis auf dem anderen Gerät aus und Sie können SPIEGEL+ weiter nutzen.\n",
      "\n",
      "\n",
      "Midwife Emily Owino cuts the umbilical cord of a newborn girl with a razor blade in Kenya.\n",
      "Brian Inganga/ AP\n",
      "For our Global Societies project, reporters around the world will be writing about societal problems, sustainability and development in Asia, Africa, Latin America and Europe. The series will include features, analyses, photo essays, videos and podcasts looking behind the curtain of globalization. The project is generously funded by the Bill & Melinda Gates Foundation.\n",
      "It's shortly before midnight on May 29 when Brian Inganga gets the call. \"You have to hurry,\" the midwife tells him. The 31-year-old photographer immediately jumps on a motorcycle taxi and heads to Kibera, a slum in Nairobi, the capital city of Kenya. Inganga is anxious, not only because the slum is \"dark and dangerous,\" as he puts it, but because it's after curfew and \"the police are extremely aggressive at night.\"\n",
      "The midwife picks him up on a street corner and leads him through the narrow alleyways to her small shack. On the floor of a tiny room inside lies Veronica Atieno, 23. Her contractions are strong.\n",
      "In the hours that follow, Inganga takes photos as the mother gives birth to her daughter, Shaniz Joy Juma. There are no doctors or medical supplies present, just a wooden spoon for the mother to bite on and an herbal mixture from the midwife for the pain. \"It was a shocking experience,\" says the photographer over the phone, as he relates the story behind the photos. \"Our women can't go to the hospital to give birth. They lie on the filthy ground and are deeply afraid.\"\n",
      "The birth lasted several hours. Veronica Atieno bites down on a wooden spoon in order to better tolerate the pain.\n",
      "Brian Inganga/ AP\n",
      "Brian Inganga wanted to document such a birth because he is worried. He grew up in Kibera himself and knows what it means to live in a slum. \"Poverty and danger,\" he says. \"And now, everything has become even more difficult. The corona crisis is a threat to women. Many have become pregnant against their will because it is almost possible to find contraception, or they were abused at a young age. And women giving birth face great dangers and have no one to turn to.\"\n",
      "Even before the pandemic, Kenya had one of the highest maternal mortality rates in the world. Although there is hardly any data available yet for 2020, experts and aid organizations believe that the number of women and babies who die during or shortly after birth has risen significantly - not just in Kenya, but around the world.\n",
      "A study by Johns Hopkins University, based on mathematical modeling for 118 countries, forecast a worst-case scenario with the additional deaths of 1 million infants and 56,700 mothers in 2020 because of the pandemic. \"It is currently difficult to get precise numbers,\" says Rebekka Frick, a 43-year-old health expert with Save the Children. \"The true effect of the pandemic on the mortality rates of mothers and infants will only become clear in a few years.\"\n",
      "Rebekka Frick, Save the Children\n",
      "In the first published study on the influence of the lockdown on births, an international team of scientists analyzed data from nine hospitals in Nepal. They found that the country's lockdown led to a reduction of hospital births of almost 50 percent. Stillbirths and infant deaths rose over the same period by roughly the same amount.\n",
      "Similar numbers are expected for many other countries. \"We are more than concerned,\" says Frick. \"That is in part due to reports that we have received from countries like Kenya and Bangladesh, but also due to our knowledge of developments that other epidemics have triggered.\"\n",
      "In some countries in Africa, medical professionals are already sounding the alarm. In Central Hospital, located in the Zimbabwean capital of Harare, seven babies died during childbirth on a single night in late July. A doctor tweeted a photo of the infants, lined up next to each other and wrapped in cloth.\n",
      "Doctors in South Africa told the BBC that the maternity ward in the Dora Nginza Hospital in Port Elizabeth is completely overwhelmed. \"Several mothers and infants have died\" and hospital personnel are \"deeply traumatized.\"\n",
      "In both countries, the deaths were partly blamed on severe staff shortages. The majority of health-care workers must focus on treating COVID-19 patients or have been infected themselves. Others are on strike out of fear for their health - due to shortages of protective equipment like masks and gloves. Disinfectant and medicines are also in short supply due to delivery problems. Pregnant women are often forced to wait for days for urgent operations and they frequently cannot be helped in emergency situations or during birth.\n",
      "\"The consequences of the pandemic are catastrophic,\" says Emma Ingaiza, 32, who works for an NGO called Shining Hope for Communities in Kenya. She has been working almost constantly since the beginning of the corona crisis, helping people in need, including many pregnant women.\n",
      "Ingaiza has also read reports recently about the unusual number of stillbirths and mothers dying during birth. \"Everyone is panicked due to the coronavirus,\" she says. \"All protective measures and almost all remaining medical personnel are focused on COVID-19. Pregnant women, mothers and babies are suffering as a result.\"\n",
      "In Kenya, she says, some medical facilities where up to 30 children were born every night prior to the coronavirus pandemic have had to close due to a shortage of personnel. Women whose contractions begin in the evening, she says, are afraid to leave their homes due to the brutality with which the police have been enforcing the coronavirus curfew, which has been in place since mid-March. Several people have been beaten by the police, she says, because they were outdoors at night. \"Including a man who wanted to drive his pregnant wife to the hospital,\" says Brian Inganga. \"That kind of thing gets around quickly.\"\n",
      "A baby shortly after a home birth in Mexico City on May 25. Mexico reports a heightened rate of maternal mortality since the spread of the coronavirus.\n",
      "In many cases, this has meant home births, with a midwife present in the best-case scenario. But midwives have also had trouble keeping up with demand of late. \"Sometimes, they are trying to care for three women with strong contractions, but only have a single pair of gloves,\" says Inganga, the photographer, who has been in close contact with several midwives in Nairobi for weeks. \"What are they supposed to do then?\"\n",
      "Midwives in Germany and other wealthy countries have noticed that the limits on social contact and the resulting forced inactivity during the pandemic have been good for many mothers-to-be. One study found that the drop in premature births and other complications is linked to, among other things, lower stress levels.\n",
      "But in many other countries around the world -- particularly in poorer ones, where there was a shortage of life-saving medical care for mothers and infants even before the coronavirus pandemic -- there are concerns about rising maternal and infant mortality rates. The World Health Organization (WHO) defines maternal mortality as a situation when a mother dies during pregnancy or up to 42 days after giving birth. Infant mortality refers to deaths during the first 28 days of life.\n",
      "For many aid organizations and scientists, numbers from comparable, past epidemics are important indicators for where we stand now. The West African office of the United Nations Population Fund (UNFPA) has issued guidelines based on the lessons learned from the epidemics seen since 2003. During the Ebola epidemic, for example, which wreaked havoc in Guinea, Sierra Leone and Liberia from 2013 to 2016, constraints on medical care led to an alarming rise in maternal mortality.\n",
      "UNFPA is thus recommending that the new COVID-19 crisis teams established in many countries increase their focus on women's health issues.\n",
      "An additional problem is ensuring that the health checkups that generally take place before and after birth actually happen. \"In many countries, women are no longer coming to the hospitals because they are afraid of corona,\" says Rebekka Frick of Save the Children. \"They hear that many people are dying there, and they want to protect themselves and their babies.\"\n",
      "Hilda Argüello Avendaño, a doctor with Observatorio de Mortalidad Materna, an NGO monitoring maternal mortality, says that in Mexico, too, this fear has led pregnant women with complications to only seek hospital care as a last resort. Eight children, including four newborns, recently got infected with the coronavirus in a hospital in Oaxaca.\n",
      "\"In Mexico, the pandemic has become the primary cause of maternal death,\" says Avendaño. Compared to the same period last year, she says, the death rate of mothers has risen by more than 25 percent. By the beginning of August, there were 97 cases of women infected with the coronavirus dying during pregnancy or shortly after giving birth.\n",
      "In late May, 24-year-old Karla Lopez Rangel gives birth with the help of a midwife and her husband.\n",
      "Gustavo Graf Maldonado / REUTERS\n",
      "In around half of those deaths, existing conditions like obesity, diabetes or high blood pressure played a role. The pandemic, though, has revealed social inequalities in the country: Mothers-to-be who do not have insurance and are forced to rely on free state health care face an especially high risk of dying, say doctors, in part because they receive worse care or because care comes too late.\n",
      "The decision to forego a visit to the midwife, the doctor or the local clinic doesn't just have direct consequences for the birth. \"Many vaccinations and checkups, both before and after giving birth, are omitted completely,\" says Rebekka Frick. \"That will have horrific consequences and put great strain on health systems for some time to come.\"\n",
      "Whether measles, tuberculosis or malaria, coronavirus threatens to significantly hamstring efforts to combat other life-threatening diseases around the world. Medical professionals and NGOs are concerned that millions will die in the coming months and years not from of the coronavirus, but from its consequences - or from other, treatable diseases, because, for example, they avoid going to the doctor for a simple vaccination.\n",
      "That is particularly tragic given the huge advances many countries have made in recent decades in lowering mortality rates. Since 2000, deaths among children have fallen by 40 percent while maternal mortality has plunged by more than a third. Those reductions in the infant and maternal death rates are an important element in achieving the third goal of the UN's Sustainable Development Goals: \"Good Health and Well-Being.\"\n",
      "For this to occur, however, much more attention must be paid to the health of mothers and infants around the world, and governments must avoid neglecting basic medical treatment alongside the treatment of COVID-19 patients.\n",
      "Shaniz Joy Juma, the baby from Kenya, about one month after her birth, with her father.\n",
      "Brian Inganga/ AP\n",
      "In countries like Mexico, there are calls for home births to be better regulated and for them to be state financed. Women in Mexico currently must pay for midwives themselves. Several aid organizations argue in favor of additional mobile intervention teams that could also locate pregnant women in isolated communities in order to provide them with medication and information or, in case of emergency, make it possible for them to be transported to a hospital.\n",
      "Brian Inganga, the photographer, wants to accompany the small girl whose birth he witnessed with his camera in the coming years. Shaniz Joy Juma is now two-and-a-half months old. \"I’d most like to photograph her when she finishes school,” says Inganga. \"I hope she doesn’t get sick.”\n",
      "The Global Societies series involves journalists reporting from Asia, Africa, Latin America and Europe about injustices in a globalized world, societal challenges and sustainable development. The features, analyses, photo essays, videos and podcasts, which originally appeared in DER SPIEGEL’s Foreign Desk section, will also appear in the Global Societies section of SPIEGEL International. The project is initially planned to run for three years and receives financial support from the Bill & Melinda Gates Foundation.\n",
      "The Bill & Melinda Gates Foundation (BMGF) is funding the project for a period of three years at a total cost of around €2.3 million.\n",
      "No. The foundation exerts no influence whatsoever on the stories and other elements that appear in the series.\n",
      "Yes. Large European media outlets like the Guardian and El País have similar sections on their websites -- called \"Global Development\" and \"Planeta Futuro,\" respectively -- that are likewise funded by the Bill & Melinda Gates Foundation.\n",
      "In recent years, DER SPIEGEL has complete two projects with the support of the Bill & Melinda Gates Foundation and the European Journalism Centre (EJC): \"Expedition BeyondTomorrow,\" about global sustainability goals, and the journalist refugee project \"The New Arrivals,\" which resulted in several award-winning multimedia features on the issues of migrants and refugees.\n",
      "All Global Societies pieces will be published in the Global Societies section of the SPIEGEL International website.\n",
      "Midwife Emily Owino cuts the umbilical cord of a newborn girl with a razor blade in Kenya.\n",
      "Brian Inganga/ AP\n",
      "The birth lasted several hours. Veronica Atieno bites down on a wooden spoon in order to better tolerate the pain.\n",
      "Brian Inganga/ AP\n",
      "A baby shortly after a home birth in Mexico City on May 25. Mexico reports a heightened rate of maternal mortality since the spread of the coronavirus.\n",
      "In late May, 24-year-old Karla Lopez Rangel gives birth with the help of a midwife and her husband.\n",
      "Gustavo Graf Maldonado / REUTERS\n",
      "Shaniz Joy Juma, the baby from Kenya, about one month after her birth, with her father.\n",
      "Brian Inganga/ AP\n",
      "Melden Sie sich an und diskutieren Sie mit\n"
     ]
    }
   ],
   "source": [
    "IDX=0\n",
    "suburl=alltitleLinks[IDX]\n",
    "try:\n",
    "    html=urlopen(suburl).read() #works if subdomains are referenced by absolute path\n",
    "except:\n",
    "    html=urlopen(url+suburl).read() #works if subdomains are referenced by relative path\n",
    "soup=BeautifulSoup(html,\"html.parser\")\n",
    "AllP=soup.findAll('p')\n",
    "for p in AllP:\n",
    "    print(p.get_text())"
   ]
  },
  {
   "cell_type": "markdown",
   "metadata": {
    "collapsed": true,
    "slideshow": {
     "slide_type": "skip"
    }
   },
   "source": [
    "## Questions and Remarks\n",
    "1. This notebook demonstrates how raw-text can be crawled from news-sites. But what is the drawback of this method?\n",
    "2. Execute the entire notebook also for `www.spiegel.de` and `www.sueddeutsche.de`.\n",
    "3. What do you observe? How to solve the problem?"
   ]
  },
  {
   "cell_type": "code",
   "execution_count": null,
   "metadata": {
    "collapsed": true
   },
   "outputs": [],
   "source": []
  }
 ],
 "metadata": {
  "celltoolbar": "Slideshow",
  "kernelspec": {
   "display_name": "Python 3",
   "language": "python",
   "name": "python3"
  },
  "language_info": {
   "codemirror_mode": {
    "name": "ipython",
    "version": 3
   },
   "file_extension": ".py",
   "mimetype": "text/x-python",
   "name": "python",
   "nbconvert_exporter": "python",
   "pygments_lexer": "ipython3",
   "version": "3.7.5"
  },
  "nav_menu": {},
  "toc": {
   "base_numbering": 1,
   "nav_menu": {},
   "number_sections": true,
   "sideBar": true,
   "skip_h1_title": false,
   "title_cell": "Table of Contents",
   "title_sidebar": "Contents",
   "toc_cell": false,
   "toc_position": {},
   "toc_section_display": "block",
   "toc_window_display": false
  },
  "varInspector": {
   "cols": {
    "lenName": 16,
    "lenType": 16,
    "lenVar": 40
   },
   "kernels_config": {
    "python": {
     "delete_cmd_postfix": "",
     "delete_cmd_prefix": "del ",
     "library": "var_list.py",
     "varRefreshCmd": "print(var_dic_list())"
    },
    "r": {
     "delete_cmd_postfix": ") ",
     "delete_cmd_prefix": "rm(",
     "library": "var_list.r",
     "varRefreshCmd": "cat(var_dic_list()) "
    }
   },
   "types_to_exclude": [
    "module",
    "function",
    "builtin_function_or_method",
    "instance",
    "_Feature"
   ],
   "window_display": false
  }
 },
 "nbformat": 4,
 "nbformat_minor": 1
}