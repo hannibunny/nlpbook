{
 "cells": [
  {
   "cell_type": "markdown",
   "metadata": {
    "slideshow": {
     "slide_type": "slide"
    }
   },
   "source": [
    "# Access Contents of HTML Page\n",
    "\n",
    "- Author:      Johannes Maucher\n",
    "- Last update: 2018-10-21\n",
    "\n",
    "This notebook demonstrates how to parse a HTML document and access dedicated elements of the parse tree.\n",
    "[Beautiful Soup](http://www.crummy.com/software/BeautifulSoup/bs4/doc/#) is a python package for parsing HTML. Download and install version 4 by typing:\n",
    "\n",
    "> `pip install beautifulsoup4`\n",
    "\n",
    "into the command shell. Once it is installed it can be imported by"
   ]
  },
  {
   "cell_type": "code",
   "execution_count": 1,
   "metadata": {
    "ExecuteTime": {
     "end_time": "2017-10-20T12:50:00.898000Z",
     "start_time": "2017-10-20T12:50:00.893000Z"
    },
    "slideshow": {
     "slide_type": "fragment"
    }
   },
   "outputs": [],
   "source": [
    "from bs4 import BeautifulSoup"
   ]
  },
  {
   "cell_type": "markdown",
   "metadata": {
    "slideshow": {
     "slide_type": "slide"
    }
   },
   "source": [
    "For accessing arbitrary resources by URL the python modul [urllib](https://docs.python.org/2/library/urllib.html) must also be installed. Import the method _urlopen()_ from this module:  "
   ]
  },
  {
   "cell_type": "code",
   "execution_count": 2,
   "metadata": {
    "ExecuteTime": {
     "end_time": "2017-10-20T12:50:02.246000Z",
     "start_time": "2017-10-20T12:50:02.242000Z"
    },
    "slideshow": {
     "slide_type": "fragment"
    }
   },
   "outputs": [],
   "source": [
    "from urllib.request import urlopen"
   ]
  },
  {
   "cell_type": "markdown",
   "metadata": {
    "slideshow": {
     "slide_type": "fragment"
    }
   },
   "source": [
    "If these two modules are available the HTML parse tree of the specified URL can easily be generated as follows."
   ]
  },
  {
   "cell_type": "code",
   "execution_count": 3,
   "metadata": {
    "ExecuteTime": {
     "end_time": "2017-10-20T12:50:04.344000Z",
     "start_time": "2017-10-20T12:50:03.569000Z"
    },
    "slideshow": {
     "slide_type": "fragment"
    }
   },
   "outputs": [],
   "source": [
    "#url=\"http://www.zeit.de\"\n",
    "url=\"http://www.spiegel.de\"\n",
    "#url=\"http://www.sueddeutsche.de\"\n",
    "html=urlopen(url).read()\n",
    "soup=BeautifulSoup(html,\"html.parser\")"
   ]
  },
  {
   "cell_type": "markdown",
   "metadata": {
    "slideshow": {
     "slide_type": "slide"
    }
   },
   "source": [
    "Now e.g. the title of the URL can be accessed by:"
   ]
  },
  {
   "cell_type": "code",
   "execution_count": 4,
   "metadata": {
    "ExecuteTime": {
     "end_time": "2017-10-20T12:50:06.092000Z",
     "start_time": "2017-10-20T12:50:06.086000Z"
    },
    "slideshow": {
     "slide_type": "fragment"
    }
   },
   "outputs": [
    {
     "name": "stdout",
     "output_type": "stream",
     "text": [
      "Title of page:   DER SPIEGEL | Online-Nachrichten\n"
     ]
    }
   ],
   "source": [
    "titleTag = soup.html.head.title\n",
    "print(\"Title of page:  \",titleTag.string)"
   ]
  },
  {
   "cell_type": "markdown",
   "metadata": {
    "slideshow": {
     "slide_type": "slide"
    }
   },
   "source": [
    "## Get all links in the page\n",
    "All links in the page can be retrieven by the following code (only the first 20 links are printed)"
   ]
  },
  {
   "cell_type": "code",
   "execution_count": 5,
   "metadata": {
    "ExecuteTime": {
     "end_time": "2017-10-20T12:50:07.973000Z",
     "start_time": "2017-10-20T12:50:07.951000Z"
    },
    "slideshow": {
     "slide_type": "fragment"
    }
   },
   "outputs": [
    {
     "name": "stdout",
     "output_type": "stream",
     "text": [
      "Number of links in this page:  551\n",
      "#Inhalt\n",
      "https://www.spiegel.de/\n",
      "https://abo.spiegel.de/?b=SPOHNAVABO&requestAccessToken=true&sara_icid=disp_upd_9h6L5hu8K1AAnttzYATx3hvk7taDkP&targetUrl=https%3A%2F%2Fwww.spiegel.de%2Ffuermich%2F\n",
      "https://gruppenkonto.spiegel.de/authenticate?requestAccessToken=true&targetUrl=https%3A%2F%2Fwww.spiegel.de%2Ffuermich%2F\n",
      "https://www.spiegel.de/fuermich/\n",
      "https://www.spiegel.de/\n",
      "https://www.spiegel.de/schlagzeilen/\n",
      "https://www.spiegel.de/plus/\n",
      "https://www.spiegel.de/audio/\n",
      "https://www.spiegel.de/fuermich/\n",
      "https://www.spiegel.de/schlagzeilen/\n",
      "https://www.spiegel.de/plus/\n",
      "https://www.spiegel.de/thema/coronavirus/\n",
      "https://www.spiegel.de/politik/deutschland/\n",
      "https://www.spiegel.de/politik/ausland/\n",
      "https://www.spiegel.de/panorama/\n",
      "https://www.spiegel.de/sport/\n",
      "https://www.spiegel.de/wirtschaft/\n",
      "https://www.spiegel.de/wissenschaft/\n",
      "https://www.spiegel.de/netzwelt/\n"
     ]
    }
   ],
   "source": [
    "hreflinks=[]\n",
    "Alllinks=soup.findAll('a') #The <a> tag defines a hyperlink, which is used to link from one page to another.\n",
    "for l in Alllinks:\n",
    "    if l.has_attr('href'):\n",
    "        hreflinks.append(l)\n",
    "print(\"Number of links in this page: \",len(hreflinks))\n",
    "for l in hreflinks[:20]:\n",
    "    print(l['href'])"
   ]
  },
  {
   "cell_type": "markdown",
   "metadata": {
    "slideshow": {
     "slide_type": "slide"
    }
   },
   "source": [
    "## Get all news titles\n",
    "Get title of all news, which are currently listed on [www.zeit.de](http://www.zeit.de):"
   ]
  },
  {
   "cell_type": "code",
   "execution_count": 6,
   "metadata": {
    "ExecuteTime": {
     "end_time": "2017-10-20T12:50:10.208000Z",
     "start_time": "2017-10-20T12:50:10.124000Z"
    },
    "slideshow": {
     "slide_type": "fragment"
    }
   },
   "outputs": [
    {
     "name": "stdout",
     "output_type": "stream",
     "text": [
      "----------------------------------------\n",
      "Cybercrime-Statistik: BKA nennt Ransomware \"größte Bedrohung\" für Unternehmen\n",
      "https://www.spiegel.de/netzwelt/web/bka-nennt-ransomware-groesste-bedrohung-fuer-unternehmen-a-2e9e7b8a-e7a4-49c2-a5ee-666bff939b80\n",
      "----------------------------------------\n",
      "Félicien Kabuga: Frankreich überstellt mutmaßlichen Finanzier des Völkermords in Ruanda an Uno-Tribunal\n",
      "https://www.spiegel.de/politik/ausland/frankreich-ueberstellt-mutmasslichen-finanzier-des-voelkermords-in-ruanda-an-uno-tribunal-a-33341a66-1569-4e40-8ae4-2d8dd656c690\n",
      "----------------------------------------\n",
      "UBS-Studie zu Wohnungsmärkten: München und Frankfurt sind überteuert wie keine anderen Städte weltweit\n",
      "https://www.spiegel.de/wirtschaft/unternehmen/immobilien-blase-muenchen-und-frankfurt-sind-laut-ubs-am-staerksten-ueberbewertet-a-8314ca02-9a9b-42b7-b1dc-c6c66d334930\n",
      "----------------------------------------\n",
      "Neue Studie zu Aggression im Straßenverkehr: Das Problem ist männlich\n",
      "https://www.spiegel.de/auto/rasen-und-draengeln-studie-zu-aggressionen-im-strassenverkehr-a-7187b4f6-0200-4f41-96e1-f86a17a031ac\n",
      "----------------------------------------\n",
      "Merkel zur Coronalage: \"Wir stehen vor einer schwierigen Phase\"\n",
      "https://www.spiegel.de/politik/deutschland/merkel-wir-stehen-vor-einer-schwierigen-phase-a-9f92cde3-5b44-4618-b683-a06cd641ed78\n",
      "----------------------------------------\n",
      "Rupert Stadlers schwarzer Tag\n",
      "https://www.spiegel.de/wirtschaft/unternehmen/audi-prozess-gegen-rupert-stadler-und-andere-manager-hat-begonnen-a-c9e02bd6-cbf5-412b-abe2-c72901156ccb\n",
      "----------------------------------------\n",
      "Nun muss der erste Autoboss wegen Dieselgate vor Gericht\n",
      "https://www.spiegel.de/wirtschaft/unternehmen/diesel-affaere-ein-neues-gutachten-belastet-rupert-stadler-a-00000000-0002-0001-0000-000173216515\n",
      "----------------------------------------\n",
      "Was war das denn jetzt?\n",
      "https://www.spiegel.de/politik/ausland/tv-duell-donald-trump-vs-joe-biden-was-war-das-denn-jetzt-die-videoanalyse-a-e8431b17-24f2-4c89-88c3-691653b7e538\n",
      "----------------------------------------\n",
      "Trump gegen Biden - der Faktencheck\n",
      "https://www.spiegel.de/politik/ausland/donald-trump-gegen-joe-biden-im-tv-duell-der-faktencheck-a-9ee48e18-f642-403d-bf32-88dd3a226e2c\n",
      "----------------------------------------\n",
      "\"The Great American Shitshow\"\n",
      "https://www.spiegel.de/politik/ausland/donald-trump-und-joe-biden-mit-erster-tv-debatte-das-sind-die-reaktionen-a-85cbec06-e381-429f-9cc8-de2331f47eae\n",
      "----------------------------------------\n",
      "Verbrannte Erde Amerika\n",
      "https://www.spiegel.de/politik/ausland/waldbraende-donald-trump-und-der-politische-flaechenbrand-die-usa-2020-a-4214a496-4191-42e2-8bb3-866b176e678b\n",
      "----------------------------------------\n",
      "Deshalb steht Italien im Kampf gegen das Virus gerade so gut da\n",
      "https://www.spiegel.de/politik/ausland/corona-deshalb-steht-italien-im-kampf-gegen-das-virus-gerade-so-gut-da-a-cb87c921-7819-4d1b-8cfe-00cf903ef546\n",
      "----------------------------------------\n",
      "München und Frankfurt sind überteuert wie keine anderen Städte weltweit\n",
      "https://www.spiegel.de/wirtschaft/unternehmen/immobilien-blase-muenchen-und-frankfurt-sind-laut-ubs-am-staerksten-ueberbewertet-a-8314ca02-9a9b-42b7-b1dc-c6c66d334930\n",
      "----------------------------------------\n",
      "Unionsfraktion könnte Scheuers Zeugenaussage verzögern\n",
      "https://www.spiegel.de/politik/deutschland/unionsfraktion-koennte-andreas-scheuers-zeugenaussage-verzoegern-a-f594f5d5-e7aa-4f73-989e-65febb0a28bb\n",
      "----------------------------------------\n",
      "Liberaler De Croo wird Belgiens neuer Regierungschef\n",
      "https://www.spiegel.de/politik/ausland/belgien-liberaler-alexander-de-croo-wird-neuer-regierungschef-a-fb56387c-9a72-4d04-963b-955225e52378\n",
      "----------------------------------------\n",
      "Shell streicht bis zu 9000 Stellen\n",
      "https://www.spiegel.de/wirtschaft/unternehmen/shell-wegen-konzernumbau-streicht-das-unternehmen-bis-zu-9000-stellen-a-69bf079e-f259-4424-9809-fb255d3da5d0\n",
      "----------------------------------------\n",
      "Migranten aus Moria in Hannover gelandet\n",
      "https://www.spiegel.de/politik/deutschland/fluechtlinge-migranten-aus-moria-in-hannover-gelandet-a-9cf36e2e-a8c9-4f5b-8ad6-75e40439260b\n",
      "----------------------------------------\n",
      "\"Wir stehen vor einer schwierigen Phase\"\n",
      "https://www.spiegel.de/politik/deutschland/merkel-wir-stehen-vor-einer-schwierigen-phase-a-9f92cde3-5b44-4618-b683-a06cd641ed78\n",
      "----------------------------------------\n",
      "Viele Firmen stecken Mehrwertsteuervorteil in eigene Tasche\n",
      "https://www.spiegel.de/wirtschaft/unternehmen/mehrwertsteuer-viele-firmen-stecken-mehrwertsteuervorteil-in-eigene-tasche-a-e194ada3-0c91-4f71-a1da-c079715a724f\n",
      "----------------------------------------\n",
      "Niederlande vermelden erneuten Höchstwert an Neuinfektionen\n",
      "https://www.spiegel.de/wissenschaft/corona-news-am-mittwoch-disney-kuendigt-wegen-coronakrise-etwa-28-000-mitarbeitern-a-1d7ad3f5-a9b8-4306-b3c6-c0fada5ef03c\n",
      "----------------------------------------\n",
      "Das Problem ist männlich\n",
      "https://www.spiegel.de/auto/rasen-und-draengeln-studie-zu-aggressionen-im-strassenverkehr-a-7187b4f6-0200-4f41-96e1-f86a17a031ac\n",
      "----------------------------------------\n",
      "Ein Mann kämpft gegen den gefährlichsten Kult der Welt\n",
      "https://www.spiegel.de/politik/ausland/qanon-ein-mann-gegen-den-gefaehrlichsten-kult-der-welt-a-c4910d95-b55c-4c78-b8cd-65822212460e\n",
      "----------------------------------------\n",
      "Was bringt das Lobbyregister gegen Korruption?\n",
      "https://www.spiegel.de/politik/deutschland/lobbyregister-streitgespraech-was-bringt-das-lobbyregister-gegen-korruption-a-deeda657-dac0-45dd-9765-e468fc846c0b\n",
      "----------------------------------------\n",
      "Die Dax-Königin, die aus der Studentenrevolte kommt\n",
      "https://www.spiegel.de/wirtschaft/merck-chefin-belen-garijo-eine-strassenkaempferin-wird-die-neue-dax-koenigin-a-cf1d0083-600e-4bf0-9391-a982cf395530\n",
      "----------------------------------------\n",
      "Behandlung einer Ureinwohnerin löst Rassismusdebatte in Kanada aus\n",
      "https://www.spiegel.de/panorama/gesellschaft/kanada-behandlung-von-ureinwohnerin-befeuert-rassismusdebatte-a-b4ac649c-e5b5-4f9b-b967-a1005c1c90a6\n",
      "----------------------------------------\n",
      "Schwedische Behörden wollen Loch in \"Estonia\"-Wrack prüfen\n",
      "https://www.spiegel.de/panorama/schweden-behoerden-wollen-raetselhaftes-loch-in-estonia-wrack-pruefen-a-de817f19-d2a0-4b8c-be53-e5d934cf86cd\n",
      "----------------------------------------\n",
      "Baum wird Cheftrainer bei Schalke 04 - Naldo assistiert\n",
      "https://www.spiegel.de/sport/fussball/fc-schalke-04-manuel-baum-wird-cheftrainer-naldo-assistiert-a-f5381dee-dc3f-4087-a22a-d4fbd60fbcfe\n",
      "----------------------------------------\n",
      "Vier Doofe, ein Gedanke\n",
      "https://www.spiegel.de/sport/fussball/fc-schalke-04-fsv-mainz-05-wuerzburger-kickers-1-fc-kaiserslautern-vier-doofe-ein-gedanke-a-7ac4fc16-bef4-4261-bd60-d2f19ab7a7b6\n",
      "----------------------------------------\n",
      "\"Das wäre dieselbe Kategorie wie die Fälle von Ronaldo und Messi\"\n",
      "https://www.spiegel.de/sport/fussball/robert-lewandowski-und-der-verdacht-der-steuerhinterziehung-interview-mit-einem-experten-a-9e180c44-3825-4f16-a73a-9ad0aec9bf74\n",
      "----------------------------------------\n",
      "Schiedsrichterin Steinhaus könnte Karriere nach Supercup beenden\n",
      "https://www.spiegel.de/sport/fussball/fussball-bibiana-steinhaus-koennte-schiedsrichterin-karriere-nach-supercup-beenden-a-570e64d3-d12f-48e4-9d3b-e3bc52ec9b02\n",
      "----------------------------------------\n",
      "Mein Körper schreit \"Zucker!\"\n",
      "https://www.spiegel.de/gesundheit/ernaehrung/selbstversuch-zum-gesunden-darm-mein-hirn-braucht-zucker-sagt-der-doktor-a-be222344-196c-4f58-b2ed-bc927a72fb2d\n",
      "----------------------------------------\n",
      "Mac Davis ist tot\n",
      "https://www.spiegel.de/kultur/musik/mac-davis-ist-tot-songwriter-von-in-the-ghetto-gestorben-a-455cb3ae-c4d5-4e6c-8450-1dd8100fa26a\n",
      "----------------------------------------\n",
      "\"Borat\"-Fortsetzung kommt bei Amazon Prime Video\n",
      "https://www.spiegel.de/kultur/tv/borat-fortsetzung-kommt-bei-amazon-prime-video-noch-vor-der-us-wahl-a-faa0f1d2-187b-4ac6-bc9a-30ef75e36d8d\n",
      "----------------------------------------\n",
      "Familienbild aus der Steinzeit\n",
      "https://www.spiegel.de/geschichte/the-flintstones-familie-feuerstein-wird-60-familienbild-aus-der-steinzeit-a-c917bb83-2162-453e-98a4-f3bdf3d8504a\n",
      "----------------------------------------\n",
      "\"Ich habe zu viel Geld in meinem Leben verdient\"\n",
      "https://www.spiegel.de/wirtschaft/unternehmen/roger-akelius-ich-habe-zu-viel-geld-in-meinem-leben-verdient-a-fd7b7964-a21b-4a37-afea-2ae0dc7420fd\n",
      "----------------------------------------\n",
      "Rot, Gelb, Grün - Söders Corona-Ampel im Check\n",
      "https://www.spiegel.de/wissenschaft/medizin/corona-was-taugt-soeders-plan-fuer-eine-ampel-a-737f9e18-36f6-4fc3-ab6e-1be3646fe330\n",
      "----------------------------------------\n",
      "Kommt der zweite Mann frei?\n",
      "https://www.spiegel.de/panorama/justiz/mordfall-walter-luebcke-kommt-der-mitangeklagte-frei-a-642e31d3-0c3b-4648-b0c6-33ca96fc8a06\n",
      "----------------------------------------\n",
      "Mit wenig Geld zum Happy Place\n",
      "https://www.spiegel.de/reise/deutschland/wohnwagen-kaufen-und-renovieren-mit-wenig-geld-zum-happy-place-a-356d325a-5891-40a0-a09a-035b31b6b19c\n",
      "----------------------------------------\n",
      "Videos\n",
      "https://www.spiegel.de/video/\n",
      "----------------------------------------\n",
      "Kommentare und Kolumnen\n",
      "https://www.spiegel.de/thema/meinung/\n",
      "----------------------------------------\n",
      "Öffentlicher Unfrieden\n",
      "https://www.spiegel.de/panorama/justiz/prozess-wegen-rechtsextremer-drohmails-oeffentlicher-unfrieden-a-4b8b93a9-c223-455b-b62a-fa49b6b46f3c\n",
      "----------------------------------------\n",
      "Wir brauchen keine Spielchen\n",
      "https://www.spiegel.de/politik/ausland/staatsminister-michael-roth-zu-brexit-verhandlungen-hoechste-zeit-sich-zu-einigen-a-a6dc0007-8428-4bc0-beab-d1e806148c0a\n",
      "----------------------------------------\n",
      "Alle sind verzichtbar, selbst Männer\n",
      "https://www.spiegel.de/kultur/arbeitszeit-alle-sind-verzichtbar-selbst-maenner-kolumne-a-05f8227b-5630-42dd-abcd-3648d4e927e9\n",
      "----------------------------------------\n",
      "Orbán auf dem Weg zum Sieg\n",
      "https://www.spiegel.de/politik/ausland/viktor-orban-auf-dem-weg-zum-sieg-a-d6c76a09-80ae-4c62-983d-3513939b468c\n",
      "----------------------------------------\n",
      "Politik\n",
      "https://www.spiegel.de/politik/deutschland/\n",
      "----------------------------------------\n",
      "Gescheiterte Pkw-Maut: Scheuer plante offenbar schnelle Retourkutsche gegen Österreich\n",
      "https://www.spiegel.de/politik/deutschland/gescheiterte-pkw-maut-andreas-scheuer-plante-offenbar-schnelle-retourkutsche-gegen-oesterreich-a-701a0384-9004-40ee-9600-ff63f8df77fd\n",
      "----------------------------------------\n",
      "Rechtsgutachten: Linker Plan gegen Bodenspekulation\n",
      "https://www.spiegel.de/politik/deutschland/die-linke-plan-gegen-bodenspekulation-a-70c336c2-ad04-4710-8286-c1e60a36a2d3\n",
      "----------------------------------------\n",
      "Corona-Appell im Bundestag: Merkels Mahnung\n",
      "https://www.spiegel.de/politik/deutschland/angela-merkel-appelliert-in-corona-krise-an-die-buerger-halten-sie-sich-an-die-regeln-a-21941a6f-784b-4846-bece-7503ed41c12e\n",
      "----------------------------------------\n",
      "Ausland\n",
      "https://www.spiegel.de/politik/ausland/\n",
      "----------------------------------------\n",
      "Félicien Kabuga: Frankreich überstellt mutmaßlichen Finanzier des Völkermords in Ruanda an Uno-Tribunal\n",
      "https://www.spiegel.de/politik/ausland/frankreich-ueberstellt-mutmasslichen-finanzier-des-voelkermords-in-ruanda-an-uno-tribunal-a-33341a66-1569-4e40-8ae4-2d8dd656c690\n",
      "----------------------------------------\n",
      "Deutscher Vorschlag zu Finanzsanktionen: EU-Staaten überstimmen Ungarn und Polen im Rechtsstaatsstreit\n",
      "https://www.spiegel.de/politik/ausland/eu-staaten-stimmen-fuer-deutschen-plan-zu-finanzsanktionen-bei-rechtsstaatsverstoessen-a-94dec2dd-7105-49a5-8ff0-3d791e980e4c\n",
      "----------------------------------------\n",
      "Transatlantik-Koordinator: \"Kalter Krieg zwischen USA und China hat bereits begonnen\"\n",
      "https://www.spiegel.de/politik/ausland/usa-und-china-transatlantik-koordinator-sieht-beginn-eines-kalten-krieges-a-77a94226-d8de-467f-addd-dc537aa63813\n",
      "----------------------------------------\n",
      "Panorama\n",
      "https://www.spiegel.de/panorama/\n",
      "----------------------------------------\n",
      "Toxische soziale Medien: Meghan und Harry gegen den Hass\n",
      "https://www.spiegel.de/panorama/leute/herzogin-meghan-und-prinz-harry-gegen-den-hass-a-a3a3b997-dceb-42da-ae52-b28dc42ebbd6\n",
      "----------------------------------------\n",
      "Ebola-Epidemie im Kongo: Hilfsorganisationen prüfen Missbrauchsvorwürfe gegen Mitarbeiter\n",
      "https://www.spiegel.de/panorama/demokratische-republik-kongo-hilfsorganisationen-pruefen-missbrauchsvorwuerfe-gegen-mitarbeiter-a-aa967412-9c97-4bb7-b7d6-9abce5db3ba4\n",
      "----------------------------------------\n",
      "Fall Bergisch Gladbach: Staatsanwaltschaft fordert lange Haftstrafe für zentralen Verdächtigen\n",
      "https://www.spiegel.de/panorama/justiz/fall-bergisch-gladbach-staatsanwaltschaft-fordert-lange-haftstrafe-fuer-missbrauch-a-7c598a61-b898-415b-8bef-4dc74b40aae9\n",
      "----------------------------------------\n",
      "Sport\n",
      "https://www.spiegel.de/sport/\n",
      "----------------------------------------\n",
      "Nach Spuckattacke: Schalkes Kabak für vier Spiele gesperrt\n",
      "https://www.spiegel.de/sport/fussball/fc-schalke-04-ozan-kabak-nach-spuckattacke-vier-spiele-gesperrt-a-01f2be17-f8d2-47f3-97e8-6a107e93c17e\n",
      "----------------------------------------\n",
      "+++ Fußball-Transferticker +++: FC St. Pauli holt Schalker Stürmer Burgstaller\n",
      "https://www.spiegel.de/sport/fussball/guido-burgstaller-wechselt-vom-fc-schalke-04-zum-fc-st-pauli-a-2b7c746a-9341-43a0-87cf-deb3172fee71\n",
      "----------------------------------------\n",
      "Zweite Runde der French Open: Serena Williams verletzt - Traum vom Titelrekord verschoben\n",
      "https://www.spiegel.de/sport/tennis/french-open-serena-williams-gibt-wegen-verletzung-auf-a-03b02616-361d-42a6-b110-56efc3bd0291\n",
      "----------------------------------------\n",
      "Wirtschaft\n",
      "https://www.spiegel.de/wirtschaft/\n",
      "----------------------------------------\n",
      "Leder aus Paraguay für BMW, Land Rover und Co.: Abholzung für europäische Autositze\n",
      "https://www.spiegel.de/wirtschaft/leder-aus-paraguay-fuer-bmw-land-rover-und-co-abholzung-fuer-europaeische-autositze-a-dc0f3969-9ebb-4b66-982c-daee809e1d5b\n",
      "----------------------------------------\n",
      "Neustart für Warenhauskonzern: Galeria Karstadt Kaufhof beendet das Schutzschirmverfahren\n",
      "https://www.spiegel.de/wirtschaft/unternehmen/galeria-karstadt-kaufhof-beendet-das-schutzschirmverfahren-a-7f416d05-3677-4a9f-8204-0a6e3e0b7321\n",
      "----------------------------------------\n",
      "US-Unterhaltungskrise: Disney streicht nach Milliardenverlusten 28.000 Jobs\n",
      "https://www.spiegel.de/wirtschaft/unternehmen/coronakrise-disney-streicht-nach-milliardenverlusten-28-000-jobs-a-4f3f9ce3-32cc-417a-becc-30b298a9249c\n",
      "----------------------------------------\n",
      "Diess kündigt weiteren Umbau von VW an: \"VW muss weg von einer Sammlung wertvoller Marken\"\n",
      "https://www.manager-magazin.de/unternehmen/volkswagen-ag-herbert-diess-kuendigt-auf-hauptversammlung-umbau-von-vw-an-a-4611e2d5-aff5-4a23-a45f-0a5514352129\n",
      "----------------------------------------\n",
      "Auftakt im Dieselgate-Prozess: Jetzt beginnt das lange Leiden für Ex-Audi-Chef Rupert Stadler\n",
      "https://www.manager-magazin.de/unternehmen/autoindustrie/rupert-stadler-der-beginn-eines-langen-leidenswegs-fuer-den-ex-audi-chef-a-aa681548-bebe-44d0-ba6d-c1b2299e11d8\n",
      "----------------------------------------\n",
      "JAB Holding der Familie Reimann: Milliardärsmacher Peter Harf – Ende einer Legende\n",
      "https://www.manager-magazin.de/unternehmen/jab-holding-der-familie-reimann-das-ende-der-legende-peter-harf-a-00000000-0002-0001-0000-000173050949\n",
      "----------------------------------------\n",
      "Börsenkurse manager magazin\n",
      "https://boersen.manager-magazin.de\n",
      "----------------------------------------\n",
      "Wissenschaft\n",
      "https://www.spiegel.de/wissenschaft/\n",
      "----------------------------------------\n",
      "Keine verbindlichen Regeln zur Biodiversität: Staatschefs legen nur \"Versprechen für die Natur\" ab\n",
      "https://www.spiegel.de/wissenschaft/mensch/biodiversitaet-staatschefs-legen-versprechen-fuer-die-natur-ab-a-4fabc6ba-0184-4608-ba70-7e5796ec6dcf\n",
      "----------------------------------------\n",
      "Größtes Binnenfeuchtgebiet der Welt: Feuersbrünste in Brasilien vernichten doppelt so viel Fläche wie in Kalifornien\n",
      "https://www.spiegel.de/wissenschaft/natur/pantanal-feuerbruenste-in-brasilien-vernichten-doppelt-so-viel-flaeche-wie-in-kalifornien-a-10f3b58a-bdc9-4dab-bbbc-3b5e719f7404\n",
      "----------------------------------------\n",
      "Am Südpol des Planeten: Seen unter dem Eispanzer des Mars entdeckt\n",
      "https://www.spiegel.de/wissenschaft/weltall/mars-seen-unter-dem-eispanzer-am-suedpol-des-planeten-entdeckt-a-2ae17d98-595d-45a0-9665-1de8e108e6be\n",
      "----------------------------------------\n",
      "Netzwelt\n",
      "https://www.spiegel.de/netzwelt/\n",
      "----------------------------------------\n",
      "Cybercrime-Statistik: BKA nennt Ransomware \"größte Bedrohung\" für Unternehmen\n",
      "https://www.spiegel.de/netzwelt/web/bka-nennt-ransomware-groesste-bedrohung-fuer-unternehmen-a-2e9e7b8a-e7a4-49c2-a5ee-666bff939b80\n",
      "----------------------------------------\n",
      "Amazon One: Hände hoch, das ist ein Einkauf!\n",
      "https://www.spiegel.de/netzwelt/web/amazon-one-haende-hoch-das-ist-ein-einkauf-a-8291f1a8-513c-4024-aa89-04efff4dfea4\n",
      "----------------------------------------\n",
      "App-Verbot gestoppt: Richter kritisiert Trumps Vorgehen gegen TikTok\n",
      "https://www.spiegel.de/netzwelt/apps/richter-kritisiert-trumps-vorgehen-gegen-tiktok-a-2e2a7cbb-fb80-45c0-80f9-97f0f8143eae\n",
      "----------------------------------------\n",
      "Kultur\n",
      "https://www.spiegel.de/kultur/\n",
      "----------------------------------------\n",
      "TV-Duell aus Theatersicht: Tobsuchtskönig gegen Badearzt\n",
      "https://www.spiegel.de/kultur/donald-trump-vs-joe-biden-tv-duell-aus-theatersicht-tobsuchtskoenig-gegen-badearzt-a-c00e9974-3bfd-4d59-a7a5-8130008198b3\n",
      "----------------------------------------\n",
      "Feminismus-Hymne \"I Am Woman\": Sängerin Helen Reddy gestorben\n",
      "https://www.spiegel.de/kultur/musik/helen-reddy-gestorben-feministische-saengerin-von-i-am-woman-ist-tot-a-3dc03a31-043a-49b0-8f37-11b52bcebd39\n",
      "----------------------------------------\n",
      "Wegen Corona-Beschränkungen: Weihnachtsshow von Helene Fischer abgesagt\n",
      "https://www.spiegel.de/kultur/tv/helene-fischer-weihnachtsshow-wegen-corona-abgesagt-a-0cb677a8-b1fe-46e1-971f-311c7c29dd07\n",
      "----------------------------------------\n",
      "Job & Karriere\n",
      "https://www.spiegel.de/karriere/\n",
      "----------------------------------------\n",
      "Von Rechts wegen - Arbeitsrecht kurz erklärt: Streik - und jetzt?\n",
      "https://www.spiegel.de/karriere/warnstreik-was-sie-zum-streik-wissen-muessen-fragen-und-antworten-a-41e4356f-3373-47c6-af83-f51852cb5fd3\n",
      "----------------------------------------\n",
      "Tipps von der Karriereberaterin: Hilfe, mein Team streitet sich\n",
      "https://www.spiegel.de/karriere/streit-in-meinem-team-wie-soll-der-chef-reagieren-tipps-von-der-karriereberaterin-a-0cc670e6-d4e1-4416-92ff-4f4d857a0fc4\n",
      "----------------------------------------\n",
      "Businessfotos in der Coronakrise: Warum 23.000 Menschen über diese Profilbilder diskutieren\n",
      "https://www.spiegel.de/karriere/debatte-auf-linkedin-warum-23-000-menschen-ueber-den-wechsel-eines-profilbilds-diskutieren-a-8a1c0092-7a8e-458b-b7c7-532ec7396509\n",
      "----------------------------------------\n",
      "Start\n",
      "https://www.spiegel.de/start/\n",
      "----------------------------------------\n",
      "Erfolgreicher studieren: Endlich Schluss mit dem Last-Minute-Lernen\n",
      "https://www.spiegel.de/start/erfolgreicher-studieren-schluss-mit-dem-last-minute-lernen-a-66d01b37-d473-4c38-9176-f9a7dcacb8b3\n",
      "----------------------------------------\n",
      "Leserinnenfrage: Darf meine Chefin trotz Kurzarbeit Überstunden anordnen?\n",
      "https://www.spiegel.de/start/ueberstunden-trotz-kurzarbeit-was-arbeitnehmer-tun-koennen-a-0624ba6f-34a4-4044-8a30-d5e4ad3d0422\n",
      "----------------------------------------\n",
      "SPIEGEL Start - Uni, Berufseinstieg, Geld: Der Ernst des Lebens muss nicht kompliziert sein\n",
      "https://www.spiegel.de/start/spiegel-start-das-neue-angebot-fuer-ausbildung-studium-und-berufseinstieg-a-c0771b67-403c-4c45-a19a-79b54bb4061e\n",
      "----------------------------------------\n",
      "Geschichte\n",
      "https://www.spiegel.de/geschichte/\n",
      "----------------------------------------\n",
      "Ein Dorf in Brandenburg sehnt die Russen zurück: \"Wir kennen das noch mit dem Gehorsam\"\n",
      "https://www.spiegel.de/geschichte/lieberose-in-brandenburg-ein-dorf-in-brandenburg-sehnt-die-russen-zurueck-a-2c3d5c8d-4797-4701-959e-dad2705d9e96\n",
      "----------------------------------------\n",
      "Armenien und Aserbaidschan: Der Krieg, den niemand gewinnen kann\n",
      "https://www.spiegel.de/geschichte/armenien-aserbaidschan-bergkarabach-der-krieg-den-niemand-gewinnen-kann-a-a85c8dfd-3a06-497c-80dc-ee6a34541fd9\n",
      "----------------------------------------\n",
      "\"La Chichinette\": Wie Marthe Cohn zur Weltkriegsspionin wurde\n",
      "https://www.spiegel.de/geschichte/chichinette-wie-marthe-cohn-fuer-frankreich-spionierte-a-99e6a73e-e1ab-468c-80f0-2c5818d93de1\n",
      "----------------------------------------\n",
      "Tests\n",
      "https://www.spiegel.de/tests/\n",
      "----------------------------------------\n",
      "Outdoor-Hygiene: Diese Camping-Gadgets bringen Erleichterung\n",
      "https://www.spiegel.de/tests/camping/camping-gadgets-im-tests-diese-helfer-bringen-erleichterung-a-4f45e82e-461c-4a6f-8629-e270d8434533\n",
      "----------------------------------------\n",
      "Bestseller Link\n",
      "https://www.spiegel.de/kultur/bestseller-buecher-belletristik-sachbuch-auf-spiegel-liste-a-458623.html\n",
      "----------------------------------------\n",
      "Mobilität\n",
      "https://www.spiegel.de/auto/\n",
      "----------------------------------------\n",
      "Autogramm Fiat 500: E wie endlich\n",
      "https://www.spiegel.de/auto/fahrberichte/fiat-500-mit-elektromotor-im-test-spaete-erkenntnis-a-d1b52526-5c4b-4488-bb63-0b110d4a7884\n",
      "----------------------------------------\n",
      "Vorgaben für den Schulweg: Dürfen Schulen Grundschülern das Radfahren verbieten?\n",
      "https://www.spiegel.de/auto/fahrrad-fahren-zur-schule-wenn-polizei-und-lehrer-das-radeln-verbieten-a-2032d7b6-7ef2-4fea-8f9b-6bef19ef07f5\n",
      "----------------------------------------\n",
      "Neulich im Stau: Die Leute im Audi sahen mich an, als ob ich ein Psychopath wäre\n",
      "https://www.spiegel.de/auto/leitkultur-die-leute-im-audi-sahen-mich-an-als-ob-ich-ein-psychopath-waere-a-00000000-0002-0001-0000-000173216530\n",
      "----------------------------------------\n",
      "Leben\n",
      "https://www.spiegel.de/thema/leben/\n",
      "----------------------------------------\n",
      "Abschied vom Urlaub\n",
      "https://www.spiegel.de/reise/baby-boomer-und-der-abschied-vom-urlaub-kolumne-a-6c573a17-6129-4fdd-af86-72d95793873b\n",
      "----------------------------------------\n",
      "\"Er musste mich im Krankenhaus abgeben wie eine Jacke an der Garderobe\"\n",
      "https://www.spiegel.de/gesundheit/schwangerschaft/geburt-waehrend-corona-er-musste-mich-abgeben-wie-eine-jacke-an-der-garderobe-a-03e68f0b-e29f-4a9c-a30d-218bf4526b89\n",
      "----------------------------------------\n",
      "Mexikos doppelte Epidemie\n",
      "https://www.spiegel.de/politik/ausland/mexikos-doppelte-epidemie-a-2a11a0f8-e926-4cc5-a352-e3becf192108\n",
      "----------------------------------------\n",
      "Was viele Eltern falsch machen, wenn sie Kinderschuhe kaufen\n",
      "https://www.spiegel.de/familie/kinderschuhe-neu-oder-gebraucht-leder-oder-stoff-das-raet-eine-kinderorthopaedin-a-897fe075-d17c-4b69-8f4a-ee0b079c0ced\n",
      "----------------------------------------\n",
      "So befriedigt sind die Deutschen\n",
      "https://www.spiegel.de/gesundheit/sex/sex-in-deutschland-wissenschaftler-blicken-ins-schlafzimmer-a-33aec6c3-b546-4dfd-acca-4836bcbbffc1\n",
      "----------------------------------------\n",
      "Interessante Brettspiele\n",
      "https://www.spiegel.de/thema/test_und_produkte/\n",
      "----------------------------------------\n",
      "Die Tafelrunde, das Schwert und der Gral\n",
      "https://www.spiegel.de/tests/brettspiele/brettspiele-um-die-artus-sage-tainted-grail-merlin-stonehenge-tipps-a-6ec2c8ff-9861-4a2b-9dae-889d572108b2\n",
      "----------------------------------------\n",
      "Fies gewinnt\n",
      "https://www.spiegel.de/tests/brettspiele/brettspiele-villainous-watergate-jaws-fies-gewinnt-a-2145d9d2-03c9-4ec3-bedb-7ed1107eddb8\n",
      "----------------------------------------\n",
      "In sieben außergewöhnlichen Brettspielen um die Welt\n",
      "https://www.spiegel.de/tests/brettspiele/brettspiele-im-test-in-sieben-spielen-um-die-welt-a-a8509df4-ad3c-4bd7-9a07-cae5df7bc033\n",
      "----------------------------------------\n",
      "Dein SPIEGEL\n",
      "https://www.spiegel.de/deinspiegel/\n",
      "----------------------------------------\n",
      "Warum der Feldhamster vom Aussterben bedroht ist\n",
      "https://www.spiegel.de/deinspiegel/feldhamster-warum-er-vom-aussterben-bedroht-ist-a-00000000-0002-0001-0000-000172431249\n",
      "----------------------------------------\n",
      "Jung und einflussreich\n",
      "https://www.spiegel.de/deinspiegel/kinder-als-influencer-auf-youtube-tiktok-und-instagram-jung-und-einflussreich-a-00000000-0002-0001-0000-000172431232\n",
      "----------------------------------------\n",
      "Bild des Tages\n",
      "https://www.spiegel.de/fotostrecke/bilder-des-tages-fotos-aus-deutschland-und-der-welt-fotostrecke-122824.html\n"
     ]
    }
   ],
   "source": [
    "#print soup.get_text()hreflinks=[]\n",
    "AllTitles=soup.findAll('h2')\n",
    "alltitles=[]\n",
    "alltitleLinks=[]\n",
    "for l in AllTitles:\n",
    "    #print l\n",
    "    try:\n",
    "        title = l.find('a')['title']\n",
    "        link = l.find('a')['href']\n",
    "        print('-'*40)\n",
    "        print(title)\n",
    "        print(link)\n",
    "        alltitles.append(title)\n",
    "        alltitleLinks.append(link)\n",
    "    except:\n",
    "        pass"
   ]
  },
  {
   "cell_type": "markdown",
   "metadata": {
    "slideshow": {
     "slide_type": "slide"
    }
   },
   "source": [
    "## Get all images of the page\n",
    "\n",
    "Get url of all images, which are currently displayed on [www.zeit.de](http://www.zeit.de):"
   ]
  },
  {
   "cell_type": "code",
   "execution_count": 7,
   "metadata": {
    "ExecuteTime": {
     "end_time": "2017-10-20T12:50:12.456000Z",
     "start_time": "2017-10-20T12:50:12.440000Z"
    },
    "slideshow": {
     "slide_type": "fragment"
    }
   },
   "outputs": [
    {
     "name": "stdout",
     "output_type": "stream",
     "text": [
      "data:image/gif;base64,R0lGODlhAQABAAAAACH5BAEKAAEALAAAAAABAAEAAAICTAEAOw==\n",
      "https://cdn.prod.www.spiegel.de/images/78956969-a7f2-4a75-9243-7e39b222bfc3_w872_r1.77_fpx67.24_fpy44.98.jpg\n",
      "https://cdn.prod.www.spiegel.de/images/fd136517-c4df-4e76-8218-c3daee69099c_w872_r1.77_fpx43_fpy37.jpg\n",
      "https://cdn.prod.www.spiegel.de/images/fd136517-c4df-4e76-8218-c3daee69099c_w872_r1.77_fpx43_fpy37.jpg\n",
      "https://cdn.prod.www.spiegel.de/images/3a5173ee-d8b5-4cfc-96d5-24a34497bd0e_w56_r1_fpx44.9_fpy44.9.png\n",
      "https://cdn.prod.www.spiegel.de/images/3a5173ee-d8b5-4cfc-96d5-24a34497bd0e_w56_r1_fpx44.9_fpy44.9.png\n",
      "https://cdn.prod.www.spiegel.de/images/ad1b1011-e166-4329-a22b-dc6449780635_w117_r1.33_fpx56_fpy62.jpg\n",
      "https://cdn.prod.www.spiegel.de/images/ad1b1011-e166-4329-a22b-dc6449780635_w117_r1.33_fpx56_fpy62.jpg\n",
      "https://cdn.prod.www.spiegel.de/images/ad1b1011-e166-4329-a22b-dc6449780635_w488_r1.77_fpx56_fpy62.jpg\n",
      "https://cdn.prod.www.spiegel.de/images/ad1b1011-e166-4329-a22b-dc6449780635_w488_r1.77_fpx56_fpy62.jpg\n"
     ]
    }
   ],
   "source": [
    "imglinks=[]\n",
    "AllImgs=soup.findAll('img')\n",
    "for l in AllImgs:\n",
    "    if l.has_attr('src'):\n",
    "       imglinks.append(l)\n",
    "\n",
    "for l in imglinks[:10]:\n",
    "    print(l['src'])"
   ]
  },
  {
   "cell_type": "markdown",
   "metadata": {
    "slideshow": {
     "slide_type": "slide"
    }
   },
   "source": [
    "## Get entire text of a news-article"
   ]
  },
  {
   "cell_type": "code",
   "execution_count": 8,
   "metadata": {
    "ExecuteTime": {
     "end_time": "2017-10-20T13:09:24.145000Z",
     "start_time": "2017-10-20T13:09:23.833000Z"
    },
    "slideshow": {
     "slide_type": "fragment"
    }
   },
   "outputs": [
    {
     "name": "stdout",
     "output_type": "stream",
     "text": [
      "Vorstellung des Bundeslagebilds Cybercrime 2019\n",
      "Was Ransomware anrichten kann, wurde gerade erst an der Düsseldorfer Uniklinik sichtbar. Die Erpressersoftware Doppelpaymer hat dort zu einem IT-Ausfall geführt, weswegen eine Notfallpatientin in ein anderes Krankenhaus gebracht wurde. Die 78-Jähriger verstarb kurze Zeit später.\n",
      "\"Die Intensität dieser Angriffe\", schreibt das Bundeskriminalamt (BKA) in seinem am Mittwoch veröffentlichten Bundeslagebild Cybercrime, \"hat im Jahr 2019 weiter zugenommen - vor allem die dadurch entstandenen Auswirkungen\". Ransomware \"ist und bleibt die Bedrohung für Unternehmen und öffentliche Einrichtungen\", schreibt das BKA.\n",
      "Mindestens sieben der zwölf \"prägenden Cyberangriffe\" von 2019 in Deutschland waren Ransomware-Infektionen. Darunter fällt auch der Angriff auf die IT der Trägergesellschaft Süd-West des Deutschen Roten Kreuzes in Mainz mit der Ransomware Sodinokib, auch bekannt als REvil. \"Bei dem Angriff wurden die IT-Systeme in zwölf Einrichtungen der Gesellschaft in Rheinland-Pfalz in großem Umfang verschlüsselt\", heißt es im Lagebericht. \"Obwohl die Patientenversorgung stets gewährleistet war, zeigt dieser Fall erneut auf, dass Kritische Infrastrukturen in Deutschland durch Cyber-Angriffe erheblich gefährdet sind: Ein einziger Angriff auf eine zentrale Serverstruktur kann ausreichen, um eine Kettenreaktion auszulösen und mehrere angeschlossene Einrichtungen handlungsunfähig zu machen.\"\n",
      "Mittlerweile würden die Täter vermehrt zweigleisig fahren: Nicht nur werden Dateien, Laufwerke und mitunter auch Sicherungskopien verschlüsselt und - wenn überhaupt - nur gegen Lösegeld wieder freigegeben. Auch würden sensible Daten bis hin zu Geschäftsgeheimnissen vorher kopiert und zu den Tätern geleitet, die dann mit der Veröffentlichung drohen. Die Entwicklung führen IT-Sicherheitsexperten auf verbesserte Backup-Strategien von Unternehmen zurück - die Täter haben sich damit einen alternativen Erpressungsweg geschaffen, falls ein Opfer nicht für verschlüsselte Dateien zahlen will und einfach seine Sicherungskopien aufspielt.\n",
      "Als Türöffner für eine bestimmte Ransomware wird der Trojaner Emotet verwendet, der \"aktuell als eine der schädlichsten Malware weltweit\" gelte. Die Hintermänner werden in Russland vermutet, Emotet selbst als Service für andere kriminelle Gruppen betrieben. (Lesen Sie hier mehr über die Entwickler von Emotet.)\n",
      "Ebenfalls zur \"Underground Economy\", deren wichtigste Bestandteile der BKA-Bericht erklärt, gehört das sogenannte Malware-Crypting als Dienstleitung, also das Verfremden und Verändern von Schadsoftware, damit Antivirenprogramme sie nicht entdecken. Das BKA nennt beispielhaft den Fall eines Tunesiers, der den Ermittlungen zufolge \"seit Jahren Werbung auf zahlreichen, für Cyberkriminelle attraktiven Foren machte, um Kunden für Crypting-Dienste zu gewinnen. Gegen ihn besteht der Verdacht, Schadsoftware im großen Stil - insbesondere im Auftrag der russischen Cyberkriminellen-Szene –kryptiert und damit gegen eine Detektierung abgesichert zu haben.\"\n",
      "Insgesamt hat das BKA im vergangenen Jahr einen neuen Höchstwert im Bereich der Computerkriminalität \"im engeren Sinne\" verzeichnet. 100.514 Fälle wurden von den deutschen Polizeibehörden im Jahr 2019 erfasst, das sei ein Anstieg von 15,4 Prozenz im Vergleich zum Vorjahr.\n",
      "Die Zahlen sind jedoch mit einer gewissen Vorsicht zu betrachten. So macht Computerbetrug mehr als drei Viertel dieser Straftaten aus, und in diese Kategorie kann auch Warenkreditbetrug fallen - also Fälle, in denen jemand etwas im Internet bestellt, dann aber nicht bezahlt. Allerdings wird Warenkreditbetrug von der Polizei oftmals auch als Computerkriminalität \"im weiteren Sinne\" erfasst, wie aus dem BKA-Bericht hervorgeht. Diese Fälle landen dann in der Statistik für \"Tatmittel Internet\" und zählen nicht zu den 100.514 Fällen von Computerkriminalität \"im engeren Sinne\".\n",
      "Unter welchen Umständen ein Fall in welche der beiden Kategorien sortiert wird, konnte das BKA auf Anfrage zunächst nicht beantworten. Es ist damit vorerst unklar, ob die Gesamtzahl der Fälle und der prozentuale Zuwachs auch ein Resultat unscharfer Erfassungskriterien sein könnten.\n",
      "\n",
      "SPIEGEL+-Zugang wird gerade auf einem anderen Gerät genutzt\n",
      "\n",
      "\n",
      "SPIEGEL+ kann nur auf einem Gerät zur selben Zeit genutzt werden.\n",
      "\n",
      "\n",
      "Klicken Sie auf den Button, spielen wir den Hinweis auf dem anderen Gerät aus und Sie können SPIEGEL+ weiter nutzen.\n",
      "\n",
      "\n",
      "Vorstellung des Bundeslagebilds Cybercrime 2019\n",
      "Melden Sie sich an und diskutieren Sie mit\n"
     ]
    }
   ],
   "source": [
    "IDX=0\n",
    "suburl=alltitleLinks[IDX]\n",
    "try:\n",
    "    html=urlopen(suburl).read() #works if subdomains are referenced by absolute path\n",
    "except:\n",
    "    html=urlopen(url+suburl).read() #works if subdomains are referenced by relative path\n",
    "soup=BeautifulSoup(html,\"html.parser\")\n",
    "AllP=soup.findAll('p')\n",
    "for p in AllP:\n",
    "    print(p.get_text())"
   ]
  },
  {
   "cell_type": "markdown",
   "metadata": {
    "collapsed": true,
    "slideshow": {
     "slide_type": "skip"
    }
   },
   "source": [
    "## Questions and Remarks\n",
    "1. This notebook demonstrates how raw-text can be crawled from news-sites. But what is the drawback of this method?\n",
    "2. Execute the entire notebook also for `www.spiegel.de` and `www.sueddeutsche.de`.\n",
    "3. What do you observe? How to solve the problem?"
   ]
  },
  {
   "cell_type": "code",
   "execution_count": null,
   "metadata": {
    "collapsed": true
   },
   "outputs": [],
   "source": []
  }
 ],
 "metadata": {
  "celltoolbar": "Slideshow",
  "kernelspec": {
   "display_name": "Python 3",
   "language": "python",
   "name": "python3"
  },
  "language_info": {
   "codemirror_mode": {
    "name": "ipython",
    "version": 3
   },
   "file_extension": ".py",
   "mimetype": "text/x-python",
   "name": "python",
   "nbconvert_exporter": "python",
   "pygments_lexer": "ipython3",
   "version": "3.7.5"
  },
  "nav_menu": {},
  "toc": {
   "base_numbering": 1,
   "nav_menu": {},
   "number_sections": true,
   "sideBar": true,
   "skip_h1_title": false,
   "title_cell": "Table of Contents",
   "title_sidebar": "Contents",
   "toc_cell": false,
   "toc_position": {},
   "toc_section_display": "block",
   "toc_window_display": false
  },
  "varInspector": {
   "cols": {
    "lenName": 16,
    "lenType": 16,
    "lenVar": 40
   },
   "kernels_config": {
    "python": {
     "delete_cmd_postfix": "",
     "delete_cmd_prefix": "del ",
     "library": "var_list.py",
     "varRefreshCmd": "print(var_dic_list())"
    },
    "r": {
     "delete_cmd_postfix": ") ",
     "delete_cmd_prefix": "rm(",
     "library": "var_list.r",
     "varRefreshCmd": "cat(var_dic_list()) "
    }
   },
   "types_to_exclude": [
    "module",
    "function",
    "builtin_function_or_method",
    "instance",
    "_Feature"
   ],
   "window_display": false
  }
 },
 "nbformat": 4,
 "nbformat_minor": 1
}