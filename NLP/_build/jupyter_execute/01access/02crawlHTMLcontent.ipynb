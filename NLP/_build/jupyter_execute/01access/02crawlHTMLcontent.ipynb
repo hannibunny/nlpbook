{
 "cells": [
  {
   "cell_type": "markdown",
   "metadata": {
    "slideshow": {
     "slide_type": "slide"
    }
   },
   "source": [
    "# Access Contents of HTML Page\n",
    "\n",
    "- Author:      Johannes Maucher\n",
    "- Last update: 2018-10-21\n",
    "\n",
    "This notebook demonstrates how to parse a HTML document and access dedicated elements of the parse tree.\n",
    "[Beautiful Soup](http://www.crummy.com/software/BeautifulSoup/bs4/doc/#) is a python package for parsing HTML. Download and install version 4 by typing:\n",
    "\n",
    "> `pip install beautifulsoup4`\n",
    "\n",
    "into the command shell. Once it is installed it can be imported by"
   ]
  },
  {
   "cell_type": "code",
   "execution_count": 1,
   "metadata": {
    "ExecuteTime": {
     "end_time": "2017-10-20T12:50:00.898000Z",
     "start_time": "2017-10-20T12:50:00.893000Z"
    },
    "slideshow": {
     "slide_type": "fragment"
    }
   },
   "outputs": [],
   "source": [
    "from bs4 import BeautifulSoup"
   ]
  },
  {
   "cell_type": "markdown",
   "metadata": {
    "slideshow": {
     "slide_type": "slide"
    }
   },
   "source": [
    "For accessing arbitrary resources by URL the python modul [urllib](https://docs.python.org/2/library/urllib.html) must also be installed. Import the method _urlopen()_ from this module:  "
   ]
  },
  {
   "cell_type": "code",
   "execution_count": 2,
   "metadata": {
    "ExecuteTime": {
     "end_time": "2017-10-20T12:50:02.246000Z",
     "start_time": "2017-10-20T12:50:02.242000Z"
    },
    "slideshow": {
     "slide_type": "fragment"
    }
   },
   "outputs": [],
   "source": [
    "from urllib.request import urlopen"
   ]
  },
  {
   "cell_type": "markdown",
   "metadata": {
    "slideshow": {
     "slide_type": "fragment"
    }
   },
   "source": [
    "If these two modules are available the HTML parse tree of the specified URL can easily be generated as follows."
   ]
  },
  {
   "cell_type": "code",
   "execution_count": 3,
   "metadata": {
    "ExecuteTime": {
     "end_time": "2017-10-20T12:50:04.344000Z",
     "start_time": "2017-10-20T12:50:03.569000Z"
    },
    "slideshow": {
     "slide_type": "fragment"
    }
   },
   "outputs": [],
   "source": [
    "#url=\"http://www.zeit.de\"\n",
    "url=\"http://www.spiegel.de\"\n",
    "#url=\"http://www.sueddeutsche.de\"\n",
    "html=urlopen(url).read()\n",
    "soup=BeautifulSoup(html,\"html.parser\")"
   ]
  },
  {
   "cell_type": "markdown",
   "metadata": {
    "slideshow": {
     "slide_type": "slide"
    }
   },
   "source": [
    "Now e.g. the title of the URL can be accessed by:"
   ]
  },
  {
   "cell_type": "code",
   "execution_count": 4,
   "metadata": {
    "ExecuteTime": {
     "end_time": "2017-10-20T12:50:06.092000Z",
     "start_time": "2017-10-20T12:50:06.086000Z"
    },
    "slideshow": {
     "slide_type": "fragment"
    }
   },
   "outputs": [
    {
     "name": "stdout",
     "output_type": "stream",
     "text": [
      "Title of page:   DER SPIEGEL | Online-Nachrichten\n"
     ]
    }
   ],
   "source": [
    "titleTag = soup.html.head.title\n",
    "print(\"Title of page:  \",titleTag.string)"
   ]
  },
  {
   "cell_type": "markdown",
   "metadata": {
    "slideshow": {
     "slide_type": "slide"
    }
   },
   "source": [
    "## Get all links in the page\n",
    "All links in the page can be retrieven by the following code (only the first 20 links are printed)"
   ]
  },
  {
   "cell_type": "code",
   "execution_count": 5,
   "metadata": {
    "ExecuteTime": {
     "end_time": "2017-10-20T12:50:07.973000Z",
     "start_time": "2017-10-20T12:50:07.951000Z"
    },
    "slideshow": {
     "slide_type": "fragment"
    }
   },
   "outputs": [
    {
     "name": "stdout",
     "output_type": "stream",
     "text": [
      "Number of links in this page:  534\n",
      "#Inhalt\n",
      "https://www.spiegel.de/nutzungsbedingungen\n",
      "https://www.spiegel.de/\n",
      "https://abo.spiegel.de/?b=SPOHNAVABO&requestAccessToken=true&sara_icid=disp_upd_9h6L5hu8K1AAnttzYATx3hvk7taDkP&targetUrl=https%3A%2F%2Fwww.spiegel.de%2Ffuermich%2F\n",
      "https://gruppenkonto.spiegel.de/authenticate?requestAccessToken=true&targetUrl=https%3A%2F%2Fwww.spiegel.de%2Ffuermich%2F\n",
      "https://www.spiegel.de/fuermich/\n",
      "https://www.spiegel.de/\n",
      "https://www.spiegel.de/schlagzeilen/\n",
      "https://www.spiegel.de/plus/\n",
      "https://www.spiegel.de/audio/\n",
      "https://www.spiegel.de/fuermich/\n",
      "https://www.spiegel.de/schlagzeilen/\n",
      "https://www.spiegel.de/plus/\n",
      "https://www.spiegel.de/thema/coronavirus/\n",
      "https://www.spiegel.de/politik/deutschland/\n",
      "https://www.spiegel.de/politik/ausland/\n",
      "https://www.spiegel.de/panorama/\n",
      "https://www.spiegel.de/sport/\n",
      "https://www.spiegel.de/wirtschaft/\n",
      "https://www.spiegel.de/netzwelt/\n"
     ]
    }
   ],
   "source": [
    "hreflinks=[]\n",
    "Alllinks=soup.findAll('a') #The <a> tag defines a hyperlink, which is used to link from one page to another.\n",
    "for l in Alllinks:\n",
    "    if l.has_attr('href'):\n",
    "        hreflinks.append(l)\n",
    "print(\"Number of links in this page: \",len(hreflinks))\n",
    "for l in hreflinks[:20]:\n",
    "    print(l['href'])"
   ]
  },
  {
   "cell_type": "markdown",
   "metadata": {
    "slideshow": {
     "slide_type": "slide"
    }
   },
   "source": [
    "## Get all news titles\n",
    "Get title of all news, which are currently listed on [www.zeit.de](http://www.zeit.de):"
   ]
  },
  {
   "cell_type": "code",
   "execution_count": 6,
   "metadata": {
    "ExecuteTime": {
     "end_time": "2017-10-20T12:50:10.208000Z",
     "start_time": "2017-10-20T12:50:10.124000Z"
    },
    "slideshow": {
     "slide_type": "fragment"
    }
   },
   "outputs": [
    {
     "name": "stdout",
     "output_type": "stream",
     "text": [
      "----------------------------------------\n",
      "IAB-Prognose: Deutscher Arbeitsmarkt erst 2022 auf Vorkrisenniveau\n",
      "https://www.spiegel.de/wirtschaft/soziales/coronakrise-deutscher-arbeitsmarkt-erst-2022-auf-vorkrisenniveau-a-5e695dfd-9898-47d1-b890-1cc873e5b5ca\n",
      "----------------------------------------\n",
      "Für Kinder erklärt: Warum der Feldhamster vom Aussterben bedroht ist\n",
      "https://www.spiegel.de/deinspiegel/feldhamster-warum-er-vom-aussterben-bedroht-ist-a-00000000-0002-0001-0000-000172431249\n",
      "----------------------------------------\n",
      "Kampf gegen Erblindung in Äthiopien: Augen öffnen\n",
      "https://www.spiegel.de/politik/ausland/aethiopien-und-der-kampf-gegen-erblindung-augen-oeffnen-a-e1c4096b-a2e4-42aa-8efb-cea3507f4f86\n",
      "----------------------------------------\n",
      "Umstrittene Begrenzungsinitiative: Kommt es zum Schwexit?\n",
      "https://www.spiegel.de/politik/ausland/schweiz-svp-laesst-die-eidgenossen-ueber-ihr-verhaeltnis-zur-eu-abstimmen-a-3b525f59-674b-4b51-8585-e352e06dd7ce\n",
      "----------------------------------------\n",
      "Selena Gomez zeigt Transplantationsnarbe: \"Ich bin stolz darauf\"\n",
      "https://www.spiegel.de/panorama/leute/selena-gomez-zeigt-narbe-von-nierentransplantation-auf-instagram-ich-bin-stolz-darauf-a-d69a43c7-bc5d-4453-b589-087a6bda3914\n",
      "----------------------------------------\n",
      "Friedrich Feuerstein, der Steinzeitmann?\n",
      "https://www.spiegel.de/politik/deutschland/unterwegs-mit-cdu-politiker-friedrich-merz-friedrich-feuerstein-der-steinzeitmann-a-afba75c6-73d7-41dd-9ec6-07b7f62290ef\n",
      "----------------------------------------\n",
      "Ver.di ruft zu bundesweiten Warnstreiks im öffentlichen Nahverkehr auf\n",
      "https://www.spiegel.de/wirtschaft/soziales/ver-di-ruft-zu-bundesweiten-warnstreiks-im-oeffentlichen-nahverkehr-auf-a-8cc073b4-82b7-42c8-a7c4-b166c1739678\n",
      "----------------------------------------\n",
      "Die Rückkehr der Fridays-for-Future-Demonstrationen\n",
      "https://www.spiegel.de/wissenschaft/die-rueckkehr-der-fridays-for-future-demonstrationen-a-9598e66c-eb12-4633-a2c6-c1ccbad56a71\n",
      "----------------------------------------\n",
      "Greta Thunberg ruft zum Abstandhalten bei Klimastreik auf\n",
      "https://www.spiegel.de/politik/ausland/fridays-for-future-greta-thunberg-ruft-zum-abstandhalten-bei-klimastreik-auf-a-8e8f02b2-fb8b-4eed-bb8e-44822581e9af\n",
      "----------------------------------------\n",
      "Kommt es zum Schwexit?\n",
      "https://www.spiegel.de/politik/ausland/schweiz-svp-laesst-die-eidgenossen-ueber-ihr-verhaeltnis-zur-eu-abstimmen-a-3b525f59-674b-4b51-8585-e352e06dd7ce\n",
      "----------------------------------------\n",
      "Der wichtigste Richterstuhl der Welt\n",
      "https://www.spiegel.de/politik/ausland/supreme-court-der-richterstuhl-von-ruth-bader-ginsburg-an-dem-so-viel-haengt-a-1a8e4057-a6e7-45aa-a5ac-7f3eb0170f84\n",
      "----------------------------------------\n",
      "FBI widerspricht Trumps Dauerwarnungen vor Wahlbetrug\n",
      "https://www.spiegel.de/politik/ausland/fbi-chef-bisher-kein-fall-organisierten-wahlbetrugs-in-den-usa-a-eb9a2e24-6e1f-4c78-9ac0-f9ad9ca075a2\n",
      "----------------------------------------\n",
      "Die Scheuer-Protokolle\n",
      "https://www.spiegel.de/politik/deutschland/andreas-scheuer-und-das-maut-debakel-vertrauliche-unterlagen-belasten-verkehrsminister-a-8ad9e852-e821-4796-9553-c8bc3eb7c16d\n",
      "----------------------------------------\n",
      "\"Für Verbraucher undurchsichtig\"\n",
      "https://www.spiegel.de/wirtschaft/soziales/pflege-tuev-in-der-kritik-fuer-verbraucher-undurchsichtig-a-90d17a71-85b3-4010-9e1a-08df3a839923\n",
      "----------------------------------------\n",
      "Corona-Pandemie\n",
      "https://www.spiegel.de/thema/coronavirus/\n",
      "----------------------------------------\n",
      "Die Impfbereitschaft nimmt ab, das Händewaschen wird wieder seltener\n",
      "https://www.spiegel.de/gesundheit/corona-umfrage-die-impfbereitschaft-nimmt-ab-das-haendewaschen-wird-wieder-seltener-a-5c20acf7-b184-4a91-bae3-f645d1cafecd\n",
      "----------------------------------------\n",
      "Spahn rät von Herbsturlaub im Ausland ab\n",
      "https://www.spiegel.de/wissenschaft/corona-news-am-freitag-new-york-plant-eigene-impfstoff-tests-wegen-zweifeln-an-pruefung-der-us-regierung-a-383d9ddc-74a7-4d28-99fc-a0c7d4a948de\n",
      "----------------------------------------\n",
      "Haben die Spanier zu viel gefeiert oder zu wenig kontrolliert?\n",
      "https://www.spiegel.de/politik/ausland/coronavirus-in-spanien-haben-die-spanier-zu-viel-gefeiert-oder-zu-wenig-kontrolliert-a-002de2bd-2cd2-44c4-be89-626e2582bd9f\n",
      "----------------------------------------\n",
      "Der schreckliche Weg zur Herdenimmunität\n",
      "https://www.spiegel.de/wissenschaft/medizin/coronavirus-in-brasilien-manaus-schrecklicher-weg-zur-herdenimmunitaet-a-d03b49d6-d041-4ac1-956a-577b5dbb9896\n",
      "----------------------------------------\n",
      "Wirtschaftsministerium unterschätzt Strombedarf\n",
      "https://www.spiegel.de/wissenschaft/technik/eeg-novelle-in-der-kritik-stromverbrauch-steigt-und-verlangt-mehr-windraeder-und-solaranlagen-a-c59f35ef-7956-4aaf-b394-1fdd498e5108\n",
      "----------------------------------------\n",
      "Augen öffnen\n",
      "https://www.spiegel.de/politik/ausland/aethiopien-und-der-kampf-gegen-erblindung-augen-oeffnen-a-e1c4096b-a2e4-42aa-8efb-cea3507f4f86\n",
      "----------------------------------------\n",
      "Nordkorea entschuldigt sich für Erschießung eines Südkoreaners\n",
      "https://www.spiegel.de/politik/ausland/nordkorea-entschuldigt-sich-fuer-erschiessung-eines-suedkoreaners-a-1aa75ba5-e84f-4cc3-b845-2105b740ffee\n",
      "----------------------------------------\n",
      "Tanken ist billiger als laden\n",
      "https://www.spiegel.de/auto/elektroauto-vs-diesel-und-benziner-strompreis-als-kostenfalle-a-6d8f929e-d742-439e-8de5-0f5bda3f5ecc\n",
      "----------------------------------------\n",
      "Intime Szene bei Videoschalte im Parlament\n",
      "https://www.spiegel.de/politik/ausland/argentinien-intime-szene-bei-videoschalte-auf-grossbildschirm-im-parlament-a-c8e6790b-b436-4b3e-9bda-bc69acb71c5c\n",
      "----------------------------------------\n",
      "Schranken umfahren - Autofahrerin stirbt bei Kollision mit Zug\n",
      "https://www.spiegel.de/panorama/uelzen-schranken-umfahren-autofahrerin-stirbt-nach-kollision-mit-zug-a-f86812db-10e8-4107-bea9-c13f8f40e4fa\n",
      "----------------------------------------\n",
      "Wohin mit dem französischen Weltmeister?\n",
      "https://www.spiegel.de/sport/fussball/bayern-muenchen-sieg-im-supercup-wohin-mit-dem-franzoesischen-weltmeister-lucas-hernandez-a-a43e15bc-2377-49b1-a278-a7cc058e81de\n",
      "----------------------------------------\n",
      "Locker Room Talk - wie Männer in Umkleidekabinen reden\n",
      "https://www.bento.de/politik/sexismus-im-sport-locker-was-junge-maenner-sich-in-der-umkleidekabine-erzaehlen-a-677d4ffe-6f09-43d4-b3b0-b548e2004dbc#refsponi\n",
      "----------------------------------------\n",
      "\"Quasi alleinerziehend\"? Dass ich nicht lache!\n",
      "https://www.spiegel.de/familie/alltag-einer-alleinerziehenden-quasi-alleinerziehend-gibt-es-nicht-a-013035f9-4fbd-4a30-91e5-399220a553f7\n",
      "----------------------------------------\n",
      "\"Dschungelcamp\" ohne Dschungel - dafür in Wales\n",
      "https://www.spiegel.de/kultur/tv/rtl-dschungelcamp-2021-in-wales-statt-australien-a-ddd49c99-7de4-46aa-8cc4-ce0dacbb2156\n",
      "----------------------------------------\n",
      "Warum der Feldhamster vom Aussterben bedroht ist\n",
      "https://www.spiegel.de/deinspiegel/feldhamster-warum-er-vom-aussterben-bedroht-ist-a-00000000-0002-0001-0000-000172431249\n",
      "----------------------------------------\n",
      "Auf der Suche nach dem Sinn falsch abgebogen\n",
      "https://www.spiegel.de/panorama/leute/attila-hildmann-auf-der-suche-nach-dem-sinn-falsch-abgebogen-a-293df391-2bb4-4370-af8d-de36d8cadbae\n",
      "----------------------------------------\n",
      "Drei Covid-19-Patienten und ihre mysteriösen Rückfälle\n",
      "https://www.spiegel.de/gesundheit/covid-19-spaetfolgen-drei-patienten-und-ihre-mysterioesen-rueckfaelle-a-68b89da4-22a8-4aff-97dc-c6c74daa064f\n",
      "----------------------------------------\n",
      "So werden Hausbesitzer schneller schuldenfrei\n",
      "https://www.spiegel.de/wirtschaft/service/immobilienkredite-und-sondertilgung-so-werden-hausbesitzer-schneller-schuldenfrei-a-4c0c2dda-6f40-419d-858f-aa39fdb983f2\n",
      "----------------------------------------\n",
      "Bayerischer Spitzenbeamter blamiert sich bei Wirecard-Befragung\n",
      "https://www.spiegel.de/wirtschaft/unternehmen/wirecard-wie-sich-ein-bayerischer-spitzenbeamter-vor-dem-finanzausschuss-blamiert-a-6f8fb67e-cb4c-4f56-8c6e-326485cf5355\n",
      "----------------------------------------\n",
      "Kommentare und Kolumnen\n",
      "https://www.spiegel.de/thema/meinung/\n",
      "----------------------------------------\n",
      "Zeit zum Gegenschlag\n",
      "https://www.spiegel.de/politik/ausland/usa-zeit-zum-gegenschlag-der-demokraten-kommentar-a-c26896c3-d064-48a6-acaf-871ec940d13a\n",
      "----------------------------------------\n",
      "Seehofer misstraut der Polizei\n",
      "https://www.spiegel.de/panorama/seehofer-misstraut-der-polizei-a-6178f9ba-6e0c-40fa-94d9-02e1678e0269\n",
      "----------------------------------------\n",
      "Sie merken es einfach nicht\n",
      "https://www.spiegel.de/kultur/christian-lindner-und-co-peinliche-maenner-aufhalten-nicht-aushalten-kolumne-a-90532a64-cc82-4ff4-a7e0-1b080ac021d4\n",
      "----------------------------------------\n",
      "Wenn das Bauchgefühl über die Vernunft siegt\n",
      "https://www.spiegel.de/netzwelt/netzpolitik/wenn-das-bauchgefuehl-ueber-die-vernunft-siegt-kolumne-von-sascha-lobo-a-022a56d8-8a65-4ce5-9f2f-97be5a198b2f\n",
      "----------------------------------------\n",
      "Politik\n",
      "https://www.spiegel.de/politik/deutschland/\n",
      "----------------------------------------\n",
      "SPD-Bundestagskandidat: Scholz-Kritiker gewinnt Machtkampf in München\n",
      "https://www.spiegel.de/politik/deutschland/spd-politiker-florian-post-olaf-scholz-kritiker-gewinnt-machtkampf-in-muenchen-a-7b7c8b79-5193-41de-918a-8a1d348e68ba\n",
      "----------------------------------------\n",
      "Geplante Innenministerkonferenz: Seehofer will Umgang mit Reichskriegsflagge diskutieren\n",
      "https://www.spiegel.de/politik/deutschland/horst-seehofer-fuer-bundesweit-einheitliches-vorgehen-gegen-reichskriegsflagge-a-b639c35a-7b17-4071-9975-ae329e68c334\n",
      "----------------------------------------\n",
      "Die Lage am Morgen: Sind wir noch zu retten?\n",
      "https://www.spiegel.de/politik/deutschland/news-fridays-for-future-fdp-christian-lindner-mitch-mcconnell-a-d061430e-779c-4ad9-a62b-44ee0bce6d26\n",
      "----------------------------------------\n",
      "Ausland\n",
      "https://www.spiegel.de/politik/ausland/\n",
      "----------------------------------------\n",
      "Iranischer Ringer: USA verhängen Sanktionen wegen Hinrichtung von Navid Afkari\n",
      "https://www.spiegel.de/politik/ausland/iran-usa-verhaengen-sanktionen-wegen-hinrichtung-von-ringer-navid-afkari-a-d5f98295-2cee-422c-8055-aa33ab75567b\n",
      "----------------------------------------\n",
      "20 Jahre nach Urteil: USA richten Schwarzen in Bundesgefängnis hin\n",
      "https://www.spiegel.de/politik/ausland/christopher-vialva-schwarzer-in-us-gefaengnis-hingerichtet-a-c3502353-a77b-4ab5-9268-815a8c762bd2\n",
      "----------------------------------------\n",
      "Vergifteter Kremlkritiker: Nawalnys Vermögen offenbar von Moskauer Gericht eingefroren\n",
      "https://www.spiegel.de/politik/ausland/alexej-nawalny-vermoegen-offenbar-von-gericht-in-moskau-eingefroren-a-47281825-253d-4855-860d-3227b453d9a3\n",
      "----------------------------------------\n",
      "Panorama\n",
      "https://www.spiegel.de/panorama/\n",
      "----------------------------------------\n",
      "Selena Gomez zeigt Transplantationsnarbe: \"Ich bin stolz darauf\"\n",
      "https://www.spiegel.de/panorama/leute/selena-gomez-zeigt-narbe-von-nierentransplantation-auf-instagram-ich-bin-stolz-darauf-a-d69a43c7-bc5d-4453-b589-087a6bda3914\n",
      "----------------------------------------\n",
      "Mandy Moore ist schwanger: \"Baby Boy Goldsmith kommt Anfang 2021\"\n",
      "https://www.spiegel.de/panorama/leute/mandy-moore-und-taylor-goldsmith-werden-eltern-a-010fa7b2-4ad9-45f5-ba6d-420dd1dde669\n",
      "----------------------------------------\n",
      "Wegen Corona-Pandemie: Rio de Janeiro verschiebt weltberühmten Karneval\n",
      "https://www.spiegel.de/panorama/corona-pandemie-rio-des-janeiro-in-brasilien-verschiebt-karneval-a-4d3bb63e-3b99-4cd3-820b-fb352b2eb82a\n",
      "----------------------------------------\n",
      "Sport\n",
      "https://www.spiegel.de/sport/\n",
      "----------------------------------------\n",
      "Unfall bei Straßenrad-WM in Imola: Titelverteidigerin Dygert stürzt bei hoher Geschwindigkeit über Leitplanke\n",
      "https://www.spiegel.de/sport/chloe-dygert-stuerzt-bei-strassenrad-wm-in-imola-ueber-leitplanke-a-6d4b65b7-796e-4f09-85b4-d38fa51f599e\n",
      "----------------------------------------\n",
      "Europa-League-Qualifikation in Nordmazedonien: Enge Kiste\n",
      "https://www.spiegel.de/sport/fussball/europa-league-qualifikation-tottenham-hotspur-wenn-das-tor-ploetzlich-zu-klein-ist-a-6a1c660f-3f9a-458a-ad63-a3f40875d03a\n",
      "----------------------------------------\n",
      "Bayerns Supercup-Sieg gegen Sevilla: Dieser Kader wird tatsächlich nicht reichen\n",
      "https://www.spiegel.de/sport/fussball/fc-bayern-muenchen-schlaegt-im-supercup-den-fc-sevilla-dieser-kader-wird-nicht-reichen-a-49c3b243-0da1-4062-a069-9f0fec84ac69\n",
      "----------------------------------------\n",
      "Wirtschaft\n",
      "https://www.spiegel.de/wirtschaft/\n",
      "----------------------------------------\n",
      "Zum Tod des Modemachers: Der Mann, der Gerry Weber war\n",
      "https://www.spiegel.de/wirtschaft/unternehmen/gerhard-weber-tot-nachruf-auf-gruender-der-modekette-gerry-weber-a-7e3ae49f-5c8d-4a7f-8147-e04baee684ce\n",
      "----------------------------------------\n",
      "IAB-Prognose: Deutscher Arbeitsmarkt erst 2022 auf Vorkrisenniveau\n",
      "https://www.spiegel.de/wirtschaft/soziales/coronakrise-deutscher-arbeitsmarkt-erst-2022-auf-vorkrisenniveau-a-5e695dfd-9898-47d1-b890-1cc873e5b5ca\n",
      "----------------------------------------\n",
      "Erster Autoboss wegen Abgasbetrugs vor Gericht: Ein neues Gutachten belastet Ex-Audi-Chef Stadler\n",
      "https://www.spiegel.de/wirtschaft/unternehmen/diesel-affaere-ein-neues-gutachten-belastet-rupert-stadler-a-00000000-0002-0001-0000-000173216515\n",
      "----------------------------------------\n",
      "Upfield-Chef David Haines: Der Margarine-König über das mutigste Projekt der Nahrungsmittelindustrie\n",
      "https://www.manager-magazin.de/unternehmen/upfield-david-haines-ueber-das-milliardengeschaeft-mit-margarine-a-00000000-0002-0001-0000-000173050950\n",
      "----------------------------------------\n",
      "Grüner Ministerpräsident im Autoland: Winfried Kretschmann tritt bei Elektroautos auf die Bremse\n",
      "https://www.manager-magazin.de/unternehmen/autoindustrie/elektroauto-winfried-kretschmann-glaubt-nicht-an-schnellen-siegeszug-a-c8748684-152c-4537-889e-ef2d23f2b5f4\n",
      "----------------------------------------\n",
      "Machtübergabe bei Axel Springer: Friede Springer macht Mathias Döpfner zum Milliardär\n",
      "https://www.manager-magazin.de/unternehmen/axel-springer-se-friede-springer-schenkt-mathias-doepfner-ihre-aktien-a-472e3256-50bf-44a4-a75c-702cf09aff90\n",
      "----------------------------------------\n",
      "Börsenkurse manager magazin\n",
      "https://boersen.manager-magazin.de\n",
      "----------------------------------------\n",
      "Wissenschaft\n",
      "https://www.spiegel.de/wissenschaft/\n",
      "----------------------------------------\n",
      "Britischer Diplomat über die nächste Uno-Klimakonferenz: \"Wer nicht mitmacht, wird verlieren\"\n",
      "https://www.spiegel.de/wissenschaft/mensch/britischer-klimadiplomat-john-murton-wer-nicht-mitmacht-wird-verlieren-a-d623f968-291f-46ea-b0c3-44f27d581305\n",
      "----------------------------------------\n",
      "Elon Musk fordert Asiens Batteriekonzerne heraus: So weit ist Tesla beim Superakku\n",
      "https://www.spiegel.de/wissenschaft/technik/tesla-fordert-asiens-batteriekonzerne-heraus-wer-siegt-im-wettlauf-zum-super-akku-a-24bc1a9e-daed-46a3-8965-806e52920511\n",
      "----------------------------------------\n",
      "Sars-CoV-2: Die wichtigsten Corona-Testverfahren im Überblick\n",
      "https://www.spiegel.de/wissenschaft/medizin/coronavirus-die-wichtigsten-testverfahren-im-ueberblick-a-137cdc4b-1ffb-401d-9963-d16725be8304\n",
      "----------------------------------------\n",
      "Netzwelt\n",
      "https://www.spiegel.de/netzwelt/\n",
      "----------------------------------------\n",
      "Streit über Kurzvideo-Plattform: Gericht stellt Trump bei Download-Stopp für TikTok Ultimatum\n",
      "https://www.spiegel.de/netzwelt/tiktok-verbot-gericht-stellt-trump-ultimatum-a-b689a4d4-d764-42f6-b4e1-e2eafc2ae5d5\n",
      "----------------------------------------\n",
      "Gesetzentwurf zu Section 230: US-Regierung drängt zu verschärfter Haftung für Twitter, Facebook und Co\n",
      "https://www.spiegel.de/netzwelt/netzpolitik/twitter-facebook-und-co-us-regierung-draengt-zu-verschaerfter-haftung-a-80f85ea7-eb95-4394-82a1-a84f5ab718e1\n",
      "----------------------------------------\n",
      "In fünf Städten: 5G-Netz von O2 startet im Oktober\n",
      "https://www.spiegel.de/netzwelt/web/5g-netz-von-o2-startet-im-oktober-a-6e5269db-37b6-4b5e-b5a6-10d6f635c49f\n",
      "----------------------------------------\n",
      "Kultur\n",
      "https://www.spiegel.de/kultur/\n",
      "----------------------------------------\n",
      "Dänischer Bestseller: \"Fräulein Smillas Gespür für Schnee\" soll zur Serie werden\n",
      "https://www.spiegel.de/kultur/tv/fraeulein-smillas-gespuer-fuer-schnee-soll-zur-serie-werden-a-55ba0ea3-9e3e-49e3-8a11-cd36c1e858c6\n",
      "----------------------------------------\n",
      "Netflix-Doku über die Wiedervereinigung: Vom Riss, der nie verheilte\n",
      "https://www.spiegel.de/kultur/tv/netflix-doku-rohwedder-vom-riss-der-nie-verheilte-a-d7a604f0-0246-4a9a-a998-ddceba08cd8f\n",
      "----------------------------------------\n",
      "Propaganda für Raumfahrt: Russland plant Filmdreh im Weltall\n",
      "https://www.spiegel.de/kultur/kino/russland-plant-filmdreh-im-weltall-a-048e2205-8435-4732-83b8-5a3a3ff87931\n",
      "----------------------------------------\n",
      "Warum es immer mehr Flüchtlings-Pornos gibt – und wer sie guckt\n",
      "https://www.bento.de/gefuehle/porno-mit-fluechtlingen-warum-es-immer-mehr-fluechtlings-pornos-gibt-und-wer-sie-schaut-a-00000000-0003-0001-0000-000002115723\n",
      "----------------------------------------\n",
      "Warum mögt ihr Deutschen euch gegenseitig nicht?\n",
      "https://www.bento.de/gefuehle/warum-moegen-deutsche-sich-untereinander-nicht-beobachtungen-von-andrea-aus-mexiko-a-00000000-0003-0001-0000-000002474116\n",
      "----------------------------------------\n",
      "Ich habe eine 15 Jahre alte Bravo gelesen – und endlich meine Generation verstanden\n",
      "https://www.bento.de/vintage/bravo-aus-alten-heften-von-2003-habe-ich-viel-ueber-meine-generation-gelernt-a-6b986aa4-933b-411c-894f-d8d4418bd394\n",
      "----------------------------------------\n",
      "Tests\n",
      "https://www.spiegel.de/tests/\n",
      "----------------------------------------\n",
      "Outdoor-Hygiene: Diese Camping-Gadgets bringen Erleichterung\n",
      "https://www.spiegel.de/tests/camping/camping-gadgets-im-tests-diese-helfer-bringen-erleichterung-a-4f45e82e-461c-4a6f-8629-e270d8434533\n",
      "----------------------------------------\n",
      "Bestseller Link\n",
      "https://www.spiegel.de/kultur/bestseller-buecher-belletristik-sachbuch-auf-spiegel-liste-a-458623.html\n",
      "----------------------------------------\n",
      "Geschichte\n",
      "https://www.spiegel.de/geschichte/\n",
      "----------------------------------------\n",
      "Schatzsucherin in London: \"Die Themse war schon immer eine Mülldeponie\"\n",
      "https://www.spiegel.de/geschichte/mudlarking-in-london-was-eine-schatzsucherin-am-themse-ufer-entdeckt-a-2b7801a0-d3f9-48c9-abde-b17222ce29f3\n",
      "----------------------------------------\n",
      "Scheinheilige Weltreligionen: Gott und das liebe Geld\n",
      "https://www.spiegel.de/geschichte/christentum-islam-judentum-gott-und-das-liebe-geld-a-00000000-0002-0001-0000-000173049354\n",
      "----------------------------------------\n",
      "Ballon-Flucht aus Paris 1870: \"Wir stürzten wie ein Stein vom Himmel\"\n",
      "https://www.spiegel.de/geschichte/ballon-flucht-aus-dem-belagerten-paris-1870-der-himmel-als-rettung-a-1b4f90d4-5297-4296-9992-0e767b0fd309\n",
      "----------------------------------------\n",
      "Job & Karriere\n",
      "https://www.spiegel.de/karriere/\n",
      "----------------------------------------\n",
      "Rechte in der Probezeit: Unentschuldigtes Fehlen rechtfertigt keine fristlose Kündigung\n",
      "https://www.spiegel.de/karriere/arbeitsrecht-in-der-probezeit-unentschuldigtes-fehlen-rechtfertigt-keine-fristlose-kuendigung-a-bd2a9082-c728-4454-babb-4a92d2b8e4aa\n",
      "----------------------------------------\n",
      "Arbeitsrecht: Wann darf ich unbezahlten Urlaub nehmen?\n",
      "https://www.spiegel.de/karriere/unbezahlter-urlaub-das-muessen-arbeitnehmer-wissen-a-f1387e3c-bea4-4333-a50f-b797f5d89749\n",
      "----------------------------------------\n",
      "Studie zu Stellenanzeigen: Liebe Firmen, hört auf mit dem Geschwätz\n",
      "https://www.spiegel.de/karriere/stellenanzeigen-bewerber-wuenschen-sich-angabe-zum-gehalt-a-06a15e81-9bac-47fd-83e9-1f2a5da96ea9\n",
      "----------------------------------------\n",
      "Mobilität\n",
      "https://www.spiegel.de/auto/\n",
      "----------------------------------------\n",
      "Kalifornien macht Ernst: Das langsame (aber sichere) Ende des Verbrennungsmotors\n",
      "https://www.spiegel.de/auto/kalifornien-das-langsame-ende-des-verbrenners-a-ce9b14f4-7090-4905-82c3-a8bc2c41c47f\n",
      "----------------------------------------\n",
      "Schweden rüstet Autos um: Alkohol ist auch eine Lösung\n",
      "https://www.spiegel.de/auto/schweden-foerdert-umruestung-ethanol-und-gas-statt-diesel-und-benzin-a-b9b7dadb-358c-4930-aa41-456b5f334e2e\n",
      "----------------------------------------\n",
      "Experte zu Teslas \"Battery Day\": \"Weit über dem, was die Konkurrenz hierzulande plant\"\n",
      "https://www.spiegel.de/auto/tesla-battery-day-das-ist-ein-quantensprung-a-21308112-66dd-45eb-9b50-edce807da711\n",
      "----------------------------------------\n",
      "Leben\n",
      "https://www.spiegel.de/thema/leben/\n",
      "----------------------------------------\n",
      "Die Welt geht unter und geht nicht unter\n",
      "https://www.spiegel.de/familie/trauerbegleiterin-ueber-den-umgang-mit-verlust-die-trostformel-a-8eefc30d-1707-48af-8810-cee35a4f5ef2\n",
      "----------------------------------------\n",
      "Manche verzichten auf Urlaub, andere auf ihre Familie\n",
      "https://www.spiegel.de/familie/coronavirus-wie-die-pandemie-familien-trennt-und-wie-ich-damit-umgehe-a-8a2669e6-4078-47e9-a9cd-8f1700dae4af\n",
      "----------------------------------------\n",
      "Diese Regeln gelten für Reisende aus Risiko-Landkreisen\n",
      "https://www.spiegel.de/reise/coronavirus-reisende-aus-risiko-landkreisen-duerfen-nicht-in-allen-bundeslaendern-uebernachten-a-9a5ff4b3-5605-4d3a-a858-97862a9203e3\n",
      "----------------------------------------\n",
      "So befriedigt sind die Deutschen\n",
      "https://www.spiegel.de/gesundheit/sex/sex-in-deutschland-wissenschaftler-blicken-ins-schlafzimmer-a-33aec6c3-b546-4dfd-acca-4836bcbbffc1\n",
      "----------------------------------------\n",
      "\"Erst schwindet die seelische Nähe, und im Ergebnis findet kein Sex mehr statt\"\n",
      "https://www.spiegel.de/partnerschaft/beziehungs-coaching-paarberater-ueber-versoehnungssex-liebe-und-fremdgehen-a-89e33e39-152c-456e-81ea-a68085aca0d2\n",
      "----------------------------------------\n",
      "Welche Sorte Holz schmeckt am besten?\n",
      "https://www.spiegel.de/stil/geschmack-von-holz-kiefernnadelpesto-schmeckt-nach-harz-und-zitrone-a-ec3e7a1a-183d-42ab-9af1-05968d0ab115\n",
      "----------------------------------------\n",
      "Interessante Brettspiele\n",
      "https://www.spiegel.de/thema/test_und_produkte/\n",
      "----------------------------------------\n",
      "Die Tafelrunde, das Schwert und der Gral\n",
      "https://www.spiegel.de/tests/brettspiele/brettspiele-um-die-artus-sage-tainted-grail-merlin-stonehenge-tipps-a-6ec2c8ff-9861-4a2b-9dae-889d572108b2\n",
      "----------------------------------------\n",
      "Fies gewinnt\n",
      "https://www.spiegel.de/tests/brettspiele/brettspiele-villainous-watergate-jaws-fies-gewinnt-a-2145d9d2-03c9-4ec3-bedb-7ed1107eddb8\n",
      "----------------------------------------\n",
      "In sieben außergewöhnlichen Brettspielen um die Welt\n",
      "https://www.spiegel.de/tests/brettspiele/brettspiele-im-test-in-sieben-spielen-um-die-welt-a-a8509df4-ad3c-4bd7-9a07-cae5df7bc033\n",
      "----------------------------------------\n",
      "Dein SPIEGEL\n",
      "https://www.spiegel.de/deinspiegel/\n",
      "----------------------------------------\n",
      "Was dich in \"Dein SPIEGEL\" Nr. 10/2020 erwartet\n",
      "https://www.spiegel.de/deinspiegel/was-dich-in-dein-spiegel-nr-10-2020-erwartet-a-244f5796-825f-4441-b24c-111da592a2d5\n",
      "----------------------------------------\n",
      "\"Künstler brauchen die Bühne\"\n",
      "https://www.spiegel.de/deinspiegel/singer-songwriterin-anne-marie-kuenstler-brauchen-die-buehne-a-00000000-0002-0001-0000-000172431259\n",
      "----------------------------------------\n",
      "Bild des Tages\n",
      "https://www.spiegel.de/fotostrecke/bilder-des-tages-fotos-aus-deutschland-und-der-welt-fotostrecke-122824.html\n"
     ]
    }
   ],
   "source": [
    "#print soup.get_text()hreflinks=[]\n",
    "AllTitles=soup.findAll('h2')\n",
    "alltitles=[]\n",
    "alltitleLinks=[]\n",
    "for l in AllTitles:\n",
    "    #print l\n",
    "    try:\n",
    "        title = l.find('a')['title']\n",
    "        link = l.find('a')['href']\n",
    "        print('-'*40)\n",
    "        print(title)\n",
    "        print(link)\n",
    "        alltitles.append(title)\n",
    "        alltitleLinks.append(link)\n",
    "    except:\n",
    "        pass"
   ]
  },
  {
   "cell_type": "markdown",
   "metadata": {
    "slideshow": {
     "slide_type": "slide"
    }
   },
   "source": [
    "## Get all images of the page\n",
    "\n",
    "Get url of all images, which are currently displayed on [www.zeit.de](http://www.zeit.de):"
   ]
  },
  {
   "cell_type": "code",
   "execution_count": 7,
   "metadata": {
    "ExecuteTime": {
     "end_time": "2017-10-20T12:50:12.456000Z",
     "start_time": "2017-10-20T12:50:12.440000Z"
    },
    "slideshow": {
     "slide_type": "fragment"
    }
   },
   "outputs": [
    {
     "name": "stdout",
     "output_type": "stream",
     "text": [
      "data:image/gif;base64,R0lGODlhAQABAAAAACH5BAEKAAEALAAAAAABAAEAAAICTAEAOw==\n",
      "https://cdn.prod.www.spiegel.de/images/eb39d98f-ff81-4454-b84b-bc80a32c226d_w872_r1.77_fpx39_fpy53.jpg\n",
      "https://cdn.prod.www.spiegel.de/images/8ee41382-2d7b-464f-8d33-92b945ba7bea_w117_r1.33_fpx47.34_fpy55.01.jpg\n",
      "https://cdn.prod.www.spiegel.de/images/8ee41382-2d7b-464f-8d33-92b945ba7bea_w117_r1.33_fpx47.34_fpy55.01.jpg\n",
      "https://cdn.prod.www.spiegel.de/images/8ee41382-2d7b-464f-8d33-92b945ba7bea_w488_r1.77_fpx47.34_fpy55.01.jpg\n",
      "https://cdn.prod.www.spiegel.de/images/8ee41382-2d7b-464f-8d33-92b945ba7bea_w488_r1.77_fpx47.34_fpy55.01.jpg\n",
      "https://cdn.prod.www.spiegel.de/images/cacb675b-c691-45a8-a20c-68194c201c9a_w117_r1.33_fpx33.34_fpy50.jpg\n",
      "https://cdn.prod.www.spiegel.de/images/cacb675b-c691-45a8-a20c-68194c201c9a_w117_r1.33_fpx33.34_fpy50.jpg\n",
      "https://cdn.prod.www.spiegel.de/images/cacb675b-c691-45a8-a20c-68194c201c9a_w488_r1.77_fpx33.34_fpy50.jpg\n",
      "https://cdn.prod.www.spiegel.de/images/cacb675b-c691-45a8-a20c-68194c201c9a_w488_r1.77_fpx33.34_fpy50.jpg\n"
     ]
    }
   ],
   "source": [
    "imglinks=[]\n",
    "AllImgs=soup.findAll('img')\n",
    "for l in AllImgs:\n",
    "    if l.has_attr('src'):\n",
    "       imglinks.append(l)\n",
    "\n",
    "for l in imglinks[:10]:\n",
    "    print(l['src'])"
   ]
  },
  {
   "cell_type": "markdown",
   "metadata": {
    "slideshow": {
     "slide_type": "slide"
    }
   },
   "source": [
    "## Get entire text of a news-article"
   ]
  },
  {
   "cell_type": "code",
   "execution_count": 8,
   "metadata": {
    "ExecuteTime": {
     "end_time": "2017-10-20T13:09:24.145000Z",
     "start_time": "2017-10-20T13:09:23.833000Z"
    },
    "slideshow": {
     "slide_type": "fragment"
    }
   },
   "outputs": [
    {
     "name": "stdout",
     "output_type": "stream",
     "text": [
      "\n",
      "\n",
      "\n",
      "\n",
      "\n",
      "\n",
      "\n",
      "Der deutsche Arbeitsmarkt wird nach Ansicht von Forschern noch lange unter den Folgen der Pandemie zu leiden haben. Das Institut für Arbeitsmarkt- und Berufsforschung (IAB) ermittelte in seiner Herbstprognose für das laufende Jahr einen coronabedingten Zunahme der Arbeitslosen um 440.000. Die Wirtschaftsleistung werde um 5,2 schrumpfen. \"Für das Jahr 2021 erwarten wir, dass sie um 100.000 Personen sinkt. Sie liegt damit aber noch deutlich höher als vor der Pandemie\", heißt es in dem Bericht.\n",
      "Im kommenden Jahr könnte der Prognose zufolge die Wirtschaftsleistung wieder um 3,2 Prozent zulegen, die Zahl der Arbeitslosen im Durchschnitt um 100 000 sinken. \"Der Arbeitsmarkt geriet massiv unter Druck, die Verschlechterung blieb angesichts des immensen wirtschaftlichen Schocks jedoch vergleichsweise begrenzt. Der Arbeitsmarkt stürzte auch aufgrund der Stabilisierungsmaßnahmen nicht ins Bodenlose\", sagte Enzo Weber, Leiter des IAB-Forschungsbereichs \"Prognosen und gesamtwirtschaftliche Analysen\".\n",
      "Noch keine Erholungseffekte sagen die Experten im nächsten Jahr für das Gastgewerbe und den Einzelhandel voraus. Dort werde sich der Arbeitsmarkt auf dem Niveau von 2020 stabilisieren, die im laufenden Jahr erlittenen Verluste aber nicht ausgleichen können. Gleiches gelte für den Bereich \"sonstige Dienstleistungen\", wozu die Ausrichtung von Sport- und Kulturevents zählt - hier wird für das laufende Jahr ein Verlust von 110.000 Arbeitsplätzen prognostiziert. Im verarbeitenden Gewerbe, insbesondere in der Automobilbranche und bei deren Zulieferern, fallen der IAB-Prognose zufolge im laufenden Jahr 160.000 Arbeitsplätze weg, im nächsten Jahr noch einmal 60.000.\n",
      "Beschäftigungszuwächse erwarten die IAB-Forscher dagegen vor allem im Bereich \"Öffentliche Dienstleister, Erziehung und Gesundheit\" (je 190.000 Jobs in beiden Jahren). Zuwächse erwarten die Experten auch in der Kommunikationsbranche, vor allem durch zunehmende Digitalisierung und die Vernetzung von Produktions- und Dienstleistungsprozessen.\n",
      "Dauerthema für die Unternehmen in Deutschland bleibt trotz konjunktureller Risiken der Fachkräftemängel. Das Potenzial an Erwerbstätigen wird im laufenden Jahr um 100 000 und im nächsten Jahr noch einmal um 50 000 schrumpfen, heißt es in der Prognose.\n",
      "Melden Sie sich an und diskutieren Sie mit\n"
     ]
    }
   ],
   "source": [
    "IDX=0\n",
    "suburl=alltitleLinks[IDX]\n",
    "try:\n",
    "    html=urlopen(suburl).read() #works if subdomains are referenced by absolute path\n",
    "except:\n",
    "    html=urlopen(url+suburl).read() #works if subdomains are referenced by relative path\n",
    "soup=BeautifulSoup(html,\"html.parser\")\n",
    "AllP=soup.findAll('p')\n",
    "for p in AllP:\n",
    "    print(p.get_text())"
   ]
  },
  {
   "cell_type": "markdown",
   "metadata": {
    "collapsed": true,
    "slideshow": {
     "slide_type": "skip"
    }
   },
   "source": [
    "## Questions and Remarks\n",
    "1. This notebook demonstrates how raw-text can be crawled from news-sites. But what is the drawback of this method?\n",
    "2. Execute the entire notebook also for `www.spiegel.de` and `www.sueddeutsche.de`.\n",
    "3. What do you observe? How to solve the problem?"
   ]
  },
  {
   "cell_type": "code",
   "execution_count": null,
   "metadata": {
    "collapsed": true
   },
   "outputs": [],
   "source": []
  }
 ],
 "metadata": {
  "celltoolbar": "Slideshow",
  "kernelspec": {
   "display_name": "Python 3",
   "language": "python",
   "name": "python3"
  },
  "language_info": {
   "codemirror_mode": {
    "name": "ipython",
    "version": 3
   },
   "file_extension": ".py",
   "mimetype": "text/x-python",
   "name": "python",
   "nbconvert_exporter": "python",
   "pygments_lexer": "ipython3",
   "version": "3.7.5"
  },
  "nav_menu": {},
  "toc": {
   "base_numbering": 1,
   "nav_menu": {},
   "number_sections": true,
   "sideBar": true,
   "skip_h1_title": false,
   "title_cell": "Table of Contents",
   "title_sidebar": "Contents",
   "toc_cell": false,
   "toc_position": {},
   "toc_section_display": "block",
   "toc_window_display": false
  },
  "varInspector": {
   "cols": {
    "lenName": 16,
    "lenType": 16,
    "lenVar": 40
   },
   "kernels_config": {
    "python": {
     "delete_cmd_postfix": "",
     "delete_cmd_prefix": "del ",
     "library": "var_list.py",
     "varRefreshCmd": "print(var_dic_list())"
    },
    "r": {
     "delete_cmd_postfix": ") ",
     "delete_cmd_prefix": "rm(",
     "library": "var_list.r",
     "varRefreshCmd": "cat(var_dic_list()) "
    }
   },
   "types_to_exclude": [
    "module",
    "function",
    "builtin_function_or_method",
    "instance",
    "_Feature"
   ],
   "window_display": false
  }
 },
 "nbformat": 4,
 "nbformat_minor": 1
}