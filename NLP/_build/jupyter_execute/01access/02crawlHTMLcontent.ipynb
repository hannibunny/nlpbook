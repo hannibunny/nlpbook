{
 "cells": [
  {
   "cell_type": "markdown",
   "metadata": {
    "slideshow": {
     "slide_type": "slide"
    }
   },
   "source": [
    "# Access Contents of HTML Page\n",
    "\n",
    "- Author:      Johannes Maucher\n",
    "- Last update: 2018-10-21\n",
    "\n",
    "This notebook demonstrates how to parse a HTML document and access dedicated elements of the parse tree.\n",
    "[Beautiful Soup](http://www.crummy.com/software/BeautifulSoup/bs4/doc/#) is a python package for parsing HTML. Download and install version 4 by typing:\n",
    "\n",
    "> `pip install beautifulsoup4`\n",
    "\n",
    "into the command shell. Once it is installed it can be imported by"
   ]
  },
  {
   "cell_type": "code",
   "execution_count": 1,
   "metadata": {
    "ExecuteTime": {
     "end_time": "2017-10-20T12:50:00.898000Z",
     "start_time": "2017-10-20T12:50:00.893000Z"
    },
    "execution": {
     "iopub.execute_input": "2020-09-29T14:25:47.186408Z",
     "iopub.status.busy": "2020-09-29T14:25:47.185717Z",
     "iopub.status.idle": "2020-09-29T14:25:47.287621Z",
     "shell.execute_reply": "2020-09-29T14:25:47.288159Z"
    },
    "slideshow": {
     "slide_type": "fragment"
    }
   },
   "outputs": [],
   "source": [
    "from bs4 import BeautifulSoup"
   ]
  },
  {
   "cell_type": "markdown",
   "metadata": {
    "slideshow": {
     "slide_type": "slide"
    }
   },
   "source": [
    "For accessing arbitrary resources by URL the python modul [urllib](https://docs.python.org/2/library/urllib.html) must also be installed. Import the method _urlopen()_ from this module:  "
   ]
  },
  {
   "cell_type": "code",
   "execution_count": 2,
   "metadata": {
    "ExecuteTime": {
     "end_time": "2017-10-20T12:50:02.246000Z",
     "start_time": "2017-10-20T12:50:02.242000Z"
    },
    "execution": {
     "iopub.execute_input": "2020-09-29T14:25:47.292150Z",
     "iopub.status.busy": "2020-09-29T14:25:47.291487Z",
     "iopub.status.idle": "2020-09-29T14:25:47.293628Z",
     "shell.execute_reply": "2020-09-29T14:25:47.294084Z"
    },
    "slideshow": {
     "slide_type": "fragment"
    }
   },
   "outputs": [],
   "source": [
    "from urllib.request import urlopen"
   ]
  },
  {
   "cell_type": "markdown",
   "metadata": {
    "slideshow": {
     "slide_type": "fragment"
    }
   },
   "source": [
    "If these two modules are available the HTML parse tree of the specified URL can easily be generated as follows."
   ]
  },
  {
   "cell_type": "code",
   "execution_count": 3,
   "metadata": {
    "ExecuteTime": {
     "end_time": "2017-10-20T12:50:04.344000Z",
     "start_time": "2017-10-20T12:50:03.569000Z"
    },
    "execution": {
     "iopub.execute_input": "2020-09-29T14:25:47.298616Z",
     "iopub.status.busy": "2020-09-29T14:25:47.298005Z",
     "iopub.status.idle": "2020-09-29T14:25:47.971474Z",
     "shell.execute_reply": "2020-09-29T14:25:47.971952Z"
    },
    "slideshow": {
     "slide_type": "fragment"
    }
   },
   "outputs": [],
   "source": [
    "#url=\"http://www.zeit.de\"\n",
    "url=\"http://www.spiegel.de\"\n",
    "#url=\"http://www.sueddeutsche.de\"\n",
    "html=urlopen(url).read()\n",
    "soup=BeautifulSoup(html,\"html.parser\")"
   ]
  },
  {
   "cell_type": "markdown",
   "metadata": {
    "slideshow": {
     "slide_type": "slide"
    }
   },
   "source": [
    "Now e.g. the title of the URL can be accessed by:"
   ]
  },
  {
   "cell_type": "code",
   "execution_count": 4,
   "metadata": {
    "ExecuteTime": {
     "end_time": "2017-10-20T12:50:06.092000Z",
     "start_time": "2017-10-20T12:50:06.086000Z"
    },
    "execution": {
     "iopub.execute_input": "2020-09-29T14:25:47.976549Z",
     "iopub.status.busy": "2020-09-29T14:25:47.975753Z",
     "iopub.status.idle": "2020-09-29T14:25:47.978374Z",
     "shell.execute_reply": "2020-09-29T14:25:47.978825Z"
    },
    "slideshow": {
     "slide_type": "fragment"
    }
   },
   "outputs": [
    {
     "name": "stdout",
     "output_type": "stream",
     "text": [
      "Title of page:   DER SPIEGEL | Online-Nachrichten\n"
     ]
    }
   ],
   "source": [
    "titleTag = soup.html.head.title\n",
    "print(\"Title of page:  \",titleTag.string)"
   ]
  },
  {
   "cell_type": "markdown",
   "metadata": {
    "slideshow": {
     "slide_type": "slide"
    }
   },
   "source": [
    "## Get all links in the page\n",
    "All links in the page can be retrieven by the following code (only the first 20 links are printed)"
   ]
  },
  {
   "cell_type": "code",
   "execution_count": 5,
   "metadata": {
    "ExecuteTime": {
     "end_time": "2017-10-20T12:50:07.973000Z",
     "start_time": "2017-10-20T12:50:07.951000Z"
    },
    "execution": {
     "iopub.execute_input": "2020-09-29T14:25:47.990852Z",
     "iopub.status.busy": "2020-09-29T14:25:47.990121Z",
     "iopub.status.idle": "2020-09-29T14:25:47.992807Z",
     "shell.execute_reply": "2020-09-29T14:25:47.993263Z"
    },
    "slideshow": {
     "slide_type": "fragment"
    }
   },
   "outputs": [
    {
     "name": "stdout",
     "output_type": "stream",
     "text": [
      "Number of links in this page:  551\n",
      "#Inhalt\n",
      "https://www.spiegel.de/\n",
      "https://abo.spiegel.de/?b=SPOHNAVABO&requestAccessToken=true&sara_icid=disp_upd_9h6L5hu8K1AAnttzYATx3hvk7taDkP&targetUrl=https%3A%2F%2Fwww.spiegel.de%2Ffuermich%2F\n",
      "https://gruppenkonto.spiegel.de/authenticate?requestAccessToken=true&targetUrl=https%3A%2F%2Fwww.spiegel.de%2Ffuermich%2F\n",
      "https://www.spiegel.de/fuermich/\n",
      "https://www.spiegel.de/\n",
      "https://www.spiegel.de/schlagzeilen/\n",
      "https://www.spiegel.de/plus/\n",
      "https://www.spiegel.de/audio/\n",
      "https://www.spiegel.de/fuermich/\n",
      "https://www.spiegel.de/schlagzeilen/\n",
      "https://www.spiegel.de/plus/\n",
      "https://www.spiegel.de/thema/coronavirus/\n",
      "https://www.spiegel.de/politik/deutschland/\n",
      "https://www.spiegel.de/politik/ausland/\n",
      "https://www.spiegel.de/panorama/\n",
      "https://www.spiegel.de/sport/\n",
      "https://www.spiegel.de/wirtschaft/\n",
      "https://www.spiegel.de/wissenschaft/\n",
      "https://www.spiegel.de/netzwelt/\n"
     ]
    }
   ],
   "source": [
    "hreflinks=[]\n",
    "Alllinks=soup.findAll('a') #The <a> tag defines a hyperlink, which is used to link from one page to another.\n",
    "for l in Alllinks:\n",
    "    if l.has_attr('href'):\n",
    "        hreflinks.append(l)\n",
    "print(\"Number of links in this page: \",len(hreflinks))\n",
    "for l in hreflinks[:20]:\n",
    "    print(l['href'])"
   ]
  },
  {
   "cell_type": "markdown",
   "metadata": {
    "slideshow": {
     "slide_type": "slide"
    }
   },
   "source": [
    "## Get all news titles\n",
    "Get title of all news, which are currently listed on [www.zeit.de](http://www.zeit.de):"
   ]
  },
  {
   "cell_type": "code",
   "execution_count": 6,
   "metadata": {
    "ExecuteTime": {
     "end_time": "2017-10-20T12:50:10.208000Z",
     "start_time": "2017-10-20T12:50:10.124000Z"
    },
    "execution": {
     "iopub.execute_input": "2020-09-29T14:25:48.005773Z",
     "iopub.status.busy": "2020-09-29T14:25:48.004378Z",
     "iopub.status.idle": "2020-09-29T14:25:48.018259Z",
     "shell.execute_reply": "2020-09-29T14:25:48.018746Z"
    },
    "slideshow": {
     "slide_type": "fragment"
    }
   },
   "outputs": [
    {
     "name": "stdout",
     "output_type": "stream",
     "text": [
      "----------------------------------------\n",
      "Uno-Vollversammlung: Maas attackiert Russland wegen Nawalnys Vergiftung\n",
      "https://www.spiegel.de/politik/ausland/alexej-nawalny-heiko-maas-attackiert-russland-vor-der-uno-wegen-vergiftung-des-kremlkritikers-a-b09293e8-2d0d-4360-aa57-0e38e6b37e8e\n",
      "----------------------------------------\n",
      "EU Commission Vice President on the Rule of Law in Europe: \"The Condition of Hungary's Media Landscape Is Alarming\"\n",
      "https://www.spiegel.de/international/europe/eu-commission-vice-president-on-the-rule-of-law-in-europe-the-condition-of-hungary-s-media-landscape-is-alarming-a-1d762f7d-b4a0-4cb8-b7a4-1a1ca5f4f9fa\n",
      "----------------------------------------\n",
      "Scheich Sabah al-Ahmed al-Sabah: Emir von Kuwait im Alter von 91 Jahren gestorben\n",
      "https://www.spiegel.de/politik/ausland/emir-von-kuwait-scheich-sabah-al-ahmed-al-sabah-ist-tot-a-efefd5c2-2355-4f3e-860b-590dc525b7c0\n",
      "----------------------------------------\n",
      "Glas- statt Einwegflaschen: Aldi Süd stoppt Mehrweg-Experiment\n",
      "https://www.spiegel.de/wirtschaft/service/aldi-sued-beendet-experiment-mit-mehrweg-flaschen-a-c8abdf32-17da-4f1e-8973-915320988454\n",
      "----------------------------------------\n",
      "Größtes Binnenfeuchtgebiet der Welt: Feuerbrünste in Brasilien vernichten doppelt so viel Fläche wie in Kalifornien\n",
      "https://www.spiegel.de/wissenschaft/natur/pantanal-feuerbruenste-in-brasilien-vernichten-doppelt-so-viel-flaeche-wie-in-kalifornien-a-10f3b58a-bdc9-4dab-bbbc-3b5e719f7404\n",
      "----------------------------------------\n",
      "Die große Leere im kleinen Deutschland\n",
      "https://www.spiegel.de/wirtschaft/corona-in-spanien-an-der-costa-del-sol-kollabiert-der-tourismus-a-81a49265-8db7-401b-bd51-91d6452dd5a9\n",
      "----------------------------------------\n",
      "Bund und Länder beschließen Bußgeld bei Angabe falscher Kontaktdaten\n",
      "https://www.spiegel.de/politik/deutschland/corona-krise-bund-und-laender-beschliessen-bussgeld-bei-angabe-falscher-kontaktdaten-a-cc3809f6-bc15-4a53-9f7d-340d03f3cb2a\n",
      "----------------------------------------\n",
      "Rot, Gelb, Grün - Söders Corona-Ampel im Check\n",
      "https://www.spiegel.de/wissenschaft/medizin/corona-was-taugt-soeders-plan-fuer-eine-ampel-a-737f9e18-36f6-4fc3-ab6e-1be3646fe330\n",
      "----------------------------------------\n",
      "EU-Bürger können ihre Corona-App ab Mitte Oktober länderübergreifend nutzen\n",
      "https://www.spiegel.de/wissenschaft/corona-news-am-dienstag-14-corona-faelle-bei-italienischem-erstligisten-genua-a-021cced7-29eb-4fa7-b096-b8fd50908f88\n",
      "----------------------------------------\n",
      "Was sich an Deutschlands Schulen ändern sollte\n",
      "https://www.spiegel.de/panorama/bildung/pisa-auswertung-was-sich-an-deutschlands-schulen-aendern-sollte-a-14743563-74bc-4046-b38f-3ed8978540c5\n",
      "----------------------------------------\n",
      "Fahnder filzen erneut Wirecard-Zentrale\n",
      "https://www.spiegel.de/wirtschaft/unternehmen/wirecard-fahnder-durchsuchen-erneut-konzernzentrale-a-e1e0aa44-24ea-41ed-a5fe-8407989447fa\n",
      "----------------------------------------\n",
      "Präsident im Schuldenpalast\n",
      "https://www.spiegel.de/wirtschaft/donald-trump-und-seine-steuern-praesident-im-schuldenpalast-a-d66532ee-2acc-46a1-ba0c-013df2d954cb\n",
      "----------------------------------------\n",
      "Bei Trumps Haussender regt sich Widerstand\n",
      "https://www.spiegel.de/kultur/tv/fox-news-bei-trumps-haussender-regt-sich-widerstand-a-80d60caf-0501-4da1-871a-1826f4d9caa4\n",
      "----------------------------------------\n",
      "23 Aktenordner Grauen\n",
      "https://www.spiegel.de/psychologie/wie-traumata-das-leben-junger-fluechtlinge-bestimmen-neue-studie-a-00000000-0002-0001-0000-000173216537\n",
      "----------------------------------------\n",
      "\"Alles leere Versprechungen\"\n",
      "https://www.spiegel.de/politik/ausland/lesbos-das-leben-im-neuen-fluechtlingslager-kara-tepe-ist-und-bleibt-der-horror-a-eb1015b8-f6fa-4dc4-aa3c-e6903bcb8c92\n",
      "----------------------------------------\n",
      "Angreifer wollte Büros von \"Charlie Hebdo\" anzünden\n",
      "https://www.spiegel.de/politik/ausland/charlie-hebdo-angreifer-wollte-bueros-der-satirezeitschrift-anzuenden-a-c3e17e2d-6114-45a8-97fc-fdb2e98ef161\n",
      "----------------------------------------\n",
      "Maas attackiert Russland wegen Nawalnys Vergiftung\n",
      "https://www.spiegel.de/politik/ausland/alexej-nawalny-heiko-maas-attackiert-russland-vor-der-uno-wegen-vergiftung-des-kremlkritikers-a-b09293e8-2d0d-4360-aa57-0e38e6b37e8e\n",
      "----------------------------------------\n",
      "\"Es gibt keine große Party, wir machen einfach auf\"\n",
      "https://www.spiegel.de/wirtschaft/ber-hautpstadtflughafen-soll-ohne-grosse-party-eroeffnet-werden-a-d9c3e2ac-a56f-4bfb-9419-338e0be8e4ea\n",
      "----------------------------------------\n",
      "Aldi Süd stoppt Mehrweg-Experiment\n",
      "https://www.spiegel.de/wirtschaft/service/aldi-sued-beendet-experiment-mit-mehrweg-flaschen-a-c8abdf32-17da-4f1e-8973-915320988454\n",
      "----------------------------------------\n",
      "Zweite Chance für die Einheit\n",
      "https://www.spiegel.de/politik/deutschland/deutschland-eine-reise-durch-den-osten-nach-30-jahren-deutscher-einheit-a-00000000-0002-0001-0000-000173216502\n",
      "----------------------------------------\n",
      "Feuerbrünste in Brasilien vernichten doppelt so viel Fläche wie in Kalifornien\n",
      "https://www.spiegel.de/wissenschaft/natur/pantanal-feuerbruenste-in-brasilien-vernichten-doppelt-so-viel-flaeche-wie-in-kalifornien-a-10f3b58a-bdc9-4dab-bbbc-3b5e719f7404\n",
      "----------------------------------------\n",
      "\"Kalifornien muss brennen\"\n",
      "https://www.spiegel.de/wissenschaft/natur/feuerhistoriker-ueber-waldbraende-in-den-usa-kalifornien-muss-brennen-a-00000000-0002-0001-0000-000173216535\n",
      "----------------------------------------\n",
      "\"Wer, wenn nicht Sie, gehört in den Knast?\"\n",
      "https://www.spiegel.de/panorama/justiz/gzuz-zu-gefaengnisstrafe-verurteilt-schlagabtausch-vor-gericht-a-e440651c-a574-4b90-9be8-971e40e242ee\n",
      "----------------------------------------\n",
      "Familie von 13-Jährigem soll 45.000 Euro für Amok-Fake bezahlen\n",
      "https://www.spiegel.de/panorama/justiz/hamburg-polizei-stellt-nach-fake-amoklauf-von-13-jaehrigem-45-000-euro-in-rechnung-a-ca13304b-2443-4a00-8837-983da3ee0607\n",
      "----------------------------------------\n",
      "Formel-1-Debüt für Mick Schumacher\n",
      "https://www.spiegel.de/sport/formel1/formel-1-mick-schumacher-gibt-am-nuerburgring-sein-trainings-debuet-a-7861c322-e17f-48ac-aa65-ece62edcd15a\n",
      "----------------------------------------\n",
      "Das Erwachen der Athleten\n",
      "https://www.spiegel.de/sport/belarus-sportler-beteiligen-sich-an-protesten-gegen-das-lukaschenko-regime-a-f4fd43c6-765f-40b0-8164-3535f48cbb95\n",
      "----------------------------------------\n",
      "Cooper vertreibt den Kummer\n",
      "https://www.spiegel.de/sport/eishockey/stanley-cup-sieger-tampa-bay-lightning-cooper-vertrieb-den-kummer-a-2de606c1-5174-4ebc-9ca3-c0ba5513248a\n",
      "----------------------------------------\n",
      "Streik - und jetzt?\n",
      "https://www.spiegel.de/karriere/warnstreik-was-sie-zum-streik-wissen-muessen-fragen-und-antworten-a-41e4356f-3373-47c6-af83-f51852cb5fd3\n",
      "----------------------------------------\n",
      "Alle sind verzichtbar, selbst Männer\n",
      "https://www.spiegel.de/kultur/arbeitszeit-alle-sind-verzichtbar-selbst-maenner-kolumne-a-05f8227b-5630-42dd-abcd-3648d4e927e9\n",
      "----------------------------------------\n",
      "Malta fordert Riesenhaizahn nun doch nicht von Prinz George zurück\n",
      "https://www.spiegel.de/panorama/leute/malta-fordert-riesenhaizahn-nun-doch-nicht-von-prinz-george-zurueck-a-d8232cf5-03b3-4460-8d9d-149a84330a46\n",
      "----------------------------------------\n",
      "Erasmus - muss das sein?\n",
      "https://www.spiegel.de/start/erasmus-trotz-corona-muss-das-sein-a-071945c9-4bbb-42e0-88da-a4fd718f9ec4\n",
      "----------------------------------------\n",
      "Wie bist du mit Zukunftsangst umgegangen, Oma?\n",
      "https://www.spiegel.de/start/zukunftsangst-wie-geht-man-damit-um-ein-gespraech-zwischen-oma-und-enkelin-a-b512fd13-62d2-4125-9dab-7e3458668eff\n",
      "----------------------------------------\n",
      "Der Ernst des Lebens muss nicht kompliziert sein\n",
      "https://www.spiegel.de/start/spiegel-start-das-neue-angebot-fuer-ausbildung-studium-und-berufseinstieg-a-c0771b67-403c-4c45-a19a-79b54bb4061e\n",
      "----------------------------------------\n",
      "Mit wenig Geld zum Happy Place\n",
      "https://www.spiegel.de/reise/deutschland/wohnwagen-kaufen-und-renovieren-mit-wenig-geld-zum-happy-place-a-356d325a-5891-40a0-a09a-035b31b6b19c\n",
      "----------------------------------------\n",
      "Ist Biden zu schwach, um Trump zu schlagen?\n",
      "https://www.spiegel.de/politik/ausland/us-wahl-2020-hat-joe-biden-die-kraft-donald-trump-zu-schlagen-a-00000000-0002-0001-0000-000173216476\n",
      "----------------------------------------\n",
      "\"Dem Urteil 'bemerkenswert' kann ich mich keinesfalls anschließen\"\n",
      "https://www.spiegel.de/wirtschaft/karl-theodor-zu-guttenberg-wirtschaftshistoriker-aeussert-zweifel-an-neuer-doktorarbeit-a-6d78926e-a8fa-4199-84c5-235784b57d40\n",
      "----------------------------------------\n",
      "\"Wir sind ordentliche Leute, ich schäme mich für diesen Präsidenten\"\n",
      "https://www.spiegel.de/politik/ausland/us-wahl-2020-und-die-vororte-wir-haben-den-trump-aus-der-gameshow-bekommen-a-00000000-0002-0001-0000-000173216479\n",
      "----------------------------------------\n",
      "Fieber messen in der Abtanzbar\n",
      "https://www.spiegel.de/wirtschaft/unternehmen/kreuzfahrt-branche-kaempft-in-corona-krise-gegen-den-untergang-sos-mein-schiff-a-00000000-0002-0001-0000-000173216511\n",
      "----------------------------------------\n",
      "Videos\n",
      "https://www.spiegel.de/video/\n",
      "----------------------------------------\n",
      "Kommentare und Kolumnen\n",
      "https://www.spiegel.de/thema/meinung/\n",
      "----------------------------------------\n",
      "Wir brauchen keine Spielchen\n",
      "https://www.spiegel.de/politik/ausland/staatsminister-michael-roth-zu-brexit-verhandlungen-hoechste-zeit-sich-zu-einigen-a-a6dc0007-8428-4bc0-beab-d1e806148c0a\n",
      "----------------------------------------\n",
      "Orbán auf dem Weg zum Sieg\n",
      "https://www.spiegel.de/politik/ausland/viktor-orban-auf-dem-weg-zum-sieg-a-d6c76a09-80ae-4c62-983d-3513939b468c\n",
      "----------------------------------------\n",
      "Endlich Schluss mit dem Last-minute-Lernen\n",
      "https://www.spiegel.de/start/erfolgreicher-studieren-schluss-mit-dem-last-minute-lernen-a-66d01b37-d473-4c38-9176-f9a7dcacb8b3\n",
      "----------------------------------------\n",
      "Söder in der Zwickmühle\n",
      "https://www.spiegel.de/politik/deutschland/atommuell-endlager-csu-chef-markus-soeder-in-der-zwickmuehle-a-5d93d00f-fdaa-40aa-9b9c-62cafa153fe9\n",
      "----------------------------------------\n",
      "Politik\n",
      "https://www.spiegel.de/politik/deutschland/\n",
      "----------------------------------------\n",
      "Haushaltsdebatte im Bundestag: Scholz verteidigt hohe Neuverschuldung in Coronakrise\n",
      "https://www.spiegel.de/politik/deutschland/corona-krise-olaf-scholz-verteidigt-bei-haushaltsdebatte-hohe-neuverschuldung-a-cb0be309-edb3-4615-b41c-2deb8de7279e\n",
      "----------------------------------------\n",
      "Debatte über neue Anti-Corona-Maßnahmen: Warum ist Angela Merkel eigentlich so vorsichtig?\n",
      "https://www.spiegel.de/politik/deutschland/debatte-ueber-neue-anti-corona-massnahmen-warum-ist-angela-merkel-eigentlich-so-vorsichtig-a-a63087d8-f69b-4bf7-b613-927b92f34cbb\n",
      "----------------------------------------\n",
      "Gründungsmitglied der Partei: Konrad Adam will AfD verlassen\n",
      "https://www.spiegel.de/politik/deutschland/afd-gruendungsmitglied-konrad-adam-will-partei-verlassen-a-2f120647-cf3f-4b24-9a93-04da3b3f6589\n",
      "----------------------------------------\n",
      "Ausland\n",
      "https://www.spiegel.de/politik/ausland/\n",
      "----------------------------------------\n",
      "Scheich Sabah al-Ahmed al-Sabah: Emir von Kuwait im Alter von 91 Jahren gestorben\n",
      "https://www.spiegel.de/politik/ausland/emir-von-kuwait-scheich-sabah-al-ahmed-al-sabah-ist-tot-a-efefd5c2-2355-4f3e-860b-590dc525b7c0\n",
      "----------------------------------------\n",
      "Institutionelles Rahmenabkommen: Jetzt beginnt der Ärger zwischen Bern und Brüssel erst\n",
      "https://www.spiegel.de/politik/ausland/schweiz-ursula-von-der-leyen-fordert-zuegigen-abschluss-des-institutionellen-rahmenabkommens-a-a248a034-d30d-400e-8537-f254a3a49f17\n",
      "----------------------------------------\n",
      "Treffen mit Swetlana Tichanowskaja: Macron bietet Vermittlung in Belarus an\n",
      "https://www.spiegel.de/politik/ausland/belarus-emmanuel-macron-bietet-nach-treffen-mit-swetlana-tichanowskaja-vermittlung-an-a-714b43ac-79b1-4f6f-929f-4e477704a90c\n",
      "----------------------------------------\n",
      "Panorama\n",
      "https://www.spiegel.de/panorama/\n",
      "----------------------------------------\n",
      "\"Mamma Mia!\"-Darstellerin: Amanda Seyfried bringt zweites Kind zur Welt\n",
      "https://www.spiegel.de/panorama/leute/amanda-seyfried-und-thomas-sadoski-bekommen-sohn-a-baa6153e-6af6-49c9-a1e4-e508ead18ad3\n",
      "----------------------------------------\n",
      "Schleswig-Holstein: 70 Jahre alter Juwelier überwältigt Räuber\n",
      "https://www.spiegel.de/panorama/justiz/timmendorfer-strand-in-schleswig-holstein-70-jahre-alter-juwelier-ueberwaeltigt-raeuber-a-9d55d5b5-8335-439d-bc0f-814bc3b81539\n",
      "----------------------------------------\n",
      "Islamist aus Mönchengladbach: Gefährder Raschid K. nach Russland abgeschoben\n",
      "https://www.spiegel.de/panorama/justiz/moenchengladbach-gefaehrder-raschid-k-nach-russland-abgeschoben-a-296f895e-19fe-4277-b980-234bfc9a5746\n",
      "----------------------------------------\n",
      "Sport\n",
      "https://www.spiegel.de/sport/\n",
      "----------------------------------------\n",
      "+++ Fußball-Transferticker +++: Geht Nastasic zu den Rossoneri?\n",
      "https://www.spiegel.de/sport/fussball/fussball-ac-mailand-zeigt-interesse-an-matija-nastasic-vom-fc-schalke-04-a-a7998941-ddc6-43b4-8014-f43c8f58b858\n",
      "----------------------------------------\n",
      "Operation Aderlass: Angeklagter Arzt legt in Dopingprozess umfassendes Geständnis ab\n",
      "https://www.spiegel.de/sport/operation-aderlass-arzt-legt-in-doping-prozess-umfassendes-gestaendnis-ab-a-9be6fdba-9e20-4970-bf30-2614a76eda7e\n",
      "----------------------------------------\n",
      "Belarus: Berüchtigter Dopingsünder wird Leichtathletik-Chef\n",
      "https://www.spiegel.de/sport/belarus-dopingsuender-iwan-tichon-wird-leichtathletik-chef-a-3790c065-8598-4f0f-a6b3-13935a647384\n",
      "----------------------------------------\n",
      "Wirtschaft\n",
      "https://www.spiegel.de/wirtschaft/\n",
      "----------------------------------------\n",
      "Coronakrise: Mehrheit der Deutschen unterstützt Eingriffe in die Wirtschaft\n",
      "https://www.spiegel.de/wirtschaft/soziales/coronakrise-mehrheit-der-deutschen-unterstuetzt-eingriffe-in-die-wirtschaft-a-ebc7c5fe-11de-4b3e-b7cd-3a9f50fc51e2\n",
      "----------------------------------------\n",
      "Nach Corona-Verlusten: Allianz-Tochter wehrt sich gegen Milliardenklagen von US-Fonds\n",
      "https://www.spiegel.de/wirtschaft/unternehmen/allianz-tochter-agi-wehrt-sich-nach-corona-einbruch-gegen-milliardenklagen-von-us-fonds-a-e5083cb7-6681-468a-accd-1962eb948d8a\n",
      "----------------------------------------\n",
      "2,1089 Billionen Euro: Staatsschulden erreichen Rekordhoch in Coronakrise\n",
      "https://www.spiegel.de/wirtschaft/soziales/staatsschulden-erreichen-rekordhoch-in-coronakrise-a-168137dd-c8cb-4f13-b4f2-c05572862b52\n",
      "----------------------------------------\n",
      "Erneute Durchsuchung: Razzia bei Wirecard - Ermittlungen gegen KfW-Tochter Ipex\n",
      "https://www.manager-magazin.de/unternehmen/neue-razzia-bei-wirecard-a-612ba8b3-1f66-41c3-a101-837ae3df846e\n",
      "----------------------------------------\n",
      "JAB Holding der Familie Reimann: Milliardärsmacher Peter Harf – Ende einer Legende\n",
      "https://www.manager-magazin.de/unternehmen/jab-holding-der-familie-reimann-das-ende-der-legende-peter-harf-a-00000000-0002-0001-0000-000173050949\n",
      "----------------------------------------\n",
      "Führungswechsel beim Pharmakonzern: Zweite Chefin eines Dax-Konzerns – Belén Garijo wird im Mai neue CEO von Merck\n",
      "https://www.manager-magazin.de/unternehmen/pharma/merck-kgaa-belen-garijo-wird-am-1-mai-2021-zweite-dax-chefin-a-23b1effd-fcc0-4e8d-8649-07f706438b20\n",
      "----------------------------------------\n",
      "Börsenkurse manager magazin\n",
      "https://boersen.manager-magazin.de\n",
      "----------------------------------------\n",
      "Wissenschaft\n",
      "https://www.spiegel.de/wissenschaft/\n",
      "----------------------------------------\n",
      "Am Südpol des Planeten: Seen unter dem Eispanzer des Mars entdeckt\n",
      "https://www.spiegel.de/wissenschaft/weltall/mars-seen-unter-dem-eispanzer-am-suedpol-des-planeten-entdeckt-a-2ae17d98-595d-45a0-9665-1de8e108e6be\n",
      "----------------------------------------\n",
      "Weltweite Fallzahlen: Johns-Hopkins-Universität meldet eine Million Todesfälle durch Coronavirus\n",
      "https://www.spiegel.de/wissenschaft/medizin/coronavirus-johns-hopkins-universitaet-meldet-eine-million-tote-durch-covid-19-a-e3db06be-b091-4c17-9f21-e1688a7d34b5\n",
      "----------------------------------------\n",
      "\"NetSat\"-Start: Satelliten mit Schwarmintelligenz\n",
      "https://www.spiegel.de/wissenschaft/weltall/netsat-start-satelliten-mit-schwarm-intelligenz-a-e0c40939-4adb-4a2b-98a5-7a1c9bbfae5d\n",
      "----------------------------------------\n",
      "Netzwelt\n",
      "https://www.spiegel.de/netzwelt/\n",
      "----------------------------------------\n",
      "Apple gegen Epic Games: Der \"Fortnite\"-Streit soll erst 2021 geklärt werden\n",
      "https://www.spiegel.de/netzwelt/apps/apple-gegen-epic-games-fortnite-streit-soll-erst-2021-geklaert-werden-a-26dce922-1924-419d-9911-c7333fa15abf\n",
      "----------------------------------------\n",
      "Verstöße gegen EU-Transparenzregeln: Undurchsichtige Lobbyarbeit der US-Techkonzerne aufgedeckt\n",
      "https://www.spiegel.de/netzwelt/netzpolitik/facebook-google-amazon-apple-microsoft-undurchsichtige-lobbyarbeit-aufgedeckt-a-432bb716-0844-4a1a-95c0-6bfec6e733c5\n",
      "----------------------------------------\n",
      "Krisenprojekt Bundes-IT: Rechnungshof rüffelt Kanzleramt\n",
      "https://www.spiegel.de/netzwelt/netzpolitik/bundesrechnungshof-rueffelt-kanzleramt-wegen-bundes-it-a-19275509-95d6-4299-9aaf-01810defddbb\n",
      "----------------------------------------\n",
      "Kultur\n",
      "https://www.spiegel.de/kultur/\n",
      "----------------------------------------\n",
      "Eine Million Corona-Tote: Wir sind die Überlebenden\n",
      "https://www.spiegel.de/kultur/corona-opfer-wir-sind-die-ueberlebenden-a-e9cab5f7-a271-47d1-ba90-abb0f8ec3640\n",
      "----------------------------------------\n",
      "ProSieben-Doku \"Rechts. Deutsch. Radikal\": Rechtsradikalen einfach mal zuhören\n",
      "https://www.spiegel.de/kultur/tv/prosieben-doku-rechts-deutsch-radikal-rechtsradikalen-einfach-mal-zuhoeren-a-c81e4502-da76-487d-88ec-df4e3b864874\n",
      "----------------------------------------\n",
      "Musiktheater: \"Opernhäuser des Jahres\" stehen in Frankfurt und Genf\n",
      "https://www.spiegel.de/kultur/musik/opernhaeuser-des-jahres-stehen-in-frankfurt-und-genf-a-c0f80e62-7278-408c-9990-7e4eaccbca55\n",
      "----------------------------------------\n",
      "Job & Karriere\n",
      "https://www.spiegel.de/karriere/\n",
      "----------------------------------------\n",
      "Tipps von der Karriereberaterin: Hilfe, mein Team streitet sich\n",
      "https://www.spiegel.de/karriere/streit-in-meinem-team-wie-soll-der-chef-reagieren-tipps-von-der-karriereberaterin-a-0cc670e6-d4e1-4416-92ff-4f4d857a0fc4\n",
      "----------------------------------------\n",
      "Businessfotos in der Coronakrise: Warum 23.000 Menschen über diese Profilbilder diskutieren\n",
      "https://www.spiegel.de/karriere/debatte-auf-linkedin-warum-23-000-menschen-ueber-den-wechsel-eines-profilbilds-diskutieren-a-8a1c0092-7a8e-458b-b7c7-532ec7396509\n",
      "----------------------------------------\n",
      "Rätsel der Woche: Wie lang muss die Kette sein?\n",
      "https://www.spiegel.de/karriere/sechs-zahnraeder-kettenlaenge-gesucht-raetsel-der-woche-a-175794b1-a4be-4323-becc-2d5a979a4d90\n",
      "----------------------------------------\n",
      "Start\n",
      "https://www.spiegel.de/start/\n",
      "----------------------------------------\n",
      "Leserinnenfrage: Darf meine Chefin trotz Kurzarbeit Überstunden anordnen?\n",
      "https://www.spiegel.de/start/ueberstunden-trotz-kurzarbeit-was-arbeitnehmer-tun-koennen-a-0624ba6f-34a4-4044-8a30-d5e4ad3d0422\n",
      "----------------------------------------\n",
      "Headhunter im Gespräch: \"Wir vermitteln Menschen, die wahnsinnig viel Geld verdienen\"\n",
      "https://www.spiegel.de/start/headhunter-werden-marc-hammer-ueber-seinen-berufsalltag-podcast-a-e02614ce-c977-41b1-8455-919ab2ff45c6\n",
      "----------------------------------------\n",
      "Versicherungen: Aus Schaden klug? So sichern sich Berufseinsteiger gut ab\n",
      "https://www.spiegel.de/start/versicherungen-fuer-berufseinsteiger-was-sinnvoll-ist-und-was-nicht-a-6d29a0e8-49ec-4bb9-b9ee-dbb83c40d389\n",
      "----------------------------------------\n",
      "Geschichte\n",
      "https://www.spiegel.de/geschichte/\n",
      "----------------------------------------\n",
      "Scharons Tempelberg-Besuch vor 20 Jahren: Der Fels und die Brandung\n",
      "https://www.spiegel.de/geschichte/ariel-scharon-auf-dem-tempelberg-2000-jerusalems-heiliger-umkaempfter-berg-a-23599066-05dc-4b2e-a4c2-a322267acb33\n",
      "----------------------------------------\n",
      "Oktoberfest-Attentat 1980: \"Ich dachte, Ignaz und Ilona schlafen\"\n",
      "https://www.spiegel.de/geschichte/oktoberfest-attentat-1980-die-toedliche-bombe-im-papierkorb-a-dc434c34-34b7-485e-a67c-fa884c965f55\n",
      "----------------------------------------\n",
      "Neue Funde zur Varusschlacht: Als der Kampf vorbei war, begann die Folter\n",
      "https://www.spiegel.de/geschichte/germanen-menschenopfer-nach-der-varusschlacht-a-b346a61a-c457-4274-8341-e642a8dca2fb\n",
      "----------------------------------------\n",
      "Tests\n",
      "https://www.spiegel.de/tests/\n",
      "----------------------------------------\n",
      "Outdoor-Hygiene: Diese Camping-Gadgets bringen Erleichterung\n",
      "https://www.spiegel.de/tests/camping/camping-gadgets-im-tests-diese-helfer-bringen-erleichterung-a-4f45e82e-461c-4a6f-8629-e270d8434533\n",
      "----------------------------------------\n",
      "Bestseller Link\n",
      "https://www.spiegel.de/kultur/bestseller-buecher-belletristik-sachbuch-auf-spiegel-liste-a-458623.html\n",
      "----------------------------------------\n",
      "Mobilität\n",
      "https://www.spiegel.de/auto/\n",
      "----------------------------------------\n",
      "Neulich im Stau: Die Leute im Audi sahen mich an, als ob ich ein Psychopath wäre\n",
      "https://www.spiegel.de/auto/leitkultur-die-leute-im-audi-sahen-mich-an-als-ob-ich-ein-psychopath-waere-a-00000000-0002-0001-0000-000173216530\n",
      "----------------------------------------\n",
      "Studie zu Plug-in-Hybriden: Die miese Klimabilanz der Hoffnungsträger\n",
      "https://www.spiegel.de/auto/plug-in-hybride-verbrauchen-zwei-bis-viermal-so-viel-wie-angegeben-icct-studie-a-041deaa5-c8b7-435b-a978-23577915d868\n",
      "----------------------------------------\n",
      "Günstige Oldtimer: Volvo 940/960: Der letzte Elch\n",
      "https://www.spiegel.de/auto/fahrkultur/volvo-940-960-als-guenstiger-oldtimer-der-letzte-elch-a-90bb0acf-3be5-467f-b7af-421b3bc814ab\n",
      "----------------------------------------\n",
      "Leben\n",
      "https://www.spiegel.de/thema/leben/\n",
      "----------------------------------------\n",
      "Wie weit ist es noch?\n",
      "https://www.spiegel.de/reise/ultramarsch-in-der-saechsischen-schweiz-100-kilometer-in-24-stunden-erlebnisbericht-a-0ad55241-42c6-459c-b2ac-9acdcbc08a61\n",
      "----------------------------------------\n",
      "Das Risikoempfinden wächst - und die Menschen werden trotzdem unvorsichtiger\n",
      "https://www.spiegel.de/gesundheit/diagnose/corona-so-hat-sich-die-einstellung-der-menschen-in-der-pandemie-veraendert-a-5c3b43d2-d895-4c84-bb0a-e29dd163a8e5\n",
      "----------------------------------------\n",
      "Warum geistig behinderte Menschen so oft sexuelle Gewalt erleben\n",
      "https://www.spiegel.de/familie/sexuelle-gewalt-gegen-menschen-mit-behinderung-ein-fall-und-seine-folgen-a-e1d5c5df-c6f6-4cec-88bf-e4ab4f2bb577\n",
      "----------------------------------------\n",
      "Pandemie, mach Pause\n",
      "https://www.spiegel.de/gesundheit/corona-weltweit-wie-sich-das-leben-veraendert-hat-a-dbe4b53d-a1c3-4844-b851-a3c1ec1d12b7\n",
      "----------------------------------------\n",
      "Die Natur schlägt zurück\n",
      "https://www.spiegel.de/stil/garten-kolumne-die-natur-schlaegt-zurueck-a-e7eaef33-be71-4bf6-b703-a6001b9202fa\n",
      "----------------------------------------\n",
      "Noch vier Jahre bis zum Mittelmeer\n",
      "https://www.spiegel.de/reise/fernweh/grande-traversata-delle-alpi-gta-michael-martin-ueberquert-die-alpen-a-a469e707-ac78-4071-8dea-038e6a80c49f\n",
      "----------------------------------------\n",
      "Interessante Brettspiele\n",
      "https://www.spiegel.de/thema/test_und_produkte/\n",
      "----------------------------------------\n",
      "Die Tafelrunde, das Schwert und der Gral\n",
      "https://www.spiegel.de/tests/brettspiele/brettspiele-um-die-artus-sage-tainted-grail-merlin-stonehenge-tipps-a-6ec2c8ff-9861-4a2b-9dae-889d572108b2\n",
      "----------------------------------------\n",
      "Fies gewinnt\n",
      "https://www.spiegel.de/tests/brettspiele/brettspiele-villainous-watergate-jaws-fies-gewinnt-a-2145d9d2-03c9-4ec3-bedb-7ed1107eddb8\n",
      "----------------------------------------\n",
      "In sieben außergewöhnlichen Brettspielen um die Welt\n",
      "https://www.spiegel.de/tests/brettspiele/brettspiele-im-test-in-sieben-spielen-um-die-welt-a-a8509df4-ad3c-4bd7-9a07-cae5df7bc033\n",
      "----------------------------------------\n",
      "Dein SPIEGEL\n",
      "https://www.spiegel.de/deinspiegel/\n",
      "----------------------------------------\n",
      "\"Künstler brauchen die Bühne\"\n",
      "https://www.spiegel.de/deinspiegel/singer-songwriterin-anne-marie-kuenstler-brauchen-die-buehne-a-00000000-0002-0001-0000-000172431259\n",
      "----------------------------------------\n",
      "Warum der Feldhamster vom Aussterben bedroht ist\n",
      "https://www.spiegel.de/deinspiegel/feldhamster-warum-er-vom-aussterben-bedroht-ist-a-00000000-0002-0001-0000-000172431249\n",
      "----------------------------------------\n",
      "Bild des Tages\n",
      "https://www.spiegel.de/fotostrecke/bilder-des-tages-fotos-aus-deutschland-und-der-welt-fotostrecke-122824.html\n"
     ]
    }
   ],
   "source": [
    "#print soup.get_text()hreflinks=[]\n",
    "AllTitles=soup.findAll('h2')\n",
    "alltitles=[]\n",
    "alltitleLinks=[]\n",
    "for l in AllTitles:\n",
    "    #print l\n",
    "    try:\n",
    "        title = l.find('a')['title']\n",
    "        link = l.find('a')['href']\n",
    "        print('-'*40)\n",
    "        print(title)\n",
    "        print(link)\n",
    "        alltitles.append(title)\n",
    "        alltitleLinks.append(link)\n",
    "    except:\n",
    "        pass"
   ]
  },
  {
   "cell_type": "markdown",
   "metadata": {
    "slideshow": {
     "slide_type": "slide"
    }
   },
   "source": [
    "## Get all images of the page\n",
    "\n",
    "Get url of all images, which are currently displayed on [www.zeit.de](http://www.zeit.de):"
   ]
  },
  {
   "cell_type": "code",
   "execution_count": 7,
   "metadata": {
    "ExecuteTime": {
     "end_time": "2017-10-20T12:50:12.456000Z",
     "start_time": "2017-10-20T12:50:12.440000Z"
    },
    "execution": {
     "iopub.execute_input": "2020-09-29T14:25:48.030354Z",
     "iopub.status.busy": "2020-09-29T14:25:48.029439Z",
     "iopub.status.idle": "2020-09-29T14:25:48.032178Z",
     "shell.execute_reply": "2020-09-29T14:25:48.032647Z"
    },
    "slideshow": {
     "slide_type": "fragment"
    }
   },
   "outputs": [
    {
     "name": "stdout",
     "output_type": "stream",
     "text": [
      "data:image/gif;base64,R0lGODlhAQABAAAAACH5BAEKAAEALAAAAAABAAEAAAICTAEAOw==\n",
      "https://cdn.prod.www.spiegel.de/images/0d2162a7-3c8b-4769-8f68-de426daa6229_w948_r2.11_fpx55.32_fpy55.jpg\n",
      "https://cdn.prod.www.spiegel.de/images/0d2162a7-3c8b-4769-8f68-de426daa6229_w920_r1.77_fpx55.32_fpy55.jpg\n",
      "https://cdn.prod.www.spiegel.de/images/0f7071ea-0001-0004-0000-000001450974_w117_r1.33_fpx57.04_fpy50.jpg\n",
      "https://cdn.prod.www.spiegel.de/images/0f7071ea-0001-0004-0000-000001450974_w488_r1.77_fpx57.04_fpy50.jpg\n",
      "https://cdn.prod.www.spiegel.de/images/ba758107-025f-4ac1-953a-284a9902bf6f_w117_r1.33_fpx42.3_fpy50.jpg\n",
      "https://cdn.prod.www.spiegel.de/images/ba758107-025f-4ac1-953a-284a9902bf6f_w117_r1.33_fpx42.3_fpy50.jpg\n",
      "https://cdn.prod.www.spiegel.de/images/ba758107-025f-4ac1-953a-284a9902bf6f_w488_r1.77_fpx42.3_fpy50.jpg\n",
      "https://cdn.prod.www.spiegel.de/images/ba758107-025f-4ac1-953a-284a9902bf6f_w488_r1.77_fpx42.3_fpy50.jpg\n",
      "https://cdn.prod.www.spiegel.de/images/9b3cdff0-9dcb-416c-8d47-ceff35b96f1c_w117_r1.33_fpx48_fpy47.jpg\n"
     ]
    }
   ],
   "source": [
    "imglinks=[]\n",
    "AllImgs=soup.findAll('img')\n",
    "for l in AllImgs:\n",
    "    if l.has_attr('src'):\n",
    "       imglinks.append(l)\n",
    "\n",
    "for l in imglinks[:10]:\n",
    "    print(l['src'])"
   ]
  },
  {
   "cell_type": "markdown",
   "metadata": {
    "slideshow": {
     "slide_type": "slide"
    }
   },
   "source": [
    "## Get entire text of a news-article"
   ]
  },
  {
   "cell_type": "code",
   "execution_count": 8,
   "metadata": {
    "ExecuteTime": {
     "end_time": "2017-10-20T13:09:24.145000Z",
     "start_time": "2017-10-20T13:09:23.833000Z"
    },
    "execution": {
     "iopub.execute_input": "2020-09-29T14:25:48.046534Z",
     "iopub.status.busy": "2020-09-29T14:25:48.037482Z",
     "iopub.status.idle": "2020-09-29T14:25:48.388679Z",
     "shell.execute_reply": "2020-09-29T14:25:48.389167Z"
    },
    "slideshow": {
     "slide_type": "fragment"
    }
   },
   "outputs": [
    {
     "name": "stdout",
     "output_type": "stream",
     "text": [
      "Heiko Maas bei der Uno (Archivfoto vom Februar)\n",
      "Heiko Maas hat die Vergiftung des Kremlkritikers Alexej Nawalny mit einem chemischen Kampfstoff als \"Problem für die ganze Staatengemeinschaft\" bezeichnet und Russland erneut mit Sanktionen gedroht. In seiner vorab aufgezeichneten Videoansprache vor der Uno-Vollversammlung sagte der Bundesaußenminister, dass es um einen Verstoß gegen das Chemiewaffenverbot und damit die Missachtung eines existenziellen Prinzips internationaler Zusammenarbeit gehe.\n",
      "\"Ich fordere Russland auf, mehr zu tun zur Aufklärung dieses Falls. Ein solcher Fall kann nicht folgenlos bleiben\", sagte Maas. Deshalb behalte sich die Europäische Union die Verhängung von Sanktionen vor. \"Und wir sind unseren Partnern weltweit dankbar für ihre klare Unterstützung dabei.\"\n",
      "Nawalny ist einer der schärfsten Kritiker des russischen Präsidenten Wladimir Putin. Nach dem Befund eines Bundeswehr-Speziallabors sowie zweier weiterer Labors in Schweden und Frankreich wurde er mit einem international verbotenen Nervenkampfstoff der sogenannten Nowitschok-Gruppe vergiftet. Nawalny war im August während eines Inlandsflugs in Russland zusammengebrochen und wurde später zur Behandlung in das Berliner Krankenhaus Charité gebracht. Wochenlang lag er dort in einem künstlichen Koma, wurde inzwischen aber entlassen und hält sich weiter in Berlin auf. Russland weist alle Vorwürfe zurück, in den Fall verwickelt zu sein.\n",
      "Maas sprach neben dem Fall Nawalny eine Reihe weiterer Themen an. So drohte er auch dem belarussischen Präsidenten Alexander Lukaschenko mit Sanktionen, dessen Wiederwahl von Deutschland und der EU wegen des Vorwurfs der Wahlfälschung nicht anerkannt wird. Lukaschenko habe alle Angebote der Vermittlung zwischen ihm und der gegen ihn demonstrierenden Opposition ausgeschlagen und setze weiter auf Gewalt und Unterdrückung, sagte Maas.\n",
      "Wegen des Machtkampfes in Libyen rief Maas dazu auf, jegliche Einmischung von außen einzustellen. Die Annäherung zwischen den Konfliktparteien sei zwar ein großer Schritt nach vorne. \"Doch für eine Lösung müssen jetzt auch die Kräfte von außerhalb endlich einlenken. Sie müssen aufhören, immer noch Waffen und Söldner zu schicken und so den Konflikt zu befeuern.\" Beim Libyen-Gipfel hatten sich die in den Konflikt verwickelten Staaten wie Russland, die Türkei und die Vereinigten Arabischen Emirate dazu verpflichtet, alle Waffenlieferungen in das Bürgerkriegsland sowie andere militärische Unterstützung einzustellen. Bisher ist es aber nicht dazu gekommen.\n",
      "Nach der Normalisierung der Beziehungen zwischen Israel und arabischen Golfstaaten hofft Maas auf die Wiederaufnahme von Friedensgesprächen zwischen Israel und den Palästinensern. \"Diese neue Dynamik sollte von den Parteien genutzt werden für neue, ernsthafte Verhandlungen über eine Zwei-Staaten-Lösung, die allein dauerhaften Frieden verspricht\", sagte Maas.\n",
      "Er verteidigte zudem das Atomabkommen mit dem Iran (JCPoA), gegen das die USA mit Sanktionen vorgehen. \"Ein Ende des JCPoA bringt allenfalls Iran einen Schritt näher an die Atombombe\", sagte er. \"Und deshalb stehen wir als Teilnehmer des JCPoA weiter zu dessen voller Geltung und fordern Iran auf, es ebenfalls vollständig einzuhalten.\" Iran hat das Abkommen mehrfach gebrochen. Allerdings können auch die beteiligten europäischen Staaten Deutschland, Frankreich und Großbritannien ihre Verpflichtung zu einer verstärkten Wirtschaftskooperation mit Iran wegen der US-Sanktionen nicht mehr einhalten. Die USA sind aus dem Abkommen ausgestiegen.\n",
      "\n",
      "SPIEGEL+-Zugang wird gerade auf einem anderen Gerät genutzt\n",
      "\n",
      "\n",
      "SPIEGEL+ kann nur auf einem Gerät zur selben Zeit genutzt werden.\n",
      "\n",
      "\n",
      "Klicken Sie auf den Button, spielen wir den Hinweis auf dem anderen Gerät aus und Sie können SPIEGEL+ weiter nutzen.\n",
      "\n",
      "\n",
      "Heiko Maas bei der Uno (Archivfoto vom Februar)\n",
      "Melden Sie sich an und diskutieren Sie mit\n"
     ]
    }
   ],
   "source": [
    "IDX=0\n",
    "suburl=alltitleLinks[IDX]\n",
    "try:\n",
    "    html=urlopen(suburl).read() #works if subdomains are referenced by absolute path\n",
    "except:\n",
    "    html=urlopen(url+suburl).read() #works if subdomains are referenced by relative path\n",
    "soup=BeautifulSoup(html,\"html.parser\")\n",
    "AllP=soup.findAll('p')\n",
    "for p in AllP:\n",
    "    print(p.get_text())"
   ]
  },
  {
   "cell_type": "markdown",
   "metadata": {
    "collapsed": true,
    "slideshow": {
     "slide_type": "skip"
    }
   },
   "source": [
    "## Questions and Remarks\n",
    "1. This notebook demonstrates how raw-text can be crawled from news-sites. But what is the drawback of this method?\n",
    "2. Execute the entire notebook also for `www.spiegel.de` and `www.sueddeutsche.de`.\n",
    "3. What do you observe? How to solve the problem?"
   ]
  },
  {
   "cell_type": "code",
   "execution_count": null,
   "metadata": {
    "collapsed": true
   },
   "outputs": [],
   "source": []
  }
 ],
 "metadata": {
  "celltoolbar": "Slideshow",
  "kernelspec": {
   "display_name": "Python 3",
   "language": "python",
   "name": "python3"
  },
  "language_info": {
   "codemirror_mode": {
    "name": "ipython",
    "version": 3
   },
   "file_extension": ".py",
   "mimetype": "text/x-python",
   "name": "python",
   "nbconvert_exporter": "python",
   "pygments_lexer": "ipython3",
   "version": "3.7.7"
  },
  "nav_menu": {},
  "toc": {
   "base_numbering": 1,
   "nav_menu": {},
   "number_sections": true,
   "sideBar": true,
   "skip_h1_title": false,
   "title_cell": "Table of Contents",
   "title_sidebar": "Contents",
   "toc_cell": false,
   "toc_position": {},
   "toc_section_display": "block",
   "toc_window_display": false
  },
  "varInspector": {
   "cols": {
    "lenName": 16,
    "lenType": 16,
    "lenVar": 40
   },
   "kernels_config": {
    "python": {
     "delete_cmd_postfix": "",
     "delete_cmd_prefix": "del ",
     "library": "var_list.py",
     "varRefreshCmd": "print(var_dic_list())"
    },
    "r": {
     "delete_cmd_postfix": ") ",
     "delete_cmd_prefix": "rm(",
     "library": "var_list.r",
     "varRefreshCmd": "cat(var_dic_list()) "
    }
   },
   "types_to_exclude": [
    "module",
    "function",
    "builtin_function_or_method",
    "instance",
    "_Feature"
   ],
   "window_display": false
  }
 },
 "nbformat": 4,
 "nbformat_minor": 1
}