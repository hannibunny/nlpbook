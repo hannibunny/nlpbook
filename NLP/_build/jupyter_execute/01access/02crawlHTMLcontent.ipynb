{
 "cells": [
  {
   "cell_type": "markdown",
   "metadata": {
    "slideshow": {
     "slide_type": "slide"
    }
   },
   "source": [
    "# Access Contents of HTML Page\n",
    "\n",
    "- Author:      Johannes Maucher\n",
    "- Last update: 2018-10-21\n",
    "\n",
    "This notebook demonstrates how to parse a HTML document and access dedicated elements of the parse tree.\n",
    "[Beautiful Soup](http://www.crummy.com/software/BeautifulSoup/bs4/doc/#) is a python package for parsing HTML. Download and install version 4 by typing:\n",
    "\n",
    "> `pip install beautifulsoup4`\n",
    "\n",
    "into the command shell. Once it is installed it can be imported by"
   ]
  },
  {
   "cell_type": "code",
   "execution_count": 1,
   "metadata": {
    "ExecuteTime": {
     "end_time": "2017-10-20T12:50:00.898000Z",
     "start_time": "2017-10-20T12:50:00.893000Z"
    },
    "execution": {
     "iopub.execute_input": "2020-09-11T10:27:44.175028Z",
     "iopub.status.busy": "2020-09-11T10:27:44.174006Z",
     "iopub.status.idle": "2020-09-11T10:27:44.268887Z",
     "shell.execute_reply": "2020-09-11T10:27:44.269357Z"
    },
    "slideshow": {
     "slide_type": "fragment"
    }
   },
   "outputs": [],
   "source": [
    "from bs4 import BeautifulSoup"
   ]
  },
  {
   "cell_type": "markdown",
   "metadata": {
    "slideshow": {
     "slide_type": "slide"
    }
   },
   "source": [
    "For accessing arbitrary resources by URL the python modul [urllib](https://docs.python.org/2/library/urllib.html) must also be installed. Import the method _urlopen()_ from this module:  "
   ]
  },
  {
   "cell_type": "code",
   "execution_count": 2,
   "metadata": {
    "ExecuteTime": {
     "end_time": "2017-10-20T12:50:02.246000Z",
     "start_time": "2017-10-20T12:50:02.242000Z"
    },
    "execution": {
     "iopub.execute_input": "2020-09-11T10:27:44.273499Z",
     "iopub.status.busy": "2020-09-11T10:27:44.272849Z",
     "iopub.status.idle": "2020-09-11T10:27:44.275198Z",
     "shell.execute_reply": "2020-09-11T10:27:44.275673Z"
    },
    "slideshow": {
     "slide_type": "fragment"
    }
   },
   "outputs": [],
   "source": [
    "from urllib.request import urlopen"
   ]
  },
  {
   "cell_type": "markdown",
   "metadata": {
    "slideshow": {
     "slide_type": "fragment"
    }
   },
   "source": [
    "If these two modules are available the HTML parse tree of the specified URL can easily be generated as follows."
   ]
  },
  {
   "cell_type": "code",
   "execution_count": 3,
   "metadata": {
    "ExecuteTime": {
     "end_time": "2017-10-20T12:50:04.344000Z",
     "start_time": "2017-10-20T12:50:03.569000Z"
    },
    "execution": {
     "iopub.execute_input": "2020-09-11T10:27:44.280111Z",
     "iopub.status.busy": "2020-09-11T10:27:44.279460Z",
     "iopub.status.idle": "2020-09-11T10:27:44.962122Z",
     "shell.execute_reply": "2020-09-11T10:27:44.962576Z"
    },
    "slideshow": {
     "slide_type": "fragment"
    }
   },
   "outputs": [],
   "source": [
    "#url=\"http://www.zeit.de\"\n",
    "url=\"http://www.spiegel.de\"\n",
    "#url=\"http://www.sueddeutsche.de\"\n",
    "html=urlopen(url).read()\n",
    "soup=BeautifulSoup(html,\"html.parser\")"
   ]
  },
  {
   "cell_type": "markdown",
   "metadata": {
    "slideshow": {
     "slide_type": "slide"
    }
   },
   "source": [
    "Now e.g. the title of the URL can be accessed by:"
   ]
  },
  {
   "cell_type": "code",
   "execution_count": 4,
   "metadata": {
    "ExecuteTime": {
     "end_time": "2017-10-20T12:50:06.092000Z",
     "start_time": "2017-10-20T12:50:06.086000Z"
    },
    "execution": {
     "iopub.execute_input": "2020-09-11T10:27:44.966850Z",
     "iopub.status.busy": "2020-09-11T10:27:44.966175Z",
     "iopub.status.idle": "2020-09-11T10:27:44.968953Z",
     "shell.execute_reply": "2020-09-11T10:27:44.969402Z"
    },
    "slideshow": {
     "slide_type": "fragment"
    }
   },
   "outputs": [
    {
     "name": "stdout",
     "output_type": "stream",
     "text": [
      "Title of page:   DER SPIEGEL | Online-Nachrichten\n"
     ]
    }
   ],
   "source": [
    "titleTag = soup.html.head.title\n",
    "print(\"Title of page:  \",titleTag.string)"
   ]
  },
  {
   "cell_type": "markdown",
   "metadata": {
    "slideshow": {
     "slide_type": "slide"
    }
   },
   "source": [
    "## Get all links in the page\n",
    "All links in the page can be retrieven by the following code (only the first 20 links are printed)"
   ]
  },
  {
   "cell_type": "code",
   "execution_count": 5,
   "metadata": {
    "ExecuteTime": {
     "end_time": "2017-10-20T12:50:07.973000Z",
     "start_time": "2017-10-20T12:50:07.951000Z"
    },
    "execution": {
     "iopub.execute_input": "2020-09-11T10:27:44.981012Z",
     "iopub.status.busy": "2020-09-11T10:27:44.980019Z",
     "iopub.status.idle": "2020-09-11T10:27:44.983080Z",
     "shell.execute_reply": "2020-09-11T10:27:44.983614Z"
    },
    "slideshow": {
     "slide_type": "fragment"
    }
   },
   "outputs": [
    {
     "name": "stdout",
     "output_type": "stream",
     "text": [
      "Number of links in this page:  552\n",
      "#Inhalt\n",
      "https://www.spiegel.de/nutzungsbedingungen\n",
      "https://www.spiegel.de/\n",
      "https://abo.spiegel.de/?b=SPOHNAVABO&requestAccessToken=true&sara_icid=disp_upd_9h6L5hu8K1AAnttzYATx3hvk7taDkP&targetUrl=https%3A%2F%2Fwww.spiegel.de%2Ffuermich%2F\n",
      "https://gruppenkonto.spiegel.de/authenticate?requestAccessToken=true&targetUrl=https%3A%2F%2Fwww.spiegel.de%2Ffuermich%2F\n",
      "https://www.spiegel.de/fuermich/\n",
      "https://www.spiegel.de/\n",
      "https://www.spiegel.de/schlagzeilen/\n",
      "https://www.spiegel.de/plus/\n",
      "https://www.spiegel.de/audio/\n",
      "https://www.spiegel.de/fuermich/\n",
      "https://www.spiegel.de/schlagzeilen/\n",
      "https://www.spiegel.de/plus/\n",
      "https://www.spiegel.de/thema/coronavirus/\n",
      "https://www.spiegel.de/politik/deutschland/\n",
      "https://www.spiegel.de/politik/ausland/\n",
      "https://www.spiegel.de/panorama/\n",
      "https://www.spiegel.de/sport/\n",
      "https://www.spiegel.de/wirtschaft/\n",
      "https://www.spiegel.de/netzwelt/\n"
     ]
    }
   ],
   "source": [
    "hreflinks=[]\n",
    "Alllinks=soup.findAll('a') #The <a> tag defines a hyperlink, which is used to link from one page to another.\n",
    "for l in Alllinks:\n",
    "    if l.has_attr('href'):\n",
    "        hreflinks.append(l)\n",
    "print(\"Number of links in this page: \",len(hreflinks))\n",
    "for l in hreflinks[:20]:\n",
    "    print(l['href'])"
   ]
  },
  {
   "cell_type": "markdown",
   "metadata": {
    "slideshow": {
     "slide_type": "slide"
    }
   },
   "source": [
    "## Get all news titles\n",
    "Get title of all news, which are currently listed on [www.zeit.de](http://www.zeit.de):"
   ]
  },
  {
   "cell_type": "code",
   "execution_count": 6,
   "metadata": {
    "ExecuteTime": {
     "end_time": "2017-10-20T12:50:10.208000Z",
     "start_time": "2017-10-20T12:50:10.124000Z"
    },
    "execution": {
     "iopub.execute_input": "2020-09-11T10:27:44.996182Z",
     "iopub.status.busy": "2020-09-11T10:27:44.994592Z",
     "iopub.status.idle": "2020-09-11T10:27:45.008241Z",
     "shell.execute_reply": "2020-09-11T10:27:45.008698Z"
    },
    "slideshow": {
     "slide_type": "fragment"
    }
   },
   "outputs": [
    {
     "name": "stdout",
     "output_type": "stream",
     "text": [
      "----------------------------------------\n",
      "Dortmund: Mann hortete offenbar Waffen - Polizei führt zwei Sprengungen durch\n",
      "https://www.spiegel.de/panorama/justiz/dortmund-mann-hortete-offenbar-waffen-polizei-fuehrt-zwei-sprengungen-durch-a-3561b5c2-2a16-4fa9-b712-ecc0b1127a15\n",
      "----------------------------------------\n",
      "Verdacht auf Untreue: Staatsanwaltschaft ermittelt im Fall Rudi Assauer\n",
      "https://www.spiegel.de/panorama/justiz/fall-rudi-assauer-staatsanwaltschaft-ermittelt-wegen-untreue-a-00000000-0002-0001-0000-000172993183\n",
      "----------------------------------------\n",
      "Moria und die scheinheilige Flüchtlingspolitik: Die Schande und die Schuldigen\n",
      "https://www.spiegel.de/politik/ausland/moria-und-die-scheinheiligkeit-der-fluechtlingspolitik-europas-schande-a-00000000-0002-0001-0000-000172993179\n",
      "----------------------------------------\n",
      "Deutscher Presserat: \"Bild\" für Artikel über Drosten-Studie gerügt\n",
      "https://www.spiegel.de/kultur/bild-artikel-ueber-christian-drosten-presserat-spricht-ruege-aus-a-bed3213e-79d7-47dd-8871-89de952a4a4c\n",
      "----------------------------------------\n",
      "Vettel über Aston Martin: \"Eine der spannendsten Geschichten, die der Formel 1 passieren konnte\"\n",
      "https://www.spiegel.de/sport/formel1/sebastian-vettel-ueber-aston-martin-grossartig-ein-teil-davon-zu-sein-a-41d8477c-5644-4d1f-9a24-5e822cec0008\n",
      "----------------------------------------\n",
      "Sollten die Beschäftigten im öffentlichen Dienst mehr Geld bekommen?\n",
      "https://www.spiegel.de/wirtschaft/oeffentlicher-dienst-im-tarif-konflikt-maessig-bezahlt-haeufig-befristet-a-5883b72d-4745-407d-8cc1-1ba9d0c0f892\n",
      "----------------------------------------\n",
      "\"Das Wichtigste ist die Hilfe vor Ort\"\n",
      "https://www.spiegel.de/politik/deutschland/moria-horst-seehofer-stellt-drei-punkte-plan-vor-a-cb767e5d-5c02-4f20-b5bd-9209db902421\n",
      "----------------------------------------\n",
      "Großbritannien und Japan beschließen Freihandelsabkommen\n",
      "https://www.spiegel.de/wirtschaft/grossbritannien-und-japan-sich-auf-freihandelsabkommen-a-b6153dda-de61-440a-864e-5d724df82cb7\n",
      "----------------------------------------\n",
      "Russland will im Fall Nawalny Ermittler nach Deutschland schicken\n",
      "https://www.spiegel.de/politik/ausland/alexej-nawalny-russland-will-ermittler-nach-deutschland-schicken-a-3e84e2bb-3ff2-40cf-aa46-41839de31d3c\n",
      "----------------------------------------\n",
      "\"Ich setze auf die Genialität unserer Ingenieure\"\n",
      "https://www.spiegel.de/politik/deutschland/peter-altmaier-ueber-neue-klimastrategie-setze-auf-die-genialitaet-unserer-ingenieure-a-00000000-0002-0001-0000-000172993199\n",
      "----------------------------------------\n",
      "Deutsche Marine verhindert Verstoß gegen Waffenembargo in Libyen\n",
      "https://www.spiegel.de/politik/ausland/libyen-bundeswehr-verhindert-verstoss-gegen-waffenembargo-a-80304e2f-e3cd-4880-9ade-a31fed0b3145\n",
      "----------------------------------------\n",
      "Covid-19-Pandemie\n",
      "https://www.spiegel.de/thema/coronavirus/\n",
      "----------------------------------------\n",
      "Israel steht vor erneutem Lockdown\n",
      "https://www.spiegel.de/wissenschaft/medizin/corona-news-am-freitag-alle-entwicklungen-zu-covid-19-und-sars-cov-2-im-ueberblick-a-2d4100cb-56be-496a-8d62-63873b411f78\n",
      "----------------------------------------\n",
      "\"Bild\" für Artikel über Drosten-Studie gerügt\n",
      "https://www.spiegel.de/kultur/bild-artikel-ueber-christian-drosten-presserat-spricht-ruege-aus-a-bed3213e-79d7-47dd-8871-89de952a4a4c\n",
      "----------------------------------------\n",
      "Sorgen Masken unbemerkt für Immunität?\n",
      "https://www.spiegel.de/wissenschaft/medizin/covid-19-sorgen-masken-unbemerkt-fuer-immunitaet-a-97ecf46f-d45d-4703-8e3b-584c8da319cc\n",
      "----------------------------------------\n",
      "Meine Sprechstunde bei Dr. Schiffmann\n",
      "https://www.spiegel.de/panorama/leute/corona-proteste-sprechstunde-bei-dr-bodo-schiffmann-podcast-a-c9a49c8a-beb9-495b-8f47-8f7afd0f0ef1\n",
      "----------------------------------------\n",
      "Ein besetzter McDonald's bringt sein Viertel durch die Pandemie\n",
      "https://www.bento.de/bento/wie-ein-besetzter-mcdonald-s-marseilles-arme-viertel-durch-die-pandemie-bringt-a-cc5d31d2-15a0-4653-8c78-b629e4cb00d6#refsponi\n",
      "----------------------------------------\n",
      "Das Lobbyregisterchen\n",
      "https://www.spiegel.de/politik/deutschland/lobbyregister-fuer-deutschland-die-wichtigsten-fragen-und-antworten-a-76061d1e-7f83-4050-a6bc-baba64a489f8\n",
      "----------------------------------------\n",
      "Im Kampf gegen die Söder-Übermacht\n",
      "https://www.spiegel.de/politik/deutschland/freie-waehler-in-bayern-kampf-gegen-die-markus-soeder-uebermacht-a-f89341c2-38eb-455b-ad1e-83264f460023\n",
      "----------------------------------------\n",
      "Verteidigungsministerium plant weibliche Dienstgrade bei der Bundeswehr\n",
      "https://www.spiegel.de/politik/deutschland/bundeswehr-verteidigungsministerium-plant-weibliche-dienstgrade-a-a03d8e92-b02e-4b8e-b225-afcafe385b7f\n",
      "----------------------------------------\n",
      "\"Ich kann den Moment nicht vergessen, als ich die Hand Eurer Exzellenz hielt\"\n",
      "https://www.spiegel.de/politik/ausland/kim-jong-un-und-donald-trump-bizarre-brieffreunde-a-441fd1d6-3cb1-4bb7-b36d-3943a1e17eff\n",
      "----------------------------------------\n",
      "Donald Trump vergleicht sich selbst mit Winston Churchill\n",
      "https://www.spiegel.de/politik/ausland/donald-trump-vergleicht-sich-selbst-mit-winston-churchill-a-55846f04-c6c4-4506-9bcc-521c49831363\n",
      "----------------------------------------\n",
      "Joe Biden setzt auf \"Buy American\"\n",
      "https://www.spiegel.de/wirtschaft/usa-im-praesidentschaftswahlkampf-joe-biden-setzt-auf-buy-american-a-067b54d6-7cf0-4663-bdba-a753944c289d\n",
      "----------------------------------------\n",
      "Mann hortete offenbar Waffen - Polizei führt zwei Sprengungen durch\n",
      "https://www.spiegel.de/panorama/justiz/dortmund-mann-hortete-offenbar-waffen-polizei-fuehrt-zwei-sprengungen-durch-a-3561b5c2-2a16-4fa9-b712-ecc0b1127a15\n",
      "----------------------------------------\n",
      "Bundesgerichtshof bestätigt Urteil gegen Niels Högel\n",
      "https://www.spiegel.de/panorama/justiz/niels-hoegel-bundesgerichtshof-bestaetigt-urteil-gegen-patientenmoerder-a-4b751fdc-82d5-410d-b94d-14e603f5fde2\n",
      "----------------------------------------\n",
      "Staatsanwaltschaft ermittelt im Fall Rudi Assauer\n",
      "https://www.spiegel.de/panorama/justiz/fall-rudi-assauer-staatsanwaltschaft-ermittelt-wegen-untreue-a-00000000-0002-0001-0000-000172993183\n",
      "----------------------------------------\n",
      "Es wird bergig - kann Roglic das Gelbe Trikot verteidigen?\n",
      "https://sportdaten.spiegel.de/radsport/tour-de-france/ma9003157/liveticker/\n",
      "----------------------------------------\n",
      "Der Philosoph des Pelotons\n",
      "https://www.spiegel.de/sport/tour-de-france-2020-guillaume-martin-ist-der-philosoph-des-pelotons-a-fbf2e843-d588-43e1-8725-2a1dfdb6a642\n",
      "----------------------------------------\n",
      "\"Mission Erlösung\"\n",
      "https://www.spiegel.de/sport/formel1/sebastian-vettel-zu-aston-martin-pressestimmen-mission-erloesung-a-93c7df09-7de0-470f-8507-a7d205c5955f\n",
      "----------------------------------------\n",
      "Bin ich schuld, wenn mein Sohn gehänselt wird?\n",
      "https://www.spiegel.de/familie/junge-in-maedchenklamotten-bin-ich-schuld-wenn-mein-sohn-gehaenselt-wird-kolumne-a-ff549ba4-0b97-4da0-aecb-a8753d467214\n",
      "----------------------------------------\n",
      "\"Boris Johnson hat das Vereinigte Königreich in einen Clown-Staat verwandelt\"\n",
      "https://www.spiegel.de/politik/ausland/john-kampfner-boris-johnson-hat-das-vereinigte-koenigreich-in-einen-clown-staat-verwandelt-a-33358e2a-66b1-4e9a-a1aa-5a3749c30529\n",
      "----------------------------------------\n",
      "Trumps unbeirrbare 40 Prozent\n",
      "https://www.spiegel.de/wirtschaft/usa-wahlen-die-furcht-vor-donald-trumps-40-prozent-a-18589437-1af5-4baa-9899-975c9c4abb82\n",
      "----------------------------------------\n",
      "Sex? Interessiert sie einfach nicht\n",
      "https://www.spiegel.de/panorama/gesellschaft/asexualitaet-sex-interessiert-sie-einfach-nicht-a-d2722569-3b51-4afb-82d8-e234113e0790\n",
      "----------------------------------------\n",
      "Starben sie an oder mit dem Virus?\n",
      "https://www.spiegel.de/wissenschaft/medizin/corona-in-deutschland-bei-mehrheit-der-verstorbenen-ist-covid-19-auch-todesursache-a-efcad744-19ea-49b6-934e-974b4abc1142\n",
      "----------------------------------------\n",
      "Kommentare und Kolumnen\n",
      "https://www.spiegel.de/thema/meinung/\n",
      "----------------------------------------\n",
      "Die ewige Angst vor der Parallelgesellschaft\n",
      "https://www.spiegel.de/kultur/deutsch-sprechen-babylon-germany-kolumne-a-eeddf853-a64e-47e6-8705-23aa9fada295\n",
      "----------------------------------------\n",
      "Das Fanal für Europa\n",
      "https://www.spiegel.de/politik/ausland/die-eu-ist-fuer-die-katastrophe-in-moria-verantwortlich-a-7b895ddb-c1d7-4e19-bc6e-2ed006dfd369\n",
      "----------------------------------------\n",
      "Mit dem Turbo gegen die Wand\n",
      "https://www.spiegel.de/wirtschaft/unternehmen/andreas-scheuer-und-autopraemie-mit-dem-turbo-gegen-die-wand-a-5d2b70ff-fbe7-42d3-b902-41b9b1679438\n",
      "----------------------------------------\n",
      "Hauptsache, es funktioniert für mich\n",
      "https://www.spiegel.de/netzwelt/netzpolitik/digitalisierungsdrama-in-deutschland-hauptsache-es-funktioniert-fuer-mich-kolumne-a-679a1db0-d295-46ab-ad7f-fd7191d4efa9\n",
      "----------------------------------------\n",
      "Politik\n",
      "https://www.spiegel.de/politik/deutschland/\n",
      "----------------------------------------\n",
      "Großbrand im Lager Moria: Deutschland nimmt bis zu 150 minderjährige Flüchtlinge auf\n",
      "https://www.spiegel.de/politik/deutschland/moria-deutschland-nimmt-bis-zu-150-minderjaehrige-auf-a-3c396c4f-2670-4357-8269-93df31263ebb\n",
      "----------------------------------------\n",
      "+++ Livestream +++: Der Brand von Moria und die Flüchtlinge - das sagt Innenminister Seehofer\n",
      "https://www.spiegel.de/politik/deutschland/horst-seehofer-bundesinnenminister-aeusserst-sich-nach-brand-in-fluechtlingslager-moria-a-bd80095f-38cc-467f-b3a7-1712353a89d0\n",
      "----------------------------------------\n",
      "Nach Brandkatastrophe in Moria: Zehn deutsche Stadtoberhäupter wollen Flüchtlinge aufnehmen\n",
      "https://www.spiegel.de/politik/deutschland/moria-zehn-deutsche-stadtoberhaeupter-wollen-fluechtlinge-aufnehmen-a-c5f3529a-c1ab-440b-9fcf-dd53ba24fd3c\n",
      "----------------------------------------\n",
      "Ausland\n",
      "https://www.spiegel.de/politik/ausland/\n",
      "----------------------------------------\n",
      "Moria und die scheinheilige Flüchtlingspolitik: Die Schande und die Schuldigen\n",
      "https://www.spiegel.de/politik/ausland/moria-und-die-scheinheiligkeit-der-fluechtlingspolitik-europas-schande-a-00000000-0002-0001-0000-000172993179\n",
      "----------------------------------------\n",
      "Auszug aus Woodward-Buch: US-Präsident soll mit Schutz für saudischen Kronprinzen geprahlt haben\n",
      "https://www.spiegel.de/politik/ausland/donald-trump-soll-mit-schutz-fuer-saudischen-kronprinzen-mohammed-bin-salman-geprahlt-haben-a-8c20fbb7-1713-42b3-abf4-fe81be818d59\n",
      "----------------------------------------\n",
      "Bevorstehende Friedensgespräche: Trump kündigt Truppenabbau in Afghanistan an\n",
      "https://www.spiegel.de/politik/ausland/afghanistan-us-praesident-donald-trump-kuendigt-truppenabbau-an-a-233e341d-8e38-4775-8bf2-e89eb11130a0\n",
      "----------------------------------------\n",
      "Panorama\n",
      "https://www.spiegel.de/panorama/\n",
      "----------------------------------------\n",
      "Halle Berry über Oscargewinn: \"Ich wollte glauben, dass es größer war als ich\"\n",
      "https://www.spiegel.de/panorama/leute/halle-barry-ueber-oscar-gewinn-ich-wollte-glaube-dass-es-groesser-war-als-ich-a-53ac080b-49c9-4a2b-a759-3a3205b279f5\n",
      "----------------------------------------\n",
      "Nach Ölkatastrophe: Reederei sagt Mauritius Millionenhilfe zu\n",
      "https://www.spiegel.de/panorama/mauritius-havarie-von-wakashio-betreiber-verspricht-millionen-hilfe-a-0ac44283-ce1e-44e1-a40f-60c520d12c50\n",
      "----------------------------------------\n",
      "Reinhold Messner über seine Touren: \"Kaum zu rechtfertigen\"\n",
      "https://www.spiegel.de/panorama/leute/reinhold-messner-ueber-extrembergsteigen-egoistisch-und-kaum-zu-rechtfertigen-a-b71deff7-6ab2-4439-8930-46f039c27cc5\n",
      "----------------------------------------\n",
      "Sport\n",
      "https://www.spiegel.de/sport/\n",
      "----------------------------------------\n",
      "Vettel über Aston Martin: \"Eine der spannendsten Geschichten, die der Formel 1 passieren konnte\"\n",
      "https://www.spiegel.de/sport/formel1/sebastian-vettel-ueber-aston-martin-grossartig-ein-teil-davon-zu-sein-a-41d8477c-5644-4d1f-9a24-5e822cec0008\n",
      "----------------------------------------\n",
      "Surf-Weltrekord: Maya Gabeira bezwingt nächste Monsterwelle\n",
      "https://www.spiegel.de/sport/surfen-big-wave-surferin-maya-gabeira-stellt-naechsten-weltrekord-auf-a-ebb7c828-6587-453a-a629-28c4dbe96860\n",
      "----------------------------------------\n",
      "Nach Corona-Fällen im Team: Paris Saint-Germain startet mit Niederlage gegen Aufsteiger in die Saison\n",
      "https://www.spiegel.de/sport/fussball/paris-saint-germain-und-thomas-tuchel-starten-mit-niederlage-gegen-rc-lens-in-die-saison-a-dfdc52c2-4942-4d95-8462-35ae64f8e97e\n",
      "----------------------------------------\n",
      "Wirtschaft\n",
      "https://www.spiegel.de/wirtschaft/\n",
      "----------------------------------------\n",
      "Deutsche Bahn: Tarifstreit mit Lokführergewerkschaft spitzt sich zu\n",
      "https://www.spiegel.de/wirtschaft/deutsche-bahn-tarifstreit-mit-lokfuehrergewerkschaft-spitzt-sich-zu-a-0d857b72-bf85-4e6e-a4fa-c73abc4567cc\n",
      "----------------------------------------\n",
      "Absatzkrise: MAN will bis zu 9500 Stellen streichen\n",
      "https://www.spiegel.de/wirtschaft/unternehmen/absatzkrise-man-kuendigt-stellen-kahlschlag-an-a-acbf7a43-5271-4abc-81d6-1f4638b625a7\n",
      "----------------------------------------\n",
      "Tarifkonflikt: Ver.di ruft Postboten zum Streik auf\n",
      "https://www.spiegel.de/wirtschaft/tarifkonflikt-ver-di-ruft-postboten-in-niedersachsen-und-berlin-zum-streik-auf-a-ed07e085-bd88-48e0-80f1-ae12fb0eb771\n",
      "----------------------------------------\n",
      "Erste Chefin von US-Großbank: Jane Fraser soll Citigroup führen\n",
      "https://www.manager-magazin.de/unternehmen/banken/jane-fraser-loest-citigroup-chef-michael-corbat-ab-a-1879e42b-9eee-4e5b-a650-d317293da478\n",
      "----------------------------------------\n",
      "Luxuskonzern wehrt sich gegen US-Klage: Trennungskrieg statt Traumhochzeit - nun klagt auch LVMH gegen Tiffany\n",
      "https://www.manager-magazin.de/unternehmen/uebernahme-von-tiffany-durch-lvmh-droht-zu-platzen-kopie-a-7713361a-79dd-421f-9c0f-e45e4c84d5ec\n",
      "----------------------------------------\n",
      "Klaus Zellmer ersetzt Jürgen Stackmann: Porsches US-Chef wird neuer Vertriebsvorstand bei Volkswagen\n",
      "https://www.manager-magazin.de/unternehmen/autoindustrie/volkswagen-klaus-zellmer-ersetzt-juergen-stackmann-als-vertriebsvorstand-a-15488075-4fcb-4f20-a191-157e5fbee460\n",
      "----------------------------------------\n",
      "Börsenkurse manager magazin\n",
      "https://boersen.manager-magazin.de\n",
      "----------------------------------------\n",
      "Wissenschaft\n",
      "https://www.spiegel.de/wissenschaft/\n",
      "----------------------------------------\n",
      "WWF-Bericht zum Artensterben: \"Wir verlieren die Vielfalt des Lebens auf der Erde\"\n",
      "https://www.spiegel.de/wissenschaft/mensch/wwf-bericht-zum-artensterben-wir-verlieren-die-vielfalt-des-lebens-auf-der-erde-a-74c5dcf5-2f6a-4acb-ac1a-27d7b0dadc47\n",
      "----------------------------------------\n",
      "Diskussion über neue Gentechnik-Verfahren: \"Das ist eine Irreführung des Verbrauchers\"\n",
      "https://www.spiegel.de/wissenschaft/natur/neue-gentechnik-nachweismethode-fuer-gentechnik-pflanzen-ist-untauglich-und-irrefuehrend-a-69a7d90c-d313-4d3b-8a11-980043e2ca6b\n",
      "----------------------------------------\n",
      "Wie die Afrikanische Schweinepest wirkt: Hochansteckend, unverwüstlich, tödlich\n",
      "https://www.spiegel.de/wissenschaft/medizin/afrikanische-schweinepest-hochansteckend-unverwuestlich-toedlich-a-8c315a59-67ac-4825-a345-24d845a5d698\n",
      "----------------------------------------\n",
      "Netzwelt\n",
      "https://www.spiegel.de/netzwelt/\n",
      "----------------------------------------\n",
      "Corona-Warn-App: Fehler in iOS 13.7 kann Risikobewertung verfälschen\n",
      "https://www.spiegel.de/netzwelt/apps/corona-warn-app-fehler-in-ios-13-7-kann-risikobewertung-verfaelschen-a-45a17543-eb3e-4d5e-bdbc-06132058abc4\n",
      "----------------------------------------\n",
      "US-Präsidentschaftswahlen 2020: Twitter trifft Vorkehrungen gegen Falschinformationen am Wahlabend\n",
      "https://www.spiegel.de/netzwelt/us-wahl-twitter-kuendigte-strengere-kontrolle-von-tweets-am-wahlabend-an-a-c6421366-5433-4b60-a80e-63b8e0c15d96\n",
      "----------------------------------------\n",
      "Erkenntnisse von Microsoft: Hacker aus Russland attackieren erneut im US-Wahlkampf\n",
      "https://www.spiegel.de/netzwelt/microsoft-hacker-aus-russland-attackieren-erneut-im-us-wahlkampf-a-50ad0e46-03c5-46eb-8cef-20c43f046d6f\n",
      "----------------------------------------\n",
      "Kultur\n",
      "https://www.spiegel.de/kultur/\n",
      "----------------------------------------\n",
      "Russland-Talk bei Illner: \"Jetzt gerade hat Putin gewonnen, wissen Sie das?\"\n",
      "https://www.spiegel.de/kultur/tv/maybrit-illner-talk-ueber-putin-mit-gysi-maas-und-weisband-a-474a9ee1-9bc0-4e9c-846b-cae1a58b1de6\n",
      "----------------------------------------\n",
      "Corona-Pandemie: Drosten erhält den Deutschen Radiopreis\n",
      "https://www.spiegel.de/kultur/christian-drosten-erhaelt-fuer-virus-podcast-den-deutschen-radiopreis-a-4edca97f-4c7a-440c-b431-95181e32a85f\n",
      "----------------------------------------\n",
      "Zum Tod von Diana Rigg: \"Mrs Peel, wir werden gebraucht!\"\n",
      "https://www.spiegel.de/kultur/nachruf-auf-diana-rigg-mrs-peel-wir-werden-gebraucht-a-d1079c9f-8ad7-4855-a953-529607804e67\n",
      "----------------------------------------\n",
      "Lea wurde als Mädchen von einem Mann aus einem Chatroom verführt\n",
      "https://www.bento.de/gefuehle/cybergrooming-lea-wurde-als-maedchen-von-einem-mann-aus-einem-chatroom-verfuehrt-a-549b5493-b930-4688-a918-8e04dbdf865b\n",
      "----------------------------------------\n",
      "Günstiger als AirPods, aber trotzdem gut: Welcher True-Wireless-Kopfhörer für dich der richtige ist\n",
      "https://www.bento.de/gadgets/wireless-kopfhoerer-guenstige-alternativen-zu-apple-airpods-sennheiser-und-co-in-guter-qualitaet-a-b88cd1f0-1cd3-4f0c-9482-6fdeb7844e1a\n",
      "----------------------------------------\n",
      "Rapperin Nura über Erfolg trotz Sexismus: \"Ich habe hardcore rasiert!\"\n",
      "https://www.bento.de/musik/rapperin-nura-ueber-erfolg-trotz-sexismus-ich-habe-hardcore-rasiert-a-a7c2274f-3ac4-44ba-a9c3-624ef2fbc875\n",
      "----------------------------------------\n",
      "Tests\n",
      "https://www.spiegel.de/tests/\n",
      "----------------------------------------\n",
      "Automatische Schlauchrollen im Test: Schläuche, die sich selbst aufrollen\n",
      "https://www.spiegel.de/tests/garten/automatische-schlauchrollen-im-test-schlaeuche-die-sich-selbst-aufrollen-a-860bfb3f-56df-491e-92bf-43e2b43f19d9\n",
      "----------------------------------------\n",
      "Bestseller Link\n",
      "https://www.spiegel.de/kultur/bestseller-buecher-belletristik-sachbuch-auf-spiegel-liste-a-458623.html\n",
      "----------------------------------------\n",
      "Geschichte\n",
      "https://www.spiegel.de/geschichte/\n",
      "----------------------------------------\n",
      "Olympiagold für Barfußläufer Bikila: Triumph auf blanken Sohlen\n",
      "https://www.spiegel.de/geschichte/barfuss-zum-olympiasieg-wie-abebe-bikila-1960-marathon-gold-gewann-a-bb4dc351-3478-41f8-88e0-902d364123dd\n",
      "----------------------------------------\n",
      "Kriegsfotograf Robert Capa: Berlin in der Stunde null\n",
      "https://www.spiegel.de/geschichte/kriegsfotograf-robert-capa-berlin-in-der-stunde-null-a-b086849b-3d5c-4c9d-bbb6-fd53be455736\n",
      "----------------------------------------\n",
      "Mario Adorf wird 90: \"Ist das mein letztes Mal?\"\n",
      "https://www.spiegel.de/geschichte/mario-adorf-wird-90-ist-das-mein-letztes-mal-a-37b8f7b4-a162-493f-8ba0-132d09ebd353\n",
      "----------------------------------------\n",
      "Job & Karriere\n",
      "https://www.spiegel.de/karriere/\n",
      "----------------------------------------\n",
      "Öffentliche Unternehmen: Viele öffentliche Betriebe fast ohne Frauen im Vorstand\n",
      "https://www.spiegel.de/karriere/frauen-in-oeffentlichen-betrieben-wo-bleiben-die-managerinnen-a-44f0fc27-be23-46d1-a36d-d82dff262d2e\n",
      "----------------------------------------\n",
      "Extrembergsteiger Thomas Huber: \"Wenn du zu weit gehst, kommst du nicht mehr zurück\"\n",
      "https://www.spiegel.de/karriere/extrembergsteiger-thomas-huber-wenn-du-zu-weit-gehst-kommst-du-nicht-mehr-zurueck-a-466bb5fb-d7d2-49a3-a56d-f42cd17fa902\n",
      "----------------------------------------\n",
      "Tipps von den Karriereberaterinnen: Hoch qualifiziert und arbeitslos - wie finde ich trotz Krise einen guten Job?\n",
      "https://www.spiegel.de/karriere/hoch-qualifiziert-auslandserfahrung-jetzt-arbeitslos-was-tun-tipps-a-e971a2ef-630a-4f10-a0ce-8af4f654bd6d\n",
      "----------------------------------------\n",
      "Mobilität\n",
      "https://www.spiegel.de/auto/\n",
      "----------------------------------------\n",
      "Unu-Elektroroller im Test: Die neue E-Klasse\n",
      "https://www.spiegel.de/auto/unu-elektroroller-im-test-die-neue-e-klasse-a-b34d5e90-fe72-44eb-b15a-94e3c4f3c89e\n",
      "----------------------------------------\n",
      "Trotz Gerichtsbeschlusses: Berlin entfernt Pop-up-Radwege vorerst nicht\n",
      "https://www.spiegel.de/auto/berlin-senat-entfernt-pop-up-radwege-trotz-gerichtsbeschluss-vorerst-nicht-a-04561d76-9b1c-4418-9809-3e15ff424173\n",
      "----------------------------------------\n",
      "Tour mit der Royal Enfield Himalayan: Treue Wanderfreundin\n",
      "https://www.spiegel.de/auto/fahrberichte/treue-wanderfreundin-a-81e83b1d-2436-4336-aa5a-b1cfdfeb0ac7\n",
      "----------------------------------------\n",
      "Alle Podcasts\n",
      "https://www.spiegel.de/thema/podcasts_vom_spiegel/\n",
      "----------------------------------------\n",
      "Leben\n",
      "https://www.spiegel.de/thema/leben/\n",
      "----------------------------------------\n",
      "Einmal Kreuzfahrt inklusive Klimaschutz, bitte. Gibt's das schon?\n",
      "https://www.spiegel.de/reise/kreuzfahrtranking-des-nabu-wo-sind-konzepte-fuer-emissionsfreie-schifffahrt-a-9954a694-fe65-4025-a82e-de9ed16638cd\n",
      "----------------------------------------\n",
      "\"Je intimer die Beziehung, desto anfälliger sind wir für Manipulation\"\n",
      "https://www.spiegel.de/psychologie/manipulation-im-job-in-der-beziehung-bei-freunden-schuld-ist-ein-soziales-schmiermittel-kopie-a-44c2de04-8df1-48b6-8d9b-4a578c491405\n",
      "----------------------------------------\n",
      "\"Also, der Thorsten war ja eine ganz schwierige Geburt\"\n",
      "https://www.spiegel.de/familie/junge-hebamme-ueber-ihren-beruf-ich-liebe-ihn-ja-aber-a-c9058dff-f62d-4719-b90d-f091dcb878e4\n",
      "----------------------------------------\n",
      "\"Ich rate ihnen, nicht auf andere zu hören\"\n",
      "https://www.spiegel.de/reise/khadjou-sambe-profisurferin-im-senegal-unterrichtet-maedchen-a-0af32d72-8074-48ec-81a4-4982e8fd4926\n",
      "----------------------------------------\n",
      "Die Sucht nach Höhenmetern\n",
      "https://www.spiegel.de/reise/fernradwege-die-sucht-nach-hoehenmetern-touren-zum-auspowern-a-0e218f10-1228-43f1-83f9-5ca95ad46799\n",
      "----------------------------------------\n",
      "Tipps fürs Campen\n",
      "https://www.spiegel.de/thema/test_und_produkte/\n",
      "----------------------------------------\n",
      "Mit dieser Ausrüstung wird Camping komfortabel\n",
      "https://www.spiegel.de/tests/camping/camping-ausruestung-im-test-mit-diesem-zubehoer-wird-es-komfortabel-a-c2b15a80-9a65-4715-b4d0-84dc6bbc59a7\n",
      "----------------------------------------\n",
      "Outdoor-Gadgets - So rocken Sie den Camping-Urlaub\n",
      "https://www.spiegel.de/tests/camping/soundbox-stirnlampe-und-navigationsgeraet-fuer-camper-und-camping-a-18270b88-787b-4857-b60e-864f4861a151\n",
      "----------------------------------------\n",
      "Camp dich glücklich\n",
      "https://www.spiegel.de/reise/fernweh/camping-gadgets-thermobecher-werkzeugkoffer-campingdusche-a-1299874.html\n",
      "----------------------------------------\n",
      "Dein SPIEGEL\n",
      "https://www.spiegel.de/deinspiegel/\n",
      "----------------------------------------\n",
      "\"Als ob ich fliegen könnte\"\n",
      "https://www.spiegel.de/deinspiegel/skateboard-profi-tony-hawk-im-kinder-interview-als-ob-ich-fliegen-koennte-a-00000000-0002-0001-0000-000171724301\n",
      "----------------------------------------\n",
      "Wie haben sich Freundschaften durch Corona verändert?\n",
      "https://www.spiegel.de/deinspiegel/trotz-corona-freunde-bleiben-kinder-erzaehlen-a-00000000-0002-0001-0000-000172431236\n",
      "----------------------------------------\n",
      "Bild des Tages\n",
      "https://www.spiegel.de/fotostrecke/bilder-des-tages-fotos-aus-deutschland-und-der-welt-fotostrecke-122824.html\n"
     ]
    }
   ],
   "source": [
    "#print soup.get_text()hreflinks=[]\n",
    "AllTitles=soup.findAll('h2')\n",
    "alltitles=[]\n",
    "alltitleLinks=[]\n",
    "for l in AllTitles:\n",
    "    #print l\n",
    "    try:\n",
    "        title = l.find('a')['title']\n",
    "        link = l.find('a')['href']\n",
    "        print('-'*40)\n",
    "        print(title)\n",
    "        print(link)\n",
    "        alltitles.append(title)\n",
    "        alltitleLinks.append(link)\n",
    "    except:\n",
    "        pass"
   ]
  },
  {
   "cell_type": "markdown",
   "metadata": {
    "slideshow": {
     "slide_type": "slide"
    }
   },
   "source": [
    "## Get all images of the page\n",
    "\n",
    "Get url of all images, which are currently displayed on [www.zeit.de](http://www.zeit.de):"
   ]
  },
  {
   "cell_type": "code",
   "execution_count": 7,
   "metadata": {
    "ExecuteTime": {
     "end_time": "2017-10-20T12:50:12.456000Z",
     "start_time": "2017-10-20T12:50:12.440000Z"
    },
    "execution": {
     "iopub.execute_input": "2020-09-11T10:27:45.020095Z",
     "iopub.status.busy": "2020-09-11T10:27:45.019401Z",
     "iopub.status.idle": "2020-09-11T10:27:45.021968Z",
     "shell.execute_reply": "2020-09-11T10:27:45.022454Z"
    },
    "slideshow": {
     "slide_type": "fragment"
    }
   },
   "outputs": [
    {
     "name": "stdout",
     "output_type": "stream",
     "text": [
      "data:image/gif;base64,R0lGODlhAQABAAAAACH5BAEKAAEALAAAAAABAAEAAAICTAEAOw==\n",
      "https://cdn.prod.www.spiegel.de/images/6b1222e0-9dc4-4795-ae3d-cf0a204e5b0c_w872_r1.77_fpx53_fpy44.jpg\n",
      "https://cdn.prod.www.spiegel.de/images/6b1222e0-9dc4-4795-ae3d-cf0a204e5b0c_w872_r1.77_fpx53_fpy44.jpg\n",
      "https://cdn.prod.www.spiegel.de/images/91a484fa-a01e-4d00-bbb4-51383da1f9b6_w117_r1.33_fpx52.69_fpy50.94.jpg\n",
      "https://cdn.prod.www.spiegel.de/images/91a484fa-a01e-4d00-bbb4-51383da1f9b6_w488_r1.77_fpx52.69_fpy50.94.jpg\n",
      "https://cdn.prod.www.spiegel.de/images/d51441bf-fb92-4d92-a337-adddf4de3f2e_w117_r1.33_fpx53_fpy41.jpg\n",
      "https://cdn.prod.www.spiegel.de/images/d51441bf-fb92-4d92-a337-adddf4de3f2e_w117_r1.33_fpx53_fpy41.jpg\n",
      "https://cdn.prod.www.spiegel.de/images/d51441bf-fb92-4d92-a337-adddf4de3f2e_w488_r1.77_fpx53_fpy41.jpg\n",
      "https://cdn.prod.www.spiegel.de/images/d51441bf-fb92-4d92-a337-adddf4de3f2e_w488_r1.77_fpx53_fpy41.jpg\n",
      "https://cdn.prod.www.spiegel.de/images/ef67715b-ebd4-4c78-a40b-5a04f6b86bbc_w117_r1.33_fpx56.34_fpy54.96.jpg\n"
     ]
    }
   ],
   "source": [
    "imglinks=[]\n",
    "AllImgs=soup.findAll('img')\n",
    "for l in AllImgs:\n",
    "    if l.has_attr('src'):\n",
    "       imglinks.append(l)\n",
    "\n",
    "for l in imglinks[:10]:\n",
    "    print(l['src'])"
   ]
  },
  {
   "cell_type": "markdown",
   "metadata": {
    "slideshow": {
     "slide_type": "slide"
    }
   },
   "source": [
    "## Get entire text of a news-article"
   ]
  },
  {
   "cell_type": "code",
   "execution_count": 8,
   "metadata": {
    "ExecuteTime": {
     "end_time": "2017-10-20T13:09:24.145000Z",
     "start_time": "2017-10-20T13:09:23.833000Z"
    },
    "execution": {
     "iopub.execute_input": "2020-09-11T10:27:45.035914Z",
     "iopub.status.busy": "2020-09-11T10:27:45.027206Z",
     "iopub.status.idle": "2020-09-11T10:27:45.359208Z",
     "shell.execute_reply": "2020-09-11T10:27:45.359768Z"
    },
    "slideshow": {
     "slide_type": "fragment"
    }
   },
   "outputs": [
    {
     "name": "stdout",
     "output_type": "stream",
     "text": [
      "\n",
      "SPIEGEL+-Zugang wird gerade auf einem anderen Gerät genutzt\n",
      "\n",
      "SPIEGEL+ kann nur auf einem Gerät zur selben Zeit genutzt werden.\n",
      "\n",
      "Klicken Sie auf den Button, spielen wir den Hinweis auf dem anderen Gerät aus und Sie können SPIEGEL+ weiter nutzen.\n",
      "\n",
      "\n",
      "Feuerwehrfahrzeuge stehen vor dem Haus in Dortmund: Die Ermittlungen begannen mit dem Hinweis auf eine Waffe\n",
      "Bei einer Wohnungsdurchsuchung in Dortmund sind Ermittler auf ein Waffenlager eines Mannes gestoßen. \"Wir sind überrascht worden von der Menge der Dinge, die wir da gefunden haben\", sagte eine Polizeisprecherin.\n",
      "Die Ermittlungen begannen mit einem Hinweis auf eine Waffe, die der 68-Jährige einem anderen übergeben habe. Das Amtsgericht erließ einen Durchsuchungsbeschluss - und die Polizei stieß am Mittwoch in den Räumen des Mannes auf Waffen, Waffenteile, verdächtige chemische Substanzen und eine Mine.\n",
      "Diese war in der Nacht zu Donnerstag auf einem Feld kontrolliert gesprengt worden, teilte die Polizei mit. Dann stießen die Spezialisten von Feuerwehr und Landeskriminalamt auf mehrere Kilogramm hochexplosiven TNT-Sprengstoff, der ebenfalls unschädlich gemacht worden sei. Wo diese kontrollierten Sprengungen vorgenommen wurden, sagte die Sprecherin nicht. \"Wir wollen keine Schaulustigen anlocken und niemanden gefährden.\"\n",
      "Zur Person des 68-Jährigen machten Polizei und Staatsanwaltschaft keine Angaben. Warum er die Waffen sammelte, könne man noch nicht sagen. Gegen den Verdächtigen wird nach bisherigem Stand wegen des Verdachts auf Verstoß gegen das Waffengesetz ermittelt.\n",
      "Feuerwehrfahrzeuge stehen vor dem Haus in Dortmund: Die Ermittlungen begannen mit dem Hinweis auf eine Waffe\n",
      "Melden Sie sich an und diskutieren Sie mit\n"
     ]
    }
   ],
   "source": [
    "IDX=0\n",
    "suburl=alltitleLinks[IDX]\n",
    "try:\n",
    "    html=urlopen(suburl).read() #works if subdomains are referenced by absolute path\n",
    "except:\n",
    "    html=urlopen(url+suburl).read() #works if subdomains are referenced by relative path\n",
    "soup=BeautifulSoup(html,\"html.parser\")\n",
    "AllP=soup.findAll('p')\n",
    "for p in AllP:\n",
    "    print(p.get_text())"
   ]
  },
  {
   "cell_type": "markdown",
   "metadata": {
    "collapsed": true,
    "slideshow": {
     "slide_type": "skip"
    }
   },
   "source": [
    "## Questions and Remarks\n",
    "1. This notebook demonstrates how raw-text can be crawled from news-sites. But what is the drawback of this method?\n",
    "2. Execute the entire notebook also for `www.spiegel.de` and `www.sueddeutsche.de`.\n",
    "3. What do you observe? How to solve the problem?"
   ]
  },
  {
   "cell_type": "code",
   "execution_count": null,
   "metadata": {
    "collapsed": true
   },
   "outputs": [],
   "source": []
  }
 ],
 "metadata": {
  "celltoolbar": "Slideshow",
  "kernelspec": {
   "display_name": "Python 3",
   "language": "python",
   "name": "python3"
  },
  "language_info": {
   "codemirror_mode": {
    "name": "ipython",
    "version": 3
   },
   "file_extension": ".py",
   "mimetype": "text/x-python",
   "name": "python",
   "nbconvert_exporter": "python",
   "pygments_lexer": "ipython3",
   "version": "3.7.7"
  },
  "nav_menu": {},
  "toc": {
   "base_numbering": 1,
   "nav_menu": {},
   "number_sections": true,
   "sideBar": true,
   "skip_h1_title": false,
   "title_cell": "Table of Contents",
   "title_sidebar": "Contents",
   "toc_cell": false,
   "toc_position": {},
   "toc_section_display": "block",
   "toc_window_display": false
  },
  "varInspector": {
   "cols": {
    "lenName": 16,
    "lenType": 16,
    "lenVar": 40
   },
   "kernels_config": {
    "python": {
     "delete_cmd_postfix": "",
     "delete_cmd_prefix": "del ",
     "library": "var_list.py",
     "varRefreshCmd": "print(var_dic_list())"
    },
    "r": {
     "delete_cmd_postfix": ") ",
     "delete_cmd_prefix": "rm(",
     "library": "var_list.r",
     "varRefreshCmd": "cat(var_dic_list()) "
    }
   },
   "types_to_exclude": [
    "module",
    "function",
    "builtin_function_or_method",
    "instance",
    "_Feature"
   ],
   "window_display": false
  }
 },
 "nbformat": 4,
 "nbformat_minor": 1
}