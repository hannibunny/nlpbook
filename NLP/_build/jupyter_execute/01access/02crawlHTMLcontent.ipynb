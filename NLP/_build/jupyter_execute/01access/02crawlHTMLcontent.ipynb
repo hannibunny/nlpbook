{
 "cells": [
  {
   "cell_type": "markdown",
   "metadata": {
    "slideshow": {
     "slide_type": "slide"
    }
   },
   "source": [
    "# Access Contents of HTML Page\n",
    "\n",
    "- Author:      Johannes Maucher\n",
    "- Last update: 2018-10-21\n",
    "\n",
    "This notebook demonstrates how to parse a HTML document and access dedicated elements of the parse tree.\n",
    "[Beautiful Soup](http://www.crummy.com/software/BeautifulSoup/bs4/doc/#) is a python package for parsing HTML. Download and install version 4 by typing:\n",
    "\n",
    "> `pip install beautifulsoup4`\n",
    "\n",
    "into the command shell. Once it is installed it can be imported by"
   ]
  },
  {
   "cell_type": "code",
   "execution_count": 1,
   "metadata": {
    "ExecuteTime": {
     "end_time": "2017-10-20T12:50:00.898000Z",
     "start_time": "2017-10-20T12:50:00.893000Z"
    },
    "execution": {
     "iopub.execute_input": "2020-09-23T12:40:39.605076Z",
     "iopub.status.busy": "2020-09-23T12:40:39.604391Z",
     "iopub.status.idle": "2020-09-23T12:40:39.698893Z",
     "shell.execute_reply": "2020-09-23T12:40:39.699327Z"
    },
    "slideshow": {
     "slide_type": "fragment"
    }
   },
   "outputs": [],
   "source": [
    "from bs4 import BeautifulSoup"
   ]
  },
  {
   "cell_type": "markdown",
   "metadata": {
    "slideshow": {
     "slide_type": "slide"
    }
   },
   "source": [
    "For accessing arbitrary resources by URL the python modul [urllib](https://docs.python.org/2/library/urllib.html) must also be installed. Import the method _urlopen()_ from this module:  "
   ]
  },
  {
   "cell_type": "code",
   "execution_count": 2,
   "metadata": {
    "ExecuteTime": {
     "end_time": "2017-10-20T12:50:02.246000Z",
     "start_time": "2017-10-20T12:50:02.242000Z"
    },
    "execution": {
     "iopub.execute_input": "2020-09-23T12:40:39.703264Z",
     "iopub.status.busy": "2020-09-23T12:40:39.702597Z",
     "iopub.status.idle": "2020-09-23T12:40:39.704710Z",
     "shell.execute_reply": "2020-09-23T12:40:39.705160Z"
    },
    "slideshow": {
     "slide_type": "fragment"
    }
   },
   "outputs": [],
   "source": [
    "from urllib.request import urlopen"
   ]
  },
  {
   "cell_type": "markdown",
   "metadata": {
    "slideshow": {
     "slide_type": "fragment"
    }
   },
   "source": [
    "If these two modules are available the HTML parse tree of the specified URL can easily be generated as follows."
   ]
  },
  {
   "cell_type": "code",
   "execution_count": 3,
   "metadata": {
    "ExecuteTime": {
     "end_time": "2017-10-20T12:50:04.344000Z",
     "start_time": "2017-10-20T12:50:03.569000Z"
    },
    "execution": {
     "iopub.execute_input": "2020-09-23T12:40:39.709752Z",
     "iopub.status.busy": "2020-09-23T12:40:39.709098Z",
     "iopub.status.idle": "2020-09-23T12:40:49.088555Z",
     "shell.execute_reply": "2020-09-23T12:40:49.088983Z"
    },
    "slideshow": {
     "slide_type": "fragment"
    }
   },
   "outputs": [],
   "source": [
    "#url=\"http://www.zeit.de\"\n",
    "url=\"http://www.spiegel.de\"\n",
    "#url=\"http://www.sueddeutsche.de\"\n",
    "html=urlopen(url).read()\n",
    "soup=BeautifulSoup(html,\"html.parser\")"
   ]
  },
  {
   "cell_type": "markdown",
   "metadata": {
    "slideshow": {
     "slide_type": "slide"
    }
   },
   "source": [
    "Now e.g. the title of the URL can be accessed by:"
   ]
  },
  {
   "cell_type": "code",
   "execution_count": 4,
   "metadata": {
    "ExecuteTime": {
     "end_time": "2017-10-20T12:50:06.092000Z",
     "start_time": "2017-10-20T12:50:06.086000Z"
    },
    "execution": {
     "iopub.execute_input": "2020-09-23T12:40:49.093297Z",
     "iopub.status.busy": "2020-09-23T12:40:49.092539Z",
     "iopub.status.idle": "2020-09-23T12:40:49.095215Z",
     "shell.execute_reply": "2020-09-23T12:40:49.095663Z"
    },
    "slideshow": {
     "slide_type": "fragment"
    }
   },
   "outputs": [
    {
     "name": "stdout",
     "output_type": "stream",
     "text": [
      "Title of page:   DER SPIEGEL | Online-Nachrichten\n"
     ]
    }
   ],
   "source": [
    "titleTag = soup.html.head.title\n",
    "print(\"Title of page:  \",titleTag.string)"
   ]
  },
  {
   "cell_type": "markdown",
   "metadata": {
    "slideshow": {
     "slide_type": "slide"
    }
   },
   "source": [
    "## Get all links in the page\n",
    "All links in the page can be retrieven by the following code (only the first 20 links are printed)"
   ]
  },
  {
   "cell_type": "code",
   "execution_count": 5,
   "metadata": {
    "ExecuteTime": {
     "end_time": "2017-10-20T12:50:07.973000Z",
     "start_time": "2017-10-20T12:50:07.951000Z"
    },
    "execution": {
     "iopub.execute_input": "2020-09-23T12:40:49.106930Z",
     "iopub.status.busy": "2020-09-23T12:40:49.106119Z",
     "iopub.status.idle": "2020-09-23T12:40:49.109382Z",
     "shell.execute_reply": "2020-09-23T12:40:49.109977Z"
    },
    "slideshow": {
     "slide_type": "fragment"
    }
   },
   "outputs": [
    {
     "name": "stdout",
     "output_type": "stream",
     "text": [
      "Number of links in this page:  524\n",
      "#Inhalt\n",
      "https://www.spiegel.de/nutzungsbedingungen\n",
      "https://www.spiegel.de/\n",
      "https://abo.spiegel.de/?b=SPOHNAVABO&requestAccessToken=true&sara_icid=disp_upd_9h6L5hu8K1AAnttzYATx3hvk7taDkP&targetUrl=https%3A%2F%2Fwww.spiegel.de%2Ffuermich%2F\n",
      "https://gruppenkonto.spiegel.de/authenticate?requestAccessToken=true&targetUrl=https%3A%2F%2Fwww.spiegel.de%2Ffuermich%2F\n",
      "https://www.spiegel.de/fuermich/\n",
      "https://www.spiegel.de/\n",
      "https://www.spiegel.de/schlagzeilen/\n",
      "https://www.spiegel.de/plus/\n",
      "https://www.spiegel.de/audio/\n",
      "https://www.spiegel.de/fuermich/\n",
      "https://www.spiegel.de/schlagzeilen/\n",
      "https://www.spiegel.de/plus/\n",
      "https://www.spiegel.de/thema/coronavirus/\n",
      "https://www.spiegel.de/politik/deutschland/\n",
      "https://www.spiegel.de/politik/ausland/\n",
      "https://www.spiegel.de/panorama/\n",
      "https://www.spiegel.de/sport/\n",
      "https://www.spiegel.de/wirtschaft/\n",
      "https://www.spiegel.de/netzwelt/\n"
     ]
    }
   ],
   "source": [
    "hreflinks=[]\n",
    "Alllinks=soup.findAll('a') #The <a> tag defines a hyperlink, which is used to link from one page to another.\n",
    "for l in Alllinks:\n",
    "    if l.has_attr('href'):\n",
    "        hreflinks.append(l)\n",
    "print(\"Number of links in this page: \",len(hreflinks))\n",
    "for l in hreflinks[:20]:\n",
    "    print(l['href'])"
   ]
  },
  {
   "cell_type": "markdown",
   "metadata": {
    "slideshow": {
     "slide_type": "slide"
    }
   },
   "source": [
    "## Get all news titles\n",
    "Get title of all news, which are currently listed on [www.zeit.de](http://www.zeit.de):"
   ]
  },
  {
   "cell_type": "code",
   "execution_count": 6,
   "metadata": {
    "ExecuteTime": {
     "end_time": "2017-10-20T12:50:10.208000Z",
     "start_time": "2017-10-20T12:50:10.124000Z"
    },
    "execution": {
     "iopub.execute_input": "2020-09-23T12:40:49.125680Z",
     "iopub.status.busy": "2020-09-23T12:40:49.120949Z",
     "iopub.status.idle": "2020-09-23T12:40:49.132469Z",
     "shell.execute_reply": "2020-09-23T12:40:49.133008Z"
    },
    "slideshow": {
     "slide_type": "fragment"
    }
   },
   "outputs": [
    {
     "name": "stdout",
     "output_type": "stream",
     "text": [
      "----------------------------------------\n",
      "Uefa-Auszeichnung: Lewandowski und Neuer als \"Europas Fußballer des Jahres\" nominiert\n",
      "https://www.spiegel.de/sport/fussball/robert-lewandowski-und-manuel-neuer-als-europas-fussballer-des-jahres-nominiert-a-25c8f450-027b-4dcf-a73d-54a0cb29a416\n",
      "----------------------------------------\n",
      "Coronakrise: Einkommen brechen weltweit ein\n",
      "https://www.spiegel.de/wirtschaft/soziales/corona-krise-weltweite-einkommen-brechen-drastisch-ein-a-9f935891-658b-4c6e-b176-2873191ca17e\n",
      "----------------------------------------\n",
      "Motorradfahrerin Ana Carrasco: Sie fährt wie ein Mädchen - und wurde so Weltmeisterin bei den Jungs\n",
      "https://www.spiegel.de/sport/motorsport-ana-carrasco-faehrt-wie-ein-maedchen-und-wird-weltmeisterin-bei-den-superbike-jungs-a-c26f0b93-8323-4da9-b221-a5357162b458\n",
      "----------------------------------------\n",
      "Deutsche Bank im Geldwäsche-Skandal: Die gefallene deutsche Ikone\n",
      "https://www.spiegel.de/wirtschaft/unternehmen/deutsche-bank-im-geldwaesche-skandal-die-gefallene-deutsche-ikone-a-19946983-8494-477f-981e-0ffbcd8036bb\n",
      "----------------------------------------\n",
      "Neue Corona-Regeln: So hart wird es jetzt für die Briten\n",
      "https://www.spiegel.de/politik/ausland/corona-in-grossbritannien-neue-einschraenkungen-beschlossen-a-e71c42a9-0ecc-4e14-9545-447b268db217\n",
      "----------------------------------------\n",
      "Corona-Pandemie\n",
      "https://www.spiegel.de/thema/coronavirus/\n",
      "----------------------------------------\n",
      "\"Die Pandemie wird jetzt erst richtig losgehen. Auch bei uns\"\n",
      "https://www.spiegel.de/wissenschaft/medizin/christian-drosten-zu-corona-die-pandemie-wird-jetzt-erst-richtig-losgehen-auch-bei-uns-a-1b2833f0-4673-4726-a352-71ddb8bfc666\n",
      "----------------------------------------\n",
      "Heiko Maas befindet sich in Quarantäne\n",
      "https://www.spiegel.de/wissenschaft/corona-news-am-mittwoch-die-wichtigsten-entwicklungen-zu-sars-cov-2-und-covid-19-a-3f5827a7-31e5-4a74-806b-fabdfdba66d7\n",
      "----------------------------------------\n",
      "So hart wird es jetzt für die Briten\n",
      "https://www.spiegel.de/politik/ausland/corona-in-grossbritannien-neue-einschraenkungen-beschlossen-a-e71c42a9-0ecc-4e14-9545-447b268db217\n",
      "----------------------------------------\n",
      "Impfstoff im Schnellverfahren\n",
      "https://www.spiegel.de/wissenschaft/medizin/corona-impfstoff-entwicklung-bei-moderna-pfizer-und-astrazeneca-standards-senken-schneller-liefern-a-fd3bcebb-84ec-4599-ac76-b1192ec58df4\n",
      "----------------------------------------\n",
      "EU-Kommission setzt auf rigorose Abschiebungen\n",
      "https://www.spiegel.de/politik/deutschland/eu-kommission-setzt-auf-rigorose-abschiebungen-a-0aa9ac64-a0d9-4ec4-8146-cb6cd58ae8c3\n",
      "----------------------------------------\n",
      "Cindy McCain spricht sich für Joe Biden aus\n",
      "https://www.spiegel.de/politik/ausland/usa-cindy-mccain-spricht-sich-fuer-joe-biden-aus-und-gegen-donald-trump-a-b13c8c62-350c-4c3f-9a2b-e1ba3628d588\n",
      "----------------------------------------\n",
      "Dauerhafte Macht einer Minderheit\n",
      "https://www.spiegel.de/politik/ausland/wahlen-in-den-usa-die-dauerhafte-macht-der-minderheit-a-c274db0d-046d-4366-9c25-f99b260d6696\n",
      "----------------------------------------\n",
      "Tanken für Brüssel\n",
      "https://www.spiegel.de/wirtschaft/soziales/ursula-von-der-leyens-klimaplaene-fuer-europa-sind-unsozial-tanken-fuer-bruessel-a-17aa70b4-7f8a-4cce-9bb8-69ea3a24023f\n",
      "----------------------------------------\n",
      "Erdoğan verprellt die Jugend\n",
      "https://www.spiegel.de/politik/ausland/tuerkei-wie-recep-tayyip-erdogan-die-jugend-verprellt-a-7184d804-9cf1-46f0-8876-2fe21b745c76\n",
      "----------------------------------------\n",
      "Elon Musk, der Maschinen-Mann\n",
      "https://www.spiegel.de/wirtschaft/unternehmen/battery-day-von-tesla-das-bedeuten-elon-musks-ankuendigungen-a-7f0a5386-b6f9-4927-bbbd-e95cbe7c2576\n",
      "----------------------------------------\n",
      "Groß angelegte Drogenrazzia gegen Münchner Polizisten\n",
      "https://www.spiegel.de/panorama/justiz/muenchen-grossangelegte-drogenrazzia-gegen-mehr-als-20-polizisten-a-30e1f772-e632-416d-97d9-8622ab1dcfc8\n",
      "----------------------------------------\n",
      "Die gefallene deutsche Ikone\n",
      "https://www.spiegel.de/wirtschaft/unternehmen/deutsche-bank-im-geldwaesche-skandal-die-gefallene-deutsche-ikone-a-19946983-8494-477f-981e-0ffbcd8036bb\n",
      "----------------------------------------\n",
      "Nawalny setzt auf tägliche Physiotherapie\n",
      "https://www.spiegel.de/politik/ausland/alexej-nawalny-setzt-auf-taegliche-physiotherapie-a-d6e29d48-2a25-42e3-9d78-33ae59293255\n",
      "----------------------------------------\n",
      "\"Es gab kein Wirtschaftswunder\"\n",
      "https://www.spiegel.de/geschichte/historiker-werner-abelshauser-ueber-ludwig-erhard-es-gab-kein-wirtschaftswunder-a-00000000-0002-0001-0000-000173049377\n",
      "----------------------------------------\n",
      "Staatsanwalt stellt Ermittlungen wegen Abi-Rede ein\n",
      "https://www.spiegel.de/panorama/bildung/boehmermann-praktikant-fiete-korn-aus-prerow-staatsanwalt-stellt-ermittlungen-wegen-abi-rede-ein-a-97ba032b-baf4-49e8-808d-f8909f11bfe8\n",
      "----------------------------------------\n",
      "\"Bienen fressen keine Steine\"\n",
      "https://www.spiegel.de/politik/deutschland/baden-wuerttembergs-umweltminister-verbietet-schottergaerten-bienen-fressen-keine-steine-a-00000000-0002-0001-0000-000173100104\n",
      "----------------------------------------\n",
      "Sie fährt wie ein Mädchen - und wurde so Weltmeisterin bei den Jungs\n",
      "https://www.spiegel.de/sport/motorsport-ana-carrasco-faehrt-wie-ein-maedchen-und-wird-weltmeisterin-bei-den-superbike-jungs-a-c26f0b93-8323-4da9-b221-a5357162b458\n",
      "----------------------------------------\n",
      "Vorhang auf für die nächste Peinlichkeit\n",
      "https://www.spiegel.de/sport/fussball/luis-suarez-vom-fc-barcelona-vorhang-auf-fuer-die-naechste-peinlichkeit-a-47ef3035-43a6-4ad4-a86b-c9afaf10ad8c\n",
      "----------------------------------------\n",
      "Michael Gwisdek ist tot\n",
      "https://www.spiegel.de/kultur/kino/michael-gwisdek-ist-tot-schauspieler-mit-78-jahren-gestorben-a-36316452-0383-4e91-8987-53d867b88839\n",
      "----------------------------------------\n",
      "Wie das Borderline-Syndrom Beziehungen belasten kann\n",
      "https://www.bento.de/gefuehle/borderline-wie-das-syndrom-beziehungen-belasten-kann-a-78683826-552e-4cf8-83c1-f987b39207cb#refsponi\n",
      "----------------------------------------\n",
      "So befriedigt sind die Deutschen\n",
      "https://www.spiegel.de/gesundheit/sex/sex-in-deutschland-wissenschaftler-blicken-ins-schlafzimmer-a-33aec6c3-b546-4dfd-acca-4836bcbbffc1\n",
      "----------------------------------------\n",
      "Dresdner Professor publiziert Pseudo-Studien wie am Fließband\n",
      "https://www.spiegel.de/wissenschaft/medizin/uwe-wollina-so-leicht-ist-es-pseudowissenschaftlichen-unsinn-zu-publizieren-a-00000000-0002-0001-0000-000173100156\n",
      "----------------------------------------\n",
      "Welche Apple Watch ist ihr Geld wert?\n",
      "https://www.spiegel.de/netzwelt/gadgets/apple-watch-6-und-apple-watch-se-im-test-die-2-aus-der-zwischenzeit-a-dd9824c3-1e8d-4834-b848-c1a94f0e542d\n",
      "----------------------------------------\n",
      "Cholesterinsenker können krank machen\n",
      "https://www.spiegel.de/gesundheit/diagnose/kardiologe-warnt-vor-statinen-cholesterinsenker-koennen-krank-machen-a-00000000-0002-0001-0000-000172993241\n",
      "----------------------------------------\n",
      "\"Selbstgespräche helfen, andere Gehirnregionen zu aktivieren\"\n",
      "https://www.spiegel.de/panorama/quizchampion-sebastian-klussmann-erklaert-was-man-wissen-muss-a-1beffafc-087b-4cd7-8b33-4b537f33a51c\n",
      "----------------------------------------\n",
      "Kommentare und Kolumnen\n",
      "https://www.spiegel.de/thema/meinung/\n",
      "----------------------------------------\n",
      "Klatschen oder Klatsche für die Helden?\n",
      "https://www.spiegel.de/wirtschaft/streiks-im-oeffentlichen-dienst-klatschen-oder-klatsche-fuer-die-helden-a-c0bbfbc5-1728-4a60-aec2-9364642aa19c\n",
      "----------------------------------------\n",
      "Sie merken es einfach nicht\n",
      "https://www.spiegel.de/kultur/christian-lindner-und-co-peinliche-maenner-aufhalten-nicht-aushalten-kolumne-a-90532a64-cc82-4ff4-a7e0-1b080ac021d4\n",
      "----------------------------------------\n",
      "Gewöhnt Euch!\n",
      "https://www.spiegel.de/politik/deutschland/corona-gewoehnt-euch-an-das-leben-mit-dem-virus-kolumne-a-1620c2e1-4bf3-4b9d-92b8-72f5d204842a\n",
      "----------------------------------------\n",
      "Die EU spart ihre Zukunft kaputt\n",
      "https://www.spiegel.de/wissenschaft/mensch/forschungsfoerderung-die-eu-spart-ihre-zukunft-kaputt-kolumne-a-a0cfe947-4230-4aca-aaa2-8373a0ea9c9b\n",
      "----------------------------------------\n",
      "Politik\n",
      "https://www.spiegel.de/politik/deutschland/\n",
      "----------------------------------------\n",
      "Vergifteter Kremlkritiker: Nawalny aus stationärer Behandlung entlassen\n",
      "https://www.spiegel.de/politik/deutschland/alexej-nawalny-aus-stationaerer-behandlung-entlassen-a-dca5d69d-2ed4-4681-965c-5939f3f982ef\n",
      "----------------------------------------\n",
      "Vertrauliche Vereinbarung der Sicherheitsbehörden: MAD soll aggressiver gegen rechtsextreme Soldaten vorgehen\n",
      "https://www.spiegel.de/politik/deutschland/bundeswehr-und-rechtsextremismus-mad-soll-aggressiver-ermitteln-a-20704410-5618-4e47-8c33-854bac0f1444\n",
      "----------------------------------------\n",
      "Führungsstreit: AfD-Fraktion im niedersächsischen Landtag zerbrochen\n",
      "https://www.spiegel.de/politik/deutschland/afd-fraktion-im-niedersaechsischen-landtag-zerbrochen-a-4b34ce2c-0da6-426c-a2ef-109f5ff83d34\n",
      "----------------------------------------\n",
      "Ausland\n",
      "https://www.spiegel.de/politik/ausland/\n",
      "----------------------------------------\n",
      "Belarus: Lukaschenko lässt sich als Präsident vereidigen\n",
      "https://www.spiegel.de/politik/ausland/belarus-alexander-lukaschenko-laesst-sich-als-praesident-vereidigen-a-ae164f70-d5f4-4876-a99c-92005a53e353\n",
      "----------------------------------------\n",
      "Uno-Generaldebatte: Trump attackiert China\n",
      "https://www.spiegel.de/politik/ausland/uno-generaldebatte-donald-trump-attackiert-china-scharf-a-1cc43432-daca-430d-948a-6800bbc1536e\n",
      "----------------------------------------\n",
      "Hisbollah im Libanon: Weltkonzern der Geldwäsche\n",
      "https://www.spiegel.de/politik/ausland/libanon-warum-die-hisbollah-von-hassan-nasrallah-eine-wirtschaftsmacht-ist-a-ed8d714f-da46-45c6-bd78-ad623eab7503\n",
      "----------------------------------------\n",
      "Panorama\n",
      "https://www.spiegel.de/panorama/\n",
      "----------------------------------------\n",
      "Gwyneth Paltrow über Scheidung: \"Ich wollte nicht, dass meine Kinder traumatisiert werden\"\n",
      "https://www.spiegel.de/panorama/leute/gwyneth-paltrow-und-chris-martin-gemeinsame-kindererziehung-trotz-scheidung-a-d3d8bf3b-f549-41cb-bfcb-33ded37ac4e2\n",
      "----------------------------------------\n",
      "Australien: Mann nach Pfeilschuss auf Jugendliche wegen Mordversuch angeklagt\n",
      "https://www.spiegel.de/panorama/australien-mann-nach-pfeilschuss-auf-jugendliche-wegen-versuchten-mordes-angeklagt-a-c39293a8-43a0-4719-a376-65a478a7ba27\n",
      "----------------------------------------\n",
      "Rechnungshof-Kritik: Unis horten Milliarden aus dem Hochschulpakt\n",
      "https://www.spiegel.de/panorama/bildung/kritik-vom-rechnungshof-hochschulen-horten-milliarden-euro-aus-dem-hochschulpakt-a-d9f8b59f-5c64-4f05-8618-f33931800b5c\n",
      "----------------------------------------\n",
      "Sport\n",
      "https://www.spiegel.de/sport/\n",
      "----------------------------------------\n",
      "Uefa-Auszeichnung: Lewandowski und Neuer als \"Europas Fußballer des Jahres\" nominiert\n",
      "https://www.spiegel.de/sport/fussball/robert-lewandowski-und-manuel-neuer-als-europas-fussballer-des-jahres-nominiert-a-25c8f450-027b-4dcf-a73d-54a0cb29a416\n",
      "----------------------------------------\n",
      "+++ Fußball-Transferticker +++: Flick soll über Götze als Bayern-Zugang nachdenken\n",
      "https://www.spiegel.de/sport/fussball/fc-bayern-muenchen-hansi-flick-soll-ueber-mario-goetze-als-zugang-nachdenken-a-2e58c864-4f0d-43df-a311-dbeb6f672077\n",
      "----------------------------------------\n",
      "Domenicali soll neuer Formel-1-Chef werden: Ferraris Einfluss könnte weiter wachsen\n",
      "https://www.spiegel.de/sport/formel1/stefano-domenicali-soll-formel-1-boss-werden-waechst-der-einfluss-von-ferrari-a-0354d28a-0d26-48a0-8b59-c27f9376796c\n",
      "----------------------------------------\n",
      "Wirtschaft\n",
      "https://www.spiegel.de/wirtschaft/\n",
      "----------------------------------------\n",
      "Coronakrise: Einkommen brechen weltweit ein\n",
      "https://www.spiegel.de/wirtschaft/soziales/corona-krise-weltweite-einkommen-brechen-drastisch-ein-a-9f935891-658b-4c6e-b176-2873191ca17e\n",
      "----------------------------------------\n",
      "Neues Ökostrom-Gesetz: Mehr Windräder, höhere Subventionen\n",
      "https://www.spiegel.de/wirtschaft/soziales/mehr-windraeder-hoehere-subventionen-a-1504f43d-0e99-4cea-9a8d-4b5c1bb85284\n",
      "----------------------------------------\n",
      "Haushaltsentwurf für 2021: Regierung segnet neue Schulden ab\n",
      "https://www.spiegel.de/wirtschaft/soziales/haushaltsentwurf-kabinett-stimmt-neuen-schulden-fuer-2021-zu-a-e24d6f9e-3633-4af9-a73c-c7027f00c6f6\n",
      "----------------------------------------\n",
      "Zukunft der Billigmarke im Konzern: Wie die Lufthansa-Tochter Eurowings ums Überleben kämpft\n",
      "https://www.manager-magazin.de/unternehmen/eurowings-jens-bischof-kaempft-ums-ueberleben-der-lufthansa-tochter-a-00000000-0002-0001-0000-000173050951\n",
      "----------------------------------------\n",
      "Neuer Anlageskandal: Anleger bangen um Gold im Wert von 45 Millionen Euro\n",
      "https://www.manager-magazin.de/\n",
      "----------------------------------------\n",
      "BlackRock-Spitzenökonomin Elga Bartsch: \"Wir empfehlen derzeit europäische Aktien\"\n",
      "https://www.manager-magazin.de/finanzen/boerse/elga-bartsch-im-interview-blackrock-oekonomin-ueber-die-folgen-der-corona-rettung-a-00000000-0002-0001-0000-000173050960\n",
      "----------------------------------------\n",
      "Börsenkurse manager magazin\n",
      "https://boersen.manager-magazin.de\n",
      "----------------------------------------\n",
      "Wissenschaft\n",
      "https://www.spiegel.de/wissenschaft/\n",
      "----------------------------------------\n",
      "Nationalakademie: Leopoldina fordert härtere Umsetzung der Corona-Regeln\n",
      "https://www.spiegel.de/wissenschaft/medizin/leopoldina-fordert-haertere-umsetzung-der-corona-regeln-a-1734fcf7-1a21-4065-b729-d44fb59fd1c1\n",
      "----------------------------------------\n",
      "Rekordsaison: Liste der Namen für Wirbelstürme aufgebraucht\n",
      "https://www.spiegel.de/wissenschaft/natur/hurrikan-rekordsaison-liste-der-namen-fuer-wirbelstuerme-aufgebraucht-a-435c7730-b308-4714-aaa5-8536a2155208\n",
      "----------------------------------------\n",
      "Boeings Krisenjet: Piloten fordern neue Regeln für den Betrieb der 737 Max\n",
      "https://www.spiegel.de/wissenschaft/technik/737-max-boeing-piloten-fordern-neue-regeln-fuers-cockpit-a-fc1bd1fb-07ce-4309-bdc3-21a047239d36\n",
      "----------------------------------------\n",
      "Netzwelt\n",
      "https://www.spiegel.de/netzwelt/\n",
      "----------------------------------------\n",
      "Doxing-Angriffe auf Bundestag: Passwortdatenbank ermöglichte Promi-Hack\n",
      "https://www.spiegel.de/netzwelt/web/passwortdatenbank-ermoeglichte-promi-hack-a-a5330335-8fd0-4d65-b358-8d88750fbd45\n",
      "----------------------------------------\n",
      "Nach Übernahme durch Microsoft: Zwei ZeniMax-Titel erscheinen noch exklusiv für PlayStation\n",
      "https://www.spiegel.de/netzwelt/games/deathloop-und-ghostwire-tokyo-exklusiv-fuer-playstation-trotz-microsoft-uebernahme-a-efce72d4-d46e-4b4b-b3ce-90db6597a36f\n",
      "----------------------------------------\n",
      "Videospiel \"Spelunky 2\": Der Tempel der tausend Tode\n",
      "https://www.spiegel.de/netzwelt/games/spelunky-2-im-test-der-tempel-der-tausend-tode-a-594dc91b-f6d1-4189-81ae-6d6a3abc897d\n",
      "----------------------------------------\n",
      "Kultur\n",
      "https://www.spiegel.de/kultur/\n",
      "----------------------------------------\n",
      "Neue Intendantin Julia Wissert in Dortmund: \"Letzten Endes sind die meisten Theater Fabriken\"\n",
      "https://www.spiegel.de/kultur/intendantin-julia-wissert-in-dortmund-weisse-fantasien-a-00000000-0002-0001-0000-000173100168\n",
      "----------------------------------------\n",
      "Doku \"This is Paris\": Warum Paris Hilton das Monster in ihrem Leben brauchte\n",
      "https://www.spiegel.de/kultur/paris-hilton-doku-this-is-paris-auf-youtube-zu-sehen-rezension-a-8a1fe7a1-6849-492f-a61f-32bae8393ee9\n",
      "----------------------------------------\n",
      "\"Fast ein neues Leben\" von Anna Prizkau: Diese Fremdheit in ihr\n",
      "https://www.spiegel.de/kultur/literatur/fast-ein-neues-leben-von-anna-prizkau-diese-fremdheit-in-ihr-rezension-a-526103bb-8161-4bc5-891d-d8b4f59987fa\n",
      "----------------------------------------\n",
      "Warum es immer mehr Flüchtlings-Pornos gibt – und wer sie guckt\n",
      "https://www.bento.de/gefuehle/porno-mit-fluechtlingen-warum-es-immer-mehr-fluechtlings-pornos-gibt-und-wer-sie-schaut-a-00000000-0003-0001-0000-000002115723\n",
      "----------------------------------------\n",
      "Warum mögt ihr Deutschen euch gegenseitig nicht?\n",
      "https://www.bento.de/gefuehle/warum-moegen-deutsche-sich-untereinander-nicht-beobachtungen-von-andrea-aus-mexiko-a-00000000-0003-0001-0000-000002474116\n",
      "----------------------------------------\n",
      "Ich habe eine 15 Jahre alte Bravo gelesen – und endlich meine Generation verstanden\n",
      "https://www.bento.de/vintage/bravo-aus-alten-heften-von-2003-habe-ich-viel-ueber-meine-generation-gelernt-a-6b986aa4-933b-411c-894f-d8d4418bd394\n",
      "----------------------------------------\n",
      "Tests\n",
      "https://www.spiegel.de/tests/\n",
      "----------------------------------------\n",
      "Outdoor-Hygiene: Diese Camping-Gadgets bringen Erleichterung\n",
      "https://www.spiegel.de/tests/camping/camping-gadgets-im-tests-diese-helfer-bringen-erleichterung-a-4f45e82e-461c-4a6f-8629-e270d8434533\n",
      "----------------------------------------\n",
      "Bestseller Link\n",
      "https://www.spiegel.de/kultur/bestseller-buecher-belletristik-sachbuch-auf-spiegel-liste-a-458623.html\n",
      "----------------------------------------\n",
      "Geschichte\n",
      "https://www.spiegel.de/geschichte/\n",
      "----------------------------------------\n",
      "Finanzbetrüger erfand Land: Zu schön, um wahr zu sein\n",
      "https://www.spiegel.de/geschichte/finanzbetrug-anno-1822-wie-ein-schotte-das-ferne-land-poyais-erfand-a-5572cf9a-65f8-40d3-aa30-eceecf7ac918\n",
      "----------------------------------------\n",
      "Historikerin über die NS-Verstrickung der Hohenzollern: \"Die Quellenlage ist bedrückend eindeutig\"\n",
      "https://www.spiegel.de/geschichte/ns-verstrickung-der-hohenzollern-die-quellenlage-ist-bedrueckend-eindeutig-a-fddb331a-2247-4743-8df4-e90af32141dd\n",
      "----------------------------------------\n",
      "Gewalt gegen Schiedsrichter: \"Ich werde nie wieder einen Fußballplatz betreten\"\n",
      "https://www.spiegel.de/geschichte/gewalt-gegen-fussball-schiedsrichter-schlaege-fuer-den-unparteiischen-a-026cfaa2-02fe-48fd-aa88-16324d13b635\n",
      "----------------------------------------\n",
      "Job & Karriere\n",
      "https://www.spiegel.de/karriere/\n",
      "----------------------------------------\n",
      "Studie zu Stellenanzeigen: Liebe Firmen, hört auf mit dem Geschwätz\n",
      "https://www.spiegel.de/karriere/stellenanzeigen-bewerber-wuenschen-sich-angabe-zum-gehalt-a-06a15e81-9bac-47fd-83e9-1f2a5da96ea9\n",
      "----------------------------------------\n",
      "Tipps von den Karriereberaterinnen: Wie verschaffe ich mir Gehör beim Chef?\n",
      "https://www.spiegel.de/karriere/so-verschaffen-sie-sich-gehoer-beim-vorstand-a-705ba9b4-5249-43bc-9aaa-218b079d5b58\n",
      "----------------------------------------\n",
      "Arbeitsrecht kurz erklärt: Was Sie zu Überstunden wissen müssen\n",
      "https://www.spiegel.de/karriere/ueberstunden-alles-was-sie-wissen-muessen-a-78c7d2ab-ca7c-4cfc-b11e-08a7b33da1bc\n",
      "----------------------------------------\n",
      "Mobilität\n",
      "https://www.spiegel.de/auto/\n",
      "----------------------------------------\n",
      "Bessere Akkus, billigere Autos: Elon Musks Batterieshow enttäuscht die Investoren\n",
      "https://www.spiegel.de/auto/battery-day-bei-tesla-elons-musks-batterie-show-enttaeuscht-die-investoren-a-90a67746-6536-4a2b-b161-94375ad1a846\n",
      "----------------------------------------\n",
      "Erste Fahrt im VW ID.4: Als Volkswagen einmal schneller als Tesla war\n",
      "https://www.spiegel.de/auto/fahrberichte/vw-id-4-im-test-kann-es-der-elektro-suv-von-volkswagen-mit-tesla-aufnehmen-a-f3d41599-9ab1-489e-99aa-4dc93b7f0b85\n",
      "----------------------------------------\n",
      "Ratgeber Rad - Faltrad Kwiggle: Achtung, Fahrer schwenkt aus!\n",
      "https://www.spiegel.de/auto/faltrad-kwiggle-im-test-achtung-fahrer-schwenkt-aus-a-3ae75b56-d632-4805-99ef-31b7c68ad171\n",
      "----------------------------------------\n",
      "Leben\n",
      "https://www.spiegel.de/thema/leben/\n",
      "----------------------------------------\n",
      "\"Um den Wald zu verstehen, braucht man Zeit\"\n",
      "https://www.spiegel.de/reise/bayerischer-wald-um-den-wald-zu-verstehen-braucht-man-zeit-a-5d43a82b-f31a-4449-b9f2-d164fec24862\n",
      "----------------------------------------\n",
      "\"Meinem Mann sagte ich, ich hätte mit den Kindern gegessen\"\n",
      "https://www.spiegel.de/gesundheit/magersucht-bei-erwachsenen-am-ende-war-ich-nur-noch-essstoerung-a-7e744665-67e4-48b5-9ffe-1cfcb7aac89d\n",
      "----------------------------------------\n",
      "Wie jeder seine Atemwege und sein Immunsystem stärken kann\n",
      "https://www.spiegel.de/gesundheit/diagnose/coronavirus-wie-jeder-seine-atemwege-und-sein-immunsystem-staerken-kann-a-00000000-0002-0001-0000-000170435669\n",
      "----------------------------------------\n",
      "So gelingt die Eingewöhnung in Kita und Schule\n",
      "https://www.spiegel.de/gesundheit/schwangerschaft/neuanfang-in-kita-und-schule-wenn-die-eltern-gestresst-sind-kann-es-einfach-nicht-funktionieren-a-3fccec0b-46f7-4996-853e-d01a53c093a4\n",
      "----------------------------------------\n",
      "\"Die Zauberformel lautet: Es ist\"\n",
      "https://www.spiegel.de/psychologie/corona-krise-was-man-gegen-die-corona-erschoepfung-tun-kann-a-59f3080d-1f20-46f8-8d3f-f1c1005b9e4e\n",
      "----------------------------------------\n",
      "Was, wenn die Lust am Sex verschwindet?\n",
      "https://www.spiegel.de/partnerschaft/kein-sex-ist-das-ein-trennungsgrund-das-sagen-experten-und-betroffene-a-be6c725f-d1a0-4cd3-9a30-3e6e432c164d\n",
      "----------------------------------------\n",
      "Interessante Brettspiele\n",
      "https://www.spiegel.de/thema/test_und_produkte/\n",
      "----------------------------------------\n",
      "Die Tafelrunde, das Schwert und der Gral\n",
      "https://www.spiegel.de/tests/brettspiele/brettspiele-um-die-artus-sage-tainted-grail-merlin-stonehenge-tipps-a-6ec2c8ff-9861-4a2b-9dae-889d572108b2\n",
      "----------------------------------------\n",
      "Fies gewinnt\n",
      "https://www.spiegel.de/tests/brettspiele/brettspiele-villainous-watergate-jaws-fies-gewinnt-a-2145d9d2-03c9-4ec3-bedb-7ed1107eddb8\n",
      "----------------------------------------\n",
      "In sieben außergewöhnlichen Brettspielen um die Welt\n",
      "https://www.spiegel.de/tests/brettspiele/brettspiele-im-test-in-sieben-spielen-um-die-welt-a-a8509df4-ad3c-4bd7-9a07-cae5df7bc033\n",
      "----------------------------------------\n",
      "Dein SPIEGEL\n",
      "https://www.spiegel.de/deinspiegel/\n",
      "----------------------------------------\n",
      "Was dich in \"Dein SPIEGEL\" Nr. 10/2020 erwartet\n",
      "https://www.spiegel.de/deinspiegel/was-dich-in-dein-spiegel-nr-10-2020-erwartet-a-244f5796-825f-4441-b24c-111da592a2d5\n",
      "----------------------------------------\n",
      "\"Künstler brauchen die Bühne\"\n",
      "https://www.spiegel.de/deinspiegel/singer-songwriterin-anne-marie-kuenstler-brauchen-die-buehne-a-00000000-0002-0001-0000-000172431259\n",
      "----------------------------------------\n",
      "Bild des Tages\n",
      "https://www.spiegel.de/fotostrecke/bilder-des-tages-fotos-aus-deutschland-und-der-welt-fotostrecke-122824.html\n"
     ]
    }
   ],
   "source": [
    "#print soup.get_text()hreflinks=[]\n",
    "AllTitles=soup.findAll('h2')\n",
    "alltitles=[]\n",
    "alltitleLinks=[]\n",
    "for l in AllTitles:\n",
    "    #print l\n",
    "    try:\n",
    "        title = l.find('a')['title']\n",
    "        link = l.find('a')['href']\n",
    "        print('-'*40)\n",
    "        print(title)\n",
    "        print(link)\n",
    "        alltitles.append(title)\n",
    "        alltitleLinks.append(link)\n",
    "    except:\n",
    "        pass"
   ]
  },
  {
   "cell_type": "markdown",
   "metadata": {
    "slideshow": {
     "slide_type": "slide"
    }
   },
   "source": [
    "## Get all images of the page\n",
    "\n",
    "Get url of all images, which are currently displayed on [www.zeit.de](http://www.zeit.de):"
   ]
  },
  {
   "cell_type": "code",
   "execution_count": 7,
   "metadata": {
    "ExecuteTime": {
     "end_time": "2017-10-20T12:50:12.456000Z",
     "start_time": "2017-10-20T12:50:12.440000Z"
    },
    "execution": {
     "iopub.execute_input": "2020-09-23T12:40:49.143673Z",
     "iopub.status.busy": "2020-09-23T12:40:49.142898Z",
     "iopub.status.idle": "2020-09-23T12:40:49.145770Z",
     "shell.execute_reply": "2020-09-23T12:40:49.146236Z"
    },
    "slideshow": {
     "slide_type": "fragment"
    }
   },
   "outputs": [
    {
     "name": "stdout",
     "output_type": "stream",
     "text": [
      "https://cdn.prod.www.spiegel.de/images/fcc756cc-0001-0004-0000-000000955049_w40_r1_fpx49_fpy46.jpg\n",
      "https://cdn.prod.www.spiegel.de/images/fcc756cc-0001-0004-0000-000000955049_w40_r1_fpx49_fpy46.jpg\n",
      "data:image/gif;base64,R0lGODlhAQABAAAAACH5BAEKAAEALAAAAAABAAEAAAICTAEAOw==\n",
      "https://cdn.prod.www.spiegel.de/images/cd1fdb20-7955-4e95-bfdc-50d510a5e23d_w872_r1.77_fpx66_fpy40.jpg\n",
      "https://cdn.prod.www.spiegel.de/images/c6cc53ca-d6e6-4633-ab7f-2be92e2fc529_w488_r1.77_fpx61.88_fpy50.jpg\n",
      "https://cdn.prod.www.spiegel.de/images/5f37195e-e98f-49ba-ad3d-9b31ce587083_w488_r1.77_fpx46_fpy47.jpg\n",
      "https://cdn.prod.www.spiegel.de/images/5f37195e-e98f-49ba-ad3d-9b31ce587083_w488_r1.77_fpx46_fpy47.jpg\n",
      "https://cdn.prod.www.spiegel.de/images/e916d3ac-6a1b-4817-937e-6f56f56cf23e_w56_r1_fpx45_fpy54.42.png\n",
      "https://cdn.prod.www.spiegel.de/images/e916d3ac-6a1b-4817-937e-6f56f56cf23e_w56_r1_fpx45_fpy54.42.png\n",
      "https://cdn.prod.www.spiegel.de/images/692ffd31-0c77-4723-8e83-c41df51c0295_w56_r1_fpx52.84_fpy46.82.png\n"
     ]
    }
   ],
   "source": [
    "imglinks=[]\n",
    "AllImgs=soup.findAll('img')\n",
    "for l in AllImgs:\n",
    "    if l.has_attr('src'):\n",
    "       imglinks.append(l)\n",
    "\n",
    "for l in imglinks[:10]:\n",
    "    print(l['src'])"
   ]
  },
  {
   "cell_type": "markdown",
   "metadata": {
    "slideshow": {
     "slide_type": "slide"
    }
   },
   "source": [
    "## Get entire text of a news-article"
   ]
  },
  {
   "cell_type": "code",
   "execution_count": 8,
   "metadata": {
    "ExecuteTime": {
     "end_time": "2017-10-20T13:09:24.145000Z",
     "start_time": "2017-10-20T13:09:23.833000Z"
    },
    "execution": {
     "iopub.execute_input": "2020-09-23T12:40:49.160417Z",
     "iopub.status.busy": "2020-09-23T12:40:49.159350Z",
     "iopub.status.idle": "2020-09-23T12:40:59.108676Z",
     "shell.execute_reply": "2020-09-23T12:40:59.109346Z"
    },
    "slideshow": {
     "slide_type": "fragment"
    }
   },
   "outputs": [
    {
     "name": "stdout",
     "output_type": "stream",
     "text": [
      "\n",
      "SPIEGEL+-Zugang wird gerade auf einem anderen Gerät genutzt\n",
      "\n",
      "SPIEGEL+ kann nur auf einem Gerät zur selben Zeit genutzt werden.\n",
      "\n",
      "Klicken Sie auf den Button, spielen wir den Hinweis auf dem anderen Gerät aus und Sie können SPIEGEL+ weiter nutzen.\n",
      "\n",
      "\n",
      "Manuel Neuer (l), Robert Lewandowski: Geht die Auszeichnung nach München?\n",
      "Swen Pförtner/ dpa\n",
      "Robert Lewandowski und Manuel Neuer dürfen auf die Auszeichnung als \"Europas Fußballer des Jahres\" hoffen. Die beiden Profis von Champions-League-Sieger FC Bayern München zählen neben Kevin De Bruyne von Manchester City zu den drei Nominierten einer Jury für die Auszeichnung des Uefa-Spielers der Saison 2019/2020. Das teilte der Kontinentalverband mit.\n",
      "Maßgeblich war die Abstimmung von 80 Trainern der Klubs, die an der Gruppenphase von Champions League und Europa League teilnahmen, sowie 55 Journalisten - jeweils einer pro Uefa-Mitgliedsverband. Die Preise werden am 1. Oktober im Rahmen der Auslosung der Champions-League-Auslosung vergeben.\n",
      "Besonders gute Chancen dürfte Lewandowski haben. Der Stürmer war mit 15 Treffern der erfolgreichste Torschütze der Königsklasse. Wettbewerbsübergreifend gelangen ihm 55 Tore in 47 Einsätzen für die Bayern. Torwart Neuer zeigte gerade im Endspiel der Champions League gegen Paris eine herausragende Leistung. Als Außenseiter dürfte De Bruyne gelten. Der Belgier zählte zwar individuell zu den stärksten Spielern der abgelaufenen Premier-League-Saison. Bei Uefa-Auszeichnungen geht es aber stets auch um vorzeigbare Erfolge - und da sieht es nicht gut aus für Manchester City.\n",
      "Hinter Lionel Messi und Neymar auf dem geteilten vierten Platz kam Thomas Müller bei der Abstimmung auf Rang sechs. Thiago als Achter und Joshua Kimmich als Neunter sind ebenfalls aus dem Münchner Team, das die Königsklasse gewann, unter den Top Ten. Zuletzt war in Franck Ribéry vor sieben Jahren ein Profi aus der Männer-Bundesliga als \"Europas Fußballer des Jahres\" ausgezeichnet worden.\n",
      "Auch bei den Frauen wurde eine Spielerin für ihre Leistungen für einen Bundesligisten nominiert: Pernille Harder. Die Dänin war mit dem VfL Wolfsburg Meister geworden und im Finale der Champions League an Olympique Lyon gescheitert, inzwischen ist sie zum FC Chelsea gewechselt. Harder war bereits 2018 als \"Europas Fußballerin des Jahres\" ausgezeichnet, in der vergangenen Saison war sie beim VfL die Schlüsselspielerin im Angriff. Harders Konkurrentinnen sind die Engländerin Lucy Bronze (zuletzt Lyon, jetzt Manchester City) und die französische Weltklasseverteidigerin Wendie Renard (Lyon).\n",
      "Neben Spielenden wurden auch die besten Trainer verkündet. Bei den Männern sind die drei Kandidaten allesamt Deutsche: Hansi Flick von den Bayern, Jürgen Klopp vom FC Liverpool und RB Leipzigs Julian Nagelsmann. Bei den Frauen ist Wolfsburgs Stephan Lerch nominiert, ebenso der Spanier Lluis Cortes (FC Barcelona) und der Franzose Jean-Luc Vasseur (Lyon).\n",
      "Manuel Neuer (l), Robert Lewandowski: Geht die Auszeichnung nach München?\n",
      "Swen Pförtner/ dpa\n",
      "Melden Sie sich an und diskutieren Sie mit\n"
     ]
    }
   ],
   "source": [
    "IDX=0\n",
    "suburl=alltitleLinks[IDX]\n",
    "try:\n",
    "    html=urlopen(suburl).read() #works if subdomains are referenced by absolute path\n",
    "except:\n",
    "    html=urlopen(url+suburl).read() #works if subdomains are referenced by relative path\n",
    "soup=BeautifulSoup(html,\"html.parser\")\n",
    "AllP=soup.findAll('p')\n",
    "for p in AllP:\n",
    "    print(p.get_text())"
   ]
  },
  {
   "cell_type": "markdown",
   "metadata": {
    "collapsed": true,
    "slideshow": {
     "slide_type": "skip"
    }
   },
   "source": [
    "## Questions and Remarks\n",
    "1. This notebook demonstrates how raw-text can be crawled from news-sites. But what is the drawback of this method?\n",
    "2. Execute the entire notebook also for `www.spiegel.de` and `www.sueddeutsche.de`.\n",
    "3. What do you observe? How to solve the problem?"
   ]
  },
  {
   "cell_type": "code",
   "execution_count": null,
   "metadata": {
    "collapsed": true
   },
   "outputs": [],
   "source": []
  }
 ],
 "metadata": {
  "celltoolbar": "Slideshow",
  "kernelspec": {
   "display_name": "Python 3",
   "language": "python",
   "name": "python3"
  },
  "language_info": {
   "codemirror_mode": {
    "name": "ipython",
    "version": 3
   },
   "file_extension": ".py",
   "mimetype": "text/x-python",
   "name": "python",
   "nbconvert_exporter": "python",
   "pygments_lexer": "ipython3",
   "version": "3.7.7"
  },
  "nav_menu": {},
  "toc": {
   "base_numbering": 1,
   "nav_menu": {},
   "number_sections": true,
   "sideBar": true,
   "skip_h1_title": false,
   "title_cell": "Table of Contents",
   "title_sidebar": "Contents",
   "toc_cell": false,
   "toc_position": {},
   "toc_section_display": "block",
   "toc_window_display": false
  },
  "varInspector": {
   "cols": {
    "lenName": 16,
    "lenType": 16,
    "lenVar": 40
   },
   "kernels_config": {
    "python": {
     "delete_cmd_postfix": "",
     "delete_cmd_prefix": "del ",
     "library": "var_list.py",
     "varRefreshCmd": "print(var_dic_list())"
    },
    "r": {
     "delete_cmd_postfix": ") ",
     "delete_cmd_prefix": "rm(",
     "library": "var_list.r",
     "varRefreshCmd": "cat(var_dic_list()) "
    }
   },
   "types_to_exclude": [
    "module",
    "function",
    "builtin_function_or_method",
    "instance",
    "_Feature"
   ],
   "window_display": false
  }
 },
 "nbformat": 4,
 "nbformat_minor": 1
}