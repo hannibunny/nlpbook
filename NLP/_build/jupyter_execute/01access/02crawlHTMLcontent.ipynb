{
 "cells": [
  {
   "cell_type": "markdown",
   "metadata": {
    "slideshow": {
     "slide_type": "slide"
    }
   },
   "source": [
    "# Access Contents of HTML Page\n",
    "\n",
    "- Author:      Johannes Maucher\n",
    "- Last update: 2018-10-21\n",
    "\n",
    "This notebook demonstrates how to parse a HTML document and access dedicated elements of the parse tree.\n",
    "[Beautiful Soup](http://www.crummy.com/software/BeautifulSoup/bs4/doc/#) is a python package for parsing HTML. Download and install version 4 by typing:\n",
    "\n",
    "> `pip install beautifulsoup4`\n",
    "\n",
    "into the command shell. Once it is installed it can be imported by"
   ]
  },
  {
   "cell_type": "code",
   "execution_count": 1,
   "metadata": {
    "ExecuteTime": {
     "end_time": "2017-10-20T12:50:00.898000Z",
     "start_time": "2017-10-20T12:50:00.893000Z"
    },
    "slideshow": {
     "slide_type": "fragment"
    }
   },
   "outputs": [],
   "source": [
    "from bs4 import BeautifulSoup"
   ]
  },
  {
   "cell_type": "markdown",
   "metadata": {
    "slideshow": {
     "slide_type": "slide"
    }
   },
   "source": [
    "For accessing arbitrary resources by URL the python modul [urllib](https://docs.python.org/2/library/urllib.html) must also be installed. Import the method _urlopen()_ from this module:  "
   ]
  },
  {
   "cell_type": "code",
   "execution_count": 2,
   "metadata": {
    "ExecuteTime": {
     "end_time": "2017-10-20T12:50:02.246000Z",
     "start_time": "2017-10-20T12:50:02.242000Z"
    },
    "slideshow": {
     "slide_type": "fragment"
    }
   },
   "outputs": [],
   "source": [
    "from urllib.request import urlopen"
   ]
  },
  {
   "cell_type": "markdown",
   "metadata": {
    "slideshow": {
     "slide_type": "fragment"
    }
   },
   "source": [
    "If these two modules are available the HTML parse tree of the specified URL can easily be generated as follows."
   ]
  },
  {
   "cell_type": "code",
   "execution_count": 3,
   "metadata": {
    "ExecuteTime": {
     "end_time": "2017-10-20T12:50:04.344000Z",
     "start_time": "2017-10-20T12:50:03.569000Z"
    },
    "slideshow": {
     "slide_type": "fragment"
    }
   },
   "outputs": [],
   "source": [
    "#url=\"http://www.zeit.de\"\n",
    "url=\"http://www.spiegel.de\"\n",
    "#url=\"http://www.sueddeutsche.de\"\n",
    "html=urlopen(url).read()\n",
    "soup=BeautifulSoup(html,\"html.parser\")"
   ]
  },
  {
   "cell_type": "markdown",
   "metadata": {
    "slideshow": {
     "slide_type": "slide"
    }
   },
   "source": [
    "Now e.g. the title of the URL can be accessed by:"
   ]
  },
  {
   "cell_type": "code",
   "execution_count": 4,
   "metadata": {
    "ExecuteTime": {
     "end_time": "2017-10-20T12:50:06.092000Z",
     "start_time": "2017-10-20T12:50:06.086000Z"
    },
    "slideshow": {
     "slide_type": "fragment"
    }
   },
   "outputs": [
    {
     "name": "stdout",
     "output_type": "stream",
     "text": [
      "Title of page:   DER SPIEGEL | Online-Nachrichten\n"
     ]
    }
   ],
   "source": [
    "titleTag = soup.html.head.title\n",
    "print(\"Title of page:  \",titleTag.string)"
   ]
  },
  {
   "cell_type": "markdown",
   "metadata": {
    "slideshow": {
     "slide_type": "slide"
    }
   },
   "source": [
    "## Get all links in the page\n",
    "All links in the page can be retrieven by the following code (only the first 20 links are printed)"
   ]
  },
  {
   "cell_type": "code",
   "execution_count": 5,
   "metadata": {
    "ExecuteTime": {
     "end_time": "2017-10-20T12:50:07.973000Z",
     "start_time": "2017-10-20T12:50:07.951000Z"
    },
    "slideshow": {
     "slide_type": "fragment"
    }
   },
   "outputs": [
    {
     "name": "stdout",
     "output_type": "stream",
     "text": [
      "Number of links in this page:  548\n",
      "#Inhalt\n",
      "https://www.spiegel.de/\n",
      "https://abo.spiegel.de/?b=SPOHNAVABO&requestAccessToken=true&sara_icid=disp_upd_9h6L5hu8K1AAnttzYATx3hvk7taDkP&targetUrl=https%3A%2F%2Fwww.spiegel.de%2Ffuermich%2F\n",
      "https://gruppenkonto.spiegel.de/authenticate?requestAccessToken=true&targetUrl=https%3A%2F%2Fwww.spiegel.de%2Ffuermich%2F\n",
      "https://www.spiegel.de/fuermich/\n",
      "https://www.spiegel.de/\n",
      "https://www.spiegel.de/schlagzeilen/\n",
      "https://www.spiegel.de/plus/\n",
      "https://www.spiegel.de/audio/\n",
      "https://www.spiegel.de/fuermich/\n",
      "https://www.spiegel.de/schlagzeilen/\n",
      "https://www.spiegel.de/plus/\n",
      "https://www.spiegel.de/thema/coronavirus/\n",
      "https://www.spiegel.de/politik/deutschland/\n",
      "https://www.spiegel.de/politik/ausland/\n",
      "https://www.spiegel.de/panorama/\n",
      "https://www.spiegel.de/sport/\n",
      "https://www.spiegel.de/wirtschaft/\n",
      "https://www.spiegel.de/wissenschaft/\n",
      "https://www.spiegel.de/netzwelt/\n"
     ]
    }
   ],
   "source": [
    "hreflinks=[]\n",
    "Alllinks=soup.findAll('a') #The <a> tag defines a hyperlink, which is used to link from one page to another.\n",
    "for l in Alllinks:\n",
    "    if l.has_attr('href'):\n",
    "        hreflinks.append(l)\n",
    "print(\"Number of links in this page: \",len(hreflinks))\n",
    "for l in hreflinks[:20]:\n",
    "    print(l['href'])"
   ]
  },
  {
   "cell_type": "markdown",
   "metadata": {
    "slideshow": {
     "slide_type": "slide"
    }
   },
   "source": [
    "## Get all news titles\n",
    "Get title of all news, which are currently listed on [www.zeit.de](http://www.zeit.de):"
   ]
  },
  {
   "cell_type": "code",
   "execution_count": 6,
   "metadata": {
    "ExecuteTime": {
     "end_time": "2017-10-20T12:50:10.208000Z",
     "start_time": "2017-10-20T12:50:10.124000Z"
    },
    "slideshow": {
     "slide_type": "fragment"
    }
   },
   "outputs": [
    {
     "name": "stdout",
     "output_type": "stream",
     "text": [
      "----------------------------------------\n",
      "Nazis stahlen Kochbuch-Bestseller: \"Aber meine jüdischen Hände auf den Fotos blieben drin\"\n",
      "https://www.spiegel.de/geschichte/alice-urbach-wie-nazis-einer-juedin-ihren-kochbuch-bestseller-raubten-a-3c9d3c5f-443f-4a9e-97f2-0832c8d8ba8d\n",
      "----------------------------------------\n",
      "\"Erhebliche anhaltende Mängel\": US-Großbank Citigroup muss 400 Millionen Dollar Strafe zahlen\n",
      "https://www.spiegel.de/wirtschaft/unternehmen/citigroup-us-bank-muss-400-millionen-dollar-strafe-zahlen-a-fab55e74-58eb-486e-a17b-9403a4404515\n",
      "----------------------------------------\n",
      "Pence vs. Harris: Sehen Sie hier die Debatte in voller Länge\n",
      "https://www.spiegel.de/politik/ausland/us-wahl-das-tv-duell-von-mike-pence-und-kamala-harris-a-20ff53fe-17ff-47ad-86f3-6cd580c84915\n",
      "----------------------------------------\n",
      "Autogramm VW Golf GTE: Sein Feind heißt GTI\n",
      "https://www.spiegel.de/auto/fahrberichte/vw-golf-gte-im-test-es-muss-nicht-immer-sportlich-sein-a-69b8f3bb-2311-41c6-a446-e7ff4f700011\n",
      "----------------------------------------\n",
      "Berufseinstieg als Berater: \"Die Big Four waren mir nicht mehr genug\"\n",
      "https://www.spiegel.de/start/unternehmensberatung-fuer-diesen-berater-waren-die-big-four-nicht-genug-a-c4268960-21b3-4688-b31c-be98aa0d1a2e\n",
      "----------------------------------------\n",
      "Ein (fast) normales TV-Duell\n",
      "https://www.spiegel.de/politik/ausland/coronavirus-beherrschte-tv-debatte-von-mike-pence-und-kamala-harris-a-754ed4c8-b044-46cf-8303-64f8a2f65cd6\n",
      "----------------------------------------\n",
      "Attacken von Harris, Ausflüchte von Pence\n",
      "https://www.spiegel.de/politik/ausland/mike-pence-versus-kamala-harris-corona-der-supreme-court-und-ein-respektvollerer-ton-a-8bf74af0-2780-4766-af24-d0a6d248d0c0\n",
      "----------------------------------------\n",
      "Brutale Umfragewerte für Trump\n",
      "https://www.spiegel.de/politik/deutschland/news-kamala-harris-mike-pence-coronavirus-wirecard-umfragen-beherbergung-a-8db3dc42-270a-43d3-b276-ebd2a0b5b3d6\n",
      "----------------------------------------\n",
      "Sehen Sie hier die Debatte in voller Länge\n",
      "https://www.spiegel.de/politik/ausland/us-wahl-das-tv-duell-von-mike-pence-und-kamala-harris-a-20ff53fe-17ff-47ad-86f3-6cd580c84915\n",
      "----------------------------------------\n",
      "Covid, Gold-Edition\n",
      "https://www.spiegel.de/politik/ausland/donald-trump-und-seine-corona-erkrankung-der-goldene-patient-a-7108752a-12fc-4cb2-a93a-b3a59e231dd4\n",
      "----------------------------------------\n",
      "So steht es im Rennen ums Weiße Haus\n",
      "https://www.spiegel.de/politik/ausland/us-wahl-2020-die-wichtigsten-umfragen-im-rennen-donald-trump-vs-joe-biden-a-b15ff300-1ea7-4bdf-8685-952dc1e56f57\n",
      "----------------------------------------\n",
      "Trump nennt Erkrankung \"Gottes Segen\" - und verspricht Gratis-Behandlungen\n",
      "https://www.spiegel.de/politik/ausland/donald-trump-nennt-erkrankung-gottes-segen-und-verspricht-gratis-behandlungen-a-cd145a43-c128-429b-90b9-5e4165e0d1e4\n",
      "----------------------------------------\n",
      "Corona-Pandemie\n",
      "https://www.spiegel.de/thema/coronavirus/\n",
      "----------------------------------------\n",
      "Corona-Neuinfektionen in Deutschland schnellen auf über 4000\n",
      "https://www.spiegel.de/wissenschaft/medizin/corona-neuinfektionen-in-deutschland-schnellen-auf-ueber-4000-a-36b39b63-a9e3-4045-a803-042f84155e53\n",
      "----------------------------------------\n",
      "Etliche Bundesländer verlangen negative Corona-Tests\n",
      "https://www.spiegel.de/wirtschaft/soziales/etliche-bundeslaender-verlangen-negative-corona-tests-a-4019423e-2dbe-4dde-9a18-faa810a93b1c\n",
      "----------------------------------------\n",
      "\"Keine Sorge, wir sind alle schon geimpft\"\n",
      "https://www.spiegel.de/politik/ausland/china-stille-impfkampagne-im-kampf-gegen-covid-19-a-1cfc20c1-919e-4eb3-93bb-d63023681742\n",
      "----------------------------------------\n",
      "Revolutionärinnen der Gentechnik\n",
      "https://www.spiegel.de/wissenschaft/technik/chemie-nobelpreis-fuer-emmanuelle-charpentier-und-jennifer-doudna-gentechnik-revolutionaere-a-f7e32e1e-22c8-45f0-8acd-ff509ef98263\n",
      "----------------------------------------\n",
      "Chemie-Nobelpreisträgerin darf lebenslang auf Uni-Campus parken\n",
      "https://www.spiegel.de/panorama/leute/jennifer-doudna-chemie-nobelpreistraegerin-darf-lebenslang-auf-uni-campus-parken-a-206417d5-06df-42c0-a9be-909f783733a5\n",
      "----------------------------------------\n",
      "Schikane und Zermürbung\n",
      "https://www.spiegel.de/politik/ausland/russland-die-tragoedie-der-journalistin-irina-slawina-die-sich-selbst-verbrannt-hat-a-7f3514c9-9343-40b4-bdc0-f7a49c2c8465\n",
      "----------------------------------------\n",
      "Mann nach versuchter Entführung von Mädchen in Untersuchungshaft\n",
      "https://www.spiegel.de/panorama/leipzig-mann-nach-versuchter-entfuehrung-von-maedchen-in-untersuchungshaft-a-6392a1c7-5150-43c0-8319-e43cee958705\n",
      "----------------------------------------\n",
      "Im Boden der Weltmeere lagern bis zu 16 Millionen Tonnen Mikroplastik\n",
      "https://www.spiegel.de/wissenschaft/natur/mikroplastik-im-boden-der-weltmeere-lagern-bis-zu-16-millionen-tonnen-muell-a-9e1f7e3a-1b3d-4319-ba3f-2edaa683d391\n",
      "----------------------------------------\n",
      "Löws B-Probe\n",
      "https://www.spiegel.de/sport/fussball/laenderspiel-deutschland-vs-tuerkei-joachim-loew-mit-der-b-probe-a-d390e79c-cd0b-490a-9e2a-7a197ef53db8\n",
      "----------------------------------------\n",
      "Vom Mitläufer zum Kapitän zum Mitläufer\n",
      "https://www.spiegel.de/sport/fussball/deutschland-vs-tuerkei-die-dfb-elf-in-der-einzelkritik-a-b27745a6-4f4e-451f-924b-52d5baa2b723\n",
      "----------------------------------------\n",
      "Würg\n",
      "https://www.spiegel.de/kultur/herbert-feuerstein-ist-tot-wuerg-a-9b6202f6-d377-46fb-8e1a-ae286e7d7706\n",
      "----------------------------------------\n",
      "\"Feuerstein war ein Genie - das hat er mir selbst gesagt\"\n",
      "https://www.spiegel.de/kultur/tv/harald-schmidt-ueber-schmidteinander-kompagnon-herbert-feuerstein-war-ein-genie-a-229ba7c4-d951-4dd4-b673-9eefbe666ca7\n",
      "----------------------------------------\n",
      "Milde war sie nie\n",
      "https://www.spiegel.de/kultur/literatur/ruth-klueger-ein-nachruf-milde-war-sie-nie-a-75dc4877-c302-414b-b5b3-31dc502178e6\n",
      "----------------------------------------\n",
      "\"Die Big Four waren mir nicht mehr genug\"\n",
      "https://www.spiegel.de/start/unternehmensberatung-fuer-diesen-berater-waren-die-big-four-nicht-genug-a-c4268960-21b3-4688-b31c-be98aa0d1a2e\n",
      "----------------------------------------\n",
      "Die größten Irrtümer bei der Befristung\n",
      "https://www.spiegel.de/karriere/befristung-die-groessten-irrtuemer-arbeitsrecht-kurz-erklaert-a-e605459d-13bb-4b7b-98f4-97a3e73d4527\n",
      "----------------------------------------\n",
      "Leonardo da Vinci hat Fresko in Florenz wohl nie gemalt\n",
      "https://www.spiegel.de/kultur/leonardo-da-vinci-hat-fresko-in-florenz-wohl-nie-gemalt-a-07f986de-3c6c-4a03-beb2-d62d87dd6e24\n",
      "----------------------------------------\n",
      "Glaube nur den Likes, die du selbst gefälscht hast\n",
      "https://www.spiegel.de/netzwelt/web/kein-netz-von-hajo-schumacher-auszug-gefaellt-mir-und-andere-luegen-a-7c58e4d5-e0b3-4dfd-afbe-7d7cf54f468c\n",
      "----------------------------------------\n",
      "Sein Feind heißt GTI\n",
      "https://www.spiegel.de/auto/fahrberichte/vw-golf-gte-im-test-es-muss-nicht-immer-sportlich-sein-a-69b8f3bb-2311-41c6-a446-e7ff4f700011\n",
      "----------------------------------------\n",
      "Was, wenn die Lust am Sex verschwindet?\n",
      "https://www.spiegel.de/partnerschaft/kein-sex-ist-das-ein-trennungsgrund-das-sagen-experten-und-betroffene-a-be6c725f-d1a0-4cd3-9a30-3e6e432c164d\n",
      "----------------------------------------\n",
      "Welcher dieser vier Alterungstypen sind Sie?\n",
      "https://www.spiegel.de/wissenschaft/mensch/molekularbiologisches-profil-welcher-alterungstyp-sind-sie-a-59d46296-2a95-4622-837a-21ea622cc1ff\n",
      "----------------------------------------\n",
      "\"Jeder kann lernen, mit Tinnitus zu leben\"\n",
      "https://www.spiegel.de/gesundheit/diagnose/tinnitus-so-lernt-man-mit-dauerhaften-ohrgeraeuschen-zu-leben-a-ad17ca1a-1a14-493b-b894-de2f4a4a6336\n",
      "----------------------------------------\n",
      "\"Nur zwei Smartwatches sind tatsächlich geeignet\"\n",
      "https://www.spiegel.de/fitness/fitnesstracker-im-test-nur-zwei-smartwatches-sind-tatsaechlich-geeignet-a-0d626102-f8c7-4fbd-bdb3-0e377ad5fc14\n",
      "----------------------------------------\n",
      "Videos\n",
      "https://www.spiegel.de/video/\n",
      "----------------------------------------\n",
      "Kommentare und Kolumnen\n",
      "https://www.spiegel.de/thema/meinung/\n",
      "----------------------------------------\n",
      "Wie rechte Ästhetik auf Instagram funktioniert\n",
      "https://www.spiegel.de/netzwelt/apps/radikalisierung-im-netz-wie-rechte-aesthetik-auf-instagram-funktioniert-kolumne-a-0f04516e-107c-4aae-8b93-80c19a737179\n",
      "----------------------------------------\n",
      "Darf man reich sein?\n",
      "https://www.spiegel.de/kultur/olaf-scholz-und-reichtum-darf-man-reich-sein-kolumne-a-6a971b8f-0f6d-4081-8dca-d8a1ed045df6\n",
      "----------------------------------------\n",
      "Das Kreuz mit der Kanzlerin\n",
      "https://www.spiegel.de/politik/deutschland/angela-merkel-und-die-cdu-das-kreuz-mit-der-kanzlerin-kolumne-a-45b34db6-ce50-4b67-a66e-5a9942f2bb89\n",
      "----------------------------------------\n",
      "Die Zukunft kommt schneller, als Sie denken\n",
      "https://www.spiegel.de/wissenschaft/mensch/exponentielles-corona-wachstum-die-zukunft-kommt-schneller-als-sie-denken-kolumne-a-121911ce-1638-4698-ad9a-28a7f3443d98\n",
      "----------------------------------------\n",
      "Politik\n",
      "https://www.spiegel.de/politik/deutschland/\n",
      "----------------------------------------\n",
      "Corona-Regeln: Göring-Eckardt fordert zusätzliche Kriterien für Risikogebiete\n",
      "https://www.spiegel.de/politik/deutschland/katrin-goering-eckardt-fordert-mehr-kriterien-fuer-corona-risikogebiete-a-87638782-573c-4915-961b-1cf4810bb450\n",
      "----------------------------------------\n",
      "Sachsen-Anhalt: CDU-Abgeordneter zeigt Ministerin eigener Koalition an\n",
      "https://www.spiegel.de/politik/deutschland/cdu-abgeordneter-zeigt-ministerin-eigener-koalition-an-a-14ba4f03-9158-447e-9a32-2f67cd19b7ba\n",
      "----------------------------------------\n",
      "Die Lage am Abend: Ein Paralleluniversum namens Schweden\n",
      "https://www.spiegel.de/politik/deutschland/news-des-tages-corona-in-schweden-mike-pence-vs-kamala-harris-herbert-feuerstein-a-5db32337-22b1-4beb-bc1c-95c2d7e11340\n",
      "----------------------------------------\n",
      "Ausland\n",
      "https://www.spiegel.de/politik/ausland/\n",
      "----------------------------------------\n",
      "+++ Mike Pence versus Kamala Harris im Liveblog +++: \"Das größte Versagen einer Regierung in der Geschichte unseres Landes\"\n",
      "https://www.spiegel.de/politik/ausland/us-wahl-mike-pence-versus-kamala-harris-im-liveblog-a-513cb1c4-7fa2-4360-8fe6-45da5a91c1ea\n",
      "----------------------------------------\n",
      "Streit um Steuererklärungen: Trump erleidet weitere Niederlage vor Gericht\n",
      "https://www.spiegel.de/politik/ausland/donald-trump-us-praesident-erleidet-weitere-niederlage-vor-gericht-a-2ee982b4-6878-454b-bb7d-4bc66e1488f9\n",
      "----------------------------------------\n",
      "Terrorismus: IS-Kämpfer aus \"Beatles\"-Gruppe in die USA gebracht\n",
      "https://www.spiegel.de/politik/ausland/islamischer-staat-is-kaempfer-aus-beatles-gruppe-in-die-usa-gebracht-a-93f4f3f8-055d-4b52-810d-f9eaa02bd0ba\n",
      "----------------------------------------\n",
      "Panorama\n",
      "https://www.spiegel.de/panorama/\n",
      "----------------------------------------\n",
      "Benno Fürmann über Schüleraustausch: \"Ich habe geheult wie ein Schlosshund\"\n",
      "https://www.spiegel.de/panorama/leute/benno-fuermann-ueber-schueleraustausch-von-tochter-wie-ein-schlosshund-geheult-a-a33f6159-2861-463a-bd3d-88ff2fd44a65\n",
      "----------------------------------------\n",
      "Polizei stoppt Auto: Fahrerin zu betrunken für Alkoholtest\n",
      "https://www.spiegel.de/panorama/justiz/baden-wuerttemberg-fahrerin-zu-betrunken-fuer-alkoholtest-a-d7d73483-a3f4-483f-8450-b53d8d446437\n",
      "----------------------------------------\n",
      "Prozess um erfundenes NSU-Opfer: \"Dadurch wurde alles zerstört\"\n",
      "https://www.spiegel.de/panorama/justiz/nsu-opfer-erfunden-prozess-dadurch-wurde-alles-zerstoert-a-6e889a5c-c969-4ac8-b61c-5d46f0832349\n",
      "----------------------------------------\n",
      "Sport\n",
      "https://www.spiegel.de/sport/\n",
      "----------------------------------------\n",
      "Leichtathletik: Gidey und Cheptegei pulverisieren Laufweltrekorde\n",
      "https://www.spiegel.de/sport/leichtathletik-joshua-cheptegei-und-letesenbet-gidey-laufen-weltrekord-a-86eef191-e6d2-41e6-9ef6-6ca6c298ee00\n",
      "----------------------------------------\n",
      "Deutschlands Unentschieden gegen die Türkei: Zweite Reihe, drei Debütanten, sechs Treffer\n",
      "https://www.spiegel.de/sport/fussball/deutschlands-unentschieden-gegen-die-tuerkei-zweite-reihe-drei-debuetanten-sechs-treffer-a-2e3c8286-94d7-4d0c-87c0-40f9c353542f\n",
      "----------------------------------------\n",
      "French Open: Djokovic wackelt, fällt aber nicht\n",
      "https://www.spiegel.de/sport/tennis/fench-open-novak-djokovic-wackelt-faellt-aber-nicht-a-1f555688-02f3-40ac-b8a5-e61eceadb5f5\n",
      "----------------------------------------\n",
      "Wirtschaft\n",
      "https://www.spiegel.de/wirtschaft/\n",
      "----------------------------------------\n",
      "Nach Corona-Ausbruch: Tönnies wehrt sich gegen Schlachthof-Schließung\n",
      "https://www.spiegel.de/wirtschaft/unternehmen/corona-ausbruch-clemens-toennies-wehrt-sich-gegen-schlachthof-schliessung-a-bd9faecc-658f-4479-98c8-3d94e9b79071\n",
      "----------------------------------------\n",
      "Streit über Konjunkturpaket: Trumps Schlag gegen die eigene Wirtschaft\n",
      "https://www.spiegel.de/wirtschaft/konjunkturpaket-donald-trump-und-der-schlag-gegen-die-eigene-wirtschaft-a-39b8d01c-a551-40c8-b0fc-27f82f58d233\n",
      "----------------------------------------\n",
      "CDU-Pläne für Pflege, Steuer, Schuldenbremse: Männer, die Wunder versprechen\n",
      "https://www.spiegel.de/wirtschaft/jens-spahn-will-die-pflege-reformieren-die-cdu-will-wasser-in-wein-verwandeln-a-ddf39c01-2e94-420e-864a-8375649decf6\n",
      "----------------------------------------\n",
      "Investieren in der Krise: Die Anlagestrategien der Milliardäre zum Nachmachen\n",
      "https://www.manager-magazin.de/unternehmen/geldanlage-in-fonds-aktien-gold-die-anlagestrategien-der-milliardaersfamilien-a-00000000-0002-0001-0000-000173293444\n",
      "----------------------------------------\n",
      "Police wird zum Risikoinvestment: Die Allianz Lebensversicherung gibt auf\n",
      "https://www.manager-magazin.de/finanzen/versicherungen/allianz-lebensversicherung-verluste-garantiert-pensionskasse-kunden-koennen-nur-noch-hoffen-a-dfa77745-3050-4596-94ea-4def10d72f22\n",
      "----------------------------------------\n",
      "Discounter: Make America great again – Lidl-Eigner Dieter Schwarz expandiert\n",
      "https://www.manager-magazin.de/unternehmen/handel/make-america-great-again-lidl-eigner-dieter-schwarz-expandiert-a-00000000-0002-0001-0000-000173293404\n",
      "----------------------------------------\n",
      "Börsenkurse manager magazin\n",
      "https://boersen.manager-magazin.de\n",
      "----------------------------------------\n",
      "Wissenschaft\n",
      "https://www.spiegel.de/wissenschaft/\n",
      "----------------------------------------\n",
      "\"Boom XB-1\": US-Unternehmen stellt Prototyp für zivilen Überschalljet vor\n",
      "https://www.spiegel.de/wissenschaft/technik/boom-xb-1-us-unternehmen-stellt-prototyp-fuer-zivilen-ueberschalljet-vor-a-22d432f1-5f6c-41dd-ad54-0a629ba047e8\n",
      "----------------------------------------\n",
      "Corona: Schlappe für Trump - schärfere Regeln für Impfstoff\n",
      "https://www.spiegel.de/wissenschaft/medizin/corona-schlappe-fuer-donald-trump-fda-verschaerft-vorgaben-fuer-moeglichen-impfstoff-a-13f8de3e-d35c-494a-b27d-c76f76682665\n",
      "----------------------------------------\n",
      "Satellitendaten: 2020 weltweit wärmster September\n",
      "https://www.spiegel.de/wissenschaft/natur/klimawandel-2020-weltweit-waermster-september-seit-jahrzehnten-a-bb9deb8e-b1db-4c78-a223-d321a26ed86e\n",
      "----------------------------------------\n",
      "Netzwelt\n",
      "https://www.spiegel.de/netzwelt/\n",
      "----------------------------------------\n",
      "Acht Tipps für Playstation 4, Xbox One und Co.: Frische Spiele für alternde Konsolen\n",
      "https://www.spiegel.de/netzwelt/games/spiele-tipps-fuer-playstation-4-und-xbox-one-a-26d91707-c8e4-497d-af29-0b2b13f1a419\n",
      "----------------------------------------\n",
      "Vernetzte Sextechnik: Hacker können Keuschheitsgürtel offenbar dauerhaft verschließen\n",
      "https://www.spiegel.de/netzwelt/gadgets/smarte-sex-toys-hacker-koennen-keuschheitsguertel-dauerhaft-verschliessen-a-e1a423e4-a1a4-41c2-ac29-165bd0764f0b\n",
      "----------------------------------------\n",
      "IT-Monopole: US-Abgeordnete wollen Macht der Techkonzerne einschränken\n",
      "https://www.spiegel.de/netzwelt/netzpolitik/amazon-apple-facebook-google-us-abgeordnete-wollen-macht-der-tech-konzerne-einschraenken-a-146f21aa-0296-49f4-a57f-577637cdfbab\n",
      "----------------------------------------\n",
      "Kultur\n",
      "https://www.spiegel.de/kultur/\n",
      "----------------------------------------\n",
      "Autorin und Holocaustüberlebende: Ruth Klüger ist tot\n",
      "https://www.spiegel.de/kultur/literatur/ruth-klueger-ist-tot-a-e51ac8a0-b659-4438-a9ad-b3a3a67750bc\n",
      "----------------------------------------\n",
      "\"Schmidteinander\"-Entertainer: Herbert Feuerstein ist tot\n",
      "https://www.spiegel.de/kultur/tv/herbert-feuerstein-ist-tot-a-215af79b-fa93-40f7-a386-d67c6920ba9f\n",
      "----------------------------------------\n",
      "\"I Can See Clearly Now\": Sänger Johnny Nash ist tot\n",
      "https://www.spiegel.de/kultur/johnny-nash-ist-tot-sein-groesster-hit-war-i-can-see-clearly-now-a-4124381d-01db-4339-9454-0eea7a40fe80\n",
      "----------------------------------------\n",
      "Job & Karriere\n",
      "https://www.spiegel.de/karriere/\n",
      "----------------------------------------\n",
      "Studie zu Dax-Unternehmen während Corona: Globales Schlusslicht Deutschland\n",
      "https://www.spiegel.de/karriere/dax-unternehmen-frauenanteil-sinkt-in-der-corona-krise-a-a216e75e-85a6-4253-842f-32c920f4d1df\n",
      "----------------------------------------\n",
      "Tipps vom Karrierecoach: Hilfe, ich bin im falschen Job!\n",
      "https://www.spiegel.de/karriere/ich-bin-im-falschen-job-was-tun-tipps-vom-karrierecoach-a-5e908391-018a-4676-9971-0f7c5318b1b5\n",
      "----------------------------------------\n",
      "Auswanderer in Grönland: \"Meine Enkel lernen im Kindergarten, wie man Fische schlachtet\"\n",
      "https://www.spiegel.de/karriere/auswanderer-in-groenland-meine-enkel-lernen-im-kindergarten-wie-man-fische-schlachtet-a-ea83e72f-eace-4b53-b995-f14ffa2f571e\n",
      "----------------------------------------\n",
      "Start\n",
      "https://www.spiegel.de/start/\n",
      "----------------------------------------\n",
      "Organisiert durchs Studium: Worauf es bei der Wahl von Vorlesungen und Seminaren ankommt\n",
      "https://www.spiegel.de/start/worauf-es-bei-der-richtigen-wahl-von-vorlesungen-und-seminaren-ankommt-a-f7926cad-55ab-44a8-ad61-035b69287fdd\n",
      "----------------------------------------\n",
      "Berufseinstieg: \"Ich würde jedem raten, sich am Anfang keine hohen Ziele zu setzen\"\n",
      "https://www.spiegel.de/start/berufseinstieg-ein-psychologe-erklaert-wie-man-ihn-am-besten-gestaltet-a-eeb5e07c-caa8-4761-aa76-4e4617b77b8d\n",
      "----------------------------------------\n",
      "\"Gap Year\" nach dem Abitur: \"So hatte ich mir das Ganze nicht vorgestellt\"\n",
      "https://www.spiegel.de/start/auslandsaufenthalt-nach-dem-abi-trotz-corona-was-kann-man-tun-a-0ffb3cbf-0ee5-4aef-ab62-018eed2e30fe\n",
      "----------------------------------------\n",
      "Geschichte\n",
      "https://www.spiegel.de/geschichte/\n",
      "----------------------------------------\n",
      "Nazis stahlen Kochbuch-Bestseller: \"Aber meine jüdischen Hände auf den Fotos blieben drin\"\n",
      "https://www.spiegel.de/geschichte/alice-urbach-wie-nazis-einer-juedin-ihren-kochbuch-bestseller-raubten-a-3c9d3c5f-443f-4a9e-97f2-0832c8d8ba8d\n",
      "----------------------------------------\n",
      "Gescheiterte Flucht aus der DDR: Er will an dieser verhassten Grenze entlanglaufen\n",
      "https://www.spiegel.de/geschichte/gescheiterte-flucht-aus-der-ddr-hauptsache-raus-a-0785770e-26bf-4516-a8c1-e83f960f2b43\n",
      "----------------------------------------\n",
      "Fernschach: Wie die DDR ihre letzte Medaille gewann\n",
      "https://www.spiegel.de/geschichte/ddr-gewann-noch-1995-fernschach-medaille-a-3d68646d-d0aa-41b7-b084-2e41617b7134\n",
      "----------------------------------------\n",
      "Tests\n",
      "https://www.spiegel.de/tests/\n",
      "----------------------------------------\n",
      "Laufschuhe im Test: Run Boy Run\n",
      "https://www.spiegel.de/tests/laufschuhe-im-test-run-boy-run-a-ce7d58a9-dff5-4ae1-b121-03755aacdf78\n",
      "----------------------------------------\n",
      "Bestseller Link\n",
      "https://www.spiegel.de/kultur/bestseller-buecher-belletristik-sachbuch-auf-spiegel-liste-a-458623.html\n",
      "----------------------------------------\n",
      "Mobilität\n",
      "https://www.spiegel.de/auto/\n",
      "----------------------------------------\n",
      "Aus für Mitsubishi i-MiEV: Adieu, du hässlicher Pionier\n",
      "https://www.spiegel.de/auto/fahrkultur/mitsubishi-i-miev-adieu-du-haesslicher-pionier-a-b607c970-9f72-457d-97e4-b89f556164b6\n",
      "----------------------------------------\n",
      "BMW R 18 im Test: Der letzte große Boxer\n",
      "https://www.spiegel.de/auto/fahrberichte/bmw-r-18-im-test-der-letzte-grosse-boxer-cruiser-aus-bayern-a-8aba2304-4dc8-425a-9ad9-a3ecbb79aab4\n",
      "----------------------------------------\n",
      "\"Auto China\"-Messe in Peking: Vorteil Deutschland\n",
      "https://www.spiegel.de/auto/auto-china-messe-in-peking-vorteil-deutschland-a-fc6a94fe-d0ad-49dc-b66f-560ddc815071\n",
      "----------------------------------------\n",
      "SPIEGEL-Bestseller: Sachbuch Hardcover\n",
      "https://www.spiegel.de/kultur/literatur/spiegel-bestseller-hardcover-a-1025428.html\n",
      "----------------------------------------\n",
      "Leben\n",
      "https://www.spiegel.de/thema/leben/\n",
      "----------------------------------------\n",
      "Was Covid-19 und die Grippe verbindet - und was sie unterscheidet\n",
      "https://www.spiegel.de/gesundheit/diagnose/coronavirus-was-covid-19-und-die-grippe-verbindet-und-was-sie-unterscheidet-a-a41a28f2-0f4e-40ce-b093-3cf168e5f7c5\n",
      "----------------------------------------\n",
      "OMG, ich bin jetzt eine \"Karen\"\n",
      "https://www.spiegel.de/psychologie/ploetzlich-karen-wie-ich-zur-querulantin-wurde-kolumne-a-362a195b-f66d-4925-8cda-76ef629849e2\n",
      "----------------------------------------\n",
      "Was gilt für Reisende aus Risikogebieten innerhalb Deutschlands?\n",
      "https://www.spiegel.de/reise/corona-was-gilt-fuer-reisende-aus-risikogebieten-innerhalb-deutschlands-a-afe2812e-0f57-46e6-90d0-cde784b1c017\n",
      "----------------------------------------\n",
      "Bitte alle abstimmen!\n",
      "https://www.spiegel.de/stil/social-design-award-bitte-alle-abstimmen-a-f37f9fad-c408-43fc-8dee-b3ce63ee5006\n",
      "----------------------------------------\n",
      "Spielt mein Kind zu viel am Computer?\n",
      "https://www.spiegel.de/netzwelt/games/spielt-mein-kind-zu-viel-am-computer-oder-der-konsole-a-facc980f-53c3-4320-94c1-4f11e7f71560\n",
      "----------------------------------------\n",
      "Das hilft Kindern gegen Husten, Schnupfen, Heiserkeit\n",
      "https://www.spiegel.de/gesundheit/schwangerschaft/rezeptfreie-medikamente-das-hilft-kindern-gegen-husten-schnupfen-heiserkeit-a-785f9d7b-343c-46b9-a2fc-661bf02765a7\n",
      "----------------------------------------\n",
      "Vorwärts in die Vergangenheit\n",
      "https://www.spiegel.de/reise/deutschland/fahrrad-fernwege-fuer-den-herbst-deutsche-geschichte-unter-den-raedern-a-e5098a85-29b8-4d00-b95e-b342eed29e9b\n",
      "----------------------------------------\n",
      "Produkte für Ihre Küche\n",
      "https://www.spiegel.de/thema/test_und_produkte/\n",
      "----------------------------------------\n",
      "King of Kleinschneider\n",
      "https://www.spiegel.de/tests/kueche/gemuesehobel-im-test-kuechen-gadgets-fuer-hobbykoeche-a-ea1500ab-86a5-480f-8137-e6b723d7de0f\n",
      "----------------------------------------\n",
      "Hilfe beim Homenoodeling\n",
      "https://www.spiegel.de/tests/kueche/kuechen-gadgets-fuer-hobbykoeche-so-klappt-es-mit-der-nudelherstellung-zu-hause-a-c18eb6b8-62f4-4682-bc70-d7d2899bd56a\n",
      "----------------------------------------\n",
      "Heiß serviert\n",
      "https://www.spiegel.de/stil/warmhalteplatten-im-test-heiss-serviert-a-77764052-6f69-4a79-bf5d-d21b0625100a\n",
      "----------------------------------------\n",
      "Mehr Hackordnung\n",
      "https://www.spiegel.de/stil/kuechen-gadgets-fuer-hobbykoeche-messerbloecke-und-messerbretter-a-1f77ec63-6a7c-4279-ab3d-749e9a20d900\n",
      "----------------------------------------\n",
      "Das sind die Topf 3\n",
      "https://www.spiegel.de/stil/kuechen-gadgets-empfehlungen-fuer-sauteusen-und-suppentoepfe-a-1291035.html\n",
      "----------------------------------------\n",
      "Dein SPIEGEL\n",
      "https://www.spiegel.de/deinspiegel/\n",
      "----------------------------------------\n",
      "Warum der Feldhamster vom Aussterben bedroht ist\n",
      "https://www.spiegel.de/deinspiegel/feldhamster-warum-er-vom-aussterben-bedroht-ist-a-00000000-0002-0001-0000-000172431249\n",
      "----------------------------------------\n",
      "Jung und einflussreich\n",
      "https://www.spiegel.de/deinspiegel/kinder-als-influencer-auf-youtube-tiktok-und-instagram-jung-und-einflussreich-a-00000000-0002-0001-0000-000172431232\n",
      "----------------------------------------\n",
      "Bild des Tages\n",
      "https://www.spiegel.de/fotostrecke/bilder-des-tages-fotos-aus-deutschland-und-der-welt-fotostrecke-122824.html\n"
     ]
    }
   ],
   "source": [
    "#print soup.get_text()hreflinks=[]\n",
    "AllTitles=soup.findAll('h2')\n",
    "alltitles=[]\n",
    "alltitleLinks=[]\n",
    "for l in AllTitles:\n",
    "    #print l\n",
    "    try:\n",
    "        title = l.find('a')['title']\n",
    "        link = l.find('a')['href']\n",
    "        print('-'*40)\n",
    "        print(title)\n",
    "        print(link)\n",
    "        alltitles.append(title)\n",
    "        alltitleLinks.append(link)\n",
    "    except:\n",
    "        pass"
   ]
  },
  {
   "cell_type": "markdown",
   "metadata": {
    "slideshow": {
     "slide_type": "slide"
    }
   },
   "source": [
    "## Get all images of the page\n",
    "\n",
    "Get url of all images, which are currently displayed on [www.zeit.de](http://www.zeit.de):"
   ]
  },
  {
   "cell_type": "code",
   "execution_count": 7,
   "metadata": {
    "ExecuteTime": {
     "end_time": "2017-10-20T12:50:12.456000Z",
     "start_time": "2017-10-20T12:50:12.440000Z"
    },
    "slideshow": {
     "slide_type": "fragment"
    }
   },
   "outputs": [
    {
     "name": "stdout",
     "output_type": "stream",
     "text": [
      "data:image/gif;base64,R0lGODlhAQABAAAAACH5BAEKAAEALAAAAAABAAEAAAICTAEAOw==\n",
      "https://cdn.prod.www.spiegel.de/images/75f56e81-a33f-46dc-844e-6fe7c48a5da3_w948_r2.11_fpx41.57_fpy50.jpg\n",
      "https://cdn.prod.www.spiegel.de/images/75f56e81-a33f-46dc-844e-6fe7c48a5da3_w920_r1.77_fpx41.57_fpy50.jpg\n",
      "https://cdn.prod.www.spiegel.de/images/8e62e78d-b493-4ec4-a4c1-86aac43c3704_w56_r1_fpx49.57_fpy44.9.png\n",
      "https://cdn.prod.www.spiegel.de/images/8e62e78d-b493-4ec4-a4c1-86aac43c3704_w56_r1_fpx49.57_fpy44.9.png\n",
      "https://cdn.prod.www.spiegel.de/images/b19f50a7-187a-46ee-83b0-13e16e372b20_w488_r1.77_fpx41_fpy24.jpg\n",
      "https://cdn.prod.www.spiegel.de/images/166dc1cb-530b-42a6-ae94-d4ea71620559_w488_r1.77_fpx25.32_fpy55.01.png\n",
      "https://cdn.prod.www.spiegel.de/images/32602f85-63c4-4c2b-b108-8bcb7d3d754c_w117_r1.33_fpx33.34_fpy50.jpg\n",
      "https://cdn.prod.www.spiegel.de/images/32602f85-63c4-4c2b-b108-8bcb7d3d754c_w488_r1.77_fpx33.34_fpy50.jpg\n",
      "https://cdn.prod.www.spiegel.de/images/10f8d093-b4ac-4ab4-80ba-805e727f923c_w872_r1.77_fpx53_fpy20.jpg\n"
     ]
    }
   ],
   "source": [
    "imglinks=[]\n",
    "AllImgs=soup.findAll('img')\n",
    "for l in AllImgs:\n",
    "    if l.has_attr('src'):\n",
    "       imglinks.append(l)\n",
    "\n",
    "for l in imglinks[:10]:\n",
    "    print(l['src'])"
   ]
  },
  {
   "cell_type": "markdown",
   "metadata": {
    "slideshow": {
     "slide_type": "slide"
    }
   },
   "source": [
    "## Get entire text of a news-article"
   ]
  },
  {
   "cell_type": "code",
   "execution_count": 8,
   "metadata": {
    "ExecuteTime": {
     "end_time": "2017-10-20T13:09:24.145000Z",
     "start_time": "2017-10-20T13:09:23.833000Z"
    },
    "slideshow": {
     "slide_type": "fragment"
    }
   },
   "outputs": [
    {
     "name": "stdout",
     "output_type": "stream",
     "text": [
      "privat\n",
      "Das Buch Alice\n",
      "SPIEGEL: Frau Urbach, Sie haben ein Buch über Ihre Großmutter Alice geschrieben. Es geht um das Leben im Wien der Zwanzigerjahre, um Spionage, Prominente, Verbrechen der Nationalsozialisten - und um eine beeindruckende Biografie. Ahnten Sie, wie fesselnd der Stoff sein würde, als Sie zu schreiben begannen?\n",
      "Urbach: Überhaupt nicht. Meine Großmutter starb 1983 mit 97 Jahren. Sie lebte in den USA, kam in den Sommerferien immer in ihre alte Heimat, besuchte auch mich und meine Eltern. Ich habe sie als resolut, patent und sehr bescheiden in Erinnerung. Eine knuddelige Oma, die nie darüber sprach, was sie alles gemacht hat in ihrem Leben. Ich habe sie völlig unterschätzt.\n",
      "Die Historikerin Karina Urbach (Jahrgang 1969) forscht in Cambridge unter anderem zu internationalen Beziehungen und zur Geschichte der Geheimdienste.\n",
      "SPIEGEL: Wie kamen Sie dann auf die Idee für das Buch?\n",
      "Urbach: Über Umwege. Eigentlich wollte ich mehr über meinen Vater Otto erfahren: Er arbeitete nach dem Krieg in Westdeutschland für den amerikanischen Geheimdienst. Aber seine Akten sind gesperrt, man kann nur sehr wenig recherchieren. Dann erhielt ich die Familienkorrespondenz meiner Großmutter und mir wurde klar: Alice hatte die viel interessantere Geschichte.\n",
      "SPIEGEL: Alice Urbach, 1886 in Wien in eine bürgerliche jüdische Familie geboren, machte sich nach dem Ersten Weltkrieg, einer schwierigen Ehe und dem frühen Tod ihres Mannes als Mutter zwei kleiner Söhne mit einer Kochschule selbstständig – und wurde schnell zu einer lokalen Institution.\n",
      "Urbach: Sie erfand den ersten österreichischen Lieferservice für warmes Essen und halb Wien lernte bei ihr kochen. Sie verkehrte mit lokalen Größen wie Sigmund Freuds Tochter Anna oder \"Bambi\"-Autor Felix Salten. Das hat mich völlig überrascht, anfangs konnte ich es gar nicht glauben. Sie veröffentlichte dann 1935 im Ernst Reinhardt Verlag ein Buch: \"So kocht man in Wien! Ein Koch- und Haushaltungsbuch der gut bürgerlichen Küche\". 500 Seiten mit allem, was sie über die österreichische Küche gelernt hatte, über Topfenstrudel, Marillenknödel, Tafelspitz – es wurde ein Bestseller mit drei Ausgaben schon bis 1938. Aber nachdem Hitler Österreich 1938 \"angeschlossen\" hatte, musste Alice nach England emigrieren. Und der Verlag raubte ihr Buch.\n",
      "SPIEGEL: Im Herbst 1938 erschien im selben Verlag das Buch eines Autors namens Rudolf Rösch: \"So kocht man in Wien. Ein Koch- und Haushaltungsbuch der gut bürgerlichen Küche\". Sie sagen: ein Plagiat?\n",
      "Urbach: Ja, der Verlag hat Alices Buch im Zuge der Verdrängung und Verfolgung von Juden eindeutig \"arisiert\". Sie haben einen anderen Autor als Strohmann eingesetzt, einige Passagen gestrichen oder andere geschickt paraphrasiert, aber ganze Kapitel und alle Fotos übernommen. Das kommentierte Alice selbst später trocken: \"Aber meine jüdischen Hände auf den Fotos blieben drin.\" Es ist zu 60 Prozent ein Plagiat. Unter dem Autorennamen Rudolf Rösch verkaufte der Ernst Reinhardt Verlag das Buch und mehrere Lizenzen bis 1966. Alice hatte davon natürlich nichts.\n",
      "privat\n",
      "Das Buch Alice\n",
      "SPIEGEL: Was sagt dazu der Reinhardt Verlag, der ja weiter besteht?\n",
      "Urbach: Sie sagen, große Teile ihres Archivs seien in den Kriegswirren verloren gegangen und sie hätten keine Unterlagen mehr über Alice. Aber ich habe Zweifel daran: Sie publizierten zu ihren Verlagsjubiläen 1974 und 1999 zwei Festschriften, die sehr wohl auf Archivmaterial der Vorkriegs- und Kriegszeit beruhten.\n",
      "SPIEGEL: Abgesehen vom Augenschein: Welche Beweise haben Sie dafür, dass das Kochbuch arisiert wurde?\n",
      "Urbach: In seiner Festschrift von 1974 schreibt Alices Verleger: \"Nach dem Anschluss Österreichs sah ich mich genötigt, für das Kochbuch einen neuen Verfasser zu suchen, da Alice Urbach Jüdin war und das Kochbuch sonst nicht mehr hätte vertrieben werden können.\" Alice selbst stieß 1949 in einer Wiener Buchhandlung auf die Rösch-Ausgabe und wusste sofort, dass es ihr Werk war. Sie suchte den Verleger auf und stellte ihn zur Rede, ohne Erfolg. Mit 95 Jahren kochte sie in amerikanischen Fernsehsendungen und sprach in Interviews immer wieder von ihrem Buch, das man ihr gestohlen habe. Aber der Verlag schwieg.\n",
      "SPIEGEL: Der SPIEGEL berichtete im April 2019 über den Fall Ludwig Reiners, der für sein Stilbuch der deutschen Sprache bei jüdischen Autoren abkupferte – und einen Bestseller landete. Ein Einzelfall war Alice offenbar nicht.\n",
      "Preisabfragezeitpunkt\n",
      "08.10.2020 07.22 Uhr\n",
      "Keine Gewähr\n",
      "Urbach: Ja, das war eine Methode, die bis heute nicht erforscht worden ist. Man stahl einfach das geistige Eigentum von Juden, genauso wie man ihre Autos, Firmen oder Wohnungen stahl. Ich habe mehrere Fälle gefunden, in verschiedenen Verlagen, im Fachbuch-Bereich. In einem Protokoll des De Gruyter Verlags wurde 1939 ganz lapidar konstatiert: \"Bei nicht-arischen Büchern prüfen, wie weit Neuauflage von Ariern herausgebracht werden kann.\" Viele Verlage stellten jüdische Bücher jetzt als minderwertig dar. Der Börsenverein des deutschen Buchhandels hatte schon 1933 der Reichsregierung zugesichert, die Anordnungen in der \"Judenfrage... ohne Vorbehalt\" durchzuführen. Man hat sich sofort dem neuen System angepasst und begonnen, jüdische Autorinnen und Autoren zu entsorgen.\n",
      "SPIEGEL: Wie ging Ihre Großmutter mit dem Verlust ihres Buches um?\n",
      "Urbach: Sie nannte das Buch ihr \"drittes Kind\" und hat lange gehofft, es zurückzubekommen. Aber sie hat sich nicht brechen lassen. Das bewundere ich ohnehin an ihr: wie sie es geschafft hat, immer wieder neu anzufangen. Im Krieg leitete sie in England ein Flüchtlingsheim für jüdische Kinder aus Deutschland. Später musste sie in den USA noch einmal von ganz unten anfangen. Hinzu kamen ja ihre Traumata: Ihr Sohn Karl war im KZ Dachau gewesen, bevor es Otto gemeinsam mit Freunden in letzter Minute gelang, ihn in die USA zu holen. Alices Schwestern Sidonie und Karoline wurden in Theresienstadt ermordet, die Spur ihrer Schwester Helen verlor sich im Getto in Lodz.\n",
      "SPIEGEL: Wie haben Sie das alles herausgefunden? Gab es so viel historische Dokumente in Ihrer Familie?\n",
      "Urbach: Mir half, dass in Alices Familie viel geschrieben wurde: Ihr Vater verfasste das Buch \"Die Wiener Juden\" und Erinnerungen an das Preßburger Getto. Alice selbst hat eine kleine Autobiografie verfasst, wenige Seiten nur, aber natürlich hilfreich. Ihr Bruder Felix schrieb mehrere Romanfragmente mit autobiografischen Elementen. Und es gab Briefe. Als ich einmal zu suchen begonnen hatte, fand ich immer mehr und bekam auch Kontakt zu alten Damen, die Alice einst in England als Kinder betreut hatte.\n",
      "SPIEGEL: Dabei stießen Sie auch auf Verblüffendes: Der Italiener Emilio Pucci, der mit Otto in den USA studiert hatte und mit dem er befreundet war, wurde der Geliebte von Mussolinis Tochter Edda.\n",
      "Urbach: Puccis ungewöhnliches Liebesleben erwies sich für den amerikanischen Geheimdienst als sehr nützlich. Ottos Freundin, Cordelia Dodson, gelang es im Krieg, mit Puccis Hilfe wichtige Dokumente zu beschaffen: die Tagebücher von Eddas Mann Graf Ciano, Mussolinis Außenminister. Sie spielten dann in den Nürnberger Prozessen eine Rolle. Cordelia arbeitete für den US-Geheimdienst OSS unter Allen Dulles, dem späteren CIA-Chef. Über sie hätte ich gern noch mehr herausgefunden, aber auch ihre Akten sind gesperrt.\n",
      "SPIEGEL: Als Sie die so überraschende Familiengeschichte aufrollten – was ging in Ihnen vor?\n",
      "Urbach: Dass ich mich überwinden konnte, der Geschichte meiner Familie nachzugehen, war wie eine Befreiung. All diese Dinge waren unausgesprochen, ich wusste nur einen Bruchteil. Im Buch wollte ich aber auf keinen Fall einen tristen Ton. Ich wollte, dass das Buch spannend statt rührselig wird.\n",
      "SPIEGEL: Rührselig ist es definitiv nicht. Aber man merkt zwischen den Zeilen Ihre Wut über den Umgang mit Alice.\n",
      "Urbach: Das stimmt, darüber bin ich wütend. Ich will keine finanzielle Entschädigung - mir geht es darum, dass der Verlag zugibt, was er Alice angetan hat. Es wäre ein großer Erfolg, wenn sie sich nach 80 Jahren endlich entschuldigen würden.\n",
      "\n",
      "SPIEGEL+-Zugang wird gerade auf einem anderen Gerät genutzt\n",
      "\n",
      "\n",
      "SPIEGEL+ kann nur auf einem Gerät zur selben Zeit genutzt werden.\n",
      "\n",
      "\n",
      "Klicken Sie auf den Button, spielen wir den Hinweis auf dem anderen Gerät aus und Sie können SPIEGEL+ weiter nutzen.\n",
      "\n",
      "\n",
      "Alice Urbach, geboren 1886, betrieb im Wien der Zwanzigerjahre eine erfolgreiche Kochschule und schrieb den Kochbuch-Bestseller \"So kocht man in Wien!\".\n",
      "privat\n",
      "1939 musste Urbach vor Hitler nach England fliehen, später ging sie in die USA. Mit 90 Jahren begann sie in San Francisco wieder die österreichische Küche zu unterrichten. 1978 berichtete der \"San Francisco Examiner\" über die nun 92-Jährige Kochlehrerin und ihre \"Viennese Dumplings\" (Semmelknödel).\n",
      "Alice Urbach (sitzend mit ihrer Schwester Dr. Helene Eissler) wuchs in Wien in einer bürgerlichen jüdischen Familie auf. Nachdem sie nach dem frühen Tod ihres Mannes alleine für ihre zwei kleinen Kinder sorgen musste, gründete sie ihre Kochschule.\n",
      "1935 veröffentlichte Alice Urbach \"So kocht man in Wien!\", ein Haushaltsbuch mit allem, was sie über die österreichische Küche gelernt hatte. Das Buch enthielt zahlreiche Fotos, auf denen oft Kochschülerinnen zu sehen waren.\n",
      "Nach Urbachs Flucht aus Wien erschien ihr Buch im gleichen Verlag unter dem Autorennamen \"Rudolf Rösch\". Alle Fotos aus dem ursprünglichen Werk wurden übernommen.\n",
      "Nach dem Krieg warb der Ernst Reinhard Verlag für die Bücher des angeblich \"langjährigen Küchenmeisters\" Rudolf Rösch. Die Historikerin Karina Urbach konnte bei ihren Recherchen keinen Mann mit diesem Namen finden, der als Autor infrage gekommen wäre.\n",
      "Im April 1980 erklärt Alice Urbach in einem Brief an den Verlag, dass sie die eigentliche Autorin des Bestsellers \"So kocht man in Wien!\" war. Schon 1949 hatte sie ihr Buch unter dem Autorennamen Rudolf Rösch in einer Wiener Buchhandlung entdeckt und den Verleger zur Rede gestellt, jedoch ohne Erfolg.\n",
      "Alice Urbachs Sohn Otto, hier als Kleinkind, ging 1935 zum Studium ans Reed College in die USA. Später arbeitete er für den amerikanischen Geheimdienst.\n",
      "Alice Urbachs jüngerer Sohn Karl, hier als Abiturient, kam nach dem \"Anschluss\" Österreichs an Hitlerdeutschland ins Konzentrationslager Dachau. Seinem Bruder Otto gelang es mithilfe amerikanischer Freunde, ihn 1939 in die USA zu holen.\n",
      "Nach ihrer Emigration aus Wien leitete Alice Urbach im englischen Windermere ein Heim für jüdische Kinder, die ohne Eltern aus Deutschland geflüchtet waren. Einige dieser Kinder traf Alices Enkelin Karina Urbach bei den Recherchen für ihr Buch über ihre Großmutter.\n",
      "Nach dem Krieg zog Alice Urbach in die USA. Ihr Sohn Otto lebte seit 1949 wieder in Europa und arbeitete für den amerikanischen Geheimdienst (auf dem Bild ist Alice zusammen mit Otto 1948/49 zu sehen).\n",
      "Otto Urbach heiratete die deutsche Schauspielerin Wera Frydtberg (\"Ich denke oft an Piroschka\", \"Wir Wunderkinder\").\n",
      "Karina Urbach ist die Tochter von Otto Urbach und Wera Frydtberg. Für ihr Werk \"Das Buch Alice. Wie die Nazis das Kochbuch meiner Großmutter raubten\" ging sie der Geschichte ihrer Familie und des Bestsellers von Alice Urbach nach.\n",
      "Melden Sie sich an und diskutieren Sie mit\n"
     ]
    }
   ],
   "source": [
    "IDX=0\n",
    "suburl=alltitleLinks[IDX]\n",
    "try:\n",
    "    html=urlopen(suburl).read() #works if subdomains are referenced by absolute path\n",
    "except:\n",
    "    html=urlopen(url+suburl).read() #works if subdomains are referenced by relative path\n",
    "soup=BeautifulSoup(html,\"html.parser\")\n",
    "AllP=soup.findAll('p')\n",
    "for p in AllP:\n",
    "    print(p.get_text())"
   ]
  },
  {
   "cell_type": "markdown",
   "metadata": {
    "collapsed": true,
    "slideshow": {
     "slide_type": "skip"
    }
   },
   "source": [
    "## Questions and Remarks\n",
    "1. This notebook demonstrates how raw-text can be crawled from news-sites. But what is the drawback of this method?\n",
    "2. Execute the entire notebook also for `www.spiegel.de` and `www.sueddeutsche.de`.\n",
    "3. What do you observe? How to solve the problem?"
   ]
  },
  {
   "cell_type": "code",
   "execution_count": null,
   "metadata": {
    "collapsed": true
   },
   "outputs": [],
   "source": []
  }
 ],
 "metadata": {
  "celltoolbar": "Slideshow",
  "kernelspec": {
   "display_name": "Python 3",
   "language": "python",
   "name": "python3"
  },
  "language_info": {
   "codemirror_mode": {
    "name": "ipython",
    "version": 3
   },
   "file_extension": ".py",
   "mimetype": "text/x-python",
   "name": "python",
   "nbconvert_exporter": "python",
   "pygments_lexer": "ipython3",
   "version": "3.7.5"
  },
  "nav_menu": {},
  "toc": {
   "base_numbering": 1,
   "nav_menu": {},
   "number_sections": true,
   "sideBar": true,
   "skip_h1_title": false,
   "title_cell": "Table of Contents",
   "title_sidebar": "Contents",
   "toc_cell": false,
   "toc_position": {},
   "toc_section_display": "block",
   "toc_window_display": false
  },
  "varInspector": {
   "cols": {
    "lenName": 16,
    "lenType": 16,
    "lenVar": 40
   },
   "kernels_config": {
    "python": {
     "delete_cmd_postfix": "",
     "delete_cmd_prefix": "del ",
     "library": "var_list.py",
     "varRefreshCmd": "print(var_dic_list())"
    },
    "r": {
     "delete_cmd_postfix": ") ",
     "delete_cmd_prefix": "rm(",
     "library": "var_list.r",
     "varRefreshCmd": "cat(var_dic_list()) "
    }
   },
   "types_to_exclude": [
    "module",
    "function",
    "builtin_function_or_method",
    "instance",
    "_Feature"
   ],
   "window_display": false
  }
 },
 "nbformat": 4,
 "nbformat_minor": 1
}