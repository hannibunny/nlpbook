{
 "cells": [
  {
   "cell_type": "markdown",
   "metadata": {
    "slideshow": {
     "slide_type": "slide"
    }
   },
   "source": [
    "# Access Contents of HTML Page\n",
    "\n",
    "- Author:      Johannes Maucher\n",
    "- Last update: 2018-10-21\n",
    "\n",
    "This notebook demonstrates how to parse a HTML document and access dedicated elements of the parse tree.\n",
    "[Beautiful Soup](http://www.crummy.com/software/BeautifulSoup/bs4/doc/#) is a python package for parsing HTML. Download and install version 4 by typing:\n",
    "\n",
    "> `pip install beautifulsoup4`\n",
    "\n",
    "into the command shell. Once it is installed it can be imported by"
   ]
  },
  {
   "cell_type": "code",
   "execution_count": 1,
   "metadata": {
    "ExecuteTime": {
     "end_time": "2017-10-20T12:50:00.898000Z",
     "start_time": "2017-10-20T12:50:00.893000Z"
    },
    "slideshow": {
     "slide_type": "fragment"
    }
   },
   "outputs": [],
   "source": [
    "from bs4 import BeautifulSoup"
   ]
  },
  {
   "cell_type": "markdown",
   "metadata": {
    "slideshow": {
     "slide_type": "slide"
    }
   },
   "source": [
    "For accessing arbitrary resources by URL the python modul [urllib](https://docs.python.org/2/library/urllib.html) must also be installed. Import the method _urlopen()_ from this module:  "
   ]
  },
  {
   "cell_type": "code",
   "execution_count": 2,
   "metadata": {
    "ExecuteTime": {
     "end_time": "2017-10-20T12:50:02.246000Z",
     "start_time": "2017-10-20T12:50:02.242000Z"
    },
    "slideshow": {
     "slide_type": "fragment"
    }
   },
   "outputs": [],
   "source": [
    "from urllib.request import urlopen"
   ]
  },
  {
   "cell_type": "markdown",
   "metadata": {
    "slideshow": {
     "slide_type": "fragment"
    }
   },
   "source": [
    "If these two modules are available the HTML parse tree of the specified URL can easily be generated as follows."
   ]
  },
  {
   "cell_type": "code",
   "execution_count": 3,
   "metadata": {
    "ExecuteTime": {
     "end_time": "2017-10-20T12:50:04.344000Z",
     "start_time": "2017-10-20T12:50:03.569000Z"
    },
    "slideshow": {
     "slide_type": "fragment"
    }
   },
   "outputs": [],
   "source": [
    "#url=\"http://www.zeit.de\"\n",
    "url=\"http://www.spiegel.de\"\n",
    "#url=\"http://www.sueddeutsche.de\"\n",
    "html=urlopen(url).read()\n",
    "soup=BeautifulSoup(html,\"html.parser\")"
   ]
  },
  {
   "cell_type": "markdown",
   "metadata": {
    "slideshow": {
     "slide_type": "slide"
    }
   },
   "source": [
    "Now e.g. the title of the URL can be accessed by:"
   ]
  },
  {
   "cell_type": "code",
   "execution_count": 4,
   "metadata": {
    "ExecuteTime": {
     "end_time": "2017-10-20T12:50:06.092000Z",
     "start_time": "2017-10-20T12:50:06.086000Z"
    },
    "slideshow": {
     "slide_type": "fragment"
    }
   },
   "outputs": [
    {
     "name": "stdout",
     "output_type": "stream",
     "text": [
      "Title of page:   DER SPIEGEL | Online-Nachrichten\n"
     ]
    }
   ],
   "source": [
    "titleTag = soup.html.head.title\n",
    "print(\"Title of page:  \",titleTag.string)"
   ]
  },
  {
   "cell_type": "markdown",
   "metadata": {
    "slideshow": {
     "slide_type": "slide"
    }
   },
   "source": [
    "## Get all links in the page\n",
    "All links in the page can be retrieven by the following code (only the first 20 links are printed)"
   ]
  },
  {
   "cell_type": "code",
   "execution_count": 5,
   "metadata": {
    "ExecuteTime": {
     "end_time": "2017-10-20T12:50:07.973000Z",
     "start_time": "2017-10-20T12:50:07.951000Z"
    },
    "slideshow": {
     "slide_type": "fragment"
    }
   },
   "outputs": [
    {
     "name": "stdout",
     "output_type": "stream",
     "text": [
      "Number of links in this page:  599\n",
      "#Inhalt\n",
      "https://www.spiegel.de/\n",
      "https://abo.spiegel.de/?b=SPOHNAVABO&requestAccessToken=true&sara_icid=disp_upd_9h6L5hu8K1AAnttzYATx3hvk7taDkP&targetUrl=https%3A%2F%2Fwww.spiegel.de%2Ffuermich%2F\n",
      "https://gruppenkonto.spiegel.de/authenticate?requestAccessToken=true&targetUrl=https%3A%2F%2Fwww.spiegel.de%2Ffuermich%2F\n",
      "https://www.spiegel.de/fuermich/\n",
      "https://www.spiegel.de/\n",
      "https://www.spiegel.de/schlagzeilen/\n",
      "https://www.spiegel.de/spiegel/\n",
      "https://www.spiegel.de/audio/\n",
      "https://www.spiegel.de/fuermich/\n",
      "https://www.spiegel.de/schlagzeilen/\n",
      "https://www.spiegel.de/plus/\n",
      "https://www.spiegel.de/magazine\n",
      "https://www.spiegel.de/thema/coronavirus/\n",
      "https://www.spiegel.de/thema/bundestagswahl-2021-republik-21/\n",
      "https://www.spiegel.de/thema/klimawandel/\n",
      "https://www.spiegel.de/politik/deutschland/\n",
      "https://www.spiegel.de/ausland/\n",
      "https://www.spiegel.de/panorama/\n",
      "https://www.spiegel.de/sport/\n"
     ]
    }
   ],
   "source": [
    "hreflinks=[]\n",
    "Alllinks=soup.findAll('a') #The <a> tag defines a hyperlink, which is used to link from one page to another.\n",
    "for l in Alllinks:\n",
    "    if l.has_attr('href'):\n",
    "        hreflinks.append(l)\n",
    "print(\"Number of links in this page: \",len(hreflinks))\n",
    "for l in hreflinks[:20]:\n",
    "    print(l['href'])"
   ]
  },
  {
   "cell_type": "markdown",
   "metadata": {
    "slideshow": {
     "slide_type": "slide"
    }
   },
   "source": [
    "## Get all news titles\n",
    "Get title of all news, which are currently listed on [www.zeit.de](http://www.zeit.de):"
   ]
  },
  {
   "cell_type": "code",
   "execution_count": 6,
   "metadata": {
    "ExecuteTime": {
     "end_time": "2017-10-20T12:50:10.208000Z",
     "start_time": "2017-10-20T12:50:10.124000Z"
    },
    "slideshow": {
     "slide_type": "fragment"
    }
   },
   "outputs": [
    {
     "name": "stdout",
     "output_type": "stream",
     "text": [
      "----------------------------------------\n",
      "Uma Thurman über Abtreibung: »Die schwierigste Entscheidung meines Lebens«\n",
      "https://www.spiegel.de/panorama/leute/uma-thurman-ueber-abtreibung-die-schwierigste-entscheidung-meines-lebens-a-a137f97e-faf3-47dc-85bd-2b34f22fc57f\n",
      "----------------------------------------\n",
      "Soziales Netzwerk: Facebook-Aufsichtsgremium untersucht Sonderrechte für Prominente\n",
      "https://www.spiegel.de/netzwelt/netzpolitik/facebook-aufsichtsgremium-untersucht-sonderrechte-fuer-prominente-a-466d729a-30fc-4285-9276-d402b8bbe8a7\n",
      "----------------------------------------\n",
      "Streit über Atomprogramm: Maas will Gespräche mit Iran »so schnell wie möglich« wieder aufnehmen\n",
      "https://www.spiegel.de/ausland/streit-ueber-atomprogramm-heiko-maas-spd-draengt-iran-zur-rueckkehr-an-den-verhandlungstisch-a-e30192e4-3c5a-4119-b260-9162bbef6ed5\n",
      "----------------------------------------\n",
      "Interne Ermittlungen: Mutmaßlicher Rechtsextremist im Verteidigungsministerium enttarnt\n",
      "https://www.spiegel.de/politik/deutschland/mutmasslicher-rechtsextremist-im-verteidigungsministerium-enttarnt-a-58d6ede1-5f2a-4cbb-b2ff-66e388e86f4f\n",
      "----------------------------------------\n",
      "Fußballlegende: Pelé grüßt radelnd aus Krankenhaus\n",
      "https://www.spiegel.de/panorama/leute/pele-fussball-legende-gruesst-radelnd-aus-krankenhaus-a-dfa2b334-bdba-4789-a6ec-af7b408af670\n",
      "----------------------------------------\n",
      "Mutmaßlicher Rechtsextremist im Verteidigungsministerium enttarnt\n",
      "https://www.spiegel.de/politik/deutschland/mutmasslicher-rechtsextremist-im-verteidigungsministerium-enttarnt-a-58d6ede1-5f2a-4cbb-b2ff-66e388e86f4f\n",
      "----------------------------------------\n",
      "CSU-Generalsekretär Blume hält Erneuerung der Union nach der Wahl für nötig\n",
      "https://www.spiegel.de/politik/deutschland/bundestagswahl-2021-im-news-update-briefwahl-ist-laut-bundeswahlleiter-so-sicher-wie-der-urnengang-a-50f1645a-6abf-4db1-a5f8-7683c774991f\n",
      "----------------------------------------\n",
      "Ein schlechter Scherz – oder doch eine Straftat?\n",
      "https://www.spiegel.de/politik/deutschland/bundestagswahl-rief-markus-soeder-zu-waehlertaeuschung-auf-a-75fb93ab-d052-4355-a87a-f65e1bf82280\n",
      "----------------------------------------\n",
      "Wie Merkel im Regen für Laschet kämpft\n",
      "https://www.spiegel.de/politik/deutschland/armin-laschet-und-angela-merkel-in-stralsund-wie-die-kanzlerin-im-regen-fuer-laschet-kaempft-a-61c7b7af-74a0-4a32-9d85-28af535d3576\n",
      "----------------------------------------\n",
      "Polen ringt um den Exit\n",
      "https://www.spiegel.de/ausland/polen-streit-ueber-den-austritt-aus-der-eu-a-f529e851-bffc-4b15-aeae-dea736d3ed84\n",
      "----------------------------------------\n",
      "Facebook-Aufsichtsgremium untersucht Sonderrechte für Prominente\n",
      "https://www.spiegel.de/netzwelt/netzpolitik/facebook-aufsichtsgremium-untersucht-sonderrechte-fuer-prominente-a-466d729a-30fc-4285-9276-d402b8bbe8a7\n",
      "----------------------------------------\n",
      "»Ein trauriges Spektakel für unser Land«\n",
      "https://www.spiegel.de/wirtschaft/usa-vor-der-zahlungsunfaehigkeit-ein-trauriges-spektakel-fuer-unser-land-a-df04ac32-1a3a-4f7e-b3c9-8b23780907d2\n",
      "----------------------------------------\n",
      "Trump-Team log wissentlich über »gestohlene Wahl«\n",
      "https://www.spiegel.de/ausland/donald-trump-sein-team-log-wissentlich-ueber-gestohlene-wahl-a-500a579f-ddad-4ddb-9143-9c46c4189c35\n",
      "----------------------------------------\n",
      "Maas will Gespräche mit Iran »so schnell wie möglich« wieder aufnehmen\n",
      "https://www.spiegel.de/ausland/streit-ueber-atomprogramm-heiko-maas-spd-draengt-iran-zur-rueckkehr-an-den-verhandlungstisch-a-e30192e4-3c5a-4119-b260-9162bbef6ed5\n",
      "----------------------------------------\n",
      "Warum Australien sich gegen die französischen U-Boote entschied\n",
      "https://www.spiegel.de/ausland/u-boot-deal-mit-usa-und-grossbritannien-warum-australien-sich-gegen-u-boote-aus-frankreich-entschied-a-bed51a11-25e4-41bd-913c-fdbcf98fee9e\n",
      "----------------------------------------\n",
      "US-Regierung prüft Sicherheitsrisiko durch geplanten Milliardendeal\n",
      "https://www.spiegel.de/wirtschaft/unternehmen/zoom-us-regierung-prueft-sicherheitsrisiko-durch-geplanten-milliarden-deal-a-b0c6b557-e6c7-4a44-87f9-b9f8e680a229\n",
      "----------------------------------------\n",
      "Coronapandemie\n",
      "https://www.spiegel.de/thema/coronavirus/\n",
      "----------------------------------------\n",
      "Brasiliens Gesundheitsminister positiv auf Corona getestet\n",
      "https://www.spiegel.de/ausland/brasilien-gesundheitsminister-marcelo-queiroga-positiv-auf-corona-getestet-a-935032b8-57ce-4f05-be96-1f2c29c24df3\n",
      "----------------------------------------\n",
      "Lauterbach warnt vor vollen Stadien trotz 2G-Regel\n",
      "https://www.spiegel.de/politik/deutschland/coronapandemie-karl-lauterbach-spd-haelt-volle-stadien-trotz-2g-regel-nicht-fuer-sinnvoll-a-ed2bb1f5-1b78-4d64-bcf6-ad964de2fc10\n",
      "----------------------------------------\n",
      "Vermisste Gabby Petito wurde Opfer von Tötungsdelikt\n",
      "https://www.spiegel.de/panorama/justiz/fall-gabrielle-gabby-petito-polizei-identifiziert-leiche-und-geht-von-toetungsdelikt-aus-a-74abd386-4a48-4802-8ac1-fe0dc4ace135\n",
      "----------------------------------------\n",
      "Zwei Mopedfahrer bei Frontalzusammenstoß getötet\n",
      "https://www.spiegel.de/panorama/bayern-zwei-mopedfahrer-bei-frontalzusammenstoss-getoetet-a-e5aa9e0b-eaa1-4da5-a075-af6aea071375\n",
      "----------------------------------------\n",
      "Stiftung Warentest lobt Nischenanbieter\n",
      "https://www.spiegel.de/netzwelt/gadgets/soziale-und-oekologische-verantwortung-von-handyherstellern-stiftung-warentest-lobt-nischenanbieter-a-86e3b6f0-1696-47fa-a596-f4cc7e2d9b28\n",
      "----------------------------------------\n",
      "Willie Garson ist tot\n",
      "https://www.spiegel.de/kultur/tv/sex-and-the-city-willie-garson-mit-57-jahren-gestorben-a-9a601f56-cc8c-4ec6-bdd5-5d65698a610a\n",
      "----------------------------------------\n",
      "Pelé grüßt radelnd aus Krankenhaus\n",
      "https://www.spiegel.de/panorama/leute/pele-fussball-legende-gruesst-radelnd-aus-krankenhaus-a-dfa2b334-bdba-4789-a6ec-af7b408af670\n",
      "----------------------------------------\n",
      "Welche Wander-Apps am besten führen\n",
      "https://www.spiegel.de/reise/test-von-stiftung-warentest-welche-wander-apps-am-besten-fuehren-a-e7863c61-b571-480d-b9cc-99f2a7674346\n",
      "----------------------------------------\n",
      "»Hierarchien gibt es bei uns nicht‚ große Entscheidungen treffen wir gemeinsam.«\n",
      "https://www.spiegel.de/karriere/gleiches-gehalt-fuer-alle-und-keine-hierarchien-so-geht-new-work-im-handwerk-a-b11d2d63-521a-4b10-9ccc-be06ec87e29c\n",
      "----------------------------------------\n",
      "»Für Bond ist ein Porsche zu nüchtern«\n",
      "https://www.spiegel.de/auto/fahrkultur/james-bond-film-keine-zeit-zu-sterben-interview-mit-harald-belker-zu-007-autos-a-9b292e98-157b-4d12-bb6f-1e524641ee79\n",
      "----------------------------------------\n",
      "Das Beste von SPIEGEL+\n",
      "https://www.spiegel.de/plus/\n",
      "----------------------------------------\n",
      "Warum die Grünen ihren Kurs ändern – kurz vor der Wahl\n",
      "https://www.spiegel.de/politik/deutschland/bundestagswahl-2021-warum-die-gruenen-ihren-kurs-aendern-kurz-vor-der-wahl-a-def2bf83-31d3-4b30-b3d9-f296a49d18f3\n",
      "----------------------------------------\n",
      "Ein Monat in der »Bild«-Hölle\n",
      "https://www.spiegel.de/kultur/tv/bild-tv-mit-julian-reichelt-und-claus-strunz-ein-monat-in-der-bild-hoelle-a-f10a3595-08e1-4225-a8ab-6d5e51fdc869\n",
      "----------------------------------------\n",
      "Das Monster und ich\n",
      "https://www.spiegel.de/reise/camping-mit-dem-wohnmobil-das-monster-und-ich-teil-2-a-ca097582-fc9b-4454-ae06-d4a628ee0850\n",
      "----------------------------------------\n",
      "Worunter moderne Väter leiden\n",
      "https://www.spiegel.de/familie/familie-heute-worunter-moderne-vaeter-leiden-a-e9875cbb-4c83-4ae1-9003-a6445ad70835\n",
      "----------------------------------------\n",
      "Videos\n",
      "https://www.spiegel.de/video/\n",
      "----------------------------------------\n",
      "Kommentare und Kolumnen\n",
      "https://www.spiegel.de/thema/meinung/\n",
      "----------------------------------------\n",
      "Dringende Ermittlungsmaßnahmen\n",
      "https://www.spiegel.de/panorama/justiz/geldwaesche-dringende-ermittlungsmassnahmen-kolumne-von-thomas-fischer-a-12298d99-668e-4a26-a7d8-df9a3eaac7d7\n",
      "----------------------------------------\n",
      "Warum Scholz den Schröder machen muss\n",
      "https://www.spiegel.de/wirtschaft/olaf-scholz-warum-der-spd-kandidat-den-gerhard-schroeder-machen-muss-a-6133eba5-affd-407c-a894-6dc0d01a990f\n",
      "----------------------------------------\n",
      "Letzte Ausfahrt Magdeburg\n",
      "https://www.spiegel.de/politik/deutschland/olaf-scholz-optionen-kanzler-zu-werden-letzte-ausfahrt-magdeburg-kolumne-a-3ada44ea-bd51-4339-a090-74779121aeea\n",
      "----------------------------------------\n",
      "Eine Palastrevolution ist nicht genug\n",
      "https://www.spiegel.de/kultur/tv/emmy-awards-2021-eine-palastrevolution-ist-nicht-genug-kommentar-a-a5ccb4e8-f3db-4ff9-a892-0febc6bb6323\n",
      "----------------------------------------\n",
      "Klimakrise\n",
      "https://www.spiegel.de/thema/klimawandel/\n",
      "----------------------------------------\n",
      "Wie Banden und Kartelle Mexikos Wälder plündern\n",
      "https://www.spiegel.de/ausland/oekoverbrechen-in-mexiko-wie-banden-und-kartelle-die-waelder-pluendern-a-6f8d1a95-c331-4ccf-a533-6e06d3121a48\n",
      "----------------------------------------\n",
      "Löst Erdgas unser Kohleproblem?\n",
      "https://www.spiegel.de/wissenschaft/technik/erdgas-loest-gas-unser-kohle-problem-klimabericht-podcast-a-56e4b634-f0db-41a6-95eb-782f580e02e4\n",
      "----------------------------------------\n",
      "Rekordemissionen durch Waldbrände auf der Nordhalbkugel\n",
      "https://www.spiegel.de/wissenschaft/natur/rekordemissionen-durch-waldbraende-auf-der-nordhalbkugel-a-4d07f16d-ad05-446c-bd61-bac88b573ca3\n",
      "----------------------------------------\n",
      "Wenn Berge zerbröseln\n",
      "https://www.spiegel.de/sport/klimawandel-setzt-matterhorn-und-co-zu-wenn-berge-zerbroeseln-a-b79941a6-ccd0-4632-9e1b-9b627bb6551a\n",
      "----------------------------------------\n",
      "Politik\n",
      "https://www.spiegel.de/politik/deutschland/\n",
      "----------------------------------------\n",
      "200 Millionen vom Bund: Länder rufen Geld für mobile Luftfilter nicht ab\n",
      "https://www.spiegel.de/politik/deutschland/coronapandemie-laender-rufen-geld-fuer-mobile-luftfilter-noch-nicht-ab-a-7d2ba406-a011-4768-a191-678ef83bf650\n",
      "----------------------------------------\n",
      "Vielfalt im Wahlkampf: »Da kommen nur blonde Deutsche in der Wahlwerbung vor«\n",
      "https://www.spiegel.de/politik/deutschland/bundestagswahl-migranten-bleiben-im-wahlkampf-unsichtbar-a-b0fe0b22-6044-4b0b-b2cc-500b7f7cfdff\n",
      "----------------------------------------\n",
      "Maike Kohl-Richter: Helmut Kohls Witwe will juristisch gegen Stiftung des Ex-Kanzlers vorgehen\n",
      "https://www.spiegel.de/politik/deutschland/helmut-kohls-witwe-maike-kohl-richter-will-juristisch-gegen-stiftung-des-ex-kanzlers-vorgehen-a-a9fc2097-92cb-401f-85c7-3ec3ca2373cf\n",
      "----------------------------------------\n",
      "Ausland\n",
      "https://www.spiegel.de/ausland/\n",
      "----------------------------------------\n",
      "Die Lage am Morgen: So will Joe Biden in einem Jahr die Welt impfen\n",
      "https://www.spiegel.de/ausland/news-joe-biden-corona-xi-jinping-kohle-polen-justizreform-armin-laschet-a-8f337723-0a9b-4caa-924c-962d12719a1a\n",
      "----------------------------------------\n",
      "Radikale Islamisten: Taliban fordern Redezeit bei Uno-Generaldebatte\n",
      "https://www.spiegel.de/ausland/taliban-und-die-uno-radikale-islamisten-fordern-redezeit-bei-generaldebatte-a-8cfd53b3-bcb5-4e71-863d-c8a1ef9906a4\n",
      "----------------------------------------\n",
      "Namibia: Hunderte protestieren gegen Aussöhnungsabkommen mit Deutschland\n",
      "https://www.spiegel.de/ausland/namibia-hunderte-protestieren-gegen-aussoehnungsabkommen-mit-deutschland-a-8a3a0acf-1884-4b3d-93b3-31737a10daf8\n",
      "----------------------------------------\n",
      "Panorama\n",
      "https://www.spiegel.de/panorama/\n",
      "----------------------------------------\n",
      "Uma Thurman über Abtreibung: »Die schwierigste Entscheidung meines Lebens«\n",
      "https://www.spiegel.de/panorama/leute/uma-thurman-ueber-abtreibung-die-schwierigste-entscheidung-meines-lebens-a-a137f97e-faf3-47dc-85bd-2b34f22fc57f\n",
      "----------------------------------------\n",
      "Britischer Premierminister: Boris Johnson hat sechs Kinder\n",
      "https://www.spiegel.de/panorama/leute/grossbritannien-boris-johnson-hat-sechs-kinder-a-7ac80162-6e29-43af-a790-73db4afc42b0\n",
      "----------------------------------------\n",
      "Angriff in Tankstelle: Polizeigewerkschaft warnt vor zunehmender Radikalisierung von Coronaleugnern\n",
      "https://www.spiegel.de/panorama/justiz/fall-idar-oberstein-polizeigewerkschaft-warnt-vor-radikalisierung-von-coronaleugnern-a-b565cfab-f557-444e-a1f6-5d28dcbbf6b1\n",
      "----------------------------------------\n",
      "Sport\n",
      "https://www.spiegel.de/sport/\n",
      "----------------------------------------\n",
      "Karriereende von Skispringer Schlierenzauer: Vom Ehrgeiz getrieben, am Ehrgeiz gescheitert\n",
      "https://www.spiegel.de/sport/wintersport/skispringen-gregor-schlierenzauer-beendet-seine-karriere-am-ehrgeiz-gescheitert-a-a228779e-1564-4203-a571-becf7138b4bd\n",
      "----------------------------------------\n",
      "DFB-Auswahl in der WM-Qualifikation: Schüller dreht Spiel gegen Serbien – Linienrichterin muss ausgewechselt werden\n",
      "https://www.spiegel.de/sport/fussball/frauenfussball-deutschland-gewinnt-deutlich-in-wm-qualifikation-dank-lea-schueller-a-c953ca2f-9c71-4fe1-ace1-e5d25584c6bd\n",
      "----------------------------------------\n",
      "Nach rassistischen Attacken bei WM-Qualifikation: Fanausschluss und Geldstrafe – Fifa belangt Ungarns Fußballverband\n",
      "https://www.spiegel.de/sport/fussball/wm-qualifikation-strafe-nach-rassistischen-ausfaellen-ungarn-ein-heimspiel-ohne-fans-a-d4adb418-1b1c-463a-884b-c1358fb16cb6\n",
      "----------------------------------------\n",
      "Wirtschaft\n",
      "https://www.spiegel.de/wirtschaft/\n",
      "----------------------------------------\n",
      "Lösbare Kleinteile: Stiftung Warentest warnt vor Mängeln bei Kindermatratzen\n",
      "https://www.spiegel.de/wirtschaft/service/stiftung-warentest-warnt-vor-erstickungsgefahr-bei-kindermatratzen-a-fa72e71a-0de4-4a76-92f9-8d2381d0085c\n",
      "----------------------------------------\n",
      "Kriselnder chinesischer Immobilienkonzern: Evergrande kündigt wichtige Zinszahlung an\n",
      "https://www.spiegel.de/wirtschaft/unternehmen/evergrande-chinesischer-immobilienkonzern-kuendigt-wichtige-zinszahlung-an-a-896e24df-469b-4fb8-82e0-998811c89885\n",
      "----------------------------------------\n",
      "Produktionskapazitäten: Wie wir mit einem Euro mehr pro Impfdosis Corona besiegen können\n",
      "https://www.spiegel.de/wirtschaft/soziales/corona-viel-zu-geringen-produktionskapazitaeten-fuer-mrna-impfstoff-a-b39114a1-3d86-4a51-8018-ed881774236a\n",
      "----------------------------------------\n",
      "Gestürzter Lidl-Chef: Das neue Leben des Klaus Gehrig\n",
      "https://www.manager-magazin.de/unternehmen/handel/lidl-was-klaus-gehrig-nach-seinem-aus-bei-der-schwarz-gruppe-treibt-a-63a1275d-0002-0001-0000-000179197441\n",
      "----------------------------------------\n",
      "Kryptomining: Wie Bitcoin die deutsche Autoindustrie ausbremst\n",
      "https://www.manager-magazin.de/unternehmen/industrie/bitcoin-wie-mining-von-kryptowaehrungen-den-chipmangel-verschaerft-a-9b1d79f6-5ed2-4579-966a-5b192802b32c\n",
      "----------------------------------------\n",
      "Digitalisierung: Systemausfall im Kanzleramt\n",
      "https://www.manager-magazin.de/politik/deutschland/digitalisierung-systemausfall-im-kanzleramt-von-helge-braun-und-dorothee-baer-a-7dd7d205-0002-0001-0000-000179197455\n",
      "----------------------------------------\n",
      "Börsenkurse manager magazin\n",
      "https://boersen.manager-magazin.de\n",
      "----------------------------------------\n",
      "Wissenschaft\n",
      "https://www.spiegel.de/wissenschaft/\n",
      "----------------------------------------\n",
      "Kampf gegen Coronavirus: Spahn erwartet Ende der Pandemie im Frühjahr\n",
      "https://www.spiegel.de/wissenschaft/medizin/spahn-erwartet-ende-der-pandemie-im-fruehjahr-a-204b21b9-e966-4e16-83d1-52cbb8dca83e\n",
      "----------------------------------------\n",
      "Coronavirus in Deutschland: RKI meldet 10.454 Neuinfektionen\n",
      "https://www.spiegel.de/wissenschaft/corona-virus-in-deutschland-rki-meldet-10-454-neuinfektionen-a-a8a61f6f-24b1-4b48-9381-a75f80a279c2\n",
      "----------------------------------------\n",
      "Vulkan auf Sizilien: Ätna speit 9000 Meter hohe Aschewolke\n",
      "https://www.spiegel.de/wissenschaft/natur/sizilien-vulkan-aetna-speit-900-meter-hohe-aschewolke-a-cff3ea00-b457-48ba-a04d-e692768d013d\n",
      "----------------------------------------\n",
      "Netzwelt\n",
      "https://www.spiegel.de/netzwelt/\n",
      "----------------------------------------\n",
      "Bundesverfassungsgericht: Facebook darf Seite des »III. Wegs« bis zur Bundestagswahl sperren\n",
      "https://www.spiegel.de/netzwelt/netzpolitik/bundesverfassungsgericht-facebook-darf-seite-des-iii-weg-bis-zur-bundestagswahl-sperren-a-b249c82f-1561-46a8-ba69-c79a713f566e\n",
      "----------------------------------------\n",
      "iPhone 13 im Test: Das können die neuen Apple-Smartphones\n",
      "https://www.spiegel.de/netzwelt/gadgets/iphone-13-im-test-was-die-neuen-apple-handys-koennen-a-a24816bb-b361-4d60-b524-6700ef820808\n",
      "----------------------------------------\n",
      "Internetkommentare gegen Spitzenkandidaten: Täglich Hass, tausendfach\n",
      "https://www.spiegel.de/netzwelt/netzpolitik/hasskommentare-gegen-die-kanzlerkandidaten-schimpf-und-schande-a-ff7b6878-f9d7-46e2-b4b9-e0a78a2c4957\n",
      "----------------------------------------\n",
      "Kultur\n",
      "https://www.spiegel.de/kultur/\n",
      "----------------------------------------\n",
      "Beliebter »Großstadtrevier«-Ermittler: Schauspieler Wilfried Dziallas gestorben\n",
      "https://www.spiegel.de/kultur/tv/schauspieler-wilfried-dziallas-gestorben-a-6f303529-948b-4ca8-97bb-f0bd90025f07\n",
      "----------------------------------------\n",
      "Pionier der elektronischen Musik: Richard H. Kirk von Cabaret Voltaire ist tot\n",
      "https://www.spiegel.de/kultur/tv/richard-h-kirk-von-cabaret-voltaire-ist-tot-a-1601ae1f-57a9-4463-8c14-dd9719ee4d30\n",
      "----------------------------------------\n",
      "Gründungsmitglied von Labelle: »Lady Marmalade«-Sängerin Sarah Dash ist tot\n",
      "https://www.spiegel.de/kultur/musik/lady-marmalade-saengerin-sarah-dash-ist-tot-a-e52c48e9-50e3-4765-a8d5-b6496f96cadc\n",
      "----------------------------------------\n",
      "Job & Karriere\n",
      "https://www.spiegel.de/karriere/\n",
      "----------------------------------------\n",
      "Mehr Vielfalt: Boston Consulting Group gibt sich Quote für LGBTQ+-Community\n",
      "https://www.spiegel.de/karriere/boston-consulting-group-gibt-sich-quote-fuer-lgbtq-community-a-a2465c87-31e2-4a69-b88c-d70874bdf728\n",
      "----------------------------------------\n",
      "Tipps vom Karrierecoach: Wenn die Kantine zur Wahlarena wird\n",
      "https://www.spiegel.de/karriere/bundestagswahl-sollte-ich-mit-meinen-kollegen-ueber-die-wahl-diskutieren-a-3415bccf-98dd-4561-a623-6c80dcc76ccf\n",
      "----------------------------------------\n",
      "Rätsel der Woche: Wie alt ist Sophie?\n",
      "https://www.spiegel.de/karriere/wie-alt-ist-sophie-raetsel-der-woche-a-20e8cfed-3ffb-404b-942f-f668563c7dc9\n",
      "----------------------------------------\n",
      "Start\n",
      "https://www.spiegel.de/start/\n",
      "----------------------------------------\n",
      "Motiviert durchs Studium: So wird dieses Semester wirklich alles besser\n",
      "https://www.spiegel.de/start/motivation-fuers-studium-so-wird-dieses-semester-wirklich-alles-besser-a-8dcb2257-3b04-4169-8f21-700a8c3fd88b\n",
      "----------------------------------------\n",
      "Nie wieder fade Powerpoint-Folien: Wie man die perfekte Präsentation hält\n",
      "https://www.spiegel.de/start/referate-vortraege-pitches-profis-verraten-wie-man-die-perfekte-praesentation-haelt-a-56e21bf4-33b5-4b5b-9c02-ecc211497487\n",
      "----------------------------------------\n",
      "Unterstützung für Studierende: Wie man ein Avicenna-Stipendium bekommt – und was es bringt\n",
      "https://www.spiegel.de/start/stipendium-des-avicenna-studienwerks-voraussetzung-bewerbung-foerderung-a-80839d1d-aef3-4c80-a733-d6a5154468d9\n",
      "----------------------------------------\n",
      "Geschichte\n",
      "https://www.spiegel.de/geschichte/\n",
      "----------------------------------------\n",
      "BASF-Explosion 1921: »Das Ende der Welt schien gekommen«\n",
      "https://www.spiegel.de/geschichte/basf-explosion-in-oppau-1921-das-ende-der-welt-schien-gekommen-a-4e0b12f0-32d1-48ca-bbbf-c96493c1a986\n",
      "----------------------------------------\n",
      "Jonas Noreika: War Litauens Nationalheld ein Massenmörder?\n",
      "https://www.spiegel.de/geschichte/litauens-nationalheld-jonas-noreika-das-dunkle-vermaechtnis-a-f53afc7e-6c2f-4594-bba7-66e1de238fcf\n",
      "----------------------------------------\n",
      "Kriegskinder: »Da wurde ich Soldat, Kindersoldat. Ich war vierzehn Jahre«\n",
      "https://www.spiegel.de/geschichte/kriegskinder-im-zweiten-weltkrieg-da-wurde-ich-soldat-kindersoldat-ich-war-vierzehn-jahre-a-a2b6a008-0ed4-4316-9c5b-481500a9fed9\n",
      "----------------------------------------\n",
      "Tests\n",
      "https://www.spiegel.de/tests/\n",
      "----------------------------------------\n",
      "Spieleklassiker: Was wurde eigentlich aus »Cluedo«?\n",
      "https://www.spiegel.de/tests/brettspiele/cluedo-was-wurde-aus-dem-spieleklassiker-a-ccfa774f-5877-4955-aba8-66f54358fa56\n",
      "----------------------------------------\n",
      "Bestseller Link\n",
      "https://www.spiegel.de/kultur/bestseller-buecher-belletristik-sachbuch-auf-spiegel-liste-a-458623.html\n",
      "----------------------------------------\n",
      "Mobilität\n",
      "https://www.spiegel.de/auto/\n",
      "----------------------------------------\n",
      "Das Auto im Wahlkampf: Wohin fährt Deutschland?\n",
      "https://www.spiegel.de/auto/bundestagswahl-2021-verkehrspolitik-rund-ums-auto-wahlprogramme-im-check-a-75e80e04-49a3-498e-9808-109ab457f48c\n",
      "----------------------------------------\n",
      "Trendwende: Fahrgäste kommen zurück zu Bus und Bahn\n",
      "https://www.spiegel.de/auto/oeffentlicher-nahverkehr-fahrgaeste-kommen-zurueck-zu-bus-und-bahn-a-dd5b8386-e8d0-4555-a9b6-2a9f1f6bad97\n",
      "----------------------------------------\n",
      "Teilerfolg für Boris Palmer: Tübingen will Parkgebühren für schwere SUV versechsfachen\n",
      "https://www.spiegel.de/auto/tuebingen-boris-palmer-setzt-hoehere-parkgebuehren-fuer-schwere-suv-durch-a-49c86274-34cb-4a83-a5e3-c3ef686c0dd1\n",
      "----------------------------------------\n",
      "SPIEGEL-Bestseller: Sachbuch Hardcover\n",
      "https://www.spiegel.de/kultur/literatur/spiegel-bestseller-hardcover-a-1025428.html\n",
      "----------------------------------------\n",
      "Leben\n",
      "https://www.spiegel.de/thema/leben/\n",
      "----------------------------------------\n",
      "Das späte Leid der Angehörigen\n",
      "https://www.spiegel.de/psychologie/einsamer-corona-tod-als-die-mutter-starb-durfte-die-tochter-nicht-zu-ihr-a-3befc02f-2f78-4502-9bbb-917e0bc1ce84\n",
      "----------------------------------------\n",
      "Träumen Menschen von niedlichen Robotern?\n",
      "https://www.spiegel.de/psychologie/psychologie-vermenschlichte-maschinen-bringen-keinen-vorteil-a-0fc1bf12-9c7a-4411-baa1-9d392be8c806\n",
      "----------------------------------------\n",
      "Ich bin ein Wesen aus der Eizeit\n",
      "https://www.spiegel.de/familie/siebziger-jahre-nostalgie-ich-bin-ein-wesen-aus-der-eizeit-kolumne-a-98b87ea9-5fa1-4f78-a34a-571c5e6a0434\n",
      "----------------------------------------\n",
      "Was Nordamerika-Urlauber jetzt wissen müssen\n",
      "https://www.spiegel.de/reise/usa-und-kanada-was-nordamerika-urlauber-wissen-muessen-a-2139b5fa-bf9d-4771-90cd-cea7df3a1ecd\n",
      "----------------------------------------\n",
      "Das müssen Sie beachten, wenn Sie jetzt eine Reise buchen\n",
      "https://www.spiegel.de/reise/checkliste-fuer-die-urlaubsbuchung-erst-die-buerokratie-dann-die-erholung-a-18f7a1aa-e8af-4092-afee-76d229ff92f5\n",
      "----------------------------------------\n",
      "Ganz schön giftig\n",
      "https://www.spiegel.de/stil/giftige-pflanzen-fingerhut-vogelbeere-eisenhut-pilze-die-gartenkolumne-a-0352eaa3-284e-497b-ae22-70b97b9c7272\n",
      "----------------------------------------\n",
      "Produkte im Test\n",
      "https://www.spiegel.de/tests/\n",
      "----------------------------------------\n",
      "An diesen Fahrradschlössern verzweifeln Diebe\n",
      "https://www.spiegel.de/auto/aktuell/stiftung-warentest-schwere-fahrradschloesser-ueberzeugen-im-test-a-1264043.html\n",
      "----------------------------------------\n",
      "Dieses Ding soll dumme Lichtschalter smart machen\n",
      "https://www.spiegel.de/netzwelt/gadgets/philips-hue-wandschalter-modul-im-test-dumme-lichtschalter-smart-machen-a-502acc7e-07a0-43fa-9739-53d08a8fa0f0\n",
      "----------------------------------------\n",
      "Luxus im Ohr\n",
      "https://www.spiegel.de/netzwelt/gadgets/sennheiser-ie-900-im-test-luxus-im-ohr-a-70ec24ec-4a50-45f3-8970-7cb0e658732e\n",
      "----------------------------------------\n",
      "Samsungs edler Faltenwurf\n",
      "https://www.spiegel.de/netzwelt/gadgets/galaxy-z-fold-3-im-test-samsungs-edler-faltenwurf-a-fdd33249-0b89-4439-b0ce-26304b9be1a6\n",
      "----------------------------------------\n",
      "Diese Klingel weiß, wer da klingelt\n",
      "https://www.spiegel.de/netzwelt/gadgets/google-nest-doorbell-im-test-diese-klingel-weiss-wer-sie-gedrueckt-hat-a-78eed3b2-1eca-4838-845f-ea661be8e58f\n",
      "----------------------------------------\n",
      "Dein SPIEGEL\n",
      "https://www.spiegel.de/deinspiegel/\n",
      "----------------------------------------\n",
      "Welche Kreuze auf dem Wahlzettel erlaubt sind – und welche nicht\n",
      "https://www.spiegel.de/deinspiegel/wahl-abc-fuer-kinder-welche-kreuze-auf-dem-wahlzettel-erlaubt-sind-und-welche-nicht-a-971d788e-3444-49a9-9253-5cbf9dc3a32d\n",
      "----------------------------------------\n",
      "Die Nominierungen für den deutschen Kindersoftwarepreis TOMMI 2021\n",
      "https://www.spiegel.de/deinspiegel/die-nominierungen-fuer-den-deutschen-kindersoftwarepreis-tommi-2021-a-35cb5cf0-72db-48d5-8d15-9db8f92f98ed\n",
      "----------------------------------------\n",
      "Bild des Tages\n",
      "https://www.spiegel.de/fotostrecke/bilder-des-tages-fotos-aus-deutschland-und-der-welt-fotostrecke-122824.html\n"
     ]
    }
   ],
   "source": [
    "#print soup.get_text()hreflinks=[]\n",
    "AllTitles=soup.findAll('h2')\n",
    "alltitles=[]\n",
    "alltitleLinks=[]\n",
    "for l in AllTitles:\n",
    "    #print l\n",
    "    try:\n",
    "        title = l.find('a')['title']\n",
    "        link = l.find('a')['href']\n",
    "        print('-'*40)\n",
    "        print(title)\n",
    "        print(link)\n",
    "        alltitles.append(title)\n",
    "        alltitleLinks.append(link)\n",
    "    except:\n",
    "        pass"
   ]
  },
  {
   "cell_type": "markdown",
   "metadata": {
    "slideshow": {
     "slide_type": "slide"
    }
   },
   "source": [
    "## Get all images of the page\n",
    "\n",
    "Get url of all images, which are currently displayed on [www.zeit.de](http://www.zeit.de):"
   ]
  },
  {
   "cell_type": "code",
   "execution_count": 7,
   "metadata": {
    "ExecuteTime": {
     "end_time": "2017-10-20T12:50:12.456000Z",
     "start_time": "2017-10-20T12:50:12.440000Z"
    },
    "slideshow": {
     "slide_type": "fragment"
    }
   },
   "outputs": [
    {
     "name": "stdout",
     "output_type": "stream",
     "text": [
      "data:image/gif;base64,R0lGODlhAQABAAAAACH5BAEKAAEALAAAAAABAAEAAAICTAEAOw==\n",
      "https://cdn.prod.www.spiegel.de/images/e7bb7329-1b89-4766-a77c-91c5c0a7f3dd_w948_r2.194_fpx59_fpy57.jpg\n",
      "https://cdn.prod.www.spiegel.de/images/e7bb7329-1b89-4766-a77c-91c5c0a7f3dd_w920_r1.778_fpx59_fpy57.jpg\n",
      "https://cdn.prod.www.spiegel.de/images/f6e17c74-2518-4c21-9818-cbd14c18ad4e_w117_r1.33_fpx63.34_fpy55.01.jpg\n",
      "https://cdn.prod.www.spiegel.de/images/f6e17c74-2518-4c21-9818-cbd14c18ad4e_w488_r1.778_fpx63.34_fpy55.01.jpg\n",
      "https://cdn.prod.www.spiegel.de/images/8492ce8f-044c-445b-9507-56ead9103340_w872_r1.778_fpx43.34_fpy45.jpg\n",
      "https://cdn.prod.www.spiegel.de/images/db65ddd0-77c2-4f1a-875b-82449ba69fff_w180_r1_fpx50_fpy50.jpg\n",
      "https://cdn.prod.www.spiegel.de/images/db65ddd0-77c2-4f1a-875b-82449ba69fff_w180_r1_fpx50_fpy50.jpg\n",
      "https://cdn.prod.www.spiegel.de/images/43aee7dc-484f-43b6-bd59-583a383109a7_w117_r1.33_fpx63.67_fpy49.98.jpg\n",
      "https://cdn.prod.www.spiegel.de/images/43aee7dc-484f-43b6-bd59-583a383109a7_w117_r1.33_fpx63.67_fpy49.98.jpg\n"
     ]
    }
   ],
   "source": [
    "imglinks=[]\n",
    "AllImgs=soup.findAll('img')\n",
    "for l in AllImgs:\n",
    "    if l.has_attr('src'):\n",
    "       imglinks.append(l)\n",
    "\n",
    "for l in imglinks[:10]:\n",
    "    print(l['src'])"
   ]
  },
  {
   "cell_type": "markdown",
   "metadata": {
    "slideshow": {
     "slide_type": "slide"
    }
   },
   "source": [
    "## Get entire text of a news-article"
   ]
  },
  {
   "cell_type": "code",
   "execution_count": 8,
   "metadata": {
    "ExecuteTime": {
     "end_time": "2017-10-20T13:09:24.145000Z",
     "start_time": "2017-10-20T13:09:23.833000Z"
    },
    "slideshow": {
     "slide_type": "fragment"
    }
   },
   "outputs": [
    {
     "name": "stdout",
     "output_type": "stream",
     "text": [
      "Uma Thurman (2020): »Mein Herz war gleichwohl gebrochen«\n",
      "In einem Kommentar über das neue Abtreibungsgesetz in Texas hat Hollywoodstar Uma Thurman öffentlich gemacht, dass sie selbst vor vielen Jahren eine Schwangerschaft abgebrochen hat. »Die Abtreibung, die ich als Teenager vornahm, war die schwierigste Entscheidung meines Lebens, eine, die mir damals Schmerzen bereitet hat und mich sogar jetzt noch traurig macht«, schrieb die 51-Jährige in der »Washington Post«.\n",
      "»In meinen späten Teenager-Jahren wurde ich unbeabsichtigt von einem deutlich älteren Mann schwanger. Ich lebte in Europa aus einem Koffer, weit weg von meiner Familie und war kurz davor, einen Job zu beginnen«, schrieb Thurman. Gemeinsam mit ihrer Familie habe sie sich entschieden, die Schwangerschaft abzubrechen. »Mein Herz war gleichwohl gebrochen.« Über ihre Entscheidung sei sie aber bis heute froh. Ihre drei Kinder bekam sie erst später, als sie dazu bereit war und »mit Männern, die ich liebte und denen ich vertraute«.\n",
      "Ihr Erlebnis habe sie nun teilen wollen, um sich angesichts des neuen Gesetzes zu Schwangerschaftsabbrüchen in Texas mit betroffenen Frauen und Mädchen zu solidarisieren, die möglicherweise Scham über ihre Situation empfänden, so Thurman. Das Gesetz kritisierte sie scharf.\n",
      "Seit drei Wochen ist in Texas ein Gesetz in Kraft, das Schwangerschaftsabbrüche untersagt, sobald der Herzschlag des Fötus festgestellt worden ist. Das kann schon in der sechsten Schwangerschaftswoche der Fall sein. Viele Frauen wissen zu diesem Zeitpunkt noch nicht, dass sie schwanger sind. Ausnahmen sind nur in medizinischen Notfällen erlaubt, Vergewaltigung oder Inzest zählen nicht dazu (Mehr zu dem Thema lesen Sie hier).\n",
      "Das US-Justizministerium hatte ein Bundesgericht in Texas zuletzt gebeten, die Durchsetzung des neuen Abtreibungsgesetzes in dem Bundesstaat zu blockieren. Das Ministerium argumentiert in einem Dringlichkeitsantrag, dass Texas das Gesetz verabschiedet habe, »um Frauen daran zu hindern, ihre verfassungsmäßigen Rechte auszuüben«. Kein Staat dürfe einer Frau verbieten, »die endgültige Entscheidung über einen Schwangerschaftsabbruch vor der Lebensfähigkeit (des Fötus) zu treffen«, so das Ministerium.\n",
      "\n",
      "SPIEGEL+-Zugang wird gerade auf einem anderen Gerät genutzt\n",
      "\n",
      "\n",
      "SPIEGEL+ kann nur auf einem Gerät zur selben Zeit genutzt werden.\n",
      "\n",
      "\n",
      "Klicken Sie auf den Button, spielen wir den Hinweis auf dem anderen Gerät aus und Sie können SPIEGEL+ weiter nutzen.\n",
      "\n",
      "\n",
      "Uma Thurman (2020): »Mein Herz war gleichwohl gebrochen«\n",
      "Melden Sie sich an und diskutieren Sie mit\n"
     ]
    }
   ],
   "source": [
    "IDX=0\n",
    "suburl=alltitleLinks[IDX]\n",
    "try:\n",
    "    html=urlopen(suburl).read() #works if subdomains are referenced by absolute path\n",
    "except:\n",
    "    html=urlopen(url+suburl).read() #works if subdomains are referenced by relative path\n",
    "soup=BeautifulSoup(html,\"html.parser\")\n",
    "AllP=soup.findAll('p')\n",
    "for p in AllP:\n",
    "    print(p.get_text())"
   ]
  },
  {
   "cell_type": "markdown",
   "metadata": {
    "collapsed": true,
    "slideshow": {
     "slide_type": "skip"
    }
   },
   "source": [
    "## Questions and Remarks\n",
    "1. This notebook demonstrates how raw-text can be crawled from news-sites. But what is the drawback of this method?\n",
    "2. Execute the entire notebook also for `www.spiegel.de` and `www.sueddeutsche.de`.\n",
    "3. What do you observe? How to solve the problem?"
   ]
  },
  {
   "cell_type": "code",
   "execution_count": null,
   "metadata": {
    "collapsed": true
   },
   "outputs": [],
   "source": []
  }
 ],
 "metadata": {
  "celltoolbar": "Slideshow",
  "kernelspec": {
   "display_name": "Python 3",
   "language": "python",
   "name": "python3"
  },
  "language_info": {
   "codemirror_mode": {
    "name": "ipython",
    "version": 3
   },
   "file_extension": ".py",
   "mimetype": "text/x-python",
   "name": "python",
   "nbconvert_exporter": "python",
   "pygments_lexer": "ipython3",
   "version": "3.8.0"
  },
  "nav_menu": {},
  "toc": {
   "base_numbering": 1,
   "nav_menu": {},
   "number_sections": true,
   "sideBar": true,
   "skip_h1_title": false,
   "title_cell": "Table of Contents",
   "title_sidebar": "Contents",
   "toc_cell": false,
   "toc_position": {},
   "toc_section_display": "block",
   "toc_window_display": false
  },
  "varInspector": {
   "cols": {
    "lenName": 16,
    "lenType": 16,
    "lenVar": 40
   },
   "kernels_config": {
    "python": {
     "delete_cmd_postfix": "",
     "delete_cmd_prefix": "del ",
     "library": "var_list.py",
     "varRefreshCmd": "print(var_dic_list())"
    },
    "r": {
     "delete_cmd_postfix": ") ",
     "delete_cmd_prefix": "rm(",
     "library": "var_list.r",
     "varRefreshCmd": "cat(var_dic_list()) "
    }
   },
   "types_to_exclude": [
    "module",
    "function",
    "builtin_function_or_method",
    "instance",
    "_Feature"
   ],
   "window_display": false
  }
 },
 "nbformat": 4,
 "nbformat_minor": 1
}