{
 "cells": [
  {
   "cell_type": "markdown",
   "metadata": {
    "slideshow": {
     "slide_type": "slide"
    }
   },
   "source": [
    "# Access Contents of HTML Page\n",
    "\n",
    "- Author:      Johannes Maucher\n",
    "- Last update: 2018-10-21\n",
    "\n",
    "This notebook demonstrates how to parse a HTML document and access dedicated elements of the parse tree.\n",
    "[Beautiful Soup](http://www.crummy.com/software/BeautifulSoup/bs4/doc/#) is a python package for parsing HTML. Download and install version 4 by typing:\n",
    "\n",
    "> `pip install beautifulsoup4`\n",
    "\n",
    "into the command shell. Once it is installed it can be imported by"
   ]
  },
  {
   "cell_type": "code",
   "execution_count": 1,
   "metadata": {
    "ExecuteTime": {
     "end_time": "2017-10-20T12:50:00.898000Z",
     "start_time": "2017-10-20T12:50:00.893000Z"
    },
    "execution": {
     "iopub.execute_input": "2020-09-16T14:59:46.334691Z",
     "iopub.status.busy": "2020-09-16T14:59:46.334010Z",
     "iopub.status.idle": "2020-09-16T14:59:46.428592Z",
     "shell.execute_reply": "2020-09-16T14:59:46.429036Z"
    },
    "slideshow": {
     "slide_type": "fragment"
    }
   },
   "outputs": [],
   "source": [
    "from bs4 import BeautifulSoup"
   ]
  },
  {
   "cell_type": "markdown",
   "metadata": {
    "slideshow": {
     "slide_type": "slide"
    }
   },
   "source": [
    "For accessing arbitrary resources by URL the python modul [urllib](https://docs.python.org/2/library/urllib.html) must also be installed. Import the method _urlopen()_ from this module:  "
   ]
  },
  {
   "cell_type": "code",
   "execution_count": 2,
   "metadata": {
    "ExecuteTime": {
     "end_time": "2017-10-20T12:50:02.246000Z",
     "start_time": "2017-10-20T12:50:02.242000Z"
    },
    "execution": {
     "iopub.execute_input": "2020-09-16T14:59:46.432933Z",
     "iopub.status.busy": "2020-09-16T14:59:46.432273Z",
     "iopub.status.idle": "2020-09-16T14:59:46.434331Z",
     "shell.execute_reply": "2020-09-16T14:59:46.434783Z"
    },
    "slideshow": {
     "slide_type": "fragment"
    }
   },
   "outputs": [],
   "source": [
    "from urllib.request import urlopen"
   ]
  },
  {
   "cell_type": "markdown",
   "metadata": {
    "slideshow": {
     "slide_type": "fragment"
    }
   },
   "source": [
    "If these two modules are available the HTML parse tree of the specified URL can easily be generated as follows."
   ]
  },
  {
   "cell_type": "code",
   "execution_count": 3,
   "metadata": {
    "ExecuteTime": {
     "end_time": "2017-10-20T12:50:04.344000Z",
     "start_time": "2017-10-20T12:50:03.569000Z"
    },
    "execution": {
     "iopub.execute_input": "2020-09-16T14:59:46.439087Z",
     "iopub.status.busy": "2020-09-16T14:59:46.438486Z",
     "iopub.status.idle": "2020-09-16T14:59:47.525588Z",
     "shell.execute_reply": "2020-09-16T14:59:47.526029Z"
    },
    "slideshow": {
     "slide_type": "fragment"
    }
   },
   "outputs": [],
   "source": [
    "#url=\"http://www.zeit.de\"\n",
    "url=\"http://www.spiegel.de\"\n",
    "#url=\"http://www.sueddeutsche.de\"\n",
    "html=urlopen(url).read()\n",
    "soup=BeautifulSoup(html,\"html.parser\")"
   ]
  },
  {
   "cell_type": "markdown",
   "metadata": {
    "slideshow": {
     "slide_type": "slide"
    }
   },
   "source": [
    "Now e.g. the title of the URL can be accessed by:"
   ]
  },
  {
   "cell_type": "code",
   "execution_count": 4,
   "metadata": {
    "ExecuteTime": {
     "end_time": "2017-10-20T12:50:06.092000Z",
     "start_time": "2017-10-20T12:50:06.086000Z"
    },
    "execution": {
     "iopub.execute_input": "2020-09-16T14:59:47.530297Z",
     "iopub.status.busy": "2020-09-16T14:59:47.529613Z",
     "iopub.status.idle": "2020-09-16T14:59:47.532194Z",
     "shell.execute_reply": "2020-09-16T14:59:47.532645Z"
    },
    "slideshow": {
     "slide_type": "fragment"
    }
   },
   "outputs": [
    {
     "name": "stdout",
     "output_type": "stream",
     "text": [
      "Title of page:   DER SPIEGEL | Online-Nachrichten\n"
     ]
    }
   ],
   "source": [
    "titleTag = soup.html.head.title\n",
    "print(\"Title of page:  \",titleTag.string)"
   ]
  },
  {
   "cell_type": "markdown",
   "metadata": {
    "slideshow": {
     "slide_type": "slide"
    }
   },
   "source": [
    "## Get all links in the page\n",
    "All links in the page can be retrieven by the following code (only the first 20 links are printed)"
   ]
  },
  {
   "cell_type": "code",
   "execution_count": 5,
   "metadata": {
    "ExecuteTime": {
     "end_time": "2017-10-20T12:50:07.973000Z",
     "start_time": "2017-10-20T12:50:07.951000Z"
    },
    "execution": {
     "iopub.execute_input": "2020-09-16T14:59:47.545291Z",
     "iopub.status.busy": "2020-09-16T14:59:47.544608Z",
     "iopub.status.idle": "2020-09-16T14:59:47.547596Z",
     "shell.execute_reply": "2020-09-16T14:59:47.547146Z"
    },
    "slideshow": {
     "slide_type": "fragment"
    }
   },
   "outputs": [
    {
     "name": "stdout",
     "output_type": "stream",
     "text": [
      "Number of links in this page:  542\n",
      "#Inhalt\n",
      "https://www.spiegel.de/nutzungsbedingungen\n",
      "https://www.spiegel.de/\n",
      "https://abo.spiegel.de/?b=SPOHNAVABO&requestAccessToken=true&sara_icid=disp_upd_9h6L5hu8K1AAnttzYATx3hvk7taDkP&targetUrl=https%3A%2F%2Fwww.spiegel.de%2Ffuermich%2F\n",
      "https://gruppenkonto.spiegel.de/authenticate?requestAccessToken=true&targetUrl=https%3A%2F%2Fwww.spiegel.de%2Ffuermich%2F\n",
      "https://www.spiegel.de/fuermich/\n",
      "https://www.spiegel.de/\n",
      "https://www.spiegel.de/schlagzeilen/\n",
      "https://www.spiegel.de/plus/\n",
      "https://www.spiegel.de/audio/\n",
      "https://www.spiegel.de/fuermich/\n",
      "https://www.spiegel.de/schlagzeilen/\n",
      "https://www.spiegel.de/plus/\n",
      "https://www.spiegel.de/thema/coronavirus/\n",
      "https://www.spiegel.de/politik/deutschland/\n",
      "https://www.spiegel.de/politik/ausland/\n",
      "https://www.spiegel.de/panorama/\n",
      "https://www.spiegel.de/sport/\n",
      "https://www.spiegel.de/wirtschaft/\n",
      "https://www.spiegel.de/netzwelt/\n"
     ]
    }
   ],
   "source": [
    "hreflinks=[]\n",
    "Alllinks=soup.findAll('a') #The <a> tag defines a hyperlink, which is used to link from one page to another.\n",
    "for l in Alllinks:\n",
    "    if l.has_attr('href'):\n",
    "        hreflinks.append(l)\n",
    "print(\"Number of links in this page: \",len(hreflinks))\n",
    "for l in hreflinks[:20]:\n",
    "    print(l['href'])"
   ]
  },
  {
   "cell_type": "markdown",
   "metadata": {
    "slideshow": {
     "slide_type": "slide"
    }
   },
   "source": [
    "## Get all news titles\n",
    "Get title of all news, which are currently listed on [www.zeit.de](http://www.zeit.de):"
   ]
  },
  {
   "cell_type": "code",
   "execution_count": 6,
   "metadata": {
    "ExecuteTime": {
     "end_time": "2017-10-20T12:50:10.208000Z",
     "start_time": "2017-10-20T12:50:10.124000Z"
    },
    "execution": {
     "iopub.execute_input": "2020-09-16T14:59:47.561023Z",
     "iopub.status.busy": "2020-09-16T14:59:47.560229Z",
     "iopub.status.idle": "2020-09-16T14:59:47.571319Z",
     "shell.execute_reply": "2020-09-16T14:59:47.571839Z"
    },
    "slideshow": {
     "slide_type": "fragment"
    }
   },
   "outputs": [
    {
     "name": "stdout",
     "output_type": "stream",
     "text": [
      "----------------------------------------\n",
      "737 Max: US-Ausschuss prangert Boeing wegen Schlamperei und Vertuschung an\n",
      "https://www.spiegel.de/wissenschaft/technik/boeing-737-max-us-ausschuss-prangert-nach-flugzeugabsturz-schlamperei-und-vertuschung-an-a-fe385633-7ddb-453a-8791-1e840b1c72ca\n",
      "----------------------------------------\n",
      "Bundestagsvizepräsidentin: Claudia Roth beklagt Missachtung von Frauen im Parlament\n",
      "https://www.spiegel.de/politik/deutschland/claudia-roth-beklagt-missachtung-von-frauen-im-bundestag-a-57c45b5d-fa2d-4417-9700-bbaafdf94c8f\n",
      "----------------------------------------\n",
      "Bayern-Formel und Dortmund-Faktor: Die große Finanzdatenanalyse zum Bundesligastart\n",
      "https://www.spiegel.de/sport/fussball/bundesligafinanzen-warum-bayern-muenchen-auch-borussia-dortmund-enteilt-ist-a-20556261-07bb-490b-add7-0c49c77cf449\n",
      "----------------------------------------\n",
      "Urlaub in Deutschland: Der ländliche Rassismus und ich\n",
      "https://www.spiegel.de/reise/deutschland/rassismus-auf-dem-land-wenn-staedter-davor-warnen-ist-das-vor-allem-bequem-a-02b552ab-07ec-4287-a116-fcbc2540b6f4\n",
      "----------------------------------------\n",
      "OECD-Ausblick zu Coronakrise: Wirtschaftseinbruch weniger dramatisch als befürchtet\n",
      "https://www.spiegel.de/wirtschaft/wirtschaftseinbruch-weniger-dramatisch-als-befuerchtet-a-0379b243-bb72-4cc4-b934-3221b9e06bff\n",
      "----------------------------------------\n",
      "Seehofer-Ministerium spricht von \"Schande\" für Polizei in NRW\n",
      "https://www.spiegel.de/politik/deutschland/rechtsextreme-chatgruppe-bundesinnenministerium-spricht-von-schande-fuer-die-polizei-in-nrw-a-10657774-82b6-4be3-a603-b397cf9e382f\n",
      "----------------------------------------\n",
      "Mutmaßlich rechtsextreme Chatgruppe der Polizei NRW aufgeflogen\n",
      "https://www.spiegel.de/panorama/justiz/polizei-essen-offenbar-rechtsextreme-chatgruppe-mit-mehr-als-einem-dutzende-beamten-aufgeflogen-a-73355096-51c5-4d44-952b-1173349ca117\n",
      "----------------------------------------\n",
      "So könnte die Ökorepublik Deutschland aussehen\n",
      "https://www.spiegel.de/wirtschaft/klimaziele-so-koennte-die-oekorepublik-deutschland-aussehen-a-3efa81d4-54fb-4900-b57f-e74195c3b8b1\n",
      "----------------------------------------\n",
      "Von der Leyens Versprechen, von der Leyens Schwächen\n",
      "https://www.spiegel.de/politik/deutschland/ursula-von-der-leyen-zur-lage-der-union-im-europaparlament-versprechen-und-schwaechen-a-8d1feeb8-2274-40e0-af78-7a9a72f2bc66\n",
      "----------------------------------------\n",
      "Eine lösbare Aufgabe\n",
      "https://www.spiegel.de/auto/eine-loesbare-aufgabe-a-dc9c5cd4-3c99-4894-be02-86184ea66db9\n",
      "----------------------------------------\n",
      "Kramp-Karrenbauer räumt Streit über weibliche Dienstgrade ab\n",
      "https://www.spiegel.de/politik/deutschland/bundeswehr-annegret-kramp-karrenbauer-raeumt-streit-um-weibliche-dienstgrade-ab-a-8982a033-f511-428b-a4b9-8353374472e0\n",
      "----------------------------------------\n",
      "Claudia Roth beklagt Missachtung von Frauen im Parlament\n",
      "https://www.spiegel.de/politik/deutschland/claudia-roth-beklagt-missachtung-von-frauen-im-bundestag-a-57c45b5d-fa2d-4417-9700-bbaafdf94c8f\n",
      "----------------------------------------\n",
      "\"Ich gehe von einer Steigerung der Todesfälle in sechs bis acht Wochen aus\"\n",
      "https://www.spiegel.de/wissenschaft/medizin/karl-lauterbach-zu-zweiter-corona-welle-ich-gehe-von-einer-steigerung-der-todesfaelle-in-sechs-bis-acht-wochen-aus-a-2e29ca4b-5a1f-4c47-9016-d7a609e00c54\n",
      "----------------------------------------\n",
      "Corona-Ausbruch in Potsdamer Klinik - Beamte stellen Beweismaterial sicher\n",
      "https://www.spiegel.de/wissenschaft/coronavirus-news-am-mittwoch-versandbranche-boomt-in-coronakrise-weiter-a-61bf9687-afef-4503-b0f0-b3abd9bfc05b\n",
      "----------------------------------------\n",
      "Wirtschaftseinbruch weniger dramatisch als befürchtet\n",
      "https://www.spiegel.de/wirtschaft/wirtschaftseinbruch-weniger-dramatisch-als-befuerchtet-a-0379b243-bb72-4cc4-b934-3221b9e06bff\n",
      "----------------------------------------\n",
      "Aller Ehren wert\n",
      "https://www.spiegel.de/politik/deutschland/einigung-auf-aufnahme-von-1500-fluechtlingen-aller-ehren-wert-a-3bc94045-80fb-4389-ab97-5dc73fe0ac68\n",
      "----------------------------------------\n",
      "Behördenchef Unger soll nach Warntag-Pannen offenbar abgelöst werden\n",
      "https://www.spiegel.de/panorama/warntag-chef-des-bundesamtes-fuer-bevoelkerungsschutz-christoph-unger-soll-offenbar-abgeloest-werden-a-da5b770f-687f-4f73-9f67-09bf1670605e\n",
      "----------------------------------------\n",
      "Wo kommen eigentlich die ganzen Putin-Fans her?\n",
      "https://www.spiegel.de/netzwelt/web/wladimir-putins-fans-wo-kommen-sie-eigentlich-her-kolumne-a-2d515ca8-9a9e-4aa7-bd06-5650fab6795d\n",
      "----------------------------------------\n",
      "Wie Trump die USA in den Wahnsinn treibt\n",
      "https://www.spiegel.de/politik/ausland/donald-trump-treibt-die-usa-in-den-wahnsinn-a-66355f6c-b318-4b71-aca7-57f7e131de79\n",
      "----------------------------------------\n",
      "Trump lobt Österreichs \"Wald-Städte\"\n",
      "https://www.spiegel.de/politik/ausland/donald-trump-lobt-die-wald-staedte-in-oesterreich-a-cf845f7f-1ff8-4cd4-8fc3-db720265628d\n",
      "----------------------------------------\n",
      "Krankenschwester schildert katastrophale Zustände in US-Migrantenlager\n",
      "https://www.spiegel.de/politik/ausland/usa-krankenschwester-schildert-katastrophale-zustaende-in-migrantenlager-a-78815756-a158-4725-a8c7-a67e1e7e0f61\n",
      "----------------------------------------\n",
      "US-Ausschuss prangert Boeing wegen Schlamperei und Vertuschung an\n",
      "https://www.spiegel.de/wissenschaft/technik/boeing-737-max-us-ausschuss-prangert-nach-flugzeugabsturz-schlamperei-und-vertuschung-an-a-fe385633-7ddb-453a-8791-1e840b1c72ca\n",
      "----------------------------------------\n",
      "Die große Finanzdatenanalyse zum Bundesligastart\n",
      "https://www.spiegel.de/sport/fussball/bundesligafinanzen-warum-bayern-muenchen-auch-borussia-dortmund-enteilt-ist-a-20556261-07bb-490b-add7-0c49c77cf449\n",
      "----------------------------------------\n",
      "Roglic und Pogacar duellieren sich um Gelb - wer gewinnt die Königsetappe?\n",
      "https://sportdaten.spiegel.de/radsport/tour-de-france/ma9003161/liveticker/\n",
      "----------------------------------------\n",
      "\"Das ist ein fettes Ding\"\n",
      "https://www.spiegel.de/sport/lennard-kaemna-gelingt-coup-bei-der-tour-de-france-a-5ef432df-8810-47e5-9ae0-89da4e306ff6\n",
      "----------------------------------------\n",
      "\"Ich habe direkt meine Verlobung infrage gestellt\"\n",
      "https://www.spiegel.de/familie/erwachsene-scheidungskinder-wie-kinder-mit-spaeten-scheidungen-umgehen-a-727ad2d8-c418-4bfd-a865-ab2042d8fe7d\n",
      "----------------------------------------\n",
      "Hurrikan \"Sally\" trifft an US-Golfküste auf Land\n",
      "https://www.spiegel.de/panorama/alabama-hurrikan-sally-trifft-an-us-golfkueste-auf-land-a-ff4d8e7f-a479-44ef-bc5b-2629a3ace3d1\n",
      "----------------------------------------\n",
      "Cholesterinsenker können krank machen\n",
      "https://www.spiegel.de/gesundheit/diagnose/kardiologe-warnt-vor-statinen-cholesterinsenker-koennen-krank-machen-a-00000000-0002-0001-0000-000172993241\n",
      "----------------------------------------\n",
      "Der ländliche Rassismus und ich\n",
      "https://www.spiegel.de/reise/deutschland/rassismus-auf-dem-land-wenn-staedter-davor-warnen-ist-das-vor-allem-bequem-a-02b552ab-07ec-4287-a116-fcbc2540b6f4\n",
      "----------------------------------------\n",
      "Beschneidung: Vorhaut ab oder Vorhaut dran?\n",
      "https://www.bento.de/politik/beschneidung-vorhaut-ab-oder-vorhaut-dran-a-70a68567-b333-463b-986c-d3de1b729194#refsponi\n",
      "----------------------------------------\n",
      "Erben versilbern Artur Brauners Schmuckkästchen\n",
      "https://www.spiegel.de/kultur/kino/colosseum-in-berlin-die-erben-versilbern-artur-brauners-schmuckkaestchen-a-00000000-0002-0001-0000-000172993204\n",
      "----------------------------------------\n",
      "\"Es ist Wahnsinn, dass wir nicht längst weiter sind\"\n",
      "https://www.spiegel.de/wissenschaft/bill-gates-im-spiegel-gespraech-ich-habe-das-coronavirus-nicht-erschaffen-a-b37f0211-15a2-4fa8-8452-e808b2b46adf\n",
      "----------------------------------------\n",
      "Wer überlebt das Ende des Verbrenners?\n",
      "https://www.spiegel.de/wirtschaft/unternehmen/continental-zf-friedrichshafen-schaeffler-wer-ueberlebt-den-verbrennungsmotor-a-00000000-0002-0001-0000-000172993215\n",
      "----------------------------------------\n",
      "Von wegen wilde Barbaren - so zivilisiert waren die Germanen wirklich\n",
      "https://www.spiegel.de/wissenschaft/mensch/james-simon-galerie-berlin-die-legende-von-den-wuesten-germanen-a-00000000-0002-0001-0000-000172993246\n",
      "----------------------------------------\n",
      "Wie die Einser-Schülerin Naomi zum Postergirl der Rechten wurde\n",
      "https://www.spiegel.de/politik/deutschland/die-anti-greta-a-00000000-0002-0001-0000-000172993208\n",
      "----------------------------------------\n",
      "Kommentare und Kolumnen\n",
      "https://www.spiegel.de/thema/meinung/\n",
      "----------------------------------------\n",
      "Pragmatiker a.D.\n",
      "https://www.spiegel.de/wirtschaft/soziales/olaf-scholz-spd-pragmatiker-a-d-kolumne-a-e4a1d75f-2172-46bd-ba76-3be53e7f18a5\n",
      "----------------------------------------\n",
      "Eine Attrappe von Empathie\n",
      "https://www.spiegel.de/kultur/politiker-und-fluechtlingsleid-eine-attrappe-von-empathie-kolumne-a-b30ffca4-ed82-4abf-a29c-9258ba4e9072\n",
      "----------------------------------------\n",
      "Mut zum Alleingang\n",
      "https://www.spiegel.de/politik/ausland/deutschlands-fluechtlingspolitik-mut-zum-alleingang-kommentar-a-f4f711d1-2aba-47b1-bdc1-20a1104eb9cb\n",
      "----------------------------------------\n",
      "Das Klima gewinnt die Wahl\n",
      "https://www.spiegel.de/wissenschaft/mensch/nrw-kommunalwahl-das-klima-gewinnt-a-9710a957-ca26-4412-b68a-089ac93bc70f\n",
      "----------------------------------------\n",
      "Politik\n",
      "https://www.spiegel.de/politik/deutschland/\n",
      "----------------------------------------\n",
      "Coronakrise: Fahrt im vollen Aufzug bleibt für Spahn und Bouffier folgenlos\n",
      "https://www.spiegel.de/politik/deutschland/jens-spahn-und-volker-bouffier-fahrt-im-aufzug-bleibt-ohne-folgen-a-165f4d59-b953-4278-8caa-7b69c7493979\n",
      "----------------------------------------\n",
      "Waffenproduktion in Thüringen: Linken-Landeschefin Hennig-Wellsow nennt Bundeswehrauftrag \"vergiftetes Geschenk\"\n",
      "https://www.spiegel.de/politik/deutschland/haenel-auftrag-der-bundeswehr-susanne-hennig-wellsow-nennt-waffendeal-vergiftetes-geschenk-a-36e2d0fb-17b4-43e1-b6f6-6557b1fbf546\n",
      "----------------------------------------\n",
      "Fragestunde im Bundestag: Seehofer über Aufnahme von Flüchtlingen\n",
      "https://www.spiegel.de/politik/deutschland/horst-seehofer-innenminister-im-bundestag-ueber-aufnahme-von-fluechtlingen-a-f1644f0b-4bfd-4ca8-ac05-6e09e5bf3e89\n",
      "----------------------------------------\n",
      "Ausland\n",
      "https://www.spiegel.de/politik/ausland/\n",
      "----------------------------------------\n",
      "Hamas-Stellungen getroffen: Israel reagiert mit Luftschlägen auf Raketenbeschuss aus Gaza\n",
      "https://www.spiegel.de/politik/ausland/israel-reagiert-mit-luftschlaegen-auf-raketenbeschuss-aus-gaza-a-e6346d7f-8da7-4fdd-9601-3f0ed72180b1\n",
      "----------------------------------------\n",
      "Kamala Harris in Kalifornien: Die Alternative\n",
      "https://www.spiegel.de/politik/ausland/kamala-harris-in-kalifornien-dringender-appell-in-brandruinen-a-c0398d16-7dc8-4920-b81a-f305dc2bf768\n",
      "----------------------------------------\n",
      "Vorschlag der Kommissionschefin von der Leyen: EU soll mehr Mittel und Zuständigkeiten in der Gesundheitspolitik erhalten\n",
      "https://www.spiegel.de/politik/ausland/eu-in-der-corona-krise-ursula-von-der-leyen-fordert-europaeische-gesundheitsunion-a-e8e73295-48e0-40a2-98b7-c5f0861e0453\n",
      "----------------------------------------\n",
      "Panorama\n",
      "https://www.spiegel.de/panorama/\n",
      "----------------------------------------\n",
      "Reese Witherspoon über Schwangerschaft mit 22: \"Ich hatte Angst\"\n",
      "https://www.spiegel.de/panorama/leute/reese-witherspoon-ueber-schwangerschaft-mit-22-ich-hatte-angst-a-037b919e-bfd0-4f0b-acb7-351c94d1b06d\n",
      "----------------------------------------\n",
      "Privatfeier in Hamburg: 18-Jähriger nach mutmaßlichem Drogentod von Jugendlicher festgenommen\n",
      "https://www.spiegel.de/panorama/justiz/hamburg-18-jaehriger-nach-mutmasslichem-drogentod-von-jugendlicher-festgenommen-a-ea0e6803-4f49-498b-9d51-c33936170b06\n",
      "----------------------------------------\n",
      "\"An Explosive Combination\": How Conspiracy Theories Threaten Our Society\n",
      "https://www.spiegel.de/panorama/how-conspiracy-theories-threaten-our-society-a-8185ac54-8181-4bb0-88e5-a9818a456719\n",
      "----------------------------------------\n",
      "Sport\n",
      "https://www.spiegel.de/sport/\n",
      "----------------------------------------\n",
      "Urteil nach Korruptionsprozess: Haftstrafe für Ex-Leichtathletikboss Diack\n",
      "https://www.spiegel.de/sport/lamine-diack-ex-leichtathletikboss-zu-vier-jahren-haft-verurteilt-a-12ebe594-38d0-4c6e-9c40-b1d066950d01\n",
      "----------------------------------------\n",
      "Neuer Trainer für DBB-Frauen: WNBA-Coach Hopkins soll Basketballerinnen zur EM führen\n",
      "https://www.spiegel.de/sport/basketball/walt-hopkins-wnba-coach-uebernimmt-basketball-nationalteam-der-damen-a-d9902183-7d29-41fa-8733-ee9fd53eb4e7\n",
      "----------------------------------------\n",
      "NBA-Profi Theis von den Boston Celtics: Der beste Drecksarbeiter\n",
      "https://www.spiegel.de/sport/basketball/nba-profi-daniel-theis-von-den-boston-celtics-der-beste-drecksarbeiter-a-003e13c5-ff97-4600-9514-ad5785cd3a19\n",
      "----------------------------------------\n",
      "Wirtschaft\n",
      "https://www.spiegel.de/wirtschaft/\n",
      "----------------------------------------\n",
      "Konzernumbau: VW plant Einstieg beim Autovermieter Sixt\n",
      "https://www.spiegel.de/wirtschaft/vw-plant-einstieg-beim-autovermieter-sixt-a-29377b50-4778-449c-a2c0-9bcc45b97a91\n",
      "----------------------------------------\n",
      "Schärferes EU-Klimaziel: Deutsche Industrie warnt vor zusätzlicher Belastung\n",
      "https://www.spiegel.de/wirtschaft/unternehmen/eu-klimaziel-deutsche-industrie-warnt-vor-zusaetzlicher-belastung-a-73762986-4b29-4cc6-be97-accdc95e6b6d\n",
      "----------------------------------------\n",
      "Nord Stream 2: Deutschland will USA angeblich mit Milliardeninvestition besänftigen\n",
      "https://www.spiegel.de/wirtschaft/unternehmen/nord-stream-2-deutschland-bietet-offenbar-milliardeninvestment-fuer-verzicht-auf-us-sanktionen-a-c9a6ec0c-acbc-4ec9-ad81-282c6107edf1\n",
      "----------------------------------------\n",
      "Beteiligung am Autovermieter: Warum Volkswagen einen Einstieg bei Sixt plant\n",
      "https://www.manager-magazin.de/unternehmen/autoindustrie/volkswagen-ag-warum-der-autokonzern-einen-einstieg-bei-sixt-plant-a-00000000-0002-0001-0000-000173050939\n",
      "----------------------------------------\n",
      "Dementi beruhigt Anleger nicht: Grenke-Aktie bricht weiter ein - 900 Millionen Euro verbrannt\n",
      "https://www.manager-magazin.de/unternehmen/grenke-ag-mdax-konzern-weist-vorwuerfe-von-wirecard-erzfeind-zurueck-a-09f511e1-8e34-4f15-87a6-22594044bde7\n",
      "----------------------------------------\n",
      "Nikola, Rivian und Canoo: Was taugen die vermeintlichen Tesla-Jäger wirklich?\n",
      "https://www.manager-magazin.de/unternehmen/autoindustrie/nikola-die-boersenaufsicht-und-rivian-was-taugt-die-tesla-konkurrenz-a-0d2d2c9d-31c8-4ffa-a2b6-66d779825b6a\n",
      "----------------------------------------\n",
      "Börsenkurse manager magazin\n",
      "https://boersen.manager-magazin.de\n",
      "----------------------------------------\n",
      "Wissenschaft\n",
      "https://www.spiegel.de/wissenschaft/\n",
      "----------------------------------------\n",
      "Mindestens 55 Prozent weniger Emissionen: Von der Leyen verschärft EU-Klimaziel\n",
      "https://www.spiegel.de/wissenschaft/natur/ursula-von-der-leyen-verschaerft-eu-klimaschutzziel-mindestens-55-prozent-bis-2030-a-24fa9e96-f90d-414f-933e-2fbcf827f5cd\n",
      "----------------------------------------\n",
      "Uno-Biodiversitätsbericht: \"Naturschutz ist kein Luxus, sondern eine Existenzfrage\"\n",
      "https://www.spiegel.de/wissenschaft/natur/artenvielfalt-neuer-biodiversitaetsbericht-der-uno-es-geht-um-unsere-existenz-a-4a1eee5c-d9bd-42dc-88d6-d28131fd447e\n",
      "----------------------------------------\n",
      "Drosten-Podcast: \"Man muss jetzt bei den Antigen-Tests weiterkommen\"\n",
      "https://www.spiegel.de/wissenschaft/medizin/drosten-podcast-man-muss-jetzt-bei-den-antigen-tests-weiterkommen-a-07a82980-d368-456c-80a2-b44b8d8086f3\n",
      "----------------------------------------\n",
      "Netzwelt\n",
      "https://www.spiegel.de/netzwelt/\n",
      "----------------------------------------\n",
      "iOS14, iPadOS14 und watchOS7: Das bringen Apples Updates\n",
      "https://www.spiegel.de/netzwelt/gadgets/ios14-ipados14-und-watchos7-das-bringen-apples-updates-a-175a8236-810c-4b72-9a2d-5864db7895b2\n",
      "----------------------------------------\n",
      "Neue Apple-Watches und iPads: Drei Erkenntnisse aus der Apple-Show\n",
      "https://www.spiegel.de/netzwelt/gadgets/apple-drei-erkenntnisse-aus-der-show-a-0071e8ab-a277-4d21-9aad-4142c1107d4d\n",
      "----------------------------------------\n",
      "188 Millionen Follower: Kim Kardashian will Instagram boykottieren - aus Protest\n",
      "https://www.spiegel.de/netzwelt/kim-kardashian-will-instagram-boykottierten-aus-frust-a-27f39f68-6fff-41d7-b3e7-a4f69ee5e5bd\n",
      "----------------------------------------\n",
      "Kultur\n",
      "https://www.spiegel.de/kultur/\n",
      "----------------------------------------\n",
      "Paranoia-Thriller um Jean Seberg: Die heilige Johanna der Black-Power-Bewegung\n",
      "https://www.spiegel.de/kultur/kino/jean-seberg-die-heilige-johanna-der-black-power-bewegung-a-f2bb7b86-c7e0-4e90-acad-0b74fbcf0ef8\n",
      "----------------------------------------\n",
      "Kloster Tholey: Gerhard Richter erklärt Kirchenfenster zu seinem finalen großen Werk\n",
      "https://www.spiegel.de/kultur/gerhard-richter-erklaert-kirchenfenster-zu-seinem-finalen-grossen-werk-a-12b14273-d673-44ff-b2e9-0eef135dee16\n",
      "----------------------------------------\n",
      "Von \"Material Girl\" bis \"Madame X\": Madonna verfilmt ihr eigenes Leben\n",
      "https://www.spiegel.de/kultur/kino/madonna-verfilmt-ihr-leben-und-fuehrt-auch-regie-a-335f1c51-f235-40a7-9910-f4ac676f1bcc\n",
      "----------------------------------------\n",
      "Asexualität kann revolutionieren, wie wir über Liebe und Sex reden\n",
      "https://www.bento.de/gefuehle/asexualitaet-kann-revolutionieren-wie-wir-ueber-liebe-und-sex-reden-a-8c85a51d-e1ea-4001-8d76-9d4713df636d\n",
      "----------------------------------------\n",
      "Lea wurde als Mädchen von einem Mann aus einem Chatroom verführt\n",
      "https://www.bento.de/gefuehle/cybergrooming-lea-wurde-als-maedchen-von-einem-mann-aus-einem-chatroom-verfuehrt-a-549b5493-b930-4688-a918-8e04dbdf865b\n",
      "----------------------------------------\n",
      "Günstiger als AirPods, aber trotzdem gut: Welcher True-Wireless-Kopfhörer für dich der richtige ist\n",
      "https://www.bento.de/gadgets/wireless-kopfhoerer-guenstige-alternativen-zu-apple-airpods-sennheiser-und-co-in-guter-qualitaet-a-b88cd1f0-1cd3-4f0c-9482-6fdeb7844e1a\n",
      "----------------------------------------\n",
      "Tests\n",
      "https://www.spiegel.de/tests/\n",
      "----------------------------------------\n",
      "Rasensprenger im Test: Regenmacher\n",
      "https://www.spiegel.de/tests/garten/rasensprenger-im-test-regenmacher-a-4b6c967d-e341-4bf9-9ad1-7445acfc1a95\n",
      "----------------------------------------\n",
      "Bestseller Link\n",
      "https://www.spiegel.de/kultur/bestseller-buecher-belletristik-sachbuch-auf-spiegel-liste-a-458623.html\n",
      "----------------------------------------\n",
      "Geschichte\n",
      "https://www.spiegel.de/geschichte/\n",
      "----------------------------------------\n",
      "Bildband über die Nachkriegszeit: Boogie-Woogie auf dem Trümmerfeld\n",
      "https://www.spiegel.de/geschichte/deutschland-nach-dem-zweiten-weltkrieg-bildband-wolfszeit-a-d467fc48-2d4b-42a5-bdbd-bd663950e5e0\n",
      "----------------------------------------\n",
      "Auf LSD in den Tod: Aldous Huxleys letzter Trip\n",
      "https://www.spiegel.de/geschichte/schriftsteller-aldous-huxley-sterbehilfe-mit-lsd-a-d61e7327-d9c2-498c-b582-5b0b812f0414\n",
      "----------------------------------------\n",
      "Versteckt im Dschungel: Japans letzte Krieger\n",
      "https://www.spiegel.de/geschichte/teruo-nakamura-und-co-japans-letzte-weltkriegssoldaten-versteckt-im-dschungel-a-99a09f95-5c89-482c-a3f1-73f6c7cb631f\n",
      "----------------------------------------\n",
      "Job & Karriere\n",
      "https://www.spiegel.de/karriere/\n",
      "----------------------------------------\n",
      "Kinderbetreuung und Arbeit: Was berufstätige Eltern im Corona-Herbst wissen müssen\n",
      "https://www.spiegel.de/karriere/arbeitsrecht-und-kinder-was-arbeitende-eltern-wissen-muessen-a-081de944-6302-4e09-a6be-86fbc5a1c2b9\n",
      "----------------------------------------\n",
      "Vom Gifthersteller zum Insektenretter: \"Ich will mein Unternehmen schöpferisch zerstören\"\n",
      "https://www.spiegel.de/karriere/insektizid-hersteller-wird-insektenretter-ich-will-mein-unternehmen-schoepferisch-zerstoeren-a-3d1f3d90-09d0-453b-a0f3-cd8efcd0cc20\n",
      "----------------------------------------\n",
      "Tipps von der Karriereberaterin: Hilfe, ich bin als Chefin so ungeduldig!\n",
      "https://www.spiegel.de/karriere/wie-wird-man-eine-gute-chefin-tipps-von-der-karriereberaterin-a-7486c055-a966-4e34-a79d-0187de72600a\n",
      "----------------------------------------\n",
      "Mobilität\n",
      "https://www.spiegel.de/auto/\n",
      "----------------------------------------\n",
      "Wegen steigenden Radverkehrs: Pariser Pop-up-Radwege sollen bleiben\n",
      "https://www.spiegel.de/auto/paris-pop-up-radwege-sollen-bleiben-a-3872b58f-56b8-41e6-881f-f57f9b79196b\n",
      "----------------------------------------\n",
      "Tödlicher Unfall in Arizona: Back-up-Fahrer eines autonomen Uber-Wagens angeklagt\n",
      "https://www.spiegel.de/auto/uber-backup-fahrer-eines-autonomen-autos-nach-toedlichem-unfall-angeklagt-a-dbae1c5b-ce3a-4e34-bb82-917f7bf7905b\n",
      "----------------------------------------\n",
      "Chevrolet Camaro \"Europo Hurst\" unterm Hammer: Musclecar im Maßanzug\n",
      "https://www.spiegel.de/auto/chevrolet-camaro-europo-hurst-american-muscle-in-italienischem-massanzug-a-3318c72e-a070-4dc3-80fe-7a060359b3cd\n",
      "----------------------------------------\n",
      "Alle Podcasts\n",
      "https://www.spiegel.de/thema/podcasts_vom_spiegel/\n",
      "----------------------------------------\n",
      "Leben\n",
      "https://www.spiegel.de/thema/leben/\n",
      "----------------------------------------\n",
      "Eigentlich wäre ich jetzt in New York\n",
      "https://www.spiegel.de/reise/wegen-corona-heimaturlaub-wider-willen-weisses-rauschen-a-00000000-0002-0001-0000-000172993209\n",
      "----------------------------------------\n",
      "Blick in den Abgrund - und in die eigene Vergangenheit\n",
      "https://www.spiegel.de/reise/roadtrip-durch-die-usa-im-vergleich-zum-grand-canyon-bin-ich-jung-midlife-kolumne-a-ef9f6a2a-cdcc-4c4e-92c4-ac63fa340bfd\n",
      "----------------------------------------\n",
      "Gut gemeinte Tipps wie \"Lass dir Zeit\" können Sie sich sparen\n",
      "https://www.spiegel.de/gesundheit/sprachtherapie-was-gegen-stottern-hilft-und-was-eltern-tun-koennen-a-6cb8d106-fd84-43ee-a721-d6f1550d65c4\n",
      "----------------------------------------\n",
      "Mein Experiment mit der DNA-Diät\n",
      "https://www.spiegel.de/gesundheit/ernaehrung/personalisierte-ernaehrung-mein-experiment-mit-der-dna-diaet-a-00000000-0002-0001-0000-000172248241\n",
      "----------------------------------------\n",
      "Salzburg-Sylt im Schlaf\n",
      "https://www.spiegel.de/reise/nachtzuege-und-naechtliche-sprinter-salzburg-sylt-im-schlaf-a-029a8bfb-def6-45a2-a364-ab5339a6a1da\n",
      "----------------------------------------\n",
      "Manche verzichten auf Urlaub, andere auf ihre Familie\n",
      "https://www.spiegel.de/familie/coronavirus-wie-die-pandemie-familien-trennt-und-wie-ich-damit-umgehe-a-8a2669e6-4078-47e9-a9cd-8f1700dae4af\n",
      "----------------------------------------\n",
      "Tipps fürs Campen\n",
      "https://www.spiegel.de/thema/test_und_produkte/\n",
      "----------------------------------------\n",
      "Mit dieser Ausrüstung wird Camping komfortabel\n",
      "https://www.spiegel.de/tests/camping/camping-ausruestung-im-test-mit-diesem-zubehoer-wird-es-komfortabel-a-c2b15a80-9a65-4715-b4d0-84dc6bbc59a7\n",
      "----------------------------------------\n",
      "Outdoor-Gadgets - So rocken Sie den Camping-Urlaub\n",
      "https://www.spiegel.de/tests/camping/soundbox-stirnlampe-und-navigationsgeraet-fuer-camper-und-camping-a-18270b88-787b-4857-b60e-864f4861a151\n",
      "----------------------------------------\n",
      "Camp dich glücklich\n",
      "https://www.spiegel.de/reise/fernweh/camping-gadgets-thermobecher-werkzeugkoffer-campingdusche-a-1299874.html\n",
      "----------------------------------------\n",
      "Dein SPIEGEL\n",
      "https://www.spiegel.de/deinspiegel/\n",
      "----------------------------------------\n",
      "Was dich in \"Dein SPIEGEL\" Nr. 10/2020 erwartet\n",
      "https://www.spiegel.de/deinspiegel/was-dich-in-dein-spiegel-nr-10-2020-erwartet-a-244f5796-825f-4441-b24c-111da592a2d5\n",
      "----------------------------------------\n",
      "Wie haben sich Freundschaften durch Corona verändert?\n",
      "https://www.spiegel.de/deinspiegel/trotz-corona-freunde-bleiben-kinder-erzaehlen-a-00000000-0002-0001-0000-000172431236\n",
      "----------------------------------------\n",
      "Bild des Tages\n",
      "https://www.spiegel.de/fotostrecke/bilder-des-tages-fotos-aus-deutschland-und-der-welt-fotostrecke-122824.html\n"
     ]
    }
   ],
   "source": [
    "#print soup.get_text()hreflinks=[]\n",
    "AllTitles=soup.findAll('h2')\n",
    "alltitles=[]\n",
    "alltitleLinks=[]\n",
    "for l in AllTitles:\n",
    "    #print l\n",
    "    try:\n",
    "        title = l.find('a')['title']\n",
    "        link = l.find('a')['href']\n",
    "        print('-'*40)\n",
    "        print(title)\n",
    "        print(link)\n",
    "        alltitles.append(title)\n",
    "        alltitleLinks.append(link)\n",
    "    except:\n",
    "        pass"
   ]
  },
  {
   "cell_type": "markdown",
   "metadata": {
    "slideshow": {
     "slide_type": "slide"
    }
   },
   "source": [
    "## Get all images of the page\n",
    "\n",
    "Get url of all images, which are currently displayed on [www.zeit.de](http://www.zeit.de):"
   ]
  },
  {
   "cell_type": "code",
   "execution_count": 7,
   "metadata": {
    "ExecuteTime": {
     "end_time": "2017-10-20T12:50:12.456000Z",
     "start_time": "2017-10-20T12:50:12.440000Z"
    },
    "execution": {
     "iopub.execute_input": "2020-09-16T14:59:47.586568Z",
     "iopub.status.busy": "2020-09-16T14:59:47.585124Z",
     "iopub.status.idle": "2020-09-16T14:59:47.589181Z",
     "shell.execute_reply": "2020-09-16T14:59:47.589763Z"
    },
    "slideshow": {
     "slide_type": "fragment"
    }
   },
   "outputs": [
    {
     "name": "stdout",
     "output_type": "stream",
     "text": [
      "data:image/gif;base64,R0lGODlhAQABAAAAACH5BAEKAAEALAAAAAABAAEAAAICTAEAOw==\n",
      "https://cdn.prod.www.spiegel.de/images/40f7372e-9df5-4733-acd5-45caf3ba1ba1_w872_r1.77_fpx53_fpy48.jpg\n",
      "https://cdn.prod.www.spiegel.de/images/40f7372e-9df5-4733-acd5-45caf3ba1ba1_w872_r1.77_fpx53_fpy48.jpg\n",
      "https://cdn.prod.www.spiegel.de/images/83729449-0001-0004-0000-000001493941_w872_r1.77_fpx61.85_fpy54.99.jpg\n",
      "https://cdn.prod.www.spiegel.de/images/2d8384d0-2fb0-40f7-a330-bac4b8e536bf_w117_r1.33_fpx53.34_fpy49.98.jpg\n",
      "https://cdn.prod.www.spiegel.de/images/2d8384d0-2fb0-40f7-a330-bac4b8e536bf_w117_r1.33_fpx53.34_fpy49.98.jpg\n",
      "https://cdn.prod.www.spiegel.de/images/2d8384d0-2fb0-40f7-a330-bac4b8e536bf_w488_r1.77_fpx53.34_fpy49.98.jpg\n",
      "https://cdn.prod.www.spiegel.de/images/2d8384d0-2fb0-40f7-a330-bac4b8e536bf_w488_r1.77_fpx53.34_fpy49.98.jpg\n",
      "https://cdn.prod.www.spiegel.de/images/3344dfd2-d842-4925-80be-b3949cf9b80f_w117_r1.33_fpx54_fpy27.jpg\n",
      "https://cdn.prod.www.spiegel.de/images/3344dfd2-d842-4925-80be-b3949cf9b80f_w117_r1.33_fpx54_fpy27.jpg\n"
     ]
    }
   ],
   "source": [
    "imglinks=[]\n",
    "AllImgs=soup.findAll('img')\n",
    "for l in AllImgs:\n",
    "    if l.has_attr('src'):\n",
    "       imglinks.append(l)\n",
    "\n",
    "for l in imglinks[:10]:\n",
    "    print(l['src'])"
   ]
  },
  {
   "cell_type": "markdown",
   "metadata": {
    "slideshow": {
     "slide_type": "slide"
    }
   },
   "source": [
    "## Get entire text of a news-article"
   ]
  },
  {
   "cell_type": "code",
   "execution_count": 8,
   "metadata": {
    "ExecuteTime": {
     "end_time": "2017-10-20T13:09:24.145000Z",
     "start_time": "2017-10-20T13:09:23.833000Z"
    },
    "execution": {
     "iopub.execute_input": "2020-09-16T14:59:47.604302Z",
     "iopub.status.busy": "2020-09-16T14:59:47.603396Z",
     "iopub.status.idle": "2020-09-16T14:59:48.106678Z",
     "shell.execute_reply": "2020-09-16T14:59:48.107150Z"
    },
    "slideshow": {
     "slide_type": "fragment"
    }
   },
   "outputs": [
    {
     "name": "stdout",
     "output_type": "stream",
     "text": [
      "\n",
      "SPIEGEL+-Zugang wird gerade auf einem anderen Gerät genutzt\n",
      "\n",
      "SPIEGEL+ kann nur auf einem Gerät zur selben Zeit genutzt werden.\n",
      "\n",
      "Klicken Sie auf den Button, spielen wir den Hinweis auf dem anderen Gerät aus und Sie können SPIEGEL+ weiter nutzen.\n",
      "\n",
      "\n",
      "Flugzeuge vom Typ 737 Max sollen bald wieder starten dürfen\n",
      "Technische Fehler und Aufsichtsversagen haben zu den verheerenden Abstürzen von Boeings Krisenflieger 737 Max geführt. Das ist das Fazit des am Mittwoch in Washington veröffentlichten Abschlussberichts eines Untersuchungsausschusses des US-Repräsentantenhauses. Gegen Boeing und die US-Luftfahrtbehörde FAA werden darin heftige Vorwürfe wegen Schlampereien, Vertuschungen und mangelnder Kontrolle erhoben.\n",
      "Laut dem Bericht spielten beim Zustandekommen der Crashs in Indonesien und Äthiopien, die 346 Menschen das Leben kosteten, vor allem vier Punkte eine entscheidende Rolle.\n",
      "Der Wunsch, mit der Konkurrenz mitzuhalten, vor allem mit dem Airbus A320 neo, brachte Boeing laut dem Bericht dazu, Produktionszielen und Kostensenkungen eine größere Bedeutung einzuräumen als der Sicherheit.\n",
      "Boeing verließ sich auf die Steuersoftware MCAS, die die Nasen der Maschinen gefährlich absenkte.\n",
      "Der Konzern hielt entscheidende Informationen vor der US-Flugsicherheitsbehörde FAA zurück.\n",
      "Zeitgleich überließ die FAA Aufsichtsaufgaben Boeing-Mitarbeitern.\n",
      "\"Die Max-Abstürze waren nicht das Ergebnis eines einzelnen Versagens, technischer Fehler oder schlecht gehandhabter Ereignisse\", heißt es in dem insgesamt 245 Seiten langen Dokument. \"Sie waren der schreckliche Höhepunkt einer Reihe falscher technischer Annahmen von Boeing-Ingenieuren, mangelnder Transparenz des Managements und einer grob unzureichenden Aufsicht durch die FAA.\" Boeing wird in dem Bericht erneut eine \"Kultur des Verheimlichens\" vorgeworfen.\n",
      "Die Anschuldigungen sind nicht neu und waren bereits im März im vorläufigen Abschlussbericht erhoben worden, sie wurden nun aber mit weiteren Indizien untermauert und noch drastischer formuliert.\n",
      "Verantwortlich für die Abrechnung mit Boeing und der FAA sind vor allem Abgeordnete der demokratischen Partei, die die Mehrheit im Repräsentantenhaus hat. Einige republikanische Politiker bezeichneten den Bericht gegenüber US-Medien als parteiisch und überzogen.\n",
      "Schon bald könnte das Flugverbot für den Boeing-Bestseller 737 Max fallen, der seit nunmehr anderthalb Jahren zwangsweise am Boden bleiben musste. Dafür notwendige Testflüge der FAA und der europäischen Flugaufsicht EASA sind bereits durchgeführt worden. Die 737 Max könnte in den USA schon im November wieder fliegen, in Europa und weiten Teilen der Welt dürfte das Flugverbot etwas später zurückgenommen werden.\n",
      "Gerade in dieser Zeit kommt ein erneuter Bericht über die Versäumnisse für Boeing ungelegen. Zudem hat der Konzern Probleme mit dem Langstreckenflieger 787. (Mehr dazu lesen Sie hier.)\n",
      "\"Wir haben viele harte Lehren aus den Unfällen und aus den Fehlern gezogen, die wir gemacht haben\", teilte Boeing als Reaktion auf den Bericht mit. Auch die FAA räumte Fehler ein: Sie konzentriere sich darauf, durch Verbesserungen in der Organisation, von Prozessen und der Firmenkultur die allgemeine Luftsicherheit zu verbessern\", hieß es in einer Stellungnahme.\n",
      "Laut dem Bericht hatten Mitarbeiter Boeing von Problemen mit dem Softwaresystem MCAS berichtet, die Warnungen seien jedoch ignoriert worden. MCAS sollte selbsttätig einen Strömungsabriss verhindern, tatsächlich zwang es aber die Unglücksmaschinen fälschlicherweise in einen Sturzflug.\n",
      "Boeing habe \"entscheidende Informationen vor der FAA, ihren Kunden und den Piloten selbst\" verheimlicht, heißt es in dem Bericht. Die Piloten hätten nicht einmal gewusst, dass es das MCAS überhaupt gab. Das System konnte durch Daten eines einzigen Sensors aktiviert werden. Bevor die 737 MAX wieder in die Luft gehen darf, muss das System so umprogrammiert werden, dass es auf Daten von zwei Sensoren reagiert.\n",
      "Flugzeuge vom Typ 737 Max sollen bald wieder starten dürfen\n",
      "Melden Sie sich an und diskutieren Sie mit\n"
     ]
    }
   ],
   "source": [
    "IDX=0\n",
    "suburl=alltitleLinks[IDX]\n",
    "try:\n",
    "    html=urlopen(suburl).read() #works if subdomains are referenced by absolute path\n",
    "except:\n",
    "    html=urlopen(url+suburl).read() #works if subdomains are referenced by relative path\n",
    "soup=BeautifulSoup(html,\"html.parser\")\n",
    "AllP=soup.findAll('p')\n",
    "for p in AllP:\n",
    "    print(p.get_text())"
   ]
  },
  {
   "cell_type": "markdown",
   "metadata": {
    "collapsed": true,
    "slideshow": {
     "slide_type": "skip"
    }
   },
   "source": [
    "## Questions and Remarks\n",
    "1. This notebook demonstrates how raw-text can be crawled from news-sites. But what is the drawback of this method?\n",
    "2. Execute the entire notebook also for `www.spiegel.de` and `www.sueddeutsche.de`.\n",
    "3. What do you observe? How to solve the problem?"
   ]
  },
  {
   "cell_type": "code",
   "execution_count": null,
   "metadata": {
    "collapsed": true
   },
   "outputs": [],
   "source": []
  }
 ],
 "metadata": {
  "celltoolbar": "Slideshow",
  "kernelspec": {
   "display_name": "Python 3",
   "language": "python",
   "name": "python3"
  },
  "language_info": {
   "codemirror_mode": {
    "name": "ipython",
    "version": 3
   },
   "file_extension": ".py",
   "mimetype": "text/x-python",
   "name": "python",
   "nbconvert_exporter": "python",
   "pygments_lexer": "ipython3",
   "version": "3.7.7"
  },
  "nav_menu": {},
  "toc": {
   "base_numbering": 1,
   "nav_menu": {},
   "number_sections": true,
   "sideBar": true,
   "skip_h1_title": false,
   "title_cell": "Table of Contents",
   "title_sidebar": "Contents",
   "toc_cell": false,
   "toc_position": {},
   "toc_section_display": "block",
   "toc_window_display": false
  },
  "varInspector": {
   "cols": {
    "lenName": 16,
    "lenType": 16,
    "lenVar": 40
   },
   "kernels_config": {
    "python": {
     "delete_cmd_postfix": "",
     "delete_cmd_prefix": "del ",
     "library": "var_list.py",
     "varRefreshCmd": "print(var_dic_list())"
    },
    "r": {
     "delete_cmd_postfix": ") ",
     "delete_cmd_prefix": "rm(",
     "library": "var_list.r",
     "varRefreshCmd": "cat(var_dic_list()) "
    }
   },
   "types_to_exclude": [
    "module",
    "function",
    "builtin_function_or_method",
    "instance",
    "_Feature"
   ],
   "window_display": false
  }
 },
 "nbformat": 4,
 "nbformat_minor": 1
}