{
 "cells": [
  {
   "cell_type": "markdown",
   "metadata": {
    "slideshow": {
     "slide_type": "slide"
    }
   },
   "source": [
    "# Access Contents of HTML Page\n",
    "\n",
    "- Author:      Johannes Maucher\n",
    "- Last update: 2018-10-21\n",
    "\n",
    "This notebook demonstrates how to parse a HTML document and access dedicated elements of the parse tree.\n",
    "[Beautiful Soup](http://www.crummy.com/software/BeautifulSoup/bs4/doc/#) is a python package for parsing HTML. Download and install version 4 by typing:\n",
    "\n",
    "> `pip install beautifulsoup4`\n",
    "\n",
    "into the command shell. Once it is installed it can be imported by"
   ]
  },
  {
   "cell_type": "code",
   "execution_count": 1,
   "metadata": {
    "ExecuteTime": {
     "end_time": "2017-10-20T12:50:00.898000Z",
     "start_time": "2017-10-20T12:50:00.893000Z"
    },
    "slideshow": {
     "slide_type": "fragment"
    }
   },
   "outputs": [],
   "source": [
    "from bs4 import BeautifulSoup"
   ]
  },
  {
   "cell_type": "markdown",
   "metadata": {
    "slideshow": {
     "slide_type": "slide"
    }
   },
   "source": [
    "For accessing arbitrary resources by URL the python modul [urllib](https://docs.python.org/2/library/urllib.html) must also be installed. Import the method _urlopen()_ from this module:  "
   ]
  },
  {
   "cell_type": "code",
   "execution_count": 2,
   "metadata": {
    "ExecuteTime": {
     "end_time": "2017-10-20T12:50:02.246000Z",
     "start_time": "2017-10-20T12:50:02.242000Z"
    },
    "slideshow": {
     "slide_type": "fragment"
    }
   },
   "outputs": [],
   "source": [
    "from urllib.request import urlopen"
   ]
  },
  {
   "cell_type": "markdown",
   "metadata": {
    "slideshow": {
     "slide_type": "fragment"
    }
   },
   "source": [
    "If these two modules are available the HTML parse tree of the specified URL can easily be generated as follows."
   ]
  },
  {
   "cell_type": "code",
   "execution_count": 3,
   "metadata": {
    "ExecuteTime": {
     "end_time": "2017-10-20T12:50:04.344000Z",
     "start_time": "2017-10-20T12:50:03.569000Z"
    },
    "slideshow": {
     "slide_type": "fragment"
    }
   },
   "outputs": [],
   "source": [
    "#url=\"http://www.zeit.de\"\n",
    "url=\"http://www.spiegel.de\"\n",
    "#url=\"http://www.sueddeutsche.de\"\n",
    "html=urlopen(url).read()\n",
    "soup=BeautifulSoup(html,\"html.parser\")"
   ]
  },
  {
   "cell_type": "markdown",
   "metadata": {
    "slideshow": {
     "slide_type": "slide"
    }
   },
   "source": [
    "Now e.g. the title of the URL can be accessed by:"
   ]
  },
  {
   "cell_type": "code",
   "execution_count": 4,
   "metadata": {
    "ExecuteTime": {
     "end_time": "2017-10-20T12:50:06.092000Z",
     "start_time": "2017-10-20T12:50:06.086000Z"
    },
    "slideshow": {
     "slide_type": "fragment"
    }
   },
   "outputs": [
    {
     "name": "stdout",
     "output_type": "stream",
     "text": [
      "Title of page:   DER SPIEGEL | Online-Nachrichten\n"
     ]
    }
   ],
   "source": [
    "titleTag = soup.html.head.title\n",
    "print(\"Title of page:  \",titleTag.string)"
   ]
  },
  {
   "cell_type": "markdown",
   "metadata": {
    "slideshow": {
     "slide_type": "slide"
    }
   },
   "source": [
    "## Get all links in the page\n",
    "All links in the page can be retrieven by the following code (only the first 20 links are printed)"
   ]
  },
  {
   "cell_type": "code",
   "execution_count": 5,
   "metadata": {
    "ExecuteTime": {
     "end_time": "2017-10-20T12:50:07.973000Z",
     "start_time": "2017-10-20T12:50:07.951000Z"
    },
    "slideshow": {
     "slide_type": "fragment"
    }
   },
   "outputs": [
    {
     "name": "stdout",
     "output_type": "stream",
     "text": [
      "Number of links in this page:  588\n",
      "#Inhalt\n",
      "https://www.spiegel.de/\n",
      "https://abo.spiegel.de/?b=SPOHNAVABO&requestAccessToken=true&sara_icid=disp_upd_9h6L5hu8K1AAnttzYATx3hvk7taDkP&targetUrl=https%3A%2F%2Fwww.spiegel.de%2Ffuermich%2F\n",
      "https://gruppenkonto.spiegel.de/authenticate?requestAccessToken=true&targetUrl=https%3A%2F%2Fwww.spiegel.de%2Ffuermich%2F\n",
      "https://www.spiegel.de/fuermich/\n",
      "https://www.spiegel.de/\n",
      "https://www.spiegel.de/schlagzeilen/\n",
      "https://www.spiegel.de/plus/\n",
      "https://www.spiegel.de/audio/\n",
      "https://www.spiegel.de/fuermich/\n",
      "https://www.spiegel.de/schlagzeilen/\n",
      "https://www.spiegel.de/plus/\n",
      "https://www.spiegel.de/thema/coronavirus/\n",
      "https://www.spiegel.de/thema/us_praesidentschaftswahl_2020/\n",
      "https://www.spiegel.de/thema/klimawandel/\n",
      "https://www.spiegel.de/politik/deutschland/\n",
      "https://www.spiegel.de/politik/ausland/\n",
      "https://www.spiegel.de/panorama/\n",
      "https://www.spiegel.de/sport/\n",
      "https://www.spiegel.de/wirtschaft/\n"
     ]
    }
   ],
   "source": [
    "hreflinks=[]\n",
    "Alllinks=soup.findAll('a') #The <a> tag defines a hyperlink, which is used to link from one page to another.\n",
    "for l in Alllinks:\n",
    "    if l.has_attr('href'):\n",
    "        hreflinks.append(l)\n",
    "print(\"Number of links in this page: \",len(hreflinks))\n",
    "for l in hreflinks[:20]:\n",
    "    print(l['href'])"
   ]
  },
  {
   "cell_type": "markdown",
   "metadata": {
    "slideshow": {
     "slide_type": "slide"
    }
   },
   "source": [
    "## Get all news titles\n",
    "Get title of all news, which are currently listed on [www.zeit.de](http://www.zeit.de):"
   ]
  },
  {
   "cell_type": "code",
   "execution_count": 6,
   "metadata": {
    "ExecuteTime": {
     "end_time": "2017-10-20T12:50:10.208000Z",
     "start_time": "2017-10-20T12:50:10.124000Z"
    },
    "slideshow": {
     "slide_type": "fragment"
    }
   },
   "outputs": [
    {
     "name": "stdout",
     "output_type": "stream",
     "text": [
      "----------------------------------------\n",
      "Designierter US-Präsident: \"Für Joe Biden geht die Arbeit jetzt erst richtig los\"\n",
      "https://www.spiegel.de/politik/ausland/designierter-us-praesident-joe-biden-fuer-joe-biden-geht-die-arbeit-jetzt-erst-richtig-los-a-bbde6f6e-ec63-427b-9695-d51b7c567c0c\n",
      "----------------------------------------\n",
      "Angeblich aus Bremen importiert: China sieht deutsche Schweinshaxe als Grund für neuen Corona-Fall\n",
      "https://www.spiegel.de/wirtschaft/unternehmen/schweinshaxe-unter-corona-verdacht-china-sieht-deutsches-fleisch-als-grund-fuer-neue-infektion-a-6b8f320a-faeb-41c5-b3ec-44ac97dee0a8\n",
      "----------------------------------------\n",
      "Politik in der Coronakrise: Wie der Bundestag für mehr Mitsprache kämpft\n",
      "https://www.spiegel.de/politik/deutschland/politik-in-der-coronakrise-wie-der-bundestag-fuer-mehr-mitsprache-kaempft-a-b28a57f7-7f32-4f4a-b4e3-91cae4ec880f\n",
      "----------------------------------------\n",
      "Französischer Linkspolitiker: Mélenchon will Macron herausfordern\n",
      "https://www.spiegel.de/politik/ausland/frankreich-jean-luc-melenchon-will-emmanuel-macron-herausfordern-a-aa17a429-a0a2-4d80-afa1-caa6ba3f50da\n",
      "----------------------------------------\n",
      "Tropensturm \"Eta\" erreicht Florida: US-Hurrikanzentrum warnt vor lebensgefährlichen Überflutungen\n",
      "https://www.spiegel.de/panorama/gesellschaft/eta-gefaehrlicher-tropensturm-erreicht-florida-a-f23eb130-a1de-41cb-83e8-9022ec5e00cd\n",
      "----------------------------------------\n",
      "US-Präsidentschaftswahl 2020\n",
      "https://www.spiegel.de/thema/us_praesidentschaftswahl_2020/\n",
      "----------------------------------------\n",
      "Erste Behörde verzögert offenbar Machtübergabe an Biden\n",
      "https://www.spiegel.de/politik/ausland/us-wahl-2020-im-live-ticker-weisses-haus-baut-neuen-zaun-und-laedt-party-gaeste-aus-a-14169116-713b-483d-b35e-4c561dfd30aa\n",
      "----------------------------------------\n",
      "Joe Bidens erste große Schlacht\n",
      "https://www.spiegel.de/politik/ausland/joe-bidens-erste-grosse-schlacht-gewaehlter-us-praesident-gegen-coronavirus-a-83f72d92-0c42-4ee4-aeb8-46fcdca6da04\n",
      "----------------------------------------\n",
      "Falsches Vorbild Amerika\n",
      "https://www.spiegel.de/politik/deutschland/us-wahl-und-deutsches-parteiensystem-falsches-vorbild-amerika-a-3fae93da-17f2-4934-8c6c-071eb99e4c47\n",
      "----------------------------------------\n",
      "\"Verlierer sind systemrelevant\"\n",
      "https://www.spiegel.de/kultur/tv/us-praesidentschaftswahl-2020-bei-anne-will-verlierer-sind-systemrelevant-a-1ea46635-2d24-4786-b4ca-c18706e0b355\n",
      "----------------------------------------\n",
      "Der Trumpismus ist ein Mythos\n",
      "https://www.spiegel.de/politik/ausland/us-wahl-der-trumpismus-ist-ein-mythos-a-6b6eb900-a7c0-4e0f-b4dc-0cde00153d4f\n",
      "----------------------------------------\n",
      "\"Trump ist eine orangefarbene Abrissbirne\"\n",
      "https://www.spiegel.de/wirtschaft/anthony-scaramucci-im-interview-trump-ist-eine-orangefarbene-abrissbirne-a-10faf646-88ae-4469-900d-291e202963ac\n",
      "----------------------------------------\n",
      "Trumps Tage des Trotzes\n",
      "https://www.spiegel.de/politik/deutschland/news-us-praesidentschaftswahl-donald-trump-corona-krise-robert-blum-a-f988d853-d819-40b4-99bd-03cddf502cbf\n",
      "----------------------------------------\n",
      "Mélenchon will Macron herausfordern\n",
      "https://www.spiegel.de/politik/ausland/frankreich-jean-luc-melenchon-will-emmanuel-macron-herausfordern-a-aa17a429-a0a2-4d80-afa1-caa6ba3f50da\n",
      "----------------------------------------\n",
      "Orbán droht laut Bericht mit Veto gegen EU-Haushalt\n",
      "https://www.spiegel.de/politik/ausland/viktor-orban-droht-laut-bericht-mit-ungarns-veto-gegen-eu-haushalt-a-5dd6744d-cb08-4591-a052-80c8b3aec218\n",
      "----------------------------------------\n",
      "Elf Tote bei mutmaßlichem IS-Anschlag in Bagdad\n",
      "https://www.spiegel.de/politik/ausland/irak-elf-tote-bei-mutmasslichem-is-anschlag-in-bagdad-a-75a48008-cb1b-4045-a300-079cb2a55efd\n",
      "----------------------------------------\n",
      "Corona und die Folgen\n",
      "https://www.spiegel.de/thema/coronavirus/\n",
      "----------------------------------------\n",
      "Wie der Bundestag für mehr Mitsprache kämpft\n",
      "https://www.spiegel.de/politik/deutschland/politik-in-der-coronakrise-wie-der-bundestag-fuer-mehr-mitsprache-kaempft-a-b28a57f7-7f32-4f4a-b4e3-91cae4ec880f\n",
      "----------------------------------------\n",
      "\"Bis 40 Prozent der Bevölkerung sind Risikogruppe\"\n",
      "https://www.spiegel.de/wissenschaft/medizin/jens-spahn-sieht-bis-40-prozent-der-bevoelkerung-als-risikogruppe-fuer-corona-a-e60b80f4-19a2-47d3-b7de-1d37cac2dab8\n",
      "----------------------------------------\n",
      "Familienunternehmer beanspruchen nur selten Staatshilfe\n",
      "https://www.spiegel.de/wirtschaft/unternehmen/familienunternehmer-beanspruchen-nur-selten-staatshilfe-a-2703bbdc-fa44-472d-8624-f8f47299c40a\n",
      "----------------------------------------\n",
      "China sieht deutsche Schweinshaxe als Grund für neuen Corona-Fall\n",
      "https://www.spiegel.de/wirtschaft/unternehmen/schweinshaxe-unter-corona-verdacht-china-sieht-deutsches-fleisch-als-grund-fuer-neue-infektion-a-6b8f320a-faeb-41c5-b3ec-44ac97dee0a8\n",
      "----------------------------------------\n",
      "Darf meine Uni mich trotz Corona zu Präsenzveranstaltungen zwingen?\n",
      "https://www.spiegel.de/start/coronavirus-darf-meine-uni-mich-trotz-corona-zu-praesenzveranstaltungen-zwingen-a-df89faeb-e349-4e65-b577-f247916180ee\n",
      "----------------------------------------\n",
      "\"Bitte rufen Sie uns nicht an\"\n",
      "https://www.spiegel.de/politik/deutschland/corona-tests-in-deutschland-werden-knapp-bitte-rufen-sie-uns-nicht-an-a-00000000-0002-0001-0000-000173898762\n",
      "----------------------------------------\n",
      "Raus aus dem Shutdown der Gefühle\n",
      "https://www.spiegel.de/psychologie/emotionen-in-der-corona-krise-raus-aus-dem-shutdown-der-gefuehle-a-eff066d3-b9ee-4d85-a8e9-a79de2506fae\n",
      "----------------------------------------\n",
      "\"Ich sagte: Jeder, der lügt, wird erschossen\"\n",
      "https://www.spiegel.de/geschichte/nuernberger-prozesse-chefanklaeger-benjamin-ferencz-spricht-ueber-seine-nazi-jagd-a-00000000-0002-0001-0000-000173898768\n",
      "----------------------------------------\n",
      "\"Viel konsequenter, viel härter und frühzeitiger eingreifen\"\n",
      "https://www.spiegel.de/panorama/gesellschaft/leipzig-querdenken-demo-loest-hitzige-debatte-aus-a-8ba0ea9d-86af-4c07-b171-55ba13739e0f\n",
      "----------------------------------------\n",
      "Noch kein Sieger nach dem ersten Wahlgang, CDU-Kandidat Nopper liegt vorn\n",
      "https://www.spiegel.de/politik/deutschland/stuttgart-oberbuergermeister-wahl-cdu-kandidat-frank-nopper-vorn-aber-zweiter-wahlgang-noetig-a-6947cf06-41ea-4bbf-95b2-1e24f716eb20\n",
      "----------------------------------------\n",
      "\"Wir brauchen 2000 neue Ladepunkte – pro Woche\"\n",
      "https://www.spiegel.de/wirtschaft/e-auto-strategie-in-deutschland-wir-brauchen-2000-neue-ladepunkte-pro-woche-a-00000000-0002-0001-0000-000173898781\n",
      "----------------------------------------\n",
      "Virgin-\"Hyperloop\" meistert erste Testfahrt mit Menschen an Bord\n",
      "https://www.spiegel.de/wirtschaft/unternehmen/virgin-hyperloop-meistert-erste-testfahrt-mit-menschen-an-bord-a-7a92ea0c-59ad-43da-8f9c-c743e1f2106d\n",
      "----------------------------------------\n",
      "US-Hurrikanzentrum warnt vor lebensgefährlichen Überflutungen\n",
      "https://www.spiegel.de/panorama/gesellschaft/eta-gefaehrlicher-tropensturm-erreicht-florida-a-f23eb130-a1de-41cb-83e8-9022ec5e00cd\n",
      "----------------------------------------\n",
      "Kimmich am Meniskus operiert – Ausfall bis Jahresende\n",
      "https://www.spiegel.de/sport/fussball/fc-bayern-joshua-kimmich-erfolgreich-am-meniskus-operiert-ausfall-bis-jahresende-a-c40704e8-a570-46aa-869b-e999f88e6a1c\n",
      "----------------------------------------\n",
      "Der Mutmacher\n",
      "https://www.spiegel.de/sport/primoz-roglic-gewinnt-vuelta-a-espana-der-mutmacher-a-470cd177-497f-4dff-9607-9a7f9276b2f6\n",
      "----------------------------------------\n",
      "Brady kassiert gegen Saints höchste Niederlage seiner Karriere\n",
      "https://www.spiegel.de/sport/nfl-tom-brady-kassiert-gegen-new-orleans-saints-hoechste-niederlage-seiner-karriere-a-573abb03-5bca-45dd-a603-cf5315ddb05e\n",
      "----------------------------------------\n",
      "Wie gefiel Ihnen der Tränendrücker-\"Tatort\"?\n",
      "https://www.spiegel.de/kultur/tv/tatort-vote-wie-gefiel-ihnen-limbus-a-2c1eb9a9-28d3-42ad-9cf6-02677c7fbab0\n",
      "----------------------------------------\n",
      "Mit fünf Segeln gegen den Klimawandel\n",
      "https://www.spiegel.de/panorama/oceanbird-mit-fuenf-segeln-gegen-den-klimawandel-a-aeced439-07fe-4c22-a8ec-a986785b7eeb\n",
      "----------------------------------------\n",
      "Make America Great Again\n",
      "https://www.spiegel.de/politik/ausland/joe-biden-wird-neuer-us-praesident-make-america-great-again-a-d24770fd-0900-4a7b-ba05-e7a1d8e4272d\n",
      "----------------------------------------\n",
      "\"Aus Virussicht macht Sars-CoV-2 seine Sache sehr gut\"\n",
      "https://www.spiegel.de/wissenschaft/medizin/coronavirus-aus-virussicht-macht-sars-cov-2-seine-sache-sehr-gut-interview-a-59c45566-521f-41b0-8d9e-cef9255ebc74\n",
      "----------------------------------------\n",
      "Die Lufthansa schmiert trotz Milliardenhilfen ab\n",
      "https://www.spiegel.de/wirtschaft/unternehmen/lufthansa-pleiteszenario-trotz-milliardenhilfen-die-airline-schmiert-ab-a-00000000-0002-0001-0000-000173898780\n",
      "----------------------------------------\n",
      "\"Die Penisse waren allgegenwärtig\"\n",
      "https://www.spiegel.de/panorama/zdf-manager-soll-mitarbeiterinnen-heimlich-gefilmt-haben-spy-cams-und-eine-penistorte-a-00000000-0002-0001-0000-000173898784\n",
      "----------------------------------------\n",
      "Videos\n",
      "https://www.spiegel.de/video/\n",
      "----------------------------------------\n",
      "Klimakrise\n",
      "https://www.spiegel.de/thema/klimawandel/\n",
      "----------------------------------------\n",
      "Das bedeutet Bidens Wahlsieg für den Klimaschutz\n",
      "https://www.spiegel.de/wissenschaft/mensch/joe-biden-was-der-sieg-fuer-dem-klimaschutz-bringen-koennte-und-was-nicht-a-0c0717c2-4fe6-440f-8a32-b6a57996876d\n",
      "----------------------------------------\n",
      "Was die himmlischen Reaktoren leisten können\n",
      "https://www.spiegel.de/wissenschaft/technik/solarstrom-sonnenfeuer-hoehenwindraeder-was-die-himmlischen-reaktoren-leisten-koennen-a-6b554b1d-d836-4951-8e88-c9790b0a9ae7\n",
      "----------------------------------------\n",
      "Eine junge Managerin hat neue Ideen gegen den Welthunger\n",
      "https://www.spiegel.de/politik/welternaehrungsprogramm-neue-ideen-im-kampf-gegen-hunger-a-00000000-0002-0001-0000-000173622008\n",
      "----------------------------------------\n",
      "Wieso unsere Ernährung zum Problem wird\n",
      "https://www.spiegel.de/wissenschaft/mensch/klima-studie-warum-unsere-ernaehrung-ein-problem-ist-a-8954fdda-2fa6-428b-9fd7-690654fed1bc\n",
      "----------------------------------------\n",
      "Kommentare und Kolumnen\n",
      "https://www.spiegel.de/thema/meinung/\n",
      "----------------------------------------\n",
      "Wie heilt man ein zerrissenes Land?\n",
      "https://www.spiegel.de/wissenschaft/mensch/sie-von-joe-biden-wie-heilt-man-ein-zerrissenes-land-a-e2a1f273-8292-4af6-8ed2-743a133077c0\n",
      "----------------------------------------\n",
      "Endlich eine Frau!\n",
      "https://www.spiegel.de/politik/ausland/wahlen-in-den-usa-warum-kamala-harris-als-vizepraesidentin-wichtig-fuer-frauen-weltweit-ist-a-0527d212-31d9-4752-96f4-bb48f393e500\n",
      "----------------------------------------\n",
      "Das bedeutet Bidens Wahlsieg für die Wirtschaft\n",
      "https://www.spiegel.de/wirtschaft/us-wahl-das-bedeutet-joe-bidens-wahlsieg-fuer-die-wirtschaft-a-40bd70ea-efd0-4d01-a004-b5e1003ba10b\n",
      "----------------------------------------\n",
      "Trump ist an sich selbst gescheitert\n",
      "https://www.spiegel.de/politik/ausland/donald-trump-ist-an-sich-selbst-gescheitert-a-febfcc0d-d6fd-4247-af16-670aef582dac\n",
      "----------------------------------------\n",
      "Politik\n",
      "https://www.spiegel.de/politik/deutschland/\n",
      "----------------------------------------\n",
      "Berlins Zusammenarbeit mit dem künftigen US-Präsidenten: Mit Biden wird nicht alles einfacher\n",
      "https://www.spiegel.de/politik/deutschland/deutschland-joe-biden-und-usa-wie-ist-das-verhaeltnis-zum-naechsten-us-praesidenten-a-24a56de5-2744-4288-aba8-bb637843a089\n",
      "----------------------------------------\n",
      "Auf einen Walzer mit Katrin Göring-Eckardt: \"Ich hab Sicherheitsschuhe an, keine Sorge!\"\n",
      "https://www.spiegel.de/politik/deutschland/katrin-goering-eckardt-ich-hab-sicherheitsschuhe-an-keine-sorge-a-4380cace-a697-402c-9b60-fda82959425e\n",
      "----------------------------------------\n",
      "Außenminister Maas zum US-Wahlausgang: \"Irgendwann muss auch Trump eine Entscheidung akzeptieren\"\n",
      "https://www.spiegel.de/politik/deutschland/heiko-maas-ueber-den-us-wahlausgang-irgendwann-muss-auch-trump-eine-entscheidung-akzeptieren-a-5794fe84-7db0-4228-a33b-a4531e6af132\n",
      "----------------------------------------\n",
      "Ausland\n",
      "https://www.spiegel.de/politik/ausland/\n",
      "----------------------------------------\n",
      "Designierter US-Präsident: \"Für Joe Biden geht die Arbeit jetzt erst richtig los\"\n",
      "https://www.spiegel.de/politik/ausland/designierter-us-praesident-joe-biden-fuer-joe-biden-geht-die-arbeit-jetzt-erst-richtig-los-a-bbde6f6e-ec63-427b-9695-d51b7c567c0c\n",
      "----------------------------------------\n",
      "Nach historischem Abkommen: Erste Maschine mit israelischen Touristen landet in Dubai\n",
      "https://www.spiegel.de/politik/ausland/erste-maschine-mit-israelischen-touristen-landet-in-dubai-a-9795f7d8-9fd9-4386-8bdf-a106beebe1b1\n",
      "----------------------------------------\n",
      "Berat Albayrak: Erdogans Schwiegersohn tritt als türkischer Finanzminister zurück\n",
      "https://www.spiegel.de/politik/ausland/tuerkei-erdogans-schwiegersohn-berat-albayrak-tritt-als-minister-zurueck-a-50b3432e-debc-42f9-b5f0-6fb0f1874d9a\n",
      "----------------------------------------\n",
      "Panorama\n",
      "https://www.spiegel.de/panorama/\n",
      "----------------------------------------\n",
      "Letzter Flug von Berlin-Tegel: Danke, das war’s\n",
      "https://www.spiegel.de/panorama/gesellschaft/flughafen-berlin-tegel-letzter-flug-vom-city-airport-a-e8e27935-5643-4adf-84d7-dc6a7f68a765\n",
      "----------------------------------------\n",
      "Geschichtslehrerin über DDR und Deutsche Einheit: \"Wir wissen, dass uns Erinnerung auch täuschen kann\"\n",
      "https://www.spiegel.de/panorama/bildung/mauerfall-und-einheit-im-geschichtsunterricht-wir-wissen-das-uns-erinnerung-auch-taeuschen-kann-a-d19277ba-9bee-4c5b-b1d4-6c7efc58b963\n",
      "----------------------------------------\n",
      "Reaktionen auf Demo-Chaos in Leipzig: \"Keiner hat Verständnis für diese Art von Demonstrationen\"\n",
      "https://www.spiegel.de/panorama/gesellschaft/leipzig-michael-kretschmer-kritisiert-chaos-nach-querdenken-demo-a-dfcb07de-75e7-4aa0-bba7-7d8de7def633\n",
      "----------------------------------------\n",
      "Sport\n",
      "https://www.spiegel.de/sport/\n",
      "----------------------------------------\n",
      "Primera División: Drei Elfmeter, ein Eigentor – Real Madrid besiegt sich selbst\n",
      "https://www.spiegel.de/sport/fussball/la-liga-real-madrid-besiegt-sich-beim-fc-valencia-selbst-a-d6ea02aa-a5fe-466a-8c52-5fe41a5c41bb\n",
      "----------------------------------------\n",
      "Premier League: De Bruynes Elfmeter geht vorbei – City verpasst den Sieg gegen Liverpool\n",
      "https://www.spiegel.de/sport/fussball/premier-league-manchester-city-nur-remis-gegen-den-fc-liverpool-a-05c872d2-e99f-4cd2-ba8f-45b3dcb0050b\n",
      "----------------------------------------\n",
      "Fußball-Bundesliga: Trotz Hacken-Traumtor von Lazaro – Leverkusen schlägt Gladbach 4:3\n",
      "https://www.spiegel.de/sport/fussball/fussball-bundesliga-zwei-treffer-von-alario-leverkusen-schlaegt-gladbach-4-2-a-777d14f8-cc88-4241-afda-27851b5efef2\n",
      "----------------------------------------\n",
      "Wirtschaft\n",
      "https://www.spiegel.de/wirtschaft/\n",
      "----------------------------------------\n",
      "Silicon Valley und Wall Street nach Biden-Sieg: Profiteure des Zwists\n",
      "https://www.spiegel.de/wirtschaft/unternehmen/usa-warum-wall-street-und-silicon-valley-von-joe-bidens-sieg-profitieren-a-cf904935-ac8f-40be-b317-bd58616440af\n",
      "----------------------------------------\n",
      "Lufthansa-Krise: \"Für Arbeitsvermittler sind wir Piloten wie ungelernte Hilfskräfte\"\n",
      "https://www.spiegel.de/wirtschaft/soziales/lufthansa-krise-fuer-arbeitsvermittler-sind-wir-piloten-wie-ungelernte-hilfskraefte-a-c17138fa-ede4-45e7-af4e-11cc0fd3e2b0\n",
      "----------------------------------------\n",
      "Trump und die Folgen: Kampf um die Freiheit\n",
      "https://www.spiegel.de/wirtschaft/trump-und-die-folgen-der-kampf-um-die-freiheit-a-70ac14f0-1b40-41f5-bb22-815675683d75\n",
      "----------------------------------------\n",
      "Börse: Bidens Sieg beflügelt die Aktienmärkte\n",
      "https://www.manager-magazin.de/finanzen/boerse/dax-aktueller-bericht-von-der-boerse-mit-aktien-und-euro-kurs-a-18e15c8a-00f2-414c-ad28-887f031bbf0c\n",
      "----------------------------------------\n",
      "Geldanlage: So können Investoren auf die Ära Biden wetten\n",
      "https://www.manager-magazin.de/finanzen/henning-gebhardt-ueber-joe-biden-aktien-und-investments-a-2a9acf90-4e07-4808-b2a5-71d4f48f1769\n",
      "----------------------------------------\n",
      "US-Handelspolitik: Warum die EU auch mit Joe Biden Zoll-Zoff haben wird\n",
      "https://www.manager-magazin.de/politik/weltwirtschaft/joe-biden-in-den-usa-warum-sich-handelsstreit-und-zoelle-kaum-bessern-wuerden-a-c8cdfe83-0592-4fa2-9ab1-2c21fe568e28\n",
      "----------------------------------------\n",
      "Börsenkurse manager magazin\n",
      "https://boersen.manager-magazin.de\n",
      "----------------------------------------\n",
      "Wissenschaft\n",
      "https://www.spiegel.de/wissenschaft/\n",
      "----------------------------------------\n",
      "Satellitenbild der Woche: Auf Kollisionskurs\n",
      "https://www.spiegel.de/wissenschaft/natur/antarktis-riesiger-eisberg-a68a-driftet-auf-suedgeorgien-zu-a-a8bda395-9835-4db8-b82b-60990acf0bd2\n",
      "----------------------------------------\n",
      "Virologe Drosten zu Kritik an Corona-Maßnahmen: \"Wir müssen Unsinn auch beim Namen nennen\"\n",
      "https://www.spiegel.de/wissenschaft/mensch/christian-drosten-zu-kritik-an-corona-massnahmen-wir-muessen-unsinn-auch-beim-namen-nennen-a-1814e1db-3a5f-44e1-b66e-39070fbad7a3\n",
      "----------------------------------------\n",
      "+++ Corona-Update am Sonntag +++: Intensivstationen melden fast so viele Corona-Patienten wie im April\n",
      "https://www.spiegel.de/wissenschaft/corona-news-am-sonntag-bundeswehr-will-bei-impfstoff-lagerung-helfen-a-2c3dfef5-9928-4ef6-aca6-7e98b375e471\n",
      "----------------------------------------\n",
      "Netzwelt\n",
      "https://www.spiegel.de/netzwelt/\n",
      "----------------------------------------\n",
      "Barrierefrei Posten im Netz: \"Sie könnten Millionen von Menschen helfen\"\n",
      "https://www.spiegel.de/netzwelt/web/barrierefrei-posten-im-netz-sie-koennten-millionen-von-menschen-helfen-a-5ebd78f7-72dd-4461-a4b4-f496a3427200\n",
      "----------------------------------------\n",
      "Sascha Lobo – Der Debatten-Podcast: Der Gegenwind zu Trumps versuchtem Staatsstreich\n",
      "https://www.spiegel.de/netzwelt/web/us-wahl-der-gegenwind-zu-donald-trumps-versuchtem-staatsstreich-podcast-a-64734b95-251c-4c94-bb54-d60b1f897299\n",
      "----------------------------------------\n",
      "Krimi um Darknet-Drogengeld: US-Ermittler beschlagnahmen Bitcoin-Vermögen\n",
      "https://www.spiegel.de/netzwelt/web/us-ermittler-beschlagnahmen-fast-eine-milliarde-bitcoin-a-5742719a-4e40-4689-a834-1a080b49d4d6\n",
      "----------------------------------------\n",
      "Kultur\n",
      "https://www.spiegel.de/kultur/\n",
      "----------------------------------------\n",
      "Popstar Sam Smith über Zwangsstörungen: \"Ich gehe sehr offen mit meiner Therapie um\"\n",
      "https://www.spiegel.de/kultur/musik/popstar-sam-smith-ich-gehe-sehr-offen-mit-meiner-therapie-um-a-fd2e6066-e1ba-41e7-be4f-dfcf9740759b\n",
      "----------------------------------------\n",
      "Legendärer \"Jeopardy\"-Moderator: Alex Trebek ist tot\n",
      "https://www.spiegel.de/kultur/tv/alex-trebek-jeopardy-moderator-ist-tot-a-1621bb26-fad6-4d73-ab71-9c76f3b263fb\n",
      "----------------------------------------\n",
      "Kim Gordon über die US-Wahl: \"Kein New Deal, aber immerhin ein Anfang\"\n",
      "https://www.spiegel.de/kultur/kim-gordon-von-sonic-youth-ueber-joe-biden-kein-new-deal-aber-immerhin-ein-anfang-a-0893c670-6e14-4cdc-a558-37d86d7d092c\n",
      "----------------------------------------\n",
      "Job & Karriere\n",
      "https://www.spiegel.de/karriere/\n",
      "----------------------------------------\n",
      "Rätsel der Woche: Welches Wort hat Stefan ausgewählt?\n",
      "https://www.spiegel.de/karriere/welches-wort-aus-dem-buch-hat-stefan-ausgewaehlt-raetsel-der-woche-a-369292d7-6c85-40f5-868f-25e70a378c84\n",
      "----------------------------------------\n",
      "Azubi mit über 50 Jahren: \"Ich möchte am liebsten noch 20 Jahre lang arbeiten\"\n",
      "https://www.spiegel.de/karriere/azubi-mit-ueber-50-jahren-ich-moechte-am-liebsten-noch-20-jahre-lang-arbeiten-a-744d0609-5634-4943-8223-92dc86391664\n",
      "----------------------------------------\n",
      "Von Köln nach Kanada: \"Seitdem wir hier sind, waren wir nicht mehr krank\"\n",
      "https://www.spiegel.de/karriere/kanada-zwei-auswanderer-berichten-von-ihrem-leben-in-der-wildnis-a-4f0cc9c1-a1bf-44d4-8384-34a3c21c358e\n",
      "----------------------------------------\n",
      "Start\n",
      "https://www.spiegel.de/start/\n",
      "----------------------------------------\n",
      "Semesterstart in der Coronakrise: \"Ich fühle mich oft wie in einem Videospiel\"\n",
      "https://www.spiegel.de/start/corona-krise-viele-studierende-starten-einsam-ins-studium-a-88de3110-d2ed-4fd7-b46a-201a4c5894a3\n",
      "----------------------------------------\n",
      "Junge Hotelmanagerin in der Coronakrise: \"Wir haben Angst vor diesem Winter\"\n",
      "https://www.spiegel.de/start/hotels-in-der-corona-krise-wir-haben-wahnsinnig-angst-vor-diesem-winter-a-0966d62c-c421-4b0e-8b78-9006ed2755a7\n",
      "----------------------------------------\n",
      "Wissenslücken, weniger Stellen: So wirkt sich Corona auf Azubis aus\n",
      "https://www.spiegel.de/start/corona-krise-welche-auswirkungen-die-pandemie-fuer-azubis-hat-a-2df6012d-fe45-4850-b967-e3710575b26f\n",
      "----------------------------------------\n",
      "Geschichte\n",
      "https://www.spiegel.de/geschichte/\n",
      "----------------------------------------\n",
      "Morden im Norden anno 1520: Das Blutbad von Stockholm\n",
      "https://www.spiegel.de/geschichte/blutbad-von-stockholm-1520-morden-im-norden-a-52c3c3f0-fdec-4c64-8505-0ce6b3d7fb83\n",
      "----------------------------------------\n",
      "Vorzeigeunternehmen unter Wilhelm II.: Das abenteuerliche Leben des Schießpulverkönigs Max Duttenhofer\n",
      "https://www.spiegel.de/geschichte/max-duttenhofer-das-abenteuerliche-leben-des-schiesspulverkoenigs-a-00000000-0002-0001-0000-000173898803\n",
      "----------------------------------------\n",
      "Pogrome 1938: \"Alles saust gleich an die Telefone. Nun wird das Volk handeln\"\n",
      "https://www.spiegel.de/geschichte/herschel-grynszpans-attentat-und-die-pogrome-1938-nun-wird-das-volk-handeln-a-82efd337-0a8c-478c-9456-a1566cc35fa1\n",
      "----------------------------------------\n",
      "Tests\n",
      "https://www.spiegel.de/tests/\n",
      "----------------------------------------\n",
      "Amazon Echo, Nest Audio, Braun LE-03: So gut – und so schlecht – sind die neuen Smartspeaker\n",
      "https://www.spiegel.de/netzwelt/gadgets/amazon-echo-nest-audio-braun-le-03-im-test-wie-gut-sind-die-neuen-smartspeaker-a-192ea6d5-558a-4fff-a7eb-a6d22c303384\n",
      "----------------------------------------\n",
      "Bestseller Link\n",
      "https://www.spiegel.de/kultur/bestseller-buecher-belletristik-sachbuch-auf-spiegel-liste-a-458623.html\n",
      "----------------------------------------\n",
      "Mobilität\n",
      "https://www.spiegel.de/auto/\n",
      "----------------------------------------\n",
      "Wir drehen eine Runde: Subaru XV: Ganz schön schlagfertig\n",
      "https://www.spiegel.de/auto/subaru-xv-fahrbericht-ein-schlagfertiges-auto-a-041ce2f7-c854-46d3-a0a6-c78294db33b3\n",
      "----------------------------------------\n",
      "Selbstfahrautos vor dem Start in Deutschland: \"Knight Rider\" wird Wirklichkeit\n",
      "https://www.spiegel.de/auto/autonomes-fahren-in-deutschland-knight-rider-wird-wirklichkeit-a-00000000-0002-0001-0000-000173898804\n",
      "----------------------------------------\n",
      "Streit um Bußgeldkatalog: Kompromiss zu höheren Strafen für Raser gescheitert\n",
      "https://www.spiegel.de/auto/strassenverkehrsordnung-im-bundesrat-scheitert-kompromiss-zu-raser-strafen-a-c577b216-6143-4de6-9ece-e85fc2757ecd\n",
      "----------------------------------------\n",
      "SPIEGEL-Bestseller: Sachbuch Hardcover\n",
      "https://www.spiegel.de/kultur/literatur/spiegel-bestseller-hardcover-a-1025428.html\n",
      "----------------------------------------\n",
      "Leben\n",
      "https://www.spiegel.de/thema/leben/\n",
      "----------------------------------------\n",
      "\"Die psychischen Abwehrkräfte sind stärker, als wir denken\"\n",
      "https://www.spiegel.de/psychologie/laurie-santos-die-psychischen-abwehrkraefte-sind-staerker-als-wir-denken-a-00000000-0002-0001-0000-000173898801\n",
      "----------------------------------------\n",
      "\"Es ist uns im Sommer zu gut gegangen\"\n",
      "https://www.spiegel.de/gesundheit/corona-infektionen-in-der-schweiz-was-der-anstieg-fuer-die-menschen-bedeutet-a-1ac14e04-b182-4490-9801-d5aad43bc460\n",
      "----------------------------------------\n",
      "Wie sich Paare Alltagsaufgaben wirklich gleichberechtigt teilen\n",
      "https://www.spiegel.de/familie/mental-load-in-familien-wie-paare-sich-die-arbeit-gleichberechtigt-teilen-koennen-a-4a7b7455-4180-4767-8e92-fb7e4da65bb1\n",
      "----------------------------------------\n",
      "\"Sauerteig ist eine ganz emotionale Angelegenheit\"\n",
      "https://www.spiegel.de/reise/sauerteig-ist-eine-ganz-emotionale-angelegenheit-a-b7db179a-2d15-4202-b939-9bf53b165d17\n",
      "----------------------------------------\n",
      "How to do Corona\n",
      "https://www.spiegel.de/reise/coronavirus-grippe-impfung-shutdown-weihnachten-fragen-und-antworten-a-3f895355-d146-4af5-a563-1295eab037f9\n",
      "----------------------------------------\n",
      "Gute Ideen für ein besseres Miteinander\n",
      "https://www.spiegel.de/stil/social-design-award-2020-gute-ideen-fuer-ein-besseres-miteinander-a-2ceeaa25-6922-4ec2-862b-46d73894b9b2\n",
      "----------------------------------------\n",
      "Das große Vermissen\n",
      "https://www.spiegel.de/psychologie/deutschland-im-corona-shutdown-wie-es-den-menschen-im-november-geht-a-09288833-19b8-474b-833f-cf8ff9ec014a\n",
      "----------------------------------------\n",
      "Produkte im Test\n",
      "https://www.spiegel.de/thema/test_und_produkte/\n",
      "----------------------------------------\n",
      "Unsichtbare Bande\n",
      "https://www.spiegel.de/tests/tipps-fuer-familienbuecher-fuer-kinder-unsichtbare-bande-a-9c2cc79f-ab70-44d3-a9da-eaa16232c3f1\n",
      "----------------------------------------\n",
      "Feuer und Flamme\n",
      "https://www.spiegel.de/tests/kueche/butangasbrenner-flambierbrenner-loet-und-schweissbrenner-kuechen-gadgets-im-test-a-0a9b6267-a7d6-412d-9f2b-05da615b87b1\n",
      "----------------------------------------\n",
      "Mach das mal weg\n",
      "https://www.spiegel.de/tests/haushalt/staubsauger-mit-und-ohne-beutel-im-test-mach-das-mal-weg-a-47ca7df9-2c0f-4364-ab2a-7d87842bebfc\n",
      "----------------------------------------\n",
      "Dein SPIEGEL\n",
      "https://www.spiegel.de/deinspiegel/\n",
      "----------------------------------------\n",
      "Wie Frachtschiffe abgewrackt werden\n",
      "https://www.spiegel.de/deinspiegel/wie-frachtschiffe-abgewrackt-werden-fuer-kinder-erklaert-a-00000000-0002-0001-0000-000173380110\n",
      "----------------------------------------\n",
      "Rettet das Huhn\n",
      "https://www.spiegel.de/deinspiegel/tierschutz-rettet-das-huhn-a-f723eec0-ffdb-457b-9f33-4af7c20ade00\n",
      "----------------------------------------\n",
      "Bild des Tages\n",
      "https://www.spiegel.de/fotostrecke/bilder-des-tages-fotos-aus-deutschland-und-der-welt-fotostrecke-122824.html\n"
     ]
    }
   ],
   "source": [
    "#print soup.get_text()hreflinks=[]\n",
    "AllTitles=soup.findAll('h2')\n",
    "alltitles=[]\n",
    "alltitleLinks=[]\n",
    "for l in AllTitles:\n",
    "    #print l\n",
    "    try:\n",
    "        title = l.find('a')['title']\n",
    "        link = l.find('a')['href']\n",
    "        print('-'*40)\n",
    "        print(title)\n",
    "        print(link)\n",
    "        alltitles.append(title)\n",
    "        alltitleLinks.append(link)\n",
    "    except:\n",
    "        pass"
   ]
  },
  {
   "cell_type": "markdown",
   "metadata": {
    "slideshow": {
     "slide_type": "slide"
    }
   },
   "source": [
    "## Get all images of the page\n",
    "\n",
    "Get url of all images, which are currently displayed on [www.zeit.de](http://www.zeit.de):"
   ]
  },
  {
   "cell_type": "code",
   "execution_count": 7,
   "metadata": {
    "ExecuteTime": {
     "end_time": "2017-10-20T12:50:12.456000Z",
     "start_time": "2017-10-20T12:50:12.440000Z"
    },
    "slideshow": {
     "slide_type": "fragment"
    }
   },
   "outputs": [
    {
     "name": "stdout",
     "output_type": "stream",
     "text": [
      "https://cdn.prod.www.spiegel.de/images/8e62e78d-b493-4ec4-a4c1-86aac43c3704_w40_r1_fpx49.57_fpy44.9.png\n",
      "https://cdn.prod.www.spiegel.de/images/8e62e78d-b493-4ec4-a4c1-86aac43c3704_w40_r1_fpx49.57_fpy44.9.png\n",
      "data:image/gif;base64,R0lGODlhAQABAAAAACH5BAEKAAEALAAAAAABAAEAAAICTAEAOw==\n",
      "https://cdn.prod.www.spiegel.de/images/9070c9b6-30e6-43c9-a19d-1e19bc32ce44_w948_r2.11_fpx64_fpy15.jpg\n",
      "https://cdn.prod.www.spiegel.de/images/9070c9b6-30e6-43c9-a19d-1e19bc32ce44_w920_r1.77_fpx64_fpy15.jpg\n",
      "https://cdn.prod.www.spiegel.de/images/3de98d9a-a401-4703-bd87-11bc2b933577_w488_r1.77_fpx33.34_fpy50.jpg\n",
      "https://cdn.prod.www.spiegel.de/images/3de98d9a-a401-4703-bd87-11bc2b933577_w117_r1.33_fpx33.34_fpy50.jpg\n",
      "https://cdn.prod.www.spiegel.de/images/d5ba8cab-f3b0-4f74-a3c7-8124574bea94_w488_r1.77_fpx49_fpy56.jpg\n",
      "https://cdn.prod.www.spiegel.de/images/d5ba8cab-f3b0-4f74-a3c7-8124574bea94_w117_r1.33_fpx49_fpy56.jpg\n",
      "https://cdn.prod.www.spiegel.de/images/dc601371-aa24-43ae-8c33-4fca75b399fc_w488_r1.77_fpx42.67_fpy50.jpg\n"
     ]
    }
   ],
   "source": [
    "imglinks=[]\n",
    "AllImgs=soup.findAll('img')\n",
    "for l in AllImgs:\n",
    "    if l.has_attr('src'):\n",
    "       imglinks.append(l)\n",
    "\n",
    "for l in imglinks[:10]:\n",
    "    print(l['src'])"
   ]
  },
  {
   "cell_type": "markdown",
   "metadata": {
    "slideshow": {
     "slide_type": "slide"
    }
   },
   "source": [
    "## Get entire text of a news-article"
   ]
  },
  {
   "cell_type": "code",
   "execution_count": 8,
   "metadata": {
    "ExecuteTime": {
     "end_time": "2017-10-20T13:09:24.145000Z",
     "start_time": "2017-10-20T13:09:23.833000Z"
    },
    "slideshow": {
     "slide_type": "fragment"
    }
   },
   "outputs": [
    {
     "name": "stdout",
     "output_type": "stream",
     "text": [
      "\n",
      "SPIEGEL+-Zugang wird gerade auf einem anderen Gerät genutzt\n",
      "\n",
      "\n",
      "SPIEGEL+ kann nur auf einem Gerät zur selben Zeit genutzt werden.\n",
      "\n",
      "\n",
      "Klicken Sie auf den Button, spielen wir den Hinweis auf dem anderen Gerät aus und Sie können SPIEGEL+ weiter nutzen.\n",
      "\n",
      "\n",
      "Melden Sie sich an und diskutieren Sie mit\n"
     ]
    }
   ],
   "source": [
    "IDX=0\n",
    "suburl=alltitleLinks[IDX]\n",
    "try:\n",
    "    html=urlopen(suburl).read() #works if subdomains are referenced by absolute path\n",
    "except:\n",
    "    html=urlopen(url+suburl).read() #works if subdomains are referenced by relative path\n",
    "soup=BeautifulSoup(html,\"html.parser\")\n",
    "AllP=soup.findAll('p')\n",
    "for p in AllP:\n",
    "    print(p.get_text())"
   ]
  },
  {
   "cell_type": "markdown",
   "metadata": {
    "collapsed": true,
    "slideshow": {
     "slide_type": "skip"
    }
   },
   "source": [
    "## Questions and Remarks\n",
    "1. This notebook demonstrates how raw-text can be crawled from news-sites. But what is the drawback of this method?\n",
    "2. Execute the entire notebook also for `www.spiegel.de` and `www.sueddeutsche.de`.\n",
    "3. What do you observe? How to solve the problem?"
   ]
  },
  {
   "cell_type": "code",
   "execution_count": null,
   "metadata": {
    "collapsed": true
   },
   "outputs": [],
   "source": []
  }
 ],
 "metadata": {
  "celltoolbar": "Slideshow",
  "kernelspec": {
   "display_name": "Python 3",
   "language": "python",
   "name": "python3"
  },
  "language_info": {
   "codemirror_mode": {
    "name": "ipython",
    "version": 3
   },
   "file_extension": ".py",
   "mimetype": "text/x-python",
   "name": "python",
   "nbconvert_exporter": "python",
   "pygments_lexer": "ipython3",
   "version": "3.7.5"
  },
  "nav_menu": {},
  "toc": {
   "base_numbering": 1,
   "nav_menu": {},
   "number_sections": true,
   "sideBar": true,
   "skip_h1_title": false,
   "title_cell": "Table of Contents",
   "title_sidebar": "Contents",
   "toc_cell": false,
   "toc_position": {},
   "toc_section_display": "block",
   "toc_window_display": false
  },
  "varInspector": {
   "cols": {
    "lenName": 16,
    "lenType": 16,
    "lenVar": 40
   },
   "kernels_config": {
    "python": {
     "delete_cmd_postfix": "",
     "delete_cmd_prefix": "del ",
     "library": "var_list.py",
     "varRefreshCmd": "print(var_dic_list())"
    },
    "r": {
     "delete_cmd_postfix": ") ",
     "delete_cmd_prefix": "rm(",
     "library": "var_list.r",
     "varRefreshCmd": "cat(var_dic_list()) "
    }
   },
   "types_to_exclude": [
    "module",
    "function",
    "builtin_function_or_method",
    "instance",
    "_Feature"
   ],
   "window_display": false
  }
 },
 "nbformat": 4,
 "nbformat_minor": 1
}