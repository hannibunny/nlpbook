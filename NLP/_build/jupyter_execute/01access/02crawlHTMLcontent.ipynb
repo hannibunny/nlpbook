{
 "cells": [
  {
   "cell_type": "markdown",
   "metadata": {
    "slideshow": {
     "slide_type": "slide"
    }
   },
   "source": [
    "# Access Contents of HTML Page\n",
    "\n",
    "- Author:      Johannes Maucher\n",
    "- Last update: 2018-10-21\n",
    "\n",
    "This notebook demonstrates how to parse a HTML document and access dedicated elements of the parse tree.\n",
    "[Beautiful Soup](http://www.crummy.com/software/BeautifulSoup/bs4/doc/#) is a python package for parsing HTML. Download and install version 4 by typing:\n",
    "\n",
    "> `pip install beautifulsoup4`\n",
    "\n",
    "into the command shell. Once it is installed it can be imported by"
   ]
  },
  {
   "cell_type": "code",
   "execution_count": 1,
   "metadata": {
    "ExecuteTime": {
     "end_time": "2017-10-20T12:50:00.898000Z",
     "start_time": "2017-10-20T12:50:00.893000Z"
    },
    "slideshow": {
     "slide_type": "fragment"
    }
   },
   "outputs": [],
   "source": [
    "from bs4 import BeautifulSoup"
   ]
  },
  {
   "cell_type": "markdown",
   "metadata": {
    "slideshow": {
     "slide_type": "slide"
    }
   },
   "source": [
    "For accessing arbitrary resources by URL the python modul [urllib](https://docs.python.org/2/library/urllib.html) must also be installed. Import the method _urlopen()_ from this module:  "
   ]
  },
  {
   "cell_type": "code",
   "execution_count": 2,
   "metadata": {
    "ExecuteTime": {
     "end_time": "2017-10-20T12:50:02.246000Z",
     "start_time": "2017-10-20T12:50:02.242000Z"
    },
    "slideshow": {
     "slide_type": "fragment"
    }
   },
   "outputs": [],
   "source": [
    "from urllib.request import urlopen"
   ]
  },
  {
   "cell_type": "markdown",
   "metadata": {
    "slideshow": {
     "slide_type": "fragment"
    }
   },
   "source": [
    "If these two modules are available the HTML parse tree of the specified URL can easily be generated as follows."
   ]
  },
  {
   "cell_type": "code",
   "execution_count": 3,
   "metadata": {
    "ExecuteTime": {
     "end_time": "2017-10-20T12:50:04.344000Z",
     "start_time": "2017-10-20T12:50:03.569000Z"
    },
    "slideshow": {
     "slide_type": "fragment"
    }
   },
   "outputs": [],
   "source": [
    "#url=\"http://www.zeit.de\"\n",
    "url=\"http://www.spiegel.de\"\n",
    "#url=\"http://www.sueddeutsche.de\"\n",
    "html=urlopen(url).read()\n",
    "soup=BeautifulSoup(html,\"html.parser\")"
   ]
  },
  {
   "cell_type": "markdown",
   "metadata": {
    "slideshow": {
     "slide_type": "slide"
    }
   },
   "source": [
    "Now e.g. the title of the URL can be accessed by:"
   ]
  },
  {
   "cell_type": "code",
   "execution_count": 4,
   "metadata": {
    "ExecuteTime": {
     "end_time": "2017-10-20T12:50:06.092000Z",
     "start_time": "2017-10-20T12:50:06.086000Z"
    },
    "slideshow": {
     "slide_type": "fragment"
    }
   },
   "outputs": [
    {
     "name": "stdout",
     "output_type": "stream",
     "text": [
      "Title of page:   DER SPIEGEL | Online-Nachrichten\n"
     ]
    }
   ],
   "source": [
    "titleTag = soup.html.head.title\n",
    "print(\"Title of page:  \",titleTag.string)"
   ]
  },
  {
   "cell_type": "markdown",
   "metadata": {
    "slideshow": {
     "slide_type": "slide"
    }
   },
   "source": [
    "## Get all links in the page\n",
    "All links in the page can be retrieven by the following code (only the first 20 links are printed)"
   ]
  },
  {
   "cell_type": "code",
   "execution_count": 5,
   "metadata": {
    "ExecuteTime": {
     "end_time": "2017-10-20T12:50:07.973000Z",
     "start_time": "2017-10-20T12:50:07.951000Z"
    },
    "slideshow": {
     "slide_type": "fragment"
    }
   },
   "outputs": [
    {
     "name": "stdout",
     "output_type": "stream",
     "text": [
      "Number of links in this page:  578\n",
      "#Inhalt\n",
      "https://www.spiegel.de/\n",
      "https://abo.spiegel.de/?b=SPOHNAVABO&requestAccessToken=true&sara_icid=disp_upd_9h6L5hu8K1AAnttzYATx3hvk7taDkP&targetUrl=https%3A%2F%2Fwww.spiegel.de%2Ffuermich%2F\n",
      "https://gruppenkonto.spiegel.de/authenticate?requestAccessToken=true&targetUrl=https%3A%2F%2Fwww.spiegel.de%2Ffuermich%2F\n",
      "https://www.spiegel.de/fuermich/\n",
      "https://www.spiegel.de/\n",
      "https://www.spiegel.de/schlagzeilen/\n",
      "https://www.spiegel.de/spiegel/\n",
      "https://www.spiegel.de/audio/\n",
      "https://www.spiegel.de/fuermich/\n",
      "https://www.spiegel.de/schlagzeilen/\n",
      "https://www.spiegel.de/plus/\n",
      "https://www.spiegel.de/magazine\n",
      "https://www.spiegel.de/thema/coronavirus/\n",
      "https://www.spiegel.de/thema/bundestagswahl-2021-republik-21/\n",
      "https://www.spiegel.de/thema/klimawandel/\n",
      "https://www.spiegel.de/politik/deutschland/\n",
      "https://www.spiegel.de/ausland/\n",
      "https://www.spiegel.de/panorama/\n",
      "https://www.spiegel.de/sport/\n"
     ]
    }
   ],
   "source": [
    "hreflinks=[]\n",
    "Alllinks=soup.findAll('a') #The <a> tag defines a hyperlink, which is used to link from one page to another.\n",
    "for l in Alllinks:\n",
    "    if l.has_attr('href'):\n",
    "        hreflinks.append(l)\n",
    "print(\"Number of links in this page: \",len(hreflinks))\n",
    "for l in hreflinks[:20]:\n",
    "    print(l['href'])"
   ]
  },
  {
   "cell_type": "markdown",
   "metadata": {
    "slideshow": {
     "slide_type": "slide"
    }
   },
   "source": [
    "## Get all news titles\n",
    "Get title of all news, which are currently listed on [www.zeit.de](http://www.zeit.de):"
   ]
  },
  {
   "cell_type": "code",
   "execution_count": 6,
   "metadata": {
    "ExecuteTime": {
     "end_time": "2017-10-20T12:50:10.208000Z",
     "start_time": "2017-10-20T12:50:10.124000Z"
    },
    "slideshow": {
     "slide_type": "fragment"
    }
   },
   "outputs": [
    {
     "name": "stdout",
     "output_type": "stream",
     "text": [
      "----------------------------------------\n",
      "Fußball-EM 2022 der Frauen: Es gibt mehr Geld!\n",
      "https://www.spiegel.de/sport/fussball/fussball-der-frauen-em-teilnehmerinnen-erhalten-bei-em-2022-das-doppelte-a-a19cd72a-e553-4308-8055-8c07f39347d2\n",
      "----------------------------------------\n",
      "Gutachten von Generalanwalt am EuGH: VW-Thermofenster verstoßen gegen EU-Gesetz\n",
      "https://www.spiegel.de/auto/vw-thermofenster-verstossen-laut-eugh-generalanwalt-gegen-eu-gesetz-a-2144a60e-8e40-482a-b4dd-74b281598d27\n",
      "----------------------------------------\n",
      "US-Außenpolitik seit 1945: Warum Donald Trump nicht das Problem war\n",
      "https://www.spiegel.de/geschichte/us-aussenpolitik-seit-1945-warum-donald-trump-nicht-das-problem-war-a-d053c25f-5474-40a5-bc8d-cef4ea466b92\n",
      "----------------------------------------\n",
      "Briefwahl, Desinformation, Hackerangriffe: Wie sicher ist die Bundestagswahl?\n",
      "https://www.spiegel.de/politik/deutschland/wie-sicher-ist-die-bundestagswahl-2021-briefwahl-desinformation-hackerangriff-a-6c056a10-cda8-450a-9b5f-8eff6c7cbb9c\n",
      "----------------------------------------\n",
      "»Operation Aderlass«: Ehemaliger Radprofi Björn Thurau für mehr als neun Jahre gesperrt\n",
      "https://www.spiegel.de/sport/doping-ehemaliger-radsport-profi-bjoern-thurau-fuer-mehr-als-neun-jahre-gesperrt-a-18f61de8-d8ad-4b95-b00d-2c733d7d39ea\n",
      "----------------------------------------\n",
      "Briefwahl, Desinformation, Hackerangriffe\n",
      "https://www.spiegel.de/thema/bundestagswahl_2021/\n",
      "----------------------------------------\n",
      "Wie sicher ist die Bundestagswahl?\n",
      "https://www.spiegel.de/politik/deutschland/wie-sicher-ist-die-bundestagswahl-2021-briefwahl-desinformation-hackerangriff-a-6c056a10-cda8-450a-9b5f-8eff6c7cbb9c\n",
      "----------------------------------------\n",
      "Kühnert erwartet SPD-Mitgliederbefragung vor Bildung einer Regierungskoalition\n",
      "https://www.spiegel.de/politik/deutschland/bundestagswahl-2021-im-news-update-ein-viertel-der-waehler-will-sich-noch-nicht-festlegen-a-20d3df3e-5a8d-45f6-a947-0967deeeba02\n",
      "----------------------------------------\n",
      "»Ich habe in meinem Leben noch nie so schlechte Wahlplakate gesehen«\n",
      "https://www.spiegel.de/stil/bundestagswahl-2021-konrad-r-mueller-ueber-die-kampagnen-der-kanzler-kandidaten-a-f3f7d0c9-6c6e-4d58-8046-846710024470\n",
      "----------------------------------------\n",
      "Postbote stellt Hunderte Wahlbenachrichtigungen nicht zu\n",
      "https://www.spiegel.de/politik/deutschland/schleswig-holstein-postbote-stellt-hunderte-wahlbenachrichtigungen-nicht-zu-a-9432a906-a691-4ef9-bef2-b7ca0651803b\n",
      "----------------------------------------\n",
      "Was eine Enteignung von Wohnungskonzernen bringen würde\n",
      "https://www.spiegel.de/wirtschaft/soziales/volksentscheid-in-berlin-was-eine-enteignung-von-wohnungskonzernen-bringen-wuerde-a-8a2cc584-32a5-41a3-b8b0-ceac99928b38\n",
      "----------------------------------------\n",
      "»Das wird jetzt zu einer Impfpflicht durch die Hintertür«\n",
      "https://www.spiegel.de/wirtschaft/unternehmen/corona-streit-ueber-gestrichenen-quarantaene-verdienstausfall-a-29799ec5-7ec1-4645-83bc-8ab59ee5f88f\n",
      "----------------------------------------\n",
      "Alaska führt bei Covid-Behandlung Priorisierung nach Heilungschancen ein\n",
      "https://www.spiegel.de/ausland/alaska-us-bundesstaat-beschliesst-verschaerfte-krisenstandards-fuer-ueberfuellte-krankenhaeuser-a-08f4f0c4-66c8-4aaa-b768-61c5c72f906d\n",
      "----------------------------------------\n",
      "So hat sich das Leben der Deutschen in der Merkel-Ära verändert\n",
      "https://www.spiegel.de/wirtschaft/soziales/einkommen-wohnraum-konsum-so-hat-sich-das-leben-der-deutschen-unter-angela-merkel-veraendert-a-95faf99d-6f79-4638-85f6-fd30b62df69f\n",
      "----------------------------------------\n",
      "»Obst und Gemüse werden für Geringverdiener endgültig zum Luxusgut«\n",
      "https://www.spiegel.de/wirtschaft/soziales/inflation-sozialverband-zu-gestiegenen-verbraucherpreisen-obst-und-gemuese-werden-zum-luxusgut-a-f45b8bea-b950-4505-a2f3-a945acd1d9cd\n",
      "----------------------------------------\n",
      "Bloß nicht jubeln\n",
      "https://www.spiegel.de/kultur/steinmeier-eroeffnet-berliner-stadtschloss-bloss-nicht-jubeln-a-3f4e1ccf-1cd1-4f52-ba69-e56e289a0f27\n",
      "----------------------------------------\n",
      "Johnson hält absurd-komische Rede vor der Uno-Vollversammlung\n",
      "https://www.spiegel.de/ausland/new-york-boris-johnson-haelt-absurd-komische-rede-vor-der-uno-vollversammlung-a-fc2c2822-a669-4366-8e75-75eae849f6a9\n",
      "----------------------------------------\n",
      "U-Boot-Bauer will Australien Rechnung für geplatzten Deal schicken\n",
      "https://www.spiegel.de/wirtschaft/unternehmen/u-boot-bauer-naval-group-aus-frankreich-will-australien-bald-rechnung-fuer-geplatzten-deal-schicken-a-76d1bbed-5f38-4ddc-85bb-d7d77582b453\n",
      "----------------------------------------\n",
      "Warum Donald Trump nicht das Problem war\n",
      "https://www.spiegel.de/geschichte/us-aussenpolitik-seit-1945-warum-donald-trump-nicht-das-problem-war-a-d053c25f-5474-40a5-bc8d-cef4ea466b92\n",
      "----------------------------------------\n",
      "Warum ich als Feministin Pornos gucke\n",
      "https://www.spiegel.de/familie/feminismus-warum-ich-als-feministin-pornos-gucke-a-6b9107e9-9f9a-44fc-a45f-deeec0e12149\n",
      "----------------------------------------\n",
      "»Schreiben Sie doch mal einen Entwurf«\n",
      "https://www.spiegel.de/karriere/arbeitszeugnis-selbst-schreiben-was-man-beachten-und-vermeiden-sollte-a-1a3d564f-98c3-42be-82ab-35ad40247a86\n",
      "----------------------------------------\n",
      "»In der freien Wirtschaft hätte ich mehr als das Doppelte verdienen können«\n",
      "https://www.spiegel.de/start/richterin-werden-in-der-freien-wirtschaft-haette-ich-mehr-als-das-doppelte-verdienen-koennen-a-8b5ba2ad-1ac4-4344-ba31-cce242e599b6\n",
      "----------------------------------------\n",
      "Hier kann man für zwei Wochen zum Dorfbewohner werden\n",
      "https://www.spiegel.de/reise/europa/verzascatal-im-tessin-hier-kann-man-fuer-zwei-wochen-zum-dorfbewohner-werden-a-792f90e9-6964-4316-83e4-fb35a201db58\n",
      "----------------------------------------\n",
      "Das Beste von SPIEGEL+\n",
      "https://www.spiegel.de/plus/\n",
      "----------------------------------------\n",
      "Ein Quantum Hoffnung\n",
      "https://www.spiegel.de/gesundheit/long-covid-heilversuch-mit-medikament-bc-007-ein-quantum-hoffnung-a-a2ed4319-91da-4a07-b23b-c7de84d80d56\n",
      "----------------------------------------\n",
      "Peking und das 300-Milliarden-Dollar-Problem\n",
      "https://www.spiegel.de/wirtschaft/evergrande-krise-china-und-das-300-milliarden-dollar-problem-a-617dc9b5-8172-4d2c-a2cb-ca7d6a1626a8\n",
      "----------------------------------------\n",
      "In Europa wächst die Angst vor einem Gasengpass\n",
      "https://www.spiegel.de/wirtschaft/erdgaspreise-schnellen-hoch-geht-europa-der-brennstoff-aus-a-a7404f22-b4ef-4fb9-9fea-8199d5143fda\n",
      "----------------------------------------\n",
      "Mit welcher Heizung Sie am meisten Geld sparen\n",
      "https://www.spiegel.de/wissenschaft/holzpellets-bis-waermepumpe-mit-welcher-heizung-sie-am-meisten-geld-sparen-a-82c3464c-ecda-40df-93b6-dad5f76e6410\n",
      "----------------------------------------\n",
      "Videos\n",
      "https://www.spiegel.de/video/\n",
      "----------------------------------------\n",
      "Kommentare und Kolumnen\n",
      "https://www.spiegel.de/thema/meinung/\n",
      "----------------------------------------\n",
      "Könnte Armin Laschet entgegen den Umfragen noch gewinnen?\n",
      "https://www.spiegel.de/netzwelt/netzpolitik/bundestagswahl-koennte-armin-laschet-entgegen-der-umfragen-noch-gewinnen-a-cc3072b8-ddcf-4033-9c3a-5b638eb99fe5\n",
      "----------------------------------------\n",
      "Wie wir mit einem Euro mehr pro Impfdosis Corona besiegen können\n",
      "https://www.spiegel.de/wirtschaft/soziales/corona-viel-zu-geringen-produktionskapazitaeten-fuer-mrna-impfstoff-a-b39114a1-3d86-4a51-8018-ed881774236a\n",
      "----------------------------------------\n",
      "Dringende Ermittlungsmaßnahmen\n",
      "https://www.spiegel.de/panorama/justiz/geldwaesche-dringende-ermittlungsmassnahmen-kolumne-von-thomas-fischer-a-12298d99-668e-4a26-a7d8-df9a3eaac7d7\n",
      "----------------------------------------\n",
      "Warum Scholz den Schröder machen muss\n",
      "https://www.spiegel.de/wirtschaft/olaf-scholz-warum-der-spd-kandidat-den-gerhard-schroeder-machen-muss-a-6133eba5-affd-407c-a894-6dc0d01a990f\n",
      "----------------------------------------\n",
      "Klimakrise\n",
      "https://www.spiegel.de/thema/klimawandel/\n",
      "----------------------------------------\n",
      "Scheitert der Klimagipfel, bevor er begonnen hat?\n",
      "https://www.spiegel.de/wissenschaft/mensch/versprechen-bei-der-uno-vollversammlung-scheitert-der-klimagipfel-bevor-er-begonnen-hat-a-c0061ae1-17e2-4d45-bdec-4fd123597af3\n",
      "----------------------------------------\n",
      "»Die deutsche Wirtschaft ist einer der Hauptverursacher des weltweiten Naturverlustes«\n",
      "https://www.spiegel.de/wissenschaft/hansjoerg-wyss-warum-der-oekomilliardaer-noch-mal-500-millionen-dollar-fuer-den-naturschutz-spendet-a-f2a9bb9a-c26a-475f-9967-49cff9476fb3\n",
      "----------------------------------------\n",
      "Wie Banden und Kartelle Mexikos Wälder plündern\n",
      "https://www.spiegel.de/ausland/oekoverbrechen-in-mexiko-wie-banden-und-kartelle-die-waelder-pluendern-a-6f8d1a95-c331-4ccf-a533-6e06d3121a48\n",
      "----------------------------------------\n",
      "Löst Erdgas unser Kohleproblem?\n",
      "https://www.spiegel.de/wissenschaft/technik/erdgas-loest-gas-unser-kohle-problem-klimabericht-podcast-a-56e4b634-f0db-41a6-95eb-782f580e02e4\n",
      "----------------------------------------\n",
      "Politik\n",
      "https://www.spiegel.de/politik/deutschland/\n",
      "----------------------------------------\n",
      "Verdacht auf Besitz von Kinderpornografie: Staatsanwaltschaft ermittelt gegen Berliner NPD-Vize\n",
      "https://www.spiegel.de/politik/deutschland/npd-staatsanwaltschaft-ermittelt-gegen-berliner-partei-vize-a-ac2a4d22-eedf-4d8b-b080-505249006b1e\n",
      "----------------------------------------\n",
      "Seit 2017: Bundesregierung zahlte mehr als eine Milliarde für Berater\n",
      "https://www.spiegel.de/politik/deutschland/bundesregierung-zahlte-seit-2017-mehr-als-eine-milliarde-fuer-externe-berater-a-ca9fa226-774f-430f-aa88-d2117d20cdf2\n",
      "----------------------------------------\n",
      "Die Lage am Morgen: Gipfeltreffen des schäbigen Konservatismus\n",
      "https://www.spiegel.de/politik/deutschland/news-hans-georg-maassen-thilo-sarrazin-annalena-baerbock-wahlkampf-jens-spahn-a-bf9b6138-d9fc-4399-a745-2c3d30bee627\n",
      "----------------------------------------\n",
      "Ausland\n",
      "https://www.spiegel.de/ausland/\n",
      "----------------------------------------\n",
      "Neue Strafanzeigen gegen Strache und Löger: Korruptionsvorwürfe gegen Österreichs Ex-Vizekanzler\n",
      "https://www.spiegel.de/ausland/oesterreich-strafanzeige-gegen-heinz-christian-strache-fpoe-und-hartwig-loeger-oevp-wegen-korruption-a-3c9d4a97-429e-4f92-aa9e-4932fcfa9ffd\n",
      "----------------------------------------\n",
      "Außenminister bei G20-Treffen: Maas stellt vier Forderungen an neue Taliban-Regierung\n",
      "https://www.spiegel.de/ausland/afghanistan-heiko-maas-stellt-vier-forderungen-an-taliban-regierung-in-kabul-a-5fd685d5-35ab-422a-80f0-927605dfe3de\n",
      "----------------------------------------\n",
      "Nach Druck von der EU: Polnische Region hebt Status als »LGBT-freie Zone« auf\n",
      "https://www.spiegel.de/ausland/polen-region-im-sueden-hebt-status-als-lgbt-freie-zone-auf-a-54506447-a45d-450b-9472-d8db4b237265\n",
      "----------------------------------------\n",
      "Panorama\n",
      "https://www.spiegel.de/panorama/\n",
      "----------------------------------------\n",
      "Körperverletzung und sexuelle Belästigung: Frau gibt verlorene EC-Karte wieder – Mann schlägt ihr ins Gesicht\n",
      "https://www.spiegel.de/panorama/justiz/dortmund-frau-gibt-verlorene-ec-karte-wieder-mann-schlaegt-ihr-ins-gesicht-a-67dd7bfe-01e5-46cd-901c-e6e467593f60\n",
      "----------------------------------------\n",
      "Heilbronn: Vier gefährliche Gefangene aus Klinik geflüchtet\n",
      "https://www.spiegel.de/panorama/justiz/heilbronn-vier-gefaehrliche-gefangene-aus-klinik-gefluechtet-a-dc21a872-a7e3-4f45-8b6c-3b435862eb54\n",
      "----------------------------------------\n",
      "Schlussplädoyer im Prozess gegen R. Kelly: »Lügen, Manipulation, Drohungen und körperlicher Missbrauch«\n",
      "https://www.spiegel.de/panorama/justiz/prozess-gegen-r-kelly-schlussplaedoyer-der-staatsanwaeltin-a-7d4efb5d-ba9a-4d90-8951-9ce774bbb2de\n",
      "----------------------------------------\n",
      "Sport\n",
      "https://www.spiegel.de/sport/\n",
      "----------------------------------------\n",
      "Fußball-EM 2022 der Frauen: Es gibt mehr Geld!\n",
      "https://www.spiegel.de/sport/fussball/fussball-der-frauen-em-teilnehmerinnen-erhalten-bei-em-2022-das-doppelte-a-a19cd72a-e553-4308-8055-8c07f39347d2\n",
      "----------------------------------------\n",
      "»Operation Aderlass«: Ehemaliger Radprofi Björn Thurau für mehr als neun Jahre gesperrt\n",
      "https://www.spiegel.de/sport/doping-ehemaliger-radsport-profi-bjoern-thurau-fuer-mehr-als-neun-jahre-gesperrt-a-18f61de8-d8ad-4b95-b00d-2c733d7d39ea\n",
      "----------------------------------------\n",
      "Gewalt im französischen Fußball: Anhänger gehen im Stadion aufeinander los, Bewaffnete attackieren Bus\n",
      "https://www.spiegel.de/sport/fussball/frankreich-gewalt-in-der-ligue-1-angriff-auf-bus-in-montpellier-ausschreitungen-in-angers-a-0a1ac351-9088-41ec-82ee-d2c53983e9d6\n",
      "----------------------------------------\n",
      "Wirtschaft\n",
      "https://www.spiegel.de/wirtschaft/\n",
      "----------------------------------------\n",
      "Antwort des Finanzministeriums: Erhöhung der Pendlerpauschale um einen Cent kostet den Staat 230 Millionen Euro\n",
      "https://www.spiegel.de/wirtschaft/soziales/pendlerpauschale-erhoehung-um-einen-cent-kostet-den-staat-230-millionen-euro-a-5fd3c632-9ccd-46a4-9a4b-80489691f69e\n",
      "----------------------------------------\n",
      "Klimafreundlich und trotzdem umweltschädlich: Bundesregierung schafft Förderung für Palmöl in Kraftstoffen ab\n",
      "https://www.spiegel.de/wirtschaft/palmoel-bundesregierung-schafft-foerderung-in-kraftstoffen-ab-a-88e35ed8-1212-471c-9e8c-4d4a0f9e40c5\n",
      "----------------------------------------\n",
      "Kohleausstieg im Ausland: China forciert die globale Energiewende – aus Eigennutz\n",
      "https://www.spiegel.de/wirtschaft/soziales/china-forciert-die-globale-energiewende-keine-kohlemeiler-mehr-im-ausland-a-d92197d2-9f29-4fc6-a765-243d1b2346bd\n",
      "----------------------------------------\n",
      "Agrargeschäft: Der nächste Monsanto-Schock für Bayer\n",
      "https://www.manager-magazin.de/unternehmen/industrie/bayer-agrargeschaeft-von-monsanto-in-usa-laeuft-schlecht-liam-condon-droht-abschied-a-5be7810c-0002-0001-0000-000179197430\n",
      "----------------------------------------\n",
      "Bau ohne Genehmigung: So wollen Teslas Gegner die Fabrik in Grünheide noch stoppen\n",
      "https://www.manager-magazin.de/unternehmen/autoindustrie/tesla-fabrik-in-gruenheide-so-wollen-die-gegner-das-megaprojekt-noch-stoppen-a-60e927f1-7342-4f6c-aa1a-e9376afd759e\n",
      "----------------------------------------\n",
      "Gestürzter Lidl-Chef: Das neue Leben des Klaus Gehrig\n",
      "https://www.manager-magazin.de/unternehmen/handel/lidl-was-klaus-gehrig-nach-seinem-aus-bei-der-schwarz-gruppe-treibt-a-63a1275d-0002-0001-0000-000179197441\n",
      "----------------------------------------\n",
      "Börsenkurse manager magazin\n",
      "https://boersen.manager-magazin.de\n",
      "----------------------------------------\n",
      "Wissenschaft\n",
      "https://www.spiegel.de/wissenschaft/\n",
      "----------------------------------------\n",
      "Brände in Kalifornien: Was bringt es, Mammutbäume zum Feuerschutz in Alufolie zu wickeln?\n",
      "https://www.spiegel.de/wissenschaft/braende-in-kalifornien-was-bringt-es-mammutbaeume-zum-feuerschutz-in-alufolie-zu-wickeln-a-222d7b45-bf93-4a5b-8238-fa52dd6cb426\n",
      "----------------------------------------\n",
      "Coronavirus in Deutschland: RKI meldet 10.696 Neuinfektionen\n",
      "https://www.spiegel.de/wissenschaft/corona-virus-in-deutschland-rki-meldet-10-696-neuinfektionen-sieben-tage-inzidenz-sinkt-auf-63-1-a-08dad633-1ca3-4930-9bb6-2434dbb34c16\n",
      "----------------------------------------\n",
      "Coronavirus: USA lassen ersten Impfstoff für Auffrischungen zu\n",
      "https://www.spiegel.de/wissenschaft/corona-virus-us-behoerde-fda-erlaubt-auffrischungs-impfung-fuer-risikogruppen-a-f0208ec1-032e-4ec1-a890-353b768e7453\n",
      "----------------------------------------\n",
      "Netzwelt\n",
      "https://www.spiegel.de/netzwelt/\n",
      "----------------------------------------\n",
      "Hardware für Windows 11: Microsoft stellt Meeresplastik-Maus und Dreifach-Laptop vor\n",
      "https://www.spiegel.de/netzwelt/gadgets/microsoft-stellt-meeresplastik-maus-und-dreifach-laptop-vor-a-85aca26f-213e-4bfe-9ccb-e71d4dd2b643\n",
      "----------------------------------------\n",
      "Video-Empfehlungen vor der Wahl: Wie YouTube es allen recht machen will\n",
      "https://www.spiegel.de/netzwelt/youtube-vor-der-wahl-wie-es-der-algorithmus-allen-recht-machen-soll-a-e364dccf-5f72-4736-ae1c-bdf0d213dcf1\n",
      "----------------------------------------\n",
      "Pläne der EU-Kommission: USB-C für alle Smartphones?\n",
      "https://www.spiegel.de/netzwelt/gadgets/usb-c-fuer-alle-smartphones-a-10b614c0-3bf9-4f12-8bb9-d695f79b48f1\n",
      "----------------------------------------\n",
      "Kultur\n",
      "https://www.spiegel.de/kultur/\n",
      "----------------------------------------\n",
      "ZDF-Anchorman: Christian Sievers wird Nachfolger von Claus Kleber\n",
      "https://www.spiegel.de/kultur/tv/zdf-heute-journal-christian-sievers-wird-nachfolger-von-claus-kleber-a-3a94c9cb-a7a7-48ab-b516-56d487342cac\n",
      "----------------------------------------\n",
      "Zum Tod der Filmemacherin Tatjana Turanskyj: Eine unflexible Frau\n",
      "https://www.spiegel.de/kultur/kino/zum-tod-von-tatjana-turanskyj-eine-unflexible-frau-a-71b0a669-d282-4604-bbaf-a2e269e04b25\n",
      "----------------------------------------\n",
      "Von 2022 an: RBB-Intendantin Schlesinger übernimmt ARD-Vorsitz\n",
      "https://www.spiegel.de/kultur/tv/ard-patricia-schlesinger-vom-rbb-uebernimmt-ab-2022-den-vorsitz-a-8c4a6b49-9f2e-4225-9a97-42c1d77e70f9\n",
      "----------------------------------------\n",
      "Job & Karriere\n",
      "https://www.spiegel.de/karriere/\n",
      "----------------------------------------\n",
      "Verdienstausfall für Ungeimpfte: Was Berufstätige beachten sollten\n",
      "https://www.spiegel.de/karriere/was-berufstaetige-beachten-sollten-a-ce9042f1-e3a6-48f2-9ca6-ed4d751de374\n",
      "----------------------------------------\n",
      "Quiz zur Arbeitsmarktpolitik: Wo FDP und Linke das Gleiche wollen\n",
      "https://www.spiegel.de/karriere/quiz-zur-arbeitsmarktpolitik-wo-fdp-und-linke-das-gleiche-wollen-a-b96a8f34-0cd1-4a29-9614-5d7ed758278e\n",
      "----------------------------------------\n",
      "New Work im Handwerk: »Wir wollten weg von der Nachtarbeit – und backen jetzt tagsüber«\n",
      "https://www.spiegel.de/karriere/gleiches-gehalt-fuer-alle-und-keine-hierarchien-so-geht-new-work-im-handwerk-a-b11d2d63-521a-4b10-9ccc-be06ec87e29c\n",
      "----------------------------------------\n",
      "Start\n",
      "https://www.spiegel.de/start/\n",
      "----------------------------------------\n",
      "Motiviert durchs Studium: So wird dieses Semester wirklich alles besser\n",
      "https://www.spiegel.de/start/motivation-fuers-studium-so-wird-dieses-semester-wirklich-alles-besser-a-8dcb2257-3b04-4169-8f21-700a8c3fd88b\n",
      "----------------------------------------\n",
      "Nie wieder fade Powerpoint-Folien: Wie man die perfekte Präsentation hält\n",
      "https://www.spiegel.de/start/referate-vortraege-pitches-profis-verraten-wie-man-die-perfekte-praesentation-haelt-a-56e21bf4-33b5-4b5b-9c02-ecc211497487\n",
      "----------------------------------------\n",
      "Unterstützung für Studierende: Wie man ein Avicenna-Stipendium bekommt – und was es bringt\n",
      "https://www.spiegel.de/start/stipendium-des-avicenna-studienwerks-voraussetzung-bewerbung-foerderung-a-80839d1d-aef3-4c80-a733-d6a5154468d9\n",
      "----------------------------------------\n",
      "Geschichte\n",
      "https://www.spiegel.de/geschichte/\n",
      "----------------------------------------\n",
      "Hausbesetzer Klaus-Jürgen Rattay: Vom Doppeldecker zu Tode geschleift\n",
      "https://www.spiegel.de/geschichte/hausbesetzer-klaus-juergen-rattay-in-west-berlin-1981-tod-unter-dem-bus-a-7c97fd8c-8af7-4bed-9bb5-6eae50fa1917\n",
      "----------------------------------------\n",
      "BASF-Explosion 1921: »Das Ende der Welt schien gekommen«\n",
      "https://www.spiegel.de/geschichte/basf-explosion-in-oppau-1921-das-ende-der-welt-schien-gekommen-a-4e0b12f0-32d1-48ca-bbbf-c96493c1a986\n",
      "----------------------------------------\n",
      "Wahlkämpfe in Deutschland: »Früher wurde mit wüsten Diffamierungen gearbeitet«\n",
      "https://www.spiegel.de/geschichte/wahlkampf-in-deutschland-war-frueher-mehr-lametta-a-995de43f-e301-4a7b-817c-d52d4138b963\n",
      "----------------------------------------\n",
      "Tests\n",
      "https://www.spiegel.de/tests/\n",
      "----------------------------------------\n",
      "Spieleklassiker: Was wurde eigentlich aus »Cluedo«?\n",
      "https://www.spiegel.de/tests/brettspiele/cluedo-was-wurde-aus-dem-spieleklassiker-a-ccfa774f-5877-4955-aba8-66f54358fa56\n",
      "----------------------------------------\n",
      "Bestseller Link\n",
      "https://www.spiegel.de/kultur/bestseller-buecher-belletristik-sachbuch-auf-spiegel-liste-a-458623.html\n",
      "----------------------------------------\n",
      "Mobilität\n",
      "https://www.spiegel.de/auto/\n",
      "----------------------------------------\n",
      "Gutachten von Generalanwalt am EuGH: VW-Thermofenster verstoßen gegen EU-Gesetz\n",
      "https://www.spiegel.de/auto/vw-thermofenster-verstossen-laut-eugh-generalanwalt-gegen-eu-gesetz-a-2144a60e-8e40-482a-b4dd-74b281598d27\n",
      "----------------------------------------\n",
      "Hochpreisige Elektrotechnik: E-Autos haben höhere Reparaturkosten\n",
      "https://www.spiegel.de/auto/elektroautos-haben-hoehere-reparaturkosten-als-diesel-und-benziner-a-b17edb8d-8c30-4c16-acfd-5906b54872d1\n",
      "----------------------------------------\n",
      "Konkurrenz zum staatlichen Angebot: Frankreich erteilt Bürgerbahn Betriebserlaubnis\n",
      "https://www.spiegel.de/auto/konkurrenz-fuer-staatsbahn-sncf-franzoesische-buergerbahn-bekommt-zulassung-a-3d8afe02-eb7a-4c60-9616-e4e92b4441c5\n",
      "----------------------------------------\n",
      "SPIEGEL-Bestseller: Sachbuch Hardcover\n",
      "https://www.spiegel.de/kultur/literatur/spiegel-bestseller-hardcover-a-1025428.html\n",
      "----------------------------------------\n",
      "Leben\n",
      "https://www.spiegel.de/thema/leben/\n",
      "----------------------------------------\n",
      "Das späte Leid der Angehörigen\n",
      "https://www.spiegel.de/psychologie/einsamer-corona-tod-als-die-mutter-starb-durfte-die-tochter-nicht-zu-ihr-a-3befc02f-2f78-4502-9bbb-917e0bc1ce84\n",
      "----------------------------------------\n",
      "Träumen Menschen von niedlichen Robotern?\n",
      "https://www.spiegel.de/psychologie/psychologie-vermenschlichte-maschinen-bringen-keinen-vorteil-a-0fc1bf12-9c7a-4411-baa1-9d392be8c806\n",
      "----------------------------------------\n",
      "Ich bin ein Wesen aus der Eizeit\n",
      "https://www.spiegel.de/familie/siebziger-jahre-nostalgie-ich-bin-ein-wesen-aus-der-eizeit-kolumne-a-98b87ea9-5fa1-4f78-a34a-571c5e6a0434\n",
      "----------------------------------------\n",
      "Welche Wander-Apps am besten führen\n",
      "https://www.spiegel.de/reise/test-von-stiftung-warentest-welche-wander-apps-am-besten-fuehren-a-e7863c61-b571-480d-b9cc-99f2a7674346\n",
      "----------------------------------------\n",
      "Das müssen Sie beachten, wenn Sie jetzt eine Reise buchen\n",
      "https://www.spiegel.de/reise/checkliste-fuer-die-urlaubsbuchung-erst-die-buerokratie-dann-die-erholung-a-18f7a1aa-e8af-4092-afee-76d229ff92f5\n",
      "----------------------------------------\n",
      "Ganz schön giftig\n",
      "https://www.spiegel.de/stil/giftige-pflanzen-fingerhut-vogelbeere-eisenhut-pilze-die-gartenkolumne-a-0352eaa3-284e-497b-ae22-70b97b9c7272\n",
      "----------------------------------------\n",
      "Produkte im Test\n",
      "https://www.spiegel.de/tests/\n",
      "----------------------------------------\n",
      "Das können die neuen Apple-Smartphones\n",
      "https://www.spiegel.de/netzwelt/gadgets/iphone-13-im-test-was-die-neuen-apple-handys-koennen-a-a24816bb-b361-4d60-b524-6700ef820808\n",
      "----------------------------------------\n",
      "Diese Klingel weiß, wer da klingelt\n",
      "https://www.spiegel.de/netzwelt/gadgets/google-nest-doorbell-im-test-diese-klingel-weiss-wer-sie-gedrueckt-hat-a-78eed3b2-1eca-4838-845f-ea661be8e58f\n",
      "----------------------------------------\n",
      "An diesen Fahrradschlössern verzweifeln Diebe\n",
      "https://www.spiegel.de/auto/aktuell/stiftung-warentest-schwere-fahrradschloesser-ueberzeugen-im-test-a-1264043.html\n",
      "----------------------------------------\n",
      "Dieses Ding soll dumme Lichtschalter smart machen\n",
      "https://www.spiegel.de/netzwelt/gadgets/philips-hue-wandschalter-modul-im-test-dumme-lichtschalter-smart-machen-a-502acc7e-07a0-43fa-9739-53d08a8fa0f0\n",
      "----------------------------------------\n",
      "Dein SPIEGEL\n",
      "https://www.spiegel.de/deinspiegel/\n",
      "----------------------------------------\n",
      "Welche Kreuze auf dem Wahlzettel erlaubt sind – und welche nicht\n",
      "https://www.spiegel.de/deinspiegel/wahl-abc-fuer-kinder-welche-kreuze-auf-dem-wahlzettel-erlaubt-sind-und-welche-nicht-a-971d788e-3444-49a9-9253-5cbf9dc3a32d\n",
      "----------------------------------------\n",
      "Die Nominierungen für den deutschen Kindersoftwarepreis TOMMI 2021\n",
      "https://www.spiegel.de/deinspiegel/die-nominierungen-fuer-den-deutschen-kindersoftwarepreis-tommi-2021-a-35cb5cf0-72db-48d5-8d15-9db8f92f98ed\n",
      "----------------------------------------\n",
      "Bild des Tages\n",
      "https://www.spiegel.de/fotostrecke/bilder-des-tages-fotos-aus-deutschland-und-der-welt-fotostrecke-122824.html\n"
     ]
    }
   ],
   "source": [
    "#print soup.get_text()hreflinks=[]\n",
    "AllTitles=soup.findAll('h2')\n",
    "alltitles=[]\n",
    "alltitleLinks=[]\n",
    "for l in AllTitles:\n",
    "    #print l\n",
    "    try:\n",
    "        title = l.find('a')['title']\n",
    "        link = l.find('a')['href']\n",
    "        print('-'*40)\n",
    "        print(title)\n",
    "        print(link)\n",
    "        alltitles.append(title)\n",
    "        alltitleLinks.append(link)\n",
    "    except:\n",
    "        pass"
   ]
  },
  {
   "cell_type": "markdown",
   "metadata": {
    "slideshow": {
     "slide_type": "slide"
    }
   },
   "source": [
    "## Get all images of the page\n",
    "\n",
    "Get url of all images, which are currently displayed on [www.zeit.de](http://www.zeit.de):"
   ]
  },
  {
   "cell_type": "code",
   "execution_count": 7,
   "metadata": {
    "ExecuteTime": {
     "end_time": "2017-10-20T12:50:12.456000Z",
     "start_time": "2017-10-20T12:50:12.440000Z"
    },
    "slideshow": {
     "slide_type": "fragment"
    }
   },
   "outputs": [
    {
     "name": "stdout",
     "output_type": "stream",
     "text": [
      "data:image/gif;base64,R0lGODlhAQABAAAAACH5BAEKAAEALAAAAAABAAEAAAICTAEAOw==\n",
      "https://cdn.prod.www.spiegel.de/images/78011ce8-1b2f-4aa2-9337-a5beee663dfe_w872_r1.778_fpx50_fpy25.jpg\n",
      "https://cdn.prod.www.spiegel.de/images/2a3a3883-b8cd-4271-94c9-e7e12fa9c165_w488_r1.778_fpx49_fpy39.jpg\n",
      "https://cdn.prod.www.spiegel.de/images/0a89d1b8-431d-47ca-bd3e-0cd949892120_w117_r1.33_fpx53_fpy74.png\n",
      "https://cdn.prod.www.spiegel.de/images/0a89d1b8-431d-47ca-bd3e-0cd949892120_w488_r1.778_fpx53_fpy74.png\n",
      "https://cdn.prod.www.spiegel.de/images/db65ddd0-77c2-4f1a-875b-82449ba69fff_w180_r1_fpx50_fpy50.jpg\n",
      "https://cdn.prod.www.spiegel.de/images/db65ddd0-77c2-4f1a-875b-82449ba69fff_w180_r1_fpx50_fpy50.jpg\n",
      "https://cdn.prod.www.spiegel.de/images/df62fb8f-1c5c-495d-8a63-61a0c507a5a9_w872_r1.778_fpx49.04_fpy44.96.jpg\n",
      "https://cdn.prod.www.spiegel.de/images/df62fb8f-1c5c-495d-8a63-61a0c507a5a9_w872_r1.778_fpx49.04_fpy44.96.jpg\n",
      "https://cdn.prod.www.spiegel.de/images/42d2ab6d-4dc6-40a5-a12a-b2cd9c3f5a25_w117_r1.33_fpx46_fpy45_fd52.63.jpg\n"
     ]
    }
   ],
   "source": [
    "imglinks=[]\n",
    "AllImgs=soup.findAll('img')\n",
    "for l in AllImgs:\n",
    "    if l.has_attr('src'):\n",
    "       imglinks.append(l)\n",
    "\n",
    "for l in imglinks[:10]:\n",
    "    print(l['src'])"
   ]
  },
  {
   "cell_type": "markdown",
   "metadata": {
    "slideshow": {
     "slide_type": "slide"
    }
   },
   "source": [
    "## Get entire text of a news-article"
   ]
  },
  {
   "cell_type": "code",
   "execution_count": 8,
   "metadata": {
    "ExecuteTime": {
     "end_time": "2017-10-20T13:09:24.145000Z",
     "start_time": "2017-10-20T13:09:23.833000Z"
    },
    "slideshow": {
     "slide_type": "fragment"
    }
   },
   "outputs": [
    {
     "name": "stdout",
     "output_type": "stream",
     "text": [
      "Die DFB-Frauen beim Länderspiel in Cottbus\n",
      "Mirko Kappes / imago images/foto2press\n",
      "Das Uefa-Exekutivkomitee hat auf seiner Sitzung im moldauischen Chisinau eine Verdoppelung der finanziellen Ausschüttungen an die Teilnehmerinnen der Europameisterschaft der Frauen beschlossen. Demnach erhalten die 16 für die Endrunde 2022 in England qualifizierten Teams insgesamt 16 Millionen Euro. Bei der EM 2017 in den Niederlanden war mit acht Millionen Euro die Hälfte dieser Summe ausgezahlt worden.\n",
      "Wie der Europaverband weiter mitteilte, wurde zudem ein neuer Verteilerschlüssel verabschiedet, der höhere garantierte Beträge sowie leistungsbezogene Bonuszahlungen für die Gruppenphase vorsehe. Darüber hinaus genehmigte das Exekutivkomitee erstmals ein Ausschüttungsprogramm für Klubs. Demnach stellt die Uefa einen Gesamtbetrag von 4,5 Millionen Euro für jene Vereine zur Verfügung, die Spielerinnen für die Endrunde im kommenden Jahr abstellen.\n",
      "Zum Vergleich: Für das in diesen Sommer verschobene Turnier der Männer hatte die Uefa das Preisgeld aufgrund der Pandemie gesenkt. Und doch gab es für die 24 Teams mehr zu verdienen als bei jeder vorherigen EM-Endrunde: Insgesamt betrug das Preisgeld 331 Millionen Euro und damit 30 Millionen mehr als bei der EM 2016 in Frankreich, an der erstmals 24 Nationen teilgenommen hatten. Vor der Coronakrise hatte die Uefa einen Topf von 371 Millionen Euro für die EM 2020 festgelegt.\n",
      "\n",
      "SPIEGEL+-Zugang wird gerade auf einem anderen Gerät genutzt\n",
      "\n",
      "\n",
      "SPIEGEL+ kann nur auf einem Gerät zur selben Zeit genutzt werden.\n",
      "\n",
      "\n",
      "Klicken Sie auf den Button, spielen wir den Hinweis auf dem anderen Gerät aus und Sie können SPIEGEL+ weiter nutzen.\n",
      "\n",
      "\n",
      "Die DFB-Frauen beim Länderspiel in Cottbus\n",
      "Mirko Kappes / imago images/foto2press\n",
      "Melden Sie sich an und diskutieren Sie mit\n"
     ]
    }
   ],
   "source": [
    "IDX=0\n",
    "suburl=alltitleLinks[IDX]\n",
    "try:\n",
    "    html=urlopen(suburl).read() #works if subdomains are referenced by absolute path\n",
    "except:\n",
    "    html=urlopen(url+suburl).read() #works if subdomains are referenced by relative path\n",
    "soup=BeautifulSoup(html,\"html.parser\")\n",
    "AllP=soup.findAll('p')\n",
    "for p in AllP:\n",
    "    print(p.get_text())"
   ]
  },
  {
   "cell_type": "markdown",
   "metadata": {
    "collapsed": true,
    "slideshow": {
     "slide_type": "skip"
    }
   },
   "source": [
    "## Questions and Remarks\n",
    "1. This notebook demonstrates how raw-text can be crawled from news-sites. But what is the drawback of this method?\n",
    "2. Execute the entire notebook also for `www.spiegel.de` and `www.sueddeutsche.de`.\n",
    "3. What do you observe? How to solve the problem?"
   ]
  },
  {
   "cell_type": "code",
   "execution_count": null,
   "metadata": {
    "collapsed": true
   },
   "outputs": [],
   "source": []
  }
 ],
 "metadata": {
  "celltoolbar": "Slideshow",
  "kernelspec": {
   "display_name": "Python 3",
   "language": "python",
   "name": "python3"
  },
  "language_info": {
   "codemirror_mode": {
    "name": "ipython",
    "version": 3
   },
   "file_extension": ".py",
   "mimetype": "text/x-python",
   "name": "python",
   "nbconvert_exporter": "python",
   "pygments_lexer": "ipython3",
   "version": "3.8.0"
  },
  "nav_menu": {},
  "toc": {
   "base_numbering": 1,
   "nav_menu": {},
   "number_sections": true,
   "sideBar": true,
   "skip_h1_title": false,
   "title_cell": "Table of Contents",
   "title_sidebar": "Contents",
   "toc_cell": false,
   "toc_position": {},
   "toc_section_display": "block",
   "toc_window_display": false
  },
  "varInspector": {
   "cols": {
    "lenName": 16,
    "lenType": 16,
    "lenVar": 40
   },
   "kernels_config": {
    "python": {
     "delete_cmd_postfix": "",
     "delete_cmd_prefix": "del ",
     "library": "var_list.py",
     "varRefreshCmd": "print(var_dic_list())"
    },
    "r": {
     "delete_cmd_postfix": ") ",
     "delete_cmd_prefix": "rm(",
     "library": "var_list.r",
     "varRefreshCmd": "cat(var_dic_list()) "
    }
   },
   "types_to_exclude": [
    "module",
    "function",
    "builtin_function_or_method",
    "instance",
    "_Feature"
   ],
   "window_display": false
  }
 },
 "nbformat": 4,
 "nbformat_minor": 1
}