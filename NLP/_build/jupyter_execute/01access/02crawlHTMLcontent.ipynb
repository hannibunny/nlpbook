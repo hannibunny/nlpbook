{
 "cells": [
  {
   "cell_type": "markdown",
   "metadata": {
    "slideshow": {
     "slide_type": "slide"
    }
   },
   "source": [
    "# Access Contents of HTML Page\n",
    "\n",
    "- Author:      Johannes Maucher\n",
    "- Last update: 2018-10-21\n",
    "\n",
    "This notebook demonstrates how to parse a HTML document and access dedicated elements of the parse tree.\n",
    "[Beautiful Soup](http://www.crummy.com/software/BeautifulSoup/bs4/doc/#) is a python package for parsing HTML. Download and install version 4 by typing:\n",
    "\n",
    "> `pip install beautifulsoup4`\n",
    "\n",
    "into the command shell. Once it is installed it can be imported by"
   ]
  },
  {
   "cell_type": "code",
   "execution_count": 1,
   "metadata": {
    "ExecuteTime": {
     "end_time": "2017-10-20T12:50:00.898000Z",
     "start_time": "2017-10-20T12:50:00.893000Z"
    },
    "slideshow": {
     "slide_type": "fragment"
    }
   },
   "outputs": [],
   "source": [
    "from bs4 import BeautifulSoup"
   ]
  },
  {
   "cell_type": "markdown",
   "metadata": {
    "slideshow": {
     "slide_type": "slide"
    }
   },
   "source": [
    "For accessing arbitrary resources by URL the python modul [urllib](https://docs.python.org/2/library/urllib.html) must also be installed. Import the method _urlopen()_ from this module:  "
   ]
  },
  {
   "cell_type": "code",
   "execution_count": 2,
   "metadata": {
    "ExecuteTime": {
     "end_time": "2017-10-20T12:50:02.246000Z",
     "start_time": "2017-10-20T12:50:02.242000Z"
    },
    "slideshow": {
     "slide_type": "fragment"
    }
   },
   "outputs": [],
   "source": [
    "from urllib.request import urlopen"
   ]
  },
  {
   "cell_type": "markdown",
   "metadata": {
    "slideshow": {
     "slide_type": "fragment"
    }
   },
   "source": [
    "If these two modules are available the HTML parse tree of the specified URL can easily be generated as follows."
   ]
  },
  {
   "cell_type": "code",
   "execution_count": 3,
   "metadata": {
    "ExecuteTime": {
     "end_time": "2017-10-20T12:50:04.344000Z",
     "start_time": "2017-10-20T12:50:03.569000Z"
    },
    "slideshow": {
     "slide_type": "fragment"
    }
   },
   "outputs": [],
   "source": [
    "#url=\"http://www.zeit.de\"\n",
    "url=\"http://www.spiegel.de\"\n",
    "#url=\"http://www.sueddeutsche.de\"\n",
    "html=urlopen(url).read()\n",
    "soup=BeautifulSoup(html,\"html.parser\")"
   ]
  },
  {
   "cell_type": "markdown",
   "metadata": {
    "slideshow": {
     "slide_type": "slide"
    }
   },
   "source": [
    "Now e.g. the title of the URL can be accessed by:"
   ]
  },
  {
   "cell_type": "code",
   "execution_count": 4,
   "metadata": {
    "ExecuteTime": {
     "end_time": "2017-10-20T12:50:06.092000Z",
     "start_time": "2017-10-20T12:50:06.086000Z"
    },
    "slideshow": {
     "slide_type": "fragment"
    }
   },
   "outputs": [
    {
     "name": "stdout",
     "output_type": "stream",
     "text": [
      "Title of page:   DER SPIEGEL | Online-Nachrichten\n"
     ]
    }
   ],
   "source": [
    "titleTag = soup.html.head.title\n",
    "print(\"Title of page:  \",titleTag.string)"
   ]
  },
  {
   "cell_type": "markdown",
   "metadata": {
    "slideshow": {
     "slide_type": "slide"
    }
   },
   "source": [
    "## Get all links in the page\n",
    "All links in the page can be retrieven by the following code (only the first 20 links are printed)"
   ]
  },
  {
   "cell_type": "code",
   "execution_count": 5,
   "metadata": {
    "ExecuteTime": {
     "end_time": "2017-10-20T12:50:07.973000Z",
     "start_time": "2017-10-20T12:50:07.951000Z"
    },
    "slideshow": {
     "slide_type": "fragment"
    }
   },
   "outputs": [
    {
     "name": "stdout",
     "output_type": "stream",
     "text": [
      "Number of links in this page:  588\n",
      "#Inhalt\n",
      "https://www.spiegel.de/\n",
      "https://abo.spiegel.de/?b=SPOHNAVABO&requestAccessToken=true&sara_icid=disp_upd_9h6L5hu8K1AAnttzYATx3hvk7taDkP&targetUrl=https%3A%2F%2Fwww.spiegel.de%2Ffuermich%2F\n",
      "https://gruppenkonto.spiegel.de/authenticate?requestAccessToken=true&targetUrl=https%3A%2F%2Fwww.spiegel.de%2Ffuermich%2F\n",
      "https://www.spiegel.de/fuermich/\n",
      "https://www.spiegel.de/\n",
      "https://www.spiegel.de/schlagzeilen/\n",
      "https://www.spiegel.de/spiegel/\n",
      "https://www.spiegel.de/audio/\n",
      "https://www.spiegel.de/fuermich/\n",
      "https://www.spiegel.de/schlagzeilen/\n",
      "https://www.spiegel.de/plus/\n",
      "https://www.spiegel.de/magazine\n",
      "https://www.spiegel.de/thema/coronavirus/\n",
      "https://www.spiegel.de/thema/klimawandel/\n",
      "https://www.spiegel.de/politik/deutschland/\n",
      "https://www.spiegel.de/ausland/\n",
      "https://www.spiegel.de/panorama/\n",
      "https://www.spiegel.de/sport/\n",
      "https://www.spiegel.de/wirtschaft/\n"
     ]
    }
   ],
   "source": [
    "hreflinks=[]\n",
    "Alllinks=soup.findAll('a') #The <a> tag defines a hyperlink, which is used to link from one page to another.\n",
    "for l in Alllinks:\n",
    "    if l.has_attr('href'):\n",
    "        hreflinks.append(l)\n",
    "print(\"Number of links in this page: \",len(hreflinks))\n",
    "for l in hreflinks[:20]:\n",
    "    print(l['href'])"
   ]
  },
  {
   "cell_type": "markdown",
   "metadata": {
    "slideshow": {
     "slide_type": "slide"
    }
   },
   "source": [
    "## Get all news titles\n",
    "Get title of all news, which are currently listed on [www.zeit.de](http://www.zeit.de):"
   ]
  },
  {
   "cell_type": "code",
   "execution_count": 6,
   "metadata": {
    "ExecuteTime": {
     "end_time": "2017-10-20T12:50:10.208000Z",
     "start_time": "2017-10-20T12:50:10.124000Z"
    },
    "slideshow": {
     "slide_type": "fragment"
    }
   },
   "outputs": [
    {
     "name": "stdout",
     "output_type": "stream",
     "text": [
      "----------------------------------------\n",
      "Tax Havens in Europa: \"Finance Ministers Often Couldn't See Through Them\"\n",
      "https://www.spiegel.de/international/world/tax-havens-in-europa-finance-ministers-often-couldn-t-see-through-them-a-d06f7761-eb3a-4a65-94a5-900912f47dc9\n",
      "----------------------------------------\n",
      "Baden-Württemberg: Seniorinnen und Senioren können Führerschein gegen ÖPNV-Ticket tauschen\n",
      "https://www.spiegel.de/auto/baden-wuerttemberg-seniorinnen-und-senioren-koennen-fuehrerschein-gegen-oepnv-ticket-tauschen-a-f4c2e16f-c32d-469a-bd32-18f879cec571\n",
      "----------------------------------------\n",
      "Scheidungsauktion in New York\": Ausverkauf einer Ehe\n",
      "https://www.spiegel.de/kultur/auktion-kunstsammlung-von-harry-und-linda-macklowe-a-073c7501-2380-482d-a322-78e257a18eb1\n",
      "----------------------------------------\n",
      "Verhaltensökonomin zur Pandemie: »Eine Impfpflicht wäre ein Vertrauensbruch«\n",
      "https://www.spiegel.de/gesundheit/diagnose/corona-interview-mit-katrin-schmelz-eine-impfpflicht-waere-ein-vertrauensbruch-a-6b5c8bcd-21e1-4508-bc0a-bc1b671897c5\n",
      "----------------------------------------\n",
      "Herlinde Koelbl über ihre Porträtsitzungen mit Angela Merkel: »Es ist frappierend, wie sich ihre Körpersprache gewandelt hat«\n",
      "https://www.spiegel.de/stil/herlinde-koelbl-ueber-angela-merkel-es-ist-frappierend-wie-sich-ihre-koerpersprache-gewandelt-hat-a-9cb2116f-5552-4ee3-820e-1e7d5058baa2\n",
      "----------------------------------------\n",
      "»Eine Impfpflicht wäre ein Vertrauensbruch«\n",
      "https://www.spiegel.de/gesundheit/diagnose/corona-interview-mit-katrin-schmelz-eine-impfpflicht-waere-ein-vertrauensbruch-a-6b5c8bcd-21e1-4508-bc0a-bc1b671897c5\n",
      "----------------------------------------\n",
      "Ampelparteien wollen Impfpflicht in einzelnen Bereichen einführen\n",
      "https://www.spiegel.de/politik/deutschland/corona-ampelparteien-wollen-impfpflicht-in-einzelnen-bereichen-einfuehren-a-ae9d2148-8abf-403e-8922-e519af9b6001\n",
      "----------------------------------------\n",
      "Die radikalen Impfgegner vom Alpthal\n",
      "https://www.spiegel.de/ausland/corona-in-der-schweiz-die-rebellen-vom-alpthal-a-1acbac11-059d-43b2-a4b5-0aa7e7057a4c\n",
      "----------------------------------------\n",
      "»Was muss eigentlich noch geschehen, um Sie zu überzeugen?«\n",
      "https://www.spiegel.de/politik/deutschland/corona-frank-walter-steinmeier-ruft-unentschlossene-zur-corona-impfung-auf-a-e301baec-9395-47f0-bd6d-de5380082a63\n",
      "----------------------------------------\n",
      "Krankenhausgesellschaft mahnt Handeln »ohne Tabus« an\n",
      "https://www.spiegel.de/wissenschaft/medizin/corona-lage-in-koeln-hendrik-wuest-verteidigt-karnevalspartys-vom-11-11-a-ad266418-9a71-40c1-9cfb-124a27fb8d18\n",
      "----------------------------------------\n",
      "Italienische Polizei durchsucht Wohnungen von radikalen Gegnern der Coronapolitik\n",
      "https://www.spiegel.de/panorama/justiz/italien-polizei-durchsucht-wohnungen-von-radikalen-gegnern-der-corona-politik-a-5be4527d-6847-49b6-8987-d7e91561edac\n",
      "----------------------------------------\n",
      "Schwesig als Ministerpräsidentin wiedergewählt\n",
      "https://www.spiegel.de/politik/deutschland/mecklenburg-vorpommern-manuela-schwesig-als-ministerpraesidentin-wiedergewaehlt-a-534bcb05-5434-4f70-a7aa-b8de2e92452e\n",
      "----------------------------------------\n",
      "Zaun und Zocker\n",
      "https://www.spiegel.de/politik/deutschland/belarus-polen-und-die-fluechtlingskrise-zaun-und-zocker-kolumne-von-nikolaus-blome-a-bda8f6d9-8bb0-4181-af37-8bd8dcddf2bb\n",
      "----------------------------------------\n",
      "Migrantengruppe an Grenzposten wächst\n",
      "https://www.spiegel.de/ausland/migrantengruppe-an-grenzposten-waechst-a-9a795a4d-bba1-409b-90e7-111c4265152a\n",
      "----------------------------------------\n",
      "»Es ist absurd, Gesten des guten Willens von Russland zu erwarten«\n",
      "https://www.spiegel.de/wirtschaft/service/russlands-rolle-in-der-gaskrise-europa-ist-sehenden-auges-in-diese-situation-gelaufen-a-cd03b0c6-41d2-41db-b902-68bb0f46580d\n",
      "----------------------------------------\n",
      "Kiribati will riesiges Meeresschutzgebiet für kommerziellen Fischfang freigeben\n",
      "https://www.spiegel.de/wissenschaft/natur/kiribati-will-riesiges-meeresschutzgebiet-fuer-kommerziellen-fischfang-freigeben-a-123554f0-9902-4be4-a78e-d67fce0d3fa7\n",
      "----------------------------------------\n",
      "Neue Antikorruptionspartei gewinnt überraschend Parlamentswahl\n",
      "https://www.spiegel.de/ausland/bulgarien-neue-anti-korruptions-partei-pp-gewinnt-parlamentswahl-a-39150176-31c4-44bd-bfb9-e666b0103637\n",
      "----------------------------------------\n",
      "Shell verlegt Hauptsitz nach Großbritannien\n",
      "https://www.spiegel.de/wirtschaft/unternehmen/shell-oelkonzern-verlegt-hauptsitz-aus-den-niederlanden-nach-grossbritannien-a-23b1a643-04c9-4519-896d-e194709f64b5\n",
      "----------------------------------------\n",
      "»Die Minister blickten oft nicht durch«\n",
      "https://www.spiegel.de/politik/deutschland/eu-steueroasen-die-minister-blickten-oft-nicht-durch-sagt-martijn-nouwen-a-4bb825b1-38ba-4b2d-bdde-5fea3fddc22c\n",
      "----------------------------------------\n",
      "Inflation könnte länger andauern als gedacht\n",
      "https://www.spiegel.de/wirtschaft/ezb-chefin-christine-lagarde-inflation-koennte-laenger-andauern-als-gedacht-a-536ff004-2d4d-4f95-a8f6-7cdce587a57f\n",
      "----------------------------------------\n",
      "»Es ist frappierend, wie sich ihre Körpersprache gewandelt hat«\n",
      "https://www.spiegel.de/stil/herlinde-koelbl-ueber-angela-merkel-es-ist-frappierend-wie-sich-ihre-koerpersprache-gewandelt-hat-a-9cb2116f-5552-4ee3-820e-1e7d5058baa2\n",
      "----------------------------------------\n",
      "Encrochat-Verfahren bringen Justiz an Belastungsgrenze\n",
      "https://www.spiegel.de/panorama/justiz/encrochat-verfahren-bringen-justiz-laut-deutschem-richterbund-an-belastungsgrenze-a-bba575ca-1e95-4b98-9d47-1455dda7d50f\n",
      "----------------------------------------\n",
      "Welcher Job lohnt sich – trotz Corona?\n",
      "https://www.spiegel.de/start/gehalt-waehrend-corona-welcher-job-lohnt-sich-trotz-pandemie-a-7f67ffe3-c517-4098-a96b-097a1219ec96\n",
      "----------------------------------------\n",
      "»Ich vergesse immer wieder, dass Sie noch am Leben sind«\n",
      "https://www.spiegel.de/panorama/leute/elon-musk-ueber-bernie-sanders-vergesse-immer-wieder-dass-sie-noch-am-leben-sind-a-6139b218-d116-4fcb-a371-001118dedb99\n",
      "----------------------------------------\n",
      "MTV ehrt lesbische Aktivistin – auf Bühne in Budapest\n",
      "https://www.spiegel.de/kultur/european-mtv-music-awards-zeichen-gegen-lgbt-feindlichkeit-in-ungarn-a-de91974f-0a8d-4433-a9ff-31a8938de04b\n",
      "----------------------------------------\n",
      "»Ich war davon besessen, eine gute Familie zu gründen, weil ich nie aus einer kam«\n",
      "https://www.spiegel.de/panorama/leute/adele-bei-oprah-winfrey-ich-war-davon-besessen-eine-gute-familie-zu-gruenden-weil-ich-nie-aus-einer-kam-a-79166684-fda6-4bd3-9e93-d95814fa7d7f\n",
      "----------------------------------------\n",
      "Ausverkauf einer Ehe\n",
      "https://www.spiegel.de/kultur/auktion-kunstsammlung-von-harry-und-linda-macklowe-a-073c7501-2380-482d-a322-78e257a18eb1\n",
      "----------------------------------------\n",
      "Das Beste von SPIEGEL+\n",
      "https://www.spiegel.de/plus/\n",
      "----------------------------------------\n",
      "Darum zögern manche noch immer, sich impfen zu lassen\n",
      "https://www.spiegel.de/gesundheit/diagnose/corona-aus-diesen-gruenden-zoegern-ungeimpfte-a-2259225d-ceac-4f57-af0c-655a66b7fa37\n",
      "----------------------------------------\n",
      "Manche leugnen ihre Corona-Erkrankung bis zum Tod\n",
      "https://www.spiegel.de/panorama/gesellschaft/corona-in-sachsen-und-thueringen-manche-leugnen-ihre-covid-19-diagnose-bis-zum-tod-a-e91f4d6b-6778-4f0c-b52c-d0f7f436b4ce\n",
      "----------------------------------------\n",
      "Die dunkle Seite von SAP\n",
      "https://www.spiegel.de/wirtschaft/unternehmen/sap-die-dunkle-seite-des-digitalkonzerns-a-bb2a621a-825c-44ee-be90-e6e74ceeea2d\n",
      "----------------------------------------\n",
      "Was bleibt von sechs Monaten Landleben-Test?\n",
      "https://www.spiegel.de/karriere/summer-of-pioneers-in-homberg-efze-was-bleibt-von-sechs-monaten-landleben-test-a-e5091132-e24c-470e-93cc-634e6d541bfb\n",
      "----------------------------------------\n",
      "Videos\n",
      "https://www.spiegel.de/video/\n",
      "----------------------------------------\n",
      "Kommentare und Kolumnen\n",
      "https://www.spiegel.de/thema/meinung/\n",
      "----------------------------------------\n",
      "Die vierte Welle ist politisch\n",
      "https://www.spiegel.de/wissenschaft/mensch/corona-pandemie-die-vierte-welle-ist-politisch-kolumne-a-9a0a057f-53f0-42cc-b63d-5d65bc80ea5c\n",
      "----------------------------------------\n",
      "Nach uns die Cash-Flut\n",
      "https://www.spiegel.de/wirtschaft/unternehmen/konzerne-nach-uns-die-cash-flut-kolumne-a-58d290aa-c3b7-4eb8-9c68-8b94e57fda9d\n",
      "----------------------------------------\n",
      "Wir sollten unser Schicksal einer künstlichen Intelligenz überlassen\n",
      "https://www.spiegel.de/politik/kuenstliche-intelligenz-wir-sollten-unser-schicksal-einer-ki-ueberlassen-a-20416d73-fbcd-42d3-a52a-85ffad7553ad\n",
      "----------------------------------------\n",
      "Schöner querdenken mit der AOK\n",
      "https://www.spiegel.de/politik/deutschland/homoeopathie-auf-kassenrezept-schoener-querdenken-mit-der-aok-kolumne-a-d68748d2-3bf2-4295-a778-20ad5c86bde8\n",
      "----------------------------------------\n",
      "Politik\n",
      "https://www.spiegel.de/politik/deutschland/\n",
      "----------------------------------------\n",
      "Coronamaßnahmen: Ampelfraktionen planen Beschränkungen für Ungeimpfte in Bus und Bahn\n",
      "https://www.spiegel.de/politik/deutschland/corona-ampel-fraktionen-planen-kontaktbeschraenkungen-fuer-ungeimpfte-a-894ac01c-4473-4751-a675-f9314c03a63a\n",
      "----------------------------------------\n",
      "Die Lage am Morgen: Willkommen im Ampel-Corona-Wirrwarr\n",
      "https://www.spiegel.de/politik/deutschland/news-coronavirus-friedrich-merz-cdu-china-usa-oesterreich-a-79cd1b25-4295-4403-a8e2-49c22269904e\n",
      "----------------------------------------\n",
      "Neuausrichtung der Klimapolitik: Wie die Ampel und die CDU eine seltene Chance vergeuden\n",
      "https://www.spiegel.de/politik/deutschland/neuausrichtung-der-klimapolitik-wie-die-ampel-und-die-cdu-eine-seltene-chance-vergeuden-a-e6cbbcf0-d16b-4b86-b372-b3a538ffd507\n",
      "----------------------------------------\n",
      "Ausland\n",
      "https://www.spiegel.de/ausland/\n",
      "----------------------------------------\n",
      "Myanmar: Inhaftierter US-Journalist Fenster überraschend freigelassen\n",
      "https://www.spiegel.de/ausland/myanmar-inhaftierter-us-journalist-danny-fenster-ueberraschend-freigelassen-a-239bec97-46b0-4e71-a702-656d8acee44a\n",
      "----------------------------------------\n",
      "Drama an belarussisch-polnischer Grenze: Irak kündigt Rückführungsflug für Geflüchtete an\n",
      "https://www.spiegel.de/ausland/belarus-irak-kuendigt-ersten-rueckfuehrungsflug-fuer-gefluechtete-an-polnischer-grenze-an-a-d6f06476-640f-4f4f-b20a-2e99ff12d2c2\n",
      "----------------------------------------\n",
      "Coronaprotest: Maori-Stamm fordert Ende von Haka-Aufführungen bei Anti-Impf-Protesten\n",
      "https://www.spiegel.de/ausland/corona-in-neuseeland-maori-fordern-ende-von-haka-tanz-bei-anti-impf-protesten-a-f9ba2aa0-d61c-47db-80ef-ea808b8a64fe\n",
      "----------------------------------------\n",
      "Panorama\n",
      "https://www.spiegel.de/panorama/\n",
      "----------------------------------------\n",
      "Coronamaßnahmen: Frankreich führt Maskenpflicht für Schüler landesweit wieder ein\n",
      "https://www.spiegel.de/panorama/bildung/corona-massnahmen-frankreich-fuehrt-maskenpflicht-fuer-schueler-landesweit-wieder-ein-a-3108f4d1-05a0-4a0f-bddc-ba62dbc4da79\n",
      "----------------------------------------\n",
      "Nach Corona-Ausbruch: China hält Tausende Studierende in Wohnheimen fest\n",
      "https://www.spiegel.de/panorama/bildung/wegen-corona-china-haelt-tausende-studierende-in-wohnheimen-fest-a-c61f3b2c-dadf-4811-86de-ce55242f411d\n",
      "----------------------------------------\n",
      "LKA-Einsatz in Suhl: Mann schießt mit Armbrust auf Polizisten\n",
      "https://www.spiegel.de/panorama/justiz/suhl-mann-schiesst-mit-armbrust-auf-polizisten-a-72e0fa39-5820-4f91-aef5-b0453ac01124\n",
      "----------------------------------------\n",
      "Sport\n",
      "https://www.spiegel.de/sport/\n",
      "----------------------------------------\n",
      "WM-Qualifikation zwischen Argentinien und Brasilien: Vier Kilometer Warteschlange – für ein Fußballticket\n",
      "https://www.spiegel.de/sport/fussball/wm-qualifikation-argentinien-vs-brasilien-vier-kilometer-lange-autoschlange-fuer-ein-tickets-a-c248d730-c4be-4ed6-9059-82b97c165ce6\n",
      "----------------------------------------\n",
      "Hamiltons furiose Aufholjagd in Brasilien: Eine Strafversetzung, die die WM entscheiden könnte\n",
      "https://www.spiegel.de/sport/formel1/formel-1-in-brasilien-lewis-hamilton-deklassiert-max-verstappen-eine-strafversetzung-die-die-wm-entscheiden-koennte-a-c9b17b36-0cd0-4679-b054-ad13a1f33a46\n",
      "----------------------------------------\n",
      "Pressestimmen zur Formel 1: »Mehr als ein Rennen: Karneval!«\n",
      "https://www.spiegel.de/sport/formel1/formel-1-in-brasilien-lewis-hamilton-und-seine-grandiose-aufholjagd-die-pressestimmen-a-b2816d2b-e761-4ff3-9788-e8b743ce4f2b\n",
      "----------------------------------------\n",
      "Wirtschaft\n",
      "https://www.spiegel.de/wirtschaft/\n",
      "----------------------------------------\n",
      "Bis zu 35 Prozent: Kartoffeln, Milch und Getreide deutlich teurer\n",
      "https://www.spiegel.de/wirtschaft/service/preisanstieg-kartoffeln-milch-und-getreide-sind-deutlich-teurer-geworden-a-1ab0fcc6-7873-469b-b842-afb560bc470c\n",
      "----------------------------------------\n",
      "Digitalisierung in der Finanzbranche: »Wer noch eine Bank überfällt, ist eigentlich schön blöd«\n",
      "https://www.spiegel.de/wirtschaft/banken-es-gibt-kaum-noch-bankraeuber-in-deutschland-digitalisierung-ist-ein-grund-a-83eb967e-bf08-4cb1-ad43-1ea82dac6565\n",
      "----------------------------------------\n",
      "255 Flugzeuge vom Typ A321: Airbus erhält Milliardenauftrag\n",
      "https://www.spiegel.de/wirtschaft/unternehmen/airbus-milliardenauftrag-von-wizz-air-eigner-indigo-ueber-a321-zukunft-fuer-den-a380-a-b6cf4016-0051-49e1-8604-06829b180269\n",
      "----------------------------------------\n",
      "Nach CEO-Abgang: Kristall-Imperium Swarovski lässt Externe ran\n",
      "https://www.manager-magazin.de/unternehmen/swarovski-ex-sap-vorstaendin-luisa-delgado-zieht-in-den-aufsichtsrat-ein-a-db9565f8-f063-4b8a-8e34-b9b646474c54\n",
      "----------------------------------------\n",
      "Erbschleicherei: Anschleichen, Abschotten, Abzocken\n",
      "https://www.manager-magazin.de/finanzen/anschleichen-abschotten-abzocken-a-86fb05e7-1dbe-46a9-99d6-8ebe5b7a510e\n",
      "----------------------------------------\n",
      "Wie Viessmann zum Techkonzern wurde: \"Wir wollten die Digitalisierung als Jahrhundertchance nutzen\"\n",
      "https://www.manager-magazin.de/unternehmen/industrie/viessmann-martin-und-maximilian-viessmann-im-interview-a-a0c2c681-0002-0001-0000-000179382807\n",
      "----------------------------------------\n",
      "Börsenkurse manager magazin\n",
      "https://boersen.manager-magazin.de\n",
      "----------------------------------------\n",
      "Wissenschaft\n",
      "https://www.spiegel.de/wissenschaft/\n",
      "----------------------------------------\n",
      "EU-Umweltagentur EEA: Feinstaubbelastung verursachte mehr als 300.000 Todesfälle in der EU\n",
      "https://www.spiegel.de/wissenschaft/mensch/feinstaubbelastung-verursachte-mehr-als-300-000-todesfaelle-in-der-eu-a-cdbece2f-76a8-4904-81a7-e40d75b3365b\n",
      "----------------------------------------\n",
      "Satellitenbild der Woche: China übt in der Wüste zielen – auf Nachbauten von US-Militärschiffen\n",
      "https://www.spiegel.de/wissenschaft/weltall/china-uebt-in-der-wueste-auf-us-militaerschiffe-zu-zielen-satellitenbild-der-woche-a-ff995eba-ccc2-46e1-a467-1dd6dd2249a6\n",
      "----------------------------------------\n",
      "Coronazahlen des RKI: Sieben-Tage-Inzidenz in Deutschland steigt erstmals über 300\n",
      "https://www.spiegel.de/wissenschaft/medizin/rki-sieben-tage-inzidenz-in-deutschland-steigt-erstmals-ueber-300-a-267a9192-70df-446b-9d5e-2dacdc59ef7c\n",
      "----------------------------------------\n",
      "Netzwelt\n",
      "https://www.spiegel.de/netzwelt/\n",
      "----------------------------------------\n",
      "Videospiel eingestellt: In China gibt es kein »Fortnite« mehr\n",
      "https://www.spiegel.de/netzwelt/games/fortnite-epic-games-stellt-chinesische-version-des-spiels-ein-a-d51e1476-47d3-447c-858f-b96c5f2fe8b5\n",
      "----------------------------------------\n",
      "E-Mail-Dienst gehackt: Betrüger versenden Fake-Mails über FBI-Server\n",
      "https://www.spiegel.de/netzwelt/web/betrueger-versenden-fake-mails-ueber-fbi-server-a-6cd014f6-1fd7-44cb-945a-cd9b8e40691b\n",
      "----------------------------------------\n",
      "Netflix-Serie »Arcane«: So gut – und erfolgreich – kann eine Spielverfilmung sein\n",
      "https://www.spiegel.de/netzwelt/games/netflix-serie-arcane-so-gut-und-erfolgreich-kann-eine-spielverfilmung-sein-a-6bd3ca11-a051-43c4-a281-aa945341ab48\n",
      "----------------------------------------\n",
      "Kultur\n",
      "https://www.spiegel.de/kultur/\n",
      "----------------------------------------\n",
      "Krimi-Vote: Wie gefiel Ihnen der Berliner »Tatort«?\n",
      "https://www.spiegel.de/kultur/tv/tatort-vote-wie-gefiel-ihnen-die-kalten-und-die-toten-mit-rubin-und-karow-a-8f733c36-e193-4ccc-9ff6-77abc16a91e5\n",
      "----------------------------------------\n",
      "Deutschrap-Star Shirin David: »Ich werde jedem mutmaßlichen Opfer einer Vergewaltigung immer glauben«\n",
      "https://www.spiegel.de/kultur/musik/shirin-david-deutschrap-star-ueber-feminismus-sexismus-und-depressionen-a-a34fbc82-6fa1-4ce6-8a3b-9bd7595e83bc\n",
      "----------------------------------------\n",
      "Vom »Prinz von Bel-Air« zum Hollywood-Held: Wo ein Will ist, ist auch ein Weg\n",
      "https://www.spiegel.de/kultur/will-smith-autobiografie-will-vom-prinz-von-bel-air-zum-hollywood-held-a-03808cb8-5b90-4b0c-97d2-8321cd7f9f8d\n",
      "----------------------------------------\n",
      "Job & Karriere\n",
      "https://www.spiegel.de/karriere/\n",
      "----------------------------------------\n",
      "Tipps von der Karriereberaterin: »Perfekte Deutschkenntnisse vorausgesetzt« – warum eigentlich?\n",
      "https://www.spiegel.de/karriere/perfekte-deutschkenntnisse-vorausgesetzt-warum-eigentlich-a-30fec702-d51e-400a-adf2-3daa8e1bd064\n",
      "----------------------------------------\n",
      "Rätsel der Woche: Wie groß ist das gelbe Dreieck?\n",
      "https://www.spiegel.de/karriere/wie-gross-ist-das-gelbe-dreieck-raetsel-der-woche-a-247a4677-1747-42a7-9f1b-318f20d65f06\n",
      "----------------------------------------\n",
      "Entwurf für Gesetzesänderung: Arbeitsministerium will 3G-Regel am Arbeitsplatz\n",
      "https://www.spiegel.de/karriere/3g-regel-am-arbeitsplatz-arbeitsministerium-will-gesetzesaenderung-a-bf1be74f-2798-40b4-8b03-e38e5ce8a39e\n",
      "----------------------------------------\n",
      "Start\n",
      "https://www.spiegel.de/start/\n",
      "----------------------------------------\n",
      "Vorurteile gegen Menschen unter 30: »Es ist heutzutage sehr schwer, jung zu sein«\n",
      "https://www.spiegel.de/start/michael-north-ueber-altersdiskriminierung-und-vorurteile-gegen-menschen-unter-30-a-4098920d-6c7c-4576-961c-33b63482bc55\n",
      "----------------------------------------\n",
      "Berufseinstieg als Psychotherapeut: »Ich tue mich schwer mit Menschen, die Depressionen haben und gleichzeitig Marihuana rauchen«\n",
      "https://www.spiegel.de/start/psychotherapeut-werden-johannes-lindner-ueber-studium-ausbildung-und-erste-patienten-a-84e1a9cf-d880-437a-a958-5fad1a3d8927\n",
      "----------------------------------------\n",
      "Das Beste aus »Kochen ohne Kohle«: Fünf Kartoffelrezepte, die uns durch den Winter bringen\n",
      "https://www.spiegel.de/start/kochen-ohne-kohle-fuenf-guenstige-rezepte-mit-kartoffeln-fuer-den-winter-a-79e65540-9eda-41bc-af6f-c603cc4eb61d\n",
      "----------------------------------------\n",
      "Geschichte\n",
      "https://www.spiegel.de/geschichte/\n",
      "----------------------------------------\n",
      "Von der Flutkatastrophe freigelegt: Wie ein Geschichtslehrer einen vermeintlichen Nazi-Schatz hob\n",
      "https://www.spiegel.de/geschichte/hagen-wie-die-flutkatastrophe-einen-vermeintlichen-nazi-schatz-freilegte-a-c7b7a211-59e3-48a9-804f-3096145f0437\n",
      "----------------------------------------\n",
      "Was macht eigentlich eine Kneipenhistorikerin?: »Unter bürgerlichen Frauen wurde sehr viel getrunken«\n",
      "https://www.spiegel.de/geschichte/kneipenhistorikerin-mareen-heying-unter-buergerlichen-frauen-wurde-sehr-viel-getrunken-a-24210431-39ac-4637-aecb-f58a50f2c797\n",
      "----------------------------------------\n",
      "Neue Forschungen über NS-Verschwörungserzählungen: Hitler? Eilt in Frauenkleidern durch Dublin!\n",
      "https://www.spiegel.de/geschichte/ns-verschwoerungserzaehlungen-historiker-richard-evans-untersucht-mythen-rund-ums-dritte-reich-a-c9afee6e-2f05-481e-b172-6309fdcb131c\n",
      "----------------------------------------\n",
      "Tests\n",
      "https://www.spiegel.de/tests/\n",
      "----------------------------------------\n",
      "Lichtwecker im Test: Wenn im Schlafzimmer eine künstliche Sonne aufgeht\n",
      "https://www.spiegel.de/tests/elektronik/lichtwecker-im-test-philips-google-lumie-beurer-tfa-a-5541689b-f1d7-4999-b5b0-7aac1cb59936\n",
      "----------------------------------------\n",
      "Bestseller Link\n",
      "https://www.spiegel.de/kultur/bestseller-buecher-belletristik-sachbuch-auf-spiegel-liste-a-458623.html\n",
      "----------------------------------------\n",
      "Mobilität\n",
      "https://www.spiegel.de/auto/\n",
      "----------------------------------------\n",
      "Großer Preisvergleich: Wo Bus- und Bahnfahren besonders teuer ist – und wo billig\n",
      "https://www.spiegel.de/auto/fahrkultur/bvg-hvv-mvg-und-co-wo-bus-und-bahnfahren-besonders-teuer-ist-und-wo-billig-a-d4225435-94e7-4c45-8009-392e97940702\n",
      "----------------------------------------\n",
      "Schon nach einem Glas: Alkohol beeinträchtigt Fahrtüchtigkeit auf E-Scootern erheblich\n",
      "https://www.spiegel.de/auto/e-scooter-alkohol-schwaecht-fahrtuechtigkeit-der-nutzer-stark-a-4f3301d0-7e6e-434b-b96e-1728f6f3aeee\n",
      "----------------------------------------\n",
      "Dank Assistenzsystemen: Versicherer rechnen mit bis zu 30 Prozent weniger Autounfällen\n",
      "https://www.spiegel.de/auto/fahrerassistenzsysteme-versicherer-rechnen-mit-bis-zu-30-prozent-weniger-autounfaellen-a-b07b1c17-14dc-4a7e-a0c5-2847bc577583\n",
      "----------------------------------------\n",
      "SPIEGEL Bestseller: Sachbuch Hardcover\n",
      "https://www.spiegel.de/kultur/literatur/spiegel-bestseller-hardcover-a-1025428.html\n",
      "----------------------------------------\n",
      "Leben\n",
      "https://www.spiegel.de/thema/leben/\n",
      "----------------------------------------\n",
      "»Ich war ein kompletter Roboter. Es war eine Tortur«\n",
      "https://www.spiegel.de/gesundheit/michael-winterhoff-verordnete-psychopharmaka-an-kinder-ich-war-ein-kompletter-roboter-a-53da5aef-52eb-4d62-84ab-cea38c64b30d\n",
      "----------------------------------------\n",
      "Geldmaschinen auf vier Pfoten\n",
      "https://www.spiegel.de/familie/paw-patrol-erfinder-keith-chapman-geldmaschinen-auf-vier-pfoten-a-26dbf60d-3bf8-42e5-839a-b7345395698e\n",
      "----------------------------------------\n",
      "Wie richtige Ernährung den Körper ins Gleichgewicht bringen kann\n",
      "https://www.spiegel.de/gesundheit/ayurveda-mit-ernaehrung-den-stoffwechsel-in-balance-bringen-a-8ff96d9b-ead1-4e04-95f3-7af6bf1a32f6?d\n",
      "----------------------------------------\n",
      "Tüten voller Verheißung\n",
      "https://www.spiegel.de/stil/saatgut-fuer-die-naechste-garten-saison-tueten-voller-verheissung-a-2cad4a40-6cd4-424e-ae04-4dd7a4d70a47\n",
      "----------------------------------------\n",
      "Die Kunst der grünen Bahnfahrt\n",
      "https://www.spiegel.de/reise/europa/buecher-ueber-zugreisen-die-kunst-der-gruenen-bahnfahrt-a-784adb80-bffd-48a2-9d50-2a5c15eec0fb\n",
      "----------------------------------------\n",
      "Das Seelentröster-Abc\n",
      "https://www.spiegel.de/psychologie/selbstfuersorge-das-seelentroester-abc-a-0ceea282-0002-0001-0000-000179750312\n",
      "----------------------------------------\n",
      "Produkte im Test\n",
      "https://www.spiegel.de/tests/\n",
      "----------------------------------------\n",
      "So wird das Homeoffice zum Fitnessstudio\n",
      "https://www.spiegel.de/tests/sportgeraete-im-test-so-wird-das-homeoffice-zum-fitnessstudio-a-42a80594-3a92-4bcf-a559-fc28805cf4ba\n",
      "----------------------------------------\n",
      "Blu-ray-Player sind »gut« – fast alle\n",
      "https://www.spiegel.de/netzwelt/gadgets/blu-ray-player-stiftung-warentest-bewertet-fast-alle-mit-gut-a-1ce8f205-c76e-423a-a555-189ecc544fed\n",
      "----------------------------------------\n",
      "Sicher und bequem am Fahrrad arbeiten\n",
      "https://www.spiegel.de/tests/fahrrad-zubehoer/montagestaender-im-test-sicher-und-bequem-am-fahrrad-arbeiten-a-db27278f-1dd7-4665-ae79-970b0bd85c90\n",
      "----------------------------------------\n",
      "Diese Standluftpumpen machen ordentlich Druck\n",
      "https://www.spiegel.de/tests/fahrrad-zubehoer/standluftpumpen-im-test-druck-machen-a-68667955-c342-4a80-9721-f350f746c663\n",
      "----------------------------------------\n",
      "Dein SPIEGEL\n",
      "https://www.spiegel.de/deinspiegel/\n",
      "----------------------------------------\n",
      "Warum sind Tränen salzig?\n",
      "https://www.spiegel.de/deinspiegel/raetsel-des-alltags-warum-sind-traenen-salzig-a-1f7ec844-0002-0001-0000-000176028054\n",
      "----------------------------------------\n",
      "»Gewinnen macht immer am meisten Spaß«\n",
      "https://www.spiegel.de/deinspiegel/almuth-schult-gewinnen-macht-immer-am-meisten-spass-a-f170a968-0002-0001-0000-000176028056\n",
      "----------------------------------------\n",
      "Bild des Tages\n",
      "https://www.spiegel.de/fotostrecke/bilder-des-tages-fotos-aus-deutschland-und-der-welt-fotostrecke-122824.html\n"
     ]
    }
   ],
   "source": [
    "#print soup.get_text()hreflinks=[]\n",
    "AllTitles=soup.findAll('h2')\n",
    "alltitles=[]\n",
    "alltitleLinks=[]\n",
    "for l in AllTitles:\n",
    "    #print(l)\n",
    "    try:\n",
    "        title = l.find('a')['title']\n",
    "        link = l.find('a')['href']\n",
    "        print('-'*40)\n",
    "        print(title)\n",
    "        print(link)\n",
    "        alltitles.append(title)\n",
    "        alltitleLinks.append(link)\n",
    "    except:\n",
    "        pass"
   ]
  },
  {
   "cell_type": "markdown",
   "metadata": {
    "slideshow": {
     "slide_type": "slide"
    }
   },
   "source": [
    "## Get all images of the page\n",
    "\n",
    "Get url of all images, which are currently displayed on [www.zeit.de](http://www.zeit.de):"
   ]
  },
  {
   "cell_type": "code",
   "execution_count": 7,
   "metadata": {
    "ExecuteTime": {
     "end_time": "2017-10-20T12:50:12.456000Z",
     "start_time": "2017-10-20T12:50:12.440000Z"
    },
    "slideshow": {
     "slide_type": "fragment"
    }
   },
   "outputs": [
    {
     "name": "stdout",
     "output_type": "stream",
     "text": [
      "data:image/gif;base64,R0lGODlhAQABAAAAACH5BAEKAAEALAAAAAABAAEAAAICTAEAOw==\n",
      "https://cdn.prod.www.spiegel.de/images/a4262e76-bd5f-40f5-8cf3-b8da59ddc739_w872_r1.778_fpx48_fpy45.jpg\n",
      "https://cdn.prod.www.spiegel.de/images/706de5a3-10a3-4213-87c5-14b32fbeabeb_w117_r1.33_fpx54_fpy51.jpg\n",
      "https://cdn.prod.www.spiegel.de/images/706de5a3-10a3-4213-87c5-14b32fbeabeb_w488_r1.778_fpx54_fpy51.jpg\n",
      "https://cdn.prod.www.spiegel.de/images/58bf8c1e-e932-4142-9ba8-13be8d6a6267_w117_r1.33_fpx47.97_fpy49.98.jpg\n",
      "https://cdn.prod.www.spiegel.de/images/58bf8c1e-e932-4142-9ba8-13be8d6a6267_w117_r1.33_fpx47.97_fpy49.98.jpg\n",
      "https://cdn.prod.www.spiegel.de/images/58bf8c1e-e932-4142-9ba8-13be8d6a6267_w488_r1.778_fpx47.97_fpy49.98.jpg\n",
      "https://cdn.prod.www.spiegel.de/images/58bf8c1e-e932-4142-9ba8-13be8d6a6267_w488_r1.778_fpx47.97_fpy49.98.jpg\n",
      "https://cdn.prod.www.spiegel.de/images/966809db-288f-4387-92ce-cd69a90ebdaf_w488_r1.778_fpx43.2_fpy50.jpg\n",
      "https://cdn.prod.www.spiegel.de/images/966809db-288f-4387-92ce-cd69a90ebdaf_w488_r1.778_fpx43.2_fpy50.jpg\n"
     ]
    }
   ],
   "source": [
    "imglinks=[]\n",
    "AllImgs=soup.findAll('img')\n",
    "for l in AllImgs:\n",
    "    if l.has_attr('src'):\n",
    "       imglinks.append(l)\n",
    "\n",
    "for l in imglinks[:10]:\n",
    "    print(l['src'])"
   ]
  },
  {
   "cell_type": "markdown",
   "metadata": {
    "slideshow": {
     "slide_type": "slide"
    }
   },
   "source": [
    "## Get entire text of a news-article"
   ]
  },
  {
   "cell_type": "code",
   "execution_count": 8,
   "metadata": {
    "ExecuteTime": {
     "end_time": "2017-10-20T13:09:24.145000Z",
     "start_time": "2017-10-20T13:09:23.833000Z"
    },
    "slideshow": {
     "slide_type": "fragment"
    }
   },
   "outputs": [
    {
     "name": "stdout",
     "output_type": "stream",
     "text": [
      "The Yacht harbor in Valletta, Malta: \"The usual suspects\"\n",
      "For decades, a handful of European member states have lured large corporations to set up shop there in exchange for extremely low tax rates that have meant billions in extra earnings. Martijn Nouwen, 37, spent years conducting detective work on the practice, collecting more than 2,500 internal documents from a European Union panel that is supposed to be working to combat these tax-dumping practices. Together with its partners in the European Investigative Collaborations (EIC), DER SPIEGEL reviewed the documents and revealed how nearly 25 years of efforts by the Code of Conduct Group to stop competition for lower corporate tax rates within the EU have been in vain. In an interview, Nouwen, who is now an assistant professor at the University of Leiden, discusses the reasons, some of which are to be found in Berlin.\n",
      "Tax expert Martijn Nouwen\n",
      "Andreas Chudowski / DER SPIEGEL\n",
      "DER SPIEGEL: Mr. Nouwen, the EU has been trying for a quarter of a century to thwart the business of European tax havens like Luxembourg, Cyprus and the Netherlands. Why has the success so far been modest?\n",
      "Nouwen: Above all, there is a lack of transparency. The deliberations of the Code of Conduct Group, which the European Union created for this purpose, take place behind closed doors. Its documents and minutes are confidential. It was known that this body had an important function, but how it works and whether it was effective in tackling harmful tax practices of countries was largely unknown until now. The aim of my work was above all to shed more light on this darkness.\n",
      "DER SPIEGEL: You have analyzed around 2,500 internal EU documents from the Group. What is your verdict?\n",
      "Nouwen: The results are mixed. The group has reached impressive results, and tax competition has become a much more transparent and regulated game. Many harmful competitive tax regimes of countries have been changed or eliminated. At the same time, when a tax loophole was plugged a new one was created and exploited by member states. For example, tax avoidance with aggressive tax business models, letterbox companies and tax rulings are still not adequately addressed. Both small and large member states are still frustrating the development of effective solutions for these problems.\n",
      "DER SPIEGEL: The goal of governments has always been to lure corporations into their own countries with tax advantages. In this way, they wanted to secure additional income at the expense of their neighbors. Where do the fronts run in this competition?\n",
      "Nouwen: On the one side there are the usual suspects. Small EU countries like Cyprus and Malta, but also the Netherlands, Belgium and Luxembourg. They blocked the group's work in many areas wherever they could. Especially during the group’s first 15 years of existence. But large countries were also often reluctant. Germany, for example, is still blocking an agreement on the publication of tax rulings granted by tax authorities to multinationals, because it wants to take into account the competencies of its federal states. Britain, on the other hand, had the interests of its low-tax islands Jersey or Guernsey in mind. This made the group's work even more difficult.\n",
      "DER SPIEGEL: What role did the European finance ministers play?\n",
      "Nouwen: They had set up the group to stop harmful tax practices and to keep the (European) Commission from using the legal state aid weapon. By cleaning their corporate tax systems themselves in the group, member states retained their much-cherished tax sovereignty, while this saved the Commission considerable state aid investigation efforts. Strangely enough, however, the ministers were happy to have little to do with the body after the group’s first cleaning exercise was finished in 2003. Since then, they just adopt the sixth-monthly progress reports of the group without any discussion. Not even if member states violate their commitment to repeal a regime, or block of frustrate solutions on important tax avoidance matters.\n",
      "DER SPIEGEL: What was the reason for that?\n",
      "Nouwen: For one thing, the tax avoidance problems are often so complicated that finance ministers and their technical assistants often couldn't see through them. For another, the governments wanted to avoid disputes. After all, there were other, often more important, political issues in Europe. They had to choose their battles, and tackling tax avoidance was certainly often not one of them.\n",
      "DER SPIEGEL: Do you think a reform of the group is possible?\n",
      "Nouwen: Yes, and it is urgently needed. Steps must be taken to increase the transparency and democratic legitimacy of the group. The group needs a political chair with high-level leadership to reinforce link with (EU) finance ministers in ECOFIN, and international organization like the Organization for Economic Cooperation and Development. This is currently lacking. It would also be helpful if the chair were present at the deliberations of the finance ministers. That would give the issue greater prominence. It is important that the finance ministers actually discuss harmful tax competition and also name and shame the troublemakers in the group. What is lacking above all is transparency.\n",
      "DER SPIEGEL: How could this be achieved?\n",
      "Nouwen: There are sensitive proposals on the table. For example, the Dutch government has recently suggested publishing a detailed report with member states’ positions after each meeting of the group. That would be a step in the right direction, but unfortunately several member states, including Germany, rejected this proposal. This does not increase credibility, but creates new mistrust.\n",
      "\n",
      "SPIEGEL+-Zugang wird gerade auf einem anderen Gerät genutzt\n",
      "\n",
      "\n",
      "SPIEGEL+ kann nur auf einem Gerät zur selben Zeit genutzt werden.\n",
      "\n",
      "\n",
      "Klicken Sie auf den Button, spielen wir den Hinweis auf dem anderen Gerät aus und Sie können SPIEGEL+ weiter nutzen.\n",
      "\n",
      "\n",
      "The Yacht harbor in Valletta, Malta: \"The usual suspects\"\n",
      "Tax expert Martijn Nouwen\n",
      "Andreas Chudowski / DER SPIEGEL\n",
      "Melden Sie sich an und diskutieren Sie mit\n"
     ]
    }
   ],
   "source": [
    "IDX=0\n",
    "suburl=alltitleLinks[IDX]\n",
    "try:\n",
    "    html=urlopen(suburl).read() #works if subdomains are referenced by absolute path\n",
    "except:\n",
    "    html=urlopen(url+suburl).read() #works if subdomains are referenced by relative path\n",
    "soup=BeautifulSoup(html,\"html.parser\")\n",
    "AllP=soup.findAll('p')\n",
    "for p in AllP:\n",
    "    print(p.get_text())"
   ]
  },
  {
   "cell_type": "markdown",
   "metadata": {
    "collapsed": true,
    "slideshow": {
     "slide_type": "skip"
    }
   },
   "source": [
    "## Questions and Remarks\n",
    "1. This notebook demonstrates how raw-text can be crawled from news-sites. But what is the drawback of this method?\n",
    "2. Execute the entire notebook also for `www.spiegel.de` and `www.sueddeutsche.de`.\n",
    "3. What do you observe? How to solve the problem?"
   ]
  },
  {
   "cell_type": "code",
   "execution_count": null,
   "metadata": {
    "collapsed": true
   },
   "outputs": [],
   "source": []
  }
 ],
 "metadata": {
  "celltoolbar": "Slideshow",
  "kernelspec": {
   "display_name": "Python 3",
   "language": "python",
   "name": "python3"
  },
  "language_info": {
   "codemirror_mode": {
    "name": "ipython",
    "version": 3
   },
   "file_extension": ".py",
   "mimetype": "text/x-python",
   "name": "python",
   "nbconvert_exporter": "python",
   "pygments_lexer": "ipython3",
   "version": "3.8.0"
  },
  "nav_menu": {},
  "toc": {
   "base_numbering": 1,
   "nav_menu": {},
   "number_sections": true,
   "sideBar": true,
   "skip_h1_title": false,
   "title_cell": "Table of Contents",
   "title_sidebar": "Contents",
   "toc_cell": false,
   "toc_position": {},
   "toc_section_display": "block",
   "toc_window_display": false
  },
  "varInspector": {
   "cols": {
    "lenName": 16,
    "lenType": 16,
    "lenVar": 40
   },
   "kernels_config": {
    "python": {
     "delete_cmd_postfix": "",
     "delete_cmd_prefix": "del ",
     "library": "var_list.py",
     "varRefreshCmd": "print(var_dic_list())"
    },
    "r": {
     "delete_cmd_postfix": ") ",
     "delete_cmd_prefix": "rm(",
     "library": "var_list.r",
     "varRefreshCmd": "cat(var_dic_list()) "
    }
   },
   "types_to_exclude": [
    "module",
    "function",
    "builtin_function_or_method",
    "instance",
    "_Feature"
   ],
   "window_display": false
  }
 },
 "nbformat": 4,
 "nbformat_minor": 1
}