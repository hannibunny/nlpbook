{
 "cells": [
  {
   "cell_type": "markdown",
   "metadata": {
    "slideshow": {
     "slide_type": "slide"
    }
   },
   "source": [
    "# Access Contents of HTML Page\n",
    "\n",
    "- Author:      Johannes Maucher\n",
    "- Last update: 2018-10-21\n",
    "\n",
    "This notebook demonstrates how to parse a HTML document and access dedicated elements of the parse tree.\n",
    "[Beautiful Soup](http://www.crummy.com/software/BeautifulSoup/bs4/doc/#) is a python package for parsing HTML. Download and install version 4 by typing:\n",
    "\n",
    "> `pip install beautifulsoup4`\n",
    "\n",
    "into the command shell. Once it is installed it can be imported by"
   ]
  },
  {
   "cell_type": "code",
   "execution_count": 1,
   "metadata": {
    "ExecuteTime": {
     "end_time": "2017-10-20T12:50:00.898000Z",
     "start_time": "2017-10-20T12:50:00.893000Z"
    },
    "slideshow": {
     "slide_type": "fragment"
    }
   },
   "outputs": [],
   "source": [
    "from bs4 import BeautifulSoup"
   ]
  },
  {
   "cell_type": "markdown",
   "metadata": {
    "slideshow": {
     "slide_type": "slide"
    }
   },
   "source": [
    "For accessing arbitrary resources by URL the python modul [urllib](https://docs.python.org/2/library/urllib.html) must also be installed. Import the method _urlopen()_ from this module:  "
   ]
  },
  {
   "cell_type": "code",
   "execution_count": 2,
   "metadata": {
    "ExecuteTime": {
     "end_time": "2017-10-20T12:50:02.246000Z",
     "start_time": "2017-10-20T12:50:02.242000Z"
    },
    "slideshow": {
     "slide_type": "fragment"
    }
   },
   "outputs": [],
   "source": [
    "from urllib.request import urlopen"
   ]
  },
  {
   "cell_type": "markdown",
   "metadata": {
    "slideshow": {
     "slide_type": "fragment"
    }
   },
   "source": [
    "If these two modules are available the HTML parse tree of the specified URL can easily be generated as follows."
   ]
  },
  {
   "cell_type": "code",
   "execution_count": 3,
   "metadata": {
    "ExecuteTime": {
     "end_time": "2017-10-20T12:50:04.344000Z",
     "start_time": "2017-10-20T12:50:03.569000Z"
    },
    "slideshow": {
     "slide_type": "fragment"
    }
   },
   "outputs": [],
   "source": [
    "#url=\"http://www.zeit.de\"\n",
    "url=\"http://www.spiegel.de\"\n",
    "#url=\"http://www.sueddeutsche.de\"\n",
    "html=urlopen(url).read()\n",
    "soup=BeautifulSoup(html,\"html.parser\")"
   ]
  },
  {
   "cell_type": "markdown",
   "metadata": {
    "slideshow": {
     "slide_type": "slide"
    }
   },
   "source": [
    "Now e.g. the title of the URL can be accessed by:"
   ]
  },
  {
   "cell_type": "code",
   "execution_count": 4,
   "metadata": {
    "ExecuteTime": {
     "end_time": "2017-10-20T12:50:06.092000Z",
     "start_time": "2017-10-20T12:50:06.086000Z"
    },
    "slideshow": {
     "slide_type": "fragment"
    }
   },
   "outputs": [
    {
     "name": "stdout",
     "output_type": "stream",
     "text": [
      "Title of page:   DER SPIEGEL | Online-Nachrichten\n"
     ]
    }
   ],
   "source": [
    "titleTag = soup.html.head.title\n",
    "print(\"Title of page:  \",titleTag.string)"
   ]
  },
  {
   "cell_type": "markdown",
   "metadata": {
    "slideshow": {
     "slide_type": "slide"
    }
   },
   "source": [
    "## Get all links in the page\n",
    "All links in the page can be retrieven by the following code (only the first 20 links are printed)"
   ]
  },
  {
   "cell_type": "code",
   "execution_count": 5,
   "metadata": {
    "ExecuteTime": {
     "end_time": "2017-10-20T12:50:07.973000Z",
     "start_time": "2017-10-20T12:50:07.951000Z"
    },
    "slideshow": {
     "slide_type": "fragment"
    }
   },
   "outputs": [
    {
     "name": "stdout",
     "output_type": "stream",
     "text": [
      "Number of links in this page:  563\n",
      "#Inhalt\n",
      "https://www.spiegel.de/\n",
      "https://abo.spiegel.de/?b=SPOHNAVABO&requestAccessToken=true&sara_icid=disp_upd_9h6L5hu8K1AAnttzYATx3hvk7taDkP&targetUrl=https%3A%2F%2Fwww.spiegel.de%2Ffuermich%2F\n",
      "https://gruppenkonto.spiegel.de/authenticate?requestAccessToken=true&targetUrl=https%3A%2F%2Fwww.spiegel.de%2Ffuermich%2F\n",
      "https://www.spiegel.de/fuermich/\n",
      "https://www.spiegel.de/\n",
      "https://www.spiegel.de/schlagzeilen/\n",
      "https://www.spiegel.de/plus/\n",
      "https://www.spiegel.de/audio/\n",
      "https://www.spiegel.de/fuermich/\n",
      "https://www.spiegel.de/schlagzeilen/\n",
      "https://www.spiegel.de/plus/\n",
      "https://www.spiegel.de/thema/coronavirus/\n",
      "https://www.spiegel.de/thema/us_praesidentschaftswahl_2020/\n",
      "https://www.spiegel.de/thema/klimawandel/\n",
      "https://www.spiegel.de/politik/deutschland/\n",
      "https://www.spiegel.de/politik/ausland/\n",
      "https://www.spiegel.de/panorama/\n",
      "https://www.spiegel.de/sport/\n",
      "https://www.spiegel.de/wirtschaft/\n"
     ]
    }
   ],
   "source": [
    "hreflinks=[]\n",
    "Alllinks=soup.findAll('a') #The <a> tag defines a hyperlink, which is used to link from one page to another.\n",
    "for l in Alllinks:\n",
    "    if l.has_attr('href'):\n",
    "        hreflinks.append(l)\n",
    "print(\"Number of links in this page: \",len(hreflinks))\n",
    "for l in hreflinks[:20]:\n",
    "    print(l['href'])"
   ]
  },
  {
   "cell_type": "markdown",
   "metadata": {
    "slideshow": {
     "slide_type": "slide"
    }
   },
   "source": [
    "## Get all news titles\n",
    "Get title of all news, which are currently listed on [www.zeit.de](http://www.zeit.de):"
   ]
  },
  {
   "cell_type": "code",
   "execution_count": 6,
   "metadata": {
    "ExecuteTime": {
     "end_time": "2017-10-20T12:50:10.208000Z",
     "start_time": "2017-10-20T12:50:10.124000Z"
    },
    "slideshow": {
     "slide_type": "fragment"
    }
   },
   "outputs": [
    {
     "name": "stdout",
     "output_type": "stream",
     "text": [
      "----------------------------------------\n",
      "SPIEGEL-Klimabericht: Ist das 1,5-Grad-Ziel noch zu schaffen?\n",
      "https://www.spiegel.de/wissenschaft/mensch/klima-krise-ist-das-1-5-grad-ziel-noch-zu-schaffen-a-695a6d46-e4f2-4194-8aa1-a14379b3f470\n",
      "----------------------------------------\n",
      "Mit Radartechnologie: Düsseldorf testet kontaktlosen Ampeltaster\n",
      "https://www.spiegel.de/auto/duesseldorf-stadt-testet-kontaktlosen-ampeltaster-mit-radartechnologie-a-6e79504e-e6a4-4bf6-8c8e-f0b56cea0f7e\n",
      "----------------------------------------\n",
      "Frankreich: Im Namen der Sicherheit\n",
      "https://www.spiegel.de/politik/ausland/frankreich-umstrittenes-gesetz-frontalangriff-im-namen-der-sicherheit-a-8f338c2f-1f4d-4c90-ae6d-d068efa3f17c\n",
      "----------------------------------------\n",
      "Daimler-Vorstand gegen Betriebsrat: Eskalation in Untertürkheim\n",
      "https://www.spiegel.de/wirtschaft/unternehmen/eskalation-in-untertuerkheim-a-b4039af2-5557-4d2c-9137-eff59afecec2\n",
      "----------------------------------------\n",
      "Wegen steigender Neuinfektionen: Zahl der Erstanträge auf US-Arbeitslosenhilfe wächst wieder\n",
      "https://www.spiegel.de/wirtschaft/soziales/zahl-der-erstantraege-auf-us-arbeitslosenhilfe-waechst-wieder-a-88ec53ac-294c-41dd-b505-0a83ea102f82\n",
      "----------------------------------------\n",
      "Corona-Pandemie\n",
      "https://www.spiegel.de/thema/coronavirus/\n",
      "----------------------------------------\n",
      "Wir sind, was wir uns erlauben\n",
      "https://www.spiegel.de/politik/deutschland/corona-massnahmen-wir-sind-was-wir-uns-erlauben-a-404388fd-de20-4e49-950d-49f73ae11368\n",
      "----------------------------------------\n",
      "Erste Einigung – nur noch eine Person auf 20 Quadratmetern im Handel\n",
      "https://www.spiegel.de/politik/deutschland/erste-einigung-nur-noch-eine-person-auf-20-quadratmeter-im-handel-a-3ab7f797-16ca-4a29-bd0c-907e09982789\n",
      "----------------------------------------\n",
      "»Eine Katastrophe für Menschen mit psychischen Vorerkrankungen«\n",
      "https://www.spiegel.de/psychologie/depressionen-im-corona-lockdown-wie-es-menschen-mit-psychischen-erkrankungen-geht-a-91b2a766-c024-48fb-9430-be4029cfc89f\n",
      "----------------------------------------\n",
      "EU-Bürger sollen wieder in die USA reisen können\n",
      "https://www.spiegel.de/wissenschaft/medizin/corona-news-am-mittwoch-die-wichtigsten-entwicklungen-zu-sars-cov-2-und-covid-19-a-e5218e94-f986-41a8-87a6-545f8aeffdfd\n",
      "----------------------------------------\n",
      "Wie ich meinen Frieden mit Corona gemacht habe\n",
      "https://www.spiegel.de/netzwelt/web/corona-krise-wie-ich-meinen-frieden-mit-corona-gemacht-habe-kolumne-a-4a873dc0-97f8-44bc-8991-0066b80615db\n",
      "----------------------------------------\n",
      "Wann geht die Skisaison los?\n",
      "https://www.spiegel.de/reise/europa/start-der-ski-saison-wann-geht-s-los-a-00b9dc4a-f4f9-4f2f-b3a7-0113000697a3\n",
      "----------------------------------------\n",
      "Im Namen der Sicherheit\n",
      "https://www.spiegel.de/politik/ausland/frankreich-umstrittenes-gesetz-frontalangriff-im-namen-der-sicherheit-a-8f338c2f-1f4d-4c90-ae6d-d068efa3f17c\n",
      "----------------------------------------\n",
      "Wichtiger Wirecard-Zeuge will nicht aussagen\n",
      "https://www.spiegel.de/wirtschaft/unternehmen/wichtiger-wirecard-zeuge-will-nicht-aussagen-a-b9812a01-0453-452d-99d3-bb366ded625c\n",
      "----------------------------------------\n",
      "»Ich hätte Andrea Nahles stärker unterstützen müssen«\n",
      "https://www.spiegel.de/politik/deutschland/kevin-kuehnert-ich-haette-andrea-nahles-staerker-unterstuetzen-muessen-a-50bddf93-bde1-46c7-b912-9082420a3bee\n",
      "----------------------------------------\n",
      "Auto fährt ans Tor des Bundeskanzleramts\n",
      "https://www.spiegel.de/politik/deutschland/berlin-auto-faehrt-in-tor-des-bundeskanzleramts-a-8f4b0dac-daed-4ba4-9c0c-4bfeca90b898\n",
      "----------------------------------------\n",
      "Staatsanwaltschaft beantragt Aufhebung der Immunität Ramelows\n",
      "https://www.spiegel.de/politik/deutschland/bodo-ramelow-staatsanwaltschaft-beantragt-aufhebung-der-immunitaet-a-2f0e7232-d83b-4de5-a418-ad4dffdad3ba\n",
      "----------------------------------------\n",
      "Es wird einsam um Erdoğan\n",
      "https://www.spiegel.de/politik/ausland/tuerkei-regierungskrise-es-wird-einsam-um-recep-tayyip-erdogan-a-a7682789-5e41-4385-9625-006dc211be8d\n",
      "----------------------------------------\n",
      "Europäisches Einheitspatent kommt – nach fast 50 Jahren Verhandlung\n",
      "https://www.spiegel.de/wirtschaft/service/europaeisches-einheitspatent-kommt-nach-fast-50-jahren-verhandlung-a-99fecdde-5434-4837-99c5-23f3741eb521\n",
      "----------------------------------------\n",
      "Dreimal insolvent, aber Weltmarktführer\n",
      "https://www.spiegel.de/wirtschaft/unternehmen/giesserei-in-koenigsbronn-dreimal-insolvent-jetzt-weltmarktfuehrer-a-00000000-0002-0001-0000-000174103626\n",
      "----------------------------------------\n",
      "Eskalation in Untertürkheim\n",
      "https://www.spiegel.de/wirtschaft/unternehmen/eskalation-in-untertuerkheim-a-b4039af2-5557-4d2c-9137-eff59afecec2\n",
      "----------------------------------------\n",
      "Ist das 1,5-Grad-Ziel noch zu schaffen?\n",
      "https://www.spiegel.de/wissenschaft/mensch/klima-krise-ist-das-1-5-grad-ziel-noch-zu-schaffen-a-695a6d46-e4f2-4194-8aa1-a14379b3f470\n",
      "----------------------------------------\n",
      "»Ein Kind zu verlieren, bedeutet eine fast unerträgliche Trauer«\n",
      "https://www.spiegel.de/panorama/leute/herzogin-meghan-berichtet-in-der-new-york-times-von-fehlgeburt-a-0bda695c-4854-42d5-867c-c1b0d8a1a7c3\n",
      "----------------------------------------\n",
      "Barack Obamas Studentenbude steht zum Verkauf – für 1,5 Millionen Dollar\n",
      "https://www.spiegel.de/panorama/leute/barack-obama-studentenbude-in-new-york-city-steht-zum-verkauf-fuer-1-5-millionen-dollar-a-24eaec90-af08-409d-ac41-9b05dc08942d\n",
      "----------------------------------------\n",
      "Wo ist die Bombe?\n",
      "https://www.spiegel.de/kultur/tv/das-verhoer-in-der-nacht-zdf-tv-film-nach-daniel-kehlmann-kritik-a-b9b41001-0503-41e7-afa2-b849e5f3b9a2\n",
      "----------------------------------------\n",
      "»Wir werden die außerirdische Lebensform untersuchen«\n",
      "https://www.spiegel.de/panorama/utah-monolith-in-wueste-entdeckt-a-c39a663e-d8b6-4c33-ab27-af925b1b7c24\n",
      "----------------------------------------\n",
      "So schützen Sie sich vor Cyberkriminellen\n",
      "https://www.spiegel.de/netzwelt/web/black-friday-so-kommen-sie-sicher-durch-die-online-rabattschlacht-a-b9210839-41f2-49a4-81ec-63c431cd8287\n",
      "----------------------------------------\n",
      "Wie Sie am Black Friday echte Schnäppchen machen\n",
      "https://www.spiegel.de/wirtschaft/service/black-friday-so-schnappen-sie-sich-die-besten-schnaeppchen-a-00000000-0002-0001-0000-000173971112\n",
      "----------------------------------------\n",
      "Einen Bismarck voll Bier, bitte!\n",
      "https://www.spiegel.de/geschichte/kaiserreich-souvenirs-einen-bismarck-voll-bier-bitte-a-b85c4af5-569f-4aaf-9389-80344e61c39a\n",
      "----------------------------------------\n",
      "Drogenreste neben Zeichnung von halluzinogener Pflanze entdeckt\n",
      "https://www.spiegel.de/wissenschaft/mensch/amerikanische-ureinwohner-forscher-finden-drogenreste-neben-zeichnung-halluzinogener-pflanze-a-6742dc98-9f23-4bec-ae4e-a4d3149b89ba\n",
      "----------------------------------------\n",
      "Wie Ostasien die Coronakrise meistert\n",
      "https://www.spiegel.de/politik/ausland/corona-pandemie-wie-ostasien-die-krise-meistert-a-c2e5dc80-2154-4140-a8ae-7571e929f7a6\n",
      "----------------------------------------\n",
      "Keinen Süßstoff und kein Nervengift mehr, bitte\n",
      "https://www.spiegel.de/gesundheit/ernaehrung/null-zucker-experiment-keinen-suessstoff-und-kein-nervengift-mehr-bitte-a-7714afe3-d7c8-4aea-9dee-7b6c0a64061b\n",
      "----------------------------------------\n",
      "Ein Paketbote packt aus\n",
      "https://www.spiegel.de/wirtschaft/unternehmen/schwarzarbeit-und-corona-verstoesse-krumme-touren-fuer-amazon-a-c9f428c8-92ec-46dc-9810-d36ce25ad9ac\n",
      "----------------------------------------\n",
      "Einer spielt »Candy Crush«, ein anderer stellt den Ton aus\n",
      "https://www.spiegel.de/politik/deutschland/corona-politik-angela-merkel-und-die-wilde-16-a-00000000-0002-0001-0000-000174103597\n",
      "----------------------------------------\n",
      "Videos\n",
      "https://www.spiegel.de/video/\n",
      "----------------------------------------\n",
      "Klimakrise\n",
      "https://www.spiegel.de/thema/klimawandel/\n",
      "----------------------------------------\n",
      "Sprechen Sie Habeck?\n",
      "https://www.spiegel.de/wirtschaft/die-gruenen-und-ihre-wirtschaftspolitik-sprechen-sie-habeck-kolumne-a-04a08765-87ae-471e-a216-50a08205212a\n",
      "----------------------------------------\n",
      "Droht ein Mangel an Stromtankstellen?\n",
      "https://www.spiegel.de/auto/e-autos-droht-ein-mangel-an-stromtankstellen-a-4dc1895d-1bd9-4adf-b7e7-665b99d9915b\n",
      "----------------------------------------\n",
      "Kommentare und Kolumnen\n",
      "https://www.spiegel.de/thema/meinung/\n",
      "----------------------------------------\n",
      "Lang lebe das Kapital!\n",
      "https://www.spiegel.de/kultur/lang-lebe-das-kapital-regierungserklaerung-von-margarete-stokowski-a-ec47831f-7ded-43f6-aec9-f672cd661ffd\n",
      "----------------------------------------\n",
      "Die AfD hat die Seuche\n",
      "https://www.spiegel.de/politik/deutschland/die-afd-hat-die-seuche-a-8d5c5c5a-33ba-4fad-8a8b-20a9920a2c4a\n",
      "----------------------------------------\n",
      "Mein Job fühlt sich furchtbar an – weil der Chef so schlecht arbeitet\n",
      "https://www.spiegel.de/karriere/streit-mit-dem-chef-weil-der-so-schlecht-arbeitet-was-tun-a-e7f28165-ca7c-4129-8ffc-ba97ae991f47\n",
      "----------------------------------------\n",
      "Wir starren auf den falschen Frosch\n",
      "https://www.spiegel.de/wissenschaft/mensch/zukunft-der-energieversorgung-wir-starren-auf-den-falschen-frosch-kolumne-a-8d53de13-e377-45e9-bff2-8469bce7f677\n",
      "----------------------------------------\n",
      "Politik\n",
      "https://www.spiegel.de/politik/deutschland/\n",
      "----------------------------------------\n",
      "Termin steht fest: Bundestagswahl soll am 26. September 2021 stattfinden\n",
      "https://www.spiegel.de/politik/deutschland/bundestagswahl-soll-am-26-september-2021-stattfinden-a-3a4ab269-a323-4f0f-a3b4-907e34a88052\n",
      "----------------------------------------\n",
      "Vor Runde mit der Bundeskanzlerin: Grüne und FDP fordern Corona-Strategie bis ins Frühjahr hinein\n",
      "https://www.spiegel.de/politik/deutschland/corona-pandemie-gruene-und-fdp-fordern-strategie-bis-ins-fruehjahr-hinein-a-796109e2-79bf-47e5-8b95-a3f1580bf033\n",
      "----------------------------------------\n",
      "Schutz vor Haftungsklagen: Justizminister wollen Familienzeit für Managerinnen durchsetzen\n",
      "https://www.spiegel.de/politik/deutschland/familienpolitik-justizressorts-der-laender-wollen-familienzeit-fuer-manager-durchsetzen-a-f3b89292-7366-4dcc-bd52-28e4dc6b699e\n",
      "----------------------------------------\n",
      "Ausland\n",
      "https://www.spiegel.de/politik/ausland/\n",
      "----------------------------------------\n",
      "Die Lage: USA 2020: Die Rache des Establishments\n",
      "https://www.spiegel.de/politik/ausland/joe-biden-praesentiert-sein-kabinett-die-rache-des-establishments-a-28c1b0ed-9077-48bc-9f4f-e6585dc321cd\n",
      "----------------------------------------\n",
      "Krisenregion Tigray: Uno-Sicherheitsrat befasst sich mit Kämpfen in Äthiopien\n",
      "https://www.spiegel.de/politik/ausland/aethiopien-uno-sicherheitsrat-befasst-sich-mit-kaempfen-in-tigray-a-8fc6fd86-4c46-4b11-afd1-d5c5e40496a5\n",
      "----------------------------------------\n",
      "Vor Amtsübergabe an Joe Biden: Welche Abschiedsgeschenke will Trump im Nahen Osten noch verteilen?\n",
      "https://www.spiegel.de/politik/ausland/donald-trump-welche-abschiedsgeschenke-will-der-us-praesident-im-nahen-osten-noch-verteilen-a-0f816faf-c29c-43b4-8a13-c2c581960605\n",
      "----------------------------------------\n",
      "Panorama\n",
      "https://www.spiegel.de/panorama/\n",
      "----------------------------------------\n",
      "Motiv unklar: Mutmaßlicher Dieb flieht mit 140 Tuben Haftcreme\n",
      "https://www.spiegel.de/panorama/hagen-dieb-flieht-mit-140-tuben-haftcreme-a-47267e5d-aec1-49f5-bddd-f68b9a1c50a1\n",
      "----------------------------------------\n",
      "Hamburg: Bewährungsstrafe im Prozess um tödlichen Autounfall\n",
      "https://www.spiegel.de/panorama/justiz/bewaehrungsstrafe-im-prozess-um-toedlichen-autounfall-a-ff99b302-9120-47db-9c04-4a212c4910a9\n",
      "----------------------------------------\n",
      "Missbrauch historischer Vergleiche: Lesen Sie hier die klügsten Thesen seit Christi Geburt\n",
      "https://www.spiegel.de/panorama/gesellschaft/corona-leugner-afd-npd-wie-historische-vergleiche-missbraucht-werden-a-fe4e3091-5ca9-4d1a-9475-3035b0310582\n",
      "----------------------------------------\n",
      "Sport\n",
      "https://www.spiegel.de/sport/\n",
      "----------------------------------------\n",
      "Verletzter Alpinfahrer: Dreßen droht lange Pause\n",
      "https://www.spiegel.de/sport/wintersport/ski-alpin-thomas-dressen-wird-an-der-huefte-operiert-und-droht-lange-auszufallen-a-b6169a4d-b3b6-469d-b362-2731ae00e209\n",
      "----------------------------------------\n",
      "Tennis: Becker hört beim DTB auf – und spricht schon vom Comeback\n",
      "https://www.spiegel.de/sport/tennis/tennis-boris-becker-hoert-beim-dtb-auf-und-spricht-schon-vom-comeback-a-d74ac3a1-55c8-4e83-b9e1-02368c598d0e\n",
      "----------------------------------------\n",
      "Champions League: Was Borussia Dortmund dem FC Bayern (vielleicht) voraus hat\n",
      "https://www.spiegel.de/sport/fussball/champions-league-was-borussia-dortmund-dem-fc-bayern-muenchen-voraus-hat-a-25a4362e-6b9b-4345-a163-cf741c4c1452\n",
      "----------------------------------------\n",
      "Wirtschaft\n",
      "https://www.spiegel.de/wirtschaft/\n",
      "----------------------------------------\n",
      "Wegen steigender Neuinfektionen: Zahl der Erstanträge auf US-Arbeitslosenhilfe wächst wieder\n",
      "https://www.spiegel.de/wirtschaft/soziales/zahl-der-erstantraege-auf-us-arbeitslosenhilfe-waechst-wieder-a-88ec53ac-294c-41dd-b505-0a83ea102f82\n",
      "----------------------------------------\n",
      "Für billigere Arzneimittel: EU beschließt gemeinsame Pharmastrategie\n",
      "https://www.spiegel.de/wirtschaft/service/arzneikosten-eu-beschliesst-einheitliche-pharma-strategie-a-40194280-9972-418d-9fef-f66336fc741d\n",
      "----------------------------------------\n",
      "Trotz Trumps Drohung: Amazon, Facebook und Google müssen französische Digitalsteuer zahlen\n",
      "https://www.spiegel.de/wirtschaft/unternehmen/amazon-facebook-und-google-muessen-franzoesische-digitalsteuer-zahlen-a-6d7937ed-405f-4fa9-9120-a0485817bcf1\n",
      "----------------------------------------\n",
      "Streit mit Betriebsrat eskaliert: Daimler-Vorstand droht dem Stammwerk Untertürkheim\n",
      "https://www.manager-magazin.de/\n",
      "----------------------------------------\n",
      "Fabian Billing übernimmt: McKinsey beruft neuen Deutschland-Chef\n",
      "https://www.manager-magazin.de/unternehmen/mckinsey-deutschland-fabian-billing-loest-cornelius-baur-ab-a-d1d82739-5c3f-4182-8515-6130b4b8114b\n",
      "----------------------------------------\n",
      "Retten und umbauen: Die Gefahren des neuen deutschen Staatskapitalismus\n",
      "https://www.manager-magazin.de/politik/deutschland/corona-krise-der-entfesselte-staat-im-neuen-staatskapitalismus-a-00000000-0002-0001-0000-000174057144\n",
      "----------------------------------------\n",
      "Börsenkurse manager magazin\n",
      "https://boersen.manager-magazin.de\n",
      "----------------------------------------\n",
      "Wissenschaft\n",
      "https://www.spiegel.de/wissenschaft/\n",
      "----------------------------------------\n",
      "Gefährliche Tierseuche: Vogelgrippe breitet sich in Deutschland aus\n",
      "https://www.spiegel.de/wissenschaft/natur/vogelgrippe-gefaehrliche-tierseuche-breitet-sich-in-deutschland-aus-a-8dffee51-0956-499f-b14e-d547e87451f3\n",
      "----------------------------------------\n",
      "Covid-19 in Deutschland: Robert Koch-Institut meldet Höchstzahl an Todesfällen\n",
      "https://www.spiegel.de/wissenschaft/medizin/pandemie-410-corona-todesfaelle-binnen-24-stunden-gemeldet-a-0b7e52ec-0190-4833-8518-8209110e3cd5\n",
      "----------------------------------------\n",
      "Neue Corona-Regeln: Das Weihnachtsfest als Superspreader-Event\n",
      "https://www.spiegel.de/wissenschaft/medizin/corona-regeln-im-dezember-wird-weihnachten-zum-superspreader-event-a-988fa345-f7a1-4961-8629-99d3cf0dab9d\n",
      "----------------------------------------\n",
      "Netzwelt\n",
      "https://www.spiegel.de/netzwelt/\n",
      "----------------------------------------\n",
      "Jubiläum der Online-Enzyklopädie: Die erfundenen Gaskammern in der Wikipedia\n",
      "https://www.spiegel.de/netzwelt/web/wikipedia-wie-sich-ein-erfundenes-vernichtungslager-15-jahre-lang-im-online-lexikon-halten-konnte-a-22f8b5f6-fc26-4794-b8a4-19bf8ab09638\n",
      "----------------------------------------\n",
      "Netzteil – Der Tech-Podcast: »Warum sagt mir die App nicht, wo ich Infizierte getroffen habe?«\n",
      "https://www.spiegel.de/netzwelt/apps/corona-warum-sagt-mir-die-warn-app-nicht-wo-ich-infizierte-getroffen-habe-podcast-a-4e018f0a-c7fb-46fb-bac0-15b4b0e5ae83\n",
      "----------------------------------------\n",
      "»Projekt scharfe Augen«: Wie China die Welt mit Überwachungstechnik flutet\n",
      "https://www.spiegel.de/netzwelt/netzpolitik/china-versorgt-die-welt-mit-ueberwachungstechnik-projekt-scharfe-augen-a-4213ba06-1231-4c9d-b6cf-263b521de8f9\n",
      "----------------------------------------\n",
      "Kultur\n",
      "https://www.spiegel.de/kultur/\n",
      "----------------------------------------\n",
      "»The Masked Singer«-Finale bei ProSieben: Verrückte-Viecher-Show\n",
      "https://www.spiegel.de/kultur/tv/the-masked-singer-bei-prosieben-sarah-lombardi-gewinnt-finale-a-76c26ca1-b98b-4df8-88df-2a26c09c98e2\n",
      "----------------------------------------\n",
      "US-Musikpreise: Beyoncé mit neun Grammy-Nominierungen\n",
      "https://www.spiegel.de/kultur/musik/grammy-nominierungen-beyonce-9-dua-lipa-roddy-ricch-taylor-swift-6-a-3fea290c-d65e-4d6e-9855-6f09dfc164a7\n",
      "----------------------------------------\n",
      "Antisemitismus in Ägypten: Popstar aus Gewerkschaft ausgeschlossen – weil er einen Israeli umarmte\n",
      "https://www.spiegel.de/kultur/musik/aegypten-proteste-gegen-popstar-mohamed-ramadan-weil-er-einen-israeli-umarmte-a-b000e4ef-4c58-4ff8-9bb2-c3dc8600dfaa\n",
      "----------------------------------------\n",
      "Job & Karriere\n",
      "https://www.spiegel.de/karriere/\n",
      "----------------------------------------\n",
      "Pflegereport Deutschland: Das Fachkräfte-Rätsel\n",
      "https://www.spiegel.de/karriere/pflegereport-deutschland-das-fachkraefte-raetsel-a-1780d1a3-9725-43f9-9fe3-f9bb39050013\n",
      "----------------------------------------\n",
      "Bundesverfassungsgericht: Rassismus ist keine Meinung\n",
      "https://www.spiegel.de/karriere/bundesverfassungsgericht-rassismus-ist-nicht-durch-meinungsfreiheit-geschuetzt-a-2ab0ebe9-08fe-480e-9f25-0a2ccf1d6e89\n",
      "----------------------------------------\n",
      "Rätsel der Woche: Erst zum Fluss – dann zum Camp\n",
      "https://www.spiegel.de/karriere/erst-zum-fluss-dann-zum-camp-raetsel-der-woche-a-8dba3871-6569-430e-ad1c-b035e7ef2e18\n",
      "----------------------------------------\n",
      "Start\n",
      "https://www.spiegel.de/start/\n",
      "----------------------------------------\n",
      "Konzentration im Homeoffice: Jetzt bloß nicht ablenken lassen\n",
      "https://www.spiegel.de/start/konzentration-im-homeoffice-5-tipps-gegen-ablenkung-a-37bb6d40-3cc0-4d37-b5a2-b55aa8838dee\n",
      "----------------------------------------\n",
      "Gehalts- und Berufsaussichten mit Doktortitel: Lohnt sich eine Promotion noch?\n",
      "https://www.spiegel.de/start/lohnt-sich-eine-promotion-noch-gehalts-und-berufsaussichten-mit-dem-doktortitel-a-b7bcdc91-96e9-4166-83e0-55e62e186b10\n",
      "----------------------------------------\n",
      "Kind und Beruf: »Ich hatte meine Zukunft darauf aufgebaut, nur für mich sorgen zu müssen«\n",
      "https://www.spiegel.de/start/familie-und-beruf-ab-wann-sollte-man-ueber-vereinbarkeit-nachdenken-a-6ab33b21-84c9-4c1e-bb0a-e9b37ea13f6c\n",
      "----------------------------------------\n",
      "Geschichte\n",
      "https://www.spiegel.de/geschichte/\n",
      "----------------------------------------\n",
      "Ballon-Irrfahrt im Deutsch-Französischen Krieg: Vom Winde verweht\n",
      "https://www.spiegel.de/geschichte/deutsch-franzoesischer-krieg-1870-im-ballon-vom-winde-verweht-a-e39d1da0-e5a0-4b5f-808c-b5293f9a7764\n",
      "----------------------------------------\n",
      "Wilder Westen: Der Deutsche, der bei »Indianern« aufwuchs\n",
      "https://www.spiegel.de/geschichte/wilder-westen-der-deutsche-der-bei-indianern-aufwuchs-a-2070939e-ea75-4d47-a649-7216c663df7f\n",
      "----------------------------------------\n",
      "Nürnberger Prozesse: Recht statt Rache\n",
      "https://www.spiegel.de/geschichte/75-jahre-nuernberger-prozesse-recht-statt-rache-a-4c13f053-f8b0-43a5-8482-a741f3c894a3\n",
      "----------------------------------------\n",
      "Tests\n",
      "https://www.spiegel.de/tests/\n",
      "----------------------------------------\n",
      "Fitnesstracker im Test: Läuft bei mir\n",
      "https://www.spiegel.de/tests/fitnesstracker-im-test-laeuft-bei-mir-a-23a70773-b9d2-4fa6-a9bb-6befda58cd9e\n",
      "----------------------------------------\n",
      "Bestseller Link\n",
      "https://www.spiegel.de/kultur/bestseller-buecher-belletristik-sachbuch-auf-spiegel-liste-a-458623.html\n",
      "----------------------------------------\n",
      "Mobilität\n",
      "https://www.spiegel.de/auto/\n",
      "----------------------------------------\n",
      "Mit Radartechnologie: Düsseldorf testet kontaktlosen Ampeltaster\n",
      "https://www.spiegel.de/auto/duesseldorf-stadt-testet-kontaktlosen-ampeltaster-mit-radartechnologie-a-6e79504e-e6a4-4bf6-8c8e-f0b56cea0f7e\n",
      "----------------------------------------\n",
      "Im Raum Tübingen: Bahn kündigt Probebetrieb mit Wasserstoffzug für 2024 an\n",
      "https://www.spiegel.de/auto/deutsche-bahn-kuendigt-probebetrieb-mit-wasserstoffzug-fuer-2024-an-a-2992c027-1129-4890-8899-4103849f31d9\n",
      "----------------------------------------\n",
      "Messungen im Straßenverkehr: So viel verbrauchen Plug-in-Hybride wirklich\n",
      "https://www.spiegel.de/auto/plug-in-hybride-so-viel-verbrauchen-volvo-xc60-mitsubishi-outlander-und-bmw-x5-wirklich-a-f1149a9a-fde9-4eb1-83bf-79edcd972ce9\n",
      "----------------------------------------\n",
      "SPIEGEL-Bestseller: Sachbuch Hardcover\n",
      "https://www.spiegel.de/kultur/literatur/spiegel-bestseller-hardcover-a-1025428.html\n",
      "----------------------------------------\n",
      "Leben\n",
      "https://www.spiegel.de/thema/leben/\n",
      "----------------------------------------\n",
      "So essen die Menschen in Deutschland\n",
      "https://www.spiegel.de/gesundheit/ernaehrung/ernaehrungsbericht-2020-so-essen-die-menschen-in-deutschland-a-a7aeaae1-9606-4b8a-a8b9-8ff8696d9034\n",
      "----------------------------------------\n",
      "Die längste Beziehung unseres Lebens\n",
      "https://www.spiegel.de/familie/geschwister-und-ihr-lebenslanger-praegender-einfluss-a-00000000-0002-0001-0000-000173732121\n",
      "----------------------------------------\n",
      "Was ich haben will, das krieg ich nicht\n",
      "https://www.spiegel.de/psychologie/corona-alltag-wie-fuellt-man-die-leere-kolumne-a-4a31395d-a8ac-40a0-91f0-35f137be1130\n",
      "----------------------------------------\n",
      "»Wenn ich die Kinder weinen höre, kann ich nicht zu ihnen«\n",
      "https://www.spiegel.de/familie/coronavirus-was-es-fuer-familien-bedeutet-wenn-einer-positiv-auf-covid-19-getestet-wird-a-f4ef8d71-332c-43c4-8c99-979daacd98ee\n",
      "----------------------------------------\n",
      "Wenn beim Tierarzt eine Kerze brennt\n",
      "https://www.spiegel.de/psychologie/wenn-beim-tierarzt-eine-kerze-brennt-a-00000000-0002-0001-0000-000174103660\n",
      "----------------------------------------\n",
      "Was ich am meisten vermisse\n",
      "https://www.spiegel.de/reise/fernweh/reiseflaute-in-der-corona-krise-was-ich-am-meisten-vermisse-a-1e4b1a55-a987-4407-853e-2e3429a4d178\n",
      "----------------------------------------\n",
      "Produkte im Test\n",
      "https://www.spiegel.de/thema/test_und_produkte/\n",
      "----------------------------------------\n",
      "Guter Sound braucht keine Strippen\n",
      "https://www.spiegel.de/netzwelt/gadgets/kabellose-kopfhoerer-im-test-guter-sound-braucht-keine-strippen-a-fad217ce-506c-44cf-92b7-9a435b47de2c\n",
      "----------------------------------------\n",
      "Die können Sie sich schenken!\n",
      "https://www.spiegel.de/tests/brettspiele/brettspiel-tipps-die-koennen-sie-sich-schenken-a-aa38b814-5497-4059-af81-0886e3445bdc\n",
      "----------------------------------------\n",
      "So gut – und so schlecht – sind die neuen Smartspeaker\n",
      "https://www.spiegel.de/netzwelt/gadgets/amazon-echo-nest-audio-braun-le-03-im-test-wie-gut-sind-die-neuen-smartspeaker-a-192ea6d5-558a-4fff-a7eb-a6d22c303384\n",
      "----------------------------------------\n",
      "Dein SPIEGEL\n",
      "https://www.spiegel.de/deinspiegel/\n",
      "----------------------------------------\n",
      "Woher kommt der Ausdruck »08/15«?\n",
      "https://www.spiegel.de/deinspiegel/woher-kommt-der-ausdruck-08-15-fuer-kinder-erklaert-a-0338c0b6-498a-4037-8a01-07f3654cc55a\n",
      "----------------------------------------\n",
      "Was du gegen Gewalt tun kannst\n",
      "https://www.spiegel.de/deinspiegel/was-du-gegen-gewalt-tun-kannst-fuer-kinder-erklaert-a-4f04863b-d807-4278-bf1a-2a811a243efb\n",
      "----------------------------------------\n",
      "Bild des Tages\n",
      "https://www.spiegel.de/fotostrecke/bilder-des-tages-fotos-aus-deutschland-und-der-welt-fotostrecke-122824.html\n"
     ]
    }
   ],
   "source": [
    "#print soup.get_text()hreflinks=[]\n",
    "AllTitles=soup.findAll('h2')\n",
    "alltitles=[]\n",
    "alltitleLinks=[]\n",
    "for l in AllTitles:\n",
    "    #print l\n",
    "    try:\n",
    "        title = l.find('a')['title']\n",
    "        link = l.find('a')['href']\n",
    "        print('-'*40)\n",
    "        print(title)\n",
    "        print(link)\n",
    "        alltitles.append(title)\n",
    "        alltitleLinks.append(link)\n",
    "    except:\n",
    "        pass"
   ]
  },
  {
   "cell_type": "markdown",
   "metadata": {
    "slideshow": {
     "slide_type": "slide"
    }
   },
   "source": [
    "## Get all images of the page\n",
    "\n",
    "Get url of all images, which are currently displayed on [www.zeit.de](http://www.zeit.de):"
   ]
  },
  {
   "cell_type": "code",
   "execution_count": 7,
   "metadata": {
    "ExecuteTime": {
     "end_time": "2017-10-20T12:50:12.456000Z",
     "start_time": "2017-10-20T12:50:12.440000Z"
    },
    "slideshow": {
     "slide_type": "fragment"
    }
   },
   "outputs": [
    {
     "name": "stdout",
     "output_type": "stream",
     "text": [
      "https://cdn.prod.www.spiegel.de/images/163dd7a2-7b30-4583-ad22-1eac21b122ec_w40_r1_fpx54.23_fpy47.24.png\n",
      "https://cdn.prod.www.spiegel.de/images/163dd7a2-7b30-4583-ad22-1eac21b122ec_w40_r1_fpx54.23_fpy47.24.png\n",
      "data:image/gif;base64,R0lGODlhAQABAAAAACH5BAEKAAEALAAAAAABAAEAAAICTAEAOw==\n",
      "https://cdn.prod.www.spiegel.de/images/e428f0cb-d2c7-4e4b-92ce-d677d91af11f_w56_r1_fpx56_fpy47.png\n",
      "https://cdn.prod.www.spiegel.de/images/e428f0cb-d2c7-4e4b-92ce-d677d91af11f_w56_r1_fpx56_fpy47.png\n",
      "https://cdn.prod.www.spiegel.de/images/224d5342-0001-0004-0000-000000039831_w872_r1.77_fpx65_fpy51.jpg\n",
      "https://cdn.prod.www.spiegel.de/images/ea92b851-490a-454b-b5f0-d6b571f6a727_w488_r1.77_fpx52.1_fpy49.99.jpg\n",
      "https://cdn.prod.www.spiegel.de/images/875379b1-8ab2-47cc-86c8-c90b07ebb34a_w56_r1_fpx53_fpy50.png\n",
      "https://cdn.prod.www.spiegel.de/images/875379b1-8ab2-47cc-86c8-c90b07ebb34a_w56_r1_fpx53_fpy50.png\n",
      "https://cdn.prod.www.spiegel.de/images/a1f240cf-210a-411c-a9e9-fee16aa82398_w872_r1.77_fpx51_fpy37.jpg\n"
     ]
    }
   ],
   "source": [
    "imglinks=[]\n",
    "AllImgs=soup.findAll('img')\n",
    "for l in AllImgs:\n",
    "    if l.has_attr('src'):\n",
    "       imglinks.append(l)\n",
    "\n",
    "for l in imglinks[:10]:\n",
    "    print(l['src'])"
   ]
  },
  {
   "cell_type": "markdown",
   "metadata": {
    "slideshow": {
     "slide_type": "slide"
    }
   },
   "source": [
    "## Get entire text of a news-article"
   ]
  },
  {
   "cell_type": "code",
   "execution_count": 8,
   "metadata": {
    "ExecuteTime": {
     "end_time": "2017-10-20T13:09:24.145000Z",
     "start_time": "2017-10-20T13:09:23.833000Z"
    },
    "slideshow": {
     "slide_type": "fragment"
    }
   },
   "outputs": [
    {
     "name": "stdout",
     "output_type": "stream",
     "text": [
      "1,5 oder lieber deutlich unter 2? Ein knappes halbes Grad hat das Zeug für eine Kontroverse in der Klimaszene. Gemeint sind die beiden Temperaturlimits für die Erderwärmung im Jahr 2100 gegenüber vorindustrieller Zeit, die im Klimavertrag von Paris als gerade noch vertretbar vereinbart wurden. Im Team 1,5 spielt die Bewegung um Fridays for Future, die sich von Anfang an für das strengere Klimaschutzziel einsetzt. Auf der anderen Seite des Spektrums stehen die etwas mutigeren Politiker und anderen gesellschaftlichen Akteure, die zuversichtlich sind, dass auch bei einer Erwärmung oberhalb von 1,5 Grad die Erde schon nicht untergehen wird – obwohl mit jeder Nachkommastelle die Risiken schwerer Klimaschäden zunehmen.\n",
      "Die Debatte über den richtigen Weg beim Klimaschutz hat nun auch die Grünen erreicht. Teile der Basis hatten gefordert, das 1,5-Grad-Ziel zur »Maßgabe« grüner Politik zu machen. Bei ihrem Bundesparteitag am Wochenende konnte die Parteiführung eine Kampfabstimmung gerade noch verhindern. »Es ist notwendig auf den 1,5-Grad-Pfad zu kommen«, lautet nun eine neue Formulierung im Grünen-Grundsatzprogramm – wirklich festgenagelt hat sich die Partei damit natürlich nicht, mögliche Koalitionsgespräche für eine baldige Regierungsbeteiligung im Bund dürfte das erleichtern.\n",
      "Zur Fairness gehört: Die Grünen haben sich für einen ähnlichen Text entschieden, wie er auch im Klimaabkommen von Paris zu lesen ist. Im entscheidenden Passus sagen die Vertragsstaaten zu, die Klimaerwärmung auf »deutlich unter zwei Grad« zu begrenzen und »Anstrengungen« zu unternehmen, die Marke von maximal 1,5 Grad einzuhalten. Das Erreichen des strengeren Ziels ist also eine klassische Absichtserklärung, und auch, was »deutlich unter zwei« überhaupt genau bedeutet, ist nicht abschließend geklärt (mehr zu den unterschiedlichen Folgen einer Erderwärmung um 1,5 oder etwa 2 Grad lesen Sie hier).\n",
      "Dass die Temperaturdiskussion im politischen Mainstream aber überhaupt geführt wird, ist ein gutes Zeichen. Es ist gar nicht lange her, da redeten sich die Hauptkontrahenten noch die Köpfe darüber heiß, ob der Klimawandel überhaupt ein Problem darstelle und schnelles Handeln nötig mache. Das ist zum Glück vorbei. Die neue Frage nach dem »richtigen« Limit bei der Erderwärmung ist allerdings deutlich schwieriger zu beantworten.\n",
      "Grundsätzlich gilt: Je weniger die Menschen ihren Planeten aufheizen, desto besser, jedes Gramm weniger CO2 in der Atmosphäre ist ein Gewinn. Doch alle Akteure blicken von der ihnen eigenen Seite auf das Jahrhundertprojekt Klimaschutz: Die Unternehmen wägen ab, welches Veränderungstempo für sie leistbar erscheint, Parteien dagegen prüfen vor allem, wofür sie Mehrheiten sammeln können. Bewegungen wiederum orientieren sich am objektiv oder subjektiv notwendigen (zum Disput zwischen Fridays for Future und den Grünen lesen Sie gern auch die Kolumne von Peter Unfried). Welches Klimaschutzziel also am ehesten erreichbar – oder »realistisch« – ist, hängt davon ab, wen man fragt.\n",
      "Auffallend aber ist, dass sich auch in der Wissenschaft die Stimmen derer mehren, die das strengere Limit von 1,5 Grad Erwärmung kritisch sehen, weil es kaum noch erreichbar erscheine. Gerald Haug, Paläoklimatologe und Präsident der Nationalen Akademie der Wissenschaften Leopoldina, sagte vor Kurzem dem SPIEGEL: »Momentan sind wir bei etwa 1,1 Grad globaler Erwärmung, die Luftverschmutzung kühlt etwa 0,35 Grad herunter. Das muss man aufaddieren. Wir sind also de facto schon bei 1,5 Grad. Deshalb ist es jetzt nur noch sinnvoll, auf unter 2 Grad zu kommen.«\n",
      "Auch der Klimaphysiker Anders Levermann vom Potsdam-Institut für Klimafolgenforschung (PIK) sieht in einem Interview mit der »taz« die Fixierung auf das 1,5-Grad-Ziel kritisch. So traurig es sei, aber das strengere Pariser Klimaziel sei faktisch bereits gerissen, »selbst wenn wir die derzeitige CO2-Konzentration in der Atmosphäre nicht mehr erhöhen würden, bekämen wir noch wenigstens ein halbes Grad drauf.« Ein weit verbreitetes Missverständnis sei zudem, »dass die globale Erwärmung in eine selbstverstärkende Spirale gerät, wenn wir sie nicht auf 1,5 Grad begrenzen. Davor haben viele Angst, aber das ist nicht der Fall. Deshalb können die Fridays immer noch sagen, dass die Begrenzung auf 1,5 Grad wünschenswert ist, aber sie können nicht sagen, dass die Wissenschaft zwingend 1,5 Grad verlangt.«\n",
      "Die Aktivisten hatten im Oktober beim Wuppertal Institut eine eigene Studie in Auftrag gegeben, die immerhin belegen sollte, dass Deutschland seinen Beitrag zum Erreichen des 1,5-Grad-Ziels sehr wohl noch leisten könnte, ohne dass Wirtschaft und Gesellschaft kollabierten, mithin, dass Klimaneutralität bis 2035 realistisch sei. Aktuell ist dieses Ziel für 2050 geplant. Brigitte Knopf, Generalsekretärin des Mercator Research Institute on Global Commons and Climate Change (MCC) übte auf Twitter jedoch deutliche Kritik: »Die Studie sagt, dass es zwar ›extrem anspruchsvoll, grundsätzlich aber möglich ist‹. Das wird aber nicht qualifiziert. Nur zu sagen, dass man die Sanierungsrate [bei Gebäuden] von 1 Prozent auf 4 Prozent oder den jährlichen Ausbau der erneuerbaren Energien von 6 Gigawatt auf 25 bis 30 Gigawatt erhöhen muss, hat noch nichts mit Machbarkeit zu tun.«\n",
      "Es fehle praktisch komplett eine Analyse der ökonomischen Machbarkeit, Kosten und Verteilungsfragen würden zwar angesprochen, aber »auf dieser dürren Basis zu sagen, dass es aus ökonomischer Sicht ›extrem anspruchsvoll, aber machbar‹ ist, halte ich für gewagt«. Persönlich halte sie die in der Studie beschriebenen »notwendigen Umwälzungen für so gigantisch, dass ich ein CO2-neutrales Deutschland 2035 für ›nicht machbar‹ halte.«\n",
      "Dass die Grünen sich am Wochenende gegen eine deutliche Festlegung auf das 1,5-Grad-Ziel entschieden haben, könnte sich vor diesem Hintergrund noch als klug erweisen. Denn sollten sich die Hinweise verdichten, dass das strengere Paris-Ziel tatsächlich außer Reichweite ist, wird es politisch heikel bis unseriös, weiter dafür zu trommeln. Zumindest das Vorhaben, bei der Erwärmung »deutlich unter zwei Grad« zu bleiben, wird dann umso wichtiger. Ein Freibrief für fossiles Laissez faire ist das Aufgeben von 1,5 Grad jedenfalls nicht, sondern das Gegenteil.\n",
      "Diese Entwicklung wäre dennoch tragisch, denn noch vor 20 Jahren wäre ein globales 1,5-Grad-Ziel im Vergleich fast ein Spaziergang gewesen: Hätten die weltweiten Emissionen im Jahr 2000 ihren Höhepunkt erreicht, hätten sie ab da um »nur« rund drei Prozent jährlich reduziert werden müssen, ergab der »Emissions Gap Report 2019« des Uno-Umweltprogramms. Doch die Chance hat die Welt leider verpasst.\n",
      "Ab sofort informiere ich Sie, wenn Sie mögen, einmal in der Woche über das Wichtigste zur Klimakrise – Storys, Forschungsergebnisse und die neuesten Entwicklungen zum größten Thema unserer Zeit. Zum Newsletter-Abo kommen Sie hier.\n",
      "Es ist das Ende einer Ära und – hoffentlich – auch Aufbruch in die Zukunft: BMW verlagert den Bau von Verbrennermotoren ins Ausland, das Stammwerk München soll sich auf Elektroantriebe konzentrieren\n",
      "Bericht für 2019: Uno meldet CO₂-Rekord in der AtmosphäreNoch nie seit Beginn der Industrialisierung wurde so viel Kohlendioxid in der Atmosphäre nachgewiesen wie im vergangenen Jahr. Hoffnung auf deutliche Besserung durch Corona-Shutdowns gibt es wenig.\n",
      "Report: Wie milliardenschwere Hilfspakete den Klimaschutz aushebeln könntenDie Emissionen der größten Volkswirtschaften sind erstmals gesunken, zeigt ein aktueller Klimabericht. Die Fortschritte drohen jedoch durch die Coronakrise zunichtegemacht zu werden.\n",
      "Klage gegen Regierung: Frankreich muss konkrete Maßnahmen gegen Klimakrise nachweisenIn drei Monaten muss die französische Regierung beweisen, dass sie ausreichend Maßnahmen im Kampf gegen die Klimakrise trifft. Das entschied das Verwaltungsgericht. Die Kläger nennen die Entscheidung »historisch«.\n",
      "Die Welt im Klimawandel – und was wir tun können: HitzschlagWir Menschen heizen unsere Atmosphäre auf, mit katastrophalen Folgen. Wie warm es wird, was das für Deutschland und die Welt bedeutet – und was wir noch dagegen tun können.\n",
      "Erderhitzung: Trockene Moore sind KlimakillerSie sind für das Klima noch wichtiger als alle Wälder der Erde zusammen – doch unsere Moore verschwinden Stück um Stück. Was wollen Experten dagegen tun?\n",
      "Kaufanreize, Lkw-Abwrackprämie, Ladesäulen: Darauf haben sich Merkel und die Autolobby geeinigtDie Branche freut's, Umweltschützer zeigen sich skeptisch: Die Bundesregierung will der Autoindustrie für den Umstieg auf E-Antriebe weitere Milliarden geben. Was konkret beschlossen wurde.\n",
      "Neustart mit Joe Biden: Zeit für eine transatlantische KlimaaußenpolitikDie Wahl Joe Bidens macht eine neuartige transatlantische Kooperation möglich. Bisher war sie vor allem auf die Nato und außenpolitische Initiativen ausgerichtet – künftig könnten wir gemeinsam das Klima retten.\n",
      "Bidens Atomplan: Strahlendes ComebackAmerikas nächster Präsident Joe Biden setzt im Kampf gegen den Klimawandel auch auf Atomkraft. Eine neue Generation von Mini-Kraftwerken soll mobil und vor allem sicher sein. Aber manche Probleme bleiben.\n",
      "Mächtige US-Energiekonzerne: Götterdämmerung für Big Oil?Mit Donald Trump verliert Amerikas Öl- und Gasindustrie ihren wichtigsten Verbündeten im Weißen Haus. Sein designierter Nachfolger setzt auf eine Energiewende – doch die Multis können vorerst entspannt bleiben.\n",
      "»Ende Gelände«-Aktivisten gegen RWE: »Die füh­len sich so mäch­tig«Im rheinischen Braunkohlerevier stehen sich jedes Jahr Umweltaktivisten, Polizisten und RWE-Mitarbeiter unversöhnlich gegenüber. Unser Reporter hat einen Tag zwischen den Fronten verbracht.\n",
      "Deutschland will sich mit der Klimaneutralität bis 2050 Zeit lassen. Das klappt nur, wenn wir den Globalen Süden dafür gewinnen, unsere Fehler nicht zu wiederholen (»Zeit Online«)\n",
      "Joe Biden hat John Kerry zum neuen Sonderbeauftragten des Präsidenten für den Klimaschutz ernannt. Was von der Personalie zu halten ist (»New York Times«)\n",
      "Kurz vor der Amtsübernahme von Joe Biden will Noch-Präsident Trump schnell Ölbohrlizenzen in Alaska versteigern (»Washington Post«)\n",
      "Nur ein Prozent aller Menschen verursachen laut einer neuen Erhebung rund die Hälfte der CO2-Emissionen des Flugverkehrs. Nur 11 Prozent der Weltbevölkerung sind 2018 überhaupt geflogen (»Guardian«)\n",
      "Umweltstaatssekretär Jochen Flasbarth über Klimadiplomatie: »Frustrierte werden diese Welt nicht retten« (»Meisterstunde«)\n",
      "Begriff der Woche: Aerosole – Schwebeteilchen mit großer WirkungWoraus bestehen Aerosole und wie wirken sie sich auf das Klimasystem aus? Die wichtigsten Fragen.\n",
      "Ihr Kurt Stukenberg\n",
      "\n",
      "SPIEGEL+-Zugang wird gerade auf einem anderen Gerät genutzt\n",
      "\n",
      "\n",
      "SPIEGEL+ kann nur auf einem Gerät zur selben Zeit genutzt werden.\n",
      "\n",
      "\n",
      "Klicken Sie auf den Button, spielen wir den Hinweis auf dem anderen Gerät aus und Sie können SPIEGEL+ weiter nutzen.\n",
      "\n",
      "\n",
      "Es ist das Ende einer Ära und – hoffentlich – auch Aufbruch in die Zukunft: BMW verlagert den Bau von Verbrennermotoren ins Ausland, das Stammwerk München soll sich auf Elektroantriebe konzentrieren\n",
      "Melden Sie sich an und diskutieren Sie mit\n"
     ]
    }
   ],
   "source": [
    "IDX=0\n",
    "suburl=alltitleLinks[IDX]\n",
    "try:\n",
    "    html=urlopen(suburl).read() #works if subdomains are referenced by absolute path\n",
    "except:\n",
    "    html=urlopen(url+suburl).read() #works if subdomains are referenced by relative path\n",
    "soup=BeautifulSoup(html,\"html.parser\")\n",
    "AllP=soup.findAll('p')\n",
    "for p in AllP:\n",
    "    print(p.get_text())"
   ]
  },
  {
   "cell_type": "markdown",
   "metadata": {
    "collapsed": true,
    "slideshow": {
     "slide_type": "skip"
    }
   },
   "source": [
    "## Questions and Remarks\n",
    "1. This notebook demonstrates how raw-text can be crawled from news-sites. But what is the drawback of this method?\n",
    "2. Execute the entire notebook also for `www.spiegel.de` and `www.sueddeutsche.de`.\n",
    "3. What do you observe? How to solve the problem?"
   ]
  },
  {
   "cell_type": "code",
   "execution_count": null,
   "metadata": {
    "collapsed": true
   },
   "outputs": [],
   "source": []
  }
 ],
 "metadata": {
  "celltoolbar": "Slideshow",
  "kernelspec": {
   "display_name": "Python 3",
   "language": "python",
   "name": "python3"
  },
  "language_info": {
   "codemirror_mode": {
    "name": "ipython",
    "version": 3
   },
   "file_extension": ".py",
   "mimetype": "text/x-python",
   "name": "python",
   "nbconvert_exporter": "python",
   "pygments_lexer": "ipython3",
   "version": "3.7.5"
  },
  "nav_menu": {},
  "toc": {
   "base_numbering": 1,
   "nav_menu": {},
   "number_sections": true,
   "sideBar": true,
   "skip_h1_title": false,
   "title_cell": "Table of Contents",
   "title_sidebar": "Contents",
   "toc_cell": false,
   "toc_position": {},
   "toc_section_display": "block",
   "toc_window_display": false
  },
  "varInspector": {
   "cols": {
    "lenName": 16,
    "lenType": 16,
    "lenVar": 40
   },
   "kernels_config": {
    "python": {
     "delete_cmd_postfix": "",
     "delete_cmd_prefix": "del ",
     "library": "var_list.py",
     "varRefreshCmd": "print(var_dic_list())"
    },
    "r": {
     "delete_cmd_postfix": ") ",
     "delete_cmd_prefix": "rm(",
     "library": "var_list.r",
     "varRefreshCmd": "cat(var_dic_list()) "
    }
   },
   "types_to_exclude": [
    "module",
    "function",
    "builtin_function_or_method",
    "instance",
    "_Feature"
   ],
   "window_display": false
  }
 },
 "nbformat": 4,
 "nbformat_minor": 1
}