{
 "cells": [
  {
   "cell_type": "markdown",
   "metadata": {
    "slideshow": {
     "slide_type": "slide"
    }
   },
   "source": [
    "# Access Contents of HTML Page\n",
    "\n",
    "- Author:      Johannes Maucher\n",
    "- Last update: 2018-10-21\n",
    "\n",
    "This notebook demonstrates how to parse a HTML document and access dedicated elements of the parse tree.\n",
    "[Beautiful Soup](http://www.crummy.com/software/BeautifulSoup/bs4/doc/#) is a python package for parsing HTML. Download and install version 4 by typing:\n",
    "\n",
    "> `pip install beautifulsoup4`\n",
    "\n",
    "into the command shell. Once it is installed it can be imported by"
   ]
  },
  {
   "cell_type": "code",
   "execution_count": 1,
   "metadata": {
    "ExecuteTime": {
     "end_time": "2017-10-20T12:50:00.898000Z",
     "start_time": "2017-10-20T12:50:00.893000Z"
    },
    "execution": {
     "iopub.execute_input": "2020-09-18T05:33:41.293186Z",
     "iopub.status.busy": "2020-09-18T05:33:41.292173Z",
     "iopub.status.idle": "2020-09-18T05:33:41.422704Z",
     "shell.execute_reply": "2020-09-18T05:33:41.423224Z"
    },
    "slideshow": {
     "slide_type": "fragment"
    }
   },
   "outputs": [],
   "source": [
    "from bs4 import BeautifulSoup"
   ]
  },
  {
   "cell_type": "markdown",
   "metadata": {
    "slideshow": {
     "slide_type": "slide"
    }
   },
   "source": [
    "For accessing arbitrary resources by URL the python modul [urllib](https://docs.python.org/2/library/urllib.html) must also be installed. Import the method _urlopen()_ from this module:  "
   ]
  },
  {
   "cell_type": "code",
   "execution_count": 2,
   "metadata": {
    "ExecuteTime": {
     "end_time": "2017-10-20T12:50:02.246000Z",
     "start_time": "2017-10-20T12:50:02.242000Z"
    },
    "execution": {
     "iopub.execute_input": "2020-09-18T05:33:41.428709Z",
     "iopub.status.busy": "2020-09-18T05:33:41.427504Z",
     "iopub.status.idle": "2020-09-18T05:33:41.431135Z",
     "shell.execute_reply": "2020-09-18T05:33:41.432416Z"
    },
    "slideshow": {
     "slide_type": "fragment"
    }
   },
   "outputs": [],
   "source": [
    "from urllib.request import urlopen"
   ]
  },
  {
   "cell_type": "markdown",
   "metadata": {
    "slideshow": {
     "slide_type": "fragment"
    }
   },
   "source": [
    "If these two modules are available the HTML parse tree of the specified URL can easily be generated as follows."
   ]
  },
  {
   "cell_type": "code",
   "execution_count": 3,
   "metadata": {
    "ExecuteTime": {
     "end_time": "2017-10-20T12:50:04.344000Z",
     "start_time": "2017-10-20T12:50:03.569000Z"
    },
    "execution": {
     "iopub.execute_input": "2020-09-18T05:33:41.439179Z",
     "iopub.status.busy": "2020-09-18T05:33:41.437320Z",
     "iopub.status.idle": "2020-09-18T05:33:42.454973Z",
     "shell.execute_reply": "2020-09-18T05:33:42.455782Z"
    },
    "slideshow": {
     "slide_type": "fragment"
    }
   },
   "outputs": [],
   "source": [
    "#url=\"http://www.zeit.de\"\n",
    "url=\"http://www.spiegel.de\"\n",
    "#url=\"http://www.sueddeutsche.de\"\n",
    "html=urlopen(url).read()\n",
    "soup=BeautifulSoup(html,\"html.parser\")"
   ]
  },
  {
   "cell_type": "markdown",
   "metadata": {
    "slideshow": {
     "slide_type": "slide"
    }
   },
   "source": [
    "Now e.g. the title of the URL can be accessed by:"
   ]
  },
  {
   "cell_type": "code",
   "execution_count": 4,
   "metadata": {
    "ExecuteTime": {
     "end_time": "2017-10-20T12:50:06.092000Z",
     "start_time": "2017-10-20T12:50:06.086000Z"
    },
    "execution": {
     "iopub.execute_input": "2020-09-18T05:33:42.462002Z",
     "iopub.status.busy": "2020-09-18T05:33:42.460658Z",
     "iopub.status.idle": "2020-09-18T05:33:42.464779Z",
     "shell.execute_reply": "2020-09-18T05:33:42.465287Z"
    },
    "slideshow": {
     "slide_type": "fragment"
    }
   },
   "outputs": [
    {
     "name": "stdout",
     "output_type": "stream",
     "text": [
      "Title of page:   DER SPIEGEL | Online-Nachrichten\n"
     ]
    }
   ],
   "source": [
    "titleTag = soup.html.head.title\n",
    "print(\"Title of page:  \",titleTag.string)"
   ]
  },
  {
   "cell_type": "markdown",
   "metadata": {
    "slideshow": {
     "slide_type": "slide"
    }
   },
   "source": [
    "## Get all links in the page\n",
    "All links in the page can be retrieven by the following code (only the first 20 links are printed)"
   ]
  },
  {
   "cell_type": "code",
   "execution_count": 5,
   "metadata": {
    "ExecuteTime": {
     "end_time": "2017-10-20T12:50:07.973000Z",
     "start_time": "2017-10-20T12:50:07.951000Z"
    },
    "execution": {
     "iopub.execute_input": "2020-09-18T05:33:42.479524Z",
     "iopub.status.busy": "2020-09-18T05:33:42.478716Z",
     "iopub.status.idle": "2020-09-18T05:33:42.482195Z",
     "shell.execute_reply": "2020-09-18T05:33:42.482990Z"
    },
    "slideshow": {
     "slide_type": "fragment"
    }
   },
   "outputs": [
    {
     "name": "stdout",
     "output_type": "stream",
     "text": [
      "Number of links in this page:  554\n",
      "#Inhalt\n",
      "https://www.spiegel.de/nutzungsbedingungen\n",
      "https://www.spiegel.de/\n",
      "https://abo.spiegel.de/?b=SPOHNAVABO&requestAccessToken=true&sara_icid=disp_upd_9h6L5hu8K1AAnttzYATx3hvk7taDkP&targetUrl=https%3A%2F%2Fwww.spiegel.de%2Ffuermich%2F\n",
      "https://gruppenkonto.spiegel.de/authenticate?requestAccessToken=true&targetUrl=https%3A%2F%2Fwww.spiegel.de%2Ffuermich%2F\n",
      "https://www.spiegel.de/fuermich/\n",
      "https://www.spiegel.de/\n",
      "https://www.spiegel.de/schlagzeilen/\n",
      "https://www.spiegel.de/plus/\n",
      "https://www.spiegel.de/audio/\n",
      "https://www.spiegel.de/fuermich/\n",
      "https://www.spiegel.de/schlagzeilen/\n",
      "https://www.spiegel.de/plus/\n",
      "https://www.spiegel.de/thema/coronavirus/\n",
      "https://www.spiegel.de/politik/deutschland/\n",
      "https://www.spiegel.de/politik/ausland/\n",
      "https://www.spiegel.de/panorama/\n",
      "https://www.spiegel.de/sport/\n",
      "https://www.spiegel.de/wirtschaft/\n",
      "https://www.spiegel.de/netzwelt/\n"
     ]
    }
   ],
   "source": [
    "hreflinks=[]\n",
    "Alllinks=soup.findAll('a') #The <a> tag defines a hyperlink, which is used to link from one page to another.\n",
    "for l in Alllinks:\n",
    "    if l.has_attr('href'):\n",
    "        hreflinks.append(l)\n",
    "print(\"Number of links in this page: \",len(hreflinks))\n",
    "for l in hreflinks[:20]:\n",
    "    print(l['href'])"
   ]
  },
  {
   "cell_type": "markdown",
   "metadata": {
    "slideshow": {
     "slide_type": "slide"
    }
   },
   "source": [
    "## Get all news titles\n",
    "Get title of all news, which are currently listed on [www.zeit.de](http://www.zeit.de):"
   ]
  },
  {
   "cell_type": "code",
   "execution_count": 6,
   "metadata": {
    "ExecuteTime": {
     "end_time": "2017-10-20T12:50:10.208000Z",
     "start_time": "2017-10-20T12:50:10.124000Z"
    },
    "execution": {
     "iopub.execute_input": "2020-09-18T05:33:42.497588Z",
     "iopub.status.busy": "2020-09-18T05:33:42.496514Z",
     "iopub.status.idle": "2020-09-18T05:33:42.518958Z",
     "shell.execute_reply": "2020-09-18T05:33:42.519586Z"
    },
    "slideshow": {
     "slide_type": "fragment"
    }
   },
   "outputs": [
    {
     "name": "stdout",
     "output_type": "stream",
     "text": [
      "----------------------------------------\n",
      "Verleihung der Ig-Nobelpreise: Grölende Krokodile, störende Kaugeräusche und narzisstische Augenbrauen\n",
      "https://www.spiegel.de/panorama/verleihung-der-ig-nobelpreise-groelende-krokodile-und-narzisstische-augenbrauen-a-8bec694f-e45e-4690-8b77-7de0a17fe90f\n",
      "----------------------------------------\n",
      "Winston Groom: Autor von \"Forrest Gump\" ist tot\n",
      "https://www.spiegel.de/kultur/literatur/winston-groom-autor-von-forrest-gump-ist-tot-a-e8fd8002-f5f2-4a92-8237-42b8efef47ce\n",
      "----------------------------------------\n",
      "Reizung der Achillessehne: Auch US-Open-Siegerin Osaka verzichtet auf French Open\n",
      "https://www.spiegel.de/sport/tennis/tennis-us-open-siegerin-naomi-osaka-verzichtet-auf-french-open-a-d7c453e7-4695-4fef-b88e-215a79a4f01b\n",
      "----------------------------------------\n",
      "Weltweite Infektionen: Corona-Fälle überschreiten 30-Millionen-Marke\n",
      "https://www.spiegel.de/wissenschaft/medizin/corona-faelle-ueberschreiten-weltweit-30-millionen-marke-a-fdf7f454-825f-42ed-9220-f694e4d88884\n",
      "----------------------------------------\n",
      "Entschädigungen im Dieselskandal: EU-Verbraucherschützer werfen VW Hinhaltetaktik vor\n",
      "https://www.spiegel.de/wirtschaft/service/eu-verbraucherschuetzer-werfen-vw-hinhaltetaktik-vor-a-89575331-b9b0-4bae-971c-69cb7feb2072\n",
      "----------------------------------------\n",
      "US-Präsidentschaftswahl 2020\n",
      "https://www.spiegel.de/thema/us_praesidentschaftswahl_2020/\n",
      "----------------------------------------\n",
      "FBI warnt vor \"leicht entzündbarer\" Gewalt in den USA\n",
      "https://www.spiegel.de/politik/ausland/fbi-warnt-vor-leicht-entzuendbarer-gewalt-in-den-usa-a-60add438-600e-4877-bbd1-868c760566c6\n",
      "----------------------------------------\n",
      "Bundespolizei sieht Biden als Ziel russischer Desinformationskampagne\n",
      "https://www.spiegel.de/politik/ausland/usa-fbi-chef-sieht-biden-als-ziel-russischer-desinformationskampagne-a-67648b0a-9660-40a4-a3ec-5c781feae4a9\n",
      "----------------------------------------\n",
      "Lukaschenko will Grenzen nach Westen schließen\n",
      "https://www.spiegel.de/politik/ausland/belarus-alexander-lukaschenko-will-grenzen-nach-westen-schliessen-a-42e62609-b3e9-43cd-a473-2771e140c84e\n",
      "----------------------------------------\n",
      "Die rechten Rambos von Asgaard\n",
      "https://www.spiegel.de/politik/deutschland/ns-symbole-bei-deutscher-sicherheitsfirma-im-irak-die-rechten-rambos-von-asgaard-a-cc8218f7-1a0d-47ed-8150-b6923e592a45\n",
      "----------------------------------------\n",
      "War der Lockdown eine schöne Zeit?\n",
      "https://www.spiegel.de/politik/deutschland/news-us-wahl-donald-trump-israel-corona-krise-eu-bundesliga-a-d39119b5-9c1f-470f-8ba3-be4ee3777c84\n",
      "----------------------------------------\n",
      "Richter stoppt vorerst Trumps Änderungspläne bei der US-Post\n",
      "https://www.spiegel.de/politik/ausland/us-wahl-richter-stoppt-vorerst-aenderungsplaene-von-donald-trump-bei-der-post-a-688635fd-5ae9-4586-a038-83e88cc4764b\n",
      "----------------------------------------\n",
      "Corona-Fälle überschreiten 30-Millionen-Marke\n",
      "https://www.spiegel.de/wissenschaft/medizin/corona-faelle-ueberschreiten-weltweit-30-millionen-marke-a-fdf7f454-825f-42ed-9220-f694e4d88884\n",
      "----------------------------------------\n",
      "Die neue Datensparsamkeit\n",
      "https://www.spiegel.de/wissenschaft/medizin/coronavirus-wollen-sie-ueberhaupt-wissen-ob-sie-infiziert-sind-a-6b2968fc-ecf0-40ae-9c71-5d2a0094623f\n",
      "----------------------------------------\n",
      "\"Wenn man im Stadion auf Abstand sitzen muss, ist die Fankultur tot\"\n",
      "https://www.spiegel.de/sport/fussball/corona-frust-was-macht-ein-fussballfan-der-nicht-ins-stadion-darf-a-00000000-0002-0001-0000-000172993207\n",
      "----------------------------------------\n",
      "Zacken, Kronen, Söder\n",
      "https://www.spiegel.de/kultur/tv/maybrit-illner-zu-corona-und-wirtschaft-zacken-kronen-soeder-a-0b4f0801-cfda-4632-9fd5-f930b9af5af0\n",
      "----------------------------------------\n",
      "Niemand wird verschont\n",
      "https://www.spiegel.de/politik/ausland/iran-der-tod-des-ringers-navid-afkari-zeigt-die-angst-des-regimes-vor-einem-aufstand-a-717f3d53-bae6-44f0-bec3-b43042962278\n",
      "----------------------------------------\n",
      "Die verratenen Kinder von Moria\n",
      "https://www.spiegel.de/politik/ausland/die-verratenen-kinder-von-moria-sagen-was-ist-der-spiegel-podcast-a-e9fc31b3-268e-46d2-98d0-86ccbc022f48\n",
      "----------------------------------------\n",
      "Auch das Flüchtlingsthema kann die AfD nicht einen\n",
      "https://www.spiegel.de/politik/deutschland/afd-machtkampf-fluechtlingsthema-kann-die-partei-nicht-einen-a-f1b2e62d-451d-4ee3-ad34-3f4da8eac662\n",
      "----------------------------------------\n",
      "Seehofer lehnt Studie zu Rassismus bei der Polizei ab\n",
      "https://www.spiegel.de/politik/deutschland/seehofer-lehnt-studie-zu-rassismus-bei-der-polizei-ab-a-a855af05-ece6-4264-9405-f9b1a3558bd9\n",
      "----------------------------------------\n",
      "EU-Verbraucherschützer werfen VW Hinhaltetaktik vor\n",
      "https://www.spiegel.de/wirtschaft/service/eu-verbraucherschuetzer-werfen-vw-hinhaltetaktik-vor-a-89575331-b9b0-4bae-971c-69cb7feb2072\n",
      "----------------------------------------\n",
      "Wie viel Streit verträgt unsere Demokratie?\n",
      "https://www.bento.de/politik/moral-und-politik-warum-kommen-wir-in-debatten-nicht-mehr-zusammen-a-751af6eb-19cb-45cd-9513-291e73420d31#refsponi\n",
      "----------------------------------------\n",
      "Bundestag beschließt Reform der Kfz-Steuer\n",
      "https://www.spiegel.de/politik/deutschland/bundestag-beschliesst-reform-der-kfz-steuer-a-378de11e-d31b-4761-a77c-c48b35f5823f\n",
      "----------------------------------------\n",
      "\"Uneheliche Kinder erhöhen die Chance\"\n",
      "https://www.spiegel.de/geschichte/armin-laschet-verwandt-mit-karl-dem-grossen-ein-ahnenforscher-gibt-antworten-a-ab13b8eb-d74a-469f-be3b-74b7e2598288\n",
      "----------------------------------------\n",
      "Kinder, heute gehen wir shoppen\n",
      "https://www.spiegel.de/familie/familie-mit-drei-kindern-geht-ihr-nicht-auf-dem-zahnfleisch-a-1f286c07-cc20-4fb0-9868-507fdf65cf74\n",
      "----------------------------------------\n",
      "Der Gummifänger von London\n",
      "https://www.spiegel.de/wissenschaft/technik/mikroplastik-erfindung-faengt-gummipartikel-von-reifen-ab-a-78032119-c6dc-4ae1-974e-c0d0ca2b58fd\n",
      "----------------------------------------\n",
      "Tesla-Fahrer legte sich im Auto schlafen – bei 150 km/h\n",
      "https://www.spiegel.de/panorama/justiz/kanada-tesla-fahrer-legte-sich-im-auto-schlafen-bei-150-km-h-a-f3cd7508-e4a0-4312-a1c0-d988ddcdbe2c\n",
      "----------------------------------------\n",
      "Wie Airlines Kunden zermürben\n",
      "https://www.spiegel.de/wirtschaft/unternehmen/ryanair-laudamotion-und-co-wie-kunden-um-erstattungen-geprellt-werden-a-0648e8fd-62e2-4e1f-95a0-1156bb0fc70c\n",
      "----------------------------------------\n",
      "Frau zieht nach Heiratsantrag Aussage gegen gewalttätigen Lebensgefährten zurück\n",
      "https://www.spiegel.de/panorama/justiz/bonner-landgericht-angeklagter-im-bajonett-prozess-erhaelt-milde-strafe-a-def5bdbc-72c3-4b02-9a84-fe860a2ad706\n",
      "----------------------------------------\n",
      "Aus der Tiefe des Hubraums\n",
      "https://www.spiegel.de/auto/toyota-rav4-phev-im-test-elektroauto-mit-viel-hubraum-a-5ea75396-3c73-421c-99ce-7f10cd24df2f\n",
      "----------------------------------------\n",
      "Was Sie über die Playstation 5 und die Xbox Series wissen müssen\n",
      "https://www.spiegel.de/netzwelt/games/playstation-5-und-xbox-series-was-sie-ueber-die-neuen-spielekonsolen-wissen-muessen-a-c6b5a2de-2736-492f-9124-2edae9c60243\n",
      "----------------------------------------\n",
      "\"Wir sind Flicks Bodyguards\"\n",
      "https://www.spiegel.de/sport/fussball/fc-bayern-muenchen-so-bereitet-holger-broich-die-profis-auf-eine-lange-saison-vor-a-d03a9175-2cd0-475a-813d-4a1d490dddff\n",
      "----------------------------------------\n",
      "So hoch ist draußen noch keiner geflogen\n",
      "https://www.spiegel.de/sport/armand-duplantis-holt-neuen-weltrekord-im-freiluft-stabhochsprung-a-e7057d43-382e-4817-a489-49e41bd04f71\n",
      "----------------------------------------\n",
      "War es Selbsttötung aus Versehen?\n",
      "https://www.spiegel.de/geschichte/jimi-hendrix-50-todestag-des-purple-haze-saengers-a-286ce837-81ac-4028-8145-b61687d7f537\n",
      "----------------------------------------\n",
      "Die perfekte To-do-Liste\n",
      "https://www.spiegel.de/karriere/to-do-liste-so-verzetteln-sie-sich-nicht-mehr-a-829a8b61-c01c-47be-95ff-7246456601b6\n",
      "----------------------------------------\n",
      "\"Opa wäscht und bügelt, Oma kümmert sich ums Geld\"\n",
      "https://www.spiegel.de/netzwelt/instagram-senioren-aus-taiwan-opa-waescht-und-buegelt-oma-kuemmert-sich-ums-geld-a-a841b752-ed2a-486e-a4e5-1f8d1b8d8c34\n",
      "----------------------------------------\n",
      "Apocalypse Now\n",
      "https://www.spiegel.de/politik/ausland/waldbraende-in-kalifornien-apocalypse-now-a-686b990b-34d5-4c98-9361-4c0070184296\n",
      "----------------------------------------\n",
      "Darum spielt Bayern München in einer eigenen Liga\n",
      "https://www.spiegel.de/sport/fussball/bundesligafinanzen-warum-bayern-muenchen-auch-borussia-dortmund-enteilt-ist-a-20556261-07bb-490b-add7-0c49c77cf449\n",
      "----------------------------------------\n",
      "\"Ich habe direkt meine Verlobung infrage gestellt\"\n",
      "https://www.spiegel.de/familie/erwachsene-scheidungskinder-wie-kinder-mit-spaeten-scheidungen-umgehen-a-727ad2d8-c418-4bfd-a865-ab2042d8fe7d\n",
      "----------------------------------------\n",
      "Hetzer auf der Wache\n",
      "https://www.spiegel.de/panorama/justiz/polizei-essen-rechtsextreme-chatgruppen-aufgeflogen-hetzer-auf-der-wache-a-027c5519-694c-4bd3-9150-0c6d843e03a3\n",
      "----------------------------------------\n",
      "Kommentare und Kolumnen\n",
      "https://www.spiegel.de/thema/meinung/\n",
      "----------------------------------------\n",
      "Schweinehalter haben unser Mitgefühl nicht verdient\n",
      "https://www.spiegel.de/wissenschaft/mensch/afrikanische-schweinepest-kein-mitgefuehl-mit-schweinehaltern-kommentar-a-67ac0afb-e12c-46d3-a3eb-ca691b082183\n",
      "----------------------------------------\n",
      "Ein neuer Start für die Abrüstung\n",
      "https://www.spiegel.de/politik/ausland/ein-neuer-start-fuer-die-abruestung-a-88f44321-38ab-43b5-ae00-b9ebc9168788\n",
      "----------------------------------------\n",
      "Wo kommen eigentlich die ganzen Putin-Fans her?\n",
      "https://www.spiegel.de/netzwelt/web/wladimir-putins-fans-wo-kommen-sie-eigentlich-her-kolumne-a-2d515ca8-9a9e-4aa7-bd06-5650fab6795d\n",
      "----------------------------------------\n",
      "Aller Ehren wert\n",
      "https://www.spiegel.de/politik/deutschland/einigung-auf-aufnahme-von-1500-fluechtlingen-aller-ehren-wert-a-3bc94045-80fb-4389-ab97-5dc73fe0ac68\n",
      "----------------------------------------\n",
      "Politik\n",
      "https://www.spiegel.de/politik/deutschland/\n",
      "----------------------------------------\n",
      "Finanzielle Hilfen in der Coronakrise: Bundestag beschließt Entlastungen für Kommunen\n",
      "https://www.spiegel.de/politik/deutschland/coronavirus-bundestag-beschliesst-entlastungen-fuer-kommunen-a-22f4c3f7-f513-4dc9-98a4-481b6829b575\n",
      "----------------------------------------\n",
      "Dauerstreit in der Thüringer CDU: Mohrings Machtspiele\n",
      "https://www.spiegel.de/politik/deutschland/mike-mohring-thueringer-machtspiele-a-c07b38c8-06da-4b50-a65b-4b90f14ae6cd\n",
      "----------------------------------------\n",
      "Die Lage am Abend: Was uns Spider-Man über Moria lehrt\n",
      "https://www.spiegel.de/politik/deutschland/news-des-tages-moria-donald-trump-joe-biden-brexit-queen-elisabeth-ii-a-9d105c61-cd15-4e0a-809b-73f3c91df499\n",
      "----------------------------------------\n",
      "Ausland\n",
      "https://www.spiegel.de/politik/ausland/\n",
      "----------------------------------------\n",
      "Kritik an Polens Präsident: Duda macht seine Tochter zur Beraterin\n",
      "https://www.spiegel.de/politik/ausland/polen-andrzej-duda-macht-seine-tochter-zur-beraterin-a-56bfb900-68c2-435c-b8a0-284d16b0ae49\n",
      "----------------------------------------\n",
      "Teurer Brexit: Royals verlieren Millionen Euro an Agrarsubventionen\n",
      "https://www.spiegel.de/politik/ausland/brexit-royals-verlieren-millionen-euro-an-agrarsubventionen-a-fdead381-6913-407e-99ba-b2ec97b1f4ec\n",
      "----------------------------------------\n",
      "Medienbericht: Früheres Model wirft Trump sexuellen Übergriff vor\n",
      "https://www.spiegel.de/politik/ausland/donald-trump-frueheres-model-wirft-dem-us-praesidenten-sexuellen-uebergriff-vor-a-d7a2b569-4c37-4177-9f80-0b92dcc25102\n",
      "----------------------------------------\n",
      "Panorama\n",
      "https://www.spiegel.de/panorama/\n",
      "----------------------------------------\n",
      "Opernsängerin mit Corona-Infektion: Anna Netrebko macht Lungenentzündung öffentlich\n",
      "https://www.spiegel.de/panorama/leute/anna-netrebko-opernsaengerin-liegt-mit-covid-19-und-lungenentzuendung-im-krankenhaus-a-cb16cfb3-a8f4-43de-9882-f02eaeab2085\n",
      "----------------------------------------\n",
      "Verleihung der Ig-Nobelpreise: Grölende Krokodile, störende Kaugeräusche und narzisstische Augenbrauen\n",
      "https://www.spiegel.de/panorama/verleihung-der-ig-nobelpreise-groelende-krokodile-und-narzisstische-augenbrauen-a-8bec694f-e45e-4690-8b77-7de0a17fe90f\n",
      "----------------------------------------\n",
      "Corona in Hamburg: Gesundheitsamt sucht hundert Besucher der Bar \"Katze\"\n",
      "https://www.spiegel.de/panorama/gesellschaft/corona-ausbruch-gesundheitsamt-sucht-nach-etwa-100-gaesten-der-bar-katze-in-hamburg-a-a4494240-c678-4000-9b72-9a9c7ceef1b7\n",
      "----------------------------------------\n",
      "Sport\n",
      "https://www.spiegel.de/sport/\n",
      "----------------------------------------\n",
      "Reizung der Achillessehne: Auch US-Open-Siegerin Osaka verzichtet auf French Open\n",
      "https://www.spiegel.de/sport/tennis/tennis-us-open-siegerin-naomi-osaka-verzichtet-auf-french-open-a-d7c453e7-4695-4fef-b88e-215a79a4f01b\n",
      "----------------------------------------\n",
      "Doppelsieg für Ineos bei Tour de France: In aller Freundschaft\n",
      "https://www.spiegel.de/sport/tour-de-france-doppelsieg-fuer-ineos-in-aller-freundschaft-a-f1fc692d-95a6-4c23-a3b7-cbd60fa760fb\n",
      "----------------------------------------\n",
      "Tour de France: Etappensieg und Bergtrikot - Kwiatkowski und Carapaz rollen gemeinsam ins Ziel\n",
      "https://www.spiegel.de/sport/tour-de-france-michal-kwiatkowski-gewinnt-18-etappe-rogic-weiter-in-gelb-a-98287e6b-609f-4b5b-8650-af0bc870b086\n",
      "----------------------------------------\n",
      "Wirtschaft\n",
      "https://www.spiegel.de/wirtschaft/\n",
      "----------------------------------------\n",
      "18,50 Euro: Stundenlohn in der Altenpflege soll deutlich steigen\n",
      "https://www.spiegel.de/wirtschaft/soziales/altenpflege-stundenlohn-soll-auf-18-50-euro-steigen-a-02a98e2a-bf14-47f5-ad7a-b623025d1c94\n",
      "----------------------------------------\n",
      "Recycling: Kommt bald das Pfand auf Batterien?\n",
      "https://www.spiegel.de/wirtschaft/service/recycling-kommt-bald-das-pfand-auf-batterien-a-382dcffd-b6b0-46af-a94d-3ee388b63c1e\n",
      "----------------------------------------\n",
      "Affäre um Beraterverträge: Rechnungshof erhebt neue Vorwürfe gegen Deutsche Bahn\n",
      "https://www.spiegel.de/wirtschaft/unternehmen/deutsche-bahn-neue-vorwuerfe-in-affaere-um-beratervertraege-a-8f9417ce-8c33-47dd-b416-80717e7f9c87\n",
      "----------------------------------------\n",
      "Reformideen für Leitindex: Deutsche Börse plant den Dax-40\n",
      "https://www.manager-magazin.de/finanzen/boerse/deutscher-aktienindex-deutsche-boerse-ag-plant-den-dax-40-a-00000000-0002-0001-0000-000173050937\n",
      "----------------------------------------\n",
      "Fahrplan für nächstes Elektroauto: Elektrischer Kompakt-SUV VW ID.4 soll schnell auf den Markt\n",
      "https://www.manager-magazin.de/unternehmen/autoindustrie/vw-id-4-volkswagen-nennt-fahrplan-fuer-kompakt-suv-elektroauto-a-a99b060e-e60e-4276-b33b-be3eb5b68601\n",
      "----------------------------------------\n",
      "Beteiligung am Autovermieter: Warum Volkswagen einen Einstieg bei Sixt plant\n",
      "https://www.manager-magazin.de/unternehmen/autoindustrie/volkswagen-ag-warum-der-autokonzern-einen-einstieg-bei-sixt-plant-a-00000000-0002-0001-0000-000173050939\n",
      "----------------------------------------\n",
      "Börsenkurse manager magazin\n",
      "https://boersen.manager-magazin.de\n",
      "----------------------------------------\n",
      "Wissenschaft\n",
      "https://www.spiegel.de/wissenschaft/\n",
      "----------------------------------------\n",
      "Genanalyse: So viel Wikinger steckt noch in den Europäern\n",
      "https://www.spiegel.de/wissenschaft/mensch/wikinger-so-viel-nordmann-gen-steckt-noch-in-den-europaeern-a-abb4e95e-c136-45fa-90ff-cc8a1ec2cdde\n",
      "----------------------------------------\n",
      "Todesfall nach Iberogast-Einnahme: Staatsanwalt ermittelt gegen zwei Ex-Bayer-Mitarbeiter\n",
      "https://www.spiegel.de/wissenschaft/medizin/todesfall-in-zusammenhang-mit-iberogast-staatsanwalt-ermittelt-gegen-zwei-ex-bayer-mitarbeiter-a-a417d8dc-79c9-4030-a079-ce3d8ab11418\n",
      "----------------------------------------\n",
      "Höchststand bei Neuinfektionen seit April: Was die steigenden Fallzahlen bedeuten\n",
      "https://www.spiegel.de/wissenschaft/medizin/corona-hoechststand-bei-neuinfektionen-seit-april-was-die-steigenden-fallzahlen-bedeuten-a-97ddb4f1-7689-4e73-a6ae-98ef3773bf4e\n",
      "----------------------------------------\n",
      "Netzwelt\n",
      "https://www.spiegel.de/netzwelt/\n",
      "----------------------------------------\n",
      "Hackerangriffe: Twitter will Politiker und Journalisten vor der Wahl besser schützen\n",
      "https://www.spiegel.de/netzwelt/twitter-will-politiker-und-journalisten-vor-der-wahl-besser-schuetzen-a-2032701a-58fd-457b-b0a0-af2e818273ed\n",
      "----------------------------------------\n",
      "Hatespeech: Gesetz gegen Hasskriminalität offenbar verfassungswidrig\n",
      "https://www.spiegel.de/netzwelt/netzpolitik/hate-speech-gesetz-gegen-hasskriminalitaet-offenbar-verfassungswidrig-a-947823d3-b967-4c47-80d8-4f7f62558af8\n",
      "----------------------------------------\n",
      "Virtuelle Realität: Facebook kündigt neue VR-Brille und Partnerschaft mit Ray-Ban an\n",
      "https://www.spiegel.de/netzwelt/gadgets/facebook-kuendigt-neue-vr-brille-und-partnerschaft-mit-ray-ban-an-a-9d78b496-2da5-41dd-8efe-e01e1734a2bd\n",
      "----------------------------------------\n",
      "Kultur\n",
      "https://www.spiegel.de/kultur/\n",
      "----------------------------------------\n",
      "Winston Groom: Autor von \"Forrest Gump\" ist tot\n",
      "https://www.spiegel.de/kultur/literatur/winston-groom-autor-von-forrest-gump-ist-tot-a-e8fd8002-f5f2-4a92-8237-42b8efef47ce\n",
      "----------------------------------------\n",
      "Gender Reveal Partys: Stolze Eltern eines Flächenbrandes\n",
      "https://www.spiegel.de/kultur/gender-reveal-partys-zuenden-waelder-an-genderpocalypse-now-kolumne-a-f1ddfcfd-6d49-49b4-adbe-c1610696f6e2\n",
      "----------------------------------------\n",
      "Nach Rechtsstreit: Banksy verliert Markenrecht an Blumenwerfer-Motiv\n",
      "https://www.spiegel.de/kultur/banksy-verliert-markenrecht-an-blumenwerfer-motiv-a-c06b9abc-2dcc-4840-9a82-d70ac12b8144\n",
      "----------------------------------------\n",
      "Seit es den \"Womanizer\" und den \"Satisfyer\" gibt, reden Frauen auf einmal über Masturbation\n",
      "https://www.bento.de/gefuehle/womanizer-und-satisfyer-warum-jetzt-auf-einmal-alle-ueber-ihre-sextoys-reden-a-f07057ba-4c64-46c0-9e45-2eeb2ce8f7fc\n",
      "----------------------------------------\n",
      "Lea wurde als Mädchen von einem Mann aus einem Chatroom verführt\n",
      "https://www.bento.de/gefuehle/cybergrooming-lea-wurde-als-maedchen-von-einem-mann-aus-einem-chatroom-verfuehrt-a-549b5493-b930-4688-a918-8e04dbdf865b\n",
      "----------------------------------------\n",
      "Günstiger als AirPods, aber trotzdem gut: Welcher True-Wireless-Kopfhörer für dich der richtige ist\n",
      "https://www.bento.de/gadgets/wireless-kopfhoerer-guenstige-alternativen-zu-apple-airpods-sennheiser-und-co-in-guter-qualitaet-a-b88cd1f0-1cd3-4f0c-9482-6fdeb7844e1a\n",
      "----------------------------------------\n",
      "Tests\n",
      "https://www.spiegel.de/tests/\n",
      "----------------------------------------\n",
      "Rasensprenger im Test: Regenmacher\n",
      "https://www.spiegel.de/tests/garten/rasensprenger-im-test-regenmacher-a-4b6c967d-e341-4bf9-9ad1-7445acfc1a95\n",
      "----------------------------------------\n",
      "Bestseller Link\n",
      "https://www.spiegel.de/kultur/bestseller-buecher-belletristik-sachbuch-auf-spiegel-liste-a-458623.html\n",
      "----------------------------------------\n",
      "Geschichte\n",
      "https://www.spiegel.de/geschichte/\n",
      "----------------------------------------\n",
      "Bildband über die Nachkriegszeit: Boogie-Woogie auf dem Trümmerfeld\n",
      "https://www.spiegel.de/geschichte/deutschland-nach-dem-zweiten-weltkrieg-bildband-wolfszeit-a-d467fc48-2d4b-42a5-bdbd-bd663950e5e0\n",
      "----------------------------------------\n",
      "Auf LSD in den Tod: Aldous Huxleys letzter Trip\n",
      "https://www.spiegel.de/geschichte/schriftsteller-aldous-huxley-sterbehilfe-mit-lsd-a-d61e7327-d9c2-498c-b582-5b0b812f0414\n",
      "----------------------------------------\n",
      "Versteckt im Dschungel: Japans letzte Krieger\n",
      "https://www.spiegel.de/geschichte/teruo-nakamura-und-co-japans-letzte-weltkriegssoldaten-versteckt-im-dschungel-a-99a09f95-5c89-482c-a3f1-73f6c7cb631f\n",
      "----------------------------------------\n",
      "Job & Karriere\n",
      "https://www.spiegel.de/karriere/\n",
      "----------------------------------------\n",
      "Kinderbetreuung und Arbeit: Was berufstätige Eltern im Corona-Herbst wissen müssen\n",
      "https://www.spiegel.de/karriere/arbeitsrecht-und-kinder-was-arbeitende-eltern-wissen-muessen-a-081de944-6302-4e09-a6be-86fbc5a1c2b9\n",
      "----------------------------------------\n",
      "Vom Gifthersteller zum Insektenretter: \"Ich will mein Unternehmen schöpferisch zerstören\"\n",
      "https://www.spiegel.de/karriere/insektizid-hersteller-wird-insektenretter-ich-will-mein-unternehmen-schoepferisch-zerstoeren-a-3d1f3d90-09d0-453b-a0f3-cd8efcd0cc20\n",
      "----------------------------------------\n",
      "Tipps von der Karriereberaterin: Hilfe, ich bin als Chefin so ungeduldig!\n",
      "https://www.spiegel.de/karriere/wie-wird-man-eine-gute-chefin-tipps-von-der-karriereberaterin-a-7486c055-a966-4e34-a79d-0187de72600a\n",
      "----------------------------------------\n",
      "Mobilität\n",
      "https://www.spiegel.de/auto/\n",
      "----------------------------------------\n",
      "Klimaschutz: EU-Kommission sucht Ausstiegsjahr für Verbrennungsmotor\n",
      "https://www.spiegel.de/auto/eu-kommission-sucht-ausstiegsjahr-fuer-verbrennungsmotor-a-3369e3bf-abb9-44d7-9b29-3f83c6a5f997\n",
      "----------------------------------------\n",
      "Strengere CO₂-Ziele für die Autoindustrie: Eine lösbare Aufgabe\n",
      "https://www.spiegel.de/auto/eine-loesbare-aufgabe-a-dc9c5cd4-3c99-4894-be02-86184ea66db9\n",
      "----------------------------------------\n",
      "Wegen steigenden Radverkehrs: Pariser Pop-up-Radwege sollen bleiben\n",
      "https://www.spiegel.de/auto/paris-pop-up-radwege-sollen-bleiben-a-3872b58f-56b8-41e6-881f-f57f9b79196b\n",
      "----------------------------------------\n",
      "Leben\n",
      "https://www.spiegel.de/thema/leben/\n",
      "----------------------------------------\n",
      "Der ländliche Rassismus und ich\n",
      "https://www.spiegel.de/reise/deutschland/rassismus-auf-dem-land-wenn-staedter-davor-warnen-ist-das-vor-allem-bequem-a-02b552ab-07ec-4287-a116-fcbc2540b6f4\n",
      "----------------------------------------\n",
      "Brillen könnten das Corona-Infektionsrisiko senken\n",
      "https://www.spiegel.de/gesundheit/diagnose/brillen-koennten-das-corona-infektionsrisiko-senken-a-baaa9c70-fcdc-4a66-8b15-8135448adf9b\n",
      "----------------------------------------\n",
      "\"Die Zahl der Sterbefälle steigt\"\n",
      "https://www.spiegel.de/gesundheit/diagnose/michael-barczok-die-zahl-der-sterbefaelle-steigt-a-21788023-9dc9-4987-b17a-ea6cf31b1b19\n",
      "----------------------------------------\n",
      "Wenn es an ihm liegt, dass sie nicht schwanger wird\n",
      "https://www.spiegel.de/gesundheit/schwangerschaft/der-unfruchtbare-mann-a-00000000-0002-0001-0000-000172993242\n",
      "----------------------------------------\n",
      "Tauschen ist seliger denn Kaufen\n",
      "https://www.spiegel.de/stil/nachhaltig-einkaufen-warum-mir-klamottentauschpartys-den-spass-an-kleidung-zurueckbringen-a-cf596234-fe7e-418e-9585-7c62313a7383\n",
      "----------------------------------------\n",
      "Tipps fürs Campen\n",
      "https://www.spiegel.de/thema/test_und_produkte/\n",
      "----------------------------------------\n",
      "Mit dieser Ausrüstung wird Camping komfortabel\n",
      "https://www.spiegel.de/tests/camping/camping-ausruestung-im-test-mit-diesem-zubehoer-wird-es-komfortabel-a-c2b15a80-9a65-4715-b4d0-84dc6bbc59a7\n",
      "----------------------------------------\n",
      "Outdoor-Gadgets - So rocken Sie den Camping-Urlaub\n",
      "https://www.spiegel.de/tests/camping/soundbox-stirnlampe-und-navigationsgeraet-fuer-camper-und-camping-a-18270b88-787b-4857-b60e-864f4861a151\n",
      "----------------------------------------\n",
      "Camp dich glücklich\n",
      "https://www.spiegel.de/reise/fernweh/camping-gadgets-thermobecher-werkzeugkoffer-campingdusche-a-1299874.html\n",
      "----------------------------------------\n",
      "Dein SPIEGEL\n",
      "https://www.spiegel.de/deinspiegel/\n",
      "----------------------------------------\n",
      "Was dich in \"Dein SPIEGEL\" Nr. 10/2020 erwartet\n",
      "https://www.spiegel.de/deinspiegel/was-dich-in-dein-spiegel-nr-10-2020-erwartet-a-244f5796-825f-4441-b24c-111da592a2d5\n",
      "----------------------------------------\n",
      "Wie haben sich Freundschaften durch Corona verändert?\n",
      "https://www.spiegel.de/deinspiegel/trotz-corona-freunde-bleiben-kinder-erzaehlen-a-00000000-0002-0001-0000-000172431236\n",
      "----------------------------------------\n",
      "Bild des Tages\n",
      "https://www.spiegel.de/fotostrecke/bilder-des-tages-fotos-aus-deutschland-und-der-welt-fotostrecke-122824.html\n"
     ]
    }
   ],
   "source": [
    "#print soup.get_text()hreflinks=[]\n",
    "AllTitles=soup.findAll('h2')\n",
    "alltitles=[]\n",
    "alltitleLinks=[]\n",
    "for l in AllTitles:\n",
    "    #print l\n",
    "    try:\n",
    "        title = l.find('a')['title']\n",
    "        link = l.find('a')['href']\n",
    "        print('-'*40)\n",
    "        print(title)\n",
    "        print(link)\n",
    "        alltitles.append(title)\n",
    "        alltitleLinks.append(link)\n",
    "    except:\n",
    "        pass"
   ]
  },
  {
   "cell_type": "markdown",
   "metadata": {
    "slideshow": {
     "slide_type": "slide"
    }
   },
   "source": [
    "## Get all images of the page\n",
    "\n",
    "Get url of all images, which are currently displayed on [www.zeit.de](http://www.zeit.de):"
   ]
  },
  {
   "cell_type": "code",
   "execution_count": 7,
   "metadata": {
    "ExecuteTime": {
     "end_time": "2017-10-20T12:50:12.456000Z",
     "start_time": "2017-10-20T12:50:12.440000Z"
    },
    "execution": {
     "iopub.execute_input": "2020-09-18T05:33:42.534753Z",
     "iopub.status.busy": "2020-09-18T05:33:42.533549Z",
     "iopub.status.idle": "2020-09-18T05:33:42.537347Z",
     "shell.execute_reply": "2020-09-18T05:33:42.538102Z"
    },
    "slideshow": {
     "slide_type": "fragment"
    }
   },
   "outputs": [
    {
     "name": "stdout",
     "output_type": "stream",
     "text": [
      "data:image/gif;base64,R0lGODlhAQABAAAAACH5BAEKAAEALAAAAAABAAEAAAICTAEAOw==\n",
      "https://cdn.prod.www.spiegel.de/images/b73cafdf-417c-4cc5-9447-84d3fca0c293_w948_r2.11_fpx59.2_fpy54.96.jpg\n",
      "https://cdn.prod.www.spiegel.de/images/b73cafdf-417c-4cc5-9447-84d3fca0c293_w920_r1.77_fpx59.2_fpy54.96.jpg\n",
      "https://cdn.prod.www.spiegel.de/images/db7eb0be-8ebb-47a2-b489-fe3d65dbed06_w117_r1.33_fpx28.13_fpy50.jpg\n",
      "https://cdn.prod.www.spiegel.de/images/db7eb0be-8ebb-47a2-b489-fe3d65dbed06_w117_r1.33_fpx28.13_fpy50.jpg\n",
      "https://cdn.prod.www.spiegel.de/images/db7eb0be-8ebb-47a2-b489-fe3d65dbed06_w488_r1.77_fpx28.13_fpy50.jpg\n",
      "https://cdn.prod.www.spiegel.de/images/db7eb0be-8ebb-47a2-b489-fe3d65dbed06_w488_r1.77_fpx28.13_fpy50.jpg\n",
      "https://cdn.prod.www.spiegel.de/images/c4a27538-a058-4295-84c1-573ee38cfdda_w56_r1_fpx44.9_fpy44.9.png\n",
      "https://cdn.prod.www.spiegel.de/images/c4a27538-a058-4295-84c1-573ee38cfdda_w56_r1_fpx44.9_fpy44.9.png\n",
      "https://cdn.prod.www.spiegel.de/images/7dede6ae-0a06-4377-a862-2860982c18fd_w117_r1.33_fpx47.03_fpy44.99.jpg\n"
     ]
    }
   ],
   "source": [
    "imglinks=[]\n",
    "AllImgs=soup.findAll('img')\n",
    "for l in AllImgs:\n",
    "    if l.has_attr('src'):\n",
    "       imglinks.append(l)\n",
    "\n",
    "for l in imglinks[:10]:\n",
    "    print(l['src'])"
   ]
  },
  {
   "cell_type": "markdown",
   "metadata": {
    "slideshow": {
     "slide_type": "slide"
    }
   },
   "source": [
    "## Get entire text of a news-article"
   ]
  },
  {
   "cell_type": "code",
   "execution_count": 8,
   "metadata": {
    "ExecuteTime": {
     "end_time": "2017-10-20T13:09:24.145000Z",
     "start_time": "2017-10-20T13:09:23.833000Z"
    },
    "execution": {
     "iopub.execute_input": "2020-09-18T05:33:42.555429Z",
     "iopub.status.busy": "2020-09-18T05:33:42.544257Z",
     "iopub.status.idle": "2020-09-18T05:33:42.897318Z",
     "shell.execute_reply": "2020-09-18T05:33:42.898020Z"
    },
    "slideshow": {
     "slide_type": "fragment"
    }
   },
   "outputs": [
    {
     "name": "stdout",
     "output_type": "stream",
     "text": [
      "\n",
      "SPIEGEL+-Zugang wird gerade auf einem anderen Gerät genutzt\n",
      "\n",
      "SPIEGEL+ kann nur auf einem Gerät zur selben Zeit genutzt werden.\n",
      "\n",
      "Klicken Sie auf den Button, spielen wir den Hinweis auf dem anderen Gerät aus und Sie können SPIEGEL+ weiter nutzen.\n",
      "\n",
      "\n",
      "Preisverleihung 2014: Die traditionell schrille Gala fiel in diesem Jahr wegen der Coronapandemie aus\n",
      "Sie sollen \"erst zum Lachen und dann zum Denken anregen\": Zehn wissenschaftliche Studien sind in den USA mit \"Ig-Nobelpreisen\" ausgezeichnet worden (gesprochen \"ignoble\", was übersetzt etwa unwürdig heißt). Wegen der Coronavirus-Pandemie wurde die traditionell schrille Gala in der Nacht zum Freitag diesmal erstmals ausschließlich im Internet veranstaltet. Die bereits zum 30. Mal verliehenen undotierten Auszeichnungen sollen nach Angaben der Veranstalter \"das Ungewöhnliche feiern und das Fantasievolle ehren\".\n",
      "So bekamen unter anderem Wissenschaftler aus Kanada und den USA die Auszeichnung in der Kategorie Psychologie für die Entwicklung einer Methode, Narzissten anhand der Untersuchung ihrer Augenbrauen zu identifizieren. Ein Forscher aus den USA bekam den Preis für die Sammlung von Beweisen dafür, dass Insektenforscher Angst vor Spinnen haben. Wissenschaftler aus Österreich, Schweden, Japan, den USA und der Schweiz erhielten eine Ehrung in der Kategorie Akustik dafür, dass sie einen weiblichen chinesischen Alligator dazu bewegen konnten, in einer mit Helium gefüllten luftdichten Kammer zu grölen.\n",
      "Die weiteren Preisträger:\n",
      "Wissenschaftler aus den Niederlanden und Belgien haben einen Namen dafür gefunden, wenn Menschen das Schmatzen anderer nicht aushalten können: Misophonia heißt die Verzweiflung beim Hören der Kaugeräusche von anderen Menschen, ein bislang nicht anerkannter medizinischer Befund. Dafür gab es den Preis in der Kategorie Medizin.\n",
      "In der Kategorie Wissenschaft wurden Wissenschaftler aus Schottland, Polen, Frankreich, Brasilien, Chile, Kolumbien, Australien und Italien für den Versuch ausgezeichnet, die Beziehung zwischen der Einkommensungerechtigkeit eines Landes und der durchschnittlichen Häufigkeit von Küssen auf den Mund zu quantifizieren.\n",
      "Die Regierungen von Indien und Pakistan lassen ihre Diplomaten heimlich die Türklingeln der jeweils anderen mitten in der Nacht betätigen und sie dann wegrennen, noch bevor jemand die Tür öffnen kann. Für diesen Klingelstreich erhielten sie den Preis in der Kategorie Frieden.\n",
      "Auch ein Forscher aus Deutschland ist unter den Preisträgern - er bekam einen Preis in der Kategorie Physik: Er hatte gemeinsam mit Kollegen aus der ganzen Welt erforscht, was mit einem lebenden Regenwurm passiert, wenn man seinen Körper mit hoher Frequenz vibrieren lässt.\n",
      "Ungewöhnlich politisch wurde es in diesem Jahr in der Kategorie Medizinische Bildung: Die Staatsoberhäupter von Brasilien, Großbritannien, Indien, Mexiko, Belarus, den USA, der Türkei, Russland und Turkmenistan wurden dafür geehrt, dass sie die Coronavirus-Pandemie dafür genutzt haben, der Welt beizubringen, dass Politiker einen unmittelbareren Einfluss auf Leben und Tod haben können als Wissenschaftler und Ärzte.\n",
      "Normalerweise verfolgen mehr als 1000 Zuschauer die Gala live in einem Theater der Elite-Universität Harvard. \"Wo zur Hölle sind denn alle?\", fragte die Wissenschaftlerin Jean Berko Gleason gleich zu Beginn bei ihrer traditionellen Willkommensansprache - alleine vor ihrem Computer. Die Ticketeinnahmen finanzieren das Spektakel, weswegen die Veranstalter diesmal um Spenden baten. Aber auch bei der rund anderthalbstündigen Online-Preisverleihung, die diesmal unter dem Oberthema \"Insekten\" stand, flogen Papierflieger, es gab Sketche und bizarre Kurz-Opern.\n",
      "\"Wir hoffen, dass die Pandemie bis nächstes Jahr gezähmt ist und wir unsere 31. Verleihung wieder auf einer Bühne machen können\", sagte Moderator Marc Abrahams, Herausgeber einer wissenschaftlichen Zeitschrift zu kurioser Forschung - bevor er die Gala wie immer mit seinen traditionellen Abschlussworten beendete: \"Wenn Sie dieses Jahr keinen Ig-Nobelpreis gewonnen haben, und besonders dann, wenn Sie einen gewonnen haben: mehr Glück im nächsten Jahr!\"\n",
      "Preisverleihung 2014: Die traditionell schrille Gala fiel in diesem Jahr wegen der Coronapandemie aus\n",
      "Melden Sie sich an und diskutieren Sie mit\n"
     ]
    }
   ],
   "source": [
    "IDX=0\n",
    "suburl=alltitleLinks[IDX]\n",
    "try:\n",
    "    html=urlopen(suburl).read() #works if subdomains are referenced by absolute path\n",
    "except:\n",
    "    html=urlopen(url+suburl).read() #works if subdomains are referenced by relative path\n",
    "soup=BeautifulSoup(html,\"html.parser\")\n",
    "AllP=soup.findAll('p')\n",
    "for p in AllP:\n",
    "    print(p.get_text())"
   ]
  },
  {
   "cell_type": "markdown",
   "metadata": {
    "collapsed": true,
    "slideshow": {
     "slide_type": "skip"
    }
   },
   "source": [
    "## Questions and Remarks\n",
    "1. This notebook demonstrates how raw-text can be crawled from news-sites. But what is the drawback of this method?\n",
    "2. Execute the entire notebook also for `www.spiegel.de` and `www.sueddeutsche.de`.\n",
    "3. What do you observe? How to solve the problem?"
   ]
  },
  {
   "cell_type": "code",
   "execution_count": null,
   "metadata": {
    "collapsed": true
   },
   "outputs": [],
   "source": []
  }
 ],
 "metadata": {
  "celltoolbar": "Slideshow",
  "kernelspec": {
   "display_name": "Python 3",
   "language": "python",
   "name": "python3"
  },
  "language_info": {
   "codemirror_mode": {
    "name": "ipython",
    "version": 3
   },
   "file_extension": ".py",
   "mimetype": "text/x-python",
   "name": "python",
   "nbconvert_exporter": "python",
   "pygments_lexer": "ipython3",
   "version": "3.7.7"
  },
  "nav_menu": {},
  "toc": {
   "base_numbering": 1,
   "nav_menu": {},
   "number_sections": true,
   "sideBar": true,
   "skip_h1_title": false,
   "title_cell": "Table of Contents",
   "title_sidebar": "Contents",
   "toc_cell": false,
   "toc_position": {},
   "toc_section_display": "block",
   "toc_window_display": false
  },
  "varInspector": {
   "cols": {
    "lenName": 16,
    "lenType": 16,
    "lenVar": 40
   },
   "kernels_config": {
    "python": {
     "delete_cmd_postfix": "",
     "delete_cmd_prefix": "del ",
     "library": "var_list.py",
     "varRefreshCmd": "print(var_dic_list())"
    },
    "r": {
     "delete_cmd_postfix": ") ",
     "delete_cmd_prefix": "rm(",
     "library": "var_list.r",
     "varRefreshCmd": "cat(var_dic_list()) "
    }
   },
   "types_to_exclude": [
    "module",
    "function",
    "builtin_function_or_method",
    "instance",
    "_Feature"
   ],
   "window_display": false
  }
 },
 "nbformat": 4,
 "nbformat_minor": 1
}