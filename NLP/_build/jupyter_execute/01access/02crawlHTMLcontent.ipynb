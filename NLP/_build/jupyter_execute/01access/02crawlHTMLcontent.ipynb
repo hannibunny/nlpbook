{
 "cells": [
  {
   "cell_type": "markdown",
   "metadata": {
    "slideshow": {
     "slide_type": "slide"
    }
   },
   "source": [
    "# Access Contents of HTML Page\n",
    "\n",
    "- Author:      Johannes Maucher\n",
    "- Last update: 2018-10-21\n",
    "\n",
    "This notebook demonstrates how to parse a HTML document and access dedicated elements of the parse tree.\n",
    "[Beautiful Soup](http://www.crummy.com/software/BeautifulSoup/bs4/doc/#) is a python package for parsing HTML. Download and install version 4 by typing:\n",
    "\n",
    "> `pip install beautifulsoup4`\n",
    "\n",
    "into the command shell. Once it is installed it can be imported by"
   ]
  },
  {
   "cell_type": "code",
   "execution_count": 1,
   "metadata": {
    "ExecuteTime": {
     "end_time": "2017-10-20T12:50:00.898000Z",
     "start_time": "2017-10-20T12:50:00.893000Z"
    },
    "slideshow": {
     "slide_type": "fragment"
    }
   },
   "outputs": [],
   "source": [
    "from bs4 import BeautifulSoup"
   ]
  },
  {
   "cell_type": "markdown",
   "metadata": {
    "slideshow": {
     "slide_type": "slide"
    }
   },
   "source": [
    "For accessing arbitrary resources by URL the python modul [urllib](https://docs.python.org/2/library/urllib.html) must also be installed. Import the method _urlopen()_ from this module:  "
   ]
  },
  {
   "cell_type": "code",
   "execution_count": 2,
   "metadata": {
    "ExecuteTime": {
     "end_time": "2017-10-20T12:50:02.246000Z",
     "start_time": "2017-10-20T12:50:02.242000Z"
    },
    "slideshow": {
     "slide_type": "fragment"
    }
   },
   "outputs": [],
   "source": [
    "from urllib.request import urlopen"
   ]
  },
  {
   "cell_type": "markdown",
   "metadata": {
    "slideshow": {
     "slide_type": "fragment"
    }
   },
   "source": [
    "If these two modules are available the HTML parse tree of the specified URL can easily be generated as follows."
   ]
  },
  {
   "cell_type": "code",
   "execution_count": 3,
   "metadata": {
    "ExecuteTime": {
     "end_time": "2017-10-20T12:50:04.344000Z",
     "start_time": "2017-10-20T12:50:03.569000Z"
    },
    "slideshow": {
     "slide_type": "fragment"
    }
   },
   "outputs": [],
   "source": [
    "#url=\"http://www.zeit.de\"\n",
    "url=\"http://www.spiegel.de\"\n",
    "#url=\"http://www.sueddeutsche.de\"\n",
    "html=urlopen(url).read()\n",
    "soup=BeautifulSoup(html,\"html.parser\")"
   ]
  },
  {
   "cell_type": "markdown",
   "metadata": {
    "slideshow": {
     "slide_type": "slide"
    }
   },
   "source": [
    "Now e.g. the title of the URL can be accessed by:"
   ]
  },
  {
   "cell_type": "code",
   "execution_count": 4,
   "metadata": {
    "ExecuteTime": {
     "end_time": "2017-10-20T12:50:06.092000Z",
     "start_time": "2017-10-20T12:50:06.086000Z"
    },
    "slideshow": {
     "slide_type": "fragment"
    }
   },
   "outputs": [
    {
     "name": "stdout",
     "output_type": "stream",
     "text": [
      "Title of page:   DER SPIEGEL | Online-Nachrichten\n"
     ]
    }
   ],
   "source": [
    "titleTag = soup.html.head.title\n",
    "print(\"Title of page:  \",titleTag.string)"
   ]
  },
  {
   "cell_type": "markdown",
   "metadata": {
    "slideshow": {
     "slide_type": "slide"
    }
   },
   "source": [
    "## Get all links in the page\n",
    "All links in the page can be retrieven by the following code (only the first 20 links are printed)"
   ]
  },
  {
   "cell_type": "code",
   "execution_count": 5,
   "metadata": {
    "ExecuteTime": {
     "end_time": "2017-10-20T12:50:07.973000Z",
     "start_time": "2017-10-20T12:50:07.951000Z"
    },
    "slideshow": {
     "slide_type": "fragment"
    }
   },
   "outputs": [
    {
     "name": "stdout",
     "output_type": "stream",
     "text": [
      "Number of links in this page:  577\n",
      "#Inhalt\n",
      "https://www.spiegel.de/\n",
      "https://abo.spiegel.de/?b=SPOHNAVABO&requestAccessToken=true&sara_icid=disp_upd_9h6L5hu8K1AAnttzYATx3hvk7taDkP&targetUrl=https%3A%2F%2Fwww.spiegel.de%2Ffuermich%2F\n",
      "https://gruppenkonto.spiegel.de/authenticate?requestAccessToken=true&targetUrl=https%3A%2F%2Fwww.spiegel.de%2Ffuermich%2F\n",
      "https://www.spiegel.de/fuermich/\n",
      "https://www.spiegel.de/\n",
      "https://www.spiegel.de/schlagzeilen/\n",
      "https://www.spiegel.de/plus/\n",
      "https://www.spiegel.de/audio/\n",
      "https://www.spiegel.de/fuermich/\n",
      "https://www.spiegel.de/schlagzeilen/\n",
      "https://www.spiegel.de/plus/\n",
      "https://www.spiegel.de/thema/coronavirus/\n",
      "https://www.spiegel.de/thema/us_praesidentschaftswahl_2020/\n",
      "https://www.spiegel.de/thema/klimawandel/\n",
      "https://www.spiegel.de/politik/deutschland/\n",
      "https://www.spiegel.de/politik/ausland/\n",
      "https://www.spiegel.de/panorama/\n",
      "https://www.spiegel.de/sport/\n",
      "https://www.spiegel.de/wirtschaft/\n"
     ]
    }
   ],
   "source": [
    "hreflinks=[]\n",
    "Alllinks=soup.findAll('a') #The <a> tag defines a hyperlink, which is used to link from one page to another.\n",
    "for l in Alllinks:\n",
    "    if l.has_attr('href'):\n",
    "        hreflinks.append(l)\n",
    "print(\"Number of links in this page: \",len(hreflinks))\n",
    "for l in hreflinks[:20]:\n",
    "    print(l['href'])"
   ]
  },
  {
   "cell_type": "markdown",
   "metadata": {
    "slideshow": {
     "slide_type": "slide"
    }
   },
   "source": [
    "## Get all news titles\n",
    "Get title of all news, which are currently listed on [www.zeit.de](http://www.zeit.de):"
   ]
  },
  {
   "cell_type": "code",
   "execution_count": 6,
   "metadata": {
    "ExecuteTime": {
     "end_time": "2017-10-20T12:50:10.208000Z",
     "start_time": "2017-10-20T12:50:10.124000Z"
    },
    "slideshow": {
     "slide_type": "fragment"
    }
   },
   "outputs": [
    {
     "name": "stdout",
     "output_type": "stream",
     "text": [
      "----------------------------------------\n",
      "Entscheidung des Bundesgerichtshofs: Ex-Wirecard-Chef Braun muss persönlich vor Untersuchungsausschuss erscheinen\n",
      "https://www.spiegel.de/wirtschaft/unternehmen/ex-wirecard-chef-braun-muss-persoenlich-vor-untersuchungsausschuss-erscheinen-a-f5c9776b-5636-4175-9af4-0ceda25cc9b3\n",
      "----------------------------------------\n",
      "Schutz gegen Wilderer: Seltene weiße Giraffe in Kenia mit GPS-Sender versehen\n",
      "https://www.spiegel.de/panorama/kenia-weisse-giraffe-mit-gps-sender-versehen-schutz-gegen-wilderer-a-37422d97-2925-4b48-94dc-559d20e92422\n",
      "----------------------------------------\n",
      "Turnier in Katar: Klub-WM mit den Bayern im Februar – wenn eigentlich die Bundesliga spielt\n",
      "https://www.spiegel.de/sport/fussball/fc-bayern-muenchen-soll-klub-wm-im-februar-spielen-wenn-eigentlich-die-bundesliga-spielt-a-a80ef07e-59ad-435d-b47c-7b6af8f6e1d4\n",
      "----------------------------------------\n",
      "Spaniens Fußballstar Sergio Ramos vor Partie gegen Deutschland: Dominator mit Kratzern\n",
      "https://www.spiegel.de/sport/fussball/sergio-ramos-dominator-mit-kratzern-a-e8ecd4b0-301f-44d8-8c77-9a71b3f63ea4\n",
      "----------------------------------------\n",
      "Dienstreisen in Corona-Zeiten: Streit über Zusatzsitzplätze für Bundesbedienstete\n",
      "https://www.spiegel.de/politik/deutschland/corona-krise-streit-ueber-zusatz-sitzplaetze-fuer-bundesbedienstete-a-ce836efc-3054-4c19-93e8-25f2a98f779a\n",
      "----------------------------------------\n",
      "Covid-19-Pandemie\n",
      "https://www.spiegel.de/thema/coronavirus/\n",
      "----------------------------------------\n",
      "»Es wird zunächst sehr viel weniger Impfstoff geben als benötigt«\n",
      "https://www.spiegel.de/wirtschaft/unternehmen/moderna-vorstand-ueber-corona-es-wird-zunaechst-sehr-viel-weniger-impfstoff-geben-als-benoetigt-a-19ffba7c-82ac-40e7-b669-769c6c19fb28\n",
      "----------------------------------------\n",
      "Negatives Testergebnis für Boris Johnson\n",
      "https://www.spiegel.de/wissenschaft/medizin/corona-news-am-dienstag-die-wichtigsten-entwicklungen-zu-sars-cov-2-und-covid-19-a-f00cf9dc-670a-4d60-8803-c9eceb5ff4e9\n",
      "----------------------------------------\n",
      "Streit über Zusatzsitzplätze für Bundesbedienstete\n",
      "https://www.spiegel.de/politik/deutschland/corona-krise-streit-ueber-zusatz-sitzplaetze-fuer-bundesbedienstete-a-ce836efc-3054-4c19-93e8-25f2a98f779a\n",
      "----------------------------------------\n",
      "Der Schmerz von St. Pauli\n",
      "https://www.spiegel.de/panorama/gesellschaft/corona-hamburgs-reeperbahn-im-shutdown-a-49036414-d5e1-45b8-be77-e4963f8ffa86\n",
      "----------------------------------------\n",
      "Bundestagsabgeordnete erhalten Tausende Spam-Mails\n",
      "https://www.spiegel.de/politik/deutschland/infektionsschutzgesetz-bundestagsabgeordnete-erhalten-vor-abstimmung-tausende-spam-mails-a-b3197657-078f-4b13-a78a-942adf052564\n",
      "----------------------------------------\n",
      "»Viele haben es schwer, die Disziplin aufzubringen«\n",
      "https://www.spiegel.de/sport/corona-psychiater-tobias-freyer-ueber-die-belastung-von-profisportlern-durch-virustests-a-00000000-0002-0001-0000-000174003076\n",
      "----------------------------------------\n",
      "Mecklenburg-Vorpommerns Innenminister Caffier tritt zurück\n",
      "https://www.spiegel.de/politik/deutschland/lorenz-caffier-mecklenburg-vorpommerns-innenminister-tritt-nach-waffenkauf-zurueck-a-976bcf47-8be3-4612-a54a-2fe6f8963cb2\n",
      "----------------------------------------\n",
      "Das unlösbare Problem\n",
      "https://www.spiegel.de/politik/ausland/us-wahl-2020-das-unloesbare-problem-der-umfragen-a-09ecbcfe-4919-49b5-9b1b-57c2074df0c7\n",
      "----------------------------------------\n",
      "»Ich war verletzt und enttäuscht«\n",
      "https://www.spiegel.de/politik/ausland/michelle-obama-beschreibt-amtsuebergabe-an-donald-trump-ich-war-verletzt-und-enttaeuscht-a-e43c8f4e-2eec-4f6f-b83b-b6ea0973953b\n",
      "----------------------------------------\n",
      "Wann und wo ist diese große Nation derart falsch abgebogen?\n",
      "https://www.spiegel.de/kultur/usa-wann-und-wo-ist-diese-grosse-nation-derart-falsch-abgebogen-a-00000000-0002-0001-0000-000174003093\n",
      "----------------------------------------\n",
      "Krieg am Horn\n",
      "https://www.spiegel.de/politik/ausland/aethiopien-der-krieg-am-horn-droht-auf-die-nachbarlaender-ueberzugreifen-a-a7a00ea4-c954-4c2b-8e84-cede93d5b168\n",
      "----------------------------------------\n",
      "Früherer SPD-Politiker Bülow in »Die Partei« eingetreten\n",
      "https://www.spiegel.de/politik/deutschland/frueherer-spd-politiker-buelow-in-die-partei-eingetreten-a-ce940e0b-66cf-4e2b-9e5e-698598300884\n",
      "----------------------------------------\n",
      "Tod am letzten Arbeitstag\n",
      "https://www.spiegel.de/panorama/justiz/mordfall-greta-prozessauftakt-gegen-erzieherin-in-moenchengladbach-a-331fcf67-5e24-4c50-92e3-0caba2baf5ab\n",
      "----------------------------------------\n",
      "Amazon startet eigenen Apothekendienst – Aktien der Konkurrenz brechen ein\n",
      "https://www.spiegel.de/wirtschaft/unternehmen/amazon-startet-eigenen-apothekendienst-aktien-der-konkurrenz-brechen-ein-a-4df45ad2-fcdb-4a71-84e9-617f65d4f694\n",
      "----------------------------------------\n",
      "Apple überholt sich selbst\n",
      "https://www.spiegel.de/netzwelt/gadgets/macbook-pro-im-test-apple-ueberholt-sich-selbst-a-b03c7697-dbf0-4f7a-900a-7b2bfd7f2970\n",
      "----------------------------------------\n",
      "\"Was kann es Schlimmeres geben als den Zustand, in dem wir uns gerade befinden?\"\n",
      "https://www.spiegel.de/kultur/lars-eidinger-ueber-seine-rolle-im-fernsehspektakel-gott-von-ferdinand-von-schirach-a-00000000-0002-0001-0000-000174003095\n",
      "----------------------------------------\n",
      "Taylor Swift will ihre alten Alben neu aufnehmen\n",
      "https://www.spiegel.de/kultur/musik/taylor-swift-streit-um-musikrechte-popstar-will-alten-alben-neu-aufnehmen-a-666a7a95-a66c-4f22-8a59-50deb3d47840\n",
      "----------------------------------------\n",
      "Leg dich nicht mit »waidfraeulein« an\n",
      "https://www.spiegel.de/panorama/junge-jaegerin-wehrt-sich-gegen-hasskommentare-leg-dich-nicht-mit-waidfraeulein-an-a-00000000-0002-0001-0000-000174003048\n",
      "----------------------------------------\n",
      "Dominator mit Kratzern\n",
      "https://www.spiegel.de/sport/fussball/sergio-ramos-dominator-mit-kratzern-a-e8ecd4b0-301f-44d8-8c77-9a71b3f63ea4\n",
      "----------------------------------------\n",
      "Luzerner Kantonsarzt schickt ukrainische Nationalmannschaft in Quarantäne\n",
      "https://www.spiegel.de/sport/fussball/corona-nations-league-schweiz-gegen-ukraine-wegen-weiterer-faelle-vor-absage-a-b85f5390-7902-44ba-b401-7e1c26e58396\n",
      "----------------------------------------\n",
      "Bite the bullet! Oder doch lieber nicht?\n",
      "https://www.spiegel.de/karriere/business-englisch-quiz-bite-the-bullet-oder-doch-lieber-nicht-a-c8ef2e77-fcea-4c5e-b603-a856669570b4\n",
      "----------------------------------------\n",
      "So legen Sie Ihr Geld mit gutem Gewissen an\n",
      "https://www.spiegel.de/wirtschaft/service/nachhaltige-etfs-und-aktienfonds-so-legen-sie-ihr-geld-mit-gutem-gewissen-an-a-00000000-0002-0001-0000-000173971113\n",
      "----------------------------------------\n",
      "Warum Frau Aas Tütchen mit der Post verschickt\n",
      "https://www.spiegel.de/gesundheit/ernaehrung/gemuese-zucht-vielfalt-bitte-a-00000000-0002-0001-0000-000172248256\n",
      "----------------------------------------\n",
      "»Sagen Sie uns die Wahrheit – nur das kann uns noch helfen«\n",
      "https://www.spiegel.de/panorama/justiz/mordfall-walter-luebcke-witwe-des-politikers-im-zeugenstand-a-8da7cb3f-023e-4438-9094-a7a7d14b3e33\n",
      "----------------------------------------\n",
      "So leben Diabeteskranke besser – ohne Insulin\n",
      "https://www.spiegel.de/gesundheit/diagnose/diabetes-es-gibt-eine-alternative-zur-insulin-therapie-a-67f6d782-2b5a-429b-8608-276c8e8a5943\n",
      "----------------------------------------\n",
      "Trumps trauriger Weltrekord\n",
      "https://www.spiegel.de/politik/ausland/coronavirus-den-usa-droht-die-covid-hoelle-a-a914bb2a-184f-4b34-9752-566538911940\n",
      "----------------------------------------\n",
      "So ist Joggen doch gut fürs Knie\n",
      "https://www.spiegel.de/fitness/so-ist-joggen-doch-gut-fuers-knie-a-023f6733-7e93-4628-a73a-262245d2c79b\n",
      "----------------------------------------\n",
      "Videos\n",
      "https://www.spiegel.de/video/\n",
      "----------------------------------------\n",
      "Klimakrise\n",
      "https://www.spiegel.de/thema/klimawandel/\n",
      "----------------------------------------\n",
      "»Es braucht mehr als eine Wahl, um diese Dinge rückgängig zu machen«\n",
      "https://www.spiegel.de/politik/ausland/barack-obama-ueber-zeit-nach-donald-trump-es-braucht-mehr-als-eine-wahl-um-diese-dinge-rueckgaengig-zu-machen-a-571bba07-7c65-407d-9abf-afbe2dd88cd9\n",
      "----------------------------------------\n",
      "Hitzschlag\n",
      "https://www.spiegel.de/wissenschaft/klimawandel-wie-sich-die-welt-erwaermt-und-was-wir-dagegen-tun-koennen-a-ac82d4eb-8154-4f0b-9b26-28299758405f\n",
      "----------------------------------------\n",
      "Elektroauto-Ziel der Bundesregierung offenbar unrealistisch\n",
      "https://www.spiegel.de/auto/elektroauto-ziel-der-bundesregierung-unrealistisch-deloitte-studie-a-1b764a59-f7a9-44ac-bf93-5b25eb869c44\n",
      "----------------------------------------\n",
      "Kommentare und Kolumnen\n",
      "https://www.spiegel.de/thema/meinung/\n",
      "----------------------------------------\n",
      "Das Ende einer Sucht\n",
      "https://www.spiegel.de/kultur/us-politik-nachrichten-und-trump-das-ende-einer-sucht-a-ca174cc7-ed36-4038-b3c8-0a002528af5a\n",
      "----------------------------------------\n",
      "Da ist eine Entschuldigung fällig\n",
      "https://www.spiegel.de/politik/deutschland/giffey-affaere-da-ist-eine-entschuldigung-faellig-kolumne-a-01117a5f-259b-497d-8670-04311368e528\n",
      "----------------------------------------\n",
      "Das sind die Baustellen der Nach-Corona-Zeit\n",
      "https://www.spiegel.de/wirtschaft/wirtschaft-im-krisenmodus-die-nach-corona-agenda-kolumne-a-5146b1cb-4e88-4f40-8102-ebed75d97e70\n",
      "----------------------------------------\n",
      "Die Verschwörer sind unter uns\n",
      "https://www.spiegel.de/wissenschaft/mensch/klima-und-ueberwachung-die-verschwoerer-sind-unter-uns-kolumne-a-627f79a9-1011-4472-ab34-e1cc66da79c3\n",
      "----------------------------------------\n",
      "Politik\n",
      "https://www.spiegel.de/politik/deutschland/\n",
      "----------------------------------------\n",
      "Sicherheitspolitische Grundsatzrede: Kramp-Karrenbauer fordert langfristige Festlegung auf höhere Verteidigungsausgaben\n",
      "https://www.spiegel.de/politik/deutschland/annegret-kramp-karrenbauer-fordert-langfristige-festlegung-auf-hoehere-verteidigungsausgaben-a-ca3e0a52-7a4d-456b-aacf-d8ea884b4b32\n",
      "----------------------------------------\n",
      "Grundsatzrede: Verteidigungsministerin Kramp-Karrenbauer zum transatlantischen Verhältnis\n",
      "https://www.spiegel.de/politik/deutschland/annegret-kramp-karrenbauer-zum-transatlantischen-verhaeltnis-livestream-a-bf80d9ae-df48-4d0d-816a-6edeaef24fad\n",
      "----------------------------------------\n",
      "Merkel über Corona-Restriktionen: »Diese Entscheidungen gehören zu den schwersten meiner Amtszeit«\n",
      "https://www.spiegel.de/politik/deutschland/angela-merkel-fuer-haertere-massnahmen-im-kampf-gegen-das-corona-virus-a-a0755ab2-3e0a-4880-ada3-dc0f169e5f83\n",
      "----------------------------------------\n",
      "Ausland\n",
      "https://www.spiegel.de/politik/ausland/\n",
      "----------------------------------------\n",
      "Möglicher Abzug von US-Truppen: Nato befürchtet Rückfall Afghanistans zur »Plattform für internationale Terroristen«\n",
      "https://www.spiegel.de/politik/ausland/afghanistan-nato-generalsekretaer-jens-stoltenberg-warnt-vor-fruehem-abzug-von-us-truppen-a-ee5e0650-6c36-4c03-b623-9465ec1b99b3\n",
      "----------------------------------------\n",
      "Proteste in Thailand: Wasserwerfer und Tränengas gegen Demonstranten\n",
      "https://www.spiegel.de/politik/ausland/thailand-wasserwerfer-und-traenengas-gegen-demonstranten-a-803c6d26-e487-429e-be14-26d265fae00b\n",
      "----------------------------------------\n",
      "Armenier fliehen aus Bergkarabach: »Eine Tragödie für unser Volk«\n",
      "https://www.spiegel.de/politik/ausland/armenier-fliehen-aus-bergkarabach-eine-tragoedie-fuer-unser-volk-a-3dd5464c-02bb-4d7d-ac7b-40c55b1d40e1\n",
      "----------------------------------------\n",
      "Panorama\n",
      "https://www.spiegel.de/panorama/\n",
      "----------------------------------------\n",
      "Schutz gegen Wilderer: Seltene weiße Giraffe in Kenia mit GPS-Sender versehen\n",
      "https://www.spiegel.de/panorama/kenia-weisse-giraffe-mit-gps-sender-versehen-schutz-gegen-wilderer-a-37422d97-2925-4b48-94dc-559d20e92422\n",
      "----------------------------------------\n",
      "Großrazzia in Berliner Clan-Milieu: »Bei dem Einsatz waren besondere Maßnahmen erforderlich«\n",
      "https://www.spiegel.de/panorama/gruenes-gewoelbe-festnahmen-nach-razzia-in-berlin-a-28ceed72-fc4a-49d9-b435-6e6bdb85ebd9\n",
      "----------------------------------------\n",
      "Brand in Umspannwerk: 100.000 Menschen von Stromausfall in Frankfurt betroffen\n",
      "https://www.spiegel.de/panorama/frankfurt-stromausfall-nach-brand-in-umspannwerk-100-000-menschen-betroffen-a-92239973-22ea-4ddf-8ad9-f06cdcd19798\n",
      "----------------------------------------\n",
      "Sport\n",
      "https://www.spiegel.de/sport/\n",
      "----------------------------------------\n",
      "Turnier in Katar: Klub-WM mit den Bayern im Februar – wenn eigentlich die Bundesliga spielt\n",
      "https://www.spiegel.de/sport/fussball/fc-bayern-muenchen-soll-klub-wm-im-februar-spielen-wenn-eigentlich-die-bundesliga-spielt-a-a80ef07e-59ad-435d-b47c-7b6af8f6e1d4\n",
      "----------------------------------------\n",
      "Hollywoodstar kauft Fünftligisten Wrexham: Ryan Reynolds geht unter die Fußballinvestoren\n",
      "https://www.spiegel.de/sport/fussball/ryan-reynolds-kauft-fussballverein-afc-wrexham-a-4eebab52-893d-4fc3-b3e9-2d076ae35713\n",
      "----------------------------------------\n",
      "Nationalspieler Philipp Max: Offene linke Flanke\n",
      "https://www.spiegel.de/sport/fussball/philipp-max-in-der-nationalmannschaft-offene-linke-flanke-a-bd6d6bf4-8f5a-4d7c-85c9-9237523fc3a0\n",
      "----------------------------------------\n",
      "Wirtschaft\n",
      "https://www.spiegel.de/wirtschaft/\n",
      "----------------------------------------\n",
      "Entscheidung des Bundesgerichtshofs: Ex-Wirecard-Chef Braun muss persönlich vor Untersuchungsausschuss erscheinen\n",
      "https://www.spiegel.de/wirtschaft/unternehmen/ex-wirecard-chef-braun-muss-persoenlich-vor-untersuchungsausschuss-erscheinen-a-f5c9776b-5636-4175-9af4-0ceda25cc9b3\n",
      "----------------------------------------\n",
      "Plus von 50 Prozent: Impfstoffhoffnung treibt Easyjet-Buchungen in die Höhe\n",
      "https://www.spiegel.de/wirtschaft/unternehmen/easyjet-buchungen-steigen-wegen-aussicht-auf-corona-impfstoff-a-c0dbb550-fe1a-46e8-b7d8-c0c47b59df8c\n",
      "----------------------------------------\n",
      "Black Friday und Cyber Monday: Handel erwartet Umsatzrekorde\n",
      "https://www.spiegel.de/wirtschaft/service/handel-erwartet-umsatzrekorde-a-c5cf4b14-2dc4-469b-895d-9f34f90626fa\n",
      "----------------------------------------\n",
      "Das Konzept in der Praxis: Wann New Work funktioniert – und wann nicht\n",
      "https://www.manager-magazin.de/harvard/fuehrung/new-work-in-der-praxis-wann-es-funktioniert-und-wann-nicht-a-00000000-0002-0001-0000-000173902273\n",
      "----------------------------------------\n",
      "Offensiv, laut, brachial: Donald Trumps Liebling – wie Moderna-Chef Bancel den Impfstoff entwickelte\n",
      "https://www.manager-magazin.de/unternehmen/moderna-und-der-corona-impfstoff-stephane-bancel-revolutioniert-das-geschaeft-a-00000000-0002-0001-0000-000171133776\n",
      "----------------------------------------\n",
      "E-Auto-Infrastruktur: Deutschland droht ein Lade-Debakel - während Tesla erneut vorprescht\n",
      "https://www.manager-magazin.de/unternehmen/autoindustrie/elektroauto-deutschland-droht-ladesaeulen-debakel-tesla-setzt-auf-riesen-supercharger-in-usa-a-b5a5e44b-4f12-42f0-9b0c-c4d50779bdeb\n",
      "----------------------------------------\n",
      "Börsenkurse manager magazin\n",
      "https://boersen.manager-magazin.de\n",
      "----------------------------------------\n",
      "Wissenschaft\n",
      "https://www.spiegel.de/wissenschaft/\n",
      "----------------------------------------\n",
      "Mathematisches Pandemie-Modell: Der Covid-Simulator gibt Merkel recht\n",
      "https://www.spiegel.de/wissenschaft/medizin/coronavirus-covid-simulator-gibt-angela-merkel-recht-a-e41d46b9-0e16-4a82-887e-b10db48b2220\n",
      "----------------------------------------\n",
      "Experiment in Kanada: Radar gegen Eisbärattacken\n",
      "https://www.spiegel.de/wissenschaft/natur/eisbaeren-in-kanada-radar-soll-vor-den-raeubern-warnen-experiment-in-der-arktis-a-5355165b-b57e-404d-b327-54e65f2c0c0b\n",
      "----------------------------------------\n",
      "Firma von Elon Musk: SpaceX-Kapsel dockt an Internationaler Raumstation an\n",
      "https://www.spiegel.de/wissenschaft/weltall/spacex-kapsel-der-raumfahrtfirma-von-elon-musk-dockt-an-internationaler-raumstation-an-a-7a5184f2-3235-45d5-a109-89c917852800\n",
      "----------------------------------------\n",
      "Netzwelt\n",
      "https://www.spiegel.de/netzwelt/\n",
      "----------------------------------------\n",
      "Gmail: Google vereinfacht das Deaktivieren smarter Funktionen\n",
      "https://www.spiegel.de/netzwelt/web/gmail-google-nutzer-sollen-smarten-assistenten-leichter-dummschalten-koennen-a-3e283c6d-c79b-4021-9db0-836267c9837c\n",
      "----------------------------------------\n",
      "»Verleumdung von Personen«: Salomonen planen Facebook-Verbot\n",
      "https://www.spiegel.de/netzwelt/web/salomonen-inselgruppe-planen-facebook-verbot-a-1552b34f-95fa-4d69-a94d-6a74eac3f34d\n",
      "----------------------------------------\n",
      "Wissen spenden: Die Wikipedia könnte Sie gebrauchen\n",
      "https://www.spiegel.de/netzwelt/web/wikipedia-braucht-sie-warum-sie-ihr-wissen-spenden-sollten-a-a656766d-5461-4e38-a066-de57ba975637\n",
      "----------------------------------------\n",
      "Kultur\n",
      "https://www.spiegel.de/kultur/\n",
      "----------------------------------------\n",
      "Richter, Trockel, Lüpertz: Deutsche Kunststars spenden Werke für Obdachlose\n",
      "https://www.spiegel.de/kultur/richter-trockel-luepertz-deutsche-kunst-stars-spenden-werke-fuer-obdachlose-a-8d121154-dee5-41ca-9f6f-b67910f9e7b8\n",
      "----------------------------------------\n",
      "Neue Late-Night-Show von Stefan Raab: Quäl den Star!\n",
      "https://www.spiegel.de/kultur/tv/taeglich-frisch-geroestet-neue-late-night-von-stefan-raab-quael-den-star-a-9c538b32-11e7-4591-98ee-229d7cfc895b\n",
      "----------------------------------------\n",
      "Pelé, Brigitte Bardot und Königin Elisabeth II.: Französischer Radiosender erklärt versehentlich Hunderte Promis für tot\n",
      "https://www.spiegel.de/kultur/frankreich-radiosender-rfi-erklaert-versehentlich-hunderte-promis-fuer-tot-a-28352846-b52c-459d-9224-eac2c41c11ca\n",
      "----------------------------------------\n",
      "Job & Karriere\n",
      "https://www.spiegel.de/karriere/\n",
      "----------------------------------------\n",
      "Investmentbank stellt sich diverser auf: Frauen und andere Minderheiten\n",
      "https://www.spiegel.de/karriere/goldman-sachs-stellt-sich-diverser-auf-frauen-und-andere-minderheiten-a-4aac3d8d-a377-4036-9ce3-ccad18648b5a\n",
      "----------------------------------------\n",
      "Studie zu Frauen in Dax-Unternehmen: Topmanagerinnen verdienen mehr als männliche Kollegen\n",
      "https://www.spiegel.de/karriere/dax-unternehmen-topmanagerinnen-verdienen-mehr-als-maennliche-kollegen-a-93ae69df-7f82-4efc-86e8-5e80f273a3d9\n",
      "----------------------------------------\n",
      "Tipps vom Karrierecoach: Zweimal in Folge gekündigt – ist mein Lebenslauf jetzt ruiniert?\n",
      "https://www.spiegel.de/karriere/kuendigung-zweimal-in-folge-gekuendigt-ist-mein-lebenslauf-jetzt-ruiniert-a-0e9c9a51-cc37-4f97-a91d-0f44e7ec5470\n",
      "----------------------------------------\n",
      "Start\n",
      "https://www.spiegel.de/start/\n",
      "----------------------------------------\n",
      "Studierende in der Coronakrise: Nebenjobs dringend gesucht\n",
      "https://www.spiegel.de/start/corona-studierende-leiden-unter-shutdowns-nebenjobs-dringend-gesucht-a-ad7bb843-3e24-4725-a550-5a75c415c0d8\n",
      "----------------------------------------\n",
      "Ghosting im Job: Wenn der Bewerber plötzlich weg ist\n",
      "https://www.spiegel.de/start/ghosting-im-job-wenn-der-bewerber-ploetzlich-weg-ist-a-cf1ce51f-16be-4682-a8e8-3450fe236671\n",
      "----------------------------------------\n",
      "Generationenwechsel in der Familienbäckerei: \"Entweder wir machen das so, oder ich bin weg\"\n",
      "https://www.spiegel.de/start/baeckerei-moehring-in-barleben-wie-marcus-ostendorf-das-familienunternehmen-umkrempelt-a-8a6de3ab-8da4-416b-afe4-0aaa4f8c8b0c\n",
      "----------------------------------------\n",
      "Geschichte\n",
      "https://www.spiegel.de/geschichte/\n",
      "----------------------------------------\n",
      "Extrabreit-Sänger Kai Havaii: »Erfolg war der Punk-Polizei höchst verdächtig«\n",
      "https://www.spiegel.de/geschichte/extrabreit-saenger-kai-havaii-ndw-erfolg-und-punk-polizei-a-452734c8-32e9-4eb1-a430-9e479cee4af0\n",
      "----------------------------------------\n",
      "Deutsche Luftangriffe auf England: Wie \"The Blitz\" Coventry verwüstete\n",
      "https://www.spiegel.de/geschichte/luftangriff-auf-coventry-am-14-11-1940-nach-dem-blitz-a-bda849ca-18b2-47b1-b96f-8d88525ee74f\n",
      "----------------------------------------\n",
      "Rassismus in den USA: Das Mädchen und der Mob\n",
      "https://www.spiegel.de/geschichte/ruby-bridges-new-orleans-1960-das-maedchen-und-der-rassistische-mob-a-af1d08c1-86f0-47b7-aed4-5782ce2ff12a\n",
      "----------------------------------------\n",
      "Tests\n",
      "https://www.spiegel.de/tests/\n",
      "----------------------------------------\n",
      "Kaffeemaschinen im Test: Ganz schön aufgebrüht\n",
      "https://www.spiegel.de/tests/kueche/kaffeemaschinen-im-test-ganz-schoen-aufgebrueht-a-2be69b42-5a17-467b-bf8f-41f6af5c966e\n",
      "----------------------------------------\n",
      "Bestseller Link\n",
      "https://www.spiegel.de/kultur/bestseller-buecher-belletristik-sachbuch-auf-spiegel-liste-a-458623.html\n",
      "----------------------------------------\n",
      "Mobilität\n",
      "https://www.spiegel.de/auto/\n",
      "----------------------------------------\n",
      "Oldtimer mit E-Antrieb: Die Cobra wird elektrisch\n",
      "https://www.spiegel.de/auto/fahrkultur/sportwagen-ac-cobra-wird-elektrisch-a-f93ded7c-cb8f-4308-a269-694c74cdd05d\n",
      "----------------------------------------\n",
      "Ratgeber Rad – Mika Amaro Single Speed Bike: Zurück zu den Wurzeln\n",
      "https://www.spiegel.de/auto/fahrberichte/mika-amaro-singlespeed-bike-im-test-zurueck-zu-den-wurzeln-a-6f94408d-4d23-428d-b0d1-de00869f19c4\n",
      "----------------------------------------\n",
      "Hymer-Nobelmarke Laika: Waren die Luxus-Wohnmobile schon ab Werk zu schwer?\n",
      "https://www.spiegel.de/auto/hymer-nobelmarke-laika-waren-die-luxus-wohnmobile-schon-ab-werk-zu-schwer-a-00000000-0002-0001-0000-000174003054\n",
      "----------------------------------------\n",
      "SPIEGEL-Bestseller: Sachbuch Hardcover\n",
      "https://www.spiegel.de/kultur/literatur/spiegel-bestseller-hardcover-a-1025428.html\n",
      "----------------------------------------\n",
      "Leben\n",
      "https://www.spiegel.de/thema/leben/\n",
      "----------------------------------------\n",
      "»Die schönste Form des Reisens«\n",
      "https://www.spiegel.de/reise/fernweh/trampen-erinnerungen-an-eine-weltreise-per-anhalter-vor-der-corona-pandemie-a-78532456-333c-46c7-be5b-b5bf5ec820a9\n",
      "----------------------------------------\n",
      "Und wie geht es Dir wirklich?\n",
      "https://www.spiegel.de/psychologie/gefuehle-wie-geht-es-dir-und-wie-geht-es-dir-wirklich-a-df41a02d-7f6d-4fee-91b1-720c445623ff\n",
      "----------------------------------------\n",
      "Wie man die schlechten Erfahrungen der Kindheit endlich hinter sich lässt\n",
      "https://www.spiegel.de/psychologie/kindheit-aufarbeiten-wenn-erwachsene-sich-klein-und-hilflos-fuehlen-a-00000000-0002-0001-0000-000173732132\n",
      "----------------------------------------\n",
      "Irgendwas musst du doch wollen\n",
      "https://www.spiegel.de/familie/doku-jetzt-oder-morgen-berlinale-film-ueber-arbeitslose-in-wien-a-be3ced06-f3ae-4384-9881-3729ffc5d02e\n",
      "----------------------------------------\n",
      "Heute gibt es Erbsen-Minz-Suppe\n",
      "https://www.spiegel.de/stil/rezept-fuer-erbsen-minz-suppe-a-3295e7f3-8a8c-4e55-8a9c-7d6a7a25bb0b\n",
      "----------------------------------------\n",
      "Worauf Sie beim Online-Weinkauf achten sollten\n",
      "https://www.spiegel.de/stil/wein-online-kaufen-worauf-sie-achten-sollten-a-220bc013-4078-4bfd-b0d2-972771e15f55\n",
      "----------------------------------------\n",
      "How to do Corona\n",
      "https://www.spiegel.de/reise/coronavirus-grippe-impfung-shutdown-weihnachten-fragen-und-antworten-a-3f895355-d146-4af5-a563-1295eab037f9\n",
      "----------------------------------------\n",
      "Produkte im Test\n",
      "https://www.spiegel.de/thema/test_und_produkte/\n",
      "----------------------------------------\n",
      "Wer macht die besten belgischen Waffeln?\n",
      "https://www.spiegel.de/tests/haushalt/waffeleisen-im-test-wer-macht-die-besten-belgischen-waffeln-a-455626ad-51f8-4219-9bf0-64668bf1f77a\n",
      "----------------------------------------\n",
      "Mach das mal weg\n",
      "https://www.spiegel.de/tests/haushalt/staubsauger-mit-und-ohne-beutel-im-test-mach-das-mal-weg-a-47ca7df9-2c0f-4364-ab2a-7d87842bebfc\n",
      "----------------------------------------\n",
      "Guter Sound braucht keine Strippen\n",
      "https://www.spiegel.de/netzwelt/gadgets/kabellose-kopfhoerer-im-test-guter-sound-braucht-keine-strippen-a-fad217ce-506c-44cf-92b7-9a435b47de2c\n",
      "----------------------------------------\n",
      "Dein SPIEGEL\n",
      "https://www.spiegel.de/deinspiegel/\n",
      "----------------------------------------\n",
      "»Ich saß mit Jogginghose in der Videokonferenz«\n",
      "https://www.spiegel.de/deinspiegel/jens-spahn-ich-sass-mit-jogginghose-in-der-videokonferenz-a-00000000-0002-0001-0000-000173838308\n",
      "----------------------------------------\n",
      "Was dich in \"Dein SPIEGEL\" Nr. 12/2020 erwartet\n",
      "https://www.spiegel.de/deinspiegel/was-dich-in-dein-spiegel-nr-12-2020-erwartet-a-6e4f4cd1-d655-414f-9a46-dd113ce47371\n",
      "----------------------------------------\n",
      "Bild des Tages\n",
      "https://www.spiegel.de/fotostrecke/bilder-des-tages-fotos-aus-deutschland-und-der-welt-fotostrecke-122824.html\n"
     ]
    }
   ],
   "source": [
    "#print soup.get_text()hreflinks=[]\n",
    "AllTitles=soup.findAll('h2')\n",
    "alltitles=[]\n",
    "alltitleLinks=[]\n",
    "for l in AllTitles:\n",
    "    #print l\n",
    "    try:\n",
    "        title = l.find('a')['title']\n",
    "        link = l.find('a')['href']\n",
    "        print('-'*40)\n",
    "        print(title)\n",
    "        print(link)\n",
    "        alltitles.append(title)\n",
    "        alltitleLinks.append(link)\n",
    "    except:\n",
    "        pass"
   ]
  },
  {
   "cell_type": "markdown",
   "metadata": {
    "slideshow": {
     "slide_type": "slide"
    }
   },
   "source": [
    "## Get all images of the page\n",
    "\n",
    "Get url of all images, which are currently displayed on [www.zeit.de](http://www.zeit.de):"
   ]
  },
  {
   "cell_type": "code",
   "execution_count": 7,
   "metadata": {
    "ExecuteTime": {
     "end_time": "2017-10-20T12:50:12.456000Z",
     "start_time": "2017-10-20T12:50:12.440000Z"
    },
    "slideshow": {
     "slide_type": "fragment"
    }
   },
   "outputs": [
    {
     "name": "stdout",
     "output_type": "stream",
     "text": [
      "data:image/gif;base64,R0lGODlhAQABAAAAACH5BAEKAAEALAAAAAABAAEAAAICTAEAOw==\n",
      "https://cdn.prod.www.spiegel.de/images/2a23e68e-8a57-40d8-9948-8fccd8e117b8_w872_r1.77_fpx42_fpy49.jpg\n",
      "https://cdn.prod.www.spiegel.de/images/2a23e68e-8a57-40d8-9948-8fccd8e117b8_w872_r1.77_fpx42_fpy49.jpg\n",
      "https://cdn.prod.www.spiegel.de/images/058ab179-d961-4997-9049-ab97a9c28fa3_w117_r1.33_fpx46.37_fpy49.98.jpg\n",
      "https://cdn.prod.www.spiegel.de/images/058ab179-d961-4997-9049-ab97a9c28fa3_w117_r1.33_fpx46.37_fpy49.98.jpg\n",
      "https://cdn.prod.www.spiegel.de/images/058ab179-d961-4997-9049-ab97a9c28fa3_w488_r1.77_fpx46.37_fpy49.98.jpg\n",
      "https://cdn.prod.www.spiegel.de/images/058ab179-d961-4997-9049-ab97a9c28fa3_w488_r1.77_fpx46.37_fpy49.98.jpg\n",
      "https://cdn.prod.www.spiegel.de/images/779f4009-5f1e-4eeb-8834-fdd4d87d0339_w488_r1.77_fpx43.14_fpy49.96.jpg\n",
      "https://cdn.prod.www.spiegel.de/images/779f4009-5f1e-4eeb-8834-fdd4d87d0339_w488_r1.77_fpx43.14_fpy49.96.jpg\n",
      "https://cdn.prod.www.spiegel.de/images/779f4009-5f1e-4eeb-8834-fdd4d87d0339_w117_r1.33_fpx43.14_fpy49.96.jpg\n"
     ]
    }
   ],
   "source": [
    "imglinks=[]\n",
    "AllImgs=soup.findAll('img')\n",
    "for l in AllImgs:\n",
    "    if l.has_attr('src'):\n",
    "       imglinks.append(l)\n",
    "\n",
    "for l in imglinks[:10]:\n",
    "    print(l['src'])"
   ]
  },
  {
   "cell_type": "markdown",
   "metadata": {
    "slideshow": {
     "slide_type": "slide"
    }
   },
   "source": [
    "## Get entire text of a news-article"
   ]
  },
  {
   "cell_type": "code",
   "execution_count": 8,
   "metadata": {
    "ExecuteTime": {
     "end_time": "2017-10-20T13:09:24.145000Z",
     "start_time": "2017-10-20T13:09:23.833000Z"
    },
    "slideshow": {
     "slide_type": "fragment"
    }
   },
   "outputs": [
    {
     "name": "stdout",
     "output_type": "stream",
     "text": [
      "Markus Braun\n",
      "Mehr in Kürze auf SPIEGEL.de\n",
      "\n",
      "SPIEGEL+-Zugang wird gerade auf einem anderen Gerät genutzt\n",
      "\n",
      "\n",
      "SPIEGEL+ kann nur auf einem Gerät zur selben Zeit genutzt werden.\n",
      "\n",
      "\n",
      "Klicken Sie auf den Button, spielen wir den Hinweis auf dem anderen Gerät aus und Sie können SPIEGEL+ weiter nutzen.\n",
      "\n",
      "\n",
      "Markus Braun\n",
      "Melden Sie sich an und diskutieren Sie mit\n"
     ]
    }
   ],
   "source": [
    "IDX=0\n",
    "suburl=alltitleLinks[IDX]\n",
    "try:\n",
    "    html=urlopen(suburl).read() #works if subdomains are referenced by absolute path\n",
    "except:\n",
    "    html=urlopen(url+suburl).read() #works if subdomains are referenced by relative path\n",
    "soup=BeautifulSoup(html,\"html.parser\")\n",
    "AllP=soup.findAll('p')\n",
    "for p in AllP:\n",
    "    print(p.get_text())"
   ]
  },
  {
   "cell_type": "markdown",
   "metadata": {
    "collapsed": true,
    "slideshow": {
     "slide_type": "skip"
    }
   },
   "source": [
    "## Questions and Remarks\n",
    "1. This notebook demonstrates how raw-text can be crawled from news-sites. But what is the drawback of this method?\n",
    "2. Execute the entire notebook also for `www.spiegel.de` and `www.sueddeutsche.de`.\n",
    "3. What do you observe? How to solve the problem?"
   ]
  },
  {
   "cell_type": "code",
   "execution_count": null,
   "metadata": {
    "collapsed": true
   },
   "outputs": [],
   "source": []
  }
 ],
 "metadata": {
  "celltoolbar": "Slideshow",
  "kernelspec": {
   "display_name": "Python 3",
   "language": "python",
   "name": "python3"
  },
  "language_info": {
   "codemirror_mode": {
    "name": "ipython",
    "version": 3
   },
   "file_extension": ".py",
   "mimetype": "text/x-python",
   "name": "python",
   "nbconvert_exporter": "python",
   "pygments_lexer": "ipython3",
   "version": "3.7.5"
  },
  "nav_menu": {},
  "toc": {
   "base_numbering": 1,
   "nav_menu": {},
   "number_sections": true,
   "sideBar": true,
   "skip_h1_title": false,
   "title_cell": "Table of Contents",
   "title_sidebar": "Contents",
   "toc_cell": false,
   "toc_position": {},
   "toc_section_display": "block",
   "toc_window_display": false
  },
  "varInspector": {
   "cols": {
    "lenName": 16,
    "lenType": 16,
    "lenVar": 40
   },
   "kernels_config": {
    "python": {
     "delete_cmd_postfix": "",
     "delete_cmd_prefix": "del ",
     "library": "var_list.py",
     "varRefreshCmd": "print(var_dic_list())"
    },
    "r": {
     "delete_cmd_postfix": ") ",
     "delete_cmd_prefix": "rm(",
     "library": "var_list.r",
     "varRefreshCmd": "cat(var_dic_list()) "
    }
   },
   "types_to_exclude": [
    "module",
    "function",
    "builtin_function_or_method",
    "instance",
    "_Feature"
   ],
   "window_display": false
  }
 },
 "nbformat": 4,
 "nbformat_minor": 1
}