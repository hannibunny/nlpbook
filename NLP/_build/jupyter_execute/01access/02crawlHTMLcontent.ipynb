{
 "cells": [
  {
   "cell_type": "markdown",
   "metadata": {
    "slideshow": {
     "slide_type": "slide"
    }
   },
   "source": [
    "# Access Contents of HTML Page\n",
    "\n",
    "- Author:      Johannes Maucher\n",
    "- Last update: 2018-10-21\n",
    "\n",
    "This notebook demonstrates how to parse a HTML document and access dedicated elements of the parse tree.\n",
    "[Beautiful Soup](http://www.crummy.com/software/BeautifulSoup/bs4/doc/#) is a python package for parsing HTML. Download and install version 4 by typing:\n",
    "\n",
    "> `pip install beautifulsoup4`\n",
    "\n",
    "into the command shell. Once it is installed it can be imported by"
   ]
  },
  {
   "cell_type": "code",
   "execution_count": 1,
   "metadata": {
    "ExecuteTime": {
     "end_time": "2017-10-20T12:50:00.898000Z",
     "start_time": "2017-10-20T12:50:00.893000Z"
    },
    "slideshow": {
     "slide_type": "fragment"
    }
   },
   "outputs": [],
   "source": [
    "from bs4 import BeautifulSoup"
   ]
  },
  {
   "cell_type": "markdown",
   "metadata": {
    "slideshow": {
     "slide_type": "slide"
    }
   },
   "source": [
    "For accessing arbitrary resources by URL the python modul [urllib](https://docs.python.org/2/library/urllib.html) must also be installed. Import the method _urlopen()_ from this module:  "
   ]
  },
  {
   "cell_type": "code",
   "execution_count": 2,
   "metadata": {
    "ExecuteTime": {
     "end_time": "2017-10-20T12:50:02.246000Z",
     "start_time": "2017-10-20T12:50:02.242000Z"
    },
    "slideshow": {
     "slide_type": "fragment"
    }
   },
   "outputs": [],
   "source": [
    "from urllib.request import urlopen"
   ]
  },
  {
   "cell_type": "markdown",
   "metadata": {
    "slideshow": {
     "slide_type": "fragment"
    }
   },
   "source": [
    "If these two modules are available the HTML parse tree of the specified URL can easily be generated as follows."
   ]
  },
  {
   "cell_type": "code",
   "execution_count": 3,
   "metadata": {
    "ExecuteTime": {
     "end_time": "2017-10-20T12:50:04.344000Z",
     "start_time": "2017-10-20T12:50:03.569000Z"
    },
    "slideshow": {
     "slide_type": "fragment"
    }
   },
   "outputs": [],
   "source": [
    "#url=\"http://www.zeit.de\"\n",
    "url=\"http://www.spiegel.de\"\n",
    "#url=\"http://www.sueddeutsche.de\"\n",
    "html=urlopen(url).read()\n",
    "soup=BeautifulSoup(html,\"html.parser\")"
   ]
  },
  {
   "cell_type": "markdown",
   "metadata": {
    "slideshow": {
     "slide_type": "slide"
    }
   },
   "source": [
    "Now e.g. the title of the URL can be accessed by:"
   ]
  },
  {
   "cell_type": "code",
   "execution_count": 4,
   "metadata": {
    "ExecuteTime": {
     "end_time": "2017-10-20T12:50:06.092000Z",
     "start_time": "2017-10-20T12:50:06.086000Z"
    },
    "slideshow": {
     "slide_type": "fragment"
    }
   },
   "outputs": [
    {
     "name": "stdout",
     "output_type": "stream",
     "text": [
      "Title of page:   DER SPIEGEL | Online-Nachrichten\n"
     ]
    }
   ],
   "source": [
    "titleTag = soup.html.head.title\n",
    "print(\"Title of page:  \",titleTag.string)"
   ]
  },
  {
   "cell_type": "markdown",
   "metadata": {
    "slideshow": {
     "slide_type": "slide"
    }
   },
   "source": [
    "## Get all links in the page\n",
    "All links in the page can be retrieven by the following code (only the first 20 links are printed)"
   ]
  },
  {
   "cell_type": "code",
   "execution_count": 5,
   "metadata": {
    "ExecuteTime": {
     "end_time": "2017-10-20T12:50:07.973000Z",
     "start_time": "2017-10-20T12:50:07.951000Z"
    },
    "slideshow": {
     "slide_type": "fragment"
    }
   },
   "outputs": [
    {
     "name": "stdout",
     "output_type": "stream",
     "text": [
      "Number of links in this page:  570\n",
      "#Inhalt\n",
      "https://www.spiegel.de/\n",
      "https://abo.spiegel.de/?b=SPOHNAVABO&requestAccessToken=true&sara_icid=disp_upd_9h6L5hu8K1AAnttzYATx3hvk7taDkP&targetUrl=https%3A%2F%2Fwww.spiegel.de%2Ffuermich%2F\n",
      "https://gruppenkonto.spiegel.de/authenticate?requestAccessToken=true&targetUrl=https%3A%2F%2Fwww.spiegel.de%2Ffuermich%2F\n",
      "https://www.spiegel.de/fuermich/\n",
      "https://www.spiegel.de/\n",
      "https://www.spiegel.de/schlagzeilen/\n",
      "https://www.spiegel.de/plus/\n",
      "https://www.spiegel.de/audio/\n",
      "https://www.spiegel.de/fuermich/\n",
      "https://www.spiegel.de/schlagzeilen/\n",
      "https://www.spiegel.de/plus/\n",
      "https://www.spiegel.de/thema/coronavirus/\n",
      "https://www.spiegel.de/thema/us_praesidentschaftswahl_2020/\n",
      "https://www.spiegel.de/thema/klimawandel/\n",
      "https://www.spiegel.de/politik/deutschland/\n",
      "https://www.spiegel.de/politik/ausland/\n",
      "https://www.spiegel.de/panorama/\n",
      "https://www.spiegel.de/sport/\n",
      "https://www.spiegel.de/wirtschaft/\n"
     ]
    }
   ],
   "source": [
    "hreflinks=[]\n",
    "Alllinks=soup.findAll('a') #The <a> tag defines a hyperlink, which is used to link from one page to another.\n",
    "for l in Alllinks:\n",
    "    if l.has_attr('href'):\n",
    "        hreflinks.append(l)\n",
    "print(\"Number of links in this page: \",len(hreflinks))\n",
    "for l in hreflinks[:20]:\n",
    "    print(l['href'])"
   ]
  },
  {
   "cell_type": "markdown",
   "metadata": {
    "slideshow": {
     "slide_type": "slide"
    }
   },
   "source": [
    "## Get all news titles\n",
    "Get title of all news, which are currently listed on [www.zeit.de](http://www.zeit.de):"
   ]
  },
  {
   "cell_type": "code",
   "execution_count": 6,
   "metadata": {
    "ExecuteTime": {
     "end_time": "2017-10-20T12:50:10.208000Z",
     "start_time": "2017-10-20T12:50:10.124000Z"
    },
    "slideshow": {
     "slide_type": "fragment"
    }
   },
   "outputs": [
    {
     "name": "stdout",
     "output_type": "stream",
     "text": [
      "----------------------------------------\n",
      "Trumps brutale Migrationspolitik: Was Joe Biden rückgängig machen kann – und was nicht\n",
      "https://www.spiegel.de/politik/ausland/joe-biden-ringt-mit-der-migrationspolitik-von-donald-trump-a-9c065cae-7edc-4e05-82f2-1207f8bcd599\n",
      "----------------------------------------\n",
      "Hauptstadtflughafen BER: Das Schönefeld-Terminal soll schließen\n",
      "https://www.spiegel.de/wirtschaft/hauptstadtflughafen-ber-schoenefeld-terminal-5-soll-schliessen-a-43949e7c-61cb-46f6-9d61-111927377b3a\n",
      "----------------------------------------\n",
      "Berlin: Polizei löst Techno-Party mit 130 Gästen auf\n",
      "https://www.spiegel.de/panorama/justiz/berlin-polizei-loest-techno-party-in-lichtenberg-mit-130-gaesten-auf-a-f9d62af2-58b1-477e-85e3-6d7847f236af\n",
      "----------------------------------------\n",
      "John-Lennon-Relikt: Unterschrift für den Mörder – historisches »Double Fantasy«-Album wird versteigert\n",
      "https://www.spiegel.de/panorama/john-lennon-double-fantasy-album-seines-moerders-wird-versteigert-a-9f68d319-41b8-49e1-9371-64c5f620c8a0\n",
      "----------------------------------------\n",
      "Überraschungsteam FK Bodø/Glimt vorzeitig norwegischer Meister: Im Fahrstuhl weiter nach oben, bitte!\n",
      "https://www.spiegel.de/sport/fussball/ueberraschungsteam-fk-bodo-glimt-wird-vorzeitig-norwegischer-meister-a-6cd66fd3-9939-4494-aa22-3762b84e4aa6\n",
      "----------------------------------------\n",
      "Auch AstraZeneca meldet Durchbruch bei Impfstoff\n",
      "https://www.spiegel.de/wissenschaft/medizin/coronavirus-impfstoff-von-astrazeneca-zu-70-prozent-wirksam-a-4b9d44cd-63c9-4de7-bdca-21001caf6969\n",
      "----------------------------------------\n",
      "Gesundheitsminister Spahn rechnet mit wachsender Impfbereitschaft\n",
      "https://www.spiegel.de/wissenschaft/medizin/coronavirus-gesundheitsminister-spahn-rechnet-mit-wachsender-impfbereitschaft-a-12f52c1c-1999-4080-9d24-8a5bea5e3bf0\n",
      "----------------------------------------\n",
      "Unions-Länder wollen Verkauf von Silvesterböllern erlauben\n",
      "https://www.spiegel.de/politik/deutschland/corona-massnahmen-unions-laender-wollen-verkauf-von-silvesterboellern-erlauben-a-7a380190-cc49-4921-b14c-6fdce65aa286\n",
      "----------------------------------------\n",
      "Rechnungshofpräsident warnt vor Schuldenflut\n",
      "https://www.spiegel.de/wirtschaft/coronakrise-rechnungshof-praesident-warnt-vor-schuldenflut-a-0c9b8c5b-9466-4bed-ad7a-939ed33e1939\n",
      "----------------------------------------\n",
      "Schwesig fordert schärfere Regeln für Corona-Hotspots\n",
      "https://www.spiegel.de/wissenschaft/medizin/corona-news-am-montag-spahn-rechnet-mit-ersten-corona-impfungen-noch-in-diesem-jahr-a-eec45d68-aab5-4fcf-b531-cef72de9cbea\n",
      "----------------------------------------\n",
      "Hart getroffen, aber erstaunlich optimistisch\n",
      "https://www.spiegel.de/wirtschaft/corona-in-italien-hart-getroffen-aber-erstaunlich-optimistisch-a-00000000-0002-0001-0000-000174103637\n",
      "----------------------------------------\n",
      "»Wenn ich die Kinder weinen höre, kann ich nicht zu ihnen«\n",
      "https://www.spiegel.de/familie/coronavirus-was-es-fuer-familien-bedeutet-wenn-einer-positiv-auf-covid-19-getestet-wird-a-f4ef8d71-332c-43c4-8c99-979daacd98ee\n",
      "----------------------------------------\n",
      "Türkei verhindert Bundeswehrinspektion auf verdächtigem Frachter\n",
      "https://www.spiegel.de/politik/ausland/tuerkei-verhindert-bundeswehr-inspektion-auf-verdaechtigem-frachter-a-8337442c-a6d3-400a-a27b-fce5b9453931\n",
      "----------------------------------------\n",
      "Trump-Team trennt sich von Anwältin Powell\n",
      "https://www.spiegel.de/politik/ausland/donald-trump-juristen-team-trennt-sich-von-umstrittener-anwaeltin-sidney-powell-a-cf1943c8-885e-4442-9fbb-e79d67df50d1\n",
      "----------------------------------------\n",
      "»Eine Peinlichkeit für dieses Land«\n",
      "https://www.spiegel.de/politik/ausland/donald-trump-republikaner-kritisieren-taktik-des-praesidenten-scharf-a-f300a53d-6e69-4c41-bfbd-4bdd336063a5\n",
      "----------------------------------------\n",
      "In Georgia entscheidet sich, wie viel von Trump bleibt\n",
      "https://www.spiegel.de/politik/ausland/us-wahl-2020-in-georgia-entscheidet-sich-wie-viel-macht-joe-biden-besitzt-a-00000000-0002-0001-0000-000174103645\n",
      "----------------------------------------\n",
      "Die AfD hat die Seuche\n",
      "https://www.spiegel.de/politik/deutschland/die-afd-hat-die-seuche-a-8d5c5c5a-33ba-4fad-8a8b-20a9920a2c4a\n",
      "----------------------------------------\n",
      "Randalierender Schütze soll betrunken gewesen sein\n",
      "https://www.spiegel.de/panorama/justiz/meckenheim-bei-bonn-mann-stirbt-bei-sek-einsatz-er-war-offenbar-betrunken-a-5150ff77-2ad4-4d06-9474-b5476389c083\n",
      "----------------------------------------\n",
      "Bahn kündigt Probebetrieb mit Wasserstoffzug für 2024 an\n",
      "https://www.spiegel.de/auto/deutsche-bahn-kuendigt-probebetrieb-mit-wasserstoffzug-fuer-2024-an-a-2992c027-1129-4890-8899-4103849f31d9\n",
      "----------------------------------------\n",
      "So viel verbrauchen Plug-in-Hybride wirklich\n",
      "https://www.spiegel.de/auto/plug-in-hybride-so-viel-verbrauchen-volvo-xc60-mitsubishi-outlander-und-bmw-x5-wirklich-a-f1149a9a-fde9-4eb1-83bf-79edcd972ce9\n",
      "----------------------------------------\n",
      "In Europa wird zu klein gedacht\n",
      "https://www.spiegel.de/netzwelt/netzpolitik/kuenstliche-intelligenz-im-umweltschutz-in-europa-wird-zu-klein-gedacht-a-00000000-0002-0001-0000-000173622017\n",
      "----------------------------------------\n",
      "Ominöse Obama-Biografie wird zum Bestseller bei Amazon\n",
      "https://www.spiegel.de/netzwelt/web/biografie-ueber-barack-obama-geschrieben-von-einer-kuenstlichen-intelligenz-a-18dc7d29-a9e0-4a7b-9b8e-efafd3972498\n",
      "----------------------------------------\n",
      "Ein Grab in den Lüften\n",
      "https://www.spiegel.de/kultur/literatur/paul-celan-und-die-todesfuge-ein-grab-in-den-lueften-a-00000000-0002-0001-0000-000174103667\n",
      "----------------------------------------\n",
      "Unterschrift für den Mörder – historisches »Double Fantasy«-Album wird versteigert\n",
      "https://www.spiegel.de/panorama/john-lennon-double-fantasy-album-seines-moerders-wird-versteigert-a-9f68d319-41b8-49e1-9371-64c5f620c8a0\n",
      "----------------------------------------\n",
      "Tanit Koch verlässt RTL\n",
      "https://www.spiegel.de/kultur/tv/tanit-koch-verlaesst-rtl-a-874a24e8-b598-4afc-ad57-8f6577acad96\n",
      "----------------------------------------\n",
      "Mein Job fühlt sich furchtbar an – weil der Chef so schlecht arbeitet\n",
      "https://www.spiegel.de/karriere/streit-mit-dem-chef-weil-der-so-schlecht-arbeitet-was-tun-a-e7f28165-ca7c-4129-8ffc-ba97ae991f47\n",
      "----------------------------------------\n",
      "Bierhoff und Löw müssen sich am 4. Dezember erklären\n",
      "https://www.spiegel.de/sport/fussball/nationalmannschaft-dfb-bestaetigt-beratungen-ueber-joachim-loew-a-dbcf5741-8d45-41ae-92bb-cb3fb8bc62e3\n",
      "----------------------------------------\n",
      "Die Erschöpften\n",
      "https://www.spiegel.de/sport/fussball/fussball-bundesliga-erkenntnisse-des-8-bundesliga-spieltags-die-erschoepften-a-38898f4a-9655-4963-90df-1ee69bf7fbfe\n",
      "----------------------------------------\n",
      "Wenn beim Tierarzt eine Kerze brennt\n",
      "https://www.spiegel.de/psychologie/wenn-beim-tierarzt-eine-kerze-brennt-a-00000000-0002-0001-0000-000174103660\n",
      "----------------------------------------\n",
      "Heute gibt es Kartoffelkuchen\n",
      "https://www.spiegel.de/stil/rezept-fuer-kartoffelkuchen-nach-alain-passard-a-6a18308c-5366-44cd-8e0a-bd634731fa63\n",
      "----------------------------------------\n",
      "»Trump wird sich als feindliches Machtzentrum etablieren«\n",
      "https://www.spiegel.de/politik/ausland/donald-trump-gegen-joe-biden-historiker-sean-wilentz-warnt-vor-aushoehlung-der-us-demokratie-a-2cbcec9d-a90c-401e-a670-1000ff720f0d\n",
      "----------------------------------------\n",
      "Wir Gotteskinder und der Wirklichkeitsschock\n",
      "https://www.spiegel.de/kultur/wolfram-eilenberger-ueber-die-krisen-im-jahr-2020-a-00000000-0002-0001-0000-000174103669\n",
      "----------------------------------------\n",
      "Mit welcher Heizung Sie am meisten Geld sparen\n",
      "https://www.spiegel.de/wirtschaft/service/holzpellets-bis-waermepumpe-mit-welcher-heizung-sie-am-meisten-geld-sparen-a-82c3464c-ecda-40df-93b6-dad5f76e6410\n",
      "----------------------------------------\n",
      "»Die letzten Worte des Kindes waren: Mama, du tust mir weh«\n",
      "https://www.spiegel.de/panorama/justiz/nahlah-saimeh-warum-wir-frauen-als-gewalttaeterinnen-unterschaetzen-a-0b6fa6fc-881e-434b-9420-ead95996bf72\n",
      "----------------------------------------\n",
      "Videos\n",
      "https://www.spiegel.de/video/\n",
      "----------------------------------------\n",
      "Klimakrise\n",
      "https://www.spiegel.de/thema/klimawandel/\n",
      "----------------------------------------\n",
      "Aerosole – Schwebeteilchen mit großer Wirkung\n",
      "https://www.spiegel.de/wissenschaft/natur/klimakrise-wie-wirken-sich-aerosole-auf-den-klimawandel-aus-a-448f0a50-c741-4b1a-bb19-0ad57f300e60\n",
      "----------------------------------------\n",
      "Grüne finden Kompromiss im Klimastreit\n",
      "https://www.spiegel.de/politik/deutschland/gruene-finden-kompromiss-im-klima-streit-bei-bundesparteitag-a-9f438cf7-2db8-415d-b338-195348db7654\n",
      "----------------------------------------\n",
      "Kommentare und Kolumnen\n",
      "https://www.spiegel.de/thema/meinung/\n",
      "----------------------------------------\n",
      "Wir starren auf den falschen Frosch\n",
      "https://www.spiegel.de/wissenschaft/mensch/zukunft-der-energieversorgung-wir-starren-auf-den-falschen-frosch-kolumne-a-8d53de13-e377-45e9-bff2-8469bce7f677\n",
      "----------------------------------------\n",
      "Der weltweite Schulden-Tsunami\n",
      "https://www.spiegel.de/wirtschaft/corona-folgen-der-weltweite-schulden-tsunami-a-149e712a-0650-447d-9155-13c51d9f0841\n",
      "----------------------------------------\n",
      "Stöhnt lieber leise in den Pinguin-Etagen\n",
      "https://www.spiegel.de/wirtschaft/unternehmen/frauenquote-fuer-vorstaende-kann-die-das-a-c27cfbbb-1fc7-4c19-971d-c18c25f6db25\n",
      "----------------------------------------\n",
      "Diese vielen Ekligkeiten\n",
      "https://www.spiegel.de/kultur/trojaner-tracker-digitaler-fingerabdruck-gegen-die-ueberwachung-im-netz-a-f835f657-129d-4cda-8411-50ec85c91aa7\n",
      "----------------------------------------\n",
      "Politik\n",
      "https://www.spiegel.de/politik/deutschland/\n",
      "----------------------------------------\n",
      "+++ Pressekonferenz +++: Gesundheitsminister Spahn informiert über Stand bei Corona-Impfungen\n",
      "https://www.spiegel.de/politik/deutschland/coronavirus-gesundheitsminister-spahn-informiert-ueber-stand-bei-impfungen-a-6c92125e-5dab-4fd3-9185-841b6c3226f1\n",
      "----------------------------------------\n",
      "Die Lage am Morgen: Trump ohne Macht – zwei Szenarien für seine Zukunft\n",
      "https://www.spiegel.de/politik/deutschland/news-corona-krise-angela-merkel-die-gruenen-donald-trump-nicolas-sarkozy-a-eac06492-23cf-4e19-a7d0-88d7a07712ce\n",
      "----------------------------------------\n",
      "Anti-Corona-Maßnahmen: Länder wollen Corona-Maßnahmen bis mindestens 20. Dezember verlängern\n",
      "https://www.spiegel.de/politik/deutschland/corona-massnahmen-ein-bisschen-shutdown-wohl-auch-ueber-weihnachten-hinaus-a-1f60f5dc-7a82-423e-b865-82a0da7e403a\n",
      "----------------------------------------\n",
      "Ausland\n",
      "https://www.spiegel.de/politik/ausland/\n",
      "----------------------------------------\n",
      "Trumps brutale Migrationspolitik: Was Joe Biden rückgängig machen kann – und was nicht\n",
      "https://www.spiegel.de/politik/ausland/joe-biden-ringt-mit-der-migrationspolitik-von-donald-trump-a-9c065cae-7edc-4e05-82f2-1207f8bcd599\n",
      "----------------------------------------\n",
      "Opfer im Krisenstaat: In Afghanistan werden jeden Tag fünf Kinder getötet oder verletzt\n",
      "https://www.spiegel.de/politik/ausland/afghanistan-jeden-tag-werden-fuenf-kinder-getoetet-oder-verletzt-a-6d2f4101-bca6-4ffd-8afb-3cbfcf2ddd57\n",
      "----------------------------------------\n",
      "»Nicht vor Peking kuschen«: Hongkonger Aktivist Wong bekennt sich schuldig\n",
      "https://www.spiegel.de/politik/ausland/hongkong-aktivist-joshua-wong-bekennt-sich-schuldig-a-f24df050-f8df-4e02-a0f8-dda08754c820\n",
      "----------------------------------------\n",
      "Panorama\n",
      "https://www.spiegel.de/panorama/\n",
      "----------------------------------------\n",
      "Royals trauern um ihren Hund: »Wir werden ihn sehr vermissen«\n",
      "https://www.spiegel.de/panorama/leute/william-und-catherine-trauern-um-hund-lupo-wir-werden-ihn-sehr-vermissen-a-c328b906-f46a-4f38-84b3-d8972a07f1bc\n",
      "----------------------------------------\n",
      "ALS-Patient Patrick Quinn: Mitbegründer der Ice Bucket Challenge gestorben\n",
      "https://www.spiegel.de/panorama/gesellschaft/patrick-quinn-co-gruender-der-als-ice-bucket-challenge-gestorben-a-dfe5b47b-56b4-4ddd-a179-10a76f120db2\n",
      "----------------------------------------\n",
      "Chris Pratt und Chris Hemsworth: Männlicher Muskelneid\n",
      "https://www.spiegel.de/panorama/leute/chris-pratt-bittet-chris-hemsworth-weniger-zu-trainieren-a-cdd3e0a4-4deb-4a45-8e35-4c32b3827628\n",
      "----------------------------------------\n",
      "Sport\n",
      "https://www.spiegel.de/sport/\n",
      "----------------------------------------\n",
      "Überraschungsteam FK Bodø/Glimt vorzeitig norwegischer Meister: Im Fahrstuhl weiter nach oben, bitte!\n",
      "https://www.spiegel.de/sport/fussball/ueberraschungsteam-fk-bodo-glimt-wird-vorzeitig-norwegischer-meister-a-6cd66fd3-9939-4494-aa22-3762b84e4aa6\n",
      "----------------------------------------\n",
      "ATP-Finals-Sieger Daniil Medwedew: Der Rüpel reift zum Champion\n",
      "https://www.spiegel.de/sport/tennis/atp-finals-sieger-daniil-medwedew-der-ruepel-reift-zum-champion-a-3b508042-f8ba-4813-a7d1-e771d72033a8\n",
      "----------------------------------------\n",
      "Verletzter NFL-Rookie: Sorge um Ausnahmetalent Joe Burrow\n",
      "https://www.spiegel.de/sport/nfl-quarterback-joe-burrow-verletzt-sich-schwer-titans-gewinnen-in-der-verlaengerung-a-4ac9212c-4e2a-4ce3-9dc8-f41d55db4133\n",
      "----------------------------------------\n",
      "Wirtschaft\n",
      "https://www.spiegel.de/wirtschaft/\n",
      "----------------------------------------\n",
      "Hauptstadtflughafen BER: Das Schönefeld-Terminal soll schließen\n",
      "https://www.spiegel.de/wirtschaft/hauptstadtflughafen-ber-schoenefeld-terminal-5-soll-schliessen-a-43949e7c-61cb-46f6-9d61-111927377b3a\n",
      "----------------------------------------\n",
      "Umstrittenes Gesetz: Zweite Stufe des Berliner Mietendeckels tritt in Kraft\n",
      "https://www.spiegel.de/wirtschaft/umstrittenes-gesetz-zweite-stufe-des-berliner-mietendeckels-tritt-in-kraft-a-fa74554b-989f-47f3-8f04-0531ed3b5972\n",
      "----------------------------------------\n",
      "Eine Milliarde Euro: Bundesregierung will Luftfahrtbranche weiter unterstützen\n",
      "https://www.spiegel.de/wirtschaft/unternehmen/corona-bundesregierung-plant-weitere-hilfen-fuer-luftfahrtbranche-a-074c90db-944a-40c7-af3d-0dfb4fc9db51\n",
      "----------------------------------------\n",
      "Im Trainingslager mit Karen Pascha-Gladyshev: Mit der Lego-Chefin auf dem BlackBike\n",
      "https://www.manager-magazin.de/lifestyle/leute/karen-pascha-gladyshev-mit-der-lego-chefin-auf-dem-blackbike-a-00000000-0002-0001-0000-000173050975\n",
      "----------------------------------------\n",
      "Die Mutter von Tesla-Chef Elon: Maye Musk über die Abstürze und den Aufstieg ihrer Familie\n",
      "https://www.manager-magazin.de/lifestyle/leute/maye-musk-ueber-den-clan-und-elon-musk-es-war-alles-kampf-auf-der-ganzen-linie-a-00000000-0002-0001-0000-000174057154\n",
      "----------------------------------------\n",
      "\"Lame Duck\": Wie die Autorität des VW-Chefs schwindet\n",
      "https://www.manager-magazin.de/unternehmen/volkswagen-die-autoritaet-des-herbert-diess-schwindet-a-00000000-0002-0001-0000-000174057118\n",
      "----------------------------------------\n",
      "Börsenkurse manager magazin\n",
      "https://boersen.manager-magazin.de\n",
      "----------------------------------------\n",
      "Wissenschaft\n",
      "https://www.spiegel.de/wissenschaft/\n",
      "----------------------------------------\n",
      "Satellitenbild der Woche: Der Schatz des Glaziologen\n",
      "https://www.spiegel.de/wissenschaft/weltall/groenland-glaziologe-findet-besonders-schoenes-satellitenbild-a-50407ab3-f052-45bf-a4a9-731db00e6eab\n",
      "----------------------------------------\n",
      "Kampf gegen Pandemie: Spahn erwartet Corona-Impfungen noch in diesem Jahr\n",
      "https://www.spiegel.de/wissenschaft/medizin/jens-spahn-erwartet-corona-impfungen-noch-in-diesem-jahr-a-6095ce50-25d0-4dd4-aa57-112773b9aec5\n",
      "----------------------------------------\n",
      "Pompeji: Forscher entdecken 2000 Jahre alte Todesopfer von Vulkanausbruch\n",
      "https://www.spiegel.de/wissenschaft/pompeji-2000-jahre-alte-todesopfer-von-vulkanausbruch-entdeckt-a-74d8c724-9105-4d77-bf7d-8fe0c3a48422\n",
      "----------------------------------------\n",
      "Netzwelt\n",
      "https://www.spiegel.de/netzwelt/\n",
      "----------------------------------------\n",
      "Strafbarkeit für kriminelle Administratoren: Neues Gesetz soll Kampf gegen Darknet-Handel erleichtern\n",
      "https://www.spiegel.de/netzwelt/netzpolitik/neues-gesetz-soll-kampf-gegen-darknet-handel-erleichtern-a-274b8f29-ca90-4504-9e7e-39e68cf1a6a9\n",
      "----------------------------------------\n",
      "Geschichte der LCD-Displays: Als die Bildschirme flach wurden\n",
      "https://www.spiegel.de/netzwelt/gadgets/lcd-displays-als-die-bildschirme-flach-wurden-a-b976dcf4-b7be-406d-a6fd-c215fd9e88af\n",
      "----------------------------------------\n",
      "Sascha Lobo – Der Debatten-Podcast: Corona-Leugner suchen den maximalen Horror\n",
      "https://www.spiegel.de/netzwelt/web/infektionsschutzgesetz-coronaleugner-suchen-den-maximalen-horror-podcast-a-0dfb90d0-3ee5-40d3-9bcc-2218a4e0ab86\n",
      "----------------------------------------\n",
      "Kultur\n",
      "https://www.spiegel.de/kultur/\n",
      "----------------------------------------\n",
      "Krimi-Vote: Wie gefiel Ihnen der Doppelgänger-»Tatort«?\n",
      "https://www.spiegel.de/kultur/tv/tatort-vote-wie-gefiel-ihnen-die-ferien-des-monsieur-murot-a-5cc20fcb-7fde-4765-b090-0bc442fb1cd7\n",
      "----------------------------------------\n",
      "ARD-Sonntagskrimi: Der Tukur-»Tatort« im Schnellcheck\n",
      "https://www.spiegel.de/kultur/tv/tatort-heute-mit-ulrich-tukur-die-ferien-des-monsieur-murot-im-schnellcheck-a-5027fd5d-021a-41de-9be8-c6e30532357c\n",
      "----------------------------------------\n",
      "Cartoons der Woche: Sie wollen nur spielen\n",
      "https://www.spiegel.de/kultur/literatur/cartoons-der-woche-von-thomas-plassmann-und-klaus-stuttmann-a-43c729ab-074a-41af-ad01-1a49ab48ae24\n",
      "----------------------------------------\n",
      "Job & Karriere\n",
      "https://www.spiegel.de/karriere/\n",
      "----------------------------------------\n",
      "Rätsel der Woche: Erst zum Fluss – dann zum Camp\n",
      "https://www.spiegel.de/karriere/erst-zum-fluss-dann-zum-camp-raetsel-der-woche-a-8dba3871-6569-430e-ad1c-b035e7ef2e18\n",
      "----------------------------------------\n",
      "Drei Tugenden für die Krisenzeit: Was man von Solosegler Boris Herrmann fürs Homeoffice lernen kann\n",
      "https://www.spiegel.de/karriere/boris-herrmann-was-man-vom-solo-segler-fuers-homeoffice-lernen-kann-a-c38bde18-076e-4e81-80b7-543cd5105d19\n",
      "----------------------------------------\n",
      "Weitsprung-Weltmeisterin über mentale Stärke: »Es gab nur noch diesen Moment«\n",
      "https://www.spiegel.de/karriere/malaika-mihambo-weitsprung-weltmeisterin-ueber-mentale-staerke-diesen-moment-a-a030252c-5096-43e0-bb01-dd443784d8da\n",
      "----------------------------------------\n",
      "Start\n",
      "https://www.spiegel.de/start/\n",
      "----------------------------------------\n",
      "Kind und Beruf: »Ich hatte meine Zukunft darauf aufgebaut, nur für mich sorgen zu müssen«\n",
      "https://www.spiegel.de/start/familie-und-beruf-ab-wann-sollte-man-ueber-vereinbarkeit-nachdenken-a-6ab33b21-84c9-4c1e-bb0a-e9b37ea13f6c\n",
      "----------------------------------------\n",
      "Jobeinstieg als Berufsschullehrerin: »Mitten in der Coronakrise bekam ich einen Job, bei dem ich praktisch unkündbar bin«\n",
      "https://www.spiegel.de/start/berufsschullehrerin-werden-emily-wurde-mitten-in-der-corona-krise-verbeamtet-a-ddf29bb3-b2ec-4f4d-975b-87ad23dad5d9\n",
      "----------------------------------------\n",
      "Homeoffice in Deutschland: Einige macht es krank, andere glücklich\n",
      "https://www.spiegel.de/start/homeoffice-warum-leiden-einige-waehrend-andere-gluecklicher-sind-als-zuvor-a-ed9b0772-c543-43e9-8996-eb59a79f8898\n",
      "----------------------------------------\n",
      "Geschichte\n",
      "https://www.spiegel.de/geschichte/\n",
      "----------------------------------------\n",
      "Nürnberger Prozesse: Recht statt Rache\n",
      "https://www.spiegel.de/geschichte/75-jahre-nuernberger-prozesse-recht-statt-rache-a-4c13f053-f8b0-43a5-8482-a741f3c894a3\n",
      "----------------------------------------\n",
      "Nürnberger Prozesse: Blitzschlag im Gerichtssaal\n",
      "https://www.spiegel.de/geschichte/nuernberger-prozesse-ab-1945-nazi-kriegsverbrecher-vor-gericht-a-0a01f799-923d-411a-81a7-472a98ade937\n",
      "----------------------------------------\n",
      "Münzentwertung im 15. Jahrhundert: Die erste große Währungskrise und ihre Folgen\n",
      "https://www.spiegel.de/geschichte/muenzentwertung-im-15-jahrhundert-die-erste-grosse-waehrungskrise-a-00000000-0002-0001-0000-000173049355\n",
      "----------------------------------------\n",
      "Tests\n",
      "https://www.spiegel.de/tests/\n",
      "----------------------------------------\n",
      "Fitnesstracker im Test: Läuft bei mir\n",
      "https://www.spiegel.de/tests/fitnesstracker-im-test-laeuft-bei-mir-a-23a70773-b9d2-4fa6-a9bb-6befda58cd9e\n",
      "----------------------------------------\n",
      "Bestseller Link\n",
      "https://www.spiegel.de/kultur/bestseller-buecher-belletristik-sachbuch-auf-spiegel-liste-a-458623.html\n",
      "----------------------------------------\n",
      "Mobilität\n",
      "https://www.spiegel.de/auto/\n",
      "----------------------------------------\n",
      "Wir drehen eine Runde im Rolls-Royce Dawn: Leben im Luftschloss\n",
      "https://www.spiegel.de/auto/rolls-royce-dawn-im-test-leben-im-luftschloss-a-09436254-4127-4a2f-9d97-4dd3d6d82bc9\n",
      "----------------------------------------\n",
      "Neue Einstufungen: Wer jetzt seine Kfz-Versicherung wechseln sollte\n",
      "https://www.spiegel.de/auto/kfz-versicherung-wer-jetzt-wechseln-sollte-a-6b08d1db-5880-426c-8b51-a5e03ed2d9ce\n",
      "----------------------------------------\n",
      "Einführung von Euro 7: Ist die neue Abgasnorm eine »Kriegserklärung an Diesel und Benziner«?\n",
      "https://www.spiegel.de/auto/abgasnorm-euro-7-eine-kriegserklaerung-an-diesel-und-benziner-a-6595079c-66b6-4862-894d-9a24d6c4b661\n",
      "----------------------------------------\n",
      "SPIEGEL-Bestseller: Sachbuch Hardcover\n",
      "https://www.spiegel.de/kultur/literatur/spiegel-bestseller-hardcover-a-1025428.html\n",
      "----------------------------------------\n",
      "Leben\n",
      "https://www.spiegel.de/thema/leben/\n",
      "----------------------------------------\n",
      "Wann kommt die Nacht zurück?\n",
      "https://www.spiegel.de/psychologie/corona-krise-warum-das-feiern-wichtig-ist-a-b78caaa7-d917-4682-a788-88178932e7fc\n",
      "----------------------------------------\n",
      "Mit Kindern die Natur entdecken\n",
      "https://www.spiegel.de/reise/deutschland/mit-kinder-in-die-natur-wald-tipps-fuer-eltern-und-kleine-entdecker-a-a052bbdc-ee0f-4bf4-9636-76e3f82c846e\n",
      "----------------------------------------\n",
      "»Scheitern gehört zum Konzept«\n",
      "https://www.spiegel.de/stil/crowdfunding-was-erfolgreiche-projekte-auszeichnet-a-fac60ccd-dd46-4c60-8b9d-266443cc93ca\n",
      "----------------------------------------\n",
      "Mit diesen 25 Tipps kommen Sie durch den Corona-Winter\n",
      "https://www.spiegel.de/psychologie/coronavirus-mit-diesen-25-tipps-kommen-sie-durch-den-corona-winter-a-cfbffcfa-4e73-4556-b1f8-5b726ab82dfe\n",
      "----------------------------------------\n",
      "How to do Corona\n",
      "https://www.spiegel.de/reise/coronavirus-grippe-impfung-shutdown-weihnachten-fragen-und-antworten-a-3f895355-d146-4af5-a563-1295eab037f9\n",
      "----------------------------------------\n",
      "Eine Verbeugung vor der Natur\n",
      "https://www.spiegel.de/reise/fernweh/landschaftsfotos-ein-internationaler-wettbewerb-kuert-die-besten-fotografen-a-f52d21f6-5c84-4154-8b98-63b316169313\n",
      "----------------------------------------\n",
      "Produkte im Test\n",
      "https://www.spiegel.de/thema/test_und_produkte/\n",
      "----------------------------------------\n",
      "Guter Sound braucht keine Strippen\n",
      "https://www.spiegel.de/netzwelt/gadgets/kabellose-kopfhoerer-im-test-guter-sound-braucht-keine-strippen-a-fad217ce-506c-44cf-92b7-9a435b47de2c\n",
      "----------------------------------------\n",
      "Die können Sie sich schenken!\n",
      "https://www.spiegel.de/tests/brettspiele/brettspiel-tipps-die-koennen-sie-sich-schenken-a-aa38b814-5497-4059-af81-0886e3445bdc\n",
      "----------------------------------------\n",
      "So gut – und so schlecht – sind die neuen Smartspeaker\n",
      "https://www.spiegel.de/netzwelt/gadgets/amazon-echo-nest-audio-braun-le-03-im-test-wie-gut-sind-die-neuen-smartspeaker-a-192ea6d5-558a-4fff-a7eb-a6d22c303384\n",
      "----------------------------------------\n",
      "Dein SPIEGEL\n",
      "https://www.spiegel.de/deinspiegel/\n",
      "----------------------------------------\n",
      "Was du gegen Gewalt tun kannst\n",
      "https://www.spiegel.de/deinspiegel/was-du-gegen-gewalt-tun-kannst-fuer-kinder-erklaert-a-4f04863b-d807-4278-bf1a-2a811a243efb\n",
      "----------------------------------------\n",
      "»Ich saß mit Jogginghose in der Videokonferenz«\n",
      "https://www.spiegel.de/deinspiegel/jens-spahn-ich-sass-mit-jogginghose-in-der-videokonferenz-a-00000000-0002-0001-0000-000173838308\n",
      "----------------------------------------\n",
      "Bild des Tages\n",
      "https://www.spiegel.de/fotostrecke/bilder-des-tages-fotos-aus-deutschland-und-der-welt-fotostrecke-122824.html\n"
     ]
    }
   ],
   "source": [
    "#print soup.get_text()hreflinks=[]\n",
    "AllTitles=soup.findAll('h2')\n",
    "alltitles=[]\n",
    "alltitleLinks=[]\n",
    "for l in AllTitles:\n",
    "    #print l\n",
    "    try:\n",
    "        title = l.find('a')['title']\n",
    "        link = l.find('a')['href']\n",
    "        print('-'*40)\n",
    "        print(title)\n",
    "        print(link)\n",
    "        alltitles.append(title)\n",
    "        alltitleLinks.append(link)\n",
    "    except:\n",
    "        pass"
   ]
  },
  {
   "cell_type": "markdown",
   "metadata": {
    "slideshow": {
     "slide_type": "slide"
    }
   },
   "source": [
    "## Get all images of the page\n",
    "\n",
    "Get url of all images, which are currently displayed on [www.zeit.de](http://www.zeit.de):"
   ]
  },
  {
   "cell_type": "code",
   "execution_count": 7,
   "metadata": {
    "ExecuteTime": {
     "end_time": "2017-10-20T12:50:12.456000Z",
     "start_time": "2017-10-20T12:50:12.440000Z"
    },
    "slideshow": {
     "slide_type": "fragment"
    }
   },
   "outputs": [
    {
     "name": "stdout",
     "output_type": "stream",
     "text": [
      "data:image/gif;base64,R0lGODlhAQABAAAAACH5BAEKAAEALAAAAAABAAEAAAICTAEAOw==\n",
      "https://cdn.prod.www.spiegel.de/images/e8644ab3-335a-4796-ab21-1cb49912c048_w872_r1.77_fpx37_fpy48.jpg\n",
      "https://cdn.prod.www.spiegel.de/images/a3602227-2c19-4dc7-a1f6-fe5693f84b41_w488_r1.77_fpx61.34_fpy50.jpg\n",
      "https://cdn.prod.www.spiegel.de/images/a3602227-2c19-4dc7-a1f6-fe5693f84b41_w117_r1.33_fpx61.34_fpy50.jpg\n",
      "https://cdn.prod.www.spiegel.de/images/9503fc93-085e-4003-b429-1d571a820ea6_w488_r1.77_fpx46_fpy38.jpg\n",
      "https://cdn.prod.www.spiegel.de/images/9503fc93-085e-4003-b429-1d571a820ea6_w117_r1.33_fpx46_fpy38.jpg\n",
      "https://cdn.prod.www.spiegel.de/images/34ebd2d8-7bb6-409a-8433-893ca13338af_w488_r1.77_fpx45.85_fpy44.89.jpg\n",
      "https://cdn.prod.www.spiegel.de/images/34ebd2d8-7bb6-409a-8433-893ca13338af_w117_r1.33_fpx45.85_fpy44.89.jpg\n",
      "https://cdn.prod.www.spiegel.de/images/ef67715b-ebd4-4c78-a40b-5a04f6b86bbc_w117_r1.33_fpx6_fpy46.jpg\n",
      "https://cdn.prod.www.spiegel.de/images/ef67715b-ebd4-4c78-a40b-5a04f6b86bbc_w488_r1.77_fpx6_fpy46.jpg\n"
     ]
    }
   ],
   "source": [
    "imglinks=[]\n",
    "AllImgs=soup.findAll('img')\n",
    "for l in AllImgs:\n",
    "    if l.has_attr('src'):\n",
    "       imglinks.append(l)\n",
    "\n",
    "for l in imglinks[:10]:\n",
    "    print(l['src'])"
   ]
  },
  {
   "cell_type": "markdown",
   "metadata": {
    "slideshow": {
     "slide_type": "slide"
    }
   },
   "source": [
    "## Get entire text of a news-article"
   ]
  },
  {
   "cell_type": "code",
   "execution_count": 8,
   "metadata": {
    "ExecuteTime": {
     "end_time": "2017-10-20T13:09:24.145000Z",
     "start_time": "2017-10-20T13:09:23.833000Z"
    },
    "slideshow": {
     "slide_type": "fragment"
    }
   },
   "outputs": [
    {
     "name": "stdout",
     "output_type": "stream",
     "text": [
      "Kommt mit Joe Biden eine Wende in der Migrationspolitik?\n",
      "Die USA waren lange Zeit ein Land, dessen Grenzen offener waren als anderswo: »Gebt mir eure Müden, eure Armen / Eure geknechteten Massen, die sich danach sehnen, frei zu atmen«, so steht es am Fuß der Freiheitsstatue. Einwanderung ist das Fundament der Vereinigten Staaten gewesen. Bis Nochpräsident Donald Trump es zerstörte.\n",
      "In vier Jahren Amtszeit hat er die Vereinigten Staaten systematisch abgeriegelt. An der Grenze zu Mexiko begann er, eine Mauer zu bauen. Er sperrte die Kinder von lateinamerikanischen Migranten in Zeltstädte, um weitere Männer und Frauen von ihrer Reise abzuhalten. Er ließ Jagd auf jene Schwarzarbeiter machen, die das Land seit Jahrzehnten mit am Laufen halten. Menschen aus mehrheitlich muslimischen Ländern verbot er zeitweise die Einreise und drohte Jugendlichen, die als Kinder in die USA gekommen waren, mit Abschiebung.\n",
      "Lassen sich diese Wunden heilen? Und wenn ja, wie will es die Administration des kommenden Präsidenten Joe Biden versuchen? Antworten auf diese Fragen sucht die US-Migrationsexpertin Doris Meissner.\n",
      "\n",
      "Ihre Vorteile mit SPIEGEL+\n",
      "\n",
      "als App, E-Paper und auf dem E-Reader\n",
      "Exklusive Texte für SPIEGEL+ Leser\n",
      "jederzeit online kündbar\n",
      "nur € 19,99 pro Monat\n",
      "\n",
      "Sie haben bereits ein Digital-Abonnement?\n",
      "\n",
      "Hier anmelden\n",
      "\n",
      "\n",
      "\n",
      "SPIEGEL+ wird über Ihren iTunes-Account abgewickelt und mit Kaufbestätigung bezahlt. 24 Stunden vor Ablauf verlängert sich das Abo automatisch um\n",
      "einen Monat zum Preis von zurzeit 19,99€. In den Einstellungen Ihres iTunes-Accounts können Sie das Abo jederzeit kündigen. Um SPIEGEL+ außerhalb\n",
      "dieser App zu nutzen, müssen Sie das Abo direkt nach dem Kauf mit einem SPIEGEL-ID-Konto verknüpfen. Mit dem Kauf akzeptieren Sie unsere\n",
      "Allgemeinen Geschäftsbedingungen und Datenschutzerklärung.\n",
      "\n",
      "\n",
      "SPIEGEL+-Zugang wird gerade auf einem anderen Gerät genutzt\n",
      "\n",
      "\n",
      "SPIEGEL+ kann nur auf einem Gerät zur selben Zeit genutzt werden.\n",
      "\n",
      "\n",
      "Klicken Sie auf den Button, spielen wir den Hinweis auf dem anderen Gerät aus und Sie können SPIEGEL+ weiter nutzen.\n",
      "\n",
      "\n",
      "Kommt mit Joe Biden eine Wende in der Migrationspolitik?\n",
      "Melden Sie sich an und diskutieren Sie mit\n"
     ]
    }
   ],
   "source": [
    "IDX=0\n",
    "suburl=alltitleLinks[IDX]\n",
    "try:\n",
    "    html=urlopen(suburl).read() #works if subdomains are referenced by absolute path\n",
    "except:\n",
    "    html=urlopen(url+suburl).read() #works if subdomains are referenced by relative path\n",
    "soup=BeautifulSoup(html,\"html.parser\")\n",
    "AllP=soup.findAll('p')\n",
    "for p in AllP:\n",
    "    print(p.get_text())"
   ]
  },
  {
   "cell_type": "markdown",
   "metadata": {
    "collapsed": true,
    "slideshow": {
     "slide_type": "skip"
    }
   },
   "source": [
    "## Questions and Remarks\n",
    "1. This notebook demonstrates how raw-text can be crawled from news-sites. But what is the drawback of this method?\n",
    "2. Execute the entire notebook also for `www.spiegel.de` and `www.sueddeutsche.de`.\n",
    "3. What do you observe? How to solve the problem?"
   ]
  },
  {
   "cell_type": "code",
   "execution_count": null,
   "metadata": {
    "collapsed": true
   },
   "outputs": [],
   "source": []
  }
 ],
 "metadata": {
  "celltoolbar": "Slideshow",
  "kernelspec": {
   "display_name": "Python 3",
   "language": "python",
   "name": "python3"
  },
  "language_info": {
   "codemirror_mode": {
    "name": "ipython",
    "version": 3
   },
   "file_extension": ".py",
   "mimetype": "text/x-python",
   "name": "python",
   "nbconvert_exporter": "python",
   "pygments_lexer": "ipython3",
   "version": "3.7.5"
  },
  "nav_menu": {},
  "toc": {
   "base_numbering": 1,
   "nav_menu": {},
   "number_sections": true,
   "sideBar": true,
   "skip_h1_title": false,
   "title_cell": "Table of Contents",
   "title_sidebar": "Contents",
   "toc_cell": false,
   "toc_position": {},
   "toc_section_display": "block",
   "toc_window_display": false
  },
  "varInspector": {
   "cols": {
    "lenName": 16,
    "lenType": 16,
    "lenVar": 40
   },
   "kernels_config": {
    "python": {
     "delete_cmd_postfix": "",
     "delete_cmd_prefix": "del ",
     "library": "var_list.py",
     "varRefreshCmd": "print(var_dic_list())"
    },
    "r": {
     "delete_cmd_postfix": ") ",
     "delete_cmd_prefix": "rm(",
     "library": "var_list.r",
     "varRefreshCmd": "cat(var_dic_list()) "
    }
   },
   "types_to_exclude": [
    "module",
    "function",
    "builtin_function_or_method",
    "instance",
    "_Feature"
   ],
   "window_display": false
  }
 },
 "nbformat": 4,
 "nbformat_minor": 1
}