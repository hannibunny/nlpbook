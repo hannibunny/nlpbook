{
 "cells": [
  {
   "cell_type": "markdown",
   "metadata": {
    "slideshow": {
     "slide_type": "slide"
    }
   },
   "source": [
    "# Access RSS Feed\n",
    "\n",
    "- Author:      Johannes Maucher\n",
    "- Last update: 2020-09-09\n",
    "\n",
    "This notebook demonstrates how the contents of an RSS feed can be extracted and saved to a file. For each of the parsed feeds\n",
    "1. the short-texts of all current posts are stored in a single file. The file-name is the time `hh:mm` when the feed was parsed. I.e for each new parsing of a feed a new file with the short-texts of all current posts is allocated. The name of the folder, which contains these files, contains the current date and the name of the feed.\n",
    "2. for each post the .html page, which contains the full message is stored (optionally).\n",
    "3. for each post the raw-text of the .html page, which contains the full message is stored (optionally.)"
   ]
  },
  {
   "cell_type": "markdown",
   "metadata": {
    "slideshow": {
     "slide_type": "slide"
    }
   },
   "source": [
    "## Feedparser\n",
    "The contents of a RSS feeds can easily parsed by the python [feedparser](https://pypi.python.org/pypi/feedparser) package. This package must be installed and imported. The `parse()`-method of the feedparser returns the contents of the feed in a structured form. This return-object usually consists of a set of *entries*, which represent the current messages in the feed. The relevant text of an entry is contained in the fields `title` and `description`. Moreover, each entry has a `link`-element, which refers to the .html site of the full article."
   ]
  },
  {
   "cell_type": "code",
   "execution_count": 1,
   "metadata": {
    "ExecuteTime": {
     "end_time": "2017-10-20T13:48:18.277000Z",
     "start_time": "2017-10-20T13:48:17.491000Z"
    },
    "execution": {
     "iopub.execute_input": "2020-09-11T10:28:51.275054Z",
     "iopub.status.busy": "2020-09-11T10:28:51.273849Z",
     "iopub.status.idle": "2020-09-11T10:28:51.482248Z",
     "shell.execute_reply": "2020-09-11T10:28:51.482712Z"
    },
    "slideshow": {
     "slide_type": "slide"
    }
   },
   "outputs": [],
   "source": [
    "import feedparser\n",
    "import requests\n",
    "import bs4\n",
    "import datetime\n",
    "import os"
   ]
  },
  {
   "cell_type": "markdown",
   "metadata": {
    "slideshow": {
     "slide_type": "slide"
    }
   },
   "source": [
    "## Define category and language of feeds\n",
    "For each of the supported languages (currently *German* and *English*) and each of the supported categories (currently *general* and *tech*), a list of feeds is provided. The directories for storing the parsed contents, are sturured with respect to the selected language and category.\n",
    "* The name of the top-level directory is the language name, i.e. currently either `GERMAN` or `ENGLISH`,\n",
    "* The name of the 2nd level directory is the category name, i.e. currently either `GENERAL` or `TECH`,\n",
    "* In the 3rd level currently there is only one folder `RSS`.\n",
    "* In the 4th level, 3 directories exist:\n",
    "    * `FeedText`\n",
    "    * `FullText`\n",
    "    * `HTML`\n",
    "* 5th level: Each of the 3 directories in the 4th level has an arbitrary number of subdirectories, each identified by `FEEDNAME-DATE`. \n",
    "* 6th level under \n",
    "    * `FeedText`: for each parsing process a single file, whose name is the time of parsing and whose contents are all short-texts in this feed at the time of parsing.\n",
    "    * `HTML`: All .html files of the full messages, to which the links in the feed-posts point to.\n",
    "    * `FullText`: The parsed raw text of all .html files of the full messages, to which the links in the feed-posts point to."
   ]
  },
  {
   "cell_type": "markdown",
   "metadata": {
    "slideshow": {
     "slide_type": "slide"
    }
   },
   "source": [
    "Choose the language and category:"
   ]
  },
  {
   "cell_type": "code",
   "execution_count": 2,
   "metadata": {
    "ExecuteTime": {
     "end_time": "2017-10-22T18:23:44.087000Z",
     "start_time": "2017-10-22T18:23:44.060000Z"
    },
    "execution": {
     "iopub.execute_input": "2020-09-11T10:28:51.487387Z",
     "iopub.status.busy": "2020-09-11T10:28:51.486733Z",
     "iopub.status.idle": "2020-09-11T10:28:51.488704Z",
     "shell.execute_reply": "2020-09-11T10:28:51.489155Z"
    },
    "slideshow": {
     "slide_type": "fragment"
    }
   },
   "outputs": [],
   "source": [
    "today=datetime.datetime.now().strftime(\"%Y-%m-%d\")\n",
    "#cat=\"GENERAL\"\n",
    "cat=\"TECH\"\n",
    "#cat=\"SPORT\"\n",
    "#lang=\"GERMAN\"\n",
    "lang=\"ENGLISH\""
   ]
  },
  {
   "cell_type": "markdown",
   "metadata": {
    "slideshow": {
     "slide_type": "slide"
    }
   },
   "source": [
    "Some feed lists for all languages and categories:"
   ]
  },
  {
   "cell_type": "code",
   "execution_count": 3,
   "metadata": {
    "ExecuteTime": {
     "end_time": "2017-10-22T18:23:46.291000Z",
     "start_time": "2017-10-22T18:23:46.268000Z"
    },
    "execution": {
     "iopub.execute_input": "2020-09-11T10:28:51.498079Z",
     "iopub.status.busy": "2020-09-11T10:28:51.497280Z",
     "iopub.status.idle": "2020-09-11T10:28:51.499336Z",
     "shell.execute_reply": "2020-09-11T10:28:51.499788Z"
    },
    "slideshow": {
     "slide_type": "fragment"
    }
   },
   "outputs": [],
   "source": [
    "tech_feeds_en = [{'title': 'districtdatalabs', 'link': 'http://blog.districtdatalabs.com/feed'},\n",
    "                 {'title': 'oreillyradar', 'link': 'http://feeds.feedburner.com/oreilly/radar/atom'},\n",
    "                 {'title': 'kaggle', 'link': 'http://blog.kaggle.com/feed/'},\n",
    "                 {'title': 'revolutionanalytics', 'link': 'http://blog.revolutionanalytics.com/atom.xml'}]\n",
    "general_feeds_en = [{'title': 'bbcnews', 'link': 'http://feeds.bbci.co.uk/news/rss.xml?edition=uk'},\n",
    "                 {'title': 'bbcbusiness', 'link': 'http://feeds.bbci.co.uk/news/business/rss.xml?edition=uk'},\n",
    "                 {'title': 'bbcpolitics', 'link': 'http://feeds.bbci.co.uk/news/politics/rss.xml?edition=uk'},\n",
    "                 {'title': 'washingtonpostworld', 'link': 'http://feeds.washingtonpost.com/rss/world'},\n",
    "                 {'title': 'washingtonpostpolitics', 'link': 'http://feeds.washingtonpost.com/rss/politics'}]\n",
    "tech_feeds_de = [{'title': 'tonline', 'link': 'http://rss1.t-online.de/c/11/53/06/84/11530684.xml'},\n",
    "                 {'title': 'computerbild', 'link': 'http://www.computerbild.de/rssfeed_2261.xml?node=13'},\n",
    "                 {'title': 'heise', 'link': 'http://www.heise.de/newsticker/heise-top-atom.xml'},\n",
    "                 {'title': 'golem', 'link': 'http://rss.golem.de/rss.php?r=sw&feed=RSS0.91'},\n",
    "                 {'title': 'chip', 'link': 'http://www.chip.de/rss/rss_topnews.xml'}]\n",
    "general_feeds_de = [{'title': 'zeit', 'link': 'http://newsfeed.zeit.de/index'},\n",
    "                    {'title': 'zeit_wirtschaft', 'link': 'http://newsfeed.zeit.de/wirtschaft/index'},\n",
    "                    {'title': 'zeit_politik', 'link': 'http://newsfeed.zeit.de/politik/index'},\n",
    "                    {'title': 'welt_wirtschaft', 'link': 'http://www.welt.de/wirtschaft/?service=Rss'},\n",
    "                    {'title': 'welt_politik', 'link': 'http://www.welt.de/politik/?service=Rss'},\n",
    "                    {'title': 'spiegel', 'link': 'http://www.spiegel.de/schlagzeilen/tops/index.rss'},\n",
    "                    {'title': 'sueddeutsche', 'link': 'http://www.sueddeutsche.de/app/service/rss/alles/rss.xml'},\n",
    "                    {'title': 'faz', 'link': 'http://www.faz.net/rss/aktuell/'}\n",
    "                    ]"
   ]
  },
  {
   "cell_type": "markdown",
   "metadata": {
    "slideshow": {
     "slide_type": "slide"
    }
   },
   "source": [
    "For the defined language and category, determine a suitable feedlist:"
   ]
  },
  {
   "cell_type": "code",
   "execution_count": 4,
   "metadata": {
    "ExecuteTime": {
     "end_time": "2017-10-22T18:23:47.703000Z",
     "start_time": "2017-10-22T18:23:47.694000Z"
    },
    "execution": {
     "iopub.execute_input": "2020-09-11T10:28:51.505323Z",
     "iopub.status.busy": "2020-09-11T10:28:51.504556Z",
     "iopub.status.idle": "2020-09-11T10:28:51.506662Z",
     "shell.execute_reply": "2020-09-11T10:28:51.507419Z"
    },
    "slideshow": {
     "slide_type": "fragment"
    }
   },
   "outputs": [],
   "source": [
    "if lang==\"ENGLISH\":\n",
    "    if cat==\"GENERAL\":\n",
    "        feeds=general_feeds_en\n",
    "    else:\n",
    "        feeds=tech_feeds_en\n",
    "else:\n",
    "    if cat==\"GENERAL\":\n",
    "        feeds=general_feeds_de\n",
    "    else:\n",
    "        feeds=tech_feeds_de"
   ]
  },
  {
   "cell_type": "code",
   "execution_count": 5,
   "metadata": {
    "ExecuteTime": {
     "end_time": "2017-10-22T18:23:48.893000Z",
     "start_time": "2017-10-22T18:23:48.888000Z"
    },
    "execution": {
     "iopub.execute_input": "2020-09-11T10:28:51.512078Z",
     "iopub.status.busy": "2020-09-11T10:28:51.511377Z",
     "iopub.status.idle": "2020-09-11T10:28:51.513564Z",
     "shell.execute_reply": "2020-09-11T10:28:51.514037Z"
    },
    "slideshow": {
     "slide_type": "slide"
    }
   },
   "outputs": [],
   "source": [
    "TAGS = ['h1', 'h2', 'h3', 'h4', 'h5', 'h6', 'h7', 'p']\n",
    "MINLEN=30 #Write only texts, whose length (number of characters) exceeds this size."
   ]
  },
  {
   "cell_type": "code",
   "execution_count": 6,
   "metadata": {
    "ExecuteTime": {
     "end_time": "2017-10-22T18:23:50.487000Z",
     "start_time": "2017-10-22T18:23:50.428000Z"
    },
    "execution": {
     "iopub.execute_input": "2020-09-11T10:28:51.527652Z",
     "iopub.status.busy": "2020-09-11T10:28:51.526921Z",
     "iopub.status.idle": "2020-09-11T10:28:51.529154Z",
     "shell.execute_reply": "2020-09-11T10:28:51.529630Z"
    },
    "slideshow": {
     "slide_type": "slide"
    }
   },
   "outputs": [],
   "source": [
    "def rss_parse(feed,category=\"GENERAL\",lang=\"GERMAN\",savehtml=False,savefulltext=True):\n",
    "    #Create directories\n",
    "    dirname=lang+\"/\"+category+\"/\"+\"RSS/FeedText/\"+feed[\"title\"]+\"-\"+today+\"/\"\n",
    "    htmldirname=lang+\"/\"+category+\"/\"+\"RSS/HTML/\"+feed[\"title\"]+\"-\"+today+\"/\"\n",
    "    fulldirname=lang+\"/\"+category+\"/\"+\"RSS/FullText/\"+feed[\"title\"]+\"-\"+today+\"/\"\n",
    "    try:\n",
    "        os.makedirs(dirname)\n",
    "        print(\"Created: \",dirname)\n",
    "    except:\n",
    "        print(\"Directory %s already exists.\"%dirname)\n",
    "    try:\n",
    "        os.makedirs(htmldirname)\n",
    "    except:\n",
    "        print(\"Directory %s already exists.\"%htmldirname)\n",
    "    try:\n",
    "        os.makedirs(fulldirname)\n",
    "    except:\n",
    "        print(\"Directory %s already exists.\"%fulldirname)\n",
    "    \n",
    "    # Parse feed\n",
    "    parsed = feedparser.parse(feed[\"link\"])\n",
    "    posts = parsed.entries\n",
    "    now=datetime.datetime.now().strftime(\"%H-%M\")\n",
    "    cummulativeFile=now+ '.txt'\n",
    "    feedfilename = dirname+cummulativeFile\n",
    "    for post in posts:\n",
    "        # Get and save short-texts of feed-posts (all texts of one feed at one time in a common file)\n",
    "        try:\n",
    "            soup = bs4.BeautifulSoup(post.title+\"\\n\"+post.description, \"lxml\")\n",
    "        except:\n",
    "            continue\n",
    "\n",
    "        text = soup.get_text()\n",
    "        post_title = post.title\n",
    "        with open(feedfilename, 'a',encoding=\"utf-8\") as f:\n",
    "            text=text+ \"\\n \\n\"\n",
    "            try:\n",
    "                f.write(text)\n",
    "            except:\n",
    "                print(\"CAN'T WRITE FEEDTEXT TO FILE\")\n",
    "                print(text)\n",
    "        \n",
    "        # Go to the .html-site of the full message\n",
    "        page = requests.get(post.link).content\n",
    "        if savehtml:\n",
    "            htmlfilename = htmldirname+post.title.lower() + '.html'\n",
    "            with open(htmlfilename, 'w',encoding=\"utf-8\") as f:\n",
    "                f.write(page.decode(\"utf-8\"))\n",
    "            f.close()\n",
    "        \n",
    "        # Parse raw text from the .html page of the full message\n",
    "        if savefulltext:\n",
    "            fullfilename = fulldirname+post.title.lower() + '.txt'\n",
    "            soup = bs4.BeautifulSoup(page, \"lxml\")\n",
    "            with open(fullfilename, 'w',encoding=\"utf-8\") as ft:\n",
    "                for tag in soup.find_all(TAGS):\n",
    "                    text = tag.get_text()\n",
    "                    if len(text)>MINLEN:\n",
    "                        ft.write(text)\n",
    "            f.close()"
   ]
  },
  {
   "cell_type": "code",
   "execution_count": 7,
   "metadata": {
    "ExecuteTime": {
     "end_time": "2017-10-22T18:24:52.292000Z",
     "start_time": "2017-10-22T18:23:52.592000Z"
    },
    "execution": {
     "iopub.execute_input": "2020-09-11T10:28:51.535395Z",
     "iopub.status.busy": "2020-09-11T10:28:51.534360Z",
     "iopub.status.idle": "2020-09-11T10:29:33.518965Z",
     "shell.execute_reply": "2020-09-11T10:29:33.519516Z"
    },
    "scrolled": true,
    "slideshow": {
     "slide_type": "slide"
    }
   },
   "outputs": [
    {
     "name": "stdout",
     "output_type": "stream",
     "text": [
      "Directory ENGLISH/TECH/RSS/FeedText/districtdatalabs-2020-09-11/ already exists.\n",
      "Directory ENGLISH/TECH/RSS/HTML/districtdatalabs-2020-09-11/ already exists.\n",
      "Directory ENGLISH/TECH/RSS/FullText/districtdatalabs-2020-09-11/ already exists.\n"
     ]
    },
    {
     "name": "stdout",
     "output_type": "stream",
     "text": [
      "Directory ENGLISH/TECH/RSS/FeedText/oreillyradar-2020-09-11/ already exists.\n",
      "Directory ENGLISH/TECH/RSS/HTML/oreillyradar-2020-09-11/ already exists.\n",
      "Directory ENGLISH/TECH/RSS/FullText/oreillyradar-2020-09-11/ already exists.\n"
     ]
    },
    {
     "name": "stdout",
     "output_type": "stream",
     "text": [
      "Directory ENGLISH/TECH/RSS/FeedText/kaggle-2020-09-11/ already exists.\n",
      "Directory ENGLISH/TECH/RSS/HTML/kaggle-2020-09-11/ already exists.\n",
      "Directory ENGLISH/TECH/RSS/FullText/kaggle-2020-09-11/ already exists.\n"
     ]
    },
    {
     "name": "stdout",
     "output_type": "stream",
     "text": [
      "Directory ENGLISH/TECH/RSS/FeedText/revolutionanalytics-2020-09-11/ already exists.\n",
      "Directory ENGLISH/TECH/RSS/HTML/revolutionanalytics-2020-09-11/ already exists.\n",
      "Directory ENGLISH/TECH/RSS/FullText/revolutionanalytics-2020-09-11/ already exists.\n"
     ]
    }
   ],
   "source": [
    "for f in feeds:\n",
    "    rss_parse(f,category=cat,lang=lang,savehtml=True,savefulltext=True)"
   ]
  },
  {
   "cell_type": "code",
   "execution_count": null,
   "metadata": {},
   "outputs": [],
   "source": []
  }
 ],
 "metadata": {
  "anaconda-cloud": {},
  "celltoolbar": "Slideshow",
  "kernelspec": {
   "display_name": "Python 3",
   "language": "python",
   "name": "python3"
  },
  "language_info": {
   "codemirror_mode": {
    "name": "ipython",
    "version": 3
   },
   "file_extension": ".py",
   "mimetype": "text/x-python",
   "name": "python",
   "nbconvert_exporter": "python",
   "pygments_lexer": "ipython3",
   "version": "3.7.7"
  },
  "nav_menu": {},
  "toc": {
   "base_numbering": 1,
   "nav_menu": {},
   "number_sections": true,
   "sideBar": true,
   "skip_h1_title": false,
   "title_cell": "Table of Contents",
   "title_sidebar": "Contents",
   "toc_cell": false,
   "toc_position": {},
   "toc_section_display": "block",
   "toc_window_display": false
  },
  "varInspector": {
   "cols": {
    "lenName": 16,
    "lenType": 16,
    "lenVar": 40
   },
   "kernels_config": {
    "python": {
     "delete_cmd_postfix": "",
     "delete_cmd_prefix": "del ",
     "library": "var_list.py",
     "varRefreshCmd": "print(var_dic_list())"
    },
    "r": {
     "delete_cmd_postfix": ") ",
     "delete_cmd_prefix": "rm(",
     "library": "var_list.r",
     "varRefreshCmd": "cat(var_dic_list()) "
    }
   },
   "types_to_exclude": [
    "module",
    "function",
    "builtin_function_or_method",
    "instance",
    "_Feature"
   ],
   "window_display": false
  }
 },
 "nbformat": 4,
 "nbformat_minor": 1
}