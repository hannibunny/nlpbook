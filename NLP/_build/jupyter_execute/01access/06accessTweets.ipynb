{
 "cells": [
  {
   "cell_type": "markdown",
   "metadata": {
    "slideshow": {
     "slide_type": "slide"
    }
   },
   "source": [
    "# Access Tweets\n",
    "\n",
    "- Author:      Johannes Maucher\n",
    "- Last update: 2020-09-09\n",
    "\n",
    "This notebook demonstrates how the Python API [tweepy](http://www.tweepy.org/) can be applied to access data from twitter."
   ]
  },
  {
   "cell_type": "code",
   "execution_count": 1,
   "metadata": {
    "execution": {
     "iopub.execute_input": "2020-09-16T15:02:08.498131Z",
     "iopub.status.busy": "2020-09-16T15:02:08.497443Z",
     "iopub.status.idle": "2020-09-16T15:02:08.499863Z",
     "shell.execute_reply": "2020-09-16T15:02:08.500430Z"
    },
    "slideshow": {
     "slide_type": "skip"
    }
   },
   "outputs": [],
   "source": [
    "#!pip install tweepy"
   ]
  },
  {
   "cell_type": "code",
   "execution_count": 2,
   "metadata": {
    "ExecuteTime": {
     "end_time": "2017-11-12T20:38:02.349000Z",
     "start_time": "2017-11-12T21:38:00.638000+01:00"
    },
    "execution": {
     "iopub.execute_input": "2020-09-16T15:02:08.504949Z",
     "iopub.status.busy": "2020-09-16T15:02:08.504139Z",
     "iopub.status.idle": "2020-09-16T15:02:08.667768Z",
     "shell.execute_reply": "2020-09-16T15:02:08.668331Z"
    },
    "slideshow": {
     "slide_type": "slide"
    }
   },
   "outputs": [],
   "source": [
    "import tweepy\n",
    "import json\n",
    "from slugify import slugify"
   ]
  },
  {
   "cell_type": "markdown",
   "metadata": {
    "slideshow": {
     "slide_type": "slide"
    }
   },
   "source": [
    "The tweepy authentification process is described in detail in [tweepy authentification](http://tweepy.readthedocs.io/en/v3.5.0/auth_tutorial.html). This process is implemented in the following two code-cells. It requires that corresponding personal twitter credentials are available. These credentials can be applied from [Twitter Apps](https://apps.twitter.com/).  \n",
    "\n",
    "My personal credentials are saved in the file `twitterCredentials.json`. The contents of this file are loaded in the following code-cell."
   ]
  },
  {
   "cell_type": "code",
   "execution_count": 3,
   "metadata": {
    "ExecuteTime": {
     "end_time": "2017-11-12T20:38:07.391000Z",
     "start_time": "2017-11-12T21:38:07.375000+01:00"
    },
    "execution": {
     "iopub.execute_input": "2020-09-16T15:02:08.673343Z",
     "iopub.status.busy": "2020-09-16T15:02:08.672456Z",
     "iopub.status.idle": "2020-09-16T15:02:08.677113Z",
     "shell.execute_reply": "2020-09-16T15:02:08.677674Z"
    },
    "slideshow": {
     "slide_type": "fragment"
    }
   },
   "outputs": [],
   "source": [
    "with open(\"/Users/maucher/Keys/twitterCredentials.json\") as data_file:    \n",
    "    credentials = json.load(data_file)\n",
    "#print credentials"
   ]
  },
  {
   "cell_type": "markdown",
   "metadata": {
    "slideshow": {
     "slide_type": "slide"
    }
   },
   "source": [
    "Tweepy authentification:"
   ]
  },
  {
   "cell_type": "code",
   "execution_count": 4,
   "metadata": {
    "ExecuteTime": {
     "end_time": "2017-11-12T20:38:12.496000Z",
     "start_time": "2017-11-12T21:38:12.480000+01:00"
    },
    "execution": {
     "iopub.execute_input": "2020-09-16T15:02:08.683208Z",
     "iopub.status.busy": "2020-09-16T15:02:08.682229Z",
     "iopub.status.idle": "2020-09-16T15:02:08.684801Z",
     "shell.execute_reply": "2020-09-16T15:02:08.684257Z"
    },
    "slideshow": {
     "slide_type": "fragment"
    }
   },
   "outputs": [],
   "source": [
    "auth = tweepy.OAuthHandler(credentials[\"consumerKey\"], credentials[\"consumerSecret\"])\n",
    "auth.set_access_token(credentials[\"accessToken\"],credentials[\"accessSecret\"])\n",
    "api = tweepy.API(auth)"
   ]
  },
  {
   "cell_type": "markdown",
   "metadata": {
    "slideshow": {
     "slide_type": "slide"
    }
   },
   "source": [
    "The `API`-object can now be applied for example in order to read the own timeline of the Twitter homepage:"
   ]
  },
  {
   "cell_type": "code",
   "execution_count": 5,
   "metadata": {
    "ExecuteTime": {
     "end_time": "2017-11-12T20:38:21.037000Z",
     "start_time": "2017-11-12T21:38:19.449000+01:00"
    },
    "execution": {
     "iopub.execute_input": "2020-09-16T15:02:08.690720Z",
     "iopub.status.busy": "2020-09-16T15:02:08.690108Z",
     "iopub.status.idle": "2020-09-16T15:02:09.135104Z",
     "shell.execute_reply": "2020-09-16T15:02:09.135611Z"
    },
    "slideshow": {
     "slide_type": "fragment"
    }
   },
   "outputs": [
    {
     "name": "stdout",
     "output_type": "stream",
     "text": [
      "----------\n",
      "Steffen Seibert\n",
      "Das #Kurzarbeitergeld ist ein wichtiges Werkzeug in der #Corona-Pandemie: Viele Regelungen gelten befristet und lau… https://t.co/kQr6qsgiEK\n",
      "----------\n",
      "VfB Stuttgart\n",
      "⏳ Nur noch 3⃣ Tage... @wataru0209 ist heiß auf sein #Bundesliga-Debüt! 🔥\n",
      "\n",
      "🔜 @VfB 🆚 @scfreiburg \n",
      "⚽️ @Bundesliga_DE,… https://t.co/lqqhbCnTMl\n",
      "----------\n",
      "Hochschule der Medien (HdM)\n",
      "Ab Oktober 2020 sprechen Stuttgarter Persönlichkeiten in einem neuen Podcast-Format ausführlich über ihre Stadt und… https://t.co/DBZ5OfDvQZ\n",
      "----------\n",
      "Steffen Seibert\n",
      "Mehr Freiräume für Eltern schaffen, die Beruf und Familienalltag organisieren wollen - das ist das Ziel der Reforme… https://t.co/PJfcGFC9jH\n",
      "----------\n",
      "VfB Stuttgart\n",
      "RT @VfB_int: 😍 @Bundesliga_EN is back! ⚪️🔴\n",
      "\n",
      "What do you hope for?\n",
      "\n",
      "#PassionNeverStops  #VfB https://t.co/AyxIaPPy4A\n",
      "----------\n",
      "Steffen Seibert\n",
      "Kanzlerin #Merkel gratuliert dem Nachfolger von @AbeShinzo, dem neuen Premierminister #Japan|s Yoshihide Suga… https://t.co/ZEaZAyfcAv\n",
      "----------\n",
      "VfB Stuttgart\n",
      "Dreierpack von @tegut! 😍 🤝 Der Lebensmittelhändler &amp; Bio-Pionier wird neuer #VfB Club Partner, Fritzle Club-Fördere… https://t.co/dj1plhy3AP\n",
      "----------\n",
      "VfB Stuttgart\n",
      "RT @jungundwild: Ein Deutscher Meister von 2007 kehrt ins Nachwuchsleistungszentrum zurück - herzlich Willkommen Matthieu!\n",
      "\n",
      "#jungundwild\n",
      "\n",
      "h…\n",
      "----------\n",
      "VfB Stuttgart\n",
      "🔢 Tage bevor die #Bundesliga beim Heimspiel gegen den @scfreiburg in die Mercedes-Benz Arena zurückkehrt, kehrten b… https://t.co/60VW24tZRA\n",
      "----------\n",
      "Steffen Seibert\n",
      "RT @HBraun: Heute ist ein großer Tag: Aus der Initiative @Tech4Germany ist mit dem heutigen Notartermin zur Gründung der #DigitalService4Ge…\n"
     ]
    }
   ],
   "source": [
    "public_tweets = api.home_timeline(count=10)\n",
    "for tweet in public_tweets:\n",
    "    print(\"-\"*10)\n",
    "    print(tweet.author.name)\n",
    "    print(tweet.text)"
   ]
  },
  {
   "cell_type": "markdown",
   "metadata": {
    "slideshow": {
     "slide_type": "slide"
    }
   },
   "source": [
    "The `API`-object can also be applied for sending a new tweet (a.k.a. update status):"
   ]
  },
  {
   "cell_type": "code",
   "execution_count": 6,
   "metadata": {
    "ExecuteTime": {
     "end_time": "2017-11-12T20:39:25.949000Z",
     "start_time": "2017-11-12T21:39:25.944000+01:00"
    },
    "execution": {
     "iopub.execute_input": "2020-09-16T15:02:09.139796Z",
     "iopub.status.busy": "2020-09-16T15:02:09.139091Z",
     "iopub.status.idle": "2020-09-16T15:02:09.141303Z",
     "shell.execute_reply": "2020-09-16T15:02:09.141791Z"
    },
    "slideshow": {
     "slide_type": "fragment"
    }
   },
   "outputs": [],
   "source": [
    "#api.update_status(\"This is just for testing tweepy api\")"
   ]
  },
  {
   "cell_type": "markdown",
   "metadata": {
    "slideshow": {
     "slide_type": "slide"
    }
   },
   "source": [
    "The API does not only provide access to content (tweets), but also to user-, friendship-, list-data and much more:"
   ]
  },
  {
   "cell_type": "code",
   "execution_count": 7,
   "metadata": {
    "ExecuteTime": {
     "end_time": "2017-11-12T20:39:29.102000Z",
     "start_time": "2017-11-12T21:39:28.733000+01:00"
    },
    "execution": {
     "iopub.execute_input": "2020-09-16T15:02:09.147284Z",
     "iopub.status.busy": "2020-09-16T15:02:09.146337Z",
     "iopub.status.idle": "2020-09-16T15:02:09.479751Z",
     "shell.execute_reply": "2020-09-16T15:02:09.480225Z"
    },
    "slideshow": {
     "slide_type": "fragment"
    }
   },
   "outputs": [
    {
     "data": {
      "text/plain": [
       "25073877"
      ]
     },
     "execution_count": 7,
     "metadata": {},
     "output_type": "execute_result"
    }
   ],
   "source": [
    "user = api.get_user('realDonaldTrump')\n",
    "#ser = api.get_user('RegSprecher')\n",
    "user.id"
   ]
  },
  {
   "cell_type": "code",
   "execution_count": 8,
   "metadata": {
    "ExecuteTime": {
     "end_time": "2017-11-12T20:39:33.960000Z",
     "start_time": "2017-11-12T21:39:33.954000+01:00"
    },
    "execution": {
     "iopub.execute_input": "2020-09-16T15:02:09.484507Z",
     "iopub.status.busy": "2020-09-16T15:02:09.483769Z",
     "iopub.status.idle": "2020-09-16T15:02:09.486239Z",
     "shell.execute_reply": "2020-09-16T15:02:09.486683Z"
    },
    "slideshow": {
     "slide_type": "slide"
    }
   },
   "outputs": [
    {
     "name": "stdout",
     "output_type": "stream",
     "text": [
      "45th President of the United States of America🇺🇸\n"
     ]
    }
   ],
   "source": [
    "print(user.description)"
   ]
  },
  {
   "cell_type": "code",
   "execution_count": 9,
   "metadata": {
    "ExecuteTime": {
     "end_time": "2017-11-12T20:39:36.498000Z",
     "start_time": "2017-11-12T21:39:36.482000+01:00"
    },
    "execution": {
     "iopub.execute_input": "2020-09-16T15:02:09.491085Z",
     "iopub.status.busy": "2020-09-16T15:02:09.490198Z",
     "iopub.status.idle": "2020-09-16T15:02:09.493102Z",
     "shell.execute_reply": "2020-09-16T15:02:09.493554Z"
    },
    "slideshow": {
     "slide_type": "fragment"
    }
   },
   "outputs": [
    {
     "data": {
      "text/plain": [
       "86005770"
      ]
     },
     "execution_count": 9,
     "metadata": {},
     "output_type": "execute_result"
    }
   ],
   "source": [
    "user.followers_count"
   ]
  },
  {
   "cell_type": "code",
   "execution_count": 10,
   "metadata": {
    "ExecuteTime": {
     "end_time": "2017-11-12T20:39:37.881000Z",
     "start_time": "2017-11-12T21:39:37.881000+01:00"
    },
    "execution": {
     "iopub.execute_input": "2020-09-16T15:02:09.497829Z",
     "iopub.status.busy": "2020-09-16T15:02:09.497127Z",
     "iopub.status.idle": "2020-09-16T15:02:09.499738Z",
     "shell.execute_reply": "2020-09-16T15:02:09.500191Z"
    },
    "slideshow": {
     "slide_type": "fragment"
    }
   },
   "outputs": [
    {
     "data": {
      "text/plain": [
       "'Washington, DC'"
      ]
     },
     "execution_count": 10,
     "metadata": {},
     "output_type": "execute_result"
    }
   ],
   "source": [
    "user.location"
   ]
  },
  {
   "cell_type": "code",
   "execution_count": 11,
   "metadata": {
    "ExecuteTime": {
     "end_time": "2017-11-12T20:39:39.246000Z",
     "start_time": "2017-11-12T21:39:39.246000+01:00"
    },
    "execution": {
     "iopub.execute_input": "2020-09-16T15:02:09.504818Z",
     "iopub.status.busy": "2020-09-16T15:02:09.504099Z",
     "iopub.status.idle": "2020-09-16T15:02:09.506799Z",
     "shell.execute_reply": "2020-09-16T15:02:09.507250Z"
    },
    "slideshow": {
     "slide_type": "fragment"
    }
   },
   "outputs": [
    {
     "data": {
      "text/plain": [
       "50"
      ]
     },
     "execution_count": 11,
     "metadata": {},
     "output_type": "execute_result"
    }
   ],
   "source": [
    "user.friends_count"
   ]
  },
  {
   "cell_type": "code",
   "execution_count": 12,
   "metadata": {
    "ExecuteTime": {
     "end_time": "2017-11-12T20:39:45.487000Z",
     "start_time": "2017-11-12T21:39:43.600000+01:00"
    },
    "execution": {
     "iopub.execute_input": "2020-09-16T15:02:09.512860Z",
     "iopub.status.busy": "2020-09-16T15:02:09.512153Z",
     "iopub.status.idle": "2020-09-16T15:02:10.533251Z",
     "shell.execute_reply": "2020-09-16T15:02:10.533740Z"
    },
    "slideshow": {
     "slide_type": "slide"
    }
   },
   "outputs": [
    {
     "name": "stdout",
     "output_type": "stream",
     "text": [
      "GOPLeader\n",
      "senatemajldr\n",
      "MarkMeadows\n",
      "kimguilfoyle\n",
      "JudgeJeanine\n",
      "Jim_Jordan\n",
      "MariaBartiromo\n",
      "VP\n",
      "GOPChairwoman\n",
      "parscale\n",
      "PressSec\n",
      "TuckerCarlson\n",
      "JesseBWatters\n",
      "WhiteHouse\n",
      "Scavino45\n",
      "KellyannePolls\n",
      "Reince\n",
      "RealRomaDowney\n",
      "Trump\n",
      "TrumpGolf\n"
     ]
    },
    {
     "name": "stdout",
     "output_type": "stream",
     "text": [
      "20\n"
     ]
    }
   ],
   "source": [
    "for friend in user.friends():\n",
    "    print(friend.screen_name)\n",
    "print(len(user.friends()))"
   ]
  },
  {
   "cell_type": "code",
   "execution_count": 13,
   "metadata": {
    "ExecuteTime": {
     "end_time": "2017-11-12T20:39:57.125000Z",
     "start_time": "2017-11-12T21:39:52.247000+01:00"
    },
    "execution": {
     "iopub.execute_input": "2020-09-16T15:02:10.541332Z",
     "iopub.status.busy": "2020-09-16T15:02:10.540622Z",
     "iopub.status.idle": "2020-09-16T15:02:13.464753Z",
     "shell.execute_reply": "2020-09-16T15:02:13.465316Z"
    },
    "slideshow": {
     "slide_type": "slide"
    }
   },
   "outputs": [
    {
     "name": "stdout",
     "output_type": "stream",
     "text": [
      "mxlearn\n"
     ]
    },
    {
     "name": "stdout",
     "output_type": "stream",
     "text": [
      "reddit_python\n"
     ]
    },
    {
     "name": "stdout",
     "output_type": "stream",
     "text": [
      "ML_NLP\n"
     ]
    },
    {
     "name": "stdout",
     "output_type": "stream",
     "text": [
      "realDonaldTrump\n"
     ]
    }
   ],
   "source": [
    "dirname=\"./TWEETS/\"\n",
    "users = [\"mxlearn\",\"reddit_python\",\"ML_NLP\",\"realDonaldTrump\"]\n",
    "numTweets=300\n",
    "for user in users:\n",
    "    print(user)\n",
    "    user_timeline = api.user_timeline(screen_name=user, count=numTweets)\n",
    "    filename = str(user) + \".json\"\n",
    "    with open(dirname+filename, 'w+',encoding=\"utf-8\") as f:\n",
    "        for idx, tweet in enumerate(user_timeline):\n",
    "            tweet_text = user_timeline[idx].text\n",
    "            #print(tweet_text)\n",
    "            f.write(tweet_text + \"\\n\")"
   ]
  },
  {
   "cell_type": "markdown",
   "metadata": {
    "slideshow": {
     "slide_type": "slide"
    }
   },
   "source": [
    "Alternative way to access timeline using the cursor-object:"
   ]
  },
  {
   "cell_type": "code",
   "execution_count": 14,
   "metadata": {
    "ExecuteTime": {
     "end_time": "2017-11-12T20:40:36.476000Z",
     "start_time": "2017-11-12T21:40:35.882000+01:00"
    },
    "execution": {
     "iopub.execute_input": "2020-09-16T15:02:13.470425Z",
     "iopub.status.busy": "2020-09-16T15:02:13.469278Z",
     "iopub.status.idle": "2020-09-16T15:02:13.932866Z",
     "shell.execute_reply": "2020-09-16T15:02:13.933405Z"
    },
    "slideshow": {
     "slide_type": "fragment"
    }
   },
   "outputs": [],
   "source": [
    "with open(\"twitterTimeline.json\", 'w+') as f:\n",
    "    for status in tweepy.Cursor(api.home_timeline).items(1):\n",
    "        json.dump(status._json,f)"
   ]
  },
  {
   "cell_type": "code",
   "execution_count": 15,
   "metadata": {
    "ExecuteTime": {
     "end_time": "2017-11-12T20:40:59.221000Z",
     "start_time": "2017-11-12T21:40:58.858000+01:00"
    },
    "execution": {
     "iopub.execute_input": "2020-09-16T15:02:13.939652Z",
     "iopub.status.busy": "2020-09-16T15:02:13.938484Z",
     "iopub.status.idle": "2020-09-16T15:02:14.253921Z",
     "shell.execute_reply": "2020-09-16T15:02:14.254429Z"
    },
    "slideshow": {
     "slide_type": "fragment"
    }
   },
   "outputs": [
    {
     "name": "stdout",
     "output_type": "stream",
     "text": [
      "Johannes Maucher\n",
      "VfB Stuttgart\n",
      "Steffen Seibert\n",
      "Hochschule der Medien (HdM)\n"
     ]
    }
   ],
   "source": [
    "for friend in list(tweepy.Cursor(api.friends).items()):\n",
    "    print(friend.name)"
   ]
  },
  {
   "cell_type": "code",
   "execution_count": 16,
   "metadata": {
    "ExecuteTime": {
     "end_time": "2017-11-12T20:41:06.640000Z",
     "start_time": "2017-11-12T21:41:06.165000+01:00"
    },
    "execution": {
     "iopub.execute_input": "2020-09-16T15:02:14.260808Z",
     "iopub.status.busy": "2020-09-16T15:02:14.260140Z",
     "iopub.status.idle": "2020-09-16T15:02:14.601573Z",
     "shell.execute_reply": "2020-09-16T15:02:14.602076Z"
    },
    "scrolled": true,
    "slideshow": {
     "slide_type": "slide"
    }
   },
   "outputs": [
    {
     "name": "stdout",
     "output_type": "stream",
     "text": [
      "----------\n",
      "This is just for testing tweepy api\n"
     ]
    }
   ],
   "source": [
    "for tweet in tweepy.Cursor(api.user_timeline).items(1):\n",
    "    print(\"-\"*10)\n",
    "    print(tweet.text)"
   ]
  }
 ],
 "metadata": {
  "anaconda-cloud": {},
  "celltoolbar": "Slideshow",
  "kernelspec": {
   "display_name": "Python 3",
   "language": "python",
   "name": "python3"
  },
  "language_info": {
   "codemirror_mode": {
    "name": "ipython",
    "version": 3
   },
   "file_extension": ".py",
   "mimetype": "text/x-python",
   "name": "python",
   "nbconvert_exporter": "python",
   "pygments_lexer": "ipython3",
   "version": "3.7.7"
  },
  "nav_menu": {},
  "toc": {
   "base_numbering": 1,
   "nav_menu": {},
   "number_sections": true,
   "sideBar": true,
   "skip_h1_title": false,
   "title_cell": "Table of Contents",
   "title_sidebar": "Contents",
   "toc_cell": false,
   "toc_position": {},
   "toc_section_display": "block",
   "toc_window_display": false
  },
  "varInspector": {
   "cols": {
    "lenName": 16,
    "lenType": 16,
    "lenVar": 40
   },
   "kernels_config": {
    "python": {
     "delete_cmd_postfix": "",
     "delete_cmd_prefix": "del ",
     "library": "var_list.py",
     "varRefreshCmd": "print(var_dic_list())"
    },
    "r": {
     "delete_cmd_postfix": ") ",
     "delete_cmd_prefix": "rm(",
     "library": "var_list.r",
     "varRefreshCmd": "cat(var_dic_list()) "
    }
   },
   "types_to_exclude": [
    "module",
    "function",
    "builtin_function_or_method",
    "instance",
    "_Feature"
   ],
   "window_display": false
  }
 },
 "nbformat": 4,
 "nbformat_minor": 2
}