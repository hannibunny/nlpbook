{
 "cells": [
  {
   "cell_type": "markdown",
   "metadata": {
    "slideshow": {
     "slide_type": "slide"
    }
   },
   "source": [
    "# Access Tweets\n",
    "\n",
    "- Author:      Johannes Maucher\n",
    "- Last update: 2020-09-09\n",
    "\n",
    "This notebook demonstrates how the Python API [tweepy](http://www.tweepy.org/) can be applied to access data from twitter."
   ]
  },
  {
   "cell_type": "code",
   "execution_count": 1,
   "metadata": {
    "execution": {
     "iopub.execute_input": "2020-09-23T12:45:12.188678Z",
     "iopub.status.busy": "2020-09-23T12:45:12.187984Z",
     "iopub.status.idle": "2020-09-23T12:45:12.190175Z",
     "shell.execute_reply": "2020-09-23T12:45:12.190672Z"
    },
    "slideshow": {
     "slide_type": "skip"
    }
   },
   "outputs": [],
   "source": [
    "#!pip install tweepy"
   ]
  },
  {
   "cell_type": "code",
   "execution_count": 2,
   "metadata": {
    "ExecuteTime": {
     "end_time": "2017-11-12T20:38:02.349000Z",
     "start_time": "2017-11-12T21:38:00.638000+01:00"
    },
    "execution": {
     "iopub.execute_input": "2020-09-23T12:45:12.194935Z",
     "iopub.status.busy": "2020-09-23T12:45:12.194146Z",
     "iopub.status.idle": "2020-09-23T12:45:12.361616Z",
     "shell.execute_reply": "2020-09-23T12:45:12.362082Z"
    },
    "slideshow": {
     "slide_type": "slide"
    }
   },
   "outputs": [],
   "source": [
    "import tweepy\n",
    "import json\n",
    "from slugify import slugify"
   ]
  },
  {
   "cell_type": "markdown",
   "metadata": {
    "slideshow": {
     "slide_type": "slide"
    }
   },
   "source": [
    "The tweepy authentification process is described in detail in [tweepy authentification](http://tweepy.readthedocs.io/en/v3.5.0/auth_tutorial.html). This process is implemented in the following two code-cells. It requires that corresponding personal twitter credentials are available. These credentials can be applied from [Twitter Apps](https://apps.twitter.com/).  \n",
    "\n",
    "My personal credentials are saved in the file `twitterCredentials.json`. The contents of this file are loaded in the following code-cell."
   ]
  },
  {
   "cell_type": "code",
   "execution_count": 3,
   "metadata": {
    "ExecuteTime": {
     "end_time": "2017-11-12T20:38:07.391000Z",
     "start_time": "2017-11-12T21:38:07.375000+01:00"
    },
    "execution": {
     "iopub.execute_input": "2020-09-23T12:45:12.366641Z",
     "iopub.status.busy": "2020-09-23T12:45:12.365905Z",
     "iopub.status.idle": "2020-09-23T12:45:12.369234Z",
     "shell.execute_reply": "2020-09-23T12:45:12.369710Z"
    },
    "slideshow": {
     "slide_type": "fragment"
    }
   },
   "outputs": [],
   "source": [
    "with open(\"/Users/maucher/Keys/twitterCredentials.json\") as data_file:    \n",
    "    credentials = json.load(data_file)\n",
    "#print credentials"
   ]
  },
  {
   "cell_type": "markdown",
   "metadata": {
    "slideshow": {
     "slide_type": "slide"
    }
   },
   "source": [
    "Tweepy authentification:"
   ]
  },
  {
   "cell_type": "code",
   "execution_count": 4,
   "metadata": {
    "ExecuteTime": {
     "end_time": "2017-11-12T20:38:12.496000Z",
     "start_time": "2017-11-12T21:38:12.480000+01:00"
    },
    "execution": {
     "iopub.execute_input": "2020-09-23T12:45:12.374520Z",
     "iopub.status.busy": "2020-09-23T12:45:12.373835Z",
     "iopub.status.idle": "2020-09-23T12:45:12.375905Z",
     "shell.execute_reply": "2020-09-23T12:45:12.376370Z"
    },
    "slideshow": {
     "slide_type": "fragment"
    }
   },
   "outputs": [],
   "source": [
    "auth = tweepy.OAuthHandler(credentials[\"consumerKey\"], credentials[\"consumerSecret\"])\n",
    "auth.set_access_token(credentials[\"accessToken\"],credentials[\"accessSecret\"])\n",
    "api = tweepy.API(auth)"
   ]
  },
  {
   "cell_type": "markdown",
   "metadata": {
    "slideshow": {
     "slide_type": "slide"
    }
   },
   "source": [
    "The `API`-object can now be applied for example in order to read the own timeline of the Twitter homepage:"
   ]
  },
  {
   "cell_type": "code",
   "execution_count": 5,
   "metadata": {
    "ExecuteTime": {
     "end_time": "2017-11-12T20:38:21.037000Z",
     "start_time": "2017-11-12T21:38:19.449000+01:00"
    },
    "execution": {
     "iopub.execute_input": "2020-09-23T12:45:12.382064Z",
     "iopub.status.busy": "2020-09-23T12:45:12.381457Z",
     "iopub.status.idle": "2020-09-23T12:45:12.793222Z",
     "shell.execute_reply": "2020-09-23T12:45:12.793739Z"
    },
    "slideshow": {
     "slide_type": "fragment"
    }
   },
   "outputs": [
    {
     "name": "stdout",
     "output_type": "stream",
     "text": [
      "----------\n",
      "VfB Stuttgart\n",
      "Bei der Nachhaltigkeits-Studie „Die Vereine im Ranking - So fair sind ihre Shops!“ schafft es der #VfB auf einen he… https://t.co/eJMrvjO18Y\n",
      "----------\n",
      "Steffen Seibert\n",
      "RT @IntegrationBund: Bugün #sonbahar başlıyor. Böylece gelecek tatil dönemi de yakında, örneğin Hamburg'da 5 Ekim'den itibaren başlıyor. #K…\n",
      "----------\n",
      "Steffen Seibert\n",
      "Kanzlerin #Merkel und @eucopresident Michel haben mit dem türkischen Präsidenten #Erdogan über die Beziehungen der… https://t.co/FBsYGUfIOH\n",
      "----------\n",
      "Hochschule der Medien (HdM)\n",
      "Wusstet Ihr, dass heute um 15:31 Uhr (MESZ) der astronomische bzw. kalendarische Herbstanfang war? Genau dann, als… https://t.co/jXVW9omZTf\n",
      "----------\n",
      "VfB Stuttgart\n",
      "🎂 Das #VfBTV Geburtstagsinterview mit Hamadi #AlGhaddioui:\n",
      "https://t.co/grcP9TRjIX\n",
      "----------\n",
      "VfB Stuttgart\n",
      "Der #VfB Stuttgart gratuliert Thomas #Hitzlsperger herzlich zur Verleihung des Bundesverdienstkreuzes. Herzlichen Glückwunsch, @ThomasHitz!\n",
      "----------\n",
      "VfB Stuttgart\n",
      "Bundespräsident Frank-Walter #Steinmeier zeichnet am 1. Oktober zum Tag der Deutschen Einheit 15 Bürgerinnen und Bü… https://t.co/428M61Zdm7\n",
      "----------\n",
      "VfB Stuttgart\n",
      ".@JMangala_8, @wataru0209 &amp; Co. legen los! 💯 #VfB https://t.co/Jdp5CANrHR\n",
      "----------\n",
      "VfB Stuttgart\n",
      "Auftakt in die Trainingswoche vor dem Auswärtsspiel beim @1FSVMainz05. \n",
      "\n",
      "🔜 #M05VfB \n",
      "\n",
      "#VfB https://t.co/bIiBuQ9A35\n",
      "----------\n",
      "VfB Stuttgart\n",
      "Philipp #Klement ⚽️\n",
      "\n",
      "#VfB https://t.co/tmUtVl2y8E\n"
     ]
    }
   ],
   "source": [
    "public_tweets = api.home_timeline(count=10)\n",
    "for tweet in public_tweets:\n",
    "    print(\"-\"*10)\n",
    "    print(tweet.author.name)\n",
    "    print(tweet.text)"
   ]
  },
  {
   "cell_type": "markdown",
   "metadata": {
    "slideshow": {
     "slide_type": "slide"
    }
   },
   "source": [
    "The `API`-object can also be applied for sending a new tweet (a.k.a. update status):"
   ]
  },
  {
   "cell_type": "code",
   "execution_count": 6,
   "metadata": {
    "ExecuteTime": {
     "end_time": "2017-11-12T20:39:25.949000Z",
     "start_time": "2017-11-12T21:39:25.944000+01:00"
    },
    "execution": {
     "iopub.execute_input": "2020-09-23T12:45:12.797888Z",
     "iopub.status.busy": "2020-09-23T12:45:12.797124Z",
     "iopub.status.idle": "2020-09-23T12:45:12.799958Z",
     "shell.execute_reply": "2020-09-23T12:45:12.799452Z"
    },
    "slideshow": {
     "slide_type": "fragment"
    }
   },
   "outputs": [],
   "source": [
    "#api.update_status(\"This is just for testing tweepy api\")"
   ]
  },
  {
   "cell_type": "markdown",
   "metadata": {
    "slideshow": {
     "slide_type": "slide"
    }
   },
   "source": [
    "The API does not only provide access to content (tweets), but also to user-, friendship-, list-data and much more:"
   ]
  },
  {
   "cell_type": "code",
   "execution_count": 7,
   "metadata": {
    "ExecuteTime": {
     "end_time": "2017-11-12T20:39:29.102000Z",
     "start_time": "2017-11-12T21:39:28.733000+01:00"
    },
    "execution": {
     "iopub.execute_input": "2020-09-23T12:45:12.805303Z",
     "iopub.status.busy": "2020-09-23T12:45:12.804475Z",
     "iopub.status.idle": "2020-09-23T12:45:13.111936Z",
     "shell.execute_reply": "2020-09-23T12:45:13.112400Z"
    },
    "slideshow": {
     "slide_type": "fragment"
    }
   },
   "outputs": [
    {
     "data": {
      "text/plain": [
       "25073877"
      ]
     },
     "execution_count": 7,
     "metadata": {},
     "output_type": "execute_result"
    }
   ],
   "source": [
    "user = api.get_user('realDonaldTrump')\n",
    "#ser = api.get_user('RegSprecher')\n",
    "user.id"
   ]
  },
  {
   "cell_type": "code",
   "execution_count": 8,
   "metadata": {
    "ExecuteTime": {
     "end_time": "2017-11-12T20:39:33.960000Z",
     "start_time": "2017-11-12T21:39:33.954000+01:00"
    },
    "execution": {
     "iopub.execute_input": "2020-09-23T12:45:13.116245Z",
     "iopub.status.busy": "2020-09-23T12:45:13.115606Z",
     "iopub.status.idle": "2020-09-23T12:45:13.117969Z",
     "shell.execute_reply": "2020-09-23T12:45:13.118427Z"
    },
    "slideshow": {
     "slide_type": "slide"
    }
   },
   "outputs": [
    {
     "name": "stdout",
     "output_type": "stream",
     "text": [
      "45th President of the United States of America🇺🇸\n"
     ]
    }
   ],
   "source": [
    "print(user.description)"
   ]
  },
  {
   "cell_type": "code",
   "execution_count": 9,
   "metadata": {
    "ExecuteTime": {
     "end_time": "2017-11-12T20:39:36.498000Z",
     "start_time": "2017-11-12T21:39:36.482000+01:00"
    },
    "execution": {
     "iopub.execute_input": "2020-09-23T12:45:13.126249Z",
     "iopub.status.busy": "2020-09-23T12:45:13.125572Z",
     "iopub.status.idle": "2020-09-23T12:45:13.128491Z",
     "shell.execute_reply": "2020-09-23T12:45:13.129019Z"
    },
    "slideshow": {
     "slide_type": "fragment"
    }
   },
   "outputs": [
    {
     "data": {
      "text/plain": [
       "86209954"
      ]
     },
     "execution_count": 9,
     "metadata": {},
     "output_type": "execute_result"
    }
   ],
   "source": [
    "user.followers_count"
   ]
  },
  {
   "cell_type": "code",
   "execution_count": 10,
   "metadata": {
    "ExecuteTime": {
     "end_time": "2017-11-12T20:39:37.881000Z",
     "start_time": "2017-11-12T21:39:37.881000+01:00"
    },
    "execution": {
     "iopub.execute_input": "2020-09-23T12:45:13.133258Z",
     "iopub.status.busy": "2020-09-23T12:45:13.132547Z",
     "iopub.status.idle": "2020-09-23T12:45:13.135304Z",
     "shell.execute_reply": "2020-09-23T12:45:13.135788Z"
    },
    "slideshow": {
     "slide_type": "fragment"
    }
   },
   "outputs": [
    {
     "data": {
      "text/plain": [
       "'Washington, DC'"
      ]
     },
     "execution_count": 10,
     "metadata": {},
     "output_type": "execute_result"
    }
   ],
   "source": [
    "user.location"
   ]
  },
  {
   "cell_type": "code",
   "execution_count": 11,
   "metadata": {
    "ExecuteTime": {
     "end_time": "2017-11-12T20:39:39.246000Z",
     "start_time": "2017-11-12T21:39:39.246000+01:00"
    },
    "execution": {
     "iopub.execute_input": "2020-09-23T12:45:13.142293Z",
     "iopub.status.busy": "2020-09-23T12:45:13.141579Z",
     "iopub.status.idle": "2020-09-23T12:45:13.144304Z",
     "shell.execute_reply": "2020-09-23T12:45:13.144756Z"
    },
    "slideshow": {
     "slide_type": "fragment"
    }
   },
   "outputs": [
    {
     "data": {
      "text/plain": [
       "50"
      ]
     },
     "execution_count": 11,
     "metadata": {},
     "output_type": "execute_result"
    }
   ],
   "source": [
    "user.friends_count"
   ]
  },
  {
   "cell_type": "code",
   "execution_count": 12,
   "metadata": {
    "ExecuteTime": {
     "end_time": "2017-11-12T20:39:45.487000Z",
     "start_time": "2017-11-12T21:39:43.600000+01:00"
    },
    "execution": {
     "iopub.execute_input": "2020-09-23T12:45:13.150362Z",
     "iopub.status.busy": "2020-09-23T12:45:13.149598Z",
     "iopub.status.idle": "2020-09-23T12:45:14.115980Z",
     "shell.execute_reply": "2020-09-23T12:45:14.116469Z"
    },
    "slideshow": {
     "slide_type": "slide"
    }
   },
   "outputs": [
    {
     "name": "stdout",
     "output_type": "stream",
     "text": [
      "GOPLeader\n",
      "senatemajldr\n",
      "MarkMeadows\n",
      "kimguilfoyle\n",
      "JudgeJeanine\n",
      "Jim_Jordan\n",
      "MariaBartiromo\n",
      "VP\n",
      "GOPChairwoman\n",
      "parscale\n",
      "PressSec\n",
      "TuckerCarlson\n",
      "JesseBWatters\n",
      "WhiteHouse\n",
      "Scavino45\n",
      "KellyannePolls\n",
      "Reince\n",
      "RealRomaDowney\n",
      "Trump\n",
      "TrumpGolf\n"
     ]
    },
    {
     "name": "stdout",
     "output_type": "stream",
     "text": [
      "20\n"
     ]
    }
   ],
   "source": [
    "for friend in user.friends():\n",
    "    print(friend.screen_name)\n",
    "print(len(user.friends()))"
   ]
  },
  {
   "cell_type": "code",
   "execution_count": 13,
   "metadata": {
    "ExecuteTime": {
     "end_time": "2017-11-12T20:39:57.125000Z",
     "start_time": "2017-11-12T21:39:52.247000+01:00"
    },
    "execution": {
     "iopub.execute_input": "2020-09-23T12:45:14.124985Z",
     "iopub.status.busy": "2020-09-23T12:45:14.123140Z",
     "iopub.status.idle": "2020-09-23T12:45:18.057976Z",
     "shell.execute_reply": "2020-09-23T12:45:18.058436Z"
    },
    "slideshow": {
     "slide_type": "slide"
    }
   },
   "outputs": [
    {
     "name": "stdout",
     "output_type": "stream",
     "text": [
      "mxlearn\n"
     ]
    },
    {
     "name": "stdout",
     "output_type": "stream",
     "text": [
      "reddit_python\n"
     ]
    },
    {
     "name": "stdout",
     "output_type": "stream",
     "text": [
      "ML_NLP\n"
     ]
    },
    {
     "name": "stdout",
     "output_type": "stream",
     "text": [
      "realDonaldTrump\n"
     ]
    }
   ],
   "source": [
    "dirname=\"./TWEETS/\"\n",
    "users = [\"mxlearn\",\"reddit_python\",\"ML_NLP\",\"realDonaldTrump\"]\n",
    "numTweets=300\n",
    "for user in users:\n",
    "    print(user)\n",
    "    user_timeline = api.user_timeline(screen_name=user, count=numTweets)\n",
    "    filename = str(user) + \".json\"\n",
    "    with open(dirname+filename, 'w+',encoding=\"utf-8\") as f:\n",
    "        for idx, tweet in enumerate(user_timeline):\n",
    "            tweet_text = user_timeline[idx].text\n",
    "            #print(tweet_text)\n",
    "            f.write(tweet_text + \"\\n\")"
   ]
  },
  {
   "cell_type": "markdown",
   "metadata": {
    "slideshow": {
     "slide_type": "slide"
    }
   },
   "source": [
    "Alternative way to access timeline using the cursor-object:"
   ]
  },
  {
   "cell_type": "code",
   "execution_count": 14,
   "metadata": {
    "ExecuteTime": {
     "end_time": "2017-11-12T20:40:36.476000Z",
     "start_time": "2017-11-12T21:40:35.882000+01:00"
    },
    "execution": {
     "iopub.execute_input": "2020-09-23T12:45:18.063719Z",
     "iopub.status.busy": "2020-09-23T12:45:18.062976Z",
     "iopub.status.idle": "2020-09-23T12:45:18.522351Z",
     "shell.execute_reply": "2020-09-23T12:45:18.522807Z"
    },
    "slideshow": {
     "slide_type": "fragment"
    }
   },
   "outputs": [],
   "source": [
    "with open(\"twitterTimeline.json\", 'w+') as f:\n",
    "    for status in tweepy.Cursor(api.home_timeline).items(1):\n",
    "        json.dump(status._json,f)"
   ]
  },
  {
   "cell_type": "code",
   "execution_count": 15,
   "metadata": {
    "ExecuteTime": {
     "end_time": "2017-11-12T20:40:59.221000Z",
     "start_time": "2017-11-12T21:40:58.858000+01:00"
    },
    "execution": {
     "iopub.execute_input": "2020-09-23T12:45:18.528472Z",
     "iopub.status.busy": "2020-09-23T12:45:18.527532Z",
     "iopub.status.idle": "2020-09-23T12:45:18.831385Z",
     "shell.execute_reply": "2020-09-23T12:45:18.831965Z"
    },
    "slideshow": {
     "slide_type": "fragment"
    }
   },
   "outputs": [
    {
     "name": "stdout",
     "output_type": "stream",
     "text": [
      "Johannes Maucher\n",
      "VfB Stuttgart\n",
      "Steffen Seibert\n",
      "Hochschule der Medien (HdM)\n"
     ]
    }
   ],
   "source": [
    "for friend in list(tweepy.Cursor(api.friends).items()):\n",
    "    print(friend.name)"
   ]
  },
  {
   "cell_type": "code",
   "execution_count": 16,
   "metadata": {
    "ExecuteTime": {
     "end_time": "2017-11-12T20:41:06.640000Z",
     "start_time": "2017-11-12T21:41:06.165000+01:00"
    },
    "execution": {
     "iopub.execute_input": "2020-09-23T12:45:18.837563Z",
     "iopub.status.busy": "2020-09-23T12:45:18.836812Z",
     "iopub.status.idle": "2020-09-23T12:45:19.134486Z",
     "shell.execute_reply": "2020-09-23T12:45:19.134990Z"
    },
    "scrolled": true,
    "slideshow": {
     "slide_type": "slide"
    }
   },
   "outputs": [
    {
     "name": "stdout",
     "output_type": "stream",
     "text": [
      "----------\n",
      "This is just for testing tweepy api\n"
     ]
    }
   ],
   "source": [
    "for tweet in tweepy.Cursor(api.user_timeline).items(1):\n",
    "    print(\"-\"*10)\n",
    "    print(tweet.text)"
   ]
  }
 ],
 "metadata": {
  "anaconda-cloud": {},
  "celltoolbar": "Slideshow",
  "kernelspec": {
   "display_name": "Python 3",
   "language": "python",
   "name": "python3"
  },
  "language_info": {
   "codemirror_mode": {
    "name": "ipython",
    "version": 3
   },
   "file_extension": ".py",
   "mimetype": "text/x-python",
   "name": "python",
   "nbconvert_exporter": "python",
   "pygments_lexer": "ipython3",
   "version": "3.7.7"
  },
  "nav_menu": {},
  "toc": {
   "base_numbering": 1,
   "nav_menu": {},
   "number_sections": true,
   "sideBar": true,
   "skip_h1_title": false,
   "title_cell": "Table of Contents",
   "title_sidebar": "Contents",
   "toc_cell": false,
   "toc_position": {},
   "toc_section_display": "block",
   "toc_window_display": false
  },
  "varInspector": {
   "cols": {
    "lenName": 16,
    "lenType": 16,
    "lenVar": 40
   },
   "kernels_config": {
    "python": {
     "delete_cmd_postfix": "",
     "delete_cmd_prefix": "del ",
     "library": "var_list.py",
     "varRefreshCmd": "print(var_dic_list())"
    },
    "r": {
     "delete_cmd_postfix": ") ",
     "delete_cmd_prefix": "rm(",
     "library": "var_list.r",
     "varRefreshCmd": "cat(var_dic_list()) "
    }
   },
   "types_to_exclude": [
    "module",
    "function",
    "builtin_function_or_method",
    "instance",
    "_Feature"
   ],
   "window_display": false
  }
 },
 "nbformat": 4,
 "nbformat_minor": 2
}