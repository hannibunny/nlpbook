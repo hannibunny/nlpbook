{
 "cells": [
  {
   "cell_type": "markdown",
   "metadata": {
    "slideshow": {
     "slide_type": "slide"
    }
   },
   "source": [
    "# Access Tweets\n",
    "\n",
    "- Author:      Johannes Maucher\n",
    "- Last update: 2020-09-09\n",
    "\n",
    "This notebook demonstrates how the Python API [tweepy](http://www.tweepy.org/) can be applied to access data from twitter."
   ]
  },
  {
   "cell_type": "code",
   "execution_count": 1,
   "metadata": {
    "execution": {
     "iopub.execute_input": "2020-09-11T10:29:38.487530Z",
     "iopub.status.busy": "2020-09-11T10:29:38.486511Z",
     "iopub.status.idle": "2020-09-11T10:29:38.488830Z",
     "shell.execute_reply": "2020-09-11T10:29:38.489319Z"
    },
    "slideshow": {
     "slide_type": "skip"
    }
   },
   "outputs": [],
   "source": [
    "#!pip install tweepy"
   ]
  },
  {
   "cell_type": "code",
   "execution_count": 2,
   "metadata": {
    "ExecuteTime": {
     "end_time": "2017-11-12T20:38:02.349000Z",
     "start_time": "2017-11-12T21:38:00.638000+01:00"
    },
    "execution": {
     "iopub.execute_input": "2020-09-11T10:29:38.493569Z",
     "iopub.status.busy": "2020-09-11T10:29:38.492916Z",
     "iopub.status.idle": "2020-09-11T10:29:38.625227Z",
     "shell.execute_reply": "2020-09-11T10:29:38.624762Z"
    },
    "slideshow": {
     "slide_type": "slide"
    }
   },
   "outputs": [],
   "source": [
    "import tweepy\n",
    "import json\n",
    "from slugify import slugify"
   ]
  },
  {
   "cell_type": "markdown",
   "metadata": {
    "slideshow": {
     "slide_type": "slide"
    }
   },
   "source": [
    "The tweepy authentification process is described in detail in [tweepy authentification](http://tweepy.readthedocs.io/en/v3.5.0/auth_tutorial.html). This process is implemented in the following two code-cells. It requires that corresponding personal twitter credentials are available. These credentials can be applied from [Twitter Apps](https://apps.twitter.com/).  \n",
    "\n",
    "My personal credentials are saved in the file `twitterCredentials.json`. The contents of this file are loaded in the following code-cell."
   ]
  },
  {
   "cell_type": "code",
   "execution_count": 3,
   "metadata": {
    "ExecuteTime": {
     "end_time": "2017-11-12T20:38:07.391000Z",
     "start_time": "2017-11-12T21:38:07.375000+01:00"
    },
    "execution": {
     "iopub.execute_input": "2020-09-11T10:29:38.629444Z",
     "iopub.status.busy": "2020-09-11T10:29:38.628805Z",
     "iopub.status.idle": "2020-09-11T10:29:38.631138Z",
     "shell.execute_reply": "2020-09-11T10:29:38.631595Z"
    },
    "slideshow": {
     "slide_type": "fragment"
    }
   },
   "outputs": [],
   "source": [
    "with open(\"/Users/maucher/Keys/twitterCredentials.json\") as data_file:    \n",
    "    credentials = json.load(data_file)\n",
    "#print credentials"
   ]
  },
  {
   "cell_type": "markdown",
   "metadata": {
    "slideshow": {
     "slide_type": "slide"
    }
   },
   "source": [
    "Tweepy authentification:"
   ]
  },
  {
   "cell_type": "code",
   "execution_count": 4,
   "metadata": {
    "ExecuteTime": {
     "end_time": "2017-11-12T20:38:12.496000Z",
     "start_time": "2017-11-12T21:38:12.480000+01:00"
    },
    "execution": {
     "iopub.execute_input": "2020-09-11T10:29:38.636296Z",
     "iopub.status.busy": "2020-09-11T10:29:38.635652Z",
     "iopub.status.idle": "2020-09-11T10:29:38.637776Z",
     "shell.execute_reply": "2020-09-11T10:29:38.638235Z"
    },
    "slideshow": {
     "slide_type": "fragment"
    }
   },
   "outputs": [],
   "source": [
    "auth = tweepy.OAuthHandler(credentials[\"consumerKey\"], credentials[\"consumerSecret\"])\n",
    "auth.set_access_token(credentials[\"accessToken\"],credentials[\"accessSecret\"])\n",
    "api = tweepy.API(auth)"
   ]
  },
  {
   "cell_type": "markdown",
   "metadata": {
    "slideshow": {
     "slide_type": "slide"
    }
   },
   "source": [
    "The `API`-object can now be applied for example in order to read the own timeline of the Twitter homepage:"
   ]
  },
  {
   "cell_type": "code",
   "execution_count": 5,
   "metadata": {
    "ExecuteTime": {
     "end_time": "2017-11-12T20:38:21.037000Z",
     "start_time": "2017-11-12T21:38:19.449000+01:00"
    },
    "execution": {
     "iopub.execute_input": "2020-09-11T10:29:38.643962Z",
     "iopub.status.busy": "2020-09-11T10:29:38.643352Z",
     "iopub.status.idle": "2020-09-11T10:29:38.985774Z",
     "shell.execute_reply": "2020-09-11T10:29:38.986266Z"
    },
    "slideshow": {
     "slide_type": "fragment"
    }
   },
   "outputs": [
    {
     "name": "stdout",
     "output_type": "stream",
     "text": [
      "----------\n",
      "VfB Stuttgart\n",
      "Es ist #vfbfreitag vor dem ersten Pflichtspiel der neuen Saison! ⚪🔴 Seid Ihr schon heiß oder geht da noch was? 🔥 Be… https://t.co/HPeTZuHvf8\n",
      "----------\n",
      "Steffen Seibert\n",
      "Kanzlerin #Merkel @KASonline: #Moria bündelt im Grunde alle Probleme der Migration, die wir seit 2015 haben. 🇩🇪 und… https://t.co/KQ2hbwkJ2c\n",
      "----------\n",
      "VfB Stuttgart\n",
      "Zum 3⃣. Mal hintereinander trifft der #VfB in der 1⃣. Hauptrunde des @DFB_Pokal auf den F.C. @HansaRostock. Ein Bli… https://t.co/W7UyPsy2hW\n",
      "----------\n",
      "Hochschule der Medien (HdM)\n",
      "Instant Feedback, Feedback Apps, 360°-Feedback und kontinuierliche Pulsbefragungen - Feedback wird immer niedrigsch… https://t.co/thjeU60nDA\n",
      "----------\n",
      "Steffen Seibert\n",
      "RT @BBK_Bund: Heute findet der #Warntag2020 statt! Um Punkt 11 Uhr wird der bundesweite Probealarm ausgelöst und die Warnmeldung wird u. a.…\n",
      "----------\n",
      "Steffen Seibert\n",
      "Das #CyberValley steht beispielhaft für die Attraktivität des #KI-Standorts Deutschland. Wissenschaft und Wirtschaf… https://t.co/Wf4XicDOip\n",
      "----------\n",
      "Hochschule der Medien (HdM)\n",
      "Wie würden junge Menschen über die Künstliche Intelligenz berichten? Das hat ein Seminar zur Einführung in die Wiss… https://t.co/6S2QspA2FB\n",
      "----------\n",
      "Steffen Seibert\n",
      "Kanzlerin #Merkel nach virtuellem Besuch: Das #CyberValley in #Tübingen steht beispielhaft für die Attraktivität de… https://t.co/iD4Ibdmd9f\n",
      "----------\n",
      "VfB Stuttgart\n",
      "Zum heutigen 127. Geburtstag hat #VfB Präsident Claus Vogt in einem feierlichen Rahmen die Erinnerungstafel am ehem… https://t.co/73T9R3DYWF\n"
     ]
    }
   ],
   "source": [
    "public_tweets = api.home_timeline(count=10)\n",
    "for tweet in public_tweets:\n",
    "    print(\"-\"*10)\n",
    "    print(tweet.author.name)\n",
    "    print(tweet.text)"
   ]
  },
  {
   "cell_type": "markdown",
   "metadata": {
    "slideshow": {
     "slide_type": "slide"
    }
   },
   "source": [
    "The `API`-object can also be applied for sending a new tweet (a.k.a. update status):"
   ]
  },
  {
   "cell_type": "code",
   "execution_count": 6,
   "metadata": {
    "ExecuteTime": {
     "end_time": "2017-11-12T20:39:25.949000Z",
     "start_time": "2017-11-12T21:39:25.944000+01:00"
    },
    "execution": {
     "iopub.execute_input": "2020-09-11T10:29:38.990320Z",
     "iopub.status.busy": "2020-09-11T10:29:38.989536Z",
     "iopub.status.idle": "2020-09-11T10:29:38.991824Z",
     "shell.execute_reply": "2020-09-11T10:29:38.992302Z"
    },
    "slideshow": {
     "slide_type": "fragment"
    }
   },
   "outputs": [],
   "source": [
    "#api.update_status(\"This is just for testing tweepy api\")"
   ]
  },
  {
   "cell_type": "markdown",
   "metadata": {
    "slideshow": {
     "slide_type": "slide"
    }
   },
   "source": [
    "The API does not only provide access to content (tweets), but also to user-, friendship-, list-data and much more:"
   ]
  },
  {
   "cell_type": "code",
   "execution_count": 7,
   "metadata": {
    "ExecuteTime": {
     "end_time": "2017-11-12T20:39:29.102000Z",
     "start_time": "2017-11-12T21:39:28.733000+01:00"
    },
    "execution": {
     "iopub.execute_input": "2020-09-11T10:29:38.997675Z",
     "iopub.status.busy": "2020-09-11T10:29:38.996931Z",
     "iopub.status.idle": "2020-09-11T10:29:39.285905Z",
     "shell.execute_reply": "2020-09-11T10:29:39.286360Z"
    },
    "slideshow": {
     "slide_type": "fragment"
    }
   },
   "outputs": [
    {
     "data": {
      "text/plain": [
       "25073877"
      ]
     },
     "execution_count": 7,
     "metadata": {},
     "output_type": "execute_result"
    }
   ],
   "source": [
    "user = api.get_user('realDonaldTrump')\n",
    "#ser = api.get_user('RegSprecher')\n",
    "user.id"
   ]
  },
  {
   "cell_type": "code",
   "execution_count": 8,
   "metadata": {
    "ExecuteTime": {
     "end_time": "2017-11-12T20:39:33.960000Z",
     "start_time": "2017-11-12T21:39:33.954000+01:00"
    },
    "execution": {
     "iopub.execute_input": "2020-09-11T10:29:39.290195Z",
     "iopub.status.busy": "2020-09-11T10:29:39.289542Z",
     "iopub.status.idle": "2020-09-11T10:29:39.291920Z",
     "shell.execute_reply": "2020-09-11T10:29:39.292365Z"
    },
    "slideshow": {
     "slide_type": "slide"
    }
   },
   "outputs": [
    {
     "name": "stdout",
     "output_type": "stream",
     "text": [
      "45th President of the United States of America🇺🇸\n"
     ]
    }
   ],
   "source": [
    "print(user.description)"
   ]
  },
  {
   "cell_type": "code",
   "execution_count": 9,
   "metadata": {
    "ExecuteTime": {
     "end_time": "2017-11-12T20:39:36.498000Z",
     "start_time": "2017-11-12T21:39:36.482000+01:00"
    },
    "execution": {
     "iopub.execute_input": "2020-09-11T10:29:39.296646Z",
     "iopub.status.busy": "2020-09-11T10:29:39.295881Z",
     "iopub.status.idle": "2020-09-11T10:29:39.298718Z",
     "shell.execute_reply": "2020-09-11T10:29:39.299175Z"
    },
    "slideshow": {
     "slide_type": "fragment"
    }
   },
   "outputs": [
    {
     "data": {
      "text/plain": [
       "85880336"
      ]
     },
     "execution_count": 9,
     "metadata": {},
     "output_type": "execute_result"
    }
   ],
   "source": [
    "user.followers_count"
   ]
  },
  {
   "cell_type": "code",
   "execution_count": 10,
   "metadata": {
    "ExecuteTime": {
     "end_time": "2017-11-12T20:39:37.881000Z",
     "start_time": "2017-11-12T21:39:37.881000+01:00"
    },
    "execution": {
     "iopub.execute_input": "2020-09-11T10:29:39.303813Z",
     "iopub.status.busy": "2020-09-11T10:29:39.302869Z",
     "iopub.status.idle": "2020-09-11T10:29:39.305904Z",
     "shell.execute_reply": "2020-09-11T10:29:39.306360Z"
    },
    "slideshow": {
     "slide_type": "fragment"
    }
   },
   "outputs": [
    {
     "data": {
      "text/plain": [
       "'Washington, DC'"
      ]
     },
     "execution_count": 10,
     "metadata": {},
     "output_type": "execute_result"
    }
   ],
   "source": [
    "user.location"
   ]
  },
  {
   "cell_type": "code",
   "execution_count": 11,
   "metadata": {
    "ExecuteTime": {
     "end_time": "2017-11-12T20:39:39.246000Z",
     "start_time": "2017-11-12T21:39:39.246000+01:00"
    },
    "execution": {
     "iopub.execute_input": "2020-09-11T10:29:39.310953Z",
     "iopub.status.busy": "2020-09-11T10:29:39.310098Z",
     "iopub.status.idle": "2020-09-11T10:29:39.313165Z",
     "shell.execute_reply": "2020-09-11T10:29:39.313615Z"
    },
    "slideshow": {
     "slide_type": "fragment"
    }
   },
   "outputs": [
    {
     "data": {
      "text/plain": [
       "50"
      ]
     },
     "execution_count": 11,
     "metadata": {},
     "output_type": "execute_result"
    }
   ],
   "source": [
    "user.friends_count"
   ]
  },
  {
   "cell_type": "code",
   "execution_count": 12,
   "metadata": {
    "ExecuteTime": {
     "end_time": "2017-11-12T20:39:45.487000Z",
     "start_time": "2017-11-12T21:39:43.600000+01:00"
    },
    "execution": {
     "iopub.execute_input": "2020-09-11T10:29:39.319630Z",
     "iopub.status.busy": "2020-09-11T10:29:39.318869Z",
     "iopub.status.idle": "2020-09-11T10:29:40.131231Z",
     "shell.execute_reply": "2020-09-11T10:29:40.131721Z"
    },
    "slideshow": {
     "slide_type": "slide"
    }
   },
   "outputs": [
    {
     "name": "stdout",
     "output_type": "stream",
     "text": [
      "GOPLeader\n",
      "senatemajldr\n",
      "MarkMeadows\n",
      "kimguilfoyle\n",
      "JudgeJeanine\n",
      "Jim_Jordan\n",
      "MariaBartiromo\n",
      "VP\n",
      "GOPChairwoman\n",
      "parscale\n",
      "PressSec\n",
      "TuckerCarlson\n",
      "JesseBWatters\n",
      "WhiteHouse\n",
      "Scavino45\n",
      "KellyannePolls\n",
      "Reince\n",
      "RealRomaDowney\n",
      "Trump\n",
      "TrumpGolf\n"
     ]
    },
    {
     "name": "stdout",
     "output_type": "stream",
     "text": [
      "20\n"
     ]
    }
   ],
   "source": [
    "for friend in user.friends():\n",
    "    print(friend.screen_name)\n",
    "print(len(user.friends()))"
   ]
  },
  {
   "cell_type": "code",
   "execution_count": 13,
   "metadata": {
    "ExecuteTime": {
     "end_time": "2017-11-12T20:39:57.125000Z",
     "start_time": "2017-11-12T21:39:52.247000+01:00"
    },
    "execution": {
     "iopub.execute_input": "2020-09-11T10:29:40.139006Z",
     "iopub.status.busy": "2020-09-11T10:29:40.138311Z",
     "iopub.status.idle": "2020-09-11T10:29:42.304504Z",
     "shell.execute_reply": "2020-09-11T10:29:42.304947Z"
    },
    "slideshow": {
     "slide_type": "slide"
    }
   },
   "outputs": [
    {
     "name": "stdout",
     "output_type": "stream",
     "text": [
      "mxlearn\n"
     ]
    },
    {
     "name": "stdout",
     "output_type": "stream",
     "text": [
      "reddit_python\n"
     ]
    },
    {
     "name": "stdout",
     "output_type": "stream",
     "text": [
      "ML_NLP\n"
     ]
    },
    {
     "name": "stdout",
     "output_type": "stream",
     "text": [
      "realDonaldTrump\n"
     ]
    }
   ],
   "source": [
    "dirname=\"./TWEETS/\"\n",
    "users = [\"mxlearn\",\"reddit_python\",\"ML_NLP\",\"realDonaldTrump\"]\n",
    "numTweets=300\n",
    "for user in users:\n",
    "    print(user)\n",
    "    user_timeline = api.user_timeline(screen_name=user, count=numTweets)\n",
    "    filename = str(user) + \".json\"\n",
    "    with open(dirname+filename, 'w+',encoding=\"utf-8\") as f:\n",
    "        for idx, tweet in enumerate(user_timeline):\n",
    "            tweet_text = user_timeline[idx].text\n",
    "            #print(tweet_text)\n",
    "            f.write(tweet_text + \"\\n\")"
   ]
  },
  {
   "cell_type": "markdown",
   "metadata": {
    "slideshow": {
     "slide_type": "slide"
    }
   },
   "source": [
    "Alternative way to access timeline using the cursor-object:"
   ]
  },
  {
   "cell_type": "code",
   "execution_count": 14,
   "metadata": {
    "ExecuteTime": {
     "end_time": "2017-11-12T20:40:36.476000Z",
     "start_time": "2017-11-12T21:40:35.882000+01:00"
    },
    "execution": {
     "iopub.execute_input": "2020-09-11T10:29:42.310584Z",
     "iopub.status.busy": "2020-09-11T10:29:42.309852Z",
     "iopub.status.idle": "2020-09-11T10:29:42.650889Z",
     "shell.execute_reply": "2020-09-11T10:29:42.651383Z"
    },
    "slideshow": {
     "slide_type": "fragment"
    }
   },
   "outputs": [],
   "source": [
    "with open(\"twitterTimeline.json\", 'w+') as f:\n",
    "    for status in tweepy.Cursor(api.home_timeline).items(1):\n",
    "        json.dump(status._json,f)"
   ]
  },
  {
   "cell_type": "code",
   "execution_count": 15,
   "metadata": {
    "ExecuteTime": {
     "end_time": "2017-11-12T20:40:59.221000Z",
     "start_time": "2017-11-12T21:40:58.858000+01:00"
    },
    "execution": {
     "iopub.execute_input": "2020-09-11T10:29:42.656772Z",
     "iopub.status.busy": "2020-09-11T10:29:42.656102Z",
     "iopub.status.idle": "2020-09-11T10:29:42.943667Z",
     "shell.execute_reply": "2020-09-11T10:29:42.944157Z"
    },
    "slideshow": {
     "slide_type": "fragment"
    }
   },
   "outputs": [
    {
     "name": "stdout",
     "output_type": "stream",
     "text": [
      "Johannes Maucher\n",
      "VfB Stuttgart\n",
      "Steffen Seibert\n",
      "Hochschule der Medien (HdM)\n"
     ]
    }
   ],
   "source": [
    "for friend in list(tweepy.Cursor(api.friends).items()):\n",
    "    print(friend.name)"
   ]
  },
  {
   "cell_type": "code",
   "execution_count": 16,
   "metadata": {
    "ExecuteTime": {
     "end_time": "2017-11-12T20:41:06.640000Z",
     "start_time": "2017-11-12T21:41:06.165000+01:00"
    },
    "execution": {
     "iopub.execute_input": "2020-09-11T10:29:42.950232Z",
     "iopub.status.busy": "2020-09-11T10:29:42.949531Z",
     "iopub.status.idle": "2020-09-11T10:29:43.214394Z",
     "shell.execute_reply": "2020-09-11T10:29:43.214867Z"
    },
    "scrolled": true,
    "slideshow": {
     "slide_type": "slide"
    }
   },
   "outputs": [
    {
     "name": "stdout",
     "output_type": "stream",
     "text": [
      "----------\n",
      "This is just for testing tweepy api\n"
     ]
    }
   ],
   "source": [
    "for tweet in tweepy.Cursor(api.user_timeline).items(1):\n",
    "    print(\"-\"*10)\n",
    "    print(tweet.text)"
   ]
  }
 ],
 "metadata": {
  "anaconda-cloud": {},
  "celltoolbar": "Slideshow",
  "kernelspec": {
   "display_name": "Python 3",
   "language": "python",
   "name": "python3"
  },
  "language_info": {
   "codemirror_mode": {
    "name": "ipython",
    "version": 3
   },
   "file_extension": ".py",
   "mimetype": "text/x-python",
   "name": "python",
   "nbconvert_exporter": "python",
   "pygments_lexer": "ipython3",
   "version": "3.7.7"
  },
  "nav_menu": {},
  "toc": {
   "base_numbering": 1,
   "nav_menu": {},
   "number_sections": true,
   "sideBar": true,
   "skip_h1_title": false,
   "title_cell": "Table of Contents",
   "title_sidebar": "Contents",
   "toc_cell": false,
   "toc_position": {},
   "toc_section_display": "block",
   "toc_window_display": false
  },
  "varInspector": {
   "cols": {
    "lenName": 16,
    "lenType": 16,
    "lenVar": 40
   },
   "kernels_config": {
    "python": {
     "delete_cmd_postfix": "",
     "delete_cmd_prefix": "del ",
     "library": "var_list.py",
     "varRefreshCmd": "print(var_dic_list())"
    },
    "r": {
     "delete_cmd_postfix": ") ",
     "delete_cmd_prefix": "rm(",
     "library": "var_list.r",
     "varRefreshCmd": "cat(var_dic_list()) "
    }
   },
   "types_to_exclude": [
    "module",
    "function",
    "builtin_function_or_method",
    "instance",
    "_Feature"
   ],
   "window_display": false
  }
 },
 "nbformat": 4,
 "nbformat_minor": 2
}