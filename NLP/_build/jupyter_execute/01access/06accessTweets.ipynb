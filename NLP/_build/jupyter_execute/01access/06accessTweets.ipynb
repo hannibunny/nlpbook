{
 "cells": [
  {
   "cell_type": "markdown",
   "metadata": {
    "slideshow": {
     "slide_type": "slide"
    }
   },
   "source": [
    "# Access Tweets\n",
    "\n",
    "- Author:      Johannes Maucher\n",
    "- Last update: 2020-09-09\n",
    "\n",
    "This notebook demonstrates how the Python API [tweepy](http://www.tweepy.org/) can be applied to access data from twitter."
   ]
  },
  {
   "cell_type": "code",
   "execution_count": 1,
   "metadata": {
    "execution": {
     "iopub.execute_input": "2020-09-18T05:36:12.635942Z",
     "iopub.status.busy": "2020-09-18T05:36:12.634836Z",
     "iopub.status.idle": "2020-09-18T05:36:12.638975Z",
     "shell.execute_reply": "2020-09-18T05:36:12.639837Z"
    },
    "slideshow": {
     "slide_type": "skip"
    }
   },
   "outputs": [],
   "source": [
    "#!pip install tweepy"
   ]
  },
  {
   "cell_type": "code",
   "execution_count": 2,
   "metadata": {
    "ExecuteTime": {
     "end_time": "2017-11-12T20:38:02.349000Z",
     "start_time": "2017-11-12T21:38:00.638000+01:00"
    },
    "execution": {
     "iopub.execute_input": "2020-09-18T05:36:12.652451Z",
     "iopub.status.busy": "2020-09-18T05:36:12.649552Z",
     "iopub.status.idle": "2020-09-18T05:36:12.896825Z",
     "shell.execute_reply": "2020-09-18T05:36:12.897360Z"
    },
    "slideshow": {
     "slide_type": "slide"
    }
   },
   "outputs": [],
   "source": [
    "import tweepy\n",
    "import json\n",
    "from slugify import slugify"
   ]
  },
  {
   "cell_type": "markdown",
   "metadata": {
    "slideshow": {
     "slide_type": "slide"
    }
   },
   "source": [
    "The tweepy authentification process is described in detail in [tweepy authentification](http://tweepy.readthedocs.io/en/v3.5.0/auth_tutorial.html). This process is implemented in the following two code-cells. It requires that corresponding personal twitter credentials are available. These credentials can be applied from [Twitter Apps](https://apps.twitter.com/).  \n",
    "\n",
    "My personal credentials are saved in the file `twitterCredentials.json`. The contents of this file are loaded in the following code-cell."
   ]
  },
  {
   "cell_type": "code",
   "execution_count": 3,
   "metadata": {
    "ExecuteTime": {
     "end_time": "2017-11-12T20:38:07.391000Z",
     "start_time": "2017-11-12T21:38:07.375000+01:00"
    },
    "execution": {
     "iopub.execute_input": "2020-09-18T05:36:12.903247Z",
     "iopub.status.busy": "2020-09-18T05:36:12.902027Z",
     "iopub.status.idle": "2020-09-18T05:36:12.907512Z",
     "shell.execute_reply": "2020-09-18T05:36:12.908083Z"
    },
    "slideshow": {
     "slide_type": "fragment"
    }
   },
   "outputs": [],
   "source": [
    "with open(\"/Users/maucher/Keys/twitterCredentials.json\") as data_file:    \n",
    "    credentials = json.load(data_file)\n",
    "#print credentials"
   ]
  },
  {
   "cell_type": "markdown",
   "metadata": {
    "slideshow": {
     "slide_type": "slide"
    }
   },
   "source": [
    "Tweepy authentification:"
   ]
  },
  {
   "cell_type": "code",
   "execution_count": 4,
   "metadata": {
    "ExecuteTime": {
     "end_time": "2017-11-12T20:38:12.496000Z",
     "start_time": "2017-11-12T21:38:12.480000+01:00"
    },
    "execution": {
     "iopub.execute_input": "2020-09-18T05:36:12.915299Z",
     "iopub.status.busy": "2020-09-18T05:36:12.914340Z",
     "iopub.status.idle": "2020-09-18T05:36:12.917149Z",
     "shell.execute_reply": "2020-09-18T05:36:12.917957Z"
    },
    "slideshow": {
     "slide_type": "fragment"
    }
   },
   "outputs": [],
   "source": [
    "auth = tweepy.OAuthHandler(credentials[\"consumerKey\"], credentials[\"consumerSecret\"])\n",
    "auth.set_access_token(credentials[\"accessToken\"],credentials[\"accessSecret\"])\n",
    "api = tweepy.API(auth)"
   ]
  },
  {
   "cell_type": "markdown",
   "metadata": {
    "slideshow": {
     "slide_type": "slide"
    }
   },
   "source": [
    "The `API`-object can now be applied for example in order to read the own timeline of the Twitter homepage:"
   ]
  },
  {
   "cell_type": "code",
   "execution_count": 5,
   "metadata": {
    "ExecuteTime": {
     "end_time": "2017-11-12T20:38:21.037000Z",
     "start_time": "2017-11-12T21:38:19.449000+01:00"
    },
    "execution": {
     "iopub.execute_input": "2020-09-18T05:36:12.925723Z",
     "iopub.status.busy": "2020-09-18T05:36:12.924879Z",
     "iopub.status.idle": "2020-09-18T05:36:13.332914Z",
     "shell.execute_reply": "2020-09-18T05:36:13.333671Z"
    },
    "slideshow": {
     "slide_type": "fragment"
    }
   },
   "outputs": [
    {
     "name": "stdout",
     "output_type": "stream",
     "text": [
      "----------\n",
      "VfB Stuttgart\n",
      "#Fritzle hat seine Tipps für den ersten Spieltag schon abgegeben und setzt auf einen 2⃣:1⃣ Heimsieg für unseren… https://t.co/xO2HqHQDFV\n",
      "----------\n",
      "VfB Stuttgart\n",
      "Besondere Umstände, besondere Begegnung!\n",
      "Mit Überzeugung, Optimismus und großer Vorfreude auf bis zu 8⃣0⃣0⃣0⃣ Zusch… https://t.co/TvIh5kc5St\n",
      "----------\n",
      "VfB Stuttgart\n",
      "Aktuelle Informationen zur Ticketvergabe für das Heimspiel gegen den @scfreiburg. #VfB #VfBSCF\n",
      "---\n",
      "Zur Meldung auf… https://t.co/rtgYYwbrIN\n",
      "----------\n",
      "VfB Stuttgart\n",
      "Zur Meldung 👇https://t.co/82Ja2csoFD\n",
      "----------\n",
      "VfB Stuttgart\n",
      ".@ThomasHitz:\"Wir sehen dies als Auftakt der sechswöchigen Testphase und haben deshalb bewusst noch nicht die maxim… https://t.co/rsfXOtDM1g\n",
      "----------\n",
      "VfB Stuttgart\n",
      ".@ThomasHitz:\"Es war uns immer ein Anliegen eine möglichst einheitliche, solidarische Lösung für die gesamte Liga z… https://t.co/2VoZeil7qY\n",
      "----------\n",
      "VfB Stuttgart\n",
      "Start der Testphase❗️ Der #VfB plant mit 8.000 Zuschauern in der #MercedesBenzArena gegen den @scfreiburg. Vorstand… https://t.co/bqx6vc8BOb\n",
      "----------\n",
      "VfB Stuttgart\n",
      "Pellegrino #Matarazzo zur Zuschauerthematik: \"Ich freue mich über jeden Zuschauer. Die Emotionen und die Rückendeck… https://t.co/RTZ2BLHKef\n",
      "----------\n",
      "VfB Stuttgart\n",
      "#Matarazzo: \"Ich denke, dass wir den Aufstieg und die Vorbereitung gut genutzt haben, um den Spirit innerhalb der M… https://t.co/B9D1hCBCPT\n"
     ]
    }
   ],
   "source": [
    "public_tweets = api.home_timeline(count=10)\n",
    "for tweet in public_tweets:\n",
    "    print(\"-\"*10)\n",
    "    print(tweet.author.name)\n",
    "    print(tweet.text)"
   ]
  },
  {
   "cell_type": "markdown",
   "metadata": {
    "slideshow": {
     "slide_type": "slide"
    }
   },
   "source": [
    "The `API`-object can also be applied for sending a new tweet (a.k.a. update status):"
   ]
  },
  {
   "cell_type": "code",
   "execution_count": 6,
   "metadata": {
    "ExecuteTime": {
     "end_time": "2017-11-12T20:39:25.949000Z",
     "start_time": "2017-11-12T21:39:25.944000+01:00"
    },
    "execution": {
     "iopub.execute_input": "2020-09-18T05:36:13.338412Z",
     "iopub.status.busy": "2020-09-18T05:36:13.337398Z",
     "iopub.status.idle": "2020-09-18T05:36:13.340226Z",
     "shell.execute_reply": "2020-09-18T05:36:13.340919Z"
    },
    "slideshow": {
     "slide_type": "fragment"
    }
   },
   "outputs": [],
   "source": [
    "#api.update_status(\"This is just for testing tweepy api\")"
   ]
  },
  {
   "cell_type": "markdown",
   "metadata": {
    "slideshow": {
     "slide_type": "slide"
    }
   },
   "source": [
    "The API does not only provide access to content (tweets), but also to user-, friendship-, list-data and much more:"
   ]
  },
  {
   "cell_type": "code",
   "execution_count": 7,
   "metadata": {
    "ExecuteTime": {
     "end_time": "2017-11-12T20:39:29.102000Z",
     "start_time": "2017-11-12T21:39:28.733000+01:00"
    },
    "execution": {
     "iopub.execute_input": "2020-09-18T05:36:13.347339Z",
     "iopub.status.busy": "2020-09-18T05:36:13.346359Z",
     "iopub.status.idle": "2020-09-18T05:36:13.687376Z",
     "shell.execute_reply": "2020-09-18T05:36:13.688222Z"
    },
    "slideshow": {
     "slide_type": "fragment"
    }
   },
   "outputs": [
    {
     "data": {
      "text/plain": [
       "25073877"
      ]
     },
     "execution_count": 7,
     "metadata": {},
     "output_type": "execute_result"
    }
   ],
   "source": [
    "user = api.get_user('realDonaldTrump')\n",
    "#ser = api.get_user('RegSprecher')\n",
    "user.id"
   ]
  },
  {
   "cell_type": "code",
   "execution_count": 8,
   "metadata": {
    "ExecuteTime": {
     "end_time": "2017-11-12T20:39:33.960000Z",
     "start_time": "2017-11-12T21:39:33.954000+01:00"
    },
    "execution": {
     "iopub.execute_input": "2020-09-18T05:36:13.693184Z",
     "iopub.status.busy": "2020-09-18T05:36:13.692197Z",
     "iopub.status.idle": "2020-09-18T05:36:13.695725Z",
     "shell.execute_reply": "2020-09-18T05:36:13.696365Z"
    },
    "slideshow": {
     "slide_type": "slide"
    }
   },
   "outputs": [
    {
     "name": "stdout",
     "output_type": "stream",
     "text": [
      "45th President of the United States of America🇺🇸\n"
     ]
    }
   ],
   "source": [
    "print(user.description)"
   ]
  },
  {
   "cell_type": "code",
   "execution_count": 9,
   "metadata": {
    "ExecuteTime": {
     "end_time": "2017-11-12T20:39:36.498000Z",
     "start_time": "2017-11-12T21:39:36.482000+01:00"
    },
    "execution": {
     "iopub.execute_input": "2020-09-18T05:36:13.701752Z",
     "iopub.status.busy": "2020-09-18T05:36:13.700830Z",
     "iopub.status.idle": "2020-09-18T05:36:13.704573Z",
     "shell.execute_reply": "2020-09-18T05:36:13.705518Z"
    },
    "slideshow": {
     "slide_type": "fragment"
    }
   },
   "outputs": [
    {
     "data": {
      "text/plain": [
       "86056849"
      ]
     },
     "execution_count": 9,
     "metadata": {},
     "output_type": "execute_result"
    }
   ],
   "source": [
    "user.followers_count"
   ]
  },
  {
   "cell_type": "code",
   "execution_count": 10,
   "metadata": {
    "ExecuteTime": {
     "end_time": "2017-11-12T20:39:37.881000Z",
     "start_time": "2017-11-12T21:39:37.881000+01:00"
    },
    "execution": {
     "iopub.execute_input": "2020-09-18T05:36:13.711673Z",
     "iopub.status.busy": "2020-09-18T05:36:13.710643Z",
     "iopub.status.idle": "2020-09-18T05:36:13.714524Z",
     "shell.execute_reply": "2020-09-18T05:36:13.714990Z"
    },
    "slideshow": {
     "slide_type": "fragment"
    }
   },
   "outputs": [
    {
     "data": {
      "text/plain": [
       "'Washington, DC'"
      ]
     },
     "execution_count": 10,
     "metadata": {},
     "output_type": "execute_result"
    }
   ],
   "source": [
    "user.location"
   ]
  },
  {
   "cell_type": "code",
   "execution_count": 11,
   "metadata": {
    "ExecuteTime": {
     "end_time": "2017-11-12T20:39:39.246000Z",
     "start_time": "2017-11-12T21:39:39.246000+01:00"
    },
    "execution": {
     "iopub.execute_input": "2020-09-18T05:36:13.722409Z",
     "iopub.status.busy": "2020-09-18T05:36:13.721071Z",
     "iopub.status.idle": "2020-09-18T05:36:13.725025Z",
     "shell.execute_reply": "2020-09-18T05:36:13.725533Z"
    },
    "slideshow": {
     "slide_type": "fragment"
    }
   },
   "outputs": [
    {
     "data": {
      "text/plain": [
       "50"
      ]
     },
     "execution_count": 11,
     "metadata": {},
     "output_type": "execute_result"
    }
   ],
   "source": [
    "user.friends_count"
   ]
  },
  {
   "cell_type": "code",
   "execution_count": 12,
   "metadata": {
    "ExecuteTime": {
     "end_time": "2017-11-12T20:39:45.487000Z",
     "start_time": "2017-11-12T21:39:43.600000+01:00"
    },
    "execution": {
     "iopub.execute_input": "2020-09-18T05:36:13.733343Z",
     "iopub.status.busy": "2020-09-18T05:36:13.731888Z",
     "iopub.status.idle": "2020-09-18T05:36:14.737081Z",
     "shell.execute_reply": "2020-09-18T05:36:14.737660Z"
    },
    "slideshow": {
     "slide_type": "slide"
    }
   },
   "outputs": [
    {
     "name": "stdout",
     "output_type": "stream",
     "text": [
      "GOPLeader\n",
      "senatemajldr\n",
      "MarkMeadows\n",
      "kimguilfoyle\n",
      "JudgeJeanine\n",
      "Jim_Jordan\n",
      "MariaBartiromo\n",
      "VP\n",
      "GOPChairwoman\n",
      "parscale\n",
      "PressSec\n",
      "TuckerCarlson\n",
      "JesseBWatters\n",
      "WhiteHouse\n",
      "Scavino45\n",
      "KellyannePolls\n",
      "Reince\n",
      "RealRomaDowney\n",
      "Trump\n",
      "TrumpGolf\n"
     ]
    },
    {
     "name": "stdout",
     "output_type": "stream",
     "text": [
      "20\n"
     ]
    }
   ],
   "source": [
    "for friend in user.friends():\n",
    "    print(friend.screen_name)\n",
    "print(len(user.friends()))"
   ]
  },
  {
   "cell_type": "code",
   "execution_count": 13,
   "metadata": {
    "ExecuteTime": {
     "end_time": "2017-11-12T20:39:57.125000Z",
     "start_time": "2017-11-12T21:39:52.247000+01:00"
    },
    "execution": {
     "iopub.execute_input": "2020-09-18T05:36:14.745525Z",
     "iopub.status.busy": "2020-09-18T05:36:14.744488Z",
     "iopub.status.idle": "2020-09-18T05:36:17.868959Z",
     "shell.execute_reply": "2020-09-18T05:36:17.869574Z"
    },
    "slideshow": {
     "slide_type": "slide"
    }
   },
   "outputs": [
    {
     "name": "stdout",
     "output_type": "stream",
     "text": [
      "mxlearn\n"
     ]
    },
    {
     "name": "stdout",
     "output_type": "stream",
     "text": [
      "reddit_python\n"
     ]
    },
    {
     "name": "stdout",
     "output_type": "stream",
     "text": [
      "ML_NLP\n"
     ]
    },
    {
     "name": "stdout",
     "output_type": "stream",
     "text": [
      "realDonaldTrump\n"
     ]
    }
   ],
   "source": [
    "dirname=\"./TWEETS/\"\n",
    "users = [\"mxlearn\",\"reddit_python\",\"ML_NLP\",\"realDonaldTrump\"]\n",
    "numTweets=300\n",
    "for user in users:\n",
    "    print(user)\n",
    "    user_timeline = api.user_timeline(screen_name=user, count=numTweets)\n",
    "    filename = str(user) + \".json\"\n",
    "    with open(dirname+filename, 'w+',encoding=\"utf-8\") as f:\n",
    "        for idx, tweet in enumerate(user_timeline):\n",
    "            tweet_text = user_timeline[idx].text\n",
    "            #print(tweet_text)\n",
    "            f.write(tweet_text + \"\\n\")"
   ]
  },
  {
   "cell_type": "markdown",
   "metadata": {
    "slideshow": {
     "slide_type": "slide"
    }
   },
   "source": [
    "Alternative way to access timeline using the cursor-object:"
   ]
  },
  {
   "cell_type": "code",
   "execution_count": 14,
   "metadata": {
    "ExecuteTime": {
     "end_time": "2017-11-12T20:40:36.476000Z",
     "start_time": "2017-11-12T21:40:35.882000+01:00"
    },
    "execution": {
     "iopub.execute_input": "2020-09-18T05:36:17.877297Z",
     "iopub.status.busy": "2020-09-18T05:36:17.876435Z",
     "iopub.status.idle": "2020-09-18T05:36:18.293069Z",
     "shell.execute_reply": "2020-09-18T05:36:18.294465Z"
    },
    "slideshow": {
     "slide_type": "fragment"
    }
   },
   "outputs": [],
   "source": [
    "with open(\"twitterTimeline.json\", 'w+') as f:\n",
    "    for status in tweepy.Cursor(api.home_timeline).items(1):\n",
    "        json.dump(status._json,f)"
   ]
  },
  {
   "cell_type": "code",
   "execution_count": 15,
   "metadata": {
    "ExecuteTime": {
     "end_time": "2017-11-12T20:40:59.221000Z",
     "start_time": "2017-11-12T21:40:58.858000+01:00"
    },
    "execution": {
     "iopub.execute_input": "2020-09-18T05:36:18.311827Z",
     "iopub.status.busy": "2020-09-18T05:36:18.310567Z",
     "iopub.status.idle": "2020-09-18T05:36:18.659557Z",
     "shell.execute_reply": "2020-09-18T05:36:18.660316Z"
    },
    "slideshow": {
     "slide_type": "fragment"
    }
   },
   "outputs": [
    {
     "name": "stdout",
     "output_type": "stream",
     "text": [
      "Johannes Maucher\n",
      "VfB Stuttgart\n",
      "Steffen Seibert\n",
      "Hochschule der Medien (HdM)\n"
     ]
    }
   ],
   "source": [
    "for friend in list(tweepy.Cursor(api.friends).items()):\n",
    "    print(friend.name)"
   ]
  },
  {
   "cell_type": "code",
   "execution_count": 16,
   "metadata": {
    "ExecuteTime": {
     "end_time": "2017-11-12T20:41:06.640000Z",
     "start_time": "2017-11-12T21:41:06.165000+01:00"
    },
    "execution": {
     "iopub.execute_input": "2020-09-18T05:36:18.667987Z",
     "iopub.status.busy": "2020-09-18T05:36:18.667078Z",
     "iopub.status.idle": "2020-09-18T05:36:19.026968Z",
     "shell.execute_reply": "2020-09-18T05:36:19.028228Z"
    },
    "scrolled": true,
    "slideshow": {
     "slide_type": "slide"
    }
   },
   "outputs": [
    {
     "name": "stdout",
     "output_type": "stream",
     "text": [
      "----------\n",
      "This is just for testing tweepy api\n"
     ]
    }
   ],
   "source": [
    "for tweet in tweepy.Cursor(api.user_timeline).items(1):\n",
    "    print(\"-\"*10)\n",
    "    print(tweet.text)"
   ]
  }
 ],
 "metadata": {
  "anaconda-cloud": {},
  "celltoolbar": "Slideshow",
  "kernelspec": {
   "display_name": "Python 3",
   "language": "python",
   "name": "python3"
  },
  "language_info": {
   "codemirror_mode": {
    "name": "ipython",
    "version": 3
   },
   "file_extension": ".py",
   "mimetype": "text/x-python",
   "name": "python",
   "nbconvert_exporter": "python",
   "pygments_lexer": "ipython3",
   "version": "3.7.7"
  },
  "nav_menu": {},
  "toc": {
   "base_numbering": 1,
   "nav_menu": {},
   "number_sections": true,
   "sideBar": true,
   "skip_h1_title": false,
   "title_cell": "Table of Contents",
   "title_sidebar": "Contents",
   "toc_cell": false,
   "toc_position": {},
   "toc_section_display": "block",
   "toc_window_display": false
  },
  "varInspector": {
   "cols": {
    "lenName": 16,
    "lenType": 16,
    "lenVar": 40
   },
   "kernels_config": {
    "python": {
     "delete_cmd_postfix": "",
     "delete_cmd_prefix": "del ",
     "library": "var_list.py",
     "varRefreshCmd": "print(var_dic_list())"
    },
    "r": {
     "delete_cmd_postfix": ") ",
     "delete_cmd_prefix": "rm(",
     "library": "var_list.r",
     "varRefreshCmd": "cat(var_dic_list()) "
    }
   },
   "types_to_exclude": [
    "module",
    "function",
    "builtin_function_or_method",
    "instance",
    "_Feature"
   ],
   "window_display": false
  }
 },
 "nbformat": 4,
 "nbformat_minor": 2
}