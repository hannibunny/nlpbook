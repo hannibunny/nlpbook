{
 "cells": [
  {
   "cell_type": "markdown",
   "metadata": {
    "slideshow": {
     "slide_type": "slide"
    }
   },
   "source": [
    "# Access Tweets\n",
    "\n",
    "- Author:      Johannes Maucher\n",
    "- Last update: 2020-09-09\n",
    "\n",
    "This notebook demonstrates how the Python API [tweepy](http://www.tweepy.org/) can be applied to access data from twitter."
   ]
  },
  {
   "cell_type": "code",
   "execution_count": 1,
   "metadata": {
    "execution": {
     "iopub.execute_input": "2020-09-29T14:27:28.989256Z",
     "iopub.status.busy": "2020-09-29T14:27:28.988561Z",
     "iopub.status.idle": "2020-09-29T14:27:28.990653Z",
     "shell.execute_reply": "2020-09-29T14:27:28.991147Z"
    },
    "slideshow": {
     "slide_type": "skip"
    }
   },
   "outputs": [],
   "source": [
    "#!pip install tweepy"
   ]
  },
  {
   "cell_type": "code",
   "execution_count": 2,
   "metadata": {
    "ExecuteTime": {
     "end_time": "2017-11-12T20:38:02.349000Z",
     "start_time": "2017-11-12T21:38:00.638000+01:00"
    },
    "execution": {
     "iopub.execute_input": "2020-09-29T14:27:28.995603Z",
     "iopub.status.busy": "2020-09-29T14:27:28.994791Z",
     "iopub.status.idle": "2020-09-29T14:27:29.150610Z",
     "shell.execute_reply": "2020-09-29T14:27:29.151044Z"
    },
    "slideshow": {
     "slide_type": "slide"
    }
   },
   "outputs": [],
   "source": [
    "import tweepy\n",
    "import json\n",
    "from slugify import slugify"
   ]
  },
  {
   "cell_type": "markdown",
   "metadata": {
    "slideshow": {
     "slide_type": "slide"
    }
   },
   "source": [
    "The tweepy authentification process is described in detail in [tweepy authentification](http://tweepy.readthedocs.io/en/v3.5.0/auth_tutorial.html). This process is implemented in the following two code-cells. It requires that corresponding personal twitter credentials are available. These credentials can be applied from [Twitter Apps](https://apps.twitter.com/).  \n",
    "\n",
    "My personal credentials are saved in the file `twitterCredentials.json`. The contents of this file are loaded in the following code-cell."
   ]
  },
  {
   "cell_type": "code",
   "execution_count": 3,
   "metadata": {
    "ExecuteTime": {
     "end_time": "2017-11-12T20:38:07.391000Z",
     "start_time": "2017-11-12T21:38:07.375000+01:00"
    },
    "execution": {
     "iopub.execute_input": "2020-09-29T14:27:29.155318Z",
     "iopub.status.busy": "2020-09-29T14:27:29.154679Z",
     "iopub.status.idle": "2020-09-29T14:27:29.157157Z",
     "shell.execute_reply": "2020-09-29T14:27:29.157692Z"
    },
    "slideshow": {
     "slide_type": "fragment"
    }
   },
   "outputs": [],
   "source": [
    "with open(\"/Users/maucher/Keys/twitterCredentials.json\") as data_file:    \n",
    "    credentials = json.load(data_file)\n",
    "#print credentials"
   ]
  },
  {
   "cell_type": "markdown",
   "metadata": {
    "slideshow": {
     "slide_type": "slide"
    }
   },
   "source": [
    "Tweepy authentification:"
   ]
  },
  {
   "cell_type": "code",
   "execution_count": 4,
   "metadata": {
    "ExecuteTime": {
     "end_time": "2017-11-12T20:38:12.496000Z",
     "start_time": "2017-11-12T21:38:12.480000+01:00"
    },
    "execution": {
     "iopub.execute_input": "2020-09-29T14:27:29.162769Z",
     "iopub.status.busy": "2020-09-29T14:27:29.161952Z",
     "iopub.status.idle": "2020-09-29T14:27:29.164104Z",
     "shell.execute_reply": "2020-09-29T14:27:29.164578Z"
    },
    "slideshow": {
     "slide_type": "fragment"
    }
   },
   "outputs": [],
   "source": [
    "auth = tweepy.OAuthHandler(credentials[\"consumerKey\"], credentials[\"consumerSecret\"])\n",
    "auth.set_access_token(credentials[\"accessToken\"],credentials[\"accessSecret\"])\n",
    "api = tweepy.API(auth)"
   ]
  },
  {
   "cell_type": "markdown",
   "metadata": {
    "slideshow": {
     "slide_type": "slide"
    }
   },
   "source": [
    "The `API`-object can now be applied for example in order to read the own timeline of the Twitter homepage:"
   ]
  },
  {
   "cell_type": "code",
   "execution_count": 5,
   "metadata": {
    "ExecuteTime": {
     "end_time": "2017-11-12T20:38:21.037000Z",
     "start_time": "2017-11-12T21:38:19.449000+01:00"
    },
    "execution": {
     "iopub.execute_input": "2020-09-29T14:27:29.170647Z",
     "iopub.status.busy": "2020-09-29T14:27:29.169903Z",
     "iopub.status.idle": "2020-09-29T14:27:29.516121Z",
     "shell.execute_reply": "2020-09-29T14:27:29.516604Z"
    },
    "slideshow": {
     "slide_type": "fragment"
    }
   },
   "outputs": [
    {
     "name": "stdout",
     "output_type": "stream",
     "text": [
      "----------\n",
      "VfB Stuttgart\n",
      "Nach der Balleroberung von Silas geht's ab 💨 1⃣1⃣ Sekunden bis zum 3:1 gegen Mainz und dem ersten @Bundesliga_DE-To… https://t.co/BcX1MSm3SV\n",
      "----------\n",
      "Steffen Seibert\n",
      "Heute vor 30 Jahren trat der Einigungsvertrag in Kraft. Er regelte den Beitritt der DDR zur Bundesrepublik Deutschl… https://t.co/uSaMzaXCDz\n",
      "----------\n",
      "VfB Stuttgart\n",
      "Das war's. Die Vormittagseinheit ist beendet ✅\n",
      "\n",
      "#VfB https://t.co/XAm5ZYPJwu\n",
      "----------\n",
      "VfB Stuttgart\n",
      "#VfBB04 im Blick! 👀\n",
      "\n",
      "#VfB https://t.co/O3P7Gw1ZN5\n",
      "----------\n",
      "VfB Stuttgart\n",
      "Erik #Thommy ⚽️\n",
      "\n",
      "#VfB https://t.co/IyQtdkBUcJ\n",
      "----------\n",
      "VfB Stuttgart\n",
      "Zurück auf dem Trainingsplatz!\n",
      "\n",
      "Welcome back, Erik #Thommy! 👍\n",
      "\n",
      "#VfB https://t.co/T8egscq1Qv\n",
      "----------\n",
      "VfB Stuttgart\n",
      "Roberto #Massimo 🆚️ @wataru0209 \n",
      "\n",
      "Borna #Sosa 🆚️ Waldemar #Anton \n",
      "\n",
      "#VfB https://t.co/mNjNBKaxRE\n",
      "----------\n",
      "VfB Stuttgart\n",
      "Und los! Mit Power in die HEIMSPIELwoche! 😤\n",
      "\n",
      "#VfB @MateoKlimowicz https://t.co/OQ1S173rPU\n",
      "----------\n",
      "VfB Stuttgart\n",
      "Mit dem Auswärtssieg im Rücken: Die Trainingswoche vor dem Heimspiel #VfBB04 beginnt! #VfB https://t.co/E0Qm0bvpxG\n",
      "----------\n",
      "Steffen Seibert\n",
      "Kanzlerin #Merkel hat in Telefonaten mit dem Präsidenten von #Aserbaidschan, Alijew und dem Ministerpräsidenten von… https://t.co/Ia97Fcmyx8\n"
     ]
    }
   ],
   "source": [
    "public_tweets = api.home_timeline(count=10)\n",
    "for tweet in public_tweets:\n",
    "    print(\"-\"*10)\n",
    "    print(tweet.author.name)\n",
    "    print(tweet.text)"
   ]
  },
  {
   "cell_type": "markdown",
   "metadata": {
    "slideshow": {
     "slide_type": "slide"
    }
   },
   "source": [
    "The `API`-object can also be applied for sending a new tweet (a.k.a. update status):"
   ]
  },
  {
   "cell_type": "code",
   "execution_count": 6,
   "metadata": {
    "ExecuteTime": {
     "end_time": "2017-11-12T20:39:25.949000Z",
     "start_time": "2017-11-12T21:39:25.944000+01:00"
    },
    "execution": {
     "iopub.execute_input": "2020-09-29T14:27:29.520604Z",
     "iopub.status.busy": "2020-09-29T14:27:29.519875Z",
     "iopub.status.idle": "2020-09-29T14:27:29.522142Z",
     "shell.execute_reply": "2020-09-29T14:27:29.522618Z"
    },
    "slideshow": {
     "slide_type": "fragment"
    }
   },
   "outputs": [],
   "source": [
    "#api.update_status(\"This is just for testing tweepy api\")"
   ]
  },
  {
   "cell_type": "markdown",
   "metadata": {
    "slideshow": {
     "slide_type": "slide"
    }
   },
   "source": [
    "The API does not only provide access to content (tweets), but also to user-, friendship-, list-data and much more:"
   ]
  },
  {
   "cell_type": "code",
   "execution_count": 7,
   "metadata": {
    "ExecuteTime": {
     "end_time": "2017-11-12T20:39:29.102000Z",
     "start_time": "2017-11-12T21:39:28.733000+01:00"
    },
    "execution": {
     "iopub.execute_input": "2020-09-29T14:27:29.528803Z",
     "iopub.status.busy": "2020-09-29T14:27:29.527616Z",
     "iopub.status.idle": "2020-09-29T14:27:29.812379Z",
     "shell.execute_reply": "2020-09-29T14:27:29.812967Z"
    },
    "slideshow": {
     "slide_type": "fragment"
    }
   },
   "outputs": [
    {
     "data": {
      "text/plain": [
       "25073877"
      ]
     },
     "execution_count": 7,
     "metadata": {},
     "output_type": "execute_result"
    }
   ],
   "source": [
    "user = api.get_user('realDonaldTrump')\n",
    "#ser = api.get_user('RegSprecher')\n",
    "user.id"
   ]
  },
  {
   "cell_type": "code",
   "execution_count": 8,
   "metadata": {
    "ExecuteTime": {
     "end_time": "2017-11-12T20:39:33.960000Z",
     "start_time": "2017-11-12T21:39:33.954000+01:00"
    },
    "execution": {
     "iopub.execute_input": "2020-09-29T14:27:29.817105Z",
     "iopub.status.busy": "2020-09-29T14:27:29.816391Z",
     "iopub.status.idle": "2020-09-29T14:27:29.818944Z",
     "shell.execute_reply": "2020-09-29T14:27:29.819411Z"
    },
    "slideshow": {
     "slide_type": "slide"
    }
   },
   "outputs": [
    {
     "name": "stdout",
     "output_type": "stream",
     "text": [
      "45th President of the United States of America🇺🇸\n"
     ]
    }
   ],
   "source": [
    "print(user.description)"
   ]
  },
  {
   "cell_type": "code",
   "execution_count": 9,
   "metadata": {
    "ExecuteTime": {
     "end_time": "2017-11-12T20:39:36.498000Z",
     "start_time": "2017-11-12T21:39:36.482000+01:00"
    },
    "execution": {
     "iopub.execute_input": "2020-09-29T14:27:29.824143Z",
     "iopub.status.busy": "2020-09-29T14:27:29.823188Z",
     "iopub.status.idle": "2020-09-29T14:27:29.826202Z",
     "shell.execute_reply": "2020-09-29T14:27:29.826753Z"
    },
    "slideshow": {
     "slide_type": "fragment"
    }
   },
   "outputs": [
    {
     "data": {
      "text/plain": [
       "86361412"
      ]
     },
     "execution_count": 9,
     "metadata": {},
     "output_type": "execute_result"
    }
   ],
   "source": [
    "user.followers_count"
   ]
  },
  {
   "cell_type": "code",
   "execution_count": 10,
   "metadata": {
    "ExecuteTime": {
     "end_time": "2017-11-12T20:39:37.881000Z",
     "start_time": "2017-11-12T21:39:37.881000+01:00"
    },
    "execution": {
     "iopub.execute_input": "2020-09-29T14:27:29.831606Z",
     "iopub.status.busy": "2020-09-29T14:27:29.830834Z",
     "iopub.status.idle": "2020-09-29T14:27:29.833951Z",
     "shell.execute_reply": "2020-09-29T14:27:29.834541Z"
    },
    "slideshow": {
     "slide_type": "fragment"
    }
   },
   "outputs": [
    {
     "data": {
      "text/plain": [
       "'Washington, DC'"
      ]
     },
     "execution_count": 10,
     "metadata": {},
     "output_type": "execute_result"
    }
   ],
   "source": [
    "user.location"
   ]
  },
  {
   "cell_type": "code",
   "execution_count": 11,
   "metadata": {
    "ExecuteTime": {
     "end_time": "2017-11-12T20:39:39.246000Z",
     "start_time": "2017-11-12T21:39:39.246000+01:00"
    },
    "execution": {
     "iopub.execute_input": "2020-09-29T14:27:29.839517Z",
     "iopub.status.busy": "2020-09-29T14:27:29.838798Z",
     "iopub.status.idle": "2020-09-29T14:27:29.841818Z",
     "shell.execute_reply": "2020-09-29T14:27:29.842300Z"
    },
    "slideshow": {
     "slide_type": "fragment"
    }
   },
   "outputs": [
    {
     "data": {
      "text/plain": [
       "50"
      ]
     },
     "execution_count": 11,
     "metadata": {},
     "output_type": "execute_result"
    }
   ],
   "source": [
    "user.friends_count"
   ]
  },
  {
   "cell_type": "code",
   "execution_count": 12,
   "metadata": {
    "ExecuteTime": {
     "end_time": "2017-11-12T20:39:45.487000Z",
     "start_time": "2017-11-12T21:39:43.600000+01:00"
    },
    "execution": {
     "iopub.execute_input": "2020-09-29T14:27:29.848504Z",
     "iopub.status.busy": "2020-09-29T14:27:29.847754Z",
     "iopub.status.idle": "2020-09-29T14:27:30.806081Z",
     "shell.execute_reply": "2020-09-29T14:27:30.806649Z"
    },
    "slideshow": {
     "slide_type": "slide"
    }
   },
   "outputs": [
    {
     "name": "stdout",
     "output_type": "stream",
     "text": [
      "GOPLeader\n",
      "senatemajldr\n",
      "MarkMeadows\n",
      "kimguilfoyle\n",
      "JudgeJeanine\n",
      "Jim_Jordan\n",
      "MariaBartiromo\n",
      "VP\n",
      "GOPChairwoman\n",
      "parscale\n",
      "PressSec\n",
      "TuckerCarlson\n",
      "JesseBWatters\n",
      "WhiteHouse\n",
      "Scavino45\n",
      "KellyannePolls\n",
      "Reince\n",
      "RealRomaDowney\n",
      "Trump\n",
      "TrumpGolf\n"
     ]
    },
    {
     "name": "stdout",
     "output_type": "stream",
     "text": [
      "20\n"
     ]
    }
   ],
   "source": [
    "for friend in user.friends():\n",
    "    print(friend.screen_name)\n",
    "print(len(user.friends()))"
   ]
  },
  {
   "cell_type": "code",
   "execution_count": 13,
   "metadata": {
    "ExecuteTime": {
     "end_time": "2017-11-12T20:39:57.125000Z",
     "start_time": "2017-11-12T21:39:52.247000+01:00"
    },
    "execution": {
     "iopub.execute_input": "2020-09-29T14:27:30.814395Z",
     "iopub.status.busy": "2020-09-29T14:27:30.813589Z",
     "iopub.status.idle": "2020-09-29T14:27:33.315569Z",
     "shell.execute_reply": "2020-09-29T14:27:33.316036Z"
    },
    "slideshow": {
     "slide_type": "slide"
    }
   },
   "outputs": [
    {
     "name": "stdout",
     "output_type": "stream",
     "text": [
      "mxlearn\n"
     ]
    },
    {
     "name": "stdout",
     "output_type": "stream",
     "text": [
      "reddit_python\n"
     ]
    },
    {
     "name": "stdout",
     "output_type": "stream",
     "text": [
      "ML_NLP\n"
     ]
    },
    {
     "name": "stdout",
     "output_type": "stream",
     "text": [
      "realDonaldTrump\n"
     ]
    }
   ],
   "source": [
    "dirname=\"./TWEETS/\"\n",
    "users = [\"mxlearn\",\"reddit_python\",\"ML_NLP\",\"realDonaldTrump\"]\n",
    "numTweets=300\n",
    "for user in users:\n",
    "    print(user)\n",
    "    user_timeline = api.user_timeline(screen_name=user, count=numTweets)\n",
    "    filename = str(user) + \".json\"\n",
    "    with open(dirname+filename, 'w+',encoding=\"utf-8\") as f:\n",
    "        for idx, tweet in enumerate(user_timeline):\n",
    "            tweet_text = user_timeline[idx].text\n",
    "            #print(tweet_text)\n",
    "            f.write(tweet_text + \"\\n\")"
   ]
  },
  {
   "cell_type": "markdown",
   "metadata": {
    "slideshow": {
     "slide_type": "slide"
    }
   },
   "source": [
    "Alternative way to access timeline using the cursor-object:"
   ]
  },
  {
   "cell_type": "code",
   "execution_count": 14,
   "metadata": {
    "ExecuteTime": {
     "end_time": "2017-11-12T20:40:36.476000Z",
     "start_time": "2017-11-12T21:40:35.882000+01:00"
    },
    "execution": {
     "iopub.execute_input": "2020-09-29T14:27:33.321754Z",
     "iopub.status.busy": "2020-09-29T14:27:33.320887Z",
     "iopub.status.idle": "2020-09-29T14:27:33.675527Z",
     "shell.execute_reply": "2020-09-29T14:27:33.676027Z"
    },
    "slideshow": {
     "slide_type": "fragment"
    }
   },
   "outputs": [],
   "source": [
    "with open(\"twitterTimeline.json\", 'w+') as f:\n",
    "    for status in tweepy.Cursor(api.home_timeline).items(1):\n",
    "        json.dump(status._json,f)"
   ]
  },
  {
   "cell_type": "code",
   "execution_count": 15,
   "metadata": {
    "ExecuteTime": {
     "end_time": "2017-11-12T20:40:59.221000Z",
     "start_time": "2017-11-12T21:40:58.858000+01:00"
    },
    "execution": {
     "iopub.execute_input": "2020-09-29T14:27:33.681900Z",
     "iopub.status.busy": "2020-09-29T14:27:33.680966Z",
     "iopub.status.idle": "2020-09-29T14:27:33.982487Z",
     "shell.execute_reply": "2020-09-29T14:27:33.982980Z"
    },
    "slideshow": {
     "slide_type": "fragment"
    }
   },
   "outputs": [
    {
     "name": "stdout",
     "output_type": "stream",
     "text": [
      "Johannes Maucher\n",
      "VfB Stuttgart\n",
      "Steffen Seibert\n",
      "Hochschule der Medien (HdM)\n"
     ]
    }
   ],
   "source": [
    "for friend in list(tweepy.Cursor(api.friends).items()):\n",
    "    print(friend.name)"
   ]
  },
  {
   "cell_type": "code",
   "execution_count": 16,
   "metadata": {
    "ExecuteTime": {
     "end_time": "2017-11-12T20:41:06.640000Z",
     "start_time": "2017-11-12T21:41:06.165000+01:00"
    },
    "execution": {
     "iopub.execute_input": "2020-09-29T14:27:33.988851Z",
     "iopub.status.busy": "2020-09-29T14:27:33.988085Z",
     "iopub.status.idle": "2020-09-29T14:27:34.272202Z",
     "shell.execute_reply": "2020-09-29T14:27:34.272716Z"
    },
    "scrolled": true,
    "slideshow": {
     "slide_type": "slide"
    }
   },
   "outputs": [
    {
     "name": "stdout",
     "output_type": "stream",
     "text": [
      "----------\n",
      "This is just for testing tweepy api\n"
     ]
    }
   ],
   "source": [
    "for tweet in tweepy.Cursor(api.user_timeline).items(1):\n",
    "    print(\"-\"*10)\n",
    "    print(tweet.text)"
   ]
  }
 ],
 "metadata": {
  "anaconda-cloud": {},
  "celltoolbar": "Slideshow",
  "kernelspec": {
   "display_name": "Python 3",
   "language": "python",
   "name": "python3"
  },
  "language_info": {
   "codemirror_mode": {
    "name": "ipython",
    "version": 3
   },
   "file_extension": ".py",
   "mimetype": "text/x-python",
   "name": "python",
   "nbconvert_exporter": "python",
   "pygments_lexer": "ipython3",
   "version": "3.7.7"
  },
  "nav_menu": {},
  "toc": {
   "base_numbering": 1,
   "nav_menu": {},
   "number_sections": true,
   "sideBar": true,
   "skip_h1_title": false,
   "title_cell": "Table of Contents",
   "title_sidebar": "Contents",
   "toc_cell": false,
   "toc_position": {},
   "toc_section_display": "block",
   "toc_window_display": false
  },
  "varInspector": {
   "cols": {
    "lenName": 16,
    "lenType": 16,
    "lenVar": 40
   },
   "kernels_config": {
    "python": {
     "delete_cmd_postfix": "",
     "delete_cmd_prefix": "del ",
     "library": "var_list.py",
     "varRefreshCmd": "print(var_dic_list())"
    },
    "r": {
     "delete_cmd_postfix": ") ",
     "delete_cmd_prefix": "rm(",
     "library": "var_list.r",
     "varRefreshCmd": "cat(var_dic_list()) "
    }
   },
   "types_to_exclude": [
    "module",
    "function",
    "builtin_function_or_method",
    "instance",
    "_Feature"
   ],
   "window_display": false
  }
 },
 "nbformat": 4,
 "nbformat_minor": 2
}