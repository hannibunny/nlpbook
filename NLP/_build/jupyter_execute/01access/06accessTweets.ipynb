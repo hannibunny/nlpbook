{
 "cells": [
  {
   "cell_type": "markdown",
   "metadata": {
    "slideshow": {
     "slide_type": "slide"
    }
   },
   "source": [
    "# Access Tweets\n",
    "\n",
    "- Author:      Johannes Maucher\n",
    "- Last update: 2020-09-09\n",
    "\n",
    "This notebook demonstrates how the Python API [tweepy](http://www.tweepy.org/) can be applied to access data from twitter."
   ]
  },
  {
   "cell_type": "code",
   "execution_count": 1,
   "metadata": {
    "slideshow": {
     "slide_type": "skip"
    }
   },
   "outputs": [],
   "source": [
    "#!pip install tweepy"
   ]
  },
  {
   "cell_type": "code",
   "execution_count": 2,
   "metadata": {
    "ExecuteTime": {
     "end_time": "2017-11-12T20:38:02.349000Z",
     "start_time": "2017-11-12T21:38:00.638000+01:00"
    },
    "slideshow": {
     "slide_type": "slide"
    }
   },
   "outputs": [],
   "source": [
    "import tweepy\n",
    "import json\n",
    "from slugify import slugify"
   ]
  },
  {
   "cell_type": "markdown",
   "metadata": {
    "slideshow": {
     "slide_type": "slide"
    }
   },
   "source": [
    "The tweepy authentification process is described in detail in [tweepy authentification](http://tweepy.readthedocs.io/en/v3.5.0/auth_tutorial.html). This process is implemented in the following two code-cells. It requires that corresponding personal twitter credentials are available. These credentials can be applied from [Twitter Apps](https://apps.twitter.com/).  \n",
    "\n",
    "My personal credentials are saved in the file `twitterCredentials.json`. The contents of this file are loaded in the following code-cell."
   ]
  },
  {
   "cell_type": "code",
   "execution_count": 3,
   "metadata": {
    "ExecuteTime": {
     "end_time": "2017-11-12T20:38:07.391000Z",
     "start_time": "2017-11-12T21:38:07.375000+01:00"
    },
    "slideshow": {
     "slide_type": "fragment"
    }
   },
   "outputs": [],
   "source": [
    "with open(\"/Users/johannes/Dropbox (Privat)/twitterCredentials.json\") as data_file:    \n",
    "    credentials = json.load(data_file)\n",
    "#print credentials"
   ]
  },
  {
   "cell_type": "markdown",
   "metadata": {
    "slideshow": {
     "slide_type": "slide"
    }
   },
   "source": [
    "Tweepy authentification:"
   ]
  },
  {
   "cell_type": "code",
   "execution_count": 4,
   "metadata": {
    "ExecuteTime": {
     "end_time": "2017-11-12T20:38:12.496000Z",
     "start_time": "2017-11-12T21:38:12.480000+01:00"
    },
    "slideshow": {
     "slide_type": "fragment"
    }
   },
   "outputs": [],
   "source": [
    "auth = tweepy.OAuthHandler(credentials[\"consumerKey\"], credentials[\"consumerSecret\"])\n",
    "auth.set_access_token(credentials[\"accessToken\"],credentials[\"accessSecret\"])\n",
    "api = tweepy.API(auth)"
   ]
  },
  {
   "cell_type": "markdown",
   "metadata": {
    "slideshow": {
     "slide_type": "slide"
    }
   },
   "source": [
    "The `API`-object can now be applied for example in order to read the own timeline of the Twitter homepage:"
   ]
  },
  {
   "cell_type": "code",
   "execution_count": 5,
   "metadata": {
    "ExecuteTime": {
     "end_time": "2017-11-12T20:38:21.037000Z",
     "start_time": "2017-11-12T21:38:19.449000+01:00"
    },
    "slideshow": {
     "slide_type": "fragment"
    }
   },
   "outputs": [
    {
     "name": "stdout",
     "output_type": "stream",
     "text": [
      "----------\n",
      "VfB Stuttgart\n",
      "🚀😁\n",
      "\n",
      "#VfB | #training ✅ https://t.co/aqhnJtNQgP\n",
      "----------\n",
      "VfB Stuttgart\n",
      "Intensive Spielform ⚽️💪\n",
      "\n",
      "#VfB https://t.co/W1EWAns95e\n",
      "----------\n",
      "VfB Stuttgart\n",
      "All eyes on ⚽️ \n",
      "\n",
      "#VfB | #Führich https://t.co/ZGVEx8sQyK\n",
      "----------\n",
      "VfB Stuttgart\n",
      ".@MateoKlimowicz ⚽️\n",
      "\n",
      "#VfB https://t.co/nUccdStmtD\n",
      "----------\n",
      "VfB Stuttgart\n",
      "💯⚽️🌞\n",
      "\n",
      "#VfB | 🔜 #BOCVfB https://t.co/FUhLWymzyK\n",
      "----------\n",
      "VfB Stuttgart\n",
      "Guten Morgen vom Trainingsplatz! 🌞⚽️ \n",
      "\n",
      "Die Einheit am Donnerstag läuft...\n",
      "\n",
      "🔜 #BOCVfB \n",
      "\n",
      "#VfB https://t.co/4bXgBG9hvh\n",
      "----------\n",
      "Steffen Seibert\n",
      "RT @BMWi_Bund: .@peteraltmaier: #BMWi stellt über 8 Mrd. € für 62 #Wasserstoff-Projekte zur Verfügung für Zukunft made in Germany! #BMWi, @…\n",
      "----------\n",
      "Steffen Seibert\n",
      "Kanzlerin #Merkel im niedersächsischen Seedorf im Gespräch mit Einsatzkräften, die bei der Evakuierungsmission aus… https://t.co/ekzskqdA4i\n",
      "----------\n",
      "Steffen Seibert\n",
      "RT @UlrikeDemmer: Heute fand die letzte Kabinettssitzung vor der Bundestagswahl statt. Interessante Fakten zum #Kabinett in der 19. Legisla…\n",
      "----------\n",
      "VfB Stuttgart\n",
      "Vieles wird Atakan #Karazor bekannt vorkommen, wenn er am Sonntag mit dem #VfB beim @VfLBochum1848eV antritt. Im Na… https://t.co/J5Tdpnsq7B\n"
     ]
    }
   ],
   "source": [
    "public_tweets = api.home_timeline(count=10)\n",
    "for tweet in public_tweets:\n",
    "    print(\"-\"*10)\n",
    "    print(tweet.author.name)\n",
    "    print(tweet.text)"
   ]
  },
  {
   "cell_type": "markdown",
   "metadata": {
    "slideshow": {
     "slide_type": "slide"
    }
   },
   "source": [
    "The `API`-object can also be applied for sending a new tweet (a.k.a. update status):"
   ]
  },
  {
   "cell_type": "code",
   "execution_count": 6,
   "metadata": {
    "ExecuteTime": {
     "end_time": "2017-11-12T20:39:25.949000Z",
     "start_time": "2017-11-12T21:39:25.944000+01:00"
    },
    "slideshow": {
     "slide_type": "fragment"
    }
   },
   "outputs": [],
   "source": [
    "#api.update_status(\"This is just for testing tweepy api\")"
   ]
  },
  {
   "cell_type": "markdown",
   "metadata": {
    "slideshow": {
     "slide_type": "slide"
    }
   },
   "source": [
    "The API does not only provide access to content (tweets), but also to user-, friendship-, list-data and much more:"
   ]
  },
  {
   "cell_type": "code",
   "execution_count": 7,
   "metadata": {
    "ExecuteTime": {
     "end_time": "2017-11-12T20:39:29.102000Z",
     "start_time": "2017-11-12T21:39:28.733000+01:00"
    },
    "slideshow": {
     "slide_type": "fragment"
    }
   },
   "outputs": [
    {
     "data": {
      "text/plain": [
       "234343491"
      ]
     },
     "execution_count": 7,
     "metadata": {},
     "output_type": "execute_result"
    }
   ],
   "source": [
    "#user = api.get_user('realDonaldTrump')\n",
    "user = api.get_user('RegSprecher')\n",
    "user.id"
   ]
  },
  {
   "cell_type": "code",
   "execution_count": 8,
   "metadata": {
    "ExecuteTime": {
     "end_time": "2017-11-12T20:39:33.960000Z",
     "start_time": "2017-11-12T21:39:33.954000+01:00"
    },
    "slideshow": {
     "slide_type": "slide"
    }
   },
   "outputs": [
    {
     "name": "stdout",
     "output_type": "stream",
     "text": [
      "Sprecher der Bundesregierung und Chef des Bundespresseamtes (BPA). Tweets seiner Mitarbeiter/innen enden mit dem Kürzel (BPA).\n"
     ]
    }
   ],
   "source": [
    "print(user.description)"
   ]
  },
  {
   "cell_type": "code",
   "execution_count": 9,
   "metadata": {
    "ExecuteTime": {
     "end_time": "2017-11-12T20:39:36.498000Z",
     "start_time": "2017-11-12T21:39:36.482000+01:00"
    },
    "slideshow": {
     "slide_type": "fragment"
    }
   },
   "outputs": [
    {
     "data": {
      "text/plain": [
       "1002312"
      ]
     },
     "execution_count": 9,
     "metadata": {},
     "output_type": "execute_result"
    }
   ],
   "source": [
    "user.followers_count"
   ]
  },
  {
   "cell_type": "code",
   "execution_count": 10,
   "metadata": {
    "ExecuteTime": {
     "end_time": "2017-11-12T20:39:37.881000Z",
     "start_time": "2017-11-12T21:39:37.881000+01:00"
    },
    "slideshow": {
     "slide_type": "fragment"
    }
   },
   "outputs": [
    {
     "data": {
      "text/plain": [
       "'Berlin'"
      ]
     },
     "execution_count": 10,
     "metadata": {},
     "output_type": "execute_result"
    }
   ],
   "source": [
    "user.location"
   ]
  },
  {
   "cell_type": "code",
   "execution_count": 11,
   "metadata": {
    "ExecuteTime": {
     "end_time": "2017-11-12T20:39:39.246000Z",
     "start_time": "2017-11-12T21:39:39.246000+01:00"
    },
    "slideshow": {
     "slide_type": "fragment"
    }
   },
   "outputs": [
    {
     "data": {
      "text/plain": [
       "156"
      ]
     },
     "execution_count": 11,
     "metadata": {},
     "output_type": "execute_result"
    }
   ],
   "source": [
    "user.friends_count"
   ]
  },
  {
   "cell_type": "code",
   "execution_count": 12,
   "metadata": {
    "ExecuteTime": {
     "end_time": "2017-11-12T20:39:45.487000Z",
     "start_time": "2017-11-12T21:39:43.600000+01:00"
    },
    "slideshow": {
     "slide_type": "slide"
    }
   },
   "outputs": [
    {
     "name": "stdout",
     "output_type": "stream",
     "text": [
      "endrifuga\n",
      "Celik_Chn\n",
      "coronawarnapp\n",
      "barrierefrei\n",
      "OurWorldInData\n",
      "berthoppe\n",
      "POTUS\n",
      "DerekinBerlin\n",
      "StefanLeifert\n",
      "WhiteHouse\n",
      "JoeBiden\n",
      "Luisamneubauer\n",
      "germanyintheeu\n",
      "martinkaul\n",
      "BMWi_Bund\n",
      "BMISprecher\n",
      "eucopresident\n",
      "maithi_nk\n",
      "BMJV_Bund\n",
      "BMVg_Bundeswehr\n"
     ]
    },
    {
     "name": "stdout",
     "output_type": "stream",
     "text": [
      "20\n"
     ]
    }
   ],
   "source": [
    "for friend in user.friends():\n",
    "    print(friend.screen_name)\n",
    "print(len(user.friends()))"
   ]
  },
  {
   "cell_type": "code",
   "execution_count": 13,
   "metadata": {
    "ExecuteTime": {
     "end_time": "2017-11-12T20:39:57.125000Z",
     "start_time": "2017-11-12T21:39:52.247000+01:00"
    },
    "slideshow": {
     "slide_type": "slide"
    }
   },
   "outputs": [
    {
     "name": "stdout",
     "output_type": "stream",
     "text": [
      "mxlearn\n"
     ]
    },
    {
     "name": "stdout",
     "output_type": "stream",
     "text": [
      "reddit_python\n"
     ]
    },
    {
     "name": "stdout",
     "output_type": "stream",
     "text": [
      "ML_NLP\n"
     ]
    }
   ],
   "source": [
    "dirname=\"./TWEETS/\"\n",
    "users = [\"mxlearn\",\"reddit_python\",\"ML_NLP\"]\n",
    "numTweets=300\n",
    "for user in users:\n",
    "    print(user)\n",
    "    user_timeline = api.user_timeline(screen_name=user, count=numTweets)\n",
    "    filename = str(user) + \".json\"\n",
    "    with open(dirname+filename, 'w+',encoding=\"utf-8\") as f:\n",
    "        for idx, tweet in enumerate(user_timeline):\n",
    "            tweet_text = user_timeline[idx].text\n",
    "            #print(tweet_text)\n",
    "            f.write(tweet_text + \"\\n\")"
   ]
  },
  {
   "cell_type": "markdown",
   "metadata": {
    "slideshow": {
     "slide_type": "slide"
    }
   },
   "source": [
    "Alternative way to access timeline using the cursor-object:"
   ]
  },
  {
   "cell_type": "code",
   "execution_count": 14,
   "metadata": {
    "ExecuteTime": {
     "end_time": "2017-11-12T20:40:36.476000Z",
     "start_time": "2017-11-12T21:40:35.882000+01:00"
    },
    "slideshow": {
     "slide_type": "fragment"
    }
   },
   "outputs": [],
   "source": [
    "with open(\"twitterTimeline.json\", 'w+') as f:\n",
    "    for status in tweepy.Cursor(api.home_timeline).items(1):\n",
    "        json.dump(status._json,f)"
   ]
  },
  {
   "cell_type": "code",
   "execution_count": 15,
   "metadata": {
    "ExecuteTime": {
     "end_time": "2017-11-12T20:40:59.221000Z",
     "start_time": "2017-11-12T21:40:58.858000+01:00"
    },
    "slideshow": {
     "slide_type": "fragment"
    }
   },
   "outputs": [
    {
     "name": "stdout",
     "output_type": "stream",
     "text": [
      "Johannes Maucher\n",
      "VfB Stuttgart\n",
      "Steffen Seibert\n",
      "Hochschule der Medien (HdM)\n"
     ]
    }
   ],
   "source": [
    "for friend in list(tweepy.Cursor(api.friends).items()):\n",
    "    print(friend.name)"
   ]
  },
  {
   "cell_type": "code",
   "execution_count": 16,
   "metadata": {
    "ExecuteTime": {
     "end_time": "2017-11-12T20:41:06.640000Z",
     "start_time": "2017-11-12T21:41:06.165000+01:00"
    },
    "scrolled": true,
    "slideshow": {
     "slide_type": "slide"
    }
   },
   "outputs": [
    {
     "name": "stdout",
     "output_type": "stream",
     "text": [
      "----------\n",
      "This is just for testing tweepy api\n"
     ]
    }
   ],
   "source": [
    "for tweet in tweepy.Cursor(api.user_timeline).items(1):\n",
    "    print(\"-\"*10)\n",
    "    print(tweet.text)"
   ]
  },
  {
   "cell_type": "code",
   "execution_count": null,
   "metadata": {},
   "outputs": [],
   "source": []
  }
 ],
 "metadata": {
  "anaconda-cloud": {},
  "celltoolbar": "Slideshow",
  "kernelspec": {
   "display_name": "Python 3",
   "language": "python",
   "name": "python3"
  },
  "language_info": {
   "codemirror_mode": {
    "name": "ipython",
    "version": 3
   },
   "file_extension": ".py",
   "mimetype": "text/x-python",
   "name": "python",
   "nbconvert_exporter": "python",
   "pygments_lexer": "ipython3",
   "version": "3.8.0"
  },
  "nav_menu": {},
  "toc": {
   "base_numbering": 1,
   "nav_menu": {},
   "number_sections": true,
   "sideBar": true,
   "skip_h1_title": false,
   "title_cell": "Table of Contents",
   "title_sidebar": "Contents",
   "toc_cell": false,
   "toc_position": {},
   "toc_section_display": "block",
   "toc_window_display": false
  },
  "varInspector": {
   "cols": {
    "lenName": 16,
    "lenType": 16,
    "lenVar": 40
   },
   "kernels_config": {
    "python": {
     "delete_cmd_postfix": "",
     "delete_cmd_prefix": "del ",
     "library": "var_list.py",
     "varRefreshCmd": "print(var_dic_list())"
    },
    "r": {
     "delete_cmd_postfix": ") ",
     "delete_cmd_prefix": "rm(",
     "library": "var_list.r",
     "varRefreshCmd": "cat(var_dic_list()) "
    }
   },
   "types_to_exclude": [
    "module",
    "function",
    "builtin_function_or_method",
    "instance",
    "_Feature"
   ],
   "window_display": false
  }
 },
 "nbformat": 4,
 "nbformat_minor": 2
}