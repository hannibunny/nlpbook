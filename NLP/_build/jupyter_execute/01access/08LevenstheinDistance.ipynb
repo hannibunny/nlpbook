{
 "cells": [
  {
   "cell_type": "markdown",
   "metadata": {},
   "source": [
    "# Levensthein Distance Calculation\n",
    "\n",
    "* Author: Johannes Maucher\n",
    "* Last Update: 2020-09-09\n",
    "\n",
    "Define function for Levensthein distance:"
   ]
  },
  {
   "cell_type": "code",
   "execution_count": 1,
   "metadata": {
    "ExecuteTime": {
     "end_time": "2017-09-27T06:02:02.234000Z",
     "start_time": "2017-09-27T06:02:02.203000Z"
    },
    "execution": {
     "iopub.execute_input": "2020-09-23T12:45:22.293212Z",
     "iopub.status.busy": "2020-09-23T12:45:22.292449Z",
     "iopub.status.idle": "2020-09-23T12:45:22.294591Z",
     "shell.execute_reply": "2020-09-23T12:45:22.295047Z"
    }
   },
   "outputs": [],
   "source": [
    "def levdist(first, second):\n",
    "    if len(first) > len(second):\n",
    "        first, second = second, first\n",
    "    if len(second) == 0:\n",
    "        return len(first)\n",
    "    first_length = len(first) + 1\n",
    "    second_length = len(second) + 1\n",
    "    distance_matrix = [[0] * second_length for x in range(first_length)]\n",
    "    for i in range(first_length):\n",
    "       distance_matrix[i][0] = i\n",
    "    for j in range(second_length):\n",
    "       distance_matrix[0][j]=j\n",
    "    for i in range(1, first_length):\n",
    "        for j in range(1, second_length):\n",
    "            deletion = distance_matrix[i-1][j] + 1\n",
    "            insertion = distance_matrix[i][j-1] + 1\n",
    "            substitution = distance_matrix[i-1][j-1]\n",
    "            if first[i-1] != second[j-1]:\n",
    "                substitution += 2 #Use +=1 for Minimum Edit Distance\n",
    "            distance_matrix[i][j] = min(insertion, deletion, substitution)\n",
    "    return distance_matrix[first_length-1][second_length-1]"
   ]
  },
  {
   "cell_type": "markdown",
   "metadata": {},
   "source": [
    "Apply the function defined above for calculation of Levensthein distance between two words:"
   ]
  },
  {
   "cell_type": "code",
   "execution_count": 2,
   "metadata": {
    "ExecuteTime": {
     "end_time": "2017-09-27T06:02:05.107000Z",
     "start_time": "2017-09-27T06:02:05.091000Z"
    },
    "execution": {
     "iopub.execute_input": "2020-09-23T12:45:22.299666Z",
     "iopub.status.busy": "2020-09-23T12:45:22.298993Z",
     "iopub.status.idle": "2020-09-23T12:45:22.301433Z",
     "shell.execute_reply": "2020-09-23T12:45:22.301890Z"
    }
   },
   "outputs": [
    {
     "name": "stdout",
     "output_type": "stream",
     "text": [
      "2\n"
     ]
    }
   ],
   "source": [
    "print(levdist(\"rakete\",\"rokete\"))"
   ]
  },
  {
   "cell_type": "code",
   "execution_count": null,
   "metadata": {},
   "outputs": [],
   "source": []
  },
  {
   "cell_type": "code",
   "execution_count": null,
   "metadata": {},
   "outputs": [],
   "source": []
  }
 ],
 "metadata": {
  "kernelspec": {
   "display_name": "Python 3",
   "language": "python",
   "name": "python3"
  },
  "language_info": {
   "codemirror_mode": {
    "name": "ipython",
    "version": 3
   },
   "file_extension": ".py",
   "mimetype": "text/x-python",
   "name": "python",
   "nbconvert_exporter": "python",
   "pygments_lexer": "ipython3",
   "version": "3.7.7"
  },
  "nav_menu": {},
  "toc": {
   "base_numbering": 1,
   "nav_menu": {},
   "number_sections": true,
   "sideBar": true,
   "skip_h1_title": false,
   "title_cell": "Table of Contents",
   "title_sidebar": "Contents",
   "toc_cell": false,
   "toc_position": {},
   "toc_section_display": "block",
   "toc_window_display": false
  },
  "varInspector": {
   "cols": {
    "lenName": 16,
    "lenType": 16,
    "lenVar": 40
   },
   "kernels_config": {
    "python": {
     "delete_cmd_postfix": "",
     "delete_cmd_prefix": "del ",
     "library": "var_list.py",
     "varRefreshCmd": "print(var_dic_list())"
    },
    "r": {
     "delete_cmd_postfix": ") ",
     "delete_cmd_prefix": "rm(",
     "library": "var_list.r",
     "varRefreshCmd": "cat(var_dic_list()) "
    }
   },
   "types_to_exclude": [
    "module",
    "function",
    "builtin_function_or_method",
    "instance",
    "_Feature"
   ],
   "window_display": false
  }
 },
 "nbformat": 4,
 "nbformat_minor": 2
}