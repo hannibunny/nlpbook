{
 "cells": [
  {
   "cell_type": "markdown",
   "metadata": {
    "toc": true
   },
   "source": [
    "<h1>Table of Contents<span class=\"tocSkip\"></span></h1>\n",
    "<div class=\"toc\"><ul class=\"toc-item\"><li><span><a href=\"#CNN-for-IMDB-Movie-Review-classification\" data-toc-modified-id=\"CNN-for-IMDB-Movie-Review-classification-1\"><span class=\"toc-item-num\">1&nbsp;&nbsp;</span>CNN for IMDB Movie Review classification</a></span><ul class=\"toc-item\"><li><span><a href=\"#Access-IMDB-Dataset\" data-toc-modified-id=\"Access-IMDB-Dataset-1.1\"><span class=\"toc-item-num\">1.1&nbsp;&nbsp;</span>Access IMDB Dataset</a></span></li><li><span><a href=\"#Transform-data-into-sequences-of-integers\" data-toc-modified-id=\"Transform-data-into-sequences-of-integers-1.2\"><span class=\"toc-item-num\">1.2&nbsp;&nbsp;</span>Transform data into sequences of integers</a></span></li><li><span><a href=\"#Prepare-training--and-validation-data\" data-toc-modified-id=\"Prepare-training--and-validation-data-1.3\"><span class=\"toc-item-num\">1.3&nbsp;&nbsp;</span>Prepare training- and validation data</a></span></li><li><span><a href=\"#Load-glove-word-embeddings\" data-toc-modified-id=\"Load-glove-word-embeddings-1.4\"><span class=\"toc-item-num\">1.4&nbsp;&nbsp;</span>Load glove word-embeddings</a></span></li><li><span><a href=\"#Bidirectional-LSTM\" data-toc-modified-id=\"Bidirectional-LSTM-1.5\"><span class=\"toc-item-num\">1.5&nbsp;&nbsp;</span>Bidirectional LSTM</a></span><ul class=\"toc-item\"><li><span><a href=\"#Prepare-Embedding-Matrix-and--Layer\" data-toc-modified-id=\"Prepare-Embedding-Matrix-and--Layer-1.5.1\"><span class=\"toc-item-num\">1.5.1&nbsp;&nbsp;</span>Prepare Embedding Matrix and -Layer</a></span></li><li><span><a href=\"#Define-architecture\" data-toc-modified-id=\"Define-architecture-1.5.2\"><span class=\"toc-item-num\">1.5.2&nbsp;&nbsp;</span>Define architecture</a></span></li><li><span><a href=\"#Train-Network\" data-toc-modified-id=\"Train-Network-1.5.3\"><span class=\"toc-item-num\">1.5.3&nbsp;&nbsp;</span>Train Network</a></span></li></ul></li><li><span><a href=\"#Bidirectional-LSTM-architecture-with-Attention\" data-toc-modified-id=\"Bidirectional-LSTM-architecture-with-Attention-1.6\"><span class=\"toc-item-num\">1.6&nbsp;&nbsp;</span>Bidirectional LSTM architecture with Attention</a></span><ul class=\"toc-item\"><li><span><a href=\"#Define-Custom-Attention-Layer\" data-toc-modified-id=\"Define-Custom-Attention-Layer-1.6.1\"><span class=\"toc-item-num\">1.6.1&nbsp;&nbsp;</span>Define Custom Attention Layer</a></span></li><li><span><a href=\"#Prepare-Embedding-Matrix-and--Layer\" data-toc-modified-id=\"Prepare-Embedding-Matrix-and--Layer-1.6.2\"><span class=\"toc-item-num\">1.6.2&nbsp;&nbsp;</span>Prepare Embedding Matrix and -Layer</a></span></li><li><span><a href=\"#Define-Architecture\" data-toc-modified-id=\"Define-Architecture-1.6.3\"><span class=\"toc-item-num\">1.6.3&nbsp;&nbsp;</span>Define Architecture</a></span></li><li><span><a href=\"#Train-Network\" data-toc-modified-id=\"Train-Network-1.6.4\"><span class=\"toc-item-num\">1.6.4&nbsp;&nbsp;</span>Train Network</a></span></li></ul></li></ul></li></ul></div>"
   ]
  },
  {
   "cell_type": "markdown",
   "metadata": {},
   "source": [
    "# CNN for IMDB Movie Review classification\n",
    "* Author: Johannes Maucher\n",
    "* Last Update: 20.02.2018\n",
    "\n",
    "The IMDB Movie Review corpus is a standard dataset for the evaluation of text-classifiers. It consists of 25000 movies reviews from IMDB, labeled by sentiment (positive/negative). In a series of notebooks this dataset is applied for the development and evaluation of \n",
    "* [Convolutional Neural Networks (CNN)](K05CNN.ipynb)\n",
    "* [Bidirectional LSTMs](K05biDirectionalLSTM.ipynb) (this notebook)\n",
    "* [Hierarchical Attention Network (HAN)](K05HAN.ipynb)\n",
    "\n",
    "Goals of the experiments in these notebooks are\n",
    "* show how to configure advanced network architectures in Keras\n",
    "* compare these advanced architectures"
   ]
  },
  {
   "cell_type": "code",
   "execution_count": 1,
   "metadata": {
    "ExecuteTime": {
     "end_time": "2018-02-27T15:19:30.362891Z",
     "start_time": "2018-02-27T15:19:28.771281Z"
    }
   },
   "outputs": [
    {
     "name": "stderr",
     "output_type": "stream",
     "text": [
      "Using TensorFlow backend.\n"
     ]
    }
   ],
   "source": [
    "import numpy as np\n",
    "import pandas as pd\n",
    "from collections import defaultdict\n",
    "import re\n",
    "from bs4 import BeautifulSoup\n",
    "import sys\n",
    "import os\n",
    "\n",
    "os.environ['KERAS_BACKEND']='tensorflow'\n",
    "#os.environ['KERAS_BACKEND']='theano'\n",
    "\n",
    "from keras.preprocessing.text import Tokenizer\n",
    "from keras.preprocessing.sequence import pad_sequences\n",
    "from keras.utils.np_utils import to_categorical\n",
    "\n",
    "from keras.layers import Embedding\n",
    "from keras.layers import Dense, Input, Flatten\n",
    "from keras.layers import Conv1D, MaxPooling1D, Embedding, Concatenate, Dropout, LSTM, GRU, Bidirectional\n",
    "from keras.models import Model\n",
    "\n",
    "from keras import backend as K\n",
    "from keras.engine.topology import Layer, InputSpec\n",
    "from keras import initializers"
   ]
  },
  {
   "cell_type": "markdown",
   "metadata": {},
   "source": [
    "## Access IMDB Dataset"
   ]
  },
  {
   "cell_type": "code",
   "execution_count": 2,
   "metadata": {
    "ExecuteTime": {
     "end_time": "2018-02-27T15:19:30.370178Z",
     "start_time": "2018-02-27T15:19:30.365328Z"
    }
   },
   "outputs": [],
   "source": [
    "MAX_SEQUENCE_LENGTH = 1000\n",
    "MAX_NB_WORDS = 20000\n",
    "EMBEDDING_DIM = 100\n",
    "VALIDATION_SPLIT = 0.2"
   ]
  },
  {
   "cell_type": "code",
   "execution_count": 3,
   "metadata": {
    "ExecuteTime": {
     "end_time": "2018-02-27T15:19:30.385289Z",
     "start_time": "2018-02-27T15:19:30.373916Z"
    }
   },
   "outputs": [],
   "source": [
    "def clean_str(string):\n",
    "    \"\"\"\n",
    "    Tokenization/string cleaning for dataset\n",
    "    Every dataset is lower cased except\n",
    "    \"\"\"\n",
    "    string = re.sub(r\"\\\\\", \"\", string)    \n",
    "    string = re.sub(r\"\\'\", \"\", string)    \n",
    "    string = re.sub(r\"\\\"\", \"\", string)    \n",
    "    return string.strip().lower()"
   ]
  },
  {
   "cell_type": "code",
   "execution_count": 4,
   "metadata": {
    "ExecuteTime": {
     "end_time": "2018-02-27T15:19:51.097503Z",
     "start_time": "2018-02-27T15:19:30.388129Z"
    }
   },
   "outputs": [
    {
     "name": "stdout",
     "output_type": "stream",
     "text": [
      "(25000, 3)\n"
     ]
    }
   ],
   "source": [
    "#data_train = pd.read_csv('./Data/imdb/labeledTrainData.tsv', sep='\\t')\n",
    "data_train = pd.read_csv('../Data/imdb/labeledTrainData.tsv', sep='\\t')\n",
    "print(data_train.shape)\n",
    "\n",
    "texts = []\n",
    "labels = []\n",
    "\n",
    "for idx in range(data_train.review.shape[0]):\n",
    "    text = BeautifulSoup(data_train.review[idx],\"html5lib\")\n",
    "    texts.append(clean_str(text.get_text()))\n",
    "    labels.append(data_train.sentiment[idx])\n",
    "    "
   ]
  },
  {
   "cell_type": "markdown",
   "metadata": {},
   "source": [
    "##  Transform data into sequences of integers"
   ]
  },
  {
   "cell_type": "code",
   "execution_count": 5,
   "metadata": {
    "ExecuteTime": {
     "end_time": "2018-02-27T15:19:59.427631Z",
     "start_time": "2018-02-27T15:19:51.099732Z"
    }
   },
   "outputs": [
    {
     "name": "stdout",
     "output_type": "stream",
     "text": [
      "Found 81503 unique tokens.\n"
     ]
    },
    {
     "name": "stdout",
     "output_type": "stream",
     "text": [
      "Shape of data tensor: (25000, 1000)\n",
      "Shape of label tensor: (25000, 2)\n"
     ]
    }
   ],
   "source": [
    "tokenizer = Tokenizer(num_words=MAX_NB_WORDS)\n",
    "tokenizer.fit_on_texts(texts)\n",
    "sequences = tokenizer.texts_to_sequences(texts)\n",
    "\n",
    "word_index = tokenizer.word_index\n",
    "print('Found %s unique tokens.' % len(word_index))\n",
    "\n",
    "data = pad_sequences(sequences, maxlen=MAX_SEQUENCE_LENGTH)\n",
    "\n",
    "labels = to_categorical(np.asarray(labels))\n",
    "print('Shape of data tensor:', data.shape)\n",
    "print('Shape of label tensor:', labels.shape)"
   ]
  },
  {
   "cell_type": "markdown",
   "metadata": {},
   "source": [
    "## Prepare training- and validation data"
   ]
  },
  {
   "cell_type": "code",
   "execution_count": 6,
   "metadata": {
    "ExecuteTime": {
     "end_time": "2018-02-27T15:19:59.520372Z",
     "start_time": "2018-02-27T15:19:59.430941Z"
    }
   },
   "outputs": [
    {
     "name": "stdout",
     "output_type": "stream",
     "text": [
      "Traing and validation set number of positive and negative reviews\n",
      "[10039.  9961.]\n",
      "[2461. 2539.]\n"
     ]
    }
   ],
   "source": [
    "indices = np.arange(data.shape[0])\n",
    "np.random.shuffle(indices)\n",
    "data = data[indices]\n",
    "labels = labels[indices]\n",
    "nb_validation_samples = int(VALIDATION_SPLIT * data.shape[0])\n",
    "\n",
    "x_train = data[:-nb_validation_samples]\n",
    "y_train = labels[:-nb_validation_samples]\n",
    "x_val = data[-nb_validation_samples:]\n",
    "y_val = labels[-nb_validation_samples:]\n",
    "\n",
    "print('Traing and validation set number of positive and negative reviews')\n",
    "print (y_train.sum(axis=0))\n",
    "print (y_val.sum(axis=0))"
   ]
  },
  {
   "cell_type": "markdown",
   "metadata": {},
   "source": [
    "\n",
    "## Load glove word-embeddings"
   ]
  },
  {
   "cell_type": "code",
   "execution_count": 7,
   "metadata": {
    "ExecuteTime": {
     "end_time": "2018-02-27T15:20:09.584075Z",
     "start_time": "2018-02-27T15:19:59.523784Z"
    }
   },
   "outputs": [
    {
     "ename": "FileNotFoundError",
     "evalue": "[Errno 2] No such file or directory: '../../../../DataSets/glove/glove.6B.100d.txt'",
     "output_type": "error",
     "traceback": [
      "\u001b[0;31m---------------------------------------------------------------------------\u001b[0m",
      "\u001b[0;31mFileNotFoundError\u001b[0m                         Traceback (most recent call last)",
      "\u001b[0;32m<ipython-input-7-9ef61f88e7c8>\u001b[0m in \u001b[0;36m<module>\u001b[0;34m\u001b[0m\n\u001b[1;32m      2\u001b[0m \u001b[0mGLOVE_DIR\u001b[0m \u001b[0;34m=\u001b[0m \u001b[0;34m\"../../../../DataSets/glove\"\u001b[0m \u001b[0;31m#deepthought\u001b[0m\u001b[0;34m\u001b[0m\u001b[0;34m\u001b[0m\u001b[0m\n\u001b[1;32m      3\u001b[0m \u001b[0membeddings_index\u001b[0m \u001b[0;34m=\u001b[0m \u001b[0;34m{\u001b[0m\u001b[0;34m}\u001b[0m\u001b[0;34m\u001b[0m\u001b[0;34m\u001b[0m\u001b[0m\n\u001b[0;32m----> 4\u001b[0;31m \u001b[0mf\u001b[0m \u001b[0;34m=\u001b[0m \u001b[0mopen\u001b[0m\u001b[0;34m(\u001b[0m\u001b[0mos\u001b[0m\u001b[0;34m.\u001b[0m\u001b[0mpath\u001b[0m\u001b[0;34m.\u001b[0m\u001b[0mjoin\u001b[0m\u001b[0;34m(\u001b[0m\u001b[0mGLOVE_DIR\u001b[0m\u001b[0;34m,\u001b[0m \u001b[0;34m'glove.6B.100d.txt'\u001b[0m\u001b[0;34m)\u001b[0m\u001b[0;34m)\u001b[0m\u001b[0;34m\u001b[0m\u001b[0;34m\u001b[0m\u001b[0m\n\u001b[0m\u001b[1;32m      5\u001b[0m \u001b[0;32mfor\u001b[0m \u001b[0mline\u001b[0m \u001b[0;32min\u001b[0m \u001b[0mf\u001b[0m\u001b[0;34m:\u001b[0m\u001b[0;34m\u001b[0m\u001b[0;34m\u001b[0m\u001b[0m\n\u001b[1;32m      6\u001b[0m     \u001b[0mvalues\u001b[0m \u001b[0;34m=\u001b[0m \u001b[0mline\u001b[0m\u001b[0;34m.\u001b[0m\u001b[0msplit\u001b[0m\u001b[0;34m(\u001b[0m\u001b[0;34m)\u001b[0m\u001b[0;34m\u001b[0m\u001b[0;34m\u001b[0m\u001b[0m\n",
      "\u001b[0;31mFileNotFoundError\u001b[0m: [Errno 2] No such file or directory: '../../../../DataSets/glove/glove.6B.100d.txt'"
     ]
    }
   ],
   "source": [
    "#GLOVE_DIR = \"./Data/glove.6B\"\n",
    "GLOVE_DIR = \"../../../../DataSets/glove\" #deepthought\n",
    "embeddings_index = {}\n",
    "f = open(os.path.join(GLOVE_DIR, 'glove.6B.100d.txt'))\n",
    "for line in f:\n",
    "    values = line.split()\n",
    "    word = values[0]\n",
    "    coefs = np.asarray(values[1:], dtype='float32')\n",
    "    embeddings_index[word] = coefs\n",
    "f.close()\n",
    "\n",
    "print('Total %s word vectors.' % len(embeddings_index))"
   ]
  },
  {
   "cell_type": "markdown",
   "metadata": {},
   "source": [
    "##  Bidirectional LSTM\n",
    "###  Prepare Embedding Matrix and -Layer"
   ]
  },
  {
   "cell_type": "code",
   "execution_count": 9,
   "metadata": {
    "ExecuteTime": {
     "end_time": "2018-02-27T13:21:00.745026Z",
     "start_time": "2018-02-27T13:21:00.548555Z"
    }
   },
   "outputs": [],
   "source": [
    "embedding_matrix = np.random.random((len(word_index) + 1, EMBEDDING_DIM))\n",
    "for word, i in word_index.items():\n",
    "    embedding_vector = embeddings_index.get(word)\n",
    "    if embedding_vector is not None:\n",
    "        # words not found in embedding index will be all-zeros.\n",
    "        embedding_matrix[i] = embedding_vector\n",
    "        \n",
    "embedding_layer = Embedding(len(word_index) + 1,\n",
    "                            EMBEDDING_DIM,\n",
    "                            weights=[embedding_matrix],\n",
    "                            input_length=MAX_SEQUENCE_LENGTH,\n",
    "                            trainable=False)"
   ]
  },
  {
   "cell_type": "markdown",
   "metadata": {},
   "source": [
    "### Define architecture"
   ]
  },
  {
   "cell_type": "code",
   "execution_count": 10,
   "metadata": {
    "ExecuteTime": {
     "end_time": "2018-02-27T13:21:06.330828Z",
     "start_time": "2018-02-27T13:21:02.832314Z"
    }
   },
   "outputs": [],
   "source": [
    "sequence_input = Input(shape=(MAX_SEQUENCE_LENGTH,), dtype='int32')\n",
    "embedded_sequences = embedding_layer(sequence_input)\n",
    "l_lstm = Bidirectional(LSTM(100))(embedded_sequences)\n",
    "preds = Dense(2, activation='softmax')(l_lstm)\n",
    "model = Model(sequence_input, preds)"
   ]
  },
  {
   "cell_type": "markdown",
   "metadata": {},
   "source": [
    "### Train Network"
   ]
  },
  {
   "cell_type": "code",
   "execution_count": 11,
   "metadata": {
    "ExecuteTime": {
     "end_time": "2018-02-27T13:21:09.583585Z",
     "start_time": "2018-02-27T13:21:09.391478Z"
    }
   },
   "outputs": [
    {
     "name": "stdout",
     "output_type": "stream",
     "text": [
      "model fitting - Bidirectional LSTM\n",
      "_________________________________________________________________\n",
      "Layer (type)                 Output Shape              Param #   \n",
      "=================================================================\n",
      "input_1 (InputLayer)         (None, 1000)              0         \n",
      "_________________________________________________________________\n",
      "embedding_1 (Embedding)      (None, 1000, 100)         8150400   \n",
      "_________________________________________________________________\n",
      "bidirectional_1 (Bidirection (None, 200)               160800    \n",
      "_________________________________________________________________\n",
      "dense_1 (Dense)              (None, 2)                 402       \n",
      "=================================================================\n",
      "Total params: 8,311,602\n",
      "Trainable params: 161,202\n",
      "Non-trainable params: 8,150,400\n",
      "_________________________________________________________________\n"
     ]
    }
   ],
   "source": [
    "model.compile(loss='categorical_crossentropy',\n",
    "              optimizer='rmsprop',\n",
    "              metrics=['categorical_accuracy'])\n",
    "\n",
    "print(\"model fitting - Bidirectional LSTM\")\n",
    "model.summary()"
   ]
  },
  {
   "cell_type": "code",
   "execution_count": 12,
   "metadata": {
    "ExecuteTime": {
     "end_time": "2018-02-27T13:34:04.262873Z",
     "start_time": "2018-02-27T13:21:16.395770Z"
    }
   },
   "outputs": [
    {
     "name": "stdout",
     "output_type": "stream",
     "text": [
      "Train on 20000 samples, validate on 5000 samples\n",
      "Epoch 1/10\n",
      "20000/20000 [==============================] - 877s 44ms/step - loss: 0.5847 - categorical_accuracy: 0.6919 - val_loss: 0.4495 - val_categorical_accuracy: 0.7980\n",
      "Epoch 2/10\n",
      "20000/20000 [==============================] - 878s 44ms/step - loss: 0.3609 - categorical_accuracy: 0.8435 - val_loss: 0.3571 - val_categorical_accuracy: 0.8364\n",
      "Epoch 4/10\n",
      "20000/20000 [==============================] - 857s 43ms/step - loss: 0.3172 - categorical_accuracy: 0.8633 - val_loss: 0.3321 - val_categorical_accuracy: 0.8546\n",
      "Epoch 5/10\n",
      "20000/20000 [==============================] - 849s 42ms/step - loss: 0.2869 - categorical_accuracy: 0.8825 - val_loss: 0.2976 - val_categorical_accuracy: 0.8708\n",
      "Epoch 6/10\n",
      "20000/20000 [==============================] - 852s 43ms/step - loss: 0.2621 - categorical_accuracy: 0.8939 - val_loss: 0.2910 - val_categorical_accuracy: 0.8782\n",
      "Epoch 7/10\n",
      "20000/20000 [==============================] - 850s 43ms/step - loss: 0.2404 - categorical_accuracy: 0.9037 - val_loss: 0.2865 - val_categorical_accuracy: 0.8774\n",
      "Epoch 8/10\n",
      "20000/20000 [==============================] - 853s 43ms/step - loss: 0.2169 - categorical_accuracy: 0.9139 - val_loss: 0.3339 - val_categorical_accuracy: 0.8650\n",
      "Epoch 9/10\n",
      "20000/20000 [==============================] - 851s 43ms/step - loss: 0.1963 - categorical_accuracy: 0.9223 - val_loss: 0.2994 - val_categorical_accuracy: 0.8838\n",
      "Epoch 10/10\n",
      "20000/20000 [==============================] - 848s 42ms/step - loss: 0.1733 - categorical_accuracy: 0.9325 - val_loss: 0.2970 - val_categorical_accuracy: 0.8868\n"
     ]
    }
   ],
   "source": [
    "history=model.fit(x_train, y_train, validation_data=(x_val, y_val),\n",
    "          epochs=10, batch_size=50)"
   ]
  },
  {
   "cell_type": "code",
   "execution_count": 20,
   "metadata": {},
   "outputs": [
    {
     "data": {
      "image/png": "[encoded data removed]",
      "text/plain": [
       "<Figure size 432x288 with 1 Axes>"
      ]
     },
     "metadata": {
      "filenames": {
       "image/png": "/Users/johannes/gitprojects/nlpbook/nlp/_build/jupyter_execute/07neuralnetworks/05biDirectionalLSTM_20_0.png"
      }
     },
     "output_type": "display_data"
    }
   ],
   "source": [
    "%matplotlib inline\n",
    "from matplotlib import pyplot as plt\n",
    "acc = history.history['categorical_accuracy']\n",
    "val_acc = history.history['val_categorical_accuracy']\n",
    "min_val_acc=np.min(val_acc)\n",
    "\n",
    "epochs = range(1, len(acc) + 1)\n",
    "\n",
    "plt.figure()\n",
    "\n",
    "plt.plot(epochs[0:], acc[0:], 'bo', label='Training accuracy')\n",
    "plt.plot(epochs[0:], val_acc[0:], 'b', label='Validation accuracy')\n",
    "plt.title('Training and validation accuracy')\n",
    "plt.legend()\n",
    "\n",
    "plt.show()"
   ]
  },
  {
   "cell_type": "markdown",
   "metadata": {},
   "source": [
    "## Bidirectional LSTM architecture with Attention\n",
    "### Define Custom Attention Layer\n",
    "Since Keras does not provide an attention-layer, we have to implement this type on our own. The general concept of writing custom Keras layers is described in the corresponding [Keras documentation](https://keras.io/layers/writing-your-own-keras-layers/). \n",
    "\n",
    "Any custom layer class inherits from the layer-class and must implement three methods:\n",
    "\n",
    "- `build(input_shape)`: this is where you will define your weights. This method must set `self.built = True`, which can be done by calling `super([Layer], self).build()`.\n",
    "- `call(x)`: this is where the layer's logic lives. Unless you want your layer to support masking, you only have to care about the first argument passed to call: the input tensor.\n",
    "- `compute_output_shape(input_shape)`: in case your layer modifies the shape of its input, you should specify here the shape transformation logic. This allows Keras to do automatic shape inference."
   ]
  },
  {
   "cell_type": "code",
   "execution_count": 21,
   "metadata": {},
   "outputs": [],
   "source": [
    "from keras import regularizers, constraints\n",
    "\n",
    "\n",
    "class Attention(Layer):\n",
    "    def __init__(self, step_dim,\n",
    "                 W_regularizer=None, b_regularizer=None,\n",
    "                 W_constraint=None, b_constraint=None,\n",
    "                 bias=True, **kwargs):\n",
    "        self.supports_masking = True\n",
    "        self.init = initializers.get('glorot_uniform')\n",
    "\n",
    "        self.W_regularizer = regularizers.get(W_regularizer)\n",
    "        self.b_regularizer = regularizers.get(b_regularizer)\n",
    "\n",
    "        self.W_constraint = constraints.get(W_constraint)\n",
    "        self.b_constraint = constraints.get(b_constraint)\n",
    "\n",
    "        self.bias = bias\n",
    "        self.step_dim = step_dim\n",
    "        self.features_dim = 0\n",
    "        super(Attention, self).__init__(**kwargs)\n",
    "\n",
    "    def build(self, input_shape):\n",
    "        assert len(input_shape) == 3\n",
    "\n",
    "        self.W = self.add_weight((input_shape[-1],),\n",
    "                                 initializer=self.init,\n",
    "                                 name='{}_W'.format(self.name),\n",
    "                                 regularizer=self.W_regularizer,\n",
    "                                 constraint=self.W_constraint)\n",
    "        self.features_dim = input_shape[-1]\n",
    "\n",
    "        if self.bias:\n",
    "            self.b = self.add_weight((input_shape[1],),\n",
    "                                     initializer='zero',\n",
    "                                     name='{}_b'.format(self.name),\n",
    "                                     regularizer=self.b_regularizer,\n",
    "                                     constraint=self.b_constraint)\n",
    "        else:\n",
    "            self.b = None\n",
    "\n",
    "        self.built = True\n",
    "\n",
    "    def compute_mask(self, input, input_mask=None):\n",
    "        return None\n",
    "\n",
    "    def call(self, x, mask=None):\n",
    "        features_dim = self.features_dim\n",
    "        step_dim = self.step_dim\n",
    "\n",
    "        eij = K.reshape(K.dot(K.reshape(x, (-1, features_dim)),\n",
    "                        K.reshape(self.W, (features_dim, 1))), (-1, step_dim))\n",
    "\n",
    "        if self.bias:\n",
    "            eij += self.b\n",
    "\n",
    "        eij = K.tanh(eij)\n",
    "\n",
    "        a = K.exp(eij)\n",
    "\n",
    "        if mask is not None:\n",
    "            a *= K.cast(mask, K.floatx())\n",
    "\n",
    "        a /= K.cast(K.sum(a, axis=1, keepdims=True) + K.epsilon(), K.floatx())\n",
    "\n",
    "        a = K.expand_dims(a)\n",
    "        weighted_input = x * a\n",
    "        return K.sum(weighted_input, axis=1)\n",
    "\n",
    "    def compute_output_shape(self, input_shape):\n",
    "        return input_shape[0],  self.features_dim"
   ]
  },
  {
   "cell_type": "markdown",
   "metadata": {},
   "source": [
    "### Prepare Embedding Matrix and -Layer"
   ]
  },
  {
   "cell_type": "code",
   "execution_count": 22,
   "metadata": {
    "ExecuteTime": {
     "end_time": "2018-02-27T15:23:53.123233Z",
     "start_time": "2018-02-27T15:23:52.879037Z"
    }
   },
   "outputs": [],
   "source": [
    "embedding_matrix = np.random.random((len(word_index) + 1, EMBEDDING_DIM))\n",
    "for word, i in word_index.items():\n",
    "    embedding_vector = embeddings_index.get(word)\n",
    "    if embedding_vector is not None:\n",
    "        # words not found in embedding index will be all-zeros.\n",
    "        embedding_matrix[i] = embedding_vector\n",
    "        \n",
    "embedding_layer = Embedding(len(word_index) + 1,\n",
    "                            EMBEDDING_DIM,\n",
    "                            weights=[embedding_matrix],\n",
    "                            input_length=MAX_SEQUENCE_LENGTH,\n",
    "                            trainable=False)"
   ]
  },
  {
   "cell_type": "markdown",
   "metadata": {},
   "source": [
    "### Define Architecture"
   ]
  },
  {
   "cell_type": "code",
   "execution_count": 23,
   "metadata": {
    "ExecuteTime": {
     "end_time": "2018-02-27T15:23:55.006238Z",
     "start_time": "2018-02-27T15:23:54.346125Z"
    }
   },
   "outputs": [],
   "source": [
    "sequence_input = Input(shape=(MAX_SEQUENCE_LENGTH,), dtype='int32')\n",
    "embedded_sequences = embedding_layer(sequence_input)\n",
    "l_gru = Bidirectional(GRU(100, return_sequences=True))(embedded_sequences)\n",
    "l_att = Attention(MAX_SEQUENCE_LENGTH)(l_gru)\n",
    "preds = Dense(2, activation='softmax')(l_att)\n",
    "model = Model(sequence_input, preds)"
   ]
  },
  {
   "cell_type": "markdown",
   "metadata": {},
   "source": [
    "### Train Network"
   ]
  },
  {
   "cell_type": "code",
   "execution_count": 24,
   "metadata": {
    "ExecuteTime": {
     "end_time": "2018-02-27T15:23:57.187022Z",
     "start_time": "2018-02-27T15:23:57.168092Z"
    }
   },
   "outputs": [],
   "source": [
    "model.compile(loss='categorical_crossentropy',\n",
    "              optimizer='rmsprop',\n",
    "              metrics=['categorical_accuracy'])"
   ]
  },
  {
   "cell_type": "code",
   "execution_count": 18,
   "metadata": {
    "ExecuteTime": {
     "end_time": "2018-02-27T15:24:15.057614Z",
     "start_time": "2018-02-27T15:23:58.148013Z"
    },
    "scrolled": false
   },
   "outputs": [
    {
     "name": "stdout",
     "output_type": "stream",
     "text": [
      "model fitting - attention GRU network\n",
      "_________________________________________________________________\n",
      "Layer (type)                 Output Shape              Param #   \n",
      "=================================================================\n",
      "input_2 (InputLayer)         (None, 1000)              0         \n",
      "_________________________________________________________________\n",
      "embedding_2 (Embedding)      (None, 1000, 100)         8150400   \n",
      "_________________________________________________________________\n",
      "bidirectional_2 (Bidirection (None, 1000, 200)         120600    \n",
      "_________________________________________________________________\n",
      "attention_1 (Attention)      (None, 200)               1200      \n",
      "_________________________________________________________________\n",
      "dense_2 (Dense)              (None, 2)                 402       \n",
      "=================================================================\n",
      "Total params: 8,272,602\n",
      "Trainable params: 122,202\n",
      "Non-trainable params: 8,150,400\n",
      "_________________________________________________________________\n",
      "Train on 20000 samples, validate on 5000 samples\n",
      "Epoch 1/10\n",
      "20000/20000 [==============================] - 706s 35ms/step - loss: 0.5352 - categorical_accuracy: 0.7211 - val_loss: 0.3836 - val_categorical_accuracy: 0.8326\n",
      "Epoch 2/10\n",
      "20000/20000 [==============================] - 708s 35ms/step - loss: 0.3615 - categorical_accuracy: 0.8444 - val_loss: 0.3253 - val_categorical_accuracy: 0.8584\n",
      "Epoch 3/10\n",
      "20000/20000 [==============================] - 706s 35ms/step - loss: 0.3093 - categorical_accuracy: 0.8680 - val_loss: 0.2999 - val_categorical_accuracy: 0.8722\n",
      "Epoch 4/10\n",
      "20000/20000 [==============================] - 709s 35ms/step - loss: 0.2776 - categorical_accuracy: 0.8838 - val_loss: 0.3332 - val_categorical_accuracy: 0.8726\n",
      "Epoch 5/10\n",
      "20000/20000 [==============================] - 706s 35ms/step - loss: 0.2527 - categorical_accuracy: 0.8957 - val_loss: 0.3236 - val_categorical_accuracy: 0.8686\n",
      "Epoch 6/10\n",
      "20000/20000 [==============================] - 707s 35ms/step - loss: 0.2242 - categorical_accuracy: 0.9114 - val_loss: 0.3592 - val_categorical_accuracy: 0.8564\n",
      "Epoch 7/10\n",
      "20000/20000 [==============================] - 706s 35ms/step - loss: 0.1984 - categorical_accuracy: 0.9246 - val_loss: 0.3431 - val_categorical_accuracy: 0.8698\n",
      "Epoch 8/10\n",
      "20000/20000 [==============================] - 708s 35ms/step - loss: 0.1719 - categorical_accuracy: 0.9329 - val_loss: 0.3645 - val_categorical_accuracy: 0.8686\n",
      "Epoch 9/10\n",
      "20000/20000 [==============================] - 707s 35ms/step - loss: 0.1538 - categorical_accuracy: 0.9428 - val_loss: 0.3483 - val_categorical_accuracy: 0.8746\n",
      "Epoch 10/10\n",
      "20000/20000 [==============================] - 705s 35ms/step - loss: 0.1279 - categorical_accuracy: 0.9528 - val_loss: 0.3570 - val_categorical_accuracy: 0.8768\n"
     ]
    },
    {
     "data": {
      "text/plain": [
       "<keras.callbacks.History at 0x7f2a4c6a6588>"
      ]
     },
     "execution_count": 18,
     "metadata": {},
     "output_type": "execute_result"
    }
   ],
   "source": [
    "print(\"model fitting - attention GRU network\")\n",
    "model.summary()\n",
    "model.fit(x_train, y_train, validation_data=(x_val, y_val),\n",
    "          epochs=10, batch_size=50)"
   ]
  },
  {
   "cell_type": "code",
   "execution_count": 19,
   "metadata": {},
   "outputs": [
    {
     "data": {
      "image/png": "[encoded data removed]",
      "text/plain": [
       "<Figure size 432x288 with 1 Axes>"
      ]
     },
     "metadata": {
      "filenames": {
       "image/png": "/Users/johannes/gitprojects/nlpbook/nlp/_build/jupyter_execute/07neuralnetworks/05biDirectionalLSTM_30_0.png"
      }
     },
     "output_type": "display_data"
    }
   ],
   "source": [
    "%matplotlib inline\n",
    "from matplotlib import pyplot as plt\n",
    "acc = history.history['categorical_accuracy']\n",
    "val_acc = history.history['val_categorical_accuracy']\n",
    "min_val_acc=np.min(val_acc)\n",
    "\n",
    "epochs = range(1, len(acc) + 1)\n",
    "\n",
    "plt.figure()\n",
    "\n",
    "plt.plot(epochs[0:], acc[0:], 'bo', label='Training accuracy')\n",
    "plt.plot(epochs[0:], val_acc[0:], 'b', label='Validation accuracy')\n",
    "plt.title('Training and validation accuracy')\n",
    "plt.legend()\n",
    "\n",
    "plt.show()"
   ]
  },
  {
   "cell_type": "code",
   "execution_count": null,
   "metadata": {},
   "outputs": [],
   "source": []
  }
 ],
 "metadata": {
  "kernelspec": {
   "display_name": "Python 3",
   "language": "python",
   "name": "python3"
  },
  "language_info": {
   "codemirror_mode": {
    "name": "ipython",
    "version": 3
   },
   "file_extension": ".py",
   "mimetype": "text/x-python",
   "name": "python",
   "nbconvert_exporter": "python",
   "pygments_lexer": "ipython3",
   "version": "3.7.5"
  },
  "nav_menu": {},
  "toc": {
   "base_numbering": 1,
   "nav_menu": {},
   "number_sections": true,
   "sideBar": true,
   "skip_h1_title": false,
   "title_cell": "Table of Contents",
   "title_sidebar": "Contents",
   "toc_cell": true,
   "toc_position": {},
   "toc_section_display": "block",
   "toc_window_display": false
  }
 },
 "nbformat": 4,
 "nbformat_minor": 2
}